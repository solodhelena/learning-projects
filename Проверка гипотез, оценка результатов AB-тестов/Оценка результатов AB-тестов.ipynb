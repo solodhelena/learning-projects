{
 "cells": [
  {
   "cell_type": "markdown",
   "metadata": {},
   "source": [
    "# Проверка гипотез по увеличению выручки в интернет-магазине —оценить результаты A/B теста"
   ]
  },
  {
   "cell_type": "markdown",
   "metadata": {},
   "source": [
    "## Описание проекта\n",
    "Контекст\n",
    "\n",
    "Вы — аналитик крупного интернет-магазина. Вместе с отделом маркетинга вы подготовили список гипотез для увеличения выручки.\n",
    "Приоритизируйте гипотезы, запустите A/B-тест и проанализируйте результаты."
   ]
  },
  {
   "cell_type": "markdown",
   "metadata": {},
   "source": [
    "Проект будет состоять из двух частей: \n",
    "\n",
    "Первая часть: Приоретизация гипотез методами ICE и RICE. Выводы по итогам приоретизации.\n",
    "\n",
    "Данные для первой части:\n",
    "\n",
    "Файл /datasets/hypothesis.csv.\n",
    "\n",
    "Hypothesis — краткое описание гипотезы;\n",
    "\n",
    "Reach — охват пользователей по 10-балльной шкале;\n",
    "\n",
    "Impact — влияние на пользователей по 10-балльной шкале;\n",
    "\n",
    "Confidence — уверенность в гипотезе по 10-балльной шкале;\n",
    "\n",
    "Efforts — затраты ресурсов на проверку гипотезы по 10-балльной шкале. Чем больше значение Efforts, тем дороже проверка гипотезы.\n",
    "\n",
    "Вторая часть: Анализ A/B-теста: \n",
    "\n",
    "1. Постройте график кумулятивной выручки по группам. Сделайте выводы и предположения.\n",
    "2. Постройте график кумулятивного среднего чека по группам. Сделайте выводы и предположения.\n",
    "3. Постройте график относительного изменения кумулятивного среднего чека группы B к группе A. Сделайте выводы и предположения.\n",
    "4. Постройте график кумулятивной конверсии по группам. Сделайте выводы и предположения.\n",
    "5. Постройте график относительного изменения кумулятивной конверсии группы B к группе A. Сделайте выводы и предположения.\n",
    "6. Постройте точечный график количества заказов по пользователям. Сделайте выводы и предположения.\n",
    "7. Посчитайте 95-й и 99-й перцентили количества заказов на пользователя. Выберите границу для определения аномальных пользователей.\n",
    "8. Постройте точечный график стоимостей заказов. Сделайте выводы и предположения.\n",
    "9. Посчитайте 95-й и 99-й перцентили стоимости заказов. Выберите границу для определения аномальных заказов.\n",
    "10. Посчитайте статистическую значимость различий в конверсии между группами по «сырым» данным. Сделайте выводы и предположения.\n",
    "11. Посчитайте статистическую значимость различий в среднем чеке заказа между группами по «сырым» данным. Сделайте выводы и предположения.\n",
    "12. Посчитайте статистическую значимость различий в конверсии между группами по «очищенным» данным. Сделайте выводы и предположения.\n",
    "13. Посчитайте статистическую значимость различий в среднем чеке заказа между группами по «очищенным» данным. Сделайте выводы и предположения.\n",
    "14. Примите решение по результатам теста и объясните его. Варианты решений: 1. Остановить тест, зафиксировать победу одной из групп. 2. Остановить тест, зафиксировать отсутствие различий между группами. 3. Продолжить тест.\n",
    "\n",
    "Данные для второй части: \n",
    "\n",
    "Файл /datasets/orders.csv. \n",
    "\n",
    "transactionId — идентификатор заказа;\n",
    "\n",
    "visitorId — идентификатор пользователя, совершившего заказ;\n",
    "\n",
    "date — дата, когда был совершён заказ;\n",
    "\n",
    "revenue — выручка заказа;\n",
    "\n",
    "group — группа A/B-теста, в которую попал заказ.\n",
    "\n",
    "Файл /datasets/visitors.csv.\n",
    "\n",
    "date — дата;\n",
    "\n",
    "group — группа A/B-теста;\n",
    "\n",
    "visitors — количество пользователей в указанную дату в указанной группе A/B-теста."
   ]
  },
  {
   "cell_type": "markdown",
   "metadata": {},
   "source": [
    "## Описание данных\n"
   ]
  },
  {
   "cell_type": "code",
   "execution_count": 1,
   "metadata": {},
   "outputs": [],
   "source": [
    "# Импортируем необходимые для проекта библиотеки. \n",
    "\n",
    "import pandas as pd\n",
    "import datetime as dt\n",
    "import numpy as np\n",
    "from scipy import stats as st\n",
    "import matplotlib.pyplot as plt"
   ]
  },
  {
   "cell_type": "code",
   "execution_count": 4,
   "metadata": {},
   "outputs": [],
   "source": [
    "# Сохраним в переменные информацию из представленных для анализа файлов.\n",
    "\n",
    "hypothesis = pd.read_csv('C:\\\\Users\\\\1325165\\\\Desktop\\\\prodject\\\\принятие решений в бизнесе\\\\hypothesis.csv')\n",
    "\n",
    "orders = pd.read_csv('C:\\\\Users\\\\1325165\\\\Desktop\\\\prodject\\\\принятие решений в бизнесе\\\\orders.csv')\n",
    "\n",
    "visitors = pd.read_csv('C:\\\\Users\\\\1325165\\\\Desktop\\\\prodject\\\\принятие решений в бизнесе\\\\visitors.csv', sep=',')"
   ]
  },
  {
   "cell_type": "code",
   "execution_count": 5,
   "metadata": {
    "scrolled": false
   },
   "outputs": [
    {
     "name": "stdout",
     "output_type": "stream",
     "text": [
      "<class 'pandas.core.frame.DataFrame'>\n",
      "RangeIndex: 9 entries, 0 to 8\n",
      "Data columns (total 5 columns):\n",
      " #   Column      Non-Null Count  Dtype \n",
      "---  ------      --------------  ----- \n",
      " 0   Hypothesis  9 non-null      object\n",
      " 1   Reach       9 non-null      int64 \n",
      " 2   Impact      9 non-null      int64 \n",
      " 3   Confidence  9 non-null      int64 \n",
      " 4   Efforts     9 non-null      int64 \n",
      "dtypes: int64(4), object(1)\n",
      "memory usage: 488.0+ bytes\n",
      "<class 'pandas.core.frame.DataFrame'>\n",
      "RangeIndex: 1197 entries, 0 to 1196\n",
      "Data columns (total 5 columns):\n",
      " #   Column         Non-Null Count  Dtype \n",
      "---  ------         --------------  ----- \n",
      " 0   transactionId  1197 non-null   int64 \n",
      " 1   visitorId      1197 non-null   int64 \n",
      " 2   date           1197 non-null   object\n",
      " 3   revenue        1197 non-null   int64 \n",
      " 4   group          1197 non-null   object\n",
      "dtypes: int64(3), object(2)\n",
      "memory usage: 46.9+ KB\n",
      "<class 'pandas.core.frame.DataFrame'>\n",
      "RangeIndex: 62 entries, 0 to 61\n",
      "Data columns (total 3 columns):\n",
      " #   Column    Non-Null Count  Dtype \n",
      "---  ------    --------------  ----- \n",
      " 0   date      62 non-null     object\n",
      " 1   group     62 non-null     object\n",
      " 2   visitors  62 non-null     int64 \n",
      "dtypes: int64(1), object(2)\n",
      "memory usage: 1.6+ KB\n"
     ]
    }
   ],
   "source": [
    "hypothesis.info()\n",
    "\n",
    "orders.info()\n",
    "\n",
    "visitors.info()"
   ]
  },
  {
   "cell_type": "code",
   "execution_count": 6,
   "metadata": {},
   "outputs": [
    {
     "data": {
      "text/html": [
       "<div>\n",
       "<style scoped>\n",
       "    .dataframe tbody tr th:only-of-type {\n",
       "        vertical-align: middle;\n",
       "    }\n",
       "\n",
       "    .dataframe tbody tr th {\n",
       "        vertical-align: top;\n",
       "    }\n",
       "\n",
       "    .dataframe thead th {\n",
       "        text-align: right;\n",
       "    }\n",
       "</style>\n",
       "<table border=\"1\" class=\"dataframe\">\n",
       "  <thead>\n",
       "    <tr style=\"text-align: right;\">\n",
       "      <th></th>\n",
       "      <th>Hypothesis</th>\n",
       "      <th>Reach</th>\n",
       "      <th>Impact</th>\n",
       "      <th>Confidence</th>\n",
       "      <th>Efforts</th>\n",
       "    </tr>\n",
       "  </thead>\n",
       "  <tbody>\n",
       "    <tr>\n",
       "      <th>0</th>\n",
       "      <td>Добавить два новых канала привлечения трафика,...</td>\n",
       "      <td>3</td>\n",
       "      <td>10</td>\n",
       "      <td>8</td>\n",
       "      <td>6</td>\n",
       "    </tr>\n",
       "    <tr>\n",
       "      <th>1</th>\n",
       "      <td>Запустить собственную службу доставки, что сок...</td>\n",
       "      <td>2</td>\n",
       "      <td>5</td>\n",
       "      <td>4</td>\n",
       "      <td>10</td>\n",
       "    </tr>\n",
       "    <tr>\n",
       "      <th>2</th>\n",
       "      <td>Добавить блоки рекомендаций товаров на сайт ин...</td>\n",
       "      <td>8</td>\n",
       "      <td>3</td>\n",
       "      <td>7</td>\n",
       "      <td>3</td>\n",
       "    </tr>\n",
       "    <tr>\n",
       "      <th>3</th>\n",
       "      <td>Изменить структура категорий, что увеличит кон...</td>\n",
       "      <td>8</td>\n",
       "      <td>3</td>\n",
       "      <td>3</td>\n",
       "      <td>8</td>\n",
       "    </tr>\n",
       "    <tr>\n",
       "      <th>4</th>\n",
       "      <td>Изменить цвет фона главной страницы, чтобы уве...</td>\n",
       "      <td>3</td>\n",
       "      <td>1</td>\n",
       "      <td>1</td>\n",
       "      <td>1</td>\n",
       "    </tr>\n",
       "    <tr>\n",
       "      <th>5</th>\n",
       "      <td>Добавить страницу отзывов клиентов о магазине,...</td>\n",
       "      <td>3</td>\n",
       "      <td>2</td>\n",
       "      <td>2</td>\n",
       "      <td>3</td>\n",
       "    </tr>\n",
       "    <tr>\n",
       "      <th>6</th>\n",
       "      <td>Показать на главной странице баннеры с актуаль...</td>\n",
       "      <td>5</td>\n",
       "      <td>3</td>\n",
       "      <td>8</td>\n",
       "      <td>3</td>\n",
       "    </tr>\n",
       "    <tr>\n",
       "      <th>7</th>\n",
       "      <td>Добавить форму подписки на все основные страни...</td>\n",
       "      <td>10</td>\n",
       "      <td>7</td>\n",
       "      <td>8</td>\n",
       "      <td>5</td>\n",
       "    </tr>\n",
       "    <tr>\n",
       "      <th>8</th>\n",
       "      <td>Запустить акцию, дающую скидку на товар в день...</td>\n",
       "      <td>1</td>\n",
       "      <td>9</td>\n",
       "      <td>9</td>\n",
       "      <td>5</td>\n",
       "    </tr>\n",
       "  </tbody>\n",
       "</table>\n",
       "</div>"
      ],
      "text/plain": [
       "                                          Hypothesis  Reach  Impact  \\\n",
       "0  Добавить два новых канала привлечения трафика,...      3      10   \n",
       "1  Запустить собственную службу доставки, что сок...      2       5   \n",
       "2  Добавить блоки рекомендаций товаров на сайт ин...      8       3   \n",
       "3  Изменить структура категорий, что увеличит кон...      8       3   \n",
       "4  Изменить цвет фона главной страницы, чтобы уве...      3       1   \n",
       "5  Добавить страницу отзывов клиентов о магазине,...      3       2   \n",
       "6  Показать на главной странице баннеры с актуаль...      5       3   \n",
       "7  Добавить форму подписки на все основные страни...     10       7   \n",
       "8  Запустить акцию, дающую скидку на товар в день...      1       9   \n",
       "\n",
       "   Confidence  Efforts  \n",
       "0           8        6  \n",
       "1           4       10  \n",
       "2           7        3  \n",
       "3           3        8  \n",
       "4           1        1  \n",
       "5           2        3  \n",
       "6           8        3  \n",
       "7           8        5  \n",
       "8           9        5  "
      ]
     },
     "execution_count": 6,
     "metadata": {},
     "output_type": "execute_result"
    }
   ],
   "source": [
    "# Посмотрим на несколько верхних строк каждой таблицы, чтобы получить первоначальное представление \n",
    "# о данных.\n",
    "\n",
    "hypothesis"
   ]
  },
  {
   "cell_type": "code",
   "execution_count": 7,
   "metadata": {
    "scrolled": true
   },
   "outputs": [
    {
     "data": {
      "text/html": [
       "<div>\n",
       "<style scoped>\n",
       "    .dataframe tbody tr th:only-of-type {\n",
       "        vertical-align: middle;\n",
       "    }\n",
       "\n",
       "    .dataframe tbody tr th {\n",
       "        vertical-align: top;\n",
       "    }\n",
       "\n",
       "    .dataframe thead th {\n",
       "        text-align: right;\n",
       "    }\n",
       "</style>\n",
       "<table border=\"1\" class=\"dataframe\">\n",
       "  <thead>\n",
       "    <tr style=\"text-align: right;\">\n",
       "      <th></th>\n",
       "      <th>transactionId</th>\n",
       "      <th>visitorId</th>\n",
       "      <th>date</th>\n",
       "      <th>revenue</th>\n",
       "      <th>group</th>\n",
       "    </tr>\n",
       "  </thead>\n",
       "  <tbody>\n",
       "    <tr>\n",
       "      <th>0</th>\n",
       "      <td>3667963787</td>\n",
       "      <td>3312258926</td>\n",
       "      <td>2019-08-15</td>\n",
       "      <td>1650</td>\n",
       "      <td>B</td>\n",
       "    </tr>\n",
       "    <tr>\n",
       "      <th>1</th>\n",
       "      <td>2804400009</td>\n",
       "      <td>3642806036</td>\n",
       "      <td>2019-08-15</td>\n",
       "      <td>730</td>\n",
       "      <td>B</td>\n",
       "    </tr>\n",
       "    <tr>\n",
       "      <th>2</th>\n",
       "      <td>2961555356</td>\n",
       "      <td>4069496402</td>\n",
       "      <td>2019-08-15</td>\n",
       "      <td>400</td>\n",
       "      <td>A</td>\n",
       "    </tr>\n",
       "    <tr>\n",
       "      <th>3</th>\n",
       "      <td>3797467345</td>\n",
       "      <td>1196621759</td>\n",
       "      <td>2019-08-15</td>\n",
       "      <td>9759</td>\n",
       "      <td>B</td>\n",
       "    </tr>\n",
       "    <tr>\n",
       "      <th>4</th>\n",
       "      <td>2282983706</td>\n",
       "      <td>2322279887</td>\n",
       "      <td>2019-08-15</td>\n",
       "      <td>2308</td>\n",
       "      <td>B</td>\n",
       "    </tr>\n",
       "  </tbody>\n",
       "</table>\n",
       "</div>"
      ],
      "text/plain": [
       "   transactionId   visitorId        date  revenue group\n",
       "0     3667963787  3312258926  2019-08-15     1650     B\n",
       "1     2804400009  3642806036  2019-08-15      730     B\n",
       "2     2961555356  4069496402  2019-08-15      400     A\n",
       "3     3797467345  1196621759  2019-08-15     9759     B\n",
       "4     2282983706  2322279887  2019-08-15     2308     B"
      ]
     },
     "execution_count": 7,
     "metadata": {},
     "output_type": "execute_result"
    }
   ],
   "source": [
    "orders.head(5)"
   ]
  },
  {
   "cell_type": "code",
   "execution_count": 8,
   "metadata": {},
   "outputs": [
    {
     "data": {
      "text/html": [
       "<div>\n",
       "<style scoped>\n",
       "    .dataframe tbody tr th:only-of-type {\n",
       "        vertical-align: middle;\n",
       "    }\n",
       "\n",
       "    .dataframe tbody tr th {\n",
       "        vertical-align: top;\n",
       "    }\n",
       "\n",
       "    .dataframe thead th {\n",
       "        text-align: right;\n",
       "    }\n",
       "</style>\n",
       "<table border=\"1\" class=\"dataframe\">\n",
       "  <thead>\n",
       "    <tr style=\"text-align: right;\">\n",
       "      <th></th>\n",
       "      <th>date</th>\n",
       "      <th>group</th>\n",
       "      <th>visitors</th>\n",
       "    </tr>\n",
       "  </thead>\n",
       "  <tbody>\n",
       "    <tr>\n",
       "      <th>0</th>\n",
       "      <td>2019-08-01</td>\n",
       "      <td>A</td>\n",
       "      <td>719</td>\n",
       "    </tr>\n",
       "    <tr>\n",
       "      <th>1</th>\n",
       "      <td>2019-08-02</td>\n",
       "      <td>A</td>\n",
       "      <td>619</td>\n",
       "    </tr>\n",
       "    <tr>\n",
       "      <th>2</th>\n",
       "      <td>2019-08-03</td>\n",
       "      <td>A</td>\n",
       "      <td>507</td>\n",
       "    </tr>\n",
       "    <tr>\n",
       "      <th>3</th>\n",
       "      <td>2019-08-04</td>\n",
       "      <td>A</td>\n",
       "      <td>717</td>\n",
       "    </tr>\n",
       "    <tr>\n",
       "      <th>4</th>\n",
       "      <td>2019-08-05</td>\n",
       "      <td>A</td>\n",
       "      <td>756</td>\n",
       "    </tr>\n",
       "  </tbody>\n",
       "</table>\n",
       "</div>"
      ],
      "text/plain": [
       "         date group  visitors\n",
       "0  2019-08-01     A       719\n",
       "1  2019-08-02     A       619\n",
       "2  2019-08-03     A       507\n",
       "3  2019-08-04     A       717\n",
       "4  2019-08-05     A       756"
      ]
     },
     "execution_count": 8,
     "metadata": {},
     "output_type": "execute_result"
    }
   ],
   "source": [
    "visitors.head(5)"
   ]
  },
  {
   "cell_type": "markdown",
   "metadata": {},
   "source": [
    "Мы получили три таблицы с данными: \n",
    "1. hypothesis: \n",
    "- Hypothesis — краткое описание гипотезы;\n",
    "- Reach — охват пользователей по 10-балльной шкале;\n",
    "- Impact — влияние на пользователей по 10-балльной шкале;\n",
    "- Confidence — уверенность в гипотезе по 10-балльной шкале;\n",
    "- Efforts — затраты ресурсов на проверку гипотезы по 10-балльной шкале. \n",
    "Чем больше значение Efforts, тем дороже проверка гипотезы.\n",
    "\n",
    "2. orders: \n",
    "- transactionId — идентификатор заказа;\n",
    "- visitorId — идентификатор пользователя, совершившего заказ;\n",
    "- date — дата, когда был совершён заказ;\n",
    "- revenue — выручка заказа;\n",
    "- group — группа A/B-теста, в которую попал заказ.\n",
    "\n",
    "3. visitors:\n",
    "- date — дата;\n",
    "- group — группа A/B-теста;\n",
    "- visitors — количество пользователей в указанную дату в указанной группе A/B-теста."
   ]
  },
  {
   "cell_type": "markdown",
   "metadata": {},
   "source": [
    "Пропусков в данных нет, типы данных необходимо заменить только в столбцах с датами. Наименования столбцов менять не будем. "
   ]
  },
  {
   "cell_type": "code",
   "execution_count": 9,
   "metadata": {},
   "outputs": [],
   "source": [
    "# Произведем замену типов данных в таблицах orders и visitors.\n",
    "\n",
    "orders['date'] = orders['date'].map(\n",
    "    lambda x: dt.datetime.strptime(x, '%Y-%m-%d')\n",
    ")\n",
    "\n",
    "visitors['date'] = visitors['date'].map(\n",
    "    lambda x: dt.datetime.strptime(x, '%Y-%m-%d')\n",
    ")"
   ]
  },
  {
   "cell_type": "markdown",
   "metadata": {},
   "source": [
    "Для удобства выделим день месяца из даты."
   ]
  },
  {
   "cell_type": "code",
   "execution_count": 10,
   "metadata": {},
   "outputs": [],
   "source": [
    "orders['month_day'] = pd.DatetimeIndex(orders['date']).day\n",
    "visitors['month_day'] = pd.DatetimeIndex(visitors['date']).day"
   ]
  },
  {
   "cell_type": "markdown",
   "metadata": {},
   "source": [
    "Проверим наличие дубликатов. "
   ]
  },
  {
   "cell_type": "code",
   "execution_count": 11,
   "metadata": {},
   "outputs": [
    {
     "data": {
      "text/plain": [
       "0"
      ]
     },
     "execution_count": 11,
     "metadata": {},
     "output_type": "execute_result"
    }
   ],
   "source": [
    "orders.duplicated().sum()"
   ]
  },
  {
   "cell_type": "code",
   "execution_count": 12,
   "metadata": {},
   "outputs": [
    {
     "data": {
      "text/plain": [
       "0"
      ]
     },
     "execution_count": 12,
     "metadata": {},
     "output_type": "execute_result"
    }
   ],
   "source": [
    "visitors.duplicated().sum()"
   ]
  },
  {
   "cell_type": "markdown",
   "metadata": {},
   "source": [
    "Дубликатов нет, типы данных заменили, выделили число месяца из даты для удобства проосмотра графиков. Можно приступать к приоретизации гипотез."
   ]
  },
  {
   "cell_type": "code",
   "execution_count": 13,
   "metadata": {},
   "outputs": [
    {
     "data": {
      "text/plain": [
       "array(['A', 'B'], dtype=object)"
      ]
     },
     "metadata": {},
     "output_type": "display_data"
    },
    {
     "data": {
      "text/plain": [
       "array(['B', 'A'], dtype=object)"
      ]
     },
     "metadata": {},
     "output_type": "display_data"
    }
   ],
   "source": [
    "# Посмотрим сколько у нас групп в тесте.\n",
    "\n",
    "display(visitors['group'].unique())\n",
    "\n",
    "display(orders['group'].unique())"
   ]
  },
  {
   "cell_type": "markdown",
   "metadata": {},
   "source": [
    "У нас две группы: А и В. Вроде все как планировали."
   ]
  },
  {
   "cell_type": "code",
   "execution_count": 14,
   "metadata": {},
   "outputs": [
    {
     "data": {
      "text/plain": [
       "Timestamp('2019-08-31 00:00:00')"
      ]
     },
     "metadata": {},
     "output_type": "display_data"
    },
    {
     "data": {
      "text/plain": [
       "Timestamp('2019-08-01 00:00:00')"
      ]
     },
     "metadata": {},
     "output_type": "display_data"
    },
    {
     "data": {
      "text/plain": [
       "Timestamp('2019-08-31 00:00:00')"
      ]
     },
     "metadata": {},
     "output_type": "display_data"
    },
    {
     "data": {
      "text/plain": [
       "Timestamp('2019-08-01 00:00:00')"
      ]
     },
     "metadata": {},
     "output_type": "display_data"
    }
   ],
   "source": [
    "# Найдем период проведения тестирования. \n",
    "\n",
    "display(visitors['date'].max())\n",
    "\n",
    "display(visitors['date'].min())\n",
    "\n",
    "# Проверим, что в таблице orders у нас тот же период, что и в visitors.\n",
    "\n",
    "display(orders['date'].max())\n",
    "\n",
    "display(orders['date'].min())"
   ]
  },
  {
   "cell_type": "code",
   "execution_count": 15,
   "metadata": {},
   "outputs": [
    {
     "data": {
      "text/plain": [
       "503"
      ]
     },
     "metadata": {},
     "output_type": "display_data"
    },
    {
     "data": {
      "text/plain": [
       "586"
      ]
     },
     "metadata": {},
     "output_type": "display_data"
    }
   ],
   "source": [
    "# Посчитаем количество уникальных пользователей по группам по таблице orders.\n",
    "\n",
    "orders_a = orders[orders['group'] == \"A\"]['visitorId'].nunique()\n",
    "\n",
    "orders_b = orders[orders['group'] == \"B\"]['visitorId'].nunique()\n",
    "\n",
    "display(orders_a)\n",
    "display(orders_b)"
   ]
  },
  {
   "cell_type": "code",
   "execution_count": 16,
   "metadata": {},
   "outputs": [
    {
     "data": {
      "text/plain": [
       "1197"
      ]
     },
     "execution_count": 16,
     "metadata": {},
     "output_type": "execute_result"
    }
   ],
   "source": [
    "# Количество строк в таблице orders. \n",
    "\n",
    "len(orders)"
   ]
  },
  {
   "cell_type": "code",
   "execution_count": 17,
   "metadata": {},
   "outputs": [
    {
     "data": {
      "text/plain": [
       "557"
      ]
     },
     "metadata": {},
     "output_type": "display_data"
    },
    {
     "data": {
      "text/plain": [
       "640"
      ]
     },
     "metadata": {},
     "output_type": "display_data"
    }
   ],
   "source": [
    "# Если считаем не уникальных пользователей, то ...\n",
    "\n",
    "display(len(orders.query('group == \"A\"')))\n",
    "\n",
    "display(len(orders.query('group == \"B\"')))\n"
   ]
  },
  {
   "cell_type": "markdown",
   "metadata": {},
   "source": [
    "Где-то есть пересечение пользователей, т.е. те, кто попали в две группы."
   ]
  },
  {
   "cell_type": "code",
   "execution_count": 18,
   "metadata": {},
   "outputs": [
    {
     "data": {
      "text/plain": [
       "group    58\n",
       "dtype: int64"
      ]
     },
     "execution_count": 18,
     "metadata": {},
     "output_type": "execute_result"
    }
   ],
   "source": [
    "# Посмотрим не попадают ли какие-то пользователи в обе группы одновременно.\n",
    "\n",
    "# Для этого посчитаем количество групп для каждого уникального пользователя. \n",
    "\n",
    "# Затем отфильтруем тех, у кого групп больше 1.\n",
    "\n",
    "group_ab = orders.pivot_table(index='visitorId', values='group', aggfunc='nunique')\n",
    "\n",
    "group_ab.query('group > 1').count()"
   ]
  },
  {
   "cell_type": "markdown",
   "metadata": {},
   "source": [
    "58 пользователей попали в две группы. Удалим их для чистоты исследования.  "
   ]
  },
  {
   "cell_type": "code",
   "execution_count": 19,
   "metadata": {},
   "outputs": [],
   "source": [
    "# Сохраним наших \"дублей\" в переменную. \n",
    "\n",
    "filters = group_ab.query('group > 1').reset_index()\n",
    "\n",
    "filters = filters['visitorId']"
   ]
  },
  {
   "cell_type": "code",
   "execution_count": 20,
   "metadata": {},
   "outputs": [
    {
     "data": {
      "text/plain": [
       "1016"
      ]
     },
     "execution_count": 20,
     "metadata": {},
     "output_type": "execute_result"
    }
   ],
   "source": [
    "# Отфильтруем таблицу с заказами.\n",
    "\n",
    "orders = orders.query('visitorId not in @filters')\n",
    "\n",
    "len(orders)"
   ]
  },
  {
   "cell_type": "code",
   "execution_count": 21,
   "metadata": {},
   "outputs": [
    {
     "data": {
      "text/plain": [
       "445"
      ]
     },
     "metadata": {},
     "output_type": "display_data"
    },
    {
     "data": {
      "text/plain": [
       "528"
      ]
     },
     "metadata": {},
     "output_type": "display_data"
    }
   ],
   "source": [
    "# Повторно посчитаем количество уникальных пользователей по группам по таблице orders.\n",
    "\n",
    "orders_a = orders[orders['group'] == \"A\"]['visitorId'].nunique()\n",
    "\n",
    "orders_b = orders[orders['group'] == \"B\"]['visitorId'].nunique()\n",
    "\n",
    "display(orders_a)\n",
    "display(orders_b)"
   ]
  },
  {
   "cell_type": "markdown",
   "metadata": {},
   "source": [
    "Удаляли 58 пользователей, а удалили - 181 строку... Не понимаю больше ничего...\n",
    "\n",
    "Итого у нас остались 445 пользователей в группе A, и 528 пользователей в группе В. "
   ]
  },
  {
   "cell_type": "code",
   "execution_count": 22,
   "metadata": {},
   "outputs": [
    {
     "data": {
      "image/png": "[encoded data removed]",
      "text/plain": [
       "<Figure size 432x288 with 1 Axes>"
      ]
     },
     "metadata": {
      "needs_background": "light"
     },
     "output_type": "display_data"
    }
   ],
   "source": [
    "# Посмотрим динамику посетителей по дням в разрезе групп. \n",
    "\n",
    "visitors_groupby = visitors.groupby(['month_day', 'group']).agg({'visitors': 'sum'})\n",
    "\n",
    "visitors_groupby.unstack().plot()\n",
    "\n",
    "plt.title('Динамика количества посетителей по дням')\n",
    "plt.xlabel('Число месяца')\n",
    "plt.ylabel('Количество посетителей')\n",
    "plt.show()\n"
   ]
  },
  {
   "cell_type": "markdown",
   "metadata": {},
   "source": [
    "## Часть 1. Приоритизация гипотез."
   ]
  },
  {
   "cell_type": "markdown",
   "metadata": {},
   "source": [
    "В таблице hypothesis 9 гипотез по увеличению выручки интернет-магазина с указанными параметрами Reach, Impact, Confidence, Effort. \n",
    "\n",
    "Познакомимся с ними. "
   ]
  },
  {
   "cell_type": "code",
   "execution_count": 23,
   "metadata": {},
   "outputs": [
    {
     "data": {
      "text/html": [
       "<div>\n",
       "<style scoped>\n",
       "    .dataframe tbody tr th:only-of-type {\n",
       "        vertical-align: middle;\n",
       "    }\n",
       "\n",
       "    .dataframe tbody tr th {\n",
       "        vertical-align: top;\n",
       "    }\n",
       "\n",
       "    .dataframe thead th {\n",
       "        text-align: right;\n",
       "    }\n",
       "</style>\n",
       "<table border=\"1\" class=\"dataframe\">\n",
       "  <thead>\n",
       "    <tr style=\"text-align: right;\">\n",
       "      <th></th>\n",
       "      <th>Hypothesis</th>\n",
       "      <th>Reach</th>\n",
       "      <th>Impact</th>\n",
       "      <th>Confidence</th>\n",
       "      <th>Efforts</th>\n",
       "    </tr>\n",
       "  </thead>\n",
       "  <tbody>\n",
       "    <tr>\n",
       "      <th>0</th>\n",
       "      <td>Добавить два новых канала привлечения трафика, что позволит привлекать на 30% больше пользователей</td>\n",
       "      <td>3</td>\n",
       "      <td>10</td>\n",
       "      <td>8</td>\n",
       "      <td>6</td>\n",
       "    </tr>\n",
       "    <tr>\n",
       "      <th>1</th>\n",
       "      <td>Запустить собственную службу доставки, что сократит срок доставки заказов</td>\n",
       "      <td>2</td>\n",
       "      <td>5</td>\n",
       "      <td>4</td>\n",
       "      <td>10</td>\n",
       "    </tr>\n",
       "    <tr>\n",
       "      <th>2</th>\n",
       "      <td>Добавить блоки рекомендаций товаров на сайт интернет магазина, чтобы повысить конверсию и средний чек заказа</td>\n",
       "      <td>8</td>\n",
       "      <td>3</td>\n",
       "      <td>7</td>\n",
       "      <td>3</td>\n",
       "    </tr>\n",
       "    <tr>\n",
       "      <th>3</th>\n",
       "      <td>Изменить структура категорий, что увеличит конверсию, т.к. пользователи быстрее найдут нужный товар</td>\n",
       "      <td>8</td>\n",
       "      <td>3</td>\n",
       "      <td>3</td>\n",
       "      <td>8</td>\n",
       "    </tr>\n",
       "    <tr>\n",
       "      <th>4</th>\n",
       "      <td>Изменить цвет фона главной страницы, чтобы увеличить вовлеченность пользователей</td>\n",
       "      <td>3</td>\n",
       "      <td>1</td>\n",
       "      <td>1</td>\n",
       "      <td>1</td>\n",
       "    </tr>\n",
       "    <tr>\n",
       "      <th>5</th>\n",
       "      <td>Добавить страницу отзывов клиентов о магазине, что позволит увеличить количество заказов</td>\n",
       "      <td>3</td>\n",
       "      <td>2</td>\n",
       "      <td>2</td>\n",
       "      <td>3</td>\n",
       "    </tr>\n",
       "    <tr>\n",
       "      <th>6</th>\n",
       "      <td>Показать на главной странице баннеры с актуальными акциями и распродажами, чтобы увеличить конверсию</td>\n",
       "      <td>5</td>\n",
       "      <td>3</td>\n",
       "      <td>8</td>\n",
       "      <td>3</td>\n",
       "    </tr>\n",
       "    <tr>\n",
       "      <th>7</th>\n",
       "      <td>Добавить форму подписки на все основные страницы, чтобы собрать базу клиентов для email-рассылок</td>\n",
       "      <td>10</td>\n",
       "      <td>7</td>\n",
       "      <td>8</td>\n",
       "      <td>5</td>\n",
       "    </tr>\n",
       "    <tr>\n",
       "      <th>8</th>\n",
       "      <td>Запустить акцию, дающую скидку на товар в день рождения</td>\n",
       "      <td>1</td>\n",
       "      <td>9</td>\n",
       "      <td>9</td>\n",
       "      <td>5</td>\n",
       "    </tr>\n",
       "  </tbody>\n",
       "</table>\n",
       "</div>"
      ],
      "text/plain": [
       "                                                                                                     Hypothesis  \\\n",
       "0            Добавить два новых канала привлечения трафика, что позволит привлекать на 30% больше пользователей   \n",
       "1                                     Запустить собственную службу доставки, что сократит срок доставки заказов   \n",
       "2  Добавить блоки рекомендаций товаров на сайт интернет магазина, чтобы повысить конверсию и средний чек заказа   \n",
       "3           Изменить структура категорий, что увеличит конверсию, т.к. пользователи быстрее найдут нужный товар   \n",
       "4                              Изменить цвет фона главной страницы, чтобы увеличить вовлеченность пользователей   \n",
       "5                      Добавить страницу отзывов клиентов о магазине, что позволит увеличить количество заказов   \n",
       "6          Показать на главной странице баннеры с актуальными акциями и распродажами, чтобы увеличить конверсию   \n",
       "7              Добавить форму подписки на все основные страницы, чтобы собрать базу клиентов для email-рассылок   \n",
       "8                                                       Запустить акцию, дающую скидку на товар в день рождения   \n",
       "\n",
       "   Reach  Impact  Confidence  Efforts  \n",
       "0      3      10           8        6  \n",
       "1      2       5           4       10  \n",
       "2      8       3           7        3  \n",
       "3      8       3           3        8  \n",
       "4      3       1           1        1  \n",
       "5      3       2           2        3  \n",
       "6      5       3           8        3  \n",
       "7     10       7           8        5  \n",
       "8      1       9           9        5  "
      ]
     },
     "execution_count": 23,
     "metadata": {},
     "output_type": "execute_result"
    }
   ],
   "source": [
    "pd.options.display.max_colwidth = 150\n",
    "hypothesis"
   ]
  },
  {
   "cell_type": "markdown",
   "metadata": {},
   "source": [
    "Применим фреймворк ICE для приоритизации гипотез. Отсортируем их по убыванию приоритета."
   ]
  },
  {
   "cell_type": "code",
   "execution_count": 24,
   "metadata": {},
   "outputs": [
    {
     "data": {
      "text/plain": [
       "8    16.20\n",
       "0    13.33\n",
       "7    11.20\n",
       "6     8.00\n",
       "2     7.00\n",
       "1     2.00\n",
       "5     1.33\n",
       "3     1.12\n",
       "4     1.00\n",
       "dtype: float64"
      ]
     },
     "execution_count": 24,
     "metadata": {},
     "output_type": "execute_result"
    }
   ],
   "source": [
    "ICE_score = ((hypothesis['Impact'] * hypothesis['Confidence']) / hypothesis['Efforts']).sort_values(ascending=False)\n",
    "\n",
    "round(ICE_score, 2)"
   ]
  },
  {
   "cell_type": "markdown",
   "metadata": {},
   "source": [
    "Высокий приоритет получили гипотезы:\n",
    "- 'Запустить акцию, дающую скидку на товар в день рождения';\n",
    "- 'Добавить два новых канала привлечения трафика, что позволит привлекать на 30% больше пользователей';\n",
    "- 'Добавить форму подписки на все основные страницы, чтобы собрать базу клиентов для email-рассылок'."
   ]
  },
  {
   "cell_type": "markdown",
   "metadata": {},
   "source": [
    "Применим фреймворк RICE для приоритизации гипотез. Отсортируем их по убыванию приоритета.\n"
   ]
  },
  {
   "cell_type": "code",
   "execution_count": 25,
   "metadata": {
    "scrolled": true
   },
   "outputs": [
    {
     "data": {
      "text/plain": [
       "7    112.0\n",
       "2     56.0\n",
       "0     40.0\n",
       "6     40.0\n",
       "8     16.2\n",
       "3      9.0\n",
       "1      4.0\n",
       "5      4.0\n",
       "4      3.0\n",
       "dtype: float64"
      ]
     },
     "execution_count": 25,
     "metadata": {},
     "output_type": "execute_result"
    }
   ],
   "source": [
    "RICE_score = ((hypothesis['Reach'] * hypothesis['Impact'] * hypothesis['Confidence']) / hypothesis['Efforts']).sort_values(ascending=False)\n",
    "\n",
    "RICE_score"
   ]
  },
  {
   "cell_type": "markdown",
   "metadata": {},
   "source": [
    "Высокий приоритет получили гипотезы: \n",
    "- 'Добавить форму подписки на все основные страницы, чтобы собрать базу клиентов для email-рассылок';\n",
    "- 'Добавить блоки рекомендаций товаров на сайт интернет магазина, чтобы повысить конверсию и средний чек заказа';\n",
    "- 'Добавить два новых канала привлечения трафика, что позволит привлекать на 30% больше пользователей';\n",
    "- 'Показать на главной странице баннеры с актуальными акциями и распродажами, чтобы увеличить конверсию'.\n",
    "    "
   ]
  },
  {
   "cell_type": "markdown",
   "metadata": {},
   "source": [
    "Приоретизация гипотез изменилась, с применением метода RICE, где мы оцениваем 4 критерия: влияние, уверенность, усилия, охват.\n",
    "\n",
    "С учетом охвата аудитории пользователей, которых затронут изменения у нас появились гипотезы про блоки рекомендации товаров на сайте и показа баннеров с актуальными акциями на главной странице, т.к. данные гипотезы имеют влияние на больший охват аудитории.  "
   ]
  },
  {
   "cell_type": "markdown",
   "metadata": {},
   "source": [
    "Будем думать, что в данном проекте мы рассматриваем гипотезу 7:  Добавить форму подписки на все основные страницы, чтобы собрать базу клиентов для email-рассылок, или гипотезу 0: Добавить два новых канала привлечения трафика, что позволит привлекать на 30% больше пользователей. Обе этих гипотезы вошли в топ-3 приоретизации по обоим методам."
   ]
  },
  {
   "cell_type": "markdown",
   "metadata": {},
   "source": [
    "## Часть 2. Анализ А/В-теста."
   ]
  },
  {
   "cell_type": "markdown",
   "metadata": {},
   "source": [
    "Мы провели A/B-тест и получили результаты, которые описаны в таблицах orders и visitors. Проанализируем его результаты. "
   ]
  },
  {
   "cell_type": "markdown",
   "metadata": {},
   "source": [
    "Посмотрим на количество визитов в каждой группы:"
   ]
  },
  {
   "cell_type": "code",
   "execution_count": 26,
   "metadata": {},
   "outputs": [
    {
     "data": {
      "text/plain": [
       "18736"
      ]
     },
     "execution_count": 26,
     "metadata": {},
     "output_type": "execute_result"
    }
   ],
   "source": [
    "visitors_a = visitors[visitors['group'] == \"A\"]['visitors'].unique().sum()\n",
    "\n",
    "visitors_a"
   ]
  },
  {
   "cell_type": "code",
   "execution_count": 27,
   "metadata": {},
   "outputs": [
    {
     "data": {
      "text/plain": [
       "18262"
      ]
     },
     "execution_count": 27,
     "metadata": {},
     "output_type": "execute_result"
    }
   ],
   "source": [
    "visitors_b = visitors[visitors['group'] == \"B\"]['visitors'].unique().sum()\n",
    "\n",
    "visitors_b"
   ]
  },
  {
   "cell_type": "markdown",
   "metadata": {},
   "source": [
    "Группа В на 3 % меньше группы A. Проверим не является ли эта разница статистически значимой в нашем случае."
   ]
  },
  {
   "cell_type": "markdown",
   "metadata": {},
   "source": [
    "Сохраним выборки по визитам по группам для проведения статистического анализа. "
   ]
  },
  {
   "cell_type": "code",
   "execution_count": 28,
   "metadata": {},
   "outputs": [],
   "source": [
    "# Выборка с визитами по группе А.\n",
    "\n",
    "visitors_a = visitors[visitors['group'] == \"A\"]['visitors'].unique()\n",
    "\n",
    "# Выборка с визитами по группе В.\n",
    "\n",
    "visitors_b = visitors[visitors['group'] == \"B\"]['visitors'].unique()"
   ]
  },
  {
   "cell_type": "markdown",
   "metadata": {},
   "source": [
    "Гипотезы: \n",
    "    \n",
    "    Н0: Выборки не измеют статистически значимых различий. \n",
    "    Н1: Выборки имеют статистически значимые различия."
   ]
  },
  {
   "cell_type": "markdown",
   "metadata": {},
   "source": [
    "Применим непараметрический тест Уилкоксона-Манна-Уитни, т.к. возможно в данных есть выбросы, чтобы исключить их влияние воспользуемся этим тестом. "
   ]
  },
  {
   "cell_type": "code",
   "execution_count": 29,
   "metadata": {},
   "outputs": [
    {
     "name": "stdout",
     "output_type": "stream",
     "text": [
      "p-значение: 0.7729362141037645\n",
      "Не получилось отвергнуть нулевую гипотезу: разница между количеством посещений статистически не значима.\n"
     ]
    }
   ],
   "source": [
    "alpha = 0.05 # критический уровень статистической значимости\n",
    "\n",
    "results = st.mannwhitneyu(visitors_a, visitors_b)\n",
    "\n",
    "print('p-значение:', results.pvalue)\n",
    "\n",
    "if results.pvalue < alpha:\n",
    "    print('Отвергаем нулевую гипотезу: разница между группами статистически значима')\n",
    "else:\n",
    "    print('Не получилось отвергнуть нулевую гипотезу: разница между количеством посещений статистически не значима.')"
   ]
  },
  {
   "cell_type": "markdown",
   "metadata": {},
   "source": [
    "Разница между численностью посещений по группам статистически не значима, можем проводить анализ результатов теста."
   ]
  },
  {
   "cell_type": "markdown",
   "metadata": {},
   "source": [
    "1. Построим график кумулятивной выручки по группам. Сделаем выводы и предположения. "
   ]
  },
  {
   "cell_type": "code",
   "execution_count": 30,
   "metadata": {},
   "outputs": [
    {
     "data": {
      "text/html": [
       "<div>\n",
       "<style scoped>\n",
       "    .dataframe tbody tr th:only-of-type {\n",
       "        vertical-align: middle;\n",
       "    }\n",
       "\n",
       "    .dataframe tbody tr th {\n",
       "        vertical-align: top;\n",
       "    }\n",
       "\n",
       "    .dataframe thead th {\n",
       "        text-align: right;\n",
       "    }\n",
       "</style>\n",
       "<table border=\"1\" class=\"dataframe\">\n",
       "  <thead>\n",
       "    <tr style=\"text-align: right;\">\n",
       "      <th></th>\n",
       "      <th>month_day</th>\n",
       "      <th>group</th>\n",
       "    </tr>\n",
       "  </thead>\n",
       "  <tbody>\n",
       "    <tr>\n",
       "      <th>0</th>\n",
       "      <td>15</td>\n",
       "      <td>B</td>\n",
       "    </tr>\n",
       "    <tr>\n",
       "      <th>7</th>\n",
       "      <td>15</td>\n",
       "      <td>A</td>\n",
       "    </tr>\n",
       "    <tr>\n",
       "      <th>45</th>\n",
       "      <td>16</td>\n",
       "      <td>A</td>\n",
       "    </tr>\n",
       "    <tr>\n",
       "      <th>47</th>\n",
       "      <td>16</td>\n",
       "      <td>B</td>\n",
       "    </tr>\n",
       "    <tr>\n",
       "      <th>55</th>\n",
       "      <td>1</td>\n",
       "      <td>A</td>\n",
       "    </tr>\n",
       "    <tr>\n",
       "      <th>...</th>\n",
       "      <td>...</td>\n",
       "      <td>...</td>\n",
       "    </tr>\n",
       "    <tr>\n",
       "      <th>1068</th>\n",
       "      <td>12</td>\n",
       "      <td>A</td>\n",
       "    </tr>\n",
       "    <tr>\n",
       "      <th>1114</th>\n",
       "      <td>13</td>\n",
       "      <td>B</td>\n",
       "    </tr>\n",
       "    <tr>\n",
       "      <th>1116</th>\n",
       "      <td>13</td>\n",
       "      <td>A</td>\n",
       "    </tr>\n",
       "    <tr>\n",
       "      <th>1149</th>\n",
       "      <td>14</td>\n",
       "      <td>B</td>\n",
       "    </tr>\n",
       "    <tr>\n",
       "      <th>1150</th>\n",
       "      <td>14</td>\n",
       "      <td>A</td>\n",
       "    </tr>\n",
       "  </tbody>\n",
       "</table>\n",
       "<p>62 rows × 2 columns</p>\n",
       "</div>"
      ],
      "text/plain": [
       "      month_day group\n",
       "0            15     B\n",
       "7            15     A\n",
       "45           16     A\n",
       "47           16     B\n",
       "55            1     A\n",
       "...         ...   ...\n",
       "1068         12     A\n",
       "1114         13     B\n",
       "1116         13     A\n",
       "1149         14     B\n",
       "1150         14     A\n",
       "\n",
       "[62 rows x 2 columns]"
      ]
     },
     "execution_count": 30,
     "metadata": {},
     "output_type": "execute_result"
    }
   ],
   "source": [
    "# Создаем массив уникальных пар значений дат и групп теста.\n",
    "\n",
    "datesGroups = orders[['month_day','group']].drop_duplicates()\n",
    "datesGroups"
   ]
  },
  {
   "cell_type": "code",
   "execution_count": 31,
   "metadata": {},
   "outputs": [
    {
     "data": {
      "text/html": [
       "<div>\n",
       "<style scoped>\n",
       "    .dataframe tbody tr th:only-of-type {\n",
       "        vertical-align: middle;\n",
       "    }\n",
       "\n",
       "    .dataframe tbody tr th {\n",
       "        vertical-align: top;\n",
       "    }\n",
       "\n",
       "    .dataframe thead th {\n",
       "        text-align: right;\n",
       "    }\n",
       "</style>\n",
       "<table border=\"1\" class=\"dataframe\">\n",
       "  <thead>\n",
       "    <tr style=\"text-align: right;\">\n",
       "      <th></th>\n",
       "      <th>month_day</th>\n",
       "      <th>group</th>\n",
       "      <th>visitors</th>\n",
       "    </tr>\n",
       "  </thead>\n",
       "  <tbody>\n",
       "    <tr>\n",
       "      <th>55</th>\n",
       "      <td>1</td>\n",
       "      <td>A</td>\n",
       "      <td>719</td>\n",
       "    </tr>\n",
       "    <tr>\n",
       "      <th>66</th>\n",
       "      <td>1</td>\n",
       "      <td>B</td>\n",
       "      <td>713</td>\n",
       "    </tr>\n",
       "    <tr>\n",
       "      <th>175</th>\n",
       "      <td>2</td>\n",
       "      <td>A</td>\n",
       "      <td>1338</td>\n",
       "    </tr>\n",
       "    <tr>\n",
       "      <th>173</th>\n",
       "      <td>2</td>\n",
       "      <td>B</td>\n",
       "      <td>1294</td>\n",
       "    </tr>\n",
       "    <tr>\n",
       "      <th>291</th>\n",
       "      <td>3</td>\n",
       "      <td>A</td>\n",
       "      <td>1845</td>\n",
       "    </tr>\n",
       "    <tr>\n",
       "      <th>...</th>\n",
       "      <td>...</td>\n",
       "      <td>...</td>\n",
       "      <td>...</td>\n",
       "    </tr>\n",
       "    <tr>\n",
       "      <th>533</th>\n",
       "      <td>29</td>\n",
       "      <td>B</td>\n",
       "      <td>17708</td>\n",
       "    </tr>\n",
       "    <tr>\n",
       "      <th>757</th>\n",
       "      <td>30</td>\n",
       "      <td>A</td>\n",
       "      <td>18037</td>\n",
       "    </tr>\n",
       "    <tr>\n",
       "      <th>690</th>\n",
       "      <td>30</td>\n",
       "      <td>B</td>\n",
       "      <td>18198</td>\n",
       "    </tr>\n",
       "    <tr>\n",
       "      <th>958</th>\n",
       "      <td>31</td>\n",
       "      <td>A</td>\n",
       "      <td>18736</td>\n",
       "    </tr>\n",
       "    <tr>\n",
       "      <th>930</th>\n",
       "      <td>31</td>\n",
       "      <td>B</td>\n",
       "      <td>18916</td>\n",
       "    </tr>\n",
       "  </tbody>\n",
       "</table>\n",
       "<p>62 rows × 3 columns</p>\n",
       "</div>"
      ],
      "text/plain": [
       "     month_day group  visitors\n",
       "55           1     A       719\n",
       "66           1     B       713\n",
       "175          2     A      1338\n",
       "173          2     B      1294\n",
       "291          3     A      1845\n",
       "..         ...   ...       ...\n",
       "533         29     B     17708\n",
       "757         30     A     18037\n",
       "690         30     B     18198\n",
       "958         31     A     18736\n",
       "930         31     B     18916\n",
       "\n",
       "[62 rows x 3 columns]"
      ]
     },
     "execution_count": 31,
     "metadata": {},
     "output_type": "execute_result"
    }
   ],
   "source": [
    "# Создаем таблицу с данными о количестве заказов по дням по группам.\n",
    "\n",
    "visitorsAggregated = datesGroups.apply(lambda x: visitors[np.logical_and(visitors['month_day'] <= x['month_day'], visitors['group'] == x['group'])]\n",
    "                                       .agg({'month_day' : 'max', 'group' : 'max', 'visitors' : 'sum'}), axis=1).sort_values(by=['month_day','group'])\n",
    "visitorsAggregated"
   ]
  },
  {
   "cell_type": "code",
   "execution_count": 32,
   "metadata": {},
   "outputs": [
    {
     "data": {
      "text/html": [
       "<div>\n",
       "<style scoped>\n",
       "    .dataframe tbody tr th:only-of-type {\n",
       "        vertical-align: middle;\n",
       "    }\n",
       "\n",
       "    .dataframe tbody tr th {\n",
       "        vertical-align: top;\n",
       "    }\n",
       "\n",
       "    .dataframe thead th {\n",
       "        text-align: right;\n",
       "    }\n",
       "</style>\n",
       "<table border=\"1\" class=\"dataframe\">\n",
       "  <thead>\n",
       "    <tr style=\"text-align: right;\">\n",
       "      <th></th>\n",
       "      <th>month_day</th>\n",
       "      <th>group</th>\n",
       "      <th>transactionId</th>\n",
       "      <th>visitorId</th>\n",
       "      <th>revenue</th>\n",
       "    </tr>\n",
       "  </thead>\n",
       "  <tbody>\n",
       "    <tr>\n",
       "      <th>55</th>\n",
       "      <td>1</td>\n",
       "      <td>A</td>\n",
       "      <td>23</td>\n",
       "      <td>19</td>\n",
       "      <td>142779</td>\n",
       "    </tr>\n",
       "    <tr>\n",
       "      <th>66</th>\n",
       "      <td>1</td>\n",
       "      <td>B</td>\n",
       "      <td>17</td>\n",
       "      <td>17</td>\n",
       "      <td>59758</td>\n",
       "    </tr>\n",
       "    <tr>\n",
       "      <th>175</th>\n",
       "      <td>2</td>\n",
       "      <td>A</td>\n",
       "      <td>42</td>\n",
       "      <td>36</td>\n",
       "      <td>234381</td>\n",
       "    </tr>\n",
       "    <tr>\n",
       "      <th>173</th>\n",
       "      <td>2</td>\n",
       "      <td>B</td>\n",
       "      <td>40</td>\n",
       "      <td>39</td>\n",
       "      <td>221801</td>\n",
       "    </tr>\n",
       "    <tr>\n",
       "      <th>291</th>\n",
       "      <td>3</td>\n",
       "      <td>A</td>\n",
       "      <td>66</td>\n",
       "      <td>60</td>\n",
       "      <td>346854</td>\n",
       "    </tr>\n",
       "    <tr>\n",
       "      <th>...</th>\n",
       "      <td>...</td>\n",
       "      <td>...</td>\n",
       "      <td>...</td>\n",
       "      <td>...</td>\n",
       "      <td>...</td>\n",
       "    </tr>\n",
       "    <tr>\n",
       "      <th>533</th>\n",
       "      <td>29</td>\n",
       "      <td>B</td>\n",
       "      <td>510</td>\n",
       "      <td>490</td>\n",
       "      <td>4746610</td>\n",
       "    </tr>\n",
       "    <tr>\n",
       "      <th>757</th>\n",
       "      <td>30</td>\n",
       "      <td>A</td>\n",
       "      <td>460</td>\n",
       "      <td>437</td>\n",
       "      <td>3311413</td>\n",
       "    </tr>\n",
       "    <tr>\n",
       "      <th>690</th>\n",
       "      <td>30</td>\n",
       "      <td>B</td>\n",
       "      <td>531</td>\n",
       "      <td>511</td>\n",
       "      <td>4955833</td>\n",
       "    </tr>\n",
       "    <tr>\n",
       "      <th>958</th>\n",
       "      <td>31</td>\n",
       "      <td>A</td>\n",
       "      <td>468</td>\n",
       "      <td>445</td>\n",
       "      <td>3364656</td>\n",
       "    </tr>\n",
       "    <tr>\n",
       "      <th>930</th>\n",
       "      <td>31</td>\n",
       "      <td>B</td>\n",
       "      <td>548</td>\n",
       "      <td>528</td>\n",
       "      <td>5068972</td>\n",
       "    </tr>\n",
       "  </tbody>\n",
       "</table>\n",
       "<p>62 rows × 5 columns</p>\n",
       "</div>"
      ],
      "text/plain": [
       "     month_day group  transactionId  visitorId  revenue\n",
       "55           1     A             23         19   142779\n",
       "66           1     B             17         17    59758\n",
       "175          2     A             42         36   234381\n",
       "173          2     B             40         39   221801\n",
       "291          3     A             66         60   346854\n",
       "..         ...   ...            ...        ...      ...\n",
       "533         29     B            510        490  4746610\n",
       "757         30     A            460        437  3311413\n",
       "690         30     B            531        511  4955833\n",
       "958         31     A            468        445  3364656\n",
       "930         31     B            548        528  5068972\n",
       "\n",
       "[62 rows x 5 columns]"
      ]
     },
     "execution_count": 32,
     "metadata": {},
     "output_type": "execute_result"
    }
   ],
   "source": [
    "# Создаем таблицу с данными о количестве посетителей по дням по группам, \n",
    "# о количестве покупок по дням по группам, о сумме выручки по дням по группам.\n",
    "\n",
    "ordersAggregated = datesGroups.apply(lambda x: orders[np.logical_and(orders['month_day'] <= x['month_day'], orders['group'] == x['group'])]\\\n",
    ".agg({'month_day' : 'max', 'group' : 'max', 'transactionId' : 'nunique', 'visitorId' : 'nunique', 'revenue' : 'sum'}), axis=1).sort_values(by=['month_day','group'])\n",
    "\n",
    "ordersAggregated"
   ]
  },
  {
   "cell_type": "code",
   "execution_count": 33,
   "metadata": {},
   "outputs": [],
   "source": [
    "# Объединяем кумулятивные данные в одной таблице и присваиваем ее столбцам понятные названия.\n",
    "\n",
    "cumulativeData = ordersAggregated.merge(visitorsAggregated, left_on=['month_day', 'group'], right_on=['month_day', 'group'])\n",
    "cumulativeData.columns = ['date', 'group', 'orders', 'buyers', 'revenue', 'visitors']\n"
   ]
  },
  {
   "cell_type": "code",
   "execution_count": 34,
   "metadata": {},
   "outputs": [
    {
     "data": {
      "text/plain": [
       "1"
      ]
     },
     "execution_count": 34,
     "metadata": {},
     "output_type": "execute_result"
    }
   ],
   "source": [
    "# Посмотрим минимальную дату.\n",
    "\n",
    "cumulativeData['date'].min()"
   ]
  },
  {
   "cell_type": "code",
   "execution_count": 35,
   "metadata": {},
   "outputs": [
    {
     "data": {
      "text/plain": [
       "31"
      ]
     },
     "execution_count": 35,
     "metadata": {},
     "output_type": "execute_result"
    }
   ],
   "source": [
    "# Посмотрим максимальную дату. \n",
    "\n",
    "cumulativeData['date'].max()"
   ]
  },
  {
   "cell_type": "code",
   "execution_count": 36,
   "metadata": {},
   "outputs": [
    {
     "data": {
      "text/html": [
       "<div>\n",
       "<style scoped>\n",
       "    .dataframe tbody tr th:only-of-type {\n",
       "        vertical-align: middle;\n",
       "    }\n",
       "\n",
       "    .dataframe tbody tr th {\n",
       "        vertical-align: top;\n",
       "    }\n",
       "\n",
       "    .dataframe thead th {\n",
       "        text-align: right;\n",
       "    }\n",
       "</style>\n",
       "<table border=\"1\" class=\"dataframe\">\n",
       "  <thead>\n",
       "    <tr style=\"text-align: right;\">\n",
       "      <th></th>\n",
       "      <th>date</th>\n",
       "      <th>group</th>\n",
       "      <th>orders</th>\n",
       "      <th>buyers</th>\n",
       "      <th>revenue</th>\n",
       "      <th>visitors</th>\n",
       "    </tr>\n",
       "  </thead>\n",
       "  <tbody>\n",
       "    <tr>\n",
       "      <th>0</th>\n",
       "      <td>1</td>\n",
       "      <td>A</td>\n",
       "      <td>23</td>\n",
       "      <td>19</td>\n",
       "      <td>142779</td>\n",
       "      <td>719</td>\n",
       "    </tr>\n",
       "    <tr>\n",
       "      <th>1</th>\n",
       "      <td>1</td>\n",
       "      <td>B</td>\n",
       "      <td>17</td>\n",
       "      <td>17</td>\n",
       "      <td>59758</td>\n",
       "      <td>713</td>\n",
       "    </tr>\n",
       "    <tr>\n",
       "      <th>2</th>\n",
       "      <td>2</td>\n",
       "      <td>A</td>\n",
       "      <td>42</td>\n",
       "      <td>36</td>\n",
       "      <td>234381</td>\n",
       "      <td>1338</td>\n",
       "    </tr>\n",
       "    <tr>\n",
       "      <th>3</th>\n",
       "      <td>2</td>\n",
       "      <td>B</td>\n",
       "      <td>40</td>\n",
       "      <td>39</td>\n",
       "      <td>221801</td>\n",
       "      <td>1294</td>\n",
       "    </tr>\n",
       "    <tr>\n",
       "      <th>4</th>\n",
       "      <td>3</td>\n",
       "      <td>A</td>\n",
       "      <td>66</td>\n",
       "      <td>60</td>\n",
       "      <td>346854</td>\n",
       "      <td>1845</td>\n",
       "    </tr>\n",
       "    <tr>\n",
       "      <th>...</th>\n",
       "      <td>...</td>\n",
       "      <td>...</td>\n",
       "      <td>...</td>\n",
       "      <td>...</td>\n",
       "      <td>...</td>\n",
       "      <td>...</td>\n",
       "    </tr>\n",
       "    <tr>\n",
       "      <th>57</th>\n",
       "      <td>29</td>\n",
       "      <td>B</td>\n",
       "      <td>510</td>\n",
       "      <td>490</td>\n",
       "      <td>4746610</td>\n",
       "      <td>17708</td>\n",
       "    </tr>\n",
       "    <tr>\n",
       "      <th>58</th>\n",
       "      <td>30</td>\n",
       "      <td>A</td>\n",
       "      <td>460</td>\n",
       "      <td>437</td>\n",
       "      <td>3311413</td>\n",
       "      <td>18037</td>\n",
       "    </tr>\n",
       "    <tr>\n",
       "      <th>59</th>\n",
       "      <td>30</td>\n",
       "      <td>B</td>\n",
       "      <td>531</td>\n",
       "      <td>511</td>\n",
       "      <td>4955833</td>\n",
       "      <td>18198</td>\n",
       "    </tr>\n",
       "    <tr>\n",
       "      <th>60</th>\n",
       "      <td>31</td>\n",
       "      <td>A</td>\n",
       "      <td>468</td>\n",
       "      <td>445</td>\n",
       "      <td>3364656</td>\n",
       "      <td>18736</td>\n",
       "    </tr>\n",
       "    <tr>\n",
       "      <th>61</th>\n",
       "      <td>31</td>\n",
       "      <td>B</td>\n",
       "      <td>548</td>\n",
       "      <td>528</td>\n",
       "      <td>5068972</td>\n",
       "      <td>18916</td>\n",
       "    </tr>\n",
       "  </tbody>\n",
       "</table>\n",
       "<p>62 rows × 6 columns</p>\n",
       "</div>"
      ],
      "text/plain": [
       "    date group  orders  buyers  revenue  visitors\n",
       "0      1     A      23      19   142779       719\n",
       "1      1     B      17      17    59758       713\n",
       "2      2     A      42      36   234381      1338\n",
       "3      2     B      40      39   221801      1294\n",
       "4      3     A      66      60   346854      1845\n",
       "..   ...   ...     ...     ...      ...       ...\n",
       "57    29     B     510     490  4746610     17708\n",
       "58    30     A     460     437  3311413     18037\n",
       "59    30     B     531     511  4955833     18198\n",
       "60    31     A     468     445  3364656     18736\n",
       "61    31     B     548     528  5068972     18916\n",
       "\n",
       "[62 rows x 6 columns]"
      ]
     },
     "execution_count": 36,
     "metadata": {},
     "output_type": "execute_result"
    }
   ],
   "source": [
    "# Оценим визуально полученную таблицу.\n",
    "\n",
    "cumulativeData"
   ]
  },
  {
   "cell_type": "code",
   "execution_count": 37,
   "metadata": {},
   "outputs": [],
   "source": [
    "# Создаем датафрейм с кумулятивным количеством заказов и кумулятивной выручкой по дням в группе А.\n",
    "\n",
    "cumulativeRevenueA = cumulativeData[cumulativeData['group']=='A'][['date','revenue', 'orders']]\n",
    "\n",
    "# Создаем датафрейм с кумулятивным количеством заказов и кумулятивной выручкой по дням в группе B.\n",
    "\n",
    "cumulativeRevenueB = cumulativeData[cumulativeData['group']=='B'][['date','revenue', 'orders']]\n"
   ]
  },
  {
   "cell_type": "code",
   "execution_count": 38,
   "metadata": {
    "scrolled": true
   },
   "outputs": [
    {
     "data": {
      "image/png": "[encoded data removed]",
      "text/plain": [
       "<Figure size 432x288 with 1 Axes>"
      ]
     },
     "metadata": {
      "needs_background": "light"
     },
     "output_type": "display_data"
    }
   ],
   "source": [
    "# Строим график выручки группы А.\n",
    "\n",
    "plt.plot(cumulativeRevenueA['date'], cumulativeRevenueA['revenue'], label='A')\n",
    "\n",
    "# Строим график выручки группы B.\n",
    "\n",
    "plt.plot(cumulativeRevenueB['date'], cumulativeRevenueB['revenue'], label='B')\n",
    "\n",
    "plt.xlabel('Число месяца')\n",
    "plt.ylabel('Кумулятивная выручка')\n",
    "plt.title('Кумулятивная выручка по группам')\n",
    "\n",
    "plt.legend()\n",
    "plt.show()"
   ]
  },
  {
   "cell_type": "markdown",
   "metadata": {},
   "source": [
    "Выручка почти равномерно увеличивается на проятжении всего теста, за исключением скачка в тестовой группе В, скорее всего это был како-то аномально большой заказ, либо это был всплеск покупательской активности, который может быть обусловлен внесенными изменениями в группе В. По данному графику можно сделать первичные выводы о том, что тестовая группа В приносит больше прибыли, чем группа А."
   ]
  },
  {
   "cell_type": "markdown",
   "metadata": {},
   "source": [
    "2. Построим график кумулятивного среднего чека по группам. Сделаем выводы и предположения. "
   ]
  },
  {
   "cell_type": "code",
   "execution_count": 39,
   "metadata": {},
   "outputs": [
    {
     "data": {
      "image/png": "[encoded data removed]",
      "text/plain": [
       "<Figure size 432x288 with 1 Axes>"
      ]
     },
     "metadata": {
      "needs_background": "light"
     },
     "output_type": "display_data"
    }
   ],
   "source": [
    "# Строим график по кумулятивным данным по среднему чеку. \n",
    "\n",
    "plt.plot(cumulativeRevenueA['date'], cumulativeRevenueA['revenue']/cumulativeRevenueA['orders'], label='A')\n",
    "plt.plot(cumulativeRevenueB['date'], cumulativeRevenueB['revenue']/cumulativeRevenueB['orders'], label='B')\n",
    "\n",
    "plt.xlabel('Число месяца')\n",
    "plt.ylabel('Кумулятивный средний чек')\n",
    "plt.title('Кумулятивный средний чек по группам')\n",
    "\n",
    "plt.legend()\n",
    "plt.show()\n",
    " "
   ]
  },
  {
   "cell_type": "markdown",
   "metadata": {},
   "source": [
    "Снова наблюдаем резкий скачет в группе В, возможно там закрался значительный по сумме заказ, который оказал влияние на оба графика. Средний чек, также как и выручка в группе В выше, чем в группе А. Но заметно снижение среднего чека в группе В, скорее всего его значение еще не окончательно установилось, а вот средний чек в группе А скорее всего вышел на свой обычный уровень - установился. "
   ]
  },
  {
   "cell_type": "markdown",
   "metadata": {},
   "source": [
    "3. Построим график относительного изменения кумулятивного среднего чека группы B к группе A. Сделаем выводы и предположения."
   ]
  },
  {
   "cell_type": "code",
   "execution_count": 40,
   "metadata": {
    "scrolled": false
   },
   "outputs": [
    {
     "data": {
      "image/png": "[encoded data removed]",
      "text/plain": [
       "<Figure size 576x576 with 1 Axes>"
      ]
     },
     "metadata": {
      "needs_background": "light"
     },
     "output_type": "display_data"
    }
   ],
   "source": [
    "# Собираем данные для графика в одном датафрейме.\n",
    "\n",
    "mergedCumulativeRevenue = cumulativeRevenueA.merge(cumulativeRevenueB, left_on='date', right_on='date', how='left', suffixes=['A', 'B'])\n",
    "\n",
    "# Строим отношение средних чеков.\n",
    "\n",
    "plt.figure(figsize=(8, 8))\n",
    "\n",
    "plt.plot(mergedCumulativeRevenue['date'], (mergedCumulativeRevenue['revenueB']/mergedCumulativeRevenue['ordersB'])/(mergedCumulativeRevenue['revenueA']/mergedCumulativeRevenue['ordersA'])-1) \n",
    "\n",
    "plt.xlabel('Число месяца')\n",
    "plt.ylabel('Относительное изменение кумулятивного среднего чека')\n",
    "plt.title('График относительного изменения кумулятивного среднего чека по группам')\n",
    "\n",
    "\n",
    "# Добавляем ось X.\n",
    "\n",
    "plt.axhline(y=0, color='black', linestyle='--')\n",
    "\n",
    "plt.show()"
   ]
  },
  {
   "cell_type": "markdown",
   "metadata": {},
   "source": [
    "В ряде дней график значительно ломается, а значит, на наши данные оказывают влияние аномальные значения. Перепады на самом деле в тех же местах, что и по графику с кумулятивным средним чеком. В самом начале теста резкое падение группы В относительно А, далее группа В стала лидировать и мы видим пик примерно с 6 по 9 число, далее падение группы В относительно в период с 11 по 18 число (примерно), ну и резкий скачок 19-20 числа, где скорее всего в группе В произошел большой заказ, далее график фактически повторяет линию графика по группе В по кумулятивному среднему чеку, т.к. в обоих группах в этот период значиния чеков более менее установились."
   ]
  },
  {
   "cell_type": "markdown",
   "metadata": {},
   "source": [
    "4. Построим график кумулятивной конверсии по группам. Сделаем выводы и предположения."
   ]
  },
  {
   "cell_type": "code",
   "execution_count": 41,
   "metadata": {
    "scrolled": true
   },
   "outputs": [
    {
     "data": {
      "text/plain": [
       "<matplotlib.legend.Legend at 0x26b9d9e8160>"
      ]
     },
     "execution_count": 41,
     "metadata": {},
     "output_type": "execute_result"
    },
    {
     "data": {
      "image/png": "[encoded data removed]",
      "text/plain": [
       "<Figure size 432x288 with 1 Axes>"
      ]
     },
     "metadata": {
      "needs_background": "light"
     },
     "output_type": "display_data"
    }
   ],
   "source": [
    "# Считаем кумулятивную конверсию.\n",
    "\n",
    "cumulativeData['conversion'] = cumulativeData['orders']/cumulativeData['visitors']\n",
    "\n",
    "# Отделяем данные по группе A.\n",
    "\n",
    "cumulativeDataA = cumulativeData[cumulativeData['group']=='A']\n",
    "\n",
    "# Отделяем данные по группе B.\n",
    "\n",
    "cumulativeDataB = cumulativeData[cumulativeData['group']=='B']\n",
    "\n",
    "# Строим графики.\n",
    "\n",
    "plt.plot(cumulativeDataA['date'], cumulativeDataA['conversion'], label='A')\n",
    "plt.plot(cumulativeDataB['date'], cumulativeDataB['conversion'], label='B')\n",
    "\n",
    "plt.xlabel('Число месяца')\n",
    "plt.ylabel('Кумулятивная конверсия')\n",
    "plt.title('График изменения кумулятивной конверсии по группам')\n",
    "\n",
    "plt.legend()"
   ]
  },
  {
   "cell_type": "markdown",
   "metadata": {},
   "source": [
    "Конверсия в покупателей колебалась примерно симметрично. В начале группа А вырывалась вперед, но к концу теста (и графика) мы наблюдаем, что конверсия в группе В ~ 0.34 установилась на уровне выше, чем группа А ~ 0.28. "
   ]
  },
  {
   "cell_type": "markdown",
   "metadata": {},
   "source": [
    "5. Построим график относительного изменения кумулятивной конверсии группы B к группе A. Сделаем выводы и предположения."
   ]
  },
  {
   "cell_type": "code",
   "execution_count": 42,
   "metadata": {
    "scrolled": true
   },
   "outputs": [
    {
     "data": {
      "text/plain": [
       "<function matplotlib.pyplot.show(close=None, block=None)>"
      ]
     },
     "execution_count": 42,
     "metadata": {},
     "output_type": "execute_result"
    },
    {
     "data": {
      "image/png": "[encoded data removed]",
      "text/plain": [
       "<Figure size 432x432 with 1 Axes>"
      ]
     },
     "metadata": {
      "needs_background": "light"
     },
     "output_type": "display_data"
    }
   ],
   "source": [
    "# Сделаем таблицу с кумулятивными данными по двум группам о дате и конверсии.\n",
    "\n",
    "mergedCumulativeConversions = cumulativeDataA[['date','conversion']].merge(cumulativeDataB[['date','conversion']], left_on='date', right_on='date', how='left', suffixes=['A', 'B'])\n",
    "\n",
    "plt.figure(figsize=(6, 6))\n",
    "plt.plot(mergedCumulativeConversions['date'], mergedCumulativeConversions['conversionB']/mergedCumulativeConversions['conversionA']-1, label=\"Относительный прирост конверсии группы B относительно группы A\")\n",
    "plt.legend()\n",
    "\n",
    "plt.axhline(y=0, color='black', linestyle='--')\n",
    "\n",
    "plt.xlabel('Число месяца')\n",
    "plt.ylabel('Относительное изменение кумулятивной конверсии')\n",
    "plt.title('График относительного изменения кумулятивной конверсии по группам')\n",
    "plt.show \n"
   ]
  },
  {
   "cell_type": "markdown",
   "metadata": {},
   "source": [
    "В начале теста группа В значительно проигравыла группе А, но через непродолжительное время группа стала лидировать и за период теста больше не падала, можно считать, что она более-менее установилась."
   ]
  },
  {
   "cell_type": "markdown",
   "metadata": {},
   "source": [
    "6. Построим точечный график количества заказов по пользователям. Сделаем выводы и предположения."
   ]
  },
  {
   "cell_type": "code",
   "execution_count": 43,
   "metadata": {},
   "outputs": [],
   "source": [
    "# Посчитаем кол-во заказов приходящееся на одного клиента.\n",
    "\n",
    "ordersByUsers = (\n",
    "    orders.groupby('visitorId', as_index=False)\n",
    "    .agg({'transactionId': 'nunique'})\n",
    ")\n",
    "\n",
    "ordersByUsers.columns = ['userId', 'orders']"
   ]
  },
  {
   "cell_type": "code",
   "execution_count": 44,
   "metadata": {},
   "outputs": [
    {
     "data": {
      "text/plain": [
       "Text(0.5, 1.0, 'Диаграмма количества заказов, приходящихся на одного пользователя')"
      ]
     },
     "execution_count": 44,
     "metadata": {},
     "output_type": "execute_result"
    },
    {
     "data": {
      "image/png": "[encoded data removed]",
      "text/plain": [
       "<Figure size 432x432 with 1 Axes>"
      ]
     },
     "metadata": {
      "needs_background": "light"
     },
     "output_type": "display_data"
    }
   ],
   "source": [
    "# Построим точечную диаграмму по количеству заказов приходящихся на одного клиента.\n",
    "\n",
    "x_values = pd.Series(range(0,len(ordersByUsers)))\n",
    "\n",
    "plt.figure(figsize=(6, 6))\n",
    "\n",
    "plt.scatter(x_values, ordersByUsers['orders'])\n",
    "\n",
    "\n",
    "plt.xlabel('Число пользователей, совершивших заказы')\n",
    "plt.ylabel('Количество заказов')\n",
    "plt.title('Диаграмма количества заказов, приходящихся на одного пользователя')\n",
    " "
   ]
  },
  {
   "cell_type": "markdown",
   "metadata": {},
   "source": [
    "Наибольшее число пользователей сделали по одному заказу, небольшой процент сделали по 2 заказа, более 2 заказов делали единицы пользователей. "
   ]
  },
  {
   "cell_type": "markdown",
   "metadata": {},
   "source": [
    "7. Посчитаем 95-й и 99-й перцентили количества заказов на пользователя. Выберем границу для определения аномальных пользователей."
   ]
  },
  {
   "cell_type": "code",
   "execution_count": 45,
   "metadata": {},
   "outputs": [
    {
     "data": {
      "text/plain": [
       "array([1., 2.])"
      ]
     },
     "execution_count": 45,
     "metadata": {},
     "output_type": "execute_result"
    }
   ],
   "source": [
    "# Считаем 95-й и 99-й перцентили для количества заказов.\n",
    "\n",
    "np.percentile(ordersByUsers['orders'], [95, 99])"
   ]
  },
  {
   "cell_type": "markdown",
   "metadata": {},
   "source": [
    "Итак, 95% пользователей делают 2 и менее заказов, и только 1% пользователей делают свыше 4 заказов. При удалении аномальных значений будем убирать заказы более 3. "
   ]
  },
  {
   "cell_type": "code",
   "execution_count": 46,
   "metadata": {},
   "outputs": [
    {
     "data": {
      "text/plain": [
       "2"
      ]
     },
     "execution_count": 46,
     "metadata": {},
     "output_type": "execute_result"
    }
   ],
   "source": [
    "# Сохраним число заказов в переменную-фильтр.\n",
    "\n",
    "count_orders_filter = 2\n",
    "\n",
    "count_orders_filter"
   ]
  },
  {
   "cell_type": "markdown",
   "metadata": {},
   "source": [
    "8. Построим точечный график стоимостей заказов. Сделаем выводы и предположения."
   ]
  },
  {
   "cell_type": "code",
   "execution_count": 47,
   "metadata": {},
   "outputs": [],
   "source": [
    "# Посчитаем сумму заказов приходящююся на одного клиента.\n",
    "\n",
    "revenueByUsers = (\n",
    "    orders.groupby('visitorId', as_index=False)\n",
    "    .agg({'revenue': 'sum'})\n",
    ")\n",
    "\n",
    "revenueByUsers.columns = ['userId', 'revenue']"
   ]
  },
  {
   "cell_type": "code",
   "execution_count": 48,
   "metadata": {
    "scrolled": false
   },
   "outputs": [
    {
     "data": {
      "text/plain": [
       "Text(0.5, 1.0, 'Диаграмма сумм заказов, приходящихся на одного пользователя')"
      ]
     },
     "execution_count": 48,
     "metadata": {},
     "output_type": "execute_result"
    },
    {
     "data": {
      "image/png": "[encoded data removed]",
      "text/plain": [
       "<Figure size 432x288 with 1 Axes>"
      ]
     },
     "metadata": {
      "needs_background": "light"
     },
     "output_type": "display_data"
    }
   ],
   "source": [
    "# Строим точечную диаграмму по сумме выручки.\n",
    "\n",
    "x_values = pd.Series(range(0,len(revenueByUsers)))\n",
    "\n",
    "plt.scatter(x_values, revenueByUsers['revenue'])\n",
    "\n",
    "plt.xlabel('Число пользователей, совершивших такие заказы')\n",
    "plt.ylabel('Сумма заказов')\n",
    "plt.title('Диаграмма сумм заказов, приходящихся на одного пользователя')"
   ]
  },
  {
   "cell_type": "code",
   "execution_count": 49,
   "metadata": {},
   "outputs": [
    {
     "data": {
      "text/plain": [
       "Text(0.5, 1.0, 'Диаграмма сумм заказов, приходящихся на одного пользователя')"
      ]
     },
     "execution_count": 49,
     "metadata": {},
     "output_type": "execute_result"
    },
    {
     "data": {
      "image/png": "[encoded data removed]",
      "text/plain": [
       "<Figure size 432x288 with 1 Axes>"
      ]
     },
     "metadata": {
      "needs_background": "light"
     },
     "output_type": "display_data"
    }
   ],
   "source": [
    "# Строим точечную диаграмму по сумме выручки с ограничением по оси Y.\n",
    "\n",
    "x_values = pd.Series(range(0,len(revenueByUsers)))\n",
    "\n",
    "plt.scatter(x_values, revenueByUsers['revenue'])\n",
    "plt.ylim([0, 100000])\n",
    "plt.xlabel('Число пользователей, совершивших такие заказы')\n",
    "plt.ylabel('Сумма заказов')\n",
    "plt.title('Диаграмма сумм заказов, приходящихся на одного пользователя')"
   ]
  },
  {
   "cell_type": "markdown",
   "metadata": {},
   "source": [
    "Заказы свыше 20000,00 были очень редкими, также видим, что был очень крупный заказ на 1.2 млн."
   ]
  },
  {
   "cell_type": "markdown",
   "metadata": {},
   "source": [
    "9. Посчитаем 95-й и 99-й перцентили стоимости заказов. Выберем границу для определения аномальных заказов."
   ]
  },
  {
   "cell_type": "code",
   "execution_count": 50,
   "metadata": {},
   "outputs": [
    {
     "data": {
      "text/plain": [
       "array([26785., 53904.])"
      ]
     },
     "execution_count": 50,
     "metadata": {},
     "output_type": "execute_result"
    }
   ],
   "source": [
    "np.percentile(orders['revenue'], [95, 99])"
   ]
  },
  {
   "cell_type": "markdown",
   "metadata": {},
   "source": [
    "Заказы свыше 26 тысяч сделали только 5 процентов, заказы свыше 53 тысяч сделали 1 % клиентов. Аномальными будем считать значения свыше 26785.0. "
   ]
  },
  {
   "cell_type": "code",
   "execution_count": 51,
   "metadata": {},
   "outputs": [
    {
     "data": {
      "text/plain": [
       "26785"
      ]
     },
     "execution_count": 51,
     "metadata": {},
     "output_type": "execute_result"
    }
   ],
   "source": [
    "# Сохраним фильтр в переменную.\n",
    "\n",
    "orders_filter = 26785\n",
    "\n",
    "orders_filter"
   ]
  },
  {
   "cell_type": "markdown",
   "metadata": {},
   "source": [
    "10. Посчитаем статистическую значимость различий в конверсии между группами по «сырым» данным. Сделаем выводы и предположения."
   ]
  },
  {
   "cell_type": "markdown",
   "metadata": {},
   "source": [
    "Подготовим данные для анализа. "
   ]
  },
  {
   "cell_type": "markdown",
   "metadata": {},
   "source": [
    "Нам необходимо посчитать:\n",
    "\n",
    "- количество заказов в выбранную дату по группам, \n",
    "- суммарную выручку в выбранную дату по группам, \n",
    "- суммарное число заказов до выбранной даты включительно по группам, \n",
    "- суммарную выручку до выбранной даты включительно по группам, \n",
    "- количество пользователей в выбранную дату по группам, \n",
    "- количество пользователей до выбранной даты включительно по группам, \n",
    "все это нам необходимо привязать к столбцу с датой. \n",
    "\n",
    "Для этого нам понадобятся таблицы orders и visitors."
   ]
  },
  {
   "cell_type": "code",
   "execution_count": 52,
   "metadata": {},
   "outputs": [],
   "source": [
    "# Находим все строки с датами и пользователями из группы А.\n",
    "\n",
    "visitorsADaily = visitors[visitors['group'] == 'A'][['date', 'visitors']]\n",
    "visitorsADaily.columns = ['date', 'visitorsPerDateA']\n",
    "\n",
    "# Находим все строки с датами и пользователями до выбранной даты в группе А.\n",
    "\n",
    "visitorsACummulative = visitorsADaily.apply(\n",
    "    lambda x: visitorsADaily[visitorsADaily['date'] <= x['date']].agg(\n",
    "        {'date': 'max', 'visitorsPerDateA': 'sum'}\n",
    "    ),\n",
    "    axis=1,\n",
    ")\n",
    "visitorsACummulative.columns = ['date', 'visitorsCummulativeA']\n",
    "\n",
    "# Находим все строки с датами и пользователями из группы В.\n",
    "\n",
    "visitorsBDaily = visitors[visitors['group'] == 'B'][['date', 'visitors']]\n",
    "visitorsBDaily.columns = ['date', 'visitorsPerDateB']\n",
    "\n",
    "\n",
    "# Находим все строки с датами и пользователями до выбранной даты в группе В.\n",
    "\n",
    "visitorsBCummulative = visitorsBDaily.apply(\n",
    "    lambda x: visitorsBDaily[visitorsBDaily['date'] <= x['date']].agg(\n",
    "        {'date': 'max', 'visitorsPerDateB': 'sum'}\n",
    "    ),\n",
    "    axis=1,\n",
    ")\n",
    "visitorsBCummulative.columns = ['date', 'visitorsCummulativeB']\n",
    "\n",
    "# Считаем количество количество заказов, выручку, количество посетителей по дням в группе А.\n",
    "\n",
    "ordersADaily = (\n",
    "    orders[orders['group'] == 'A'][['date', 'transactionId', 'visitorId', 'revenue']]\n",
    "    .groupby('date', as_index=False)\n",
    "    .agg({'transactionId': pd.Series.nunique, 'revenue': 'sum'})\n",
    ")\n",
    "ordersADaily.columns = ['date', 'ordersPerDateA', 'revenuePerDateA']\n",
    "\n",
    "# Считаем количество количество заказов, выручку, количество посетителей в указанную дату в группе А.\n",
    "\n",
    "ordersACummulative = ordersADaily.apply(\n",
    "    lambda x: ordersADaily[ordersADaily['date'] <= x['date']].agg(\n",
    "        {'date': 'max', 'ordersPerDateA': 'sum', 'revenuePerDateA': 'sum'}\n",
    "    ),\n",
    "    axis=1,\n",
    ").sort_values(by=['date'])\n",
    "ordersACummulative.columns = [\n",
    "    'date',\n",
    "    'ordersCummulativeA',\n",
    "    'revenueCummulativeA',\n",
    "]\n",
    "\n",
    "# Считаем количество количество заказов, выручку, количество посетителей по дням в группе В.\n",
    "\n",
    "ordersBDaily = (\n",
    "    orders[orders['group'] == 'B'][['date', 'transactionId', 'visitorId', 'revenue']]\n",
    "    .groupby('date', as_index=False)\n",
    "    .agg({'transactionId': pd.Series.nunique, 'revenue': 'sum'})\n",
    ")\n",
    "ordersBDaily.columns = ['date', 'ordersPerDateB', 'revenuePerDateB']\n",
    "\n",
    "# Считаем количество количество заказов, выручку, количество посетителей в указанную дату в группе В.\n",
    "\n",
    "ordersBCummulative = ordersBDaily.apply(\n",
    "    lambda x: ordersBDaily[ordersBDaily['date'] <= x['date']].agg(\n",
    "        {'date': 'max', 'ordersPerDateB': 'sum', 'revenuePerDateB': 'sum'}\n",
    "    ),\n",
    "    axis=1,\n",
    ").sort_values(by=['date'])\n",
    "ordersBCummulative.columns = [\n",
    "    'date',\n",
    "    'ordersCummulativeB',\n",
    "    'revenueCummulativeB',\n",
    "]"
   ]
  },
  {
   "cell_type": "code",
   "execution_count": 53,
   "metadata": {},
   "outputs": [
    {
     "data": {
      "text/html": [
       "<div>\n",
       "<style scoped>\n",
       "    .dataframe tbody tr th:only-of-type {\n",
       "        vertical-align: middle;\n",
       "    }\n",
       "\n",
       "    .dataframe tbody tr th {\n",
       "        vertical-align: top;\n",
       "    }\n",
       "\n",
       "    .dataframe thead th {\n",
       "        text-align: right;\n",
       "    }\n",
       "</style>\n",
       "<table border=\"1\" class=\"dataframe\">\n",
       "  <thead>\n",
       "    <tr style=\"text-align: right;\">\n",
       "      <th></th>\n",
       "      <th>date</th>\n",
       "      <th>ordersPerDateA</th>\n",
       "      <th>revenuePerDateA</th>\n",
       "      <th>ordersPerDateB</th>\n",
       "      <th>revenuePerDateB</th>\n",
       "      <th>ordersCummulativeA</th>\n",
       "      <th>revenueCummulativeA</th>\n",
       "      <th>ordersCummulativeB</th>\n",
       "      <th>revenueCummulativeB</th>\n",
       "      <th>visitorsPerDateA</th>\n",
       "      <th>visitorsPerDateB</th>\n",
       "      <th>visitorsCummulativeA</th>\n",
       "      <th>visitorsCummulativeB</th>\n",
       "    </tr>\n",
       "  </thead>\n",
       "  <tbody>\n",
       "    <tr>\n",
       "      <th>0</th>\n",
       "      <td>2019-08-01</td>\n",
       "      <td>23</td>\n",
       "      <td>142779</td>\n",
       "      <td>17</td>\n",
       "      <td>59758</td>\n",
       "      <td>23</td>\n",
       "      <td>142779</td>\n",
       "      <td>17</td>\n",
       "      <td>59758</td>\n",
       "      <td>719</td>\n",
       "      <td>713</td>\n",
       "      <td>719</td>\n",
       "      <td>713</td>\n",
       "    </tr>\n",
       "    <tr>\n",
       "      <th>1</th>\n",
       "      <td>2019-08-02</td>\n",
       "      <td>19</td>\n",
       "      <td>91602</td>\n",
       "      <td>23</td>\n",
       "      <td>162043</td>\n",
       "      <td>42</td>\n",
       "      <td>234381</td>\n",
       "      <td>40</td>\n",
       "      <td>221801</td>\n",
       "      <td>619</td>\n",
       "      <td>581</td>\n",
       "      <td>1338</td>\n",
       "      <td>1294</td>\n",
       "    </tr>\n",
       "    <tr>\n",
       "      <th>2</th>\n",
       "      <td>2019-08-03</td>\n",
       "      <td>24</td>\n",
       "      <td>112473</td>\n",
       "      <td>14</td>\n",
       "      <td>67049</td>\n",
       "      <td>66</td>\n",
       "      <td>346854</td>\n",
       "      <td>54</td>\n",
       "      <td>288850</td>\n",
       "      <td>507</td>\n",
       "      <td>509</td>\n",
       "      <td>1845</td>\n",
       "      <td>1803</td>\n",
       "    </tr>\n",
       "    <tr>\n",
       "      <th>3</th>\n",
       "      <td>2019-08-04</td>\n",
       "      <td>11</td>\n",
       "      <td>41176</td>\n",
       "      <td>14</td>\n",
       "      <td>96890</td>\n",
       "      <td>77</td>\n",
       "      <td>388030</td>\n",
       "      <td>68</td>\n",
       "      <td>385740</td>\n",
       "      <td>717</td>\n",
       "      <td>770</td>\n",
       "      <td>2562</td>\n",
       "      <td>2573</td>\n",
       "    </tr>\n",
       "    <tr>\n",
       "      <th>4</th>\n",
       "      <td>2019-08-05</td>\n",
       "      <td>22</td>\n",
       "      <td>86383</td>\n",
       "      <td>21</td>\n",
       "      <td>89908</td>\n",
       "      <td>99</td>\n",
       "      <td>474413</td>\n",
       "      <td>89</td>\n",
       "      <td>475648</td>\n",
       "      <td>756</td>\n",
       "      <td>707</td>\n",
       "      <td>3318</td>\n",
       "      <td>3280</td>\n",
       "    </tr>\n",
       "  </tbody>\n",
       "</table>\n",
       "</div>"
      ],
      "text/plain": [
       "        date  ordersPerDateA  revenuePerDateA  ordersPerDateB  \\\n",
       "0 2019-08-01              23           142779              17   \n",
       "1 2019-08-02              19            91602              23   \n",
       "2 2019-08-03              24           112473              14   \n",
       "3 2019-08-04              11            41176              14   \n",
       "4 2019-08-05              22            86383              21   \n",
       "\n",
       "   revenuePerDateB  ordersCummulativeA  revenueCummulativeA  \\\n",
       "0            59758                  23               142779   \n",
       "1           162043                  42               234381   \n",
       "2            67049                  66               346854   \n",
       "3            96890                  77               388030   \n",
       "4            89908                  99               474413   \n",
       "\n",
       "   ordersCummulativeB  revenueCummulativeB  visitorsPerDateA  \\\n",
       "0                  17                59758               719   \n",
       "1                  40               221801               619   \n",
       "2                  54               288850               507   \n",
       "3                  68               385740               717   \n",
       "4                  89               475648               756   \n",
       "\n",
       "   visitorsPerDateB  visitorsCummulativeA  visitorsCummulativeB  \n",
       "0               713                   719                   713  \n",
       "1               581                  1338                  1294  \n",
       "2               509                  1845                  1803  \n",
       "3               770                  2562                  2573  \n",
       "4               707                  3318                  3280  "
      ]
     },
     "execution_count": 53,
     "metadata": {},
     "output_type": "execute_result"
    }
   ],
   "source": [
    "# Объединяем полученные таблицы в одну.\n",
    "\n",
    "data = (\n",
    "    ordersADaily.merge(\n",
    "        ordersBDaily, left_on='date', right_on='date', how='left'\n",
    "    )\n",
    "    .merge(ordersACummulative, left_on='date', right_on='date', how='left')\n",
    "    .merge(ordersBCummulative, left_on='date', right_on='date', how='left')\n",
    "    .merge(visitorsADaily, left_on='date', right_on='date', how='left')\n",
    "    .merge(visitorsBDaily, left_on='date', right_on='date', how='left')\n",
    "    .merge(visitorsACummulative, left_on='date', right_on='date', how='left')\n",
    "    .merge(visitorsBCummulative, left_on='date', right_on='date', how='left')\n",
    ")\n",
    "\n",
    "data.head(5)"
   ]
  },
  {
   "cell_type": "markdown",
   "metadata": {},
   "source": [
    "Итого мы получили таблицу со столбцами:\n",
    "date — дата;\n",
    "ordersPerDateA — количество заказов в выбранную дату в группе A;\n",
    "revenuePerDateA — суммарная выручка в выбранную дату в группе A;\n",
    "ordersPerDateB — количество заказов в выбранную дату в группе B;\n",
    "revenuePerDateB — суммарная выручка в выбранную дату в группе B;\n",
    "ordersCummulativeA — суммарное число заказов до выбранной даты включительно в группе A;\n",
    "revenueCummulativeA — суммарная выручка до выбранной даты включительно в группе A;\n",
    "ordersCummulativeB — суммарное количество заказов до выбранной даты включительно в группе B;\n",
    "revenueCummulativeB — суммарная выручка до выбранной даты включительно в группе B;\n",
    "visitorsPerDateA — количество пользователей в выбранную дату в группе A;\n",
    "visitorsPerDateB — количество пользователей в выбранную дату в группе B;\n",
    "visitorsCummulativeA — количество пользователей до выбранной даты включительно в группе A;\n",
    "visitorsCummulativeB — количество пользователей до выбранной даты включительно в группе B."
   ]
  },
  {
   "cell_type": "markdown",
   "metadata": {},
   "source": [
    "Сформулируем гипотезы: \n",
    "\n",
    "Н0: различий в конверсии в заказы заказов между группами \"по сырым\" данным нет.\n",
    "\n",
    "Н1: различия в конверсии между группами есть."
   ]
  },
  {
   "cell_type": "markdown",
   "metadata": {},
   "source": [
    "Посчитаем статистическую значимость различия в конверсии в заказы заказов между группами.\n",
    "\n",
    "Создадим переменные ordersByUsersA и ordersByUsersB со столбцами ['userId', 'orders']. \n",
    "\n",
    "В них для пользователей, которые заказывали хотя бы 1 раз, укажем число совершённых заказов."
   ]
  },
  {
   "cell_type": "code",
   "execution_count": 54,
   "metadata": {},
   "outputs": [],
   "source": [
    "# Создаем переменную для группы А с заказами для каждого пользователя. \n",
    "\n",
    "ordersByUsersA = (\n",
    "    orders[orders['group'] == 'A']\n",
    "    .groupby('visitorId', as_index=False)\n",
    "    .agg({'transactionId': pd.Series.nunique})\n",
    ")\n",
    "ordersByUsersA.columns = ['userId', 'orders']\n",
    "\n",
    "# Создаем переменную для группы В с заказами для каждого пользователя. \n",
    "\n",
    "ordersByUsersB = (\n",
    "    orders[orders['group'] == 'B']\n",
    "    .groupby('visitorId', as_index=False)\n",
    "    .agg({'transactionId': pd.Series.nunique})\n",
    ")\n",
    "ordersByUsersB.columns = ['userId', 'orders']\n"
   ]
  },
  {
   "cell_type": "markdown",
   "metadata": {},
   "source": [
    "Объявим переменные sampleA и sampleB, в которых пользователям из разных групп будет соответствовать количество заказов. Тем, кто ничего не заказал, будут соответствовать нули. Это нужно, чтобы подготовить выборки к проверке критерием Манна-Уитни."
   ]
  },
  {
   "cell_type": "code",
   "execution_count": 55,
   "metadata": {},
   "outputs": [],
   "source": [
    "sampleA = pd.concat([ordersByUsersA['orders'],pd.Series(0, index=np.arange(data['visitorsPerDateA']\n",
    "                                                                           .sum() - len(ordersByUsersA['orders'])),\n",
    "                                                        name='orders')],axis=0)\n",
    "\n",
    "sampleB = pd.concat([ordersByUsersB['orders'],pd.Series(0, index=np.arange(data['visitorsPerDateB']\n",
    "                                                                           .sum() - len(ordersByUsersB['orders'])),\n",
    "                                                        name='orders')],axis=0)"
   ]
  },
  {
   "cell_type": "code",
   "execution_count": 56,
   "metadata": {},
   "outputs": [
    {
     "name": "stdout",
     "output_type": "stream",
     "text": [
      "p-value: 0.011\n",
      "различие в средних: 0.160\n"
     ]
    }
   ],
   "source": [
    "# Применим критерий Манна-Уитни для полученных переменных с количествами заказов.\n",
    "\n",
    "print('p-value:', \"{0:.3f}\".format(st.mannwhitneyu(sampleA, sampleB)[1]))\n",
    "\n",
    "print('различие в средних:', \"{0:.3f}\".format(sampleB.mean() / sampleA.mean() - 1))"
   ]
  },
  {
   "cell_type": "markdown",
   "metadata": {},
   "source": [
    "По «сырым» данным различий в конверсии в заказы между группами A и B нет.\n",
    "Первое число — p-value = 0.011 меньше 0.05. Значит, нулевую гипотезу о том, что статистически значимых различий в среднем числе заказов между группами нет, мы отвергаем. Относительный выигрыш группы B равен 16% — второе число в выводе."
   ]
  },
  {
   "cell_type": "markdown",
   "metadata": {},
   "source": [
    "11. Посчитаем статистическую значимость различий в среднем чеке заказа между группами по «сырым» данным. Сделаем выводы и предположения."
   ]
  },
  {
   "cell_type": "markdown",
   "metadata": {},
   "source": [
    "Н0: различий в среднем чеке между группами нет. Н1: различия в среднем чеке между группами есть."
   ]
  },
  {
   "cell_type": "markdown",
   "metadata": {},
   "source": [
    "Чтобы рассчитать статистическую значимость различий в среднем чеке, передадим критерию mannwhitneyu() данные о выручке с заказов."
   ]
  },
  {
   "cell_type": "code",
   "execution_count": 57,
   "metadata": {},
   "outputs": [
    {
     "name": "stdout",
     "output_type": "stream",
     "text": [
      "p-value: 0.829\n",
      "различие в средних: 0.287\n"
     ]
    }
   ],
   "source": [
    "# Применим критерий Манна-Уитни для данных о выручке с заказов.\n",
    "\n",
    "print('p-value:', '{0:.3f}'.format(st.mannwhitneyu(orders[orders['group']=='A']['revenue'],\n",
    "                                          orders[orders['group']=='B']['revenue'])[1]))\n",
    "print('различие в средних:', '{0:.3f}'.format(orders[orders['group']=='B']['revenue']\n",
    "                       .mean()/orders[orders['group']=='A']['revenue'].mean()-1))"
   ]
  },
  {
   "cell_type": "markdown",
   "metadata": {},
   "source": [
    "P-value=0.829, что значительно больше 0.05. Значит, причин отвергать нулевую гипотезу и считать, что в среднем чеке есть различия, нет. Впрочем, средний чек группы B не ниже среднего чека группы A, а незначительно выше = 0.287. Наблюдаемые различия не являются значимыми при таком уровне значимости, а следовательно получены случайно."
   ]
  },
  {
   "cell_type": "markdown",
   "metadata": {},
   "source": [
    "12. Посчитаем статистическую значимость различий в конверсии между группами по «очищенным» данным. Сделаем выводы и предположения."
   ]
  },
  {
   "cell_type": "code",
   "execution_count": 58,
   "metadata": {},
   "outputs": [
    {
     "data": {
      "text/plain": [
       "568     113298937\n",
       "1099    148427295\n",
       "928     204675465\n",
       "33      249864742\n",
       "684     358944393\n",
       "dtype: int64"
      ]
     },
     "metadata": {},
     "output_type": "display_data"
    },
    {
     "data": {
      "text/plain": [
       "86"
      ]
     },
     "metadata": {},
     "output_type": "display_data"
    }
   ],
   "source": [
    "# Отфильтруем данные по количеству заказов менее 3 и по сумме покупки менее 26785.0.\n",
    "\n",
    "usersWithManyOrders = pd.concat(\n",
    "    [\n",
    "        ordersByUsersA[ordersByUsersA['orders'] >= count_orders_filter]['userId'],\n",
    "        ordersByUsersB[ordersByUsersB['orders'] >= count_orders_filter]['userId'],\n",
    "    ],\n",
    "    axis=0,\n",
    ")\n",
    "usersWithExpensiveOrders = orders[orders['revenue'] > orders_filter]['visitorId']\n",
    "abnormalUsers = (\n",
    "    pd.concat([usersWithManyOrders, usersWithExpensiveOrders], axis=0)\n",
    "    .drop_duplicates()\n",
    "    .sort_values()\n",
    ")\n",
    "display(abnormalUsers.head(5))\n",
    "display(abnormalUsers.shape[0]) "
   ]
  },
  {
   "cell_type": "code",
   "execution_count": 59,
   "metadata": {},
   "outputs": [
    {
     "data": {
      "text/plain": [
       "1099    148427295\n",
       "33      249864742\n",
       "36      366673373\n",
       "51      406208401\n",
       "67      522292794\n",
       "dtype: int64"
      ]
     },
     "metadata": {},
     "output_type": "display_data"
    },
    {
     "data": {
      "text/plain": [
       "45"
      ]
     },
     "metadata": {},
     "output_type": "display_data"
    }
   ],
   "source": [
    "# Отфильтруем данные по количеству заказов менее 3 и по сумме покупки менее 26785.0.\n",
    "\n",
    "usersWithManyOrders = pd.concat(\n",
    "    [\n",
    "        ordersByUsersA[ordersByUsersA['orders'] >= np.percentile(ordersByUsers['orders'], 99)]['userId'],\n",
    "        ordersByUsersB[ordersByUsersB['orders'] >= np.percentile(ordersByUsers['orders'], 99)]['userId'],\n",
    "    ],\n",
    "    axis=0,\n",
    ")\n",
    "usersWithExpensiveOrders = orders[orders['revenue'] > np.percentile(orders['revenue'], 99)]['visitorId']\n",
    "abnormalUsers = (\n",
    "    pd.concat([usersWithManyOrders, usersWithExpensiveOrders], axis=0)\n",
    "    .drop_duplicates()\n",
    "    .sort_values()\n",
    ")\n",
    "display(abnormalUsers.head(5))\n",
    "display(abnormalUsers.shape[0]) "
   ]
  },
  {
   "cell_type": "markdown",
   "metadata": {},
   "source": [
    "Всего 86 аномальных пользователей."
   ]
  },
  {
   "cell_type": "markdown",
   "metadata": {},
   "source": [
    "Узнаем, как их действия повлияли на результаты теста. Посчитаем статистическую значимость различий в среднем количестве заказов между группами теста по очищенным данным. Сначала подготовим выборки количества заказов по пользователям по группам теста:"
   ]
  },
  {
   "cell_type": "code",
   "execution_count": 60,
   "metadata": {},
   "outputs": [],
   "source": [
    "# Создадим переменные с отфильтрованными данными по количеству заказов по пользователмя по тестовым группам. \n",
    "\n",
    "sampleAFiltered = pd.concat(\n",
    "    [\n",
    "        ordersByUsersA[\n",
    "            np.logical_not(ordersByUsersA['userId'].isin(abnormalUsers))\n",
    "        ]['orders'],\n",
    "        pd.Series(\n",
    "            0,\n",
    "            index=np.arange(\n",
    "                data['visitorsPerDateA'].sum() - len(ordersByUsersA['orders'])\n",
    "            ),\n",
    "            name='orders',\n",
    "        ),\n",
    "    ],\n",
    "    axis=0,\n",
    ")\n",
    "\n",
    "sampleBFiltered = pd.concat(\n",
    "    [\n",
    "        ordersByUsersB[\n",
    "            np.logical_not(ordersByUsersB['userId'].isin(abnormalUsers))\n",
    "        ]['orders'],\n",
    "        pd.Series(\n",
    "            0,\n",
    "            index=np.arange(\n",
    "                data['visitorsPerDateB'].sum() - len(ordersByUsersB['orders'])\n",
    "            ),\n",
    "            name='orders',\n",
    "        ),\n",
    "    ],\n",
    "    axis=0,\n",
    ")"
   ]
  },
  {
   "cell_type": "markdown",
   "metadata": {},
   "source": [
    "Применим статистический критерий Манна-Уитни к полученным выборкам:\n"
   ]
  },
  {
   "cell_type": "code",
   "execution_count": 61,
   "metadata": {},
   "outputs": [
    {
     "name": "stdout",
     "output_type": "stream",
     "text": [
      "p-value: 0.008\n",
      "различие в средних: 0.188\n"
     ]
    }
   ],
   "source": [
    "print('p-value:','{0:.3f}'.format(st.mannwhitneyu(sampleAFiltered, sampleBFiltered)[1]))\n",
    "print('различие в средних:','{0:.3f}'.format(sampleBFiltered.mean()/sampleAFiltered.mean()-1))"
   ]
  },
  {
   "cell_type": "markdown",
   "metadata": {},
   "source": [
    "По отфильтрованным данным различий в конверсии в заказы между группами A и B нет.\n",
    "Первое число — p-value = 0.016 меньше 0.05. Значит, нулевую гипотезу о том, что статистически значимых различий в среднем числе заказов между группами нет, отвергаем. Относительный выигрыш группы B равен 17.4% — второе число в выводе.\n",
    "\n",
    "Отличия отфильтрованных данных от \"сырых\" не значительное. p-value 0.11 против 0.16. \n",
    "Количество заказов в группе В по отфильтрованным данным также не сильно отличается от \"сырых\": 16.% против 17.4%."
   ]
  },
  {
   "cell_type": "markdown",
   "metadata": {},
   "source": [
    "13. Посчитаем статистическую значимость различий в среднем чеке заказа между группами по «очищенным» данным. Сделаем выводы и предположения."
   ]
  },
  {
   "cell_type": "code",
   "execution_count": 62,
   "metadata": {},
   "outputs": [
    {
     "name": "stdout",
     "output_type": "stream",
     "text": [
      "p-value: 0.969\n",
      "различие в средних: 0.002\n"
     ]
    }
   ],
   "source": [
    "# Применим критерий Манна-Уитни для очищенных данных по среднему чеку. \n",
    "\n",
    "print('p-value:', \n",
    "    '{0:.3f}'.format(\n",
    "        st.mannwhitneyu(\n",
    "            orders[\n",
    "                np.logical_and(\n",
    "                    orders['group'] == 'A',\n",
    "                    np.logical_not(orders['visitorId'].isin(abnormalUsers)),\n",
    "                )\n",
    "            ]['revenue'],\n",
    "            orders[\n",
    "                np.logical_and(\n",
    "                    orders['group'] == 'B',\n",
    "                    np.logical_not(orders['visitorId'].isin(abnormalUsers)),\n",
    "                )\n",
    "            ]['revenue'],\n",
    "        )[1]\n",
    "    )\n",
    ")\n",
    "\n",
    "print('различие в средних:', \n",
    "    \"{0:.3f}\".format(\n",
    "        orders[\n",
    "            np.logical_and(\n",
    "                orders['group'] == 'B',\n",
    "                np.logical_not(orders['visitorId'].isin(abnormalUsers)),\n",
    "            )\n",
    "        ]['revenue'].mean()\n",
    "        / orders[\n",
    "            np.logical_and(\n",
    "                orders['group'] == 'A',\n",
    "                np.logical_not(orders['visitorId'].isin(abnormalUsers)),\n",
    "            )\n",
    "        ]['revenue'].mean()\n",
    "        - 1\n",
    "    )\n",
    ")"
   ]
  },
  {
   "cell_type": "markdown",
   "metadata": {},
   "source": [
    "P-value увеличился, но и разница между сегментами сократилась с 28,7% до 0,2%."
   ]
  },
  {
   "cell_type": "markdown",
   "metadata": {},
   "source": [
    "P-value=0.969, что значительно больше 0.05. Значит, причин отвергать нулевую гипотезу и считать, что в среднем чеке есть различия, нет."
   ]
  },
  {
   "cell_type": "markdown",
   "metadata": {},
   "source": [
    "14. Примем решение по результатам теста."
   ]
  },
  {
   "cell_type": "markdown",
   "metadata": {},
   "source": [
    "По результатам анализа мы не наблюдаем значительных изменений в среднем чеке, но зато фиксируем увеличение конверсии в группе В. Увеличение конверсии и плюс даже незначительное увеличение чека это успех и тест можно останавливать. Считаем, что группа В победила и можно вводить тестируемую гипотезу в постоянную работу.  "
   ]
  },
  {
   "cell_type": "markdown",
   "metadata": {},
   "source": [
    "## Вывод"
   ]
  },
  {
   "cell_type": "markdown",
   "metadata": {},
   "source": [
    "У нас было 9 гипотез, которые мы приотеризировали 2 методами: ICE и RICE. \n",
    "\n",
    "Две гипотезы вошли в ТОП-3 приоретизации по обоим методам, это: \n",
    "- гипотеза 7: Добавить форму подписки на все основные страницы, чтобы собрать базу клиентов для email-рассылок;\n",
    "- гипотезу 0: Добавить два новых канала привлечения трафика, что позволит привлекать на 30% больше пользователей. \n",
    "\n",
    "Тестирование гипотезы проводилось в период с 1 по 31 августа.\n",
    "\n",
    "Тестовых группы было 2: А и В. Численность тестовых групп (уникальных пользователей): А - 445 и В - 528. \n",
    "\n",
    "Перед проведением статистических тестов мы убедились, что выборки с визитами по группам не имеют статитсически значимых различий, применив тест Уилкоксона-Манна-Уитни. \n",
    "\n",
    "По графику кумулятивной выручки по группам мы определили, что выручка почти равномерно увеличивается на проятжении всего теста, за исключением скачка в тестовой группе В, скорее всего это был како-то аномально большой заказ. По данному графику можно сделать первичные выводы о том, что тестовая группа В приносит больше прибыли, чем группа А.\n",
    "\n",
    "График кумулятивного среднего чека также показал резкий скачек в группе В, возможно там закрался значительный по сумме заказ, который оказал влияние на оба графика. Средний чек, также как и выручка в группе В выше, чем в группе А. Но заметно снижение среднего чека в группе В, скорее всего его значение еще не окончательно установилось, а вот средний чек в группе А скорее всего вышел на свой обычный уровень - установился. \n",
    "\n",
    "По графику изменения кумулятивной конверсии по группам мы увидели, что конверсия в покупателей колебалась примерно симметрично. В начале группа А вырывалась вперед, но к концу теста (и графика) мы наблюдаем, что конверсия в группе В ~ 0.34 установилась на уровне выше, чем группа А ~ 0.28.\n",
    "\n",
    "Провели тестирование гипотез о наличии различий в конверсии в заказы между группами А и В по \"сырым\" данным. \n",
    "Оно показало, что статистически значимых различий в конверсии между группами нет, но относительный выигрыш группы B равен 16%.\n",
    "\n",
    "Также провели тестирование гипотезы о наличии различий в среднем чеке по \"сырым\" данным. И выяснили, что статистически значимых различий в среднем чеке между группами нет, но средний чек группы B не ниже среднего чека группы A, а незначительно выше = 0.287. Наблюдаемые различия не являются значимыми при таком уровне значимости, а следовательно получены случайно.\n",
    "\n",
    "Далее мы определили границы выбросов в числе заказов, приходящихся на одного пользователя и в суммах заказов. Число заказов > 2 - выброс, сумма заказа > 26785.0 - выброс. Мы отфильтровали данные от выбросов.\n",
    "\n",
    "Провели повторные статистические тесты по конверсии и среднему чеку по отфильтрованным данным. И пришли к выводу, что мы наблюдаем статистически значимые различия в конверсии. Пусть и не на много, но она выше в группе В (в среднем она выше на 17,4%). По результатам тестирования по отфильтрованным от аномалий данных мы не наблюдаем значительных изменений в среднем чеке. \n",
    "\n",
    "Увеличение конверсии и плюс даже незначительное увеличение чека это успех и тест можно останавливать. \n",
    "\n",
    "Считаем, что группа В победила и можно вводить тестируемую гипотезу в постоянную работу."
   ]
  }
 ],
 "metadata": {
  "ExecuteTimeLog": [
   {
    "duration": 4,
    "start_time": "2022-08-01T17:01:48.683Z"
   },
   {
    "duration": 58,
    "start_time": "2022-08-01T17:03:20.628Z"
   },
   {
    "duration": 56,
    "start_time": "2022-08-01T17:03:27.119Z"
   },
   {
    "duration": 377,
    "start_time": "2022-08-01T17:03:37.642Z"
   },
   {
    "duration": 67,
    "start_time": "2022-08-01T17:03:38.336Z"
   },
   {
    "duration": 2,
    "start_time": "2022-08-01T17:04:02.794Z"
   },
   {
    "duration": 211,
    "start_time": "2022-08-01T17:06:09.060Z"
   },
   {
    "duration": 28,
    "start_time": "2022-08-01T17:06:42.589Z"
   },
   {
    "duration": 14,
    "start_time": "2022-08-01T17:11:55.144Z"
   },
   {
    "duration": 8,
    "start_time": "2022-08-01T17:12:09.251Z"
   },
   {
    "duration": 9,
    "start_time": "2022-08-01T17:12:24.411Z"
   },
   {
    "duration": 8,
    "start_time": "2022-08-01T17:12:35.306Z"
   },
   {
    "duration": 7,
    "start_time": "2022-08-01T17:12:46.151Z"
   },
   {
    "duration": 8,
    "start_time": "2022-08-01T17:13:53.822Z"
   },
   {
    "duration": 7,
    "start_time": "2022-08-01T17:14:09.276Z"
   },
   {
    "duration": 68,
    "start_time": "2022-08-01T17:14:53.761Z"
   },
   {
    "duration": 35,
    "start_time": "2022-08-01T17:16:07.582Z"
   },
   {
    "duration": 79,
    "start_time": "2022-08-01T17:16:32.183Z"
   },
   {
    "duration": 22,
    "start_time": "2022-08-01T17:16:32.936Z"
   },
   {
    "duration": 8,
    "start_time": "2022-08-01T17:16:39.680Z"
   },
   {
    "duration": 7,
    "start_time": "2022-08-01T17:16:48.346Z"
   },
   {
    "duration": 9,
    "start_time": "2022-08-01T17:18:35.881Z"
   },
   {
    "duration": 64,
    "start_time": "2022-08-01T17:19:08.661Z"
   },
   {
    "duration": 67,
    "start_time": "2022-08-01T17:19:17.790Z"
   },
   {
    "duration": 3069,
    "start_time": "2022-08-01T17:19:25.924Z"
   },
   {
    "duration": 11,
    "start_time": "2022-08-01T17:19:43.082Z"
   },
   {
    "duration": 461,
    "start_time": "2022-08-01T17:20:20.572Z"
   },
   {
    "duration": 87,
    "start_time": "2022-08-01T17:20:21.035Z"
   },
   {
    "duration": 25,
    "start_time": "2022-08-01T17:20:21.124Z"
   },
   {
    "duration": 15,
    "start_time": "2022-08-01T17:20:21.150Z"
   },
   {
    "duration": 7,
    "start_time": "2022-08-01T17:20:21.167Z"
   },
   {
    "duration": 9,
    "start_time": "2022-08-01T17:20:21.176Z"
   },
   {
    "duration": 2223,
    "start_time": "2022-08-01T17:20:21.186Z"
   },
   {
    "duration": 135,
    "start_time": "2022-08-01T17:20:23.411Z"
   },
   {
    "duration": 0,
    "start_time": "2022-08-01T17:20:23.547Z"
   },
   {
    "duration": 2,
    "start_time": "2022-08-01T17:20:32.170Z"
   },
   {
    "duration": 78,
    "start_time": "2022-08-01T17:20:32.813Z"
   },
   {
    "duration": 29,
    "start_time": "2022-08-01T17:20:33.593Z"
   },
   {
    "duration": 8,
    "start_time": "2022-08-01T17:20:34.051Z"
   },
   {
    "duration": 11,
    "start_time": "2022-08-01T17:20:34.517Z"
   },
   {
    "duration": 8,
    "start_time": "2022-08-01T17:20:35.167Z"
   },
   {
    "duration": 2196,
    "start_time": "2022-08-01T17:20:38.118Z"
   },
   {
    "duration": 12,
    "start_time": "2022-08-01T17:20:40.382Z"
   },
   {
    "duration": 421,
    "start_time": "2022-08-01T17:20:58.693Z"
   },
   {
    "duration": 87,
    "start_time": "2022-08-01T17:20:59.387Z"
   },
   {
    "duration": 25,
    "start_time": "2022-08-01T17:21:00.260Z"
   },
   {
    "duration": 17,
    "start_time": "2022-08-01T17:21:00.996Z"
   },
   {
    "duration": 11,
    "start_time": "2022-08-01T17:21:01.743Z"
   },
   {
    "duration": 11,
    "start_time": "2022-08-01T17:21:02.463Z"
   },
   {
    "duration": 2160,
    "start_time": "2022-08-01T17:21:05.918Z"
   },
   {
    "duration": 80,
    "start_time": "2022-08-01T17:21:08.080Z"
   },
   {
    "duration": 8,
    "start_time": "2022-08-01T17:22:45.631Z"
   },
   {
    "duration": 385,
    "start_time": "2022-08-01T17:24:03.723Z"
   },
   {
    "duration": 77,
    "start_time": "2022-08-01T17:24:04.110Z"
   },
   {
    "duration": 24,
    "start_time": "2022-08-01T17:24:04.188Z"
   },
   {
    "duration": 20,
    "start_time": "2022-08-01T17:24:04.214Z"
   },
   {
    "duration": 8,
    "start_time": "2022-08-01T17:24:04.237Z"
   },
   {
    "duration": 14,
    "start_time": "2022-08-01T17:24:04.247Z"
   },
   {
    "duration": 2149,
    "start_time": "2022-08-01T17:24:04.263Z"
   },
   {
    "duration": 123,
    "start_time": "2022-08-01T17:24:06.414Z"
   },
   {
    "duration": 0,
    "start_time": "2022-08-01T17:24:06.539Z"
   },
   {
    "duration": 0,
    "start_time": "2022-08-01T17:24:06.540Z"
   },
   {
    "duration": 3,
    "start_time": "2022-08-01T17:24:09.061Z"
   },
   {
    "duration": 77,
    "start_time": "2022-08-01T17:24:09.715Z"
   },
   {
    "duration": 23,
    "start_time": "2022-08-01T17:24:10.375Z"
   },
   {
    "duration": 8,
    "start_time": "2022-08-01T17:24:11.023Z"
   },
   {
    "duration": 7,
    "start_time": "2022-08-01T17:24:11.680Z"
   },
   {
    "duration": 8,
    "start_time": "2022-08-01T17:24:12.351Z"
   },
   {
    "duration": 2053,
    "start_time": "2022-08-01T17:24:16.608Z"
   },
   {
    "duration": 14,
    "start_time": "2022-08-01T17:24:30.847Z"
   },
   {
    "duration": 10,
    "start_time": "2022-08-01T17:24:32.709Z"
   },
   {
    "duration": 51,
    "start_time": "2022-08-01T17:24:33.637Z"
   },
   {
    "duration": 1015,
    "start_time": "2022-08-01T17:26:27.878Z"
   },
   {
    "duration": 10,
    "start_time": "2022-08-01T17:26:45.474Z"
   },
   {
    "duration": 5,
    "start_time": "2022-08-01T17:27:16.257Z"
   },
   {
    "duration": 49,
    "start_time": "2022-08-01T17:31:56.533Z"
   },
   {
    "duration": 10,
    "start_time": "2022-08-01T17:32:02.724Z"
   },
   {
    "duration": 140,
    "start_time": "2022-08-01T17:32:07.190Z"
   },
   {
    "duration": 45,
    "start_time": "2022-08-01T17:32:22.125Z"
   },
   {
    "duration": 6,
    "start_time": "2022-08-01T17:33:41.055Z"
   },
   {
    "duration": 4,
    "start_time": "2022-08-01T17:34:13.023Z"
   },
   {
    "duration": 4,
    "start_time": "2022-08-01T17:34:23.215Z"
   },
   {
    "duration": 4,
    "start_time": "2022-08-01T17:34:34.729Z"
   },
   {
    "duration": 4,
    "start_time": "2022-08-01T17:34:39.497Z"
   },
   {
    "duration": 4,
    "start_time": "2022-08-01T17:37:17.310Z"
   },
   {
    "duration": 4,
    "start_time": "2022-08-01T17:37:23.628Z"
   },
   {
    "duration": 13,
    "start_time": "2022-08-01T17:37:32.797Z"
   },
   {
    "duration": 4,
    "start_time": "2022-08-01T17:37:42.615Z"
   },
   {
    "duration": 5,
    "start_time": "2022-08-01T17:37:52.532Z"
   },
   {
    "duration": 4,
    "start_time": "2022-08-01T17:38:02.221Z"
   },
   {
    "duration": 4,
    "start_time": "2022-08-01T17:38:12.600Z"
   },
   {
    "duration": 7,
    "start_time": "2022-08-01T17:40:58.887Z"
   },
   {
    "duration": 5,
    "start_time": "2022-08-01T17:41:07.588Z"
   },
   {
    "duration": 6,
    "start_time": "2022-08-01T17:41:17.519Z"
   },
   {
    "duration": 7,
    "start_time": "2022-08-01T17:41:43.472Z"
   },
   {
    "duration": 3,
    "start_time": "2022-08-01T17:46:22.528Z"
   },
   {
    "duration": 71,
    "start_time": "2022-08-01T17:46:37.864Z"
   },
   {
    "duration": 7,
    "start_time": "2022-08-01T17:46:44.582Z"
   },
   {
    "duration": 3,
    "start_time": "2022-08-01T17:59:36.030Z"
   },
   {
    "duration": 229,
    "start_time": "2022-08-01T17:59:59.702Z"
   },
   {
    "duration": 210,
    "start_time": "2022-08-01T18:00:19.874Z"
   },
   {
    "duration": 272,
    "start_time": "2022-08-01T18:02:25.321Z"
   },
   {
    "duration": 3,
    "start_time": "2022-08-01T18:04:59.544Z"
   },
   {
    "duration": 77,
    "start_time": "2022-08-01T18:05:00.395Z"
   },
   {
    "duration": 23,
    "start_time": "2022-08-01T18:05:01.158Z"
   },
   {
    "duration": 8,
    "start_time": "2022-08-01T18:05:01.800Z"
   },
   {
    "duration": 8,
    "start_time": "2022-08-01T18:05:02.451Z"
   },
   {
    "duration": 7,
    "start_time": "2022-08-01T18:05:03.141Z"
   },
   {
    "duration": 2086,
    "start_time": "2022-08-01T18:05:06.337Z"
   },
   {
    "duration": 6,
    "start_time": "2022-08-01T18:05:08.426Z"
   },
   {
    "duration": 7,
    "start_time": "2022-08-01T18:05:08.433Z"
   },
   {
    "duration": 6,
    "start_time": "2022-08-01T18:05:08.442Z"
   },
   {
    "duration": 3,
    "start_time": "2022-08-01T18:05:08.504Z"
   },
   {
    "duration": 4,
    "start_time": "2022-08-01T18:05:08.740Z"
   },
   {
    "duration": 4,
    "start_time": "2022-08-01T18:05:08.934Z"
   },
   {
    "duration": 4,
    "start_time": "2022-08-01T18:05:09.128Z"
   },
   {
    "duration": 4,
    "start_time": "2022-08-01T18:05:09.348Z"
   },
   {
    "duration": 3,
    "start_time": "2022-08-01T18:05:09.502Z"
   },
   {
    "duration": 4,
    "start_time": "2022-08-01T18:05:09.724Z"
   },
   {
    "duration": 11,
    "start_time": "2022-08-01T18:05:10.032Z"
   },
   {
    "duration": 8,
    "start_time": "2022-08-01T18:05:10.251Z"
   },
   {
    "duration": 6,
    "start_time": "2022-08-01T18:05:11.332Z"
   },
   {
    "duration": 6,
    "start_time": "2022-08-01T18:05:13.342Z"
   },
   {
    "duration": 13,
    "start_time": "2022-08-01T18:05:17.832Z"
   },
   {
    "duration": 286,
    "start_time": "2022-08-01T18:06:17.637Z"
   },
   {
    "duration": 401,
    "start_time": "2022-08-01T18:06:27.274Z"
   },
   {
    "duration": 85,
    "start_time": "2022-08-01T18:06:27.676Z"
   },
   {
    "duration": 24,
    "start_time": "2022-08-01T18:06:27.763Z"
   },
   {
    "duration": 28,
    "start_time": "2022-08-01T18:06:27.790Z"
   },
   {
    "duration": 20,
    "start_time": "2022-08-01T18:06:27.820Z"
   },
   {
    "duration": 14,
    "start_time": "2022-08-01T18:06:27.842Z"
   },
   {
    "duration": 18,
    "start_time": "2022-08-01T18:06:27.858Z"
   },
   {
    "duration": 2186,
    "start_time": "2022-08-01T18:06:27.877Z"
   },
   {
    "duration": 6,
    "start_time": "2022-08-01T18:06:30.065Z"
   },
   {
    "duration": 9,
    "start_time": "2022-08-01T18:06:30.074Z"
   },
   {
    "duration": 9,
    "start_time": "2022-08-01T18:06:30.084Z"
   },
   {
    "duration": 17,
    "start_time": "2022-08-01T18:06:30.095Z"
   },
   {
    "duration": 12,
    "start_time": "2022-08-01T18:06:30.114Z"
   },
   {
    "duration": 11,
    "start_time": "2022-08-01T18:06:30.127Z"
   },
   {
    "duration": 15,
    "start_time": "2022-08-01T18:06:30.140Z"
   },
   {
    "duration": 9,
    "start_time": "2022-08-01T18:06:30.157Z"
   },
   {
    "duration": 10,
    "start_time": "2022-08-01T18:06:30.167Z"
   },
   {
    "duration": 16,
    "start_time": "2022-08-01T18:06:30.179Z"
   },
   {
    "duration": 92,
    "start_time": "2022-08-01T18:06:30.197Z"
   },
   {
    "duration": 0,
    "start_time": "2022-08-01T18:06:30.291Z"
   },
   {
    "duration": 0,
    "start_time": "2022-08-01T18:06:30.292Z"
   },
   {
    "duration": 0,
    "start_time": "2022-08-01T18:06:30.293Z"
   },
   {
    "duration": 2,
    "start_time": "2022-08-01T18:06:35.646Z"
   },
   {
    "duration": 84,
    "start_time": "2022-08-01T18:06:35.852Z"
   },
   {
    "duration": 25,
    "start_time": "2022-08-01T18:06:36.051Z"
   },
   {
    "duration": 8,
    "start_time": "2022-08-01T18:06:36.245Z"
   },
   {
    "duration": 8,
    "start_time": "2022-08-01T18:06:36.444Z"
   },
   {
    "duration": 8,
    "start_time": "2022-08-01T18:06:36.643Z"
   },
   {
    "duration": 13,
    "start_time": "2022-08-01T18:06:37.178Z"
   },
   {
    "duration": 2197,
    "start_time": "2022-08-01T18:06:37.775Z"
   },
   {
    "duration": 6,
    "start_time": "2022-08-01T18:06:39.975Z"
   },
   {
    "duration": 7,
    "start_time": "2022-08-01T18:06:39.982Z"
   },
   {
    "duration": 4,
    "start_time": "2022-08-01T18:06:39.992Z"
   },
   {
    "duration": 37,
    "start_time": "2022-08-01T18:06:39.998Z"
   },
   {
    "duration": 11,
    "start_time": "2022-08-01T18:06:40.037Z"
   },
   {
    "duration": 19,
    "start_time": "2022-08-01T18:06:40.050Z"
   },
   {
    "duration": 5,
    "start_time": "2022-08-01T18:06:40.071Z"
   },
   {
    "duration": 5,
    "start_time": "2022-08-01T18:06:40.078Z"
   },
   {
    "duration": 6,
    "start_time": "2022-08-01T18:06:40.085Z"
   },
   {
    "duration": 10,
    "start_time": "2022-08-01T18:06:40.093Z"
   },
   {
    "duration": 21,
    "start_time": "2022-08-01T18:06:40.105Z"
   },
   {
    "duration": 8,
    "start_time": "2022-08-01T18:06:40.229Z"
   },
   {
    "duration": 8,
    "start_time": "2022-08-01T18:06:40.634Z"
   },
   {
    "duration": 7,
    "start_time": "2022-08-01T18:06:41.241Z"
   },
   {
    "duration": 4,
    "start_time": "2022-08-01T18:08:39.676Z"
   },
   {
    "duration": 7,
    "start_time": "2022-08-01T18:09:09.885Z"
   },
   {
    "duration": 7,
    "start_time": "2022-08-01T18:09:27.544Z"
   },
   {
    "duration": 5,
    "start_time": "2022-08-01T18:09:57.398Z"
   },
   {
    "duration": 6,
    "start_time": "2022-08-01T18:09:58.595Z"
   },
   {
    "duration": 8,
    "start_time": "2022-08-01T18:12:51.598Z"
   },
   {
    "duration": 76,
    "start_time": "2022-08-01T18:15:20.792Z"
   },
   {
    "duration": 22,
    "start_time": "2022-08-01T18:15:22.205Z"
   },
   {
    "duration": 8,
    "start_time": "2022-08-01T18:19:01.936Z"
   },
   {
    "duration": 7,
    "start_time": "2022-08-01T18:19:26.895Z"
   },
   {
    "duration": 5,
    "start_time": "2022-08-01T18:19:52.448Z"
   },
   {
    "duration": 4,
    "start_time": "2022-08-01T18:19:53.406Z"
   },
   {
    "duration": 447,
    "start_time": "2022-08-01T18:26:19.386Z"
   },
   {
    "duration": 6,
    "start_time": "2022-08-01T18:30:06.770Z"
   },
   {
    "duration": 7,
    "start_time": "2022-08-01T18:30:44.336Z"
   },
   {
    "duration": 5,
    "start_time": "2022-08-01T18:31:46.466Z"
   },
   {
    "duration": 50,
    "start_time": "2022-08-01T18:32:03.956Z"
   },
   {
    "duration": 153,
    "start_time": "2022-08-01T18:33:42.286Z"
   },
   {
    "duration": 110,
    "start_time": "2022-08-01T18:34:41.829Z"
   },
   {
    "duration": 114,
    "start_time": "2022-08-01T18:38:04.754Z"
   },
   {
    "duration": 5,
    "start_time": "2022-08-01T18:38:20.946Z"
   },
   {
    "duration": 128,
    "start_time": "2022-08-01T18:38:50.353Z"
   },
   {
    "duration": 49,
    "start_time": "2022-08-01T18:39:12.650Z"
   },
   {
    "duration": 156,
    "start_time": "2022-08-01T18:39:20.143Z"
   },
   {
    "duration": 841,
    "start_time": "2022-08-02T17:44:38.233Z"
   },
   {
    "duration": 283,
    "start_time": "2022-08-02T17:44:39.076Z"
   },
   {
    "duration": 23,
    "start_time": "2022-08-02T17:44:39.361Z"
   },
   {
    "duration": 37,
    "start_time": "2022-08-02T17:44:39.386Z"
   },
   {
    "duration": 12,
    "start_time": "2022-08-02T17:44:39.425Z"
   },
   {
    "duration": 17,
    "start_time": "2022-08-02T17:44:39.438Z"
   },
   {
    "duration": 27,
    "start_time": "2022-08-02T17:44:39.894Z"
   },
   {
    "duration": 3096,
    "start_time": "2022-08-02T17:44:40.444Z"
   },
   {
    "duration": 6,
    "start_time": "2022-08-02T17:44:43.542Z"
   },
   {
    "duration": 8,
    "start_time": "2022-08-02T17:44:43.549Z"
   },
   {
    "duration": 8,
    "start_time": "2022-08-02T17:44:43.560Z"
   },
   {
    "duration": 22,
    "start_time": "2022-08-02T17:44:43.569Z"
   },
   {
    "duration": 21,
    "start_time": "2022-08-02T17:44:43.593Z"
   },
   {
    "duration": 11,
    "start_time": "2022-08-02T17:44:43.616Z"
   },
   {
    "duration": 7,
    "start_time": "2022-08-02T17:44:43.629Z"
   },
   {
    "duration": 6,
    "start_time": "2022-08-02T17:44:43.637Z"
   },
   {
    "duration": 10,
    "start_time": "2022-08-02T17:44:43.645Z"
   },
   {
    "duration": 8,
    "start_time": "2022-08-02T17:44:43.657Z"
   },
   {
    "duration": 22,
    "start_time": "2022-08-02T17:44:43.667Z"
   },
   {
    "duration": 138,
    "start_time": "2022-08-02T17:44:43.690Z"
   },
   {
    "duration": 0,
    "start_time": "2022-08-02T17:44:43.830Z"
   },
   {
    "duration": 0,
    "start_time": "2022-08-02T17:44:43.832Z"
   },
   {
    "duration": 9,
    "start_time": "2022-08-02T17:44:43.878Z"
   },
   {
    "duration": 6,
    "start_time": "2022-08-02T17:44:45.091Z"
   },
   {
    "duration": 6,
    "start_time": "2022-08-02T17:44:45.267Z"
   },
   {
    "duration": 5,
    "start_time": "2022-08-02T17:44:45.687Z"
   },
   {
    "duration": 6,
    "start_time": "2022-08-02T17:44:46.285Z"
   },
   {
    "duration": 143,
    "start_time": "2022-08-02T17:44:46.486Z"
   },
   {
    "duration": 9,
    "start_time": "2022-08-02T17:48:00.762Z"
   },
   {
    "duration": 9,
    "start_time": "2022-08-02T17:48:09.153Z"
   },
   {
    "duration": 8,
    "start_time": "2022-08-02T17:48:18.888Z"
   },
   {
    "duration": 8,
    "start_time": "2022-08-02T17:51:13.035Z"
   },
   {
    "duration": 10,
    "start_time": "2022-08-02T17:51:19.180Z"
   },
   {
    "duration": 9,
    "start_time": "2022-08-02T17:51:26.138Z"
   },
   {
    "duration": 9,
    "start_time": "2022-08-02T17:53:06.072Z"
   },
   {
    "duration": 10,
    "start_time": "2022-08-02T17:53:32.721Z"
   },
   {
    "duration": 9,
    "start_time": "2022-08-02T17:54:43.351Z"
   },
   {
    "duration": 9,
    "start_time": "2022-08-02T17:55:42.738Z"
   },
   {
    "duration": 8,
    "start_time": "2022-08-02T17:55:51.261Z"
   },
   {
    "duration": 4,
    "start_time": "2022-08-02T17:57:04.521Z"
   },
   {
    "duration": 64,
    "start_time": "2022-08-02T17:58:07.671Z"
   },
   {
    "duration": 80,
    "start_time": "2022-08-02T17:58:24.861Z"
   },
   {
    "duration": 46,
    "start_time": "2022-08-02T17:58:31.324Z"
   },
   {
    "duration": 8,
    "start_time": "2022-08-02T17:58:40.265Z"
   },
   {
    "duration": 8,
    "start_time": "2022-08-02T17:58:57.728Z"
   },
   {
    "duration": 16,
    "start_time": "2022-08-02T17:59:11.596Z"
   },
   {
    "duration": 8,
    "start_time": "2022-08-02T17:59:16.084Z"
   },
   {
    "duration": 69,
    "start_time": "2022-08-02T18:00:04.188Z"
   },
   {
    "duration": 8,
    "start_time": "2022-08-02T18:00:08.272Z"
   },
   {
    "duration": 8,
    "start_time": "2022-08-02T18:00:15.663Z"
   },
   {
    "duration": 11,
    "start_time": "2022-08-02T18:00:39.079Z"
   },
   {
    "duration": 7,
    "start_time": "2022-08-02T18:01:03.225Z"
   },
   {
    "duration": 7,
    "start_time": "2022-08-02T18:01:11.346Z"
   },
   {
    "duration": 10,
    "start_time": "2022-08-02T18:02:08.126Z"
   },
   {
    "duration": 8,
    "start_time": "2022-08-02T18:03:43.473Z"
   },
   {
    "duration": 11,
    "start_time": "2022-08-02T18:03:54.521Z"
   },
   {
    "duration": 30,
    "start_time": "2022-08-02T18:04:34.790Z"
   },
   {
    "duration": 8,
    "start_time": "2022-08-02T18:07:27.130Z"
   },
   {
    "duration": 14,
    "start_time": "2022-08-02T18:07:44.797Z"
   },
   {
    "duration": 9,
    "start_time": "2022-08-02T18:07:52.619Z"
   },
   {
    "duration": 6,
    "start_time": "2022-08-02T18:08:01.963Z"
   },
   {
    "duration": 5,
    "start_time": "2022-08-02T18:08:19.063Z"
   },
   {
    "duration": 8,
    "start_time": "2022-08-02T18:11:42.725Z"
   },
   {
    "duration": 430,
    "start_time": "2022-08-02T18:14:38.623Z"
   },
   {
    "duration": 20,
    "start_time": "2022-08-02T18:14:55.548Z"
   },
   {
    "duration": 7,
    "start_time": "2022-08-02T18:15:06.868Z"
   },
   {
    "duration": 229,
    "start_time": "2022-08-02T18:15:07.599Z"
   },
   {
    "duration": 215,
    "start_time": "2022-08-02T18:15:08.339Z"
   },
   {
    "duration": 7,
    "start_time": "2022-08-02T18:15:09.075Z"
   },
   {
    "duration": 7,
    "start_time": "2022-08-02T18:15:09.783Z"
   },
   {
    "duration": 273,
    "start_time": "2022-08-02T18:15:10.732Z"
   },
   {
    "duration": 183,
    "start_time": "2022-08-02T18:19:43.758Z"
   },
   {
    "duration": 349,
    "start_time": "2022-08-02T18:22:30.972Z"
   },
   {
    "duration": 240,
    "start_time": "2022-08-02T18:26:45.688Z"
   },
   {
    "duration": 221,
    "start_time": "2022-08-02T18:27:11.327Z"
   },
   {
    "duration": 4,
    "start_time": "2022-08-02T18:28:25.890Z"
   },
   {
    "duration": 5,
    "start_time": "2022-08-02T18:28:49.329Z"
   },
   {
    "duration": 9,
    "start_time": "2022-08-02T18:29:06.994Z"
   },
   {
    "duration": 4,
    "start_time": "2022-08-02T18:29:23.390Z"
   },
   {
    "duration": 216,
    "start_time": "2022-08-02T18:29:39.350Z"
   },
   {
    "duration": 192,
    "start_time": "2022-08-02T18:30:05.320Z"
   },
   {
    "duration": 332,
    "start_time": "2022-08-02T18:35:14.356Z"
   },
   {
    "duration": 294,
    "start_time": "2022-08-02T18:35:20.350Z"
   },
   {
    "duration": 296,
    "start_time": "2022-08-02T18:36:26.241Z"
   },
   {
    "duration": 377,
    "start_time": "2022-08-02T18:36:40.633Z"
   },
   {
    "duration": 305,
    "start_time": "2022-08-02T18:37:01.523Z"
   },
   {
    "duration": 343,
    "start_time": "2022-08-02T18:37:38.598Z"
   },
   {
    "duration": 301,
    "start_time": "2022-08-02T18:37:51.775Z"
   },
   {
    "duration": 298,
    "start_time": "2022-08-02T18:38:03.127Z"
   },
   {
    "duration": 305,
    "start_time": "2022-08-02T18:38:21.503Z"
   },
   {
    "duration": 14,
    "start_time": "2022-08-02T18:42:30.790Z"
   },
   {
    "duration": 125,
    "start_time": "2022-08-02T18:42:50.217Z"
   },
   {
    "duration": 5,
    "start_time": "2022-08-02T18:47:56.820Z"
   },
   {
    "duration": 4,
    "start_time": "2022-08-02T18:48:03.493Z"
   },
   {
    "duration": 128,
    "start_time": "2022-08-02T18:50:33.025Z"
   },
   {
    "duration": 51,
    "start_time": "2022-08-02T18:52:24.525Z"
   },
   {
    "duration": 88,
    "start_time": "2022-08-02T18:52:41.870Z"
   },
   {
    "duration": 52,
    "start_time": "2022-08-02T18:52:55.125Z"
   },
   {
    "duration": 164,
    "start_time": "2022-08-02T18:53:16.966Z"
   },
   {
    "duration": 1018,
    "start_time": "2022-08-02T18:53:44.830Z"
   },
   {
    "duration": 9,
    "start_time": "2022-08-02T18:53:49.621Z"
   },
   {
    "duration": 6,
    "start_time": "2022-08-02T18:54:50.438Z"
   },
   {
    "duration": 30,
    "start_time": "2022-08-02T18:56:53.986Z"
   },
   {
    "duration": 12,
    "start_time": "2022-08-02T18:57:49.084Z"
   },
   {
    "duration": 172,
    "start_time": "2022-08-02T18:58:15.190Z"
   },
   {
    "duration": 9,
    "start_time": "2022-08-02T18:59:58.354Z"
   },
   {
    "duration": 11,
    "start_time": "2022-08-02T19:00:08.793Z"
   },
   {
    "duration": 13,
    "start_time": "2022-08-02T19:00:23.421Z"
   },
   {
    "duration": 10,
    "start_time": "2022-08-02T19:01:01.315Z"
   },
   {
    "duration": 7,
    "start_time": "2022-08-02T19:02:43.340Z"
   },
   {
    "duration": 18,
    "start_time": "2022-08-02T19:02:54.496Z"
   },
   {
    "duration": 132,
    "start_time": "2022-08-02T19:02:55.701Z"
   },
   {
    "duration": 17,
    "start_time": "2022-08-02T19:03:27.224Z"
   },
   {
    "duration": 126,
    "start_time": "2022-08-02T19:03:58.869Z"
   },
   {
    "duration": 5,
    "start_time": "2022-08-02T19:04:59.418Z"
   },
   {
    "duration": 252,
    "start_time": "2022-08-02T19:10:12.941Z"
   },
   {
    "duration": 16,
    "start_time": "2022-08-02T19:11:31.418Z"
   },
   {
    "duration": 842,
    "start_time": "2022-08-02T19:11:50.039Z"
   },
   {
    "duration": 120,
    "start_time": "2022-08-02T19:12:06.355Z"
   },
   {
    "duration": 5,
    "start_time": "2022-08-02T19:13:41.371Z"
   },
   {
    "duration": 51,
    "start_time": "2022-08-03T08:30:27.392Z"
   },
   {
    "duration": 1248,
    "start_time": "2022-08-03T08:30:36.758Z"
   },
   {
    "duration": 267,
    "start_time": "2022-08-03T08:30:38.009Z"
   },
   {
    "duration": 29,
    "start_time": "2022-08-03T08:30:38.278Z"
   },
   {
    "duration": 14,
    "start_time": "2022-08-03T08:30:38.788Z"
   },
   {
    "duration": 9,
    "start_time": "2022-08-03T08:30:39.375Z"
   },
   {
    "duration": 9,
    "start_time": "2022-08-03T08:30:40.029Z"
   },
   {
    "duration": 15,
    "start_time": "2022-08-03T08:30:42.234Z"
   },
   {
    "duration": 8,
    "start_time": "2022-08-03T08:30:43.603Z"
   },
   {
    "duration": 6,
    "start_time": "2022-08-03T08:30:44.182Z"
   },
   {
    "duration": 3468,
    "start_time": "2022-08-03T08:30:46.222Z"
   },
   {
    "duration": 6,
    "start_time": "2022-08-03T08:30:49.693Z"
   },
   {
    "duration": 8,
    "start_time": "2022-08-03T08:30:49.701Z"
   },
   {
    "duration": 14,
    "start_time": "2022-08-03T08:30:49.711Z"
   },
   {
    "duration": 7,
    "start_time": "2022-08-03T08:30:49.727Z"
   },
   {
    "duration": 6,
    "start_time": "2022-08-03T08:30:49.736Z"
   },
   {
    "duration": 7,
    "start_time": "2022-08-03T08:30:50.256Z"
   },
   {
    "duration": 4,
    "start_time": "2022-08-03T08:30:50.918Z"
   },
   {
    "duration": 4,
    "start_time": "2022-08-03T08:30:51.472Z"
   },
   {
    "duration": 5,
    "start_time": "2022-08-03T08:30:52.783Z"
   },
   {
    "duration": 4,
    "start_time": "2022-08-03T08:30:53.720Z"
   },
   {
    "duration": 10,
    "start_time": "2022-08-03T08:30:54.953Z"
   },
   {
    "duration": 8,
    "start_time": "2022-08-03T08:30:55.953Z"
   },
   {
    "duration": 6,
    "start_time": "2022-08-03T08:41:53.951Z"
   },
   {
    "duration": 4,
    "start_time": "2022-08-03T08:42:15.112Z"
   },
   {
    "duration": 5,
    "start_time": "2022-08-03T08:42:49.460Z"
   },
   {
    "duration": 76,
    "start_time": "2022-08-03T08:43:41.311Z"
   },
   {
    "duration": 376,
    "start_time": "2022-08-03T08:44:01.833Z"
   },
   {
    "duration": 8,
    "start_time": "2022-08-03T08:44:30.132Z"
   },
   {
    "duration": 40,
    "start_time": "2022-08-03T08:44:48.312Z"
   },
   {
    "duration": 9,
    "start_time": "2022-08-03T08:45:00.235Z"
   },
   {
    "duration": 104,
    "start_time": "2022-08-03T08:45:10.750Z"
   },
   {
    "duration": 93,
    "start_time": "2022-08-03T08:45:17.964Z"
   },
   {
    "duration": 31,
    "start_time": "2022-08-03T08:45:30.977Z"
   },
   {
    "duration": 14,
    "start_time": "2022-08-03T08:45:42.921Z"
   },
   {
    "duration": 8,
    "start_time": "2022-08-03T08:46:24.971Z"
   },
   {
    "duration": 7,
    "start_time": "2022-08-03T08:46:33.653Z"
   },
   {
    "duration": 8,
    "start_time": "2022-08-03T08:46:40.499Z"
   },
   {
    "duration": 84,
    "start_time": "2022-08-03T08:46:59.442Z"
   },
   {
    "duration": 13,
    "start_time": "2022-08-03T08:47:05.659Z"
   },
   {
    "duration": 74,
    "start_time": "2022-08-03T08:48:51.497Z"
   },
   {
    "duration": 10,
    "start_time": "2022-08-03T08:48:58.299Z"
   },
   {
    "duration": 11,
    "start_time": "2022-08-03T08:49:14.655Z"
   },
   {
    "duration": 7,
    "start_time": "2022-08-03T08:49:22.820Z"
   },
   {
    "duration": 7,
    "start_time": "2022-08-03T08:49:24.177Z"
   },
   {
    "duration": 8,
    "start_time": "2022-08-03T08:49:25.484Z"
   },
   {
    "duration": 10,
    "start_time": "2022-08-03T08:49:28.503Z"
   },
   {
    "duration": 8,
    "start_time": "2022-08-03T08:49:51.311Z"
   },
   {
    "duration": 7,
    "start_time": "2022-08-03T08:51:43.291Z"
   },
   {
    "duration": 1236,
    "start_time": "2022-08-03T08:51:44.460Z"
   },
   {
    "duration": 5,
    "start_time": "2022-08-03T08:52:09.259Z"
   },
   {
    "duration": 21,
    "start_time": "2022-08-03T08:52:18.499Z"
   },
   {
    "duration": 17,
    "start_time": "2022-08-03T08:52:31.656Z"
   },
   {
    "duration": 8,
    "start_time": "2022-08-03T08:52:51.061Z"
   },
   {
    "duration": 1251,
    "start_time": "2022-08-03T08:52:56.092Z"
   },
   {
    "duration": 13,
    "start_time": "2022-08-03T08:53:26.256Z"
   },
   {
    "duration": 140,
    "start_time": "2022-08-03T08:53:41.514Z"
   },
   {
    "duration": 181,
    "start_time": "2022-08-03T08:54:20.771Z"
   },
   {
    "duration": 11,
    "start_time": "2022-08-03T08:54:41.954Z"
   },
   {
    "duration": 9,
    "start_time": "2022-08-03T08:54:46.402Z"
   },
   {
    "duration": 182,
    "start_time": "2022-08-03T08:54:49.568Z"
   },
   {
    "duration": 170,
    "start_time": "2022-08-03T08:56:43.051Z"
   },
   {
    "duration": 157,
    "start_time": "2022-08-03T08:57:26.457Z"
   },
   {
    "duration": 160,
    "start_time": "2022-08-03T08:58:08.080Z"
   },
   {
    "duration": 21,
    "start_time": "2022-08-03T08:59:44.522Z"
   },
   {
    "duration": 321,
    "start_time": "2022-08-03T09:00:24.522Z"
   },
   {
    "duration": 286,
    "start_time": "2022-08-03T09:00:48.598Z"
   },
   {
    "duration": 285,
    "start_time": "2022-08-03T09:01:03.979Z"
   },
   {
    "duration": 228,
    "start_time": "2022-08-03T09:04:31.867Z"
   },
   {
    "duration": 201,
    "start_time": "2022-08-03T09:05:42.039Z"
   },
   {
    "duration": 319,
    "start_time": "2022-08-03T09:07:16.236Z"
   },
   {
    "duration": 465,
    "start_time": "2022-08-03T09:07:59.050Z"
   },
   {
    "duration": 277,
    "start_time": "2022-08-03T09:08:39.540Z"
   },
   {
    "duration": 295,
    "start_time": "2022-08-03T09:08:53.862Z"
   },
   {
    "duration": 106,
    "start_time": "2022-08-03T09:30:59.828Z"
   },
   {
    "duration": 20,
    "start_time": "2022-08-03T09:32:33.850Z"
   },
   {
    "duration": 21,
    "start_time": "2022-08-03T09:32:44.091Z"
   },
   {
    "duration": 21,
    "start_time": "2022-08-03T09:33:05.069Z"
   },
   {
    "duration": 22,
    "start_time": "2022-08-03T09:33:14.925Z"
   },
   {
    "duration": 21,
    "start_time": "2022-08-03T09:33:56.070Z"
   },
   {
    "duration": 13,
    "start_time": "2022-08-03T09:34:18.192Z"
   },
   {
    "duration": 245,
    "start_time": "2022-08-03T09:34:39.459Z"
   },
   {
    "duration": 212,
    "start_time": "2022-08-03T09:35:47.140Z"
   },
   {
    "duration": 206,
    "start_time": "2022-08-03T09:36:08.589Z"
   },
   {
    "duration": 24,
    "start_time": "2022-08-03T09:36:22.761Z"
   },
   {
    "duration": 234,
    "start_time": "2022-08-03T09:37:53.471Z"
   },
   {
    "duration": 23,
    "start_time": "2022-08-03T09:37:58.321Z"
   },
   {
    "duration": 38,
    "start_time": "2022-08-03T09:38:05.520Z"
   },
   {
    "duration": 54,
    "start_time": "2022-08-03T09:38:15.430Z"
   },
   {
    "duration": 211,
    "start_time": "2022-08-03T09:39:24.924Z"
   },
   {
    "duration": 15,
    "start_time": "2022-08-03T09:45:26.671Z"
   },
   {
    "duration": 156,
    "start_time": "2022-08-03T09:46:13.580Z"
   },
   {
    "duration": 157,
    "start_time": "2022-08-03T09:46:34.372Z"
   },
   {
    "duration": 164,
    "start_time": "2022-08-03T09:46:45.088Z"
   },
   {
    "duration": 7,
    "start_time": "2022-08-03T09:47:53.640Z"
   },
   {
    "duration": 11,
    "start_time": "2022-08-03T09:48:45.101Z"
   },
   {
    "duration": 4,
    "start_time": "2022-08-03T09:49:25.370Z"
   },
   {
    "duration": 77,
    "start_time": "2022-08-03T09:49:27.068Z"
   },
   {
    "duration": 25,
    "start_time": "2022-08-03T09:49:27.532Z"
   },
   {
    "duration": 9,
    "start_time": "2022-08-03T09:49:27.699Z"
   },
   {
    "duration": 9,
    "start_time": "2022-08-03T09:49:27.900Z"
   },
   {
    "duration": 7,
    "start_time": "2022-08-03T09:49:28.100Z"
   },
   {
    "duration": 13,
    "start_time": "2022-08-03T09:49:28.689Z"
   },
   {
    "duration": 5,
    "start_time": "2022-08-03T09:49:29.054Z"
   },
   {
    "duration": 15,
    "start_time": "2022-08-03T09:49:29.230Z"
   },
   {
    "duration": 14,
    "start_time": "2022-08-03T09:49:29.441Z"
   },
   {
    "duration": 7,
    "start_time": "2022-08-03T09:49:29.781Z"
   },
   {
    "duration": 6,
    "start_time": "2022-08-03T09:49:29.932Z"
   },
   {
    "duration": 2528,
    "start_time": "2022-08-03T09:49:30.460Z"
   },
   {
    "duration": 8,
    "start_time": "2022-08-03T09:49:32.992Z"
   },
   {
    "duration": 12,
    "start_time": "2022-08-03T09:49:33.003Z"
   },
   {
    "duration": 7,
    "start_time": "2022-08-03T09:49:33.018Z"
   },
   {
    "duration": 10,
    "start_time": "2022-08-03T09:49:33.028Z"
   },
   {
    "duration": 8,
    "start_time": "2022-08-03T09:49:33.040Z"
   },
   {
    "duration": 8,
    "start_time": "2022-08-03T09:49:33.050Z"
   },
   {
    "duration": 6,
    "start_time": "2022-08-03T09:49:33.060Z"
   },
   {
    "duration": 6,
    "start_time": "2022-08-03T09:49:33.094Z"
   },
   {
    "duration": 12,
    "start_time": "2022-08-03T09:49:33.104Z"
   },
   {
    "duration": 13,
    "start_time": "2022-08-03T09:49:33.118Z"
   },
   {
    "duration": 14,
    "start_time": "2022-08-03T09:49:33.133Z"
   },
   {
    "duration": 22,
    "start_time": "2022-08-03T09:49:33.149Z"
   },
   {
    "duration": 27,
    "start_time": "2022-08-03T09:49:33.173Z"
   },
   {
    "duration": 7,
    "start_time": "2022-08-03T09:49:33.656Z"
   },
   {
    "duration": 6,
    "start_time": "2022-08-03T09:49:34.800Z"
   },
   {
    "duration": 6,
    "start_time": "2022-08-03T09:49:34.969Z"
   },
   {
    "duration": 6,
    "start_time": "2022-08-03T09:49:35.363Z"
   },
   {
    "duration": 9,
    "start_time": "2022-08-03T09:49:35.934Z"
   },
   {
    "duration": 13,
    "start_time": "2022-08-03T09:49:36.127Z"
   },
   {
    "duration": 13,
    "start_time": "2022-08-03T09:49:36.520Z"
   },
   {
    "duration": 157,
    "start_time": "2022-08-03T09:49:36.680Z"
   },
   {
    "duration": 200,
    "start_time": "2022-08-03T09:49:36.860Z"
   },
   {
    "duration": 7,
    "start_time": "2022-08-03T09:49:37.061Z"
   },
   {
    "duration": 8,
    "start_time": "2022-08-03T09:49:37.260Z"
   },
   {
    "duration": 169,
    "start_time": "2022-08-03T09:49:37.480Z"
   },
   {
    "duration": 162,
    "start_time": "2022-08-03T09:49:38.041Z"
   },
   {
    "duration": 323,
    "start_time": "2022-08-03T09:49:38.600Z"
   },
   {
    "duration": 5,
    "start_time": "2022-08-03T09:49:39.230Z"
   },
   {
    "duration": 4,
    "start_time": "2022-08-03T09:49:39.430Z"
   },
   {
    "duration": 5,
    "start_time": "2022-08-03T09:49:39.592Z"
   },
   {
    "duration": 5,
    "start_time": "2022-08-03T09:49:39.752Z"
   },
   {
    "duration": 201,
    "start_time": "2022-08-03T09:49:39.982Z"
   },
   {
    "duration": 312,
    "start_time": "2022-08-03T09:49:40.542Z"
   },
   {
    "duration": 15,
    "start_time": "2022-08-03T09:49:41.160Z"
   },
   {
    "duration": 14,
    "start_time": "2022-08-03T09:49:41.400Z"
   },
   {
    "duration": 127,
    "start_time": "2022-08-03T09:49:41.600Z"
   },
   {
    "duration": 6,
    "start_time": "2022-08-03T09:49:42.236Z"
   },
   {
    "duration": 15,
    "start_time": "2022-08-03T09:49:42.834Z"
   },
   {
    "duration": 140,
    "start_time": "2022-08-03T09:49:43.028Z"
   },
   {
    "duration": 82,
    "start_time": "2022-08-03T09:49:43.201Z"
   },
   {
    "duration": 5,
    "start_time": "2022-08-03T09:49:43.660Z"
   },
   {
    "duration": 302,
    "start_time": "2022-08-03T09:49:44.262Z"
   },
   {
    "duration": 43,
    "start_time": "2022-08-03T09:49:44.566Z"
   },
   {
    "duration": 160,
    "start_time": "2022-08-03T09:49:45.742Z"
   },
   {
    "duration": 6,
    "start_time": "2022-08-03T09:49:47.340Z"
   },
   {
    "duration": 11,
    "start_time": "2022-08-03T09:49:47.992Z"
   },
   {
    "duration": 3,
    "start_time": "2022-08-03T09:50:49.530Z"
   },
   {
    "duration": 27,
    "start_time": "2022-08-03T09:50:50.840Z"
   },
   {
    "duration": 3,
    "start_time": "2022-08-03T09:51:03.585Z"
   },
   {
    "duration": 3,
    "start_time": "2022-08-03T09:51:14.531Z"
   },
   {
    "duration": 25,
    "start_time": "2022-08-03T09:51:36.761Z"
   },
   {
    "duration": 6,
    "start_time": "2022-08-03T09:52:15.126Z"
   },
   {
    "duration": 25,
    "start_time": "2022-08-03T09:52:16.252Z"
   },
   {
    "duration": 12,
    "start_time": "2022-08-03T09:57:09.236Z"
   },
   {
    "duration": 1254,
    "start_time": "2022-08-03T10:10:24.135Z"
   },
   {
    "duration": 1315,
    "start_time": "2022-08-03T10:11:26.235Z"
   },
   {
    "duration": 1232,
    "start_time": "2022-08-03T10:12:05.163Z"
   },
   {
    "duration": 10,
    "start_time": "2022-08-03T10:12:13.852Z"
   },
   {
    "duration": 11,
    "start_time": "2022-08-03T10:12:55.451Z"
   },
   {
    "duration": 8,
    "start_time": "2022-08-03T10:13:05.884Z"
   },
   {
    "duration": 14,
    "start_time": "2022-08-03T10:14:05.233Z"
   },
   {
    "duration": 75,
    "start_time": "2022-08-03T10:15:42.202Z"
   },
   {
    "duration": 10,
    "start_time": "2022-08-03T10:17:04.771Z"
   },
   {
    "duration": 24,
    "start_time": "2022-08-03T10:20:22.640Z"
   },
   {
    "duration": 1519,
    "start_time": "2022-08-03T10:31:42.251Z"
   },
   {
    "duration": 1443,
    "start_time": "2022-08-03T10:32:03.132Z"
   },
   {
    "duration": 18,
    "start_time": "2022-08-03T10:32:19.484Z"
   },
   {
    "duration": 165,
    "start_time": "2022-08-03T10:39:30.315Z"
   },
   {
    "duration": 15,
    "start_time": "2022-08-03T11:09:48.134Z"
   },
   {
    "duration": 161,
    "start_time": "2022-08-03T11:10:43.957Z"
   },
   {
    "duration": 173,
    "start_time": "2022-08-03T11:12:33.673Z"
   },
   {
    "duration": 6,
    "start_time": "2022-08-03T11:13:13.537Z"
   },
   {
    "duration": 177,
    "start_time": "2022-08-03T11:13:21.239Z"
   },
   {
    "duration": 289,
    "start_time": "2022-08-03T11:15:16.291Z"
   },
   {
    "duration": 209,
    "start_time": "2022-08-03T11:16:17.589Z"
   },
   {
    "duration": 351,
    "start_time": "2022-08-03T11:17:24.372Z"
   },
   {
    "duration": 9,
    "start_time": "2022-08-03T11:17:49.365Z"
   },
   {
    "duration": 6,
    "start_time": "2022-08-03T11:19:00.835Z"
   },
   {
    "duration": 7,
    "start_time": "2022-08-03T11:20:01.283Z"
   },
   {
    "duration": 9,
    "start_time": "2022-08-03T11:20:35.510Z"
   },
   {
    "duration": 144,
    "start_time": "2022-08-03T11:21:25.189Z"
   },
   {
    "duration": 6,
    "start_time": "2022-08-03T11:23:50.869Z"
   },
   {
    "duration": 9,
    "start_time": "2022-08-03T11:23:52.801Z"
   },
   {
    "duration": 135,
    "start_time": "2022-08-03T11:23:53.468Z"
   },
   {
    "duration": 5,
    "start_time": "2022-08-03T11:23:55.632Z"
   },
   {
    "duration": 46,
    "start_time": "2022-08-03T11:41:23.867Z"
   },
   {
    "duration": 79,
    "start_time": "2022-08-03T11:41:46.124Z"
   },
   {
    "duration": 192,
    "start_time": "2022-08-03T11:43:10.325Z"
   },
   {
    "duration": 213,
    "start_time": "2022-08-03T11:43:15.423Z"
   },
   {
    "duration": 29,
    "start_time": "2022-08-03T11:44:05.856Z"
   },
   {
    "duration": 17,
    "start_time": "2022-08-03T11:45:13.336Z"
   },
   {
    "duration": 14,
    "start_time": "2022-08-03T11:46:12.268Z"
   },
   {
    "duration": 14,
    "start_time": "2022-08-03T11:46:23.428Z"
   },
   {
    "duration": 9,
    "start_time": "2022-08-03T11:47:17.228Z"
   },
   {
    "duration": 19,
    "start_time": "2022-08-03T11:48:27.619Z"
   },
   {
    "duration": 1251,
    "start_time": "2022-08-03T15:10:25.531Z"
   },
   {
    "duration": 248,
    "start_time": "2022-08-03T15:10:26.785Z"
   },
   {
    "duration": 25,
    "start_time": "2022-08-03T15:10:27.035Z"
   },
   {
    "duration": 15,
    "start_time": "2022-08-03T15:10:27.062Z"
   },
   {
    "duration": 10,
    "start_time": "2022-08-03T15:10:27.080Z"
   },
   {
    "duration": 13,
    "start_time": "2022-08-03T15:10:27.091Z"
   },
   {
    "duration": 14,
    "start_time": "2022-08-03T15:10:27.106Z"
   },
   {
    "duration": 6,
    "start_time": "2022-08-03T15:10:27.122Z"
   },
   {
    "duration": 8,
    "start_time": "2022-08-03T15:10:27.130Z"
   },
   {
    "duration": 6,
    "start_time": "2022-08-03T15:10:27.140Z"
   },
   {
    "duration": 21,
    "start_time": "2022-08-03T15:10:27.148Z"
   },
   {
    "duration": 42,
    "start_time": "2022-08-03T15:10:27.171Z"
   },
   {
    "duration": 9,
    "start_time": "2022-08-03T15:10:27.215Z"
   },
   {
    "duration": 11,
    "start_time": "2022-08-03T15:10:27.228Z"
   },
   {
    "duration": 11,
    "start_time": "2022-08-03T15:10:27.242Z"
   },
   {
    "duration": 16,
    "start_time": "2022-08-03T15:10:27.254Z"
   },
   {
    "duration": 25,
    "start_time": "2022-08-03T15:10:27.272Z"
   },
   {
    "duration": 219,
    "start_time": "2022-08-03T15:10:27.300Z"
   },
   {
    "duration": 169,
    "start_time": "2022-08-03T15:10:27.521Z"
   },
   {
    "duration": 7,
    "start_time": "2022-08-03T15:10:27.691Z"
   },
   {
    "duration": 19,
    "start_time": "2022-08-03T15:10:27.700Z"
   },
   {
    "duration": 182,
    "start_time": "2022-08-03T15:10:27.721Z"
   },
   {
    "duration": 161,
    "start_time": "2022-08-03T15:10:27.904Z"
   },
   {
    "duration": 361,
    "start_time": "2022-08-03T15:10:28.067Z"
   },
   {
    "duration": 181,
    "start_time": "2022-08-03T15:10:28.430Z"
   },
   {
    "duration": 314,
    "start_time": "2022-08-03T15:10:28.613Z"
   },
   {
    "duration": 8,
    "start_time": "2022-08-03T15:10:28.929Z"
   },
   {
    "duration": 133,
    "start_time": "2022-08-03T15:10:28.938Z"
   },
   {
    "duration": 5,
    "start_time": "2022-08-03T15:10:29.073Z"
   },
   {
    "duration": 11,
    "start_time": "2022-08-03T15:10:29.079Z"
   },
   {
    "duration": 139,
    "start_time": "2022-08-03T15:10:29.091Z"
   },
   {
    "duration": 5,
    "start_time": "2022-08-03T15:10:29.232Z"
   },
   {
    "duration": 207,
    "start_time": "2022-08-03T15:10:29.238Z"
   },
   {
    "duration": 29,
    "start_time": "2022-08-03T15:10:29.447Z"
   },
   {
    "duration": 159,
    "start_time": "2022-08-03T15:10:29.477Z"
   },
   {
    "duration": 6,
    "start_time": "2022-08-03T15:10:29.638Z"
   },
   {
    "duration": 39,
    "start_time": "2022-08-03T15:10:29.646Z"
   },
   {
    "duration": 103,
    "start_time": "2022-08-03T15:10:29.687Z"
   },
   {
    "duration": 0,
    "start_time": "2022-08-03T15:10:29.792Z"
   },
   {
    "duration": 0,
    "start_time": "2022-08-03T15:10:29.793Z"
   },
   {
    "duration": 0,
    "start_time": "2022-08-03T15:10:29.795Z"
   },
   {
    "duration": 0,
    "start_time": "2022-08-03T15:10:29.796Z"
   },
   {
    "duration": 3,
    "start_time": "2022-08-03T15:14:57.855Z"
   },
   {
    "duration": 1207,
    "start_time": "2022-08-03T15:15:01.435Z"
   },
   {
    "duration": 126,
    "start_time": "2022-08-03T15:15:02.644Z"
   },
   {
    "duration": 24,
    "start_time": "2022-08-03T15:15:02.772Z"
   },
   {
    "duration": 45,
    "start_time": "2022-08-03T15:15:02.798Z"
   },
   {
    "duration": 7,
    "start_time": "2022-08-03T15:15:02.845Z"
   },
   {
    "duration": 15,
    "start_time": "2022-08-03T15:15:02.854Z"
   },
   {
    "duration": 18,
    "start_time": "2022-08-03T15:15:02.871Z"
   },
   {
    "duration": 14,
    "start_time": "2022-08-03T15:15:02.890Z"
   },
   {
    "duration": 40,
    "start_time": "2022-08-03T15:15:02.905Z"
   },
   {
    "duration": 13,
    "start_time": "2022-08-03T15:15:02.947Z"
   },
   {
    "duration": 14,
    "start_time": "2022-08-03T15:15:02.962Z"
   },
   {
    "duration": 13,
    "start_time": "2022-08-03T15:15:02.978Z"
   },
   {
    "duration": 9,
    "start_time": "2022-08-03T15:15:02.993Z"
   },
   {
    "duration": 39,
    "start_time": "2022-08-03T15:15:03.004Z"
   },
   {
    "duration": 30,
    "start_time": "2022-08-03T15:15:03.045Z"
   },
   {
    "duration": 168,
    "start_time": "2022-08-03T15:15:03.077Z"
   },
   {
    "duration": 0,
    "start_time": "2022-08-03T15:15:03.247Z"
   },
   {
    "duration": 0,
    "start_time": "2022-08-03T15:15:03.249Z"
   },
   {
    "duration": 0,
    "start_time": "2022-08-03T15:15:03.251Z"
   },
   {
    "duration": 0,
    "start_time": "2022-08-03T15:15:03.252Z"
   },
   {
    "duration": 0,
    "start_time": "2022-08-03T15:15:03.254Z"
   },
   {
    "duration": 0,
    "start_time": "2022-08-03T15:15:03.255Z"
   },
   {
    "duration": 0,
    "start_time": "2022-08-03T15:15:03.257Z"
   },
   {
    "duration": 0,
    "start_time": "2022-08-03T15:15:03.258Z"
   },
   {
    "duration": 0,
    "start_time": "2022-08-03T15:15:03.260Z"
   },
   {
    "duration": 0,
    "start_time": "2022-08-03T15:15:03.261Z"
   },
   {
    "duration": 0,
    "start_time": "2022-08-03T15:15:03.263Z"
   },
   {
    "duration": 0,
    "start_time": "2022-08-03T15:15:03.264Z"
   },
   {
    "duration": 0,
    "start_time": "2022-08-03T15:15:03.265Z"
   },
   {
    "duration": 0,
    "start_time": "2022-08-03T15:15:03.267Z"
   },
   {
    "duration": 0,
    "start_time": "2022-08-03T15:15:03.269Z"
   },
   {
    "duration": 0,
    "start_time": "2022-08-03T15:15:03.270Z"
   },
   {
    "duration": 0,
    "start_time": "2022-08-03T15:15:03.272Z"
   },
   {
    "duration": 0,
    "start_time": "2022-08-03T15:15:03.273Z"
   },
   {
    "duration": 0,
    "start_time": "2022-08-03T15:15:03.274Z"
   },
   {
    "duration": 0,
    "start_time": "2022-08-03T15:15:03.275Z"
   },
   {
    "duration": 0,
    "start_time": "2022-08-03T15:15:03.311Z"
   },
   {
    "duration": 0,
    "start_time": "2022-08-03T15:15:03.312Z"
   },
   {
    "duration": 0,
    "start_time": "2022-08-03T15:15:03.312Z"
   },
   {
    "duration": 0,
    "start_time": "2022-08-03T15:15:03.316Z"
   },
   {
    "duration": 1,
    "start_time": "2022-08-03T15:15:03.317Z"
   },
   {
    "duration": 0,
    "start_time": "2022-08-03T15:15:03.318Z"
   },
   {
    "duration": 3,
    "start_time": "2022-08-03T15:15:28.157Z"
   },
   {
    "duration": 993,
    "start_time": "2022-08-03T15:15:32.858Z"
   },
   {
    "duration": 121,
    "start_time": "2022-08-03T15:15:33.853Z"
   },
   {
    "duration": 24,
    "start_time": "2022-08-03T15:15:33.975Z"
   },
   {
    "duration": 15,
    "start_time": "2022-08-03T15:15:34.001Z"
   },
   {
    "duration": 28,
    "start_time": "2022-08-03T15:15:34.017Z"
   },
   {
    "duration": 18,
    "start_time": "2022-08-03T15:15:34.047Z"
   },
   {
    "duration": 23,
    "start_time": "2022-08-03T15:15:34.066Z"
   },
   {
    "duration": 11,
    "start_time": "2022-08-03T15:15:34.091Z"
   },
   {
    "duration": 37,
    "start_time": "2022-08-03T15:15:34.104Z"
   },
   {
    "duration": 6,
    "start_time": "2022-08-03T15:15:34.144Z"
   },
   {
    "duration": 10,
    "start_time": "2022-08-03T15:15:34.152Z"
   },
   {
    "duration": 11,
    "start_time": "2022-08-03T15:15:34.163Z"
   },
   {
    "duration": 11,
    "start_time": "2022-08-03T15:15:34.175Z"
   },
   {
    "duration": 20,
    "start_time": "2022-08-03T15:15:34.187Z"
   },
   {
    "duration": 35,
    "start_time": "2022-08-03T15:15:34.209Z"
   },
   {
    "duration": 9,
    "start_time": "2022-08-03T15:15:34.245Z"
   },
   {
    "duration": 14,
    "start_time": "2022-08-03T15:15:34.255Z"
   },
   {
    "duration": 131,
    "start_time": "2022-08-03T15:15:34.270Z"
   },
   {
    "duration": 179,
    "start_time": "2022-08-03T15:15:34.403Z"
   },
   {
    "duration": 5,
    "start_time": "2022-08-03T15:15:34.584Z"
   },
   {
    "duration": 21,
    "start_time": "2022-08-03T15:15:34.591Z"
   },
   {
    "duration": 180,
    "start_time": "2022-08-03T15:15:34.620Z"
   },
   {
    "duration": 161,
    "start_time": "2022-08-03T15:15:34.802Z"
   },
   {
    "duration": 234,
    "start_time": "2022-08-03T15:15:34.965Z"
   },
   {
    "duration": 187,
    "start_time": "2022-08-03T15:15:35.211Z"
   },
   {
    "duration": 328,
    "start_time": "2022-08-03T15:15:35.400Z"
   },
   {
    "duration": 8,
    "start_time": "2022-08-03T15:15:35.729Z"
   },
   {
    "duration": 123,
    "start_time": "2022-08-03T15:15:35.744Z"
   },
   {
    "duration": 5,
    "start_time": "2022-08-03T15:15:35.868Z"
   },
   {
    "duration": 12,
    "start_time": "2022-08-03T15:15:35.875Z"
   },
   {
    "duration": 163,
    "start_time": "2022-08-03T15:15:35.889Z"
   },
   {
    "duration": 6,
    "start_time": "2022-08-03T15:15:36.054Z"
   },
   {
    "duration": 230,
    "start_time": "2022-08-03T15:15:36.062Z"
   },
   {
    "duration": 41,
    "start_time": "2022-08-03T15:15:36.294Z"
   },
   {
    "duration": 144,
    "start_time": "2022-08-03T15:15:36.337Z"
   },
   {
    "duration": 6,
    "start_time": "2022-08-03T15:15:36.483Z"
   },
   {
    "duration": 50,
    "start_time": "2022-08-03T15:15:36.491Z"
   },
   {
    "duration": 105,
    "start_time": "2022-08-03T15:15:36.543Z"
   },
   {
    "duration": 0,
    "start_time": "2022-08-03T15:15:36.650Z"
   },
   {
    "duration": 0,
    "start_time": "2022-08-03T15:15:36.651Z"
   },
   {
    "duration": 0,
    "start_time": "2022-08-03T15:15:36.652Z"
   },
   {
    "duration": 0,
    "start_time": "2022-08-03T15:15:36.653Z"
   },
   {
    "duration": 1012,
    "start_time": "2022-08-03T15:15:54.448Z"
   },
   {
    "duration": 129,
    "start_time": "2022-08-03T15:15:55.462Z"
   },
   {
    "duration": 26,
    "start_time": "2022-08-03T15:15:55.592Z"
   },
   {
    "duration": 37,
    "start_time": "2022-08-03T15:15:55.620Z"
   },
   {
    "duration": 16,
    "start_time": "2022-08-03T15:15:55.659Z"
   },
   {
    "duration": 18,
    "start_time": "2022-08-03T15:15:55.677Z"
   },
   {
    "duration": 26,
    "start_time": "2022-08-03T15:15:55.697Z"
   },
   {
    "duration": 20,
    "start_time": "2022-08-03T15:15:55.726Z"
   },
   {
    "duration": 9,
    "start_time": "2022-08-03T15:15:55.748Z"
   },
   {
    "duration": 7,
    "start_time": "2022-08-03T15:15:55.759Z"
   },
   {
    "duration": 12,
    "start_time": "2022-08-03T15:15:55.767Z"
   },
   {
    "duration": 12,
    "start_time": "2022-08-03T15:15:55.780Z"
   },
   {
    "duration": 6,
    "start_time": "2022-08-03T15:15:55.794Z"
   },
   {
    "duration": 21,
    "start_time": "2022-08-03T15:15:55.803Z"
   },
   {
    "duration": 11,
    "start_time": "2022-08-03T15:15:55.829Z"
   },
   {
    "duration": 8,
    "start_time": "2022-08-03T15:15:55.842Z"
   },
   {
    "duration": 15,
    "start_time": "2022-08-03T15:15:55.852Z"
   },
   {
    "duration": 153,
    "start_time": "2022-08-03T15:15:55.869Z"
   },
   {
    "duration": 187,
    "start_time": "2022-08-03T15:15:56.027Z"
   },
   {
    "duration": 12,
    "start_time": "2022-08-03T15:15:56.221Z"
   },
   {
    "duration": 24,
    "start_time": "2022-08-03T15:15:56.235Z"
   },
   {
    "duration": 173,
    "start_time": "2022-08-03T15:15:56.261Z"
   },
   {
    "duration": 146,
    "start_time": "2022-08-03T15:15:56.436Z"
   },
   {
    "duration": 298,
    "start_time": "2022-08-03T15:15:56.583Z"
   },
   {
    "duration": 192,
    "start_time": "2022-08-03T15:15:56.882Z"
   },
   {
    "duration": 327,
    "start_time": "2022-08-03T15:15:57.076Z"
   },
   {
    "duration": 17,
    "start_time": "2022-08-03T15:15:57.405Z"
   },
   {
    "duration": 153,
    "start_time": "2022-08-03T15:15:57.423Z"
   },
   {
    "duration": 5,
    "start_time": "2022-08-03T15:15:57.578Z"
   },
   {
    "duration": 8,
    "start_time": "2022-08-03T15:15:57.585Z"
   },
   {
    "duration": 148,
    "start_time": "2022-08-03T15:15:57.595Z"
   },
   {
    "duration": 5,
    "start_time": "2022-08-03T15:15:57.744Z"
   },
   {
    "duration": 210,
    "start_time": "2022-08-03T15:15:57.750Z"
   },
   {
    "duration": 29,
    "start_time": "2022-08-03T15:15:57.962Z"
   },
   {
    "duration": 163,
    "start_time": "2022-08-03T15:15:57.993Z"
   },
   {
    "duration": 6,
    "start_time": "2022-08-03T15:15:58.157Z"
   },
   {
    "duration": 63,
    "start_time": "2022-08-03T15:15:58.165Z"
   },
   {
    "duration": 11,
    "start_time": "2022-08-03T15:15:58.234Z"
   },
   {
    "duration": 22,
    "start_time": "2022-08-03T15:15:58.246Z"
   },
   {
    "duration": 36,
    "start_time": "2022-08-03T15:15:58.270Z"
   },
   {
    "duration": 55,
    "start_time": "2022-08-03T15:15:58.310Z"
   },
   {
    "duration": 13,
    "start_time": "2022-08-03T15:15:58.367Z"
   },
   {
    "duration": 84,
    "start_time": "2022-08-03T15:29:20.792Z"
   },
   {
    "duration": 5,
    "start_time": "2022-08-03T15:38:21.658Z"
   },
   {
    "duration": 7,
    "start_time": "2022-08-03T15:38:24.743Z"
   },
   {
    "duration": 11,
    "start_time": "2022-08-03T15:38:37.203Z"
   },
   {
    "duration": 79,
    "start_time": "2022-08-03T15:53:25.450Z"
   },
   {
    "duration": 78,
    "start_time": "2022-08-05T17:08:31.272Z"
   },
   {
    "duration": 1110,
    "start_time": "2022-08-05T17:09:23.184Z"
   },
   {
    "duration": 96,
    "start_time": "2022-08-05T17:10:40.226Z"
   },
   {
    "duration": 7,
    "start_time": "2022-08-05T17:10:48.631Z"
   },
   {
    "duration": 3,
    "start_time": "2022-08-05T17:11:08.390Z"
   },
   {
    "duration": 220,
    "start_time": "2022-08-05T17:11:09.919Z"
   },
   {
    "duration": 21,
    "start_time": "2022-08-05T17:11:10.514Z"
   },
   {
    "duration": 11,
    "start_time": "2022-08-05T17:11:11.115Z"
   },
   {
    "duration": 8,
    "start_time": "2022-08-05T17:11:11.768Z"
   },
   {
    "duration": 8,
    "start_time": "2022-08-05T17:11:12.348Z"
   },
   {
    "duration": 18,
    "start_time": "2022-08-05T17:11:14.125Z"
   },
   {
    "duration": 5,
    "start_time": "2022-08-05T17:11:15.275Z"
   },
   {
    "duration": 7,
    "start_time": "2022-08-05T17:11:16.913Z"
   },
   {
    "duration": 6,
    "start_time": "2022-08-05T17:11:17.503Z"
   },
   {
    "duration": 9,
    "start_time": "2022-08-05T17:11:20.412Z"
   },
   {
    "duration": 5,
    "start_time": "2022-08-05T17:11:26.543Z"
   },
   {
    "duration": 4,
    "start_time": "2022-08-05T17:11:47.956Z"
   },
   {
    "duration": 5,
    "start_time": "2022-08-05T17:11:56.488Z"
   },
   {
    "duration": 9,
    "start_time": "2022-08-05T17:12:58.846Z"
   },
   {
    "duration": 10,
    "start_time": "2022-08-05T17:13:37.129Z"
   },
   {
    "duration": 1310,
    "start_time": "2022-08-05T17:16:00.717Z"
   },
   {
    "duration": 4,
    "start_time": "2022-08-05T17:16:35.715Z"
   },
   {
    "duration": 5,
    "start_time": "2022-08-05T17:16:44.892Z"
   },
   {
    "duration": 6,
    "start_time": "2022-08-05T17:17:01.134Z"
   },
   {
    "duration": 5,
    "start_time": "2022-08-05T17:17:11.916Z"
   },
   {
    "duration": 8,
    "start_time": "2022-08-05T17:18:24.538Z"
   },
   {
    "duration": 8,
    "start_time": "2022-08-05T17:20:43.034Z"
   },
   {
    "duration": 11,
    "start_time": "2022-08-05T17:20:52.577Z"
   },
   {
    "duration": 81,
    "start_time": "2022-08-05T17:21:01.681Z"
   },
   {
    "duration": 9,
    "start_time": "2022-08-05T17:21:08.382Z"
   },
   {
    "duration": 331,
    "start_time": "2022-08-05T17:23:38.038Z"
   },
   {
    "duration": 378,
    "start_time": "2022-08-05T17:24:09.109Z"
   },
   {
    "duration": 25,
    "start_time": "2022-08-05T17:25:08.686Z"
   },
   {
    "duration": 6,
    "start_time": "2022-08-05T17:25:22.210Z"
   },
   {
    "duration": 6,
    "start_time": "2022-08-05T17:25:48.796Z"
   },
   {
    "duration": 7,
    "start_time": "2022-08-05T17:26:27.560Z"
   },
   {
    "duration": 9,
    "start_time": "2022-08-05T17:26:46.722Z"
   },
   {
    "duration": 9,
    "start_time": "2022-08-05T17:26:56.791Z"
   },
   {
    "duration": 4,
    "start_time": "2022-08-05T17:28:00.731Z"
   },
   {
    "duration": 11,
    "start_time": "2022-08-05T17:28:09.937Z"
   },
   {
    "duration": 13,
    "start_time": "2022-08-05T17:30:26.328Z"
   },
   {
    "duration": 14,
    "start_time": "2022-08-05T17:30:37.525Z"
   },
   {
    "duration": 11,
    "start_time": "2022-08-05T17:31:11.508Z"
   },
   {
    "duration": 141,
    "start_time": "2022-08-05T17:31:27.832Z"
   },
   {
    "duration": 138,
    "start_time": "2022-08-05T17:34:39.508Z"
   },
   {
    "duration": 126,
    "start_time": "2022-08-05T17:34:53.333Z"
   },
   {
    "duration": 142,
    "start_time": "2022-08-05T17:35:27.026Z"
   },
   {
    "duration": 140,
    "start_time": "2022-08-05T17:35:56.334Z"
   },
   {
    "duration": 13,
    "start_time": "2022-08-05T17:36:39.093Z"
   },
   {
    "duration": 6,
    "start_time": "2022-08-05T17:37:39.372Z"
   },
   {
    "duration": 3,
    "start_time": "2022-08-05T17:37:56.504Z"
   },
   {
    "duration": 3,
    "start_time": "2022-08-05T17:43:05.041Z"
   },
   {
    "duration": 15,
    "start_time": "2022-08-05T17:43:38.477Z"
   },
   {
    "duration": 14,
    "start_time": "2022-08-05T17:43:47.969Z"
   },
   {
    "duration": 8,
    "start_time": "2022-08-05T17:45:15.921Z"
   },
   {
    "duration": 10,
    "start_time": "2022-08-05T17:45:27.250Z"
   },
   {
    "duration": 343,
    "start_time": "2022-08-05T17:45:59.084Z"
   },
   {
    "duration": 4,
    "start_time": "2022-08-05T17:49:01.478Z"
   },
   {
    "duration": 4,
    "start_time": "2022-08-05T17:49:24.955Z"
   },
   {
    "duration": 6,
    "start_time": "2022-08-05T17:49:52.614Z"
   },
   {
    "duration": 6,
    "start_time": "2022-08-05T17:50:55.216Z"
   },
   {
    "duration": 9,
    "start_time": "2022-08-05T17:51:21.558Z"
   },
   {
    "duration": 8,
    "start_time": "2022-08-05T17:53:00.348Z"
   },
   {
    "duration": 9,
    "start_time": "2022-08-05T17:53:18.589Z"
   },
   {
    "duration": 4,
    "start_time": "2022-08-05T17:55:52.393Z"
   },
   {
    "duration": 12,
    "start_time": "2022-08-05T17:56:15.121Z"
   },
   {
    "duration": 13,
    "start_time": "2022-08-05T17:56:55.709Z"
   },
   {
    "duration": 7,
    "start_time": "2022-08-05T17:57:02.302Z"
   },
   {
    "duration": 13,
    "start_time": "2022-08-05T17:58:01.831Z"
   },
   {
    "duration": 13,
    "start_time": "2022-08-05T18:05:00.458Z"
   },
   {
    "duration": 13,
    "start_time": "2022-08-05T18:05:09.370Z"
   },
   {
    "duration": 40,
    "start_time": "2022-08-05T18:05:47.616Z"
   },
   {
    "duration": 45,
    "start_time": "2022-08-05T18:06:00.456Z"
   },
   {
    "duration": 19,
    "start_time": "2022-08-05T18:06:09.609Z"
   },
   {
    "duration": 41,
    "start_time": "2022-08-05T18:06:24.700Z"
   },
   {
    "duration": 12,
    "start_time": "2022-08-05T18:08:43.786Z"
   },
   {
    "duration": 7,
    "start_time": "2022-08-05T18:09:15.921Z"
   },
   {
    "duration": 12,
    "start_time": "2022-08-05T18:10:01.991Z"
   },
   {
    "duration": 7,
    "start_time": "2022-08-05T18:10:03.681Z"
   },
   {
    "duration": 18,
    "start_time": "2022-08-05T18:10:05.079Z"
   },
   {
    "duration": 15,
    "start_time": "2022-08-05T18:10:55.135Z"
   },
   {
    "duration": 8,
    "start_time": "2022-08-05T18:11:01.463Z"
   },
   {
    "duration": 4,
    "start_time": "2022-08-05T18:11:13.543Z"
   },
   {
    "duration": 26,
    "start_time": "2022-08-05T18:11:23.066Z"
   },
   {
    "duration": 9,
    "start_time": "2022-08-05T18:11:42.829Z"
   },
   {
    "duration": 79,
    "start_time": "2022-08-05T18:11:59.842Z"
   },
   {
    "duration": 70,
    "start_time": "2022-08-05T18:12:34.188Z"
   },
   {
    "duration": 23,
    "start_time": "2022-08-05T18:13:44.438Z"
   },
   {
    "duration": 75,
    "start_time": "2022-08-05T18:15:06.032Z"
   },
   {
    "duration": 12,
    "start_time": "2022-08-05T18:15:27.069Z"
   },
   {
    "duration": 5,
    "start_time": "2022-08-05T18:16:03.781Z"
   },
   {
    "duration": 10,
    "start_time": "2022-08-05T18:17:02.723Z"
   },
   {
    "duration": 335,
    "start_time": "2022-08-05T18:18:13.988Z"
   },
   {
    "duration": 305,
    "start_time": "2022-08-05T18:18:30.564Z"
   },
   {
    "duration": 302,
    "start_time": "2022-08-05T18:18:49.202Z"
   },
   {
    "duration": 8,
    "start_time": "2022-08-05T18:19:16.530Z"
   },
   {
    "duration": 14,
    "start_time": "2022-08-05T18:19:33.577Z"
   },
   {
    "duration": 12,
    "start_time": "2022-08-05T18:20:04.520Z"
   },
   {
    "duration": 3,
    "start_time": "2022-08-05T18:20:07.174Z"
   },
   {
    "duration": 11,
    "start_time": "2022-08-05T18:20:18.742Z"
   },
   {
    "duration": 5,
    "start_time": "2022-08-05T18:20:20.523Z"
   },
   {
    "duration": 945,
    "start_time": "2022-08-05T18:20:39.790Z"
   },
   {
    "duration": 113,
    "start_time": "2022-08-05T18:20:40.737Z"
   },
   {
    "duration": 22,
    "start_time": "2022-08-05T18:20:40.852Z"
   },
   {
    "duration": 13,
    "start_time": "2022-08-05T18:20:40.876Z"
   },
   {
    "duration": 7,
    "start_time": "2022-08-05T18:20:40.890Z"
   },
   {
    "duration": 7,
    "start_time": "2022-08-05T18:20:40.899Z"
   },
   {
    "duration": 13,
    "start_time": "2022-08-05T18:20:40.908Z"
   },
   {
    "duration": 34,
    "start_time": "2022-08-05T18:20:40.923Z"
   },
   {
    "duration": 8,
    "start_time": "2022-08-05T18:20:40.959Z"
   },
   {
    "duration": 5,
    "start_time": "2022-08-05T18:20:40.970Z"
   },
   {
    "duration": 7,
    "start_time": "2022-08-05T18:20:40.976Z"
   },
   {
    "duration": 11,
    "start_time": "2022-08-05T18:20:40.985Z"
   },
   {
    "duration": 14,
    "start_time": "2022-08-05T18:20:40.998Z"
   },
   {
    "duration": 3,
    "start_time": "2022-08-05T18:20:41.013Z"
   },
   {
    "duration": 43,
    "start_time": "2022-08-05T18:20:41.018Z"
   },
   {
    "duration": 93,
    "start_time": "2022-08-05T18:20:41.062Z"
   },
   {
    "duration": 0,
    "start_time": "2022-08-05T18:20:41.157Z"
   },
   {
    "duration": 0,
    "start_time": "2022-08-05T18:20:41.158Z"
   },
   {
    "duration": 0,
    "start_time": "2022-08-05T18:20:41.159Z"
   },
   {
    "duration": 0,
    "start_time": "2022-08-05T18:20:41.160Z"
   },
   {
    "duration": 0,
    "start_time": "2022-08-05T18:20:41.161Z"
   },
   {
    "duration": 0,
    "start_time": "2022-08-05T18:20:41.162Z"
   },
   {
    "duration": 0,
    "start_time": "2022-08-05T18:20:41.163Z"
   },
   {
    "duration": 0,
    "start_time": "2022-08-05T18:20:41.164Z"
   },
   {
    "duration": 0,
    "start_time": "2022-08-05T18:20:41.165Z"
   },
   {
    "duration": 0,
    "start_time": "2022-08-05T18:20:41.166Z"
   },
   {
    "duration": 0,
    "start_time": "2022-08-05T18:20:41.167Z"
   },
   {
    "duration": 0,
    "start_time": "2022-08-05T18:20:41.168Z"
   },
   {
    "duration": 0,
    "start_time": "2022-08-05T18:20:41.169Z"
   },
   {
    "duration": 0,
    "start_time": "2022-08-05T18:20:41.170Z"
   },
   {
    "duration": 0,
    "start_time": "2022-08-05T18:20:41.170Z"
   },
   {
    "duration": 0,
    "start_time": "2022-08-05T18:20:41.171Z"
   },
   {
    "duration": 0,
    "start_time": "2022-08-05T18:20:41.172Z"
   },
   {
    "duration": 0,
    "start_time": "2022-08-05T18:20:41.173Z"
   },
   {
    "duration": 0,
    "start_time": "2022-08-05T18:20:41.174Z"
   },
   {
    "duration": 0,
    "start_time": "2022-08-05T18:20:41.175Z"
   },
   {
    "duration": 0,
    "start_time": "2022-08-05T18:20:41.175Z"
   },
   {
    "duration": 0,
    "start_time": "2022-08-05T18:20:41.176Z"
   },
   {
    "duration": 0,
    "start_time": "2022-08-05T18:20:41.177Z"
   },
   {
    "duration": 0,
    "start_time": "2022-08-05T18:20:41.178Z"
   },
   {
    "duration": 0,
    "start_time": "2022-08-05T18:20:41.179Z"
   },
   {
    "duration": 0,
    "start_time": "2022-08-05T18:20:41.180Z"
   },
   {
    "duration": 0,
    "start_time": "2022-08-05T18:20:41.181Z"
   },
   {
    "duration": 0,
    "start_time": "2022-08-05T18:20:41.182Z"
   },
   {
    "duration": 0,
    "start_time": "2022-08-05T18:20:41.183Z"
   },
   {
    "duration": 0,
    "start_time": "2022-08-05T18:20:41.184Z"
   },
   {
    "duration": 0,
    "start_time": "2022-08-05T18:20:41.185Z"
   },
   {
    "duration": 0,
    "start_time": "2022-08-05T18:20:41.185Z"
   },
   {
    "duration": 0,
    "start_time": "2022-08-05T18:20:41.186Z"
   },
   {
    "duration": 0,
    "start_time": "2022-08-05T18:20:41.187Z"
   },
   {
    "duration": 0,
    "start_time": "2022-08-05T18:20:41.188Z"
   },
   {
    "duration": 0,
    "start_time": "2022-08-05T18:20:41.189Z"
   },
   {
    "duration": 3,
    "start_time": "2022-08-05T18:20:44.637Z"
   },
   {
    "duration": 64,
    "start_time": "2022-08-05T18:20:45.166Z"
   },
   {
    "duration": 22,
    "start_time": "2022-08-05T18:20:45.368Z"
   },
   {
    "duration": 7,
    "start_time": "2022-08-05T18:20:45.537Z"
   },
   {
    "duration": 8,
    "start_time": "2022-08-05T18:20:45.696Z"
   },
   {
    "duration": 6,
    "start_time": "2022-08-05T18:20:45.885Z"
   },
   {
    "duration": 12,
    "start_time": "2022-08-05T18:20:46.445Z"
   },
   {
    "duration": 5,
    "start_time": "2022-08-05T18:20:46.833Z"
   },
   {
    "duration": 7,
    "start_time": "2022-08-05T18:20:47.169Z"
   },
   {
    "duration": 7,
    "start_time": "2022-08-05T18:20:47.363Z"
   },
   {
    "duration": 6,
    "start_time": "2022-08-05T18:20:48.083Z"
   },
   {
    "duration": 11,
    "start_time": "2022-08-05T18:20:48.465Z"
   },
   {
    "duration": 12,
    "start_time": "2022-08-05T18:20:48.666Z"
   },
   {
    "duration": 5,
    "start_time": "2022-08-05T18:20:48.889Z"
   },
   {
    "duration": 9,
    "start_time": "2022-08-05T18:20:49.545Z"
   },
   {
    "duration": 14,
    "start_time": "2022-08-05T18:20:53.205Z"
   },
   {
    "duration": 12,
    "start_time": "2022-08-05T18:21:06.537Z"
   },
   {
    "duration": 7,
    "start_time": "2022-08-05T18:21:08.459Z"
   },
   {
    "duration": 5,
    "start_time": "2022-08-05T18:21:16.993Z"
   },
   {
    "duration": 69,
    "start_time": "2022-08-05T18:21:18.658Z"
   },
   {
    "duration": 9,
    "start_time": "2022-08-05T18:21:33.077Z"
   },
   {
    "duration": 10,
    "start_time": "2022-08-05T18:21:46.837Z"
   },
   {
    "duration": 4,
    "start_time": "2022-08-05T18:21:54.361Z"
   },
   {
    "duration": 86,
    "start_time": "2022-08-05T18:21:55.154Z"
   },
   {
    "duration": 5,
    "start_time": "2022-08-05T18:22:27.854Z"
   },
   {
    "duration": 10,
    "start_time": "2022-08-05T18:22:34.596Z"
   },
   {
    "duration": 7,
    "start_time": "2022-08-05T18:22:50.992Z"
   },
   {
    "duration": 73,
    "start_time": "2022-08-05T18:23:13.561Z"
   },
   {
    "duration": 24,
    "start_time": "2022-08-05T18:23:19.549Z"
   },
   {
    "duration": 25,
    "start_time": "2022-08-05T18:23:45.245Z"
   },
   {
    "duration": 23,
    "start_time": "2022-08-05T18:25:47.173Z"
   },
   {
    "duration": 41,
    "start_time": "2022-08-05T18:25:58.448Z"
   },
   {
    "duration": 10,
    "start_time": "2022-08-05T18:26:25.080Z"
   },
   {
    "duration": 4,
    "start_time": "2022-08-05T18:37:10.238Z"
   },
   {
    "duration": 944,
    "start_time": "2022-08-05T18:37:22.046Z"
   },
   {
    "duration": 940,
    "start_time": "2022-08-05T18:37:52.387Z"
   },
   {
    "duration": 118,
    "start_time": "2022-08-05T18:37:53.329Z"
   },
   {
    "duration": 28,
    "start_time": "2022-08-05T18:37:53.449Z"
   },
   {
    "duration": 19,
    "start_time": "2022-08-05T18:37:53.479Z"
   },
   {
    "duration": 14,
    "start_time": "2022-08-05T18:37:53.500Z"
   },
   {
    "duration": 10,
    "start_time": "2022-08-05T18:37:53.515Z"
   },
   {
    "duration": 28,
    "start_time": "2022-08-05T18:37:53.526Z"
   },
   {
    "duration": 16,
    "start_time": "2022-08-05T18:37:53.557Z"
   },
   {
    "duration": 8,
    "start_time": "2022-08-05T18:37:53.575Z"
   },
   {
    "duration": 10,
    "start_time": "2022-08-05T18:37:53.586Z"
   },
   {
    "duration": 17,
    "start_time": "2022-08-05T18:37:53.598Z"
   },
   {
    "duration": 11,
    "start_time": "2022-08-05T18:37:53.616Z"
   },
   {
    "duration": 8,
    "start_time": "2022-08-05T18:37:53.628Z"
   },
   {
    "duration": 5,
    "start_time": "2022-08-05T18:37:53.638Z"
   },
   {
    "duration": 25,
    "start_time": "2022-08-05T18:37:53.645Z"
   },
   {
    "duration": 13,
    "start_time": "2022-08-05T18:37:53.672Z"
   },
   {
    "duration": 5,
    "start_time": "2022-08-05T18:37:53.687Z"
   },
   {
    "duration": 6,
    "start_time": "2022-08-05T18:37:53.693Z"
   },
   {
    "duration": 14,
    "start_time": "2022-08-05T18:37:53.700Z"
   },
   {
    "duration": 108,
    "start_time": "2022-08-05T18:37:53.715Z"
   },
   {
    "duration": 0,
    "start_time": "2022-08-05T18:37:53.825Z"
   },
   {
    "duration": 0,
    "start_time": "2022-08-05T18:37:53.826Z"
   },
   {
    "duration": 0,
    "start_time": "2022-08-05T18:37:53.827Z"
   },
   {
    "duration": 0,
    "start_time": "2022-08-05T18:37:53.828Z"
   },
   {
    "duration": 0,
    "start_time": "2022-08-05T18:37:53.829Z"
   },
   {
    "duration": 0,
    "start_time": "2022-08-05T18:37:53.830Z"
   },
   {
    "duration": 0,
    "start_time": "2022-08-05T18:37:53.831Z"
   },
   {
    "duration": 1,
    "start_time": "2022-08-05T18:37:53.832Z"
   },
   {
    "duration": 0,
    "start_time": "2022-08-05T18:37:53.834Z"
   },
   {
    "duration": 0,
    "start_time": "2022-08-05T18:37:53.835Z"
   },
   {
    "duration": 0,
    "start_time": "2022-08-05T18:37:53.836Z"
   },
   {
    "duration": 0,
    "start_time": "2022-08-05T18:37:53.855Z"
   },
   {
    "duration": 0,
    "start_time": "2022-08-05T18:37:53.856Z"
   },
   {
    "duration": 0,
    "start_time": "2022-08-05T18:37:53.857Z"
   },
   {
    "duration": 0,
    "start_time": "2022-08-05T18:37:53.858Z"
   },
   {
    "duration": 0,
    "start_time": "2022-08-05T18:37:53.859Z"
   },
   {
    "duration": 0,
    "start_time": "2022-08-05T18:37:53.861Z"
   },
   {
    "duration": 0,
    "start_time": "2022-08-05T18:37:53.862Z"
   },
   {
    "duration": 0,
    "start_time": "2022-08-05T18:37:53.864Z"
   },
   {
    "duration": 0,
    "start_time": "2022-08-05T18:37:53.865Z"
   },
   {
    "duration": 0,
    "start_time": "2022-08-05T18:37:53.867Z"
   },
   {
    "duration": 0,
    "start_time": "2022-08-05T18:37:53.868Z"
   },
   {
    "duration": 0,
    "start_time": "2022-08-05T18:37:53.869Z"
   },
   {
    "duration": 0,
    "start_time": "2022-08-05T18:37:53.870Z"
   },
   {
    "duration": 0,
    "start_time": "2022-08-05T18:37:53.871Z"
   },
   {
    "duration": 0,
    "start_time": "2022-08-05T18:37:53.872Z"
   },
   {
    "duration": 0,
    "start_time": "2022-08-05T18:37:53.874Z"
   },
   {
    "duration": 0,
    "start_time": "2022-08-05T18:37:53.875Z"
   },
   {
    "duration": 0,
    "start_time": "2022-08-05T18:37:53.877Z"
   },
   {
    "duration": 0,
    "start_time": "2022-08-05T18:37:53.878Z"
   },
   {
    "duration": 0,
    "start_time": "2022-08-05T18:37:53.879Z"
   },
   {
    "duration": 0,
    "start_time": "2022-08-05T18:37:53.881Z"
   },
   {
    "duration": 0,
    "start_time": "2022-08-05T18:37:53.882Z"
   },
   {
    "duration": 68,
    "start_time": "2022-08-05T18:38:00.991Z"
   },
   {
    "duration": 22,
    "start_time": "2022-08-05T18:38:01.422Z"
   },
   {
    "duration": 8,
    "start_time": "2022-08-05T18:38:01.972Z"
   },
   {
    "duration": 9,
    "start_time": "2022-08-05T18:38:02.575Z"
   },
   {
    "duration": 7,
    "start_time": "2022-08-05T18:38:03.141Z"
   },
   {
    "duration": 11,
    "start_time": "2022-08-05T18:38:04.872Z"
   },
   {
    "duration": 6,
    "start_time": "2022-08-05T18:38:06.054Z"
   },
   {
    "duration": 8,
    "start_time": "2022-08-05T18:38:07.476Z"
   },
   {
    "duration": 5,
    "start_time": "2022-08-05T18:38:08.131Z"
   },
   {
    "duration": 8,
    "start_time": "2022-08-05T18:38:12.971Z"
   },
   {
    "duration": 8,
    "start_time": "2022-08-05T18:38:14.774Z"
   },
   {
    "duration": 8,
    "start_time": "2022-08-05T18:38:15.463Z"
   },
   {
    "duration": 4,
    "start_time": "2022-08-05T18:38:16.407Z"
   },
   {
    "duration": 10,
    "start_time": "2022-08-05T18:38:17.191Z"
   },
   {
    "duration": 12,
    "start_time": "2022-08-05T18:38:18.784Z"
   },
   {
    "duration": 5,
    "start_time": "2022-08-05T18:38:20.502Z"
   },
   {
    "duration": 3,
    "start_time": "2022-08-05T18:38:21.604Z"
   },
   {
    "duration": 4,
    "start_time": "2022-08-05T18:38:34.116Z"
   },
   {
    "duration": 861,
    "start_time": "2022-08-05T18:39:08.034Z"
   },
   {
    "duration": 5,
    "start_time": "2022-08-05T18:39:28.318Z"
   },
   {
    "duration": 4389,
    "start_time": "2022-08-05T18:40:20.566Z"
   },
   {
    "duration": 0,
    "start_time": "2022-08-05T18:40:24.957Z"
   },
   {
    "duration": 5,
    "start_time": "2022-08-05T18:40:25.572Z"
   },
   {
    "duration": 992,
    "start_time": "2022-08-05T18:40:39.506Z"
   },
   {
    "duration": 121,
    "start_time": "2022-08-05T18:40:40.501Z"
   },
   {
    "duration": 23,
    "start_time": "2022-08-05T18:40:40.626Z"
   },
   {
    "duration": 11,
    "start_time": "2022-08-05T18:40:40.651Z"
   },
   {
    "duration": 8,
    "start_time": "2022-08-05T18:40:40.664Z"
   },
   {
    "duration": 8,
    "start_time": "2022-08-05T18:40:40.673Z"
   },
   {
    "duration": 14,
    "start_time": "2022-08-05T18:40:40.682Z"
   },
   {
    "duration": 5,
    "start_time": "2022-08-05T18:40:40.698Z"
   },
   {
    "duration": 6,
    "start_time": "2022-08-05T18:40:40.706Z"
   },
   {
    "duration": 4,
    "start_time": "2022-08-05T18:40:40.713Z"
   },
   {
    "duration": 7,
    "start_time": "2022-08-05T18:40:40.719Z"
   },
   {
    "duration": 8,
    "start_time": "2022-08-05T18:40:40.755Z"
   },
   {
    "duration": 8,
    "start_time": "2022-08-05T18:40:40.765Z"
   },
   {
    "duration": 4,
    "start_time": "2022-08-05T18:40:40.774Z"
   },
   {
    "duration": 11,
    "start_time": "2022-08-05T18:40:40.780Z"
   },
   {
    "duration": 13,
    "start_time": "2022-08-05T18:40:40.793Z"
   },
   {
    "duration": 4,
    "start_time": "2022-08-05T18:40:40.808Z"
   },
   {
    "duration": 4,
    "start_time": "2022-08-05T18:40:40.855Z"
   },
   {
    "duration": 5,
    "start_time": "2022-08-05T18:40:40.861Z"
   },
   {
    "duration": 15,
    "start_time": "2022-08-05T18:40:40.867Z"
   },
   {
    "duration": 8,
    "start_time": "2022-08-05T18:40:40.883Z"
   },
   {
    "duration": 10,
    "start_time": "2022-08-05T18:40:40.893Z"
   },
   {
    "duration": 52,
    "start_time": "2022-08-05T18:40:40.904Z"
   },
   {
    "duration": 198,
    "start_time": "2022-08-05T18:40:40.957Z"
   },
   {
    "duration": 7,
    "start_time": "2022-08-05T18:40:41.156Z"
   },
   {
    "duration": 7,
    "start_time": "2022-08-05T18:40:41.165Z"
   },
   {
    "duration": 6,
    "start_time": "2022-08-05T18:40:41.176Z"
   },
   {
    "duration": 6,
    "start_time": "2022-08-05T18:40:41.183Z"
   },
   {
    "duration": 6,
    "start_time": "2022-08-05T18:40:41.190Z"
   },
   {
    "duration": 6,
    "start_time": "2022-08-05T18:40:41.198Z"
   },
   {
    "duration": 17,
    "start_time": "2022-08-05T18:40:41.205Z"
   },
   {
    "duration": 14,
    "start_time": "2022-08-05T18:40:41.254Z"
   },
   {
    "duration": 17,
    "start_time": "2022-08-05T18:40:41.269Z"
   },
   {
    "duration": 9,
    "start_time": "2022-08-05T18:40:41.288Z"
   },
   {
    "duration": 8,
    "start_time": "2022-08-05T18:40:41.298Z"
   },
   {
    "duration": 143,
    "start_time": "2022-08-05T18:40:41.307Z"
   },
   {
    "duration": 127,
    "start_time": "2022-08-05T18:40:41.454Z"
   },
   {
    "duration": 289,
    "start_time": "2022-08-05T18:40:41.582Z"
   },
   {
    "duration": 284,
    "start_time": "2022-08-05T18:40:41.873Z"
   },
   {
    "duration": 335,
    "start_time": "2022-08-05T18:40:42.158Z"
   },
   {
    "duration": 62,
    "start_time": "2022-08-05T18:40:42.494Z"
   },
   {
    "duration": 201,
    "start_time": "2022-08-05T18:40:42.558Z"
   },
   {
    "duration": 5,
    "start_time": "2022-08-05T18:40:42.761Z"
   },
   {
    "duration": 9,
    "start_time": "2022-08-05T18:40:42.767Z"
   },
   {
    "duration": 225,
    "start_time": "2022-08-05T18:40:42.778Z"
   },
   {
    "duration": 5,
    "start_time": "2022-08-05T18:40:43.055Z"
   },
   {
    "duration": 197,
    "start_time": "2022-08-05T18:40:43.061Z"
   },
   {
    "duration": 26,
    "start_time": "2022-08-05T18:40:43.259Z"
   },
   {
    "duration": 11,
    "start_time": "2022-08-05T18:40:43.286Z"
   },
   {
    "duration": 57,
    "start_time": "2022-08-05T18:40:43.298Z"
   },
   {
    "duration": 144,
    "start_time": "2022-08-05T18:40:43.357Z"
   },
   {
    "duration": 0,
    "start_time": "2022-08-05T18:40:43.503Z"
   },
   {
    "duration": 0,
    "start_time": "2022-08-05T18:40:43.504Z"
   },
   {
    "duration": 0,
    "start_time": "2022-08-05T18:40:43.505Z"
   },
   {
    "duration": 0,
    "start_time": "2022-08-05T18:40:43.506Z"
   },
   {
    "duration": 0,
    "start_time": "2022-08-05T18:40:43.506Z"
   },
   {
    "duration": 3,
    "start_time": "2022-08-05T18:40:44.154Z"
   },
   {
    "duration": 64,
    "start_time": "2022-08-05T18:40:45.226Z"
   },
   {
    "duration": 22,
    "start_time": "2022-08-05T18:40:45.566Z"
   },
   {
    "duration": 7,
    "start_time": "2022-08-05T18:40:45.907Z"
   },
   {
    "duration": 7,
    "start_time": "2022-08-05T18:40:46.233Z"
   },
   {
    "duration": 8,
    "start_time": "2022-08-05T18:40:46.688Z"
   },
   {
    "duration": 17,
    "start_time": "2022-08-05T18:40:47.343Z"
   },
   {
    "duration": 4,
    "start_time": "2022-08-05T18:40:47.666Z"
   },
   {
    "duration": 6,
    "start_time": "2022-08-05T18:40:47.992Z"
   },
   {
    "duration": 7,
    "start_time": "2022-08-05T18:40:48.169Z"
   },
   {
    "duration": 6,
    "start_time": "2022-08-05T18:40:48.836Z"
   },
   {
    "duration": 7,
    "start_time": "2022-08-05T18:40:49.531Z"
   },
   {
    "duration": 9,
    "start_time": "2022-08-05T18:40:49.972Z"
   },
   {
    "duration": 3,
    "start_time": "2022-08-05T18:40:50.531Z"
   },
   {
    "duration": 8,
    "start_time": "2022-08-05T18:40:51.187Z"
   },
   {
    "duration": 14,
    "start_time": "2022-08-05T18:40:52.869Z"
   },
   {
    "duration": 6,
    "start_time": "2022-08-05T18:40:54.301Z"
   },
   {
    "duration": 6,
    "start_time": "2022-08-05T18:40:55.033Z"
   },
   {
    "duration": 4,
    "start_time": "2022-08-05T18:40:55.933Z"
   },
   {
    "duration": 5,
    "start_time": "2022-08-05T18:41:09.033Z"
   },
   {
    "duration": 3,
    "start_time": "2022-08-05T18:41:10.435Z"
   },
   {
    "duration": 13,
    "start_time": "2022-08-05T18:41:24.702Z"
   },
   {
    "duration": 5,
    "start_time": "2022-08-05T18:44:01.175Z"
   },
   {
    "duration": 14,
    "start_time": "2022-08-05T18:44:02.004Z"
   },
   {
    "duration": 7,
    "start_time": "2022-08-05T18:46:11.234Z"
   },
   {
    "duration": 7,
    "start_time": "2022-08-05T18:47:31.308Z"
   },
   {
    "duration": 14,
    "start_time": "2022-08-05T18:47:32.185Z"
   },
   {
    "duration": 8,
    "start_time": "2022-08-05T18:47:57.610Z"
   },
   {
    "duration": 8,
    "start_time": "2022-08-05T18:48:00.837Z"
   },
   {
    "duration": 3,
    "start_time": "2022-08-05T18:49:30.948Z"
   },
   {
    "duration": 12,
    "start_time": "2022-08-05T18:51:06.744Z"
   },
   {
    "duration": 5,
    "start_time": "2022-08-05T18:51:27.643Z"
   },
   {
    "duration": 996,
    "start_time": "2022-08-05T18:51:34.045Z"
   },
   {
    "duration": 127,
    "start_time": "2022-08-05T18:51:35.043Z"
   },
   {
    "duration": 31,
    "start_time": "2022-08-05T18:51:35.172Z"
   },
   {
    "duration": 19,
    "start_time": "2022-08-05T18:51:35.205Z"
   },
   {
    "duration": 10,
    "start_time": "2022-08-05T18:51:35.226Z"
   },
   {
    "duration": 19,
    "start_time": "2022-08-05T18:51:35.238Z"
   },
   {
    "duration": 20,
    "start_time": "2022-08-05T18:51:35.259Z"
   },
   {
    "duration": 8,
    "start_time": "2022-08-05T18:51:35.281Z"
   },
   {
    "duration": 6,
    "start_time": "2022-08-05T18:51:35.291Z"
   },
   {
    "duration": 8,
    "start_time": "2022-08-05T18:51:35.301Z"
   },
   {
    "duration": 12,
    "start_time": "2022-08-05T18:51:35.311Z"
   },
   {
    "duration": 36,
    "start_time": "2022-08-05T18:51:35.325Z"
   },
   {
    "duration": 9,
    "start_time": "2022-08-05T18:51:35.363Z"
   },
   {
    "duration": 8,
    "start_time": "2022-08-05T18:51:35.373Z"
   },
   {
    "duration": 12,
    "start_time": "2022-08-05T18:51:35.382Z"
   },
   {
    "duration": 14,
    "start_time": "2022-08-05T18:51:35.396Z"
   },
   {
    "duration": 5,
    "start_time": "2022-08-05T18:51:35.412Z"
   },
   {
    "duration": 42,
    "start_time": "2022-08-05T18:51:35.419Z"
   },
   {
    "duration": 20,
    "start_time": "2022-08-05T18:51:35.462Z"
   },
   {
    "duration": 35,
    "start_time": "2022-08-05T18:51:35.483Z"
   },
   {
    "duration": 18,
    "start_time": "2022-08-05T18:51:35.519Z"
   },
   {
    "duration": 160,
    "start_time": "2022-08-05T18:51:35.539Z"
   },
   {
    "duration": 7,
    "start_time": "2022-08-05T18:51:35.701Z"
   },
   {
    "duration": 10,
    "start_time": "2022-08-05T18:51:35.709Z"
   },
   {
    "duration": 7,
    "start_time": "2022-08-05T18:51:35.721Z"
   },
   {
    "duration": 29,
    "start_time": "2022-08-05T18:51:35.729Z"
   },
   {
    "duration": 6,
    "start_time": "2022-08-05T18:51:35.760Z"
   },
   {
    "duration": 7,
    "start_time": "2022-08-05T18:51:35.770Z"
   },
   {
    "duration": 20,
    "start_time": "2022-08-05T18:51:35.779Z"
   },
   {
    "duration": 134,
    "start_time": "2022-08-05T18:51:35.801Z"
   },
   {
    "duration": 162,
    "start_time": "2022-08-05T18:51:35.937Z"
   },
   {
    "duration": 7,
    "start_time": "2022-08-05T18:51:36.101Z"
   },
   {
    "duration": 14,
    "start_time": "2022-08-05T18:51:36.110Z"
   },
   {
    "duration": 156,
    "start_time": "2022-08-05T18:51:36.126Z"
   },
   {
    "duration": 148,
    "start_time": "2022-08-05T18:51:36.284Z"
   },
   {
    "duration": 266,
    "start_time": "2022-08-05T18:51:36.433Z"
   },
   {
    "duration": 182,
    "start_time": "2022-08-05T18:51:36.700Z"
   },
   {
    "duration": 253,
    "start_time": "2022-08-05T18:51:36.884Z"
   },
   {
    "duration": 16,
    "start_time": "2022-08-05T18:51:37.139Z"
   },
   {
    "duration": 145,
    "start_time": "2022-08-05T18:51:37.157Z"
   },
   {
    "duration": 7,
    "start_time": "2022-08-05T18:51:37.304Z"
   },
   {
    "duration": 21,
    "start_time": "2022-08-05T18:51:37.313Z"
   },
   {
    "duration": 195,
    "start_time": "2022-08-05T18:51:37.337Z"
   },
   {
    "duration": 7,
    "start_time": "2022-08-05T18:51:37.534Z"
   },
   {
    "duration": 223,
    "start_time": "2022-08-05T18:51:37.556Z"
   },
   {
    "duration": 40,
    "start_time": "2022-08-05T18:51:37.781Z"
   },
   {
    "duration": 154,
    "start_time": "2022-08-05T18:51:37.822Z"
   },
   {
    "duration": 6,
    "start_time": "2022-08-05T18:51:37.978Z"
   },
   {
    "duration": 24,
    "start_time": "2022-08-05T18:51:37.986Z"
   },
   {
    "duration": 101,
    "start_time": "2022-08-05T18:51:38.012Z"
   },
   {
    "duration": 0,
    "start_time": "2022-08-05T18:51:38.114Z"
   },
   {
    "duration": 0,
    "start_time": "2022-08-05T18:51:38.116Z"
   },
   {
    "duration": 0,
    "start_time": "2022-08-05T18:51:38.117Z"
   },
   {
    "duration": 0,
    "start_time": "2022-08-05T18:51:38.119Z"
   },
   {
    "duration": 4,
    "start_time": "2022-08-05T18:51:41.840Z"
   },
   {
    "duration": 67,
    "start_time": "2022-08-05T18:51:43.496Z"
   },
   {
    "duration": 21,
    "start_time": "2022-08-05T18:51:44.112Z"
   },
   {
    "duration": 8,
    "start_time": "2022-08-05T18:51:44.720Z"
   },
   {
    "duration": 9,
    "start_time": "2022-08-05T18:51:45.319Z"
   },
   {
    "duration": 7,
    "start_time": "2022-08-05T18:51:45.904Z"
   },
   {
    "duration": 11,
    "start_time": "2022-08-05T18:51:47.572Z"
   },
   {
    "duration": 5,
    "start_time": "2022-08-05T18:51:48.651Z"
   },
   {
    "duration": 6,
    "start_time": "2022-08-05T18:51:49.819Z"
   },
   {
    "duration": 6,
    "start_time": "2022-08-05T18:51:50.367Z"
   },
   {
    "duration": 6,
    "start_time": "2022-08-05T18:51:52.863Z"
   },
   {
    "duration": 8,
    "start_time": "2022-08-05T18:51:54.342Z"
   },
   {
    "duration": 9,
    "start_time": "2022-08-05T18:51:54.967Z"
   },
   {
    "duration": 3,
    "start_time": "2022-08-05T18:51:55.671Z"
   },
   {
    "duration": 10,
    "start_time": "2022-08-05T18:51:56.369Z"
   },
   {
    "duration": 12,
    "start_time": "2022-08-05T18:51:58.488Z"
   },
   {
    "duration": 4,
    "start_time": "2022-08-05T18:51:59.569Z"
   },
   {
    "duration": 12,
    "start_time": "2022-08-05T18:53:47.343Z"
   },
   {
    "duration": 8,
    "start_time": "2022-08-05T18:53:58.472Z"
   },
   {
    "duration": 10,
    "start_time": "2022-08-05T18:54:02.019Z"
   },
   {
    "duration": 10,
    "start_time": "2022-08-05T18:54:11.381Z"
   },
   {
    "duration": 5,
    "start_time": "2022-08-05T18:54:23.516Z"
   },
   {
    "duration": 7,
    "start_time": "2022-08-05T18:54:31.217Z"
   },
   {
    "duration": 17,
    "start_time": "2022-08-05T18:55:02.552Z"
   },
   {
    "duration": 16,
    "start_time": "2022-08-05T18:56:55.556Z"
   },
   {
    "duration": 13,
    "start_time": "2022-08-05T18:59:27.471Z"
   },
   {
    "duration": 5,
    "start_time": "2022-08-05T19:02:49.756Z"
   },
   {
    "duration": 7,
    "start_time": "2022-08-05T19:03:03.171Z"
   },
   {
    "duration": 8,
    "start_time": "2022-08-05T19:04:28.410Z"
   },
   {
    "duration": 1023,
    "start_time": "2022-08-05T19:09:29.980Z"
   },
   {
    "duration": 126,
    "start_time": "2022-08-05T19:09:31.005Z"
   },
   {
    "duration": 25,
    "start_time": "2022-08-05T19:09:31.132Z"
   },
   {
    "duration": 11,
    "start_time": "2022-08-05T19:09:31.159Z"
   },
   {
    "duration": 17,
    "start_time": "2022-08-05T19:09:31.172Z"
   },
   {
    "duration": 11,
    "start_time": "2022-08-05T19:09:31.191Z"
   },
   {
    "duration": 15,
    "start_time": "2022-08-05T19:09:31.203Z"
   },
   {
    "duration": 9,
    "start_time": "2022-08-05T19:09:31.220Z"
   },
   {
    "duration": 8,
    "start_time": "2022-08-05T19:09:31.230Z"
   },
   {
    "duration": 6,
    "start_time": "2022-08-05T19:09:31.256Z"
   },
   {
    "duration": 16,
    "start_time": "2022-08-05T19:09:31.264Z"
   },
   {
    "duration": 8,
    "start_time": "2022-08-05T19:09:31.282Z"
   },
   {
    "duration": 8,
    "start_time": "2022-08-05T19:09:31.292Z"
   },
   {
    "duration": 4,
    "start_time": "2022-08-05T19:09:31.302Z"
   },
   {
    "duration": 14,
    "start_time": "2022-08-05T19:09:31.308Z"
   },
   {
    "duration": 47,
    "start_time": "2022-08-05T19:09:31.323Z"
   },
   {
    "duration": 8,
    "start_time": "2022-08-05T19:09:31.373Z"
   },
   {
    "duration": 12,
    "start_time": "2022-08-05T19:09:31.382Z"
   },
   {
    "duration": 12,
    "start_time": "2022-08-05T19:09:31.396Z"
   },
   {
    "duration": 177,
    "start_time": "2022-08-05T19:09:31.409Z"
   },
   {
    "duration": 8,
    "start_time": "2022-08-05T19:09:31.587Z"
   },
   {
    "duration": 10,
    "start_time": "2022-08-05T19:09:31.597Z"
   },
   {
    "duration": 20,
    "start_time": "2022-08-05T19:09:31.609Z"
   },
   {
    "duration": 11,
    "start_time": "2022-08-05T19:09:31.630Z"
   },
   {
    "duration": 9,
    "start_time": "2022-08-05T19:09:31.643Z"
   },
   {
    "duration": 27,
    "start_time": "2022-08-05T19:09:31.655Z"
   },
   {
    "duration": 18,
    "start_time": "2022-08-05T19:09:31.683Z"
   },
   {
    "duration": 132,
    "start_time": "2022-08-05T19:09:31.705Z"
   },
   {
    "duration": 169,
    "start_time": "2022-08-05T19:09:31.839Z"
   },
   {
    "duration": 6,
    "start_time": "2022-08-05T19:09:32.009Z"
   },
   {
    "duration": 9,
    "start_time": "2022-08-05T19:09:32.016Z"
   },
   {
    "duration": 156,
    "start_time": "2022-08-05T19:09:32.027Z"
   },
   {
    "duration": 147,
    "start_time": "2022-08-05T19:09:32.185Z"
   },
   {
    "duration": 285,
    "start_time": "2022-08-05T19:09:32.333Z"
   },
   {
    "duration": 159,
    "start_time": "2022-08-05T19:09:32.620Z"
   },
   {
    "duration": 381,
    "start_time": "2022-08-05T19:09:32.782Z"
   },
   {
    "duration": 7,
    "start_time": "2022-08-05T19:09:33.165Z"
   },
   {
    "duration": 283,
    "start_time": "2022-08-05T19:09:33.174Z"
   },
   {
    "duration": 5,
    "start_time": "2022-08-05T19:09:33.458Z"
   },
   {
    "duration": 19,
    "start_time": "2022-08-05T19:09:33.464Z"
   },
   {
    "duration": 272,
    "start_time": "2022-08-05T19:09:33.485Z"
   },
   {
    "duration": 6,
    "start_time": "2022-08-05T19:09:33.758Z"
   },
   {
    "duration": 428,
    "start_time": "2022-08-05T19:09:33.766Z"
   },
   {
    "duration": 94,
    "start_time": "2022-08-05T19:09:34.196Z"
   },
   {
    "duration": 301,
    "start_time": "2022-08-05T19:09:34.291Z"
   },
   {
    "duration": 5,
    "start_time": "2022-08-05T19:09:34.594Z"
   },
   {
    "duration": 72,
    "start_time": "2022-08-05T19:09:34.601Z"
   },
   {
    "duration": 192,
    "start_time": "2022-08-05T19:09:34.675Z"
   },
   {
    "duration": 0,
    "start_time": "2022-08-05T19:09:34.869Z"
   },
   {
    "duration": 0,
    "start_time": "2022-08-05T19:09:34.870Z"
   },
   {
    "duration": 0,
    "start_time": "2022-08-05T19:09:34.871Z"
   },
   {
    "duration": 0,
    "start_time": "2022-08-05T19:09:34.872Z"
   },
   {
    "duration": 3,
    "start_time": "2022-08-05T19:09:35.171Z"
   },
   {
    "duration": 71,
    "start_time": "2022-08-05T19:09:37.251Z"
   },
   {
    "duration": 23,
    "start_time": "2022-08-05T19:09:37.901Z"
   },
   {
    "duration": 8,
    "start_time": "2022-08-05T19:09:38.568Z"
   },
   {
    "duration": 8,
    "start_time": "2022-08-05T19:09:39.278Z"
   },
   {
    "duration": 7,
    "start_time": "2022-08-05T19:09:39.945Z"
   },
   {
    "duration": 11,
    "start_time": "2022-08-05T19:09:41.984Z"
   },
   {
    "duration": 5,
    "start_time": "2022-08-05T19:09:43.343Z"
   },
   {
    "duration": 7,
    "start_time": "2022-08-05T19:09:44.602Z"
   },
   {
    "duration": 8,
    "start_time": "2022-08-05T19:09:45.270Z"
   },
   {
    "duration": 5,
    "start_time": "2022-08-05T19:10:02.051Z"
   },
   {
    "duration": 9,
    "start_time": "2022-08-05T19:10:06.580Z"
   },
   {
    "duration": 10,
    "start_time": "2022-08-05T19:10:07.384Z"
   },
   {
    "duration": 8,
    "start_time": "2022-08-05T19:10:11.077Z"
   },
   {
    "duration": 4,
    "start_time": "2022-08-05T19:10:11.969Z"
   },
   {
    "duration": 10,
    "start_time": "2022-08-05T19:10:12.925Z"
   },
   {
    "duration": 13,
    "start_time": "2022-08-05T19:10:18.179Z"
   },
   {
    "duration": 6,
    "start_time": "2022-08-05T19:10:21.646Z"
   },
   {
    "duration": 7,
    "start_time": "2022-08-05T19:10:22.758Z"
   },
   {
    "duration": 8,
    "start_time": "2022-08-05T19:11:23.670Z"
   },
   {
    "duration": 8,
    "start_time": "2022-08-05T19:11:24.706Z"
   },
   {
    "duration": 8,
    "start_time": "2022-08-05T19:11:33.616Z"
   },
   {
    "duration": 190,
    "start_time": "2022-08-05T19:11:39.259Z"
   },
   {
    "duration": 8,
    "start_time": "2022-08-05T19:11:44.516Z"
   },
   {
    "duration": 7,
    "start_time": "2022-08-05T19:11:46.776Z"
   },
   {
    "duration": 10,
    "start_time": "2022-08-05T19:13:32.590Z"
   },
   {
    "duration": 10,
    "start_time": "2022-08-05T19:13:41.125Z"
   },
   {
    "duration": 10,
    "start_time": "2022-08-05T19:13:48.404Z"
   },
   {
    "duration": 7,
    "start_time": "2022-08-05T19:15:07.803Z"
   },
   {
    "duration": 213,
    "start_time": "2022-08-05T19:15:30.726Z"
   },
   {
    "duration": 136,
    "start_time": "2022-08-05T19:15:43.151Z"
   },
   {
    "duration": 8,
    "start_time": "2022-08-05T19:15:46.551Z"
   },
   {
    "duration": 6,
    "start_time": "2022-08-05T19:15:49.585Z"
   },
   {
    "duration": 89,
    "start_time": "2022-08-05T19:16:11.731Z"
   },
   {
    "duration": 6,
    "start_time": "2022-08-05T19:16:22.282Z"
   },
   {
    "duration": 5,
    "start_time": "2022-08-05T19:17:34.207Z"
   },
   {
    "duration": 6,
    "start_time": "2022-08-05T19:17:35.104Z"
   },
   {
    "duration": 6,
    "start_time": "2022-08-05T19:19:02.334Z"
   },
   {
    "duration": 5,
    "start_time": "2022-08-05T19:19:04.881Z"
   },
   {
    "duration": 6,
    "start_time": "2022-08-05T19:19:21.562Z"
   },
   {
    "duration": 6,
    "start_time": "2022-08-05T19:20:23.284Z"
   },
   {
    "duration": 6,
    "start_time": "2022-08-05T19:21:57.631Z"
   },
   {
    "duration": 5,
    "start_time": "2022-08-05T19:30:21.877Z"
   },
   {
    "duration": 6,
    "start_time": "2022-08-05T19:35:09.155Z"
   },
   {
    "duration": 13,
    "start_time": "2022-08-05T19:36:56.879Z"
   },
   {
    "duration": 156,
    "start_time": "2022-08-05T19:36:57.731Z"
   },
   {
    "duration": 168,
    "start_time": "2022-08-05T19:36:59.164Z"
   },
   {
    "duration": 7,
    "start_time": "2022-08-05T19:37:00.087Z"
   },
   {
    "duration": 7,
    "start_time": "2022-08-05T19:37:35.692Z"
   },
   {
    "duration": 5,
    "start_time": "2022-08-05T19:37:48.035Z"
   },
   {
    "duration": 3,
    "start_time": "2022-08-05T19:38:21.106Z"
   },
   {
    "duration": 12,
    "start_time": "2022-08-05T19:38:37.720Z"
   },
   {
    "duration": 5,
    "start_time": "2022-08-05T19:39:10.469Z"
   },
   {
    "duration": 4,
    "start_time": "2022-08-05T19:39:28.405Z"
   },
   {
    "duration": 11,
    "start_time": "2022-08-05T19:39:49.925Z"
   },
   {
    "duration": 6,
    "start_time": "2022-08-05T19:41:32.033Z"
   },
   {
    "duration": 132,
    "start_time": "2022-08-05T19:41:32.731Z"
   },
   {
    "duration": 139,
    "start_time": "2022-08-05T19:42:39.028Z"
   },
   {
    "duration": 218,
    "start_time": "2022-08-05T19:45:01.287Z"
   },
   {
    "duration": 277,
    "start_time": "2022-08-05T19:45:19.535Z"
   },
   {
    "duration": 201,
    "start_time": "2022-08-05T19:45:31.917Z"
   },
   {
    "duration": 259,
    "start_time": "2022-08-05T19:45:45.724Z"
   },
   {
    "duration": 155,
    "start_time": "2022-08-05T19:55:43.058Z"
   },
   {
    "duration": 266,
    "start_time": "2022-08-05T19:56:24.112Z"
   },
   {
    "duration": 291,
    "start_time": "2022-08-05T19:56:32.154Z"
   },
   {
    "duration": 353,
    "start_time": "2022-08-05T19:56:44.473Z"
   },
   {
    "duration": 8,
    "start_time": "2022-08-05T19:58:58.032Z"
   },
   {
    "duration": 158,
    "start_time": "2022-08-05T20:00:45.572Z"
   },
   {
    "duration": 173,
    "start_time": "2022-08-05T20:01:07.417Z"
   },
   {
    "duration": 141,
    "start_time": "2022-08-05T20:01:45.131Z"
   },
   {
    "duration": 159,
    "start_time": "2022-08-05T20:01:59.958Z"
   },
   {
    "duration": 162,
    "start_time": "2022-08-05T20:02:34.988Z"
   },
   {
    "duration": 142,
    "start_time": "2022-08-05T20:02:50.590Z"
   },
   {
    "duration": 5,
    "start_time": "2022-08-05T20:04:08.125Z"
   },
   {
    "duration": 7,
    "start_time": "2022-08-05T20:04:10.425Z"
   },
   {
    "duration": 133,
    "start_time": "2022-08-05T20:05:00.040Z"
   },
   {
    "duration": 117,
    "start_time": "2022-08-05T20:06:04.379Z"
   },
   {
    "duration": 142,
    "start_time": "2022-08-05T20:06:27.455Z"
   },
   {
    "duration": 128,
    "start_time": "2022-08-05T20:07:21.847Z"
   },
   {
    "duration": 161,
    "start_time": "2022-08-05T20:07:37.545Z"
   },
   {
    "duration": 163,
    "start_time": "2022-08-05T20:07:44.917Z"
   },
   {
    "duration": 219,
    "start_time": "2022-08-05T20:10:17.079Z"
   },
   {
    "duration": 1354,
    "start_time": "2022-08-05T20:12:19.167Z"
   },
   {
    "duration": 6,
    "start_time": "2022-08-05T20:12:36.785Z"
   },
   {
    "duration": 6,
    "start_time": "2022-08-05T20:13:04.852Z"
   },
   {
    "duration": 185,
    "start_time": "2022-08-05T20:14:34.603Z"
   },
   {
    "duration": 28,
    "start_time": "2022-08-05T20:14:35.325Z"
   },
   {
    "duration": 123,
    "start_time": "2022-08-05T20:14:38.168Z"
   },
   {
    "duration": 7,
    "start_time": "2022-08-05T20:14:39.519Z"
   },
   {
    "duration": 18,
    "start_time": "2022-08-05T20:14:40.515Z"
   },
   {
    "duration": 136,
    "start_time": "2022-08-05T20:15:36.363Z"
   },
   {
    "duration": 20,
    "start_time": "2022-08-05T20:15:53.065Z"
   },
   {
    "duration": 106,
    "start_time": "2022-08-05T20:16:14.838Z"
   },
   {
    "duration": 9,
    "start_time": "2022-08-05T20:16:26.487Z"
   },
   {
    "duration": 10,
    "start_time": "2022-08-05T20:16:35.799Z"
   },
   {
    "duration": 10,
    "start_time": "2022-08-05T20:17:03.381Z"
   },
   {
    "duration": 10,
    "start_time": "2022-08-05T20:17:13.628Z"
   },
   {
    "duration": 14,
    "start_time": "2022-08-05T20:20:50.924Z"
   },
   {
    "duration": 3,
    "start_time": "2022-08-05T20:23:00.634Z"
   },
   {
    "duration": 6,
    "start_time": "2022-08-05T20:23:13.574Z"
   },
   {
    "duration": 6,
    "start_time": "2022-08-05T20:23:44.108Z"
   },
   {
    "duration": 128,
    "start_time": "2022-08-05T20:24:12.391Z"
   },
   {
    "duration": 3,
    "start_time": "2022-08-05T20:25:33.789Z"
   },
   {
    "duration": 5,
    "start_time": "2022-08-05T20:25:43.396Z"
   },
   {
    "duration": 4,
    "start_time": "2022-08-05T20:26:01.686Z"
   },
   {
    "duration": 5,
    "start_time": "2022-08-05T20:26:14.459Z"
   },
   {
    "duration": 14,
    "start_time": "2022-08-05T20:26:55.348Z"
   },
   {
    "duration": 4,
    "start_time": "2022-08-05T20:27:30.967Z"
   },
   {
    "duration": 3,
    "start_time": "2022-08-05T20:27:45.801Z"
   },
   {
    "duration": 10,
    "start_time": "2022-08-05T20:27:59.197Z"
   },
   {
    "duration": 10,
    "start_time": "2022-08-05T20:28:19.685Z"
   },
   {
    "duration": 10,
    "start_time": "2022-08-05T20:28:24.345Z"
   },
   {
    "duration": 10,
    "start_time": "2022-08-05T20:28:32.652Z"
   },
   {
    "duration": 8,
    "start_time": "2022-08-05T20:28:49.045Z"
   },
   {
    "duration": 8,
    "start_time": "2022-08-05T20:28:51.447Z"
   },
   {
    "duration": 18,
    "start_time": "2022-08-05T20:28:57.047Z"
   },
   {
    "duration": 18,
    "start_time": "2022-08-05T20:29:24.876Z"
   },
   {
    "duration": 19,
    "start_time": "2022-08-05T20:30:45.092Z"
   },
   {
    "duration": 11,
    "start_time": "2022-08-05T20:30:49.912Z"
   },
   {
    "duration": 17,
    "start_time": "2022-08-05T20:30:59.772Z"
   },
   {
    "duration": 7,
    "start_time": "2022-08-05T20:44:02.144Z"
   },
   {
    "duration": 998,
    "start_time": "2022-08-05T21:07:20.668Z"
   },
   {
    "duration": 118,
    "start_time": "2022-08-05T21:07:21.668Z"
   },
   {
    "duration": 25,
    "start_time": "2022-08-05T21:07:21.787Z"
   },
   {
    "duration": 9,
    "start_time": "2022-08-05T21:07:21.814Z"
   },
   {
    "duration": 6,
    "start_time": "2022-08-05T21:07:21.825Z"
   },
   {
    "duration": 18,
    "start_time": "2022-08-05T21:07:21.833Z"
   },
   {
    "duration": 19,
    "start_time": "2022-08-05T21:07:21.852Z"
   },
   {
    "duration": 16,
    "start_time": "2022-08-05T21:07:21.873Z"
   },
   {
    "duration": 9,
    "start_time": "2022-08-05T21:07:21.891Z"
   },
   {
    "duration": 11,
    "start_time": "2022-08-05T21:07:21.902Z"
   },
   {
    "duration": 11,
    "start_time": "2022-08-05T21:07:21.914Z"
   },
   {
    "duration": 11,
    "start_time": "2022-08-05T21:07:21.926Z"
   },
   {
    "duration": 9,
    "start_time": "2022-08-05T21:07:21.939Z"
   },
   {
    "duration": 9,
    "start_time": "2022-08-05T21:07:21.949Z"
   },
   {
    "duration": 17,
    "start_time": "2022-08-05T21:07:21.959Z"
   },
   {
    "duration": 14,
    "start_time": "2022-08-05T21:07:21.978Z"
   },
   {
    "duration": 5,
    "start_time": "2022-08-05T21:07:21.993Z"
   },
   {
    "duration": 10,
    "start_time": "2022-08-05T21:07:22.000Z"
   },
   {
    "duration": 17,
    "start_time": "2022-08-05T21:07:22.012Z"
   },
   {
    "duration": 167,
    "start_time": "2022-08-05T21:07:22.031Z"
   },
   {
    "duration": 8,
    "start_time": "2022-08-05T21:07:22.199Z"
   },
   {
    "duration": 14,
    "start_time": "2022-08-05T21:07:22.208Z"
   },
   {
    "duration": 16,
    "start_time": "2022-08-05T21:07:22.224Z"
   },
   {
    "duration": 15,
    "start_time": "2022-08-05T21:07:22.241Z"
   },
   {
    "duration": 14,
    "start_time": "2022-08-05T21:07:22.258Z"
   },
   {
    "duration": 12,
    "start_time": "2022-08-05T21:07:22.273Z"
   },
   {
    "duration": 10,
    "start_time": "2022-08-05T21:07:22.287Z"
   },
   {
    "duration": 16,
    "start_time": "2022-08-05T21:07:22.300Z"
   },
   {
    "duration": 138,
    "start_time": "2022-08-05T21:07:22.318Z"
   },
   {
    "duration": 165,
    "start_time": "2022-08-05T21:07:22.457Z"
   },
   {
    "duration": 6,
    "start_time": "2022-08-05T21:07:22.623Z"
   },
   {
    "duration": 11,
    "start_time": "2022-08-05T21:07:22.630Z"
   },
   {
    "duration": 14,
    "start_time": "2022-08-05T21:07:22.642Z"
   },
   {
    "duration": 28,
    "start_time": "2022-08-05T21:07:22.657Z"
   },
   {
    "duration": 12,
    "start_time": "2022-08-05T21:07:22.687Z"
   },
   {
    "duration": 143,
    "start_time": "2022-08-05T21:07:22.700Z"
   },
   {
    "duration": 147,
    "start_time": "2022-08-05T21:07:22.845Z"
   },
   {
    "duration": 236,
    "start_time": "2022-08-05T21:07:22.994Z"
   },
   {
    "duration": 184,
    "start_time": "2022-08-05T21:07:23.232Z"
   },
   {
    "duration": 302,
    "start_time": "2022-08-05T21:07:23.418Z"
   },
   {
    "duration": 7,
    "start_time": "2022-08-05T21:07:23.721Z"
   },
   {
    "duration": 169,
    "start_time": "2022-08-05T21:07:23.729Z"
   },
   {
    "duration": 6,
    "start_time": "2022-08-05T21:07:23.899Z"
   },
   {
    "duration": 20,
    "start_time": "2022-08-05T21:07:23.907Z"
   },
   {
    "duration": 20,
    "start_time": "2022-08-05T21:07:23.929Z"
   },
   {
    "duration": 140,
    "start_time": "2022-08-05T21:07:23.951Z"
   },
   {
    "duration": 140,
    "start_time": "2022-08-05T21:07:24.092Z"
   },
   {
    "duration": 5,
    "start_time": "2022-08-05T21:07:24.233Z"
   },
   {
    "duration": 20,
    "start_time": "2022-08-05T21:07:24.240Z"
   },
   {
    "duration": 194,
    "start_time": "2022-08-05T21:07:24.261Z"
   },
   {
    "duration": 27,
    "start_time": "2022-08-05T21:07:24.456Z"
   },
   {
    "duration": 127,
    "start_time": "2022-08-05T21:07:24.484Z"
   },
   {
    "duration": 5,
    "start_time": "2022-08-05T21:07:24.613Z"
   },
   {
    "duration": 37,
    "start_time": "2022-08-05T21:07:24.620Z"
   },
   {
    "duration": 10,
    "start_time": "2022-08-05T21:07:24.658Z"
   },
   {
    "duration": 12,
    "start_time": "2022-08-05T21:07:24.670Z"
   },
   {
    "duration": 9,
    "start_time": "2022-08-05T21:07:24.683Z"
   },
   {
    "duration": 33,
    "start_time": "2022-08-05T21:07:24.693Z"
   },
   {
    "duration": 27,
    "start_time": "2022-08-05T21:07:24.728Z"
   },
   {
    "duration": 1175,
    "start_time": "2022-08-06T06:38:06.469Z"
   },
   {
    "duration": 250,
    "start_time": "2022-08-06T06:38:07.647Z"
   },
   {
    "duration": 22,
    "start_time": "2022-08-06T06:38:07.899Z"
   },
   {
    "duration": 18,
    "start_time": "2022-08-06T06:38:07.923Z"
   },
   {
    "duration": 7,
    "start_time": "2022-08-06T06:38:07.942Z"
   },
   {
    "duration": 11,
    "start_time": "2022-08-06T06:38:07.951Z"
   },
   {
    "duration": 16,
    "start_time": "2022-08-06T06:38:07.963Z"
   },
   {
    "duration": 11,
    "start_time": "2022-08-06T06:38:07.980Z"
   },
   {
    "duration": 7,
    "start_time": "2022-08-06T06:38:07.999Z"
   },
   {
    "duration": 5,
    "start_time": "2022-08-06T06:38:08.009Z"
   },
   {
    "duration": 7,
    "start_time": "2022-08-06T06:38:08.016Z"
   },
   {
    "duration": 9,
    "start_time": "2022-08-06T06:38:08.024Z"
   },
   {
    "duration": 10,
    "start_time": "2022-08-06T06:38:08.034Z"
   },
   {
    "duration": 13,
    "start_time": "2022-08-06T06:38:08.045Z"
   },
   {
    "duration": 47,
    "start_time": "2022-08-06T06:38:08.059Z"
   },
   {
    "duration": 12,
    "start_time": "2022-08-06T06:38:08.108Z"
   },
   {
    "duration": 5,
    "start_time": "2022-08-06T06:38:08.121Z"
   },
   {
    "duration": 15,
    "start_time": "2022-08-06T06:38:08.127Z"
   },
   {
    "duration": 27,
    "start_time": "2022-08-06T06:38:08.143Z"
   },
   {
    "duration": 175,
    "start_time": "2022-08-06T06:38:08.171Z"
   },
   {
    "duration": 7,
    "start_time": "2022-08-06T06:38:08.348Z"
   },
   {
    "duration": 15,
    "start_time": "2022-08-06T06:38:08.356Z"
   },
   {
    "duration": 9,
    "start_time": "2022-08-06T06:38:08.373Z"
   },
   {
    "duration": 8,
    "start_time": "2022-08-06T06:38:08.383Z"
   },
   {
    "duration": 8,
    "start_time": "2022-08-06T06:38:08.392Z"
   },
   {
    "duration": 7,
    "start_time": "2022-08-06T06:38:08.401Z"
   },
   {
    "duration": 11,
    "start_time": "2022-08-06T06:38:08.409Z"
   },
   {
    "duration": 11,
    "start_time": "2022-08-06T06:38:08.423Z"
   },
   {
    "duration": 136,
    "start_time": "2022-08-06T06:38:08.435Z"
   },
   {
    "duration": 154,
    "start_time": "2022-08-06T06:38:08.573Z"
   },
   {
    "duration": 7,
    "start_time": "2022-08-06T06:38:08.728Z"
   },
   {
    "duration": 16,
    "start_time": "2022-08-06T06:38:08.736Z"
   },
   {
    "duration": 7,
    "start_time": "2022-08-06T06:38:08.753Z"
   },
   {
    "duration": 12,
    "start_time": "2022-08-06T06:38:08.762Z"
   },
   {
    "duration": 22,
    "start_time": "2022-08-06T06:38:08.775Z"
   },
   {
    "duration": 135,
    "start_time": "2022-08-06T06:38:08.799Z"
   },
   {
    "duration": 162,
    "start_time": "2022-08-06T06:38:08.936Z"
   },
   {
    "duration": 287,
    "start_time": "2022-08-06T06:38:09.100Z"
   },
   {
    "duration": 159,
    "start_time": "2022-08-06T06:38:09.388Z"
   },
   {
    "duration": 234,
    "start_time": "2022-08-06T06:38:09.549Z"
   },
   {
    "duration": 18,
    "start_time": "2022-08-06T06:38:09.785Z"
   },
   {
    "duration": 141,
    "start_time": "2022-08-06T06:38:09.804Z"
   },
   {
    "duration": 5,
    "start_time": "2022-08-06T06:38:09.947Z"
   },
   {
    "duration": 6,
    "start_time": "2022-08-06T06:38:09.953Z"
   },
   {
    "duration": 8,
    "start_time": "2022-08-06T06:38:09.960Z"
   },
   {
    "duration": 161,
    "start_time": "2022-08-06T06:38:09.970Z"
   },
   {
    "duration": 146,
    "start_time": "2022-08-06T06:38:10.132Z"
   },
   {
    "duration": 5,
    "start_time": "2022-08-06T06:38:10.280Z"
   },
   {
    "duration": 17,
    "start_time": "2022-08-06T06:38:10.287Z"
   },
   {
    "duration": 189,
    "start_time": "2022-08-06T06:38:10.306Z"
   },
   {
    "duration": 26,
    "start_time": "2022-08-06T06:38:10.497Z"
   },
   {
    "duration": 116,
    "start_time": "2022-08-06T06:38:10.525Z"
   },
   {
    "duration": 5,
    "start_time": "2022-08-06T06:38:10.643Z"
   },
   {
    "duration": 28,
    "start_time": "2022-08-06T06:38:10.650Z"
   },
   {
    "duration": 9,
    "start_time": "2022-08-06T06:38:10.680Z"
   },
   {
    "duration": 10,
    "start_time": "2022-08-06T06:38:10.700Z"
   },
   {
    "duration": 7,
    "start_time": "2022-08-06T06:38:10.711Z"
   },
   {
    "duration": 21,
    "start_time": "2022-08-06T06:38:10.720Z"
   },
   {
    "duration": 12,
    "start_time": "2022-08-06T06:38:10.743Z"
   },
   {
    "duration": 4,
    "start_time": "2022-08-06T07:00:32.454Z"
   },
   {
    "duration": 11,
    "start_time": "2022-08-06T07:06:43.039Z"
   },
   {
    "duration": 1236,
    "start_time": "2022-08-06T12:41:56.793Z"
   },
   {
    "duration": 240,
    "start_time": "2022-08-06T12:41:58.424Z"
   },
   {
    "duration": 24,
    "start_time": "2022-08-06T12:41:58.995Z"
   },
   {
    "duration": 11,
    "start_time": "2022-08-06T12:41:59.545Z"
   },
   {
    "duration": 10,
    "start_time": "2022-08-06T12:42:00.109Z"
   },
   {
    "duration": 10,
    "start_time": "2022-08-06T12:42:00.793Z"
   },
   {
    "duration": 14,
    "start_time": "2022-08-06T12:42:02.641Z"
   },
   {
    "duration": 5,
    "start_time": "2022-08-06T12:42:03.844Z"
   },
   {
    "duration": 6,
    "start_time": "2022-08-06T12:42:04.973Z"
   },
   {
    "duration": 5,
    "start_time": "2022-08-06T12:42:05.563Z"
   },
   {
    "duration": 6,
    "start_time": "2022-08-06T12:42:08.049Z"
   },
   {
    "duration": 10,
    "start_time": "2022-08-06T12:42:09.340Z"
   },
   {
    "duration": 9,
    "start_time": "2022-08-06T12:42:10.033Z"
   },
   {
    "duration": 4,
    "start_time": "2022-08-06T12:42:10.730Z"
   },
   {
    "duration": 10,
    "start_time": "2022-08-06T12:42:11.360Z"
   },
   {
    "duration": 17,
    "start_time": "2022-08-06T12:42:12.679Z"
   },
   {
    "duration": 6,
    "start_time": "2022-08-06T12:42:13.998Z"
   },
   {
    "duration": 7,
    "start_time": "2022-08-06T12:42:14.613Z"
   },
   {
    "duration": 8,
    "start_time": "2022-08-06T12:42:15.340Z"
   },
   {
    "duration": 105,
    "start_time": "2022-08-06T12:42:18.212Z"
   },
   {
    "duration": 17,
    "start_time": "2022-08-06T13:01:17.613Z"
   },
   {
    "duration": 176,
    "start_time": "2022-08-06T13:01:39.584Z"
   },
   {
    "duration": 12,
    "start_time": "2022-08-06T13:02:20.988Z"
   },
   {
    "duration": 152,
    "start_time": "2022-08-06T13:02:50.319Z"
   },
   {
    "duration": 155,
    "start_time": "2022-08-06T13:08:53.503Z"
   },
   {
    "duration": 111,
    "start_time": "2022-08-06T13:09:20.513Z"
   },
   {
    "duration": 156,
    "start_time": "2022-08-06T13:13:39.487Z"
   },
   {
    "duration": 356,
    "start_time": "2022-08-06T13:14:34.378Z"
   },
   {
    "duration": 113,
    "start_time": "2022-08-06T13:16:02.601Z"
   },
   {
    "duration": 15,
    "start_time": "2022-08-06T13:16:15.917Z"
   },
   {
    "duration": 9,
    "start_time": "2022-08-06T13:16:29.396Z"
   },
   {
    "duration": 9,
    "start_time": "2022-08-06T13:16:38.742Z"
   },
   {
    "duration": 119,
    "start_time": "2022-08-06T13:17:19.126Z"
   },
   {
    "duration": 174,
    "start_time": "2022-08-06T13:21:23.577Z"
   },
   {
    "duration": 238,
    "start_time": "2022-08-06T13:21:50.960Z"
   },
   {
    "duration": 14,
    "start_time": "2022-08-06T13:24:14.541Z"
   },
   {
    "duration": 1094,
    "start_time": "2022-08-06T13:24:24.143Z"
   },
   {
    "duration": 133,
    "start_time": "2022-08-06T13:24:25.240Z"
   },
   {
    "duration": 24,
    "start_time": "2022-08-06T13:24:25.375Z"
   },
   {
    "duration": 12,
    "start_time": "2022-08-06T13:24:25.401Z"
   },
   {
    "duration": 9,
    "start_time": "2022-08-06T13:24:25.415Z"
   },
   {
    "duration": 9,
    "start_time": "2022-08-06T13:24:25.425Z"
   },
   {
    "duration": 15,
    "start_time": "2022-08-06T13:24:25.435Z"
   },
   {
    "duration": 12,
    "start_time": "2022-08-06T13:24:25.452Z"
   },
   {
    "duration": 12,
    "start_time": "2022-08-06T13:24:25.465Z"
   },
   {
    "duration": 5,
    "start_time": "2022-08-06T13:24:25.500Z"
   },
   {
    "duration": 7,
    "start_time": "2022-08-06T13:24:25.506Z"
   },
   {
    "duration": 10,
    "start_time": "2022-08-06T13:24:25.515Z"
   },
   {
    "duration": 8,
    "start_time": "2022-08-06T13:24:25.526Z"
   },
   {
    "duration": 4,
    "start_time": "2022-08-06T13:24:25.535Z"
   },
   {
    "duration": 14,
    "start_time": "2022-08-06T13:24:25.540Z"
   },
   {
    "duration": 48,
    "start_time": "2022-08-06T13:24:25.556Z"
   },
   {
    "duration": 5,
    "start_time": "2022-08-06T13:24:25.605Z"
   },
   {
    "duration": 10,
    "start_time": "2022-08-06T13:24:25.612Z"
   },
   {
    "duration": 7,
    "start_time": "2022-08-06T13:24:25.624Z"
   },
   {
    "duration": 219,
    "start_time": "2022-08-06T13:24:25.632Z"
   },
   {
    "duration": 8,
    "start_time": "2022-08-06T13:24:25.853Z"
   },
   {
    "duration": 12,
    "start_time": "2022-08-06T13:24:25.863Z"
   },
   {
    "duration": 22,
    "start_time": "2022-08-06T13:24:25.877Z"
   },
   {
    "duration": 8,
    "start_time": "2022-08-06T13:24:25.901Z"
   },
   {
    "duration": 7,
    "start_time": "2022-08-06T13:24:25.910Z"
   },
   {
    "duration": 6,
    "start_time": "2022-08-06T13:24:25.919Z"
   },
   {
    "duration": 7,
    "start_time": "2022-08-06T13:24:25.927Z"
   },
   {
    "duration": 17,
    "start_time": "2022-08-06T13:24:25.939Z"
   },
   {
    "duration": 178,
    "start_time": "2022-08-06T13:24:25.958Z"
   },
   {
    "duration": 174,
    "start_time": "2022-08-06T13:24:26.139Z"
   },
   {
    "duration": 7,
    "start_time": "2022-08-06T13:24:26.314Z"
   },
   {
    "duration": 13,
    "start_time": "2022-08-06T13:24:26.323Z"
   },
   {
    "duration": 6,
    "start_time": "2022-08-06T13:24:26.337Z"
   },
   {
    "duration": 15,
    "start_time": "2022-08-06T13:24:26.344Z"
   },
   {
    "duration": 5,
    "start_time": "2022-08-06T13:24:26.361Z"
   },
   {
    "duration": 163,
    "start_time": "2022-08-06T13:24:26.368Z"
   },
   {
    "duration": 164,
    "start_time": "2022-08-06T13:24:26.532Z"
   },
   {
    "duration": 271,
    "start_time": "2022-08-06T13:24:26.699Z"
   },
   {
    "duration": 175,
    "start_time": "2022-08-06T13:24:26.972Z"
   },
   {
    "duration": 276,
    "start_time": "2022-08-06T13:24:27.149Z"
   },
   {
    "duration": 7,
    "start_time": "2022-08-06T13:24:27.427Z"
   },
   {
    "duration": 170,
    "start_time": "2022-08-06T13:24:27.436Z"
   },
   {
    "duration": 6,
    "start_time": "2022-08-06T13:24:27.608Z"
   },
   {
    "duration": 9,
    "start_time": "2022-08-06T13:24:27.615Z"
   },
   {
    "duration": 9,
    "start_time": "2022-08-06T13:24:27.626Z"
   },
   {
    "duration": 164,
    "start_time": "2022-08-06T13:24:27.636Z"
   },
   {
    "duration": 145,
    "start_time": "2022-08-06T13:24:27.802Z"
   },
   {
    "duration": 6,
    "start_time": "2022-08-06T13:24:27.948Z"
   },
   {
    "duration": 9,
    "start_time": "2022-08-06T13:24:27.955Z"
   },
   {
    "duration": 204,
    "start_time": "2022-08-06T13:24:27.966Z"
   },
   {
    "duration": 34,
    "start_time": "2022-08-06T13:24:28.171Z"
   },
   {
    "duration": 150,
    "start_time": "2022-08-06T13:24:28.207Z"
   },
   {
    "duration": 6,
    "start_time": "2022-08-06T13:24:28.359Z"
   },
   {
    "duration": 32,
    "start_time": "2022-08-06T13:24:28.366Z"
   },
   {
    "duration": 9,
    "start_time": "2022-08-06T13:24:28.400Z"
   },
   {
    "duration": 13,
    "start_time": "2022-08-06T13:24:28.411Z"
   },
   {
    "duration": 12,
    "start_time": "2022-08-06T13:24:28.426Z"
   },
   {
    "duration": 17,
    "start_time": "2022-08-06T13:24:28.440Z"
   },
   {
    "duration": 48,
    "start_time": "2022-08-06T13:24:28.459Z"
   },
   {
    "duration": 14,
    "start_time": "2022-08-06T13:24:28.509Z"
   },
   {
    "duration": 3,
    "start_time": "2022-08-06T13:24:34.807Z"
   },
   {
    "duration": 78,
    "start_time": "2022-08-06T13:24:35.454Z"
   },
   {
    "duration": 22,
    "start_time": "2022-08-06T13:24:35.651Z"
   },
   {
    "duration": 8,
    "start_time": "2022-08-06T13:24:35.854Z"
   },
   {
    "duration": 8,
    "start_time": "2022-08-06T13:24:36.045Z"
   },
   {
    "duration": 7,
    "start_time": "2022-08-06T13:24:36.239Z"
   },
   {
    "duration": 14,
    "start_time": "2022-08-06T13:24:36.821Z"
   },
   {
    "duration": 4,
    "start_time": "2022-08-06T13:24:37.210Z"
   },
   {
    "duration": 6,
    "start_time": "2022-08-06T13:24:37.589Z"
   },
   {
    "duration": 5,
    "start_time": "2022-08-06T13:24:37.786Z"
   },
   {
    "duration": 5,
    "start_time": "2022-08-06T13:24:38.968Z"
   },
   {
    "duration": 10,
    "start_time": "2022-08-06T13:24:38.975Z"
   },
   {
    "duration": 10,
    "start_time": "2022-08-06T13:24:39.134Z"
   },
   {
    "duration": 4,
    "start_time": "2022-08-06T13:24:39.329Z"
   },
   {
    "duration": 10,
    "start_time": "2022-08-06T13:24:39.524Z"
   },
   {
    "duration": 13,
    "start_time": "2022-08-06T13:24:39.880Z"
   },
   {
    "duration": 6,
    "start_time": "2022-08-06T13:24:40.287Z"
   },
   {
    "duration": 7,
    "start_time": "2022-08-06T13:24:40.488Z"
   },
   {
    "duration": 8,
    "start_time": "2022-08-06T13:24:40.689Z"
   },
   {
    "duration": 248,
    "start_time": "2022-08-06T13:24:41.490Z"
   },
   {
    "duration": 8,
    "start_time": "2022-08-06T13:24:42.558Z"
   },
   {
    "duration": 7,
    "start_time": "2022-08-06T13:24:43.155Z"
   },
   {
    "duration": 6,
    "start_time": "2022-08-06T13:24:44.198Z"
   },
   {
    "duration": 5,
    "start_time": "2022-08-06T13:24:46.278Z"
   },
   {
    "duration": 6,
    "start_time": "2022-08-06T13:24:46.489Z"
   },
   {
    "duration": 5,
    "start_time": "2022-08-06T13:24:47.079Z"
   },
   {
    "duration": 6,
    "start_time": "2022-08-06T13:24:47.691Z"
   },
   {
    "duration": 12,
    "start_time": "2022-08-06T13:24:49.124Z"
   },
   {
    "duration": 135,
    "start_time": "2022-08-06T13:24:49.351Z"
   },
   {
    "duration": 160,
    "start_time": "2022-08-06T13:24:49.562Z"
   },
   {
    "duration": 6,
    "start_time": "2022-08-06T13:24:49.737Z"
   },
   {
    "duration": 5,
    "start_time": "2022-08-06T13:24:50.161Z"
   },
   {
    "duration": 4,
    "start_time": "2022-08-06T13:24:50.365Z"
   },
   {
    "duration": 12,
    "start_time": "2022-08-06T13:24:50.564Z"
   },
   {
    "duration": 7,
    "start_time": "2022-08-06T13:24:51.007Z"
   },
   {
    "duration": 143,
    "start_time": "2022-08-06T13:24:51.220Z"
   },
   {
    "duration": 147,
    "start_time": "2022-08-06T13:24:52.935Z"
   },
   {
    "duration": 275,
    "start_time": "2022-08-06T13:24:53.792Z"
   },
   {
    "duration": 169,
    "start_time": "2022-08-06T13:24:54.886Z"
   },
   {
    "duration": 272,
    "start_time": "2022-08-06T13:24:55.731Z"
   },
   {
    "duration": 6,
    "start_time": "2022-08-06T13:24:57.059Z"
   },
   {
    "duration": 153,
    "start_time": "2022-08-06T13:24:57.281Z"
   },
   {
    "duration": 5,
    "start_time": "2022-08-06T13:24:58.536Z"
   },
   {
    "duration": 5,
    "start_time": "2022-08-06T13:24:59.009Z"
   },
   {
    "duration": 8,
    "start_time": "2022-08-06T13:24:59.441Z"
   },
   {
    "duration": 140,
    "start_time": "2022-08-06T13:25:00.054Z"
   },
   {
    "duration": 139,
    "start_time": "2022-08-06T13:25:00.559Z"
   },
   {
    "duration": 4,
    "start_time": "2022-08-06T13:25:01.684Z"
   },
   {
    "duration": 4,
    "start_time": "2022-08-06T13:25:02.136Z"
   },
   {
    "duration": 200,
    "start_time": "2022-08-06T13:25:04.109Z"
   },
   {
    "duration": 28,
    "start_time": "2022-08-06T13:25:04.334Z"
   },
   {
    "duration": 142,
    "start_time": "2022-08-06T13:25:05.959Z"
   },
   {
    "duration": 7,
    "start_time": "2022-08-06T13:25:06.709Z"
   },
   {
    "duration": 22,
    "start_time": "2022-08-06T13:25:07.187Z"
   },
   {
    "duration": 11,
    "start_time": "2022-08-06T13:25:09.186Z"
   },
   {
    "duration": 11,
    "start_time": "2022-08-06T13:25:11.058Z"
   },
   {
    "duration": 12,
    "start_time": "2022-08-06T13:25:13.919Z"
   },
   {
    "duration": 12,
    "start_time": "2022-08-06T13:25:15.238Z"
   },
   {
    "duration": 22,
    "start_time": "2022-08-06T13:25:15.992Z"
   },
   {
    "duration": 14,
    "start_time": "2022-08-06T13:25:17.459Z"
   },
   {
    "duration": 4,
    "start_time": "2022-08-06T13:46:40.415Z"
   },
   {
    "duration": 83,
    "start_time": "2022-08-06T13:46:40.420Z"
   },
   {
    "duration": 25,
    "start_time": "2022-08-06T13:46:40.504Z"
   },
   {
    "duration": 25,
    "start_time": "2022-08-06T13:46:40.530Z"
   },
   {
    "duration": 13,
    "start_time": "2022-08-06T13:46:40.556Z"
   },
   {
    "duration": 8,
    "start_time": "2022-08-06T13:46:40.570Z"
   },
   {
    "duration": 12,
    "start_time": "2022-08-06T13:46:40.580Z"
   },
   {
    "duration": 8,
    "start_time": "2022-08-06T13:46:40.593Z"
   },
   {
    "duration": 7,
    "start_time": "2022-08-06T13:46:40.603Z"
   },
   {
    "duration": 4,
    "start_time": "2022-08-06T13:46:40.611Z"
   },
   {
    "duration": 8,
    "start_time": "2022-08-06T13:46:40.617Z"
   },
   {
    "duration": 36,
    "start_time": "2022-08-06T13:46:40.627Z"
   },
   {
    "duration": 9,
    "start_time": "2022-08-06T13:46:40.664Z"
   },
   {
    "duration": 4,
    "start_time": "2022-08-06T13:46:40.674Z"
   },
   {
    "duration": 12,
    "start_time": "2022-08-06T13:46:40.679Z"
   },
   {
    "duration": 15,
    "start_time": "2022-08-06T13:46:40.693Z"
   },
   {
    "duration": 5,
    "start_time": "2022-08-06T13:46:40.709Z"
   },
   {
    "duration": 12,
    "start_time": "2022-08-06T13:46:40.715Z"
   },
   {
    "duration": 10,
    "start_time": "2022-08-06T13:46:40.755Z"
   },
   {
    "duration": 175,
    "start_time": "2022-08-06T13:46:40.767Z"
   },
   {
    "duration": 12,
    "start_time": "2022-08-06T13:46:40.944Z"
   },
   {
    "duration": 7,
    "start_time": "2022-08-06T13:46:40.961Z"
   },
   {
    "duration": 9,
    "start_time": "2022-08-06T13:46:40.969Z"
   },
   {
    "duration": 6,
    "start_time": "2022-08-06T13:46:40.980Z"
   },
   {
    "duration": 10,
    "start_time": "2022-08-06T13:46:40.987Z"
   },
   {
    "duration": 11,
    "start_time": "2022-08-06T13:46:40.998Z"
   },
   {
    "duration": 7,
    "start_time": "2022-08-06T13:46:41.010Z"
   },
   {
    "duration": 37,
    "start_time": "2022-08-06T13:46:41.019Z"
   },
   {
    "duration": 124,
    "start_time": "2022-08-06T13:46:41.057Z"
   },
   {
    "duration": 157,
    "start_time": "2022-08-06T13:46:41.182Z"
   },
   {
    "duration": 6,
    "start_time": "2022-08-06T13:46:41.340Z"
   },
   {
    "duration": 4,
    "start_time": "2022-08-06T13:46:41.355Z"
   },
   {
    "duration": 7,
    "start_time": "2022-08-06T13:46:41.361Z"
   },
   {
    "duration": 13,
    "start_time": "2022-08-06T13:46:41.370Z"
   },
   {
    "duration": 6,
    "start_time": "2022-08-06T13:46:41.385Z"
   },
   {
    "duration": 143,
    "start_time": "2022-08-06T13:46:41.393Z"
   },
   {
    "duration": 152,
    "start_time": "2022-08-06T13:46:41.537Z"
   },
   {
    "duration": 230,
    "start_time": "2022-08-06T13:46:41.692Z"
   },
   {
    "duration": 153,
    "start_time": "2022-08-06T13:46:41.924Z"
   },
   {
    "duration": 260,
    "start_time": "2022-08-06T13:46:42.078Z"
   },
   {
    "duration": 17,
    "start_time": "2022-08-06T13:46:42.339Z"
   },
   {
    "duration": 148,
    "start_time": "2022-08-06T13:46:42.357Z"
   },
   {
    "duration": 4,
    "start_time": "2022-08-06T13:46:42.507Z"
   },
   {
    "duration": 9,
    "start_time": "2022-08-06T13:46:42.513Z"
   },
   {
    "duration": 12,
    "start_time": "2022-08-06T13:46:42.523Z"
   },
   {
    "duration": 140,
    "start_time": "2022-08-06T13:46:42.536Z"
   },
   {
    "duration": 135,
    "start_time": "2022-08-06T13:46:42.678Z"
   },
   {
    "duration": 4,
    "start_time": "2022-08-06T13:46:42.814Z"
   },
   {
    "duration": 5,
    "start_time": "2022-08-06T13:46:42.820Z"
   },
   {
    "duration": 198,
    "start_time": "2022-08-06T13:46:42.827Z"
   },
   {
    "duration": 36,
    "start_time": "2022-08-06T13:46:43.027Z"
   },
   {
    "duration": 115,
    "start_time": "2022-08-06T13:46:43.065Z"
   },
   {
    "duration": 6,
    "start_time": "2022-08-06T13:46:43.182Z"
   },
   {
    "duration": 20,
    "start_time": "2022-08-06T13:46:43.189Z"
   },
   {
    "duration": 9,
    "start_time": "2022-08-06T13:46:43.210Z"
   },
   {
    "duration": 35,
    "start_time": "2022-08-06T13:46:43.220Z"
   },
   {
    "duration": 11,
    "start_time": "2022-08-06T13:46:43.256Z"
   },
   {
    "duration": 9,
    "start_time": "2022-08-06T13:46:43.269Z"
   },
   {
    "duration": 21,
    "start_time": "2022-08-06T13:46:43.279Z"
   },
   {
    "duration": 11,
    "start_time": "2022-08-06T13:46:43.302Z"
   }
  ],
  "kernelspec": {
   "display_name": "Python 3 (ipykernel)",
   "language": "python",
   "name": "python3"
  },
  "language_info": {
   "codemirror_mode": {
    "name": "ipython",
    "version": 3
   },
   "file_extension": ".py",
   "mimetype": "text/x-python",
   "name": "python",
   "nbconvert_exporter": "python",
   "pygments_lexer": "ipython3",
   "version": "3.9.7"
  },
  "toc": {
   "base_numbering": 1,
   "nav_menu": {},
   "number_sections": true,
   "sideBar": true,
   "skip_h1_title": true,
   "title_cell": "Проверка гипотез по увеличению выручки в интернет-магазине — оценить результаты A/B теста",
   "title_sidebar": "Проверка гипотез по увеличению выручки в интернет-магазине — оценить результаты A/B теста",
   "toc_cell": false,
   "toc_position": {
    "height": "529.6px",
    "left": "195px",
    "top": "110.325px",
    "width": "286.237px"
   },
   "toc_section_display": true,
   "toc_window_display": true
  }
 },
 "nbformat": 4,
 "nbformat_minor": 2
}
