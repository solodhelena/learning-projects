{
 "cells": [
  {
   "cell_type": "markdown",
   "id": "13509fc5",
   "metadata": {
    "toc": true
   },
   "source": [
    "<h1>Анализ системы лояльности магазина строительных материалов<span class=\"tocSkip\"></span></h1>\n",
    "<div class=\"toc\"><ul class=\"toc-item\"><li><span><a href=\"#Материалы-для-проекта:\" data-toc-modified-id=\"Материалы-для-проекта:-1\"><span class=\"toc-item-num\">1&nbsp;&nbsp;</span>Материалы для проекта:</a></span></li><li><span><a href=\"#Обзор-данных\" data-toc-modified-id=\"Обзор-данных-2\"><span class=\"toc-item-num\">2&nbsp;&nbsp;</span>Обзор данных</a></span></li><li><span><a href=\"#Предобработка\" data-toc-modified-id=\"Предобработка-3\"><span class=\"toc-item-num\">3&nbsp;&nbsp;</span>Предобработка</a></span><ul class=\"toc-item\"><li><span><a href=\"#Обработаем-названия-столбцов.\" data-toc-modified-id=\"Обработаем-названия-столбцов.-3.1\"><span class=\"toc-item-num\">3.1&nbsp;&nbsp;</span>Обработаем названия столбцов.</a></span></li><li><span><a href=\"#Приведем-типы-данных-к-нужному-виду.\" data-toc-modified-id=\"Приведем-типы-данных-к-нужному-виду.-3.2\"><span class=\"toc-item-num\">3.2&nbsp;&nbsp;</span>Приведем типы данных к нужному виду.</a></span></li><li><span><a href=\"#Определим-период-исследования.\" data-toc-modified-id=\"Определим-период-исследования.-3.3\"><span class=\"toc-item-num\">3.3&nbsp;&nbsp;</span>Определим период исследования.</a></span></li><li><span><a href=\"#Обработаем-пропуски-в-данных.\" data-toc-modified-id=\"Обработаем-пропуски-в-данных.-3.4\"><span class=\"toc-item-num\">3.4&nbsp;&nbsp;</span>Обработаем пропуски в данных.</a></span></li><li><span><a href=\"#Проверим-датасеты-на-наличие-явных-дубликатов.\" data-toc-modified-id=\"Проверим-датасеты-на-наличие-явных-дубликатов.-3.5\"><span class=\"toc-item-num\">3.5&nbsp;&nbsp;</span>Проверим датасеты на наличие явных дубликатов.</a></span></li><li><span><a href=\"#Поиск-аномалий-в-данных.\" data-toc-modified-id=\"Поиск-аномалий-в-данных.-3.6\"><span class=\"toc-item-num\">3.6&nbsp;&nbsp;</span>Поиск аномалий в данных.</a></span></li><li><span><a href=\"#Подсчет-цен.\" data-toc-modified-id=\"Подсчет-цен.-3.7\"><span class=\"toc-item-num\">3.7&nbsp;&nbsp;</span>Подсчет цен.</a></span></li></ul></li><li><span><a href=\"#Исследовательский-анализ.\" data-toc-modified-id=\"Исследовательский-анализ.-4\"><span class=\"toc-item-num\">4&nbsp;&nbsp;</span>Исследовательский анализ.</a></span><ul class=\"toc-item\"><li><span><a href=\"#Присоединение-данных-о-ценах-к-основному-датасету.\" data-toc-modified-id=\"Присоединение-данных-о-ценах-к-основному-датасету.-4.1\"><span class=\"toc-item-num\">4.1&nbsp;&nbsp;</span>Присоединение данных о ценах к основному датасету.</a></span></li><li><span><a href=\"#Описательные-статистики-для-столбца-с-количеством-товаров.\" data-toc-modified-id=\"Описательные-статистики-для-столбца-с-количеством-товаров.-4.2\"><span class=\"toc-item-num\">4.2&nbsp;&nbsp;</span>Описательные статистики для столбца с количеством товаров.</a></span></li><li><span><a href=\"#Описательные-статистики-для-столбца-с-ценами.\" data-toc-modified-id=\"Описательные-статистики-для-столбца-с-ценами.-4.3\"><span class=\"toc-item-num\">4.3&nbsp;&nbsp;</span>Описательные статистики для столбца с ценами.</a></span></li><li><span><a href=\"#Определение-лидеров-по-продажам.\" data-toc-modified-id=\"Определение-лидеров-по-продажам.-4.4\"><span class=\"toc-item-num\">4.4&nbsp;&nbsp;</span>Определение лидеров по продажам.</a></span></li><li><span><a href=\"#Определим-лучшие-месяцы-по-продажам.\" data-toc-modified-id=\"Определим-лучшие-месяцы-по-продажам.-4.5\"><span class=\"toc-item-num\">4.5&nbsp;&nbsp;</span>Определим лучшие месяцы по продажам.</a></span></li><li><span><a href=\"#Определим-лучшие-месяцы-по-возратам.\" data-toc-modified-id=\"Определим-лучшие-месяцы-по-возратам.-4.6\"><span class=\"toc-item-num\">4.6&nbsp;&nbsp;</span>Определим лучшие месяцы по возратам.</a></span></li><li><span><a href=\"#Считаем-средний-чек-по-магазинам.\" data-toc-modified-id=\"Считаем-средний-чек-по-магазинам.-4.7\"><span class=\"toc-item-num\">4.7&nbsp;&nbsp;</span>Считаем средний чек по магазинам.</a></span></li></ul></li><li><span><a href=\"#Анализ-действия-программы-лояльности.\" data-toc-modified-id=\"Анализ-действия-программы-лояльности.-5\"><span class=\"toc-item-num\">5&nbsp;&nbsp;</span>Анализ действия программы лояльности.</a></span><ul class=\"toc-item\"><li><span><a href=\"#Поделим-покупателей-на-группы:-участники-программы-лояльности-и-те,-кто-не-участвует-в-программе.\" data-toc-modified-id=\"Поделим-покупателей-на-группы:-участники-программы-лояльности-и-те,-кто-не-участвует-в-программе.-5.1\"><span class=\"toc-item-num\">5.1&nbsp;&nbsp;</span>Поделим покупателей на группы: участники программы лояльности и те, кто не участвует в программе.</a></span></li><li><span><a href=\"#Сравним-поведение-в-двух-группах:-средний-чек,-количество-участников-неучастников,-сумма-и-количество-выручки/возвратов,-количество-товаров.\" data-toc-modified-id=\"Сравним-поведение-в-двух-группах:-средний-чек,-количество-участников-неучастников,-сумма-и-количество-выручки/возвратов,-количество-товаров.-5.2\"><span class=\"toc-item-num\">5.2&nbsp;&nbsp;</span>Сравним поведение в двух группах: средний чек, количество участников-неучастников, сумма и количество выручки/возвратов, количество товаров.</a></span></li><li><span><a href=\"#Посчитаем-количество-покупок-в-месяц-для-участников-неучастников.\" data-toc-modified-id=\"Посчитаем-количество-покупок-в-месяц-для-участников-неучастников.-5.3\"><span class=\"toc-item-num\">5.3&nbsp;&nbsp;</span>Посчитаем количество покупок в месяц для участников-неучастников.</a></span></li><li><span><a href=\"#Считаем-количество-покупателей-участников-в-распределении-по-магазинам,-количество-чеков,-сумму-выручки,-количество-товарных-единиц-и-позиций-в-чеке.\" data-toc-modified-id=\"Считаем-количество-покупателей-участников-в-распределении-по-магазинам,-количество-чеков,-сумму-выручки,-количество-товарных-единиц-и-позиций-в-чеке.-5.4\"><span class=\"toc-item-num\">5.4&nbsp;&nbsp;</span>Считаем количество покупателей участников в распределении по магазинам, количество чеков, сумму выручки, количество товарных единиц и позиций в чеке.</a></span></li><li><span><a href=\"#Считаем-количество-неучастников-программы-в-распределении-по-магазинам,-количество-чеков,-сумму-выручки,-количество-товарных-единиц-и-позиций-в-чеке.\" data-toc-modified-id=\"Считаем-количество-неучастников-программы-в-распределении-по-магазинам,-количество-чеков,-сумму-выручки,-количество-товарных-единиц-и-позиций-в-чеке.-5.5\"><span class=\"toc-item-num\">5.5&nbsp;&nbsp;</span>Считаем количество неучастников программы в распределении по магазинам, количество чеков, сумму выручки, количество товарных единиц и позиций в чеке.</a></span></li><li><span><a href=\"#Определим-долю-от-совокупного-объема-продаж/возвратов-для-каждого-магазина,-которую-принесли-ему-покупатели-участники-программы-лояльности.\" data-toc-modified-id=\"Определим-долю-от-совокупного-объема-продаж/возвратов-для-каждого-магазина,-которую-принесли-ему-покупатели-участники-программы-лояльности.-5.6\"><span class=\"toc-item-num\">5.6&nbsp;&nbsp;</span>Определим долю от совокупного объема продаж/возвратов для каждого магазина, которую принесли ему покупатели-участники программы лояльности.</a></span></li><li><span><a href=\"#Проверим-наличие-корреляции-между-признаками.\" data-toc-modified-id=\"Проверим-наличие-корреляции-между-признаками.-5.7\"><span class=\"toc-item-num\">5.7&nbsp;&nbsp;</span>Проверим наличие корреляции между признаками.</a></span></li></ul></li><li><span><a href=\"#Формулировка-и-проверка-гипотез¶\" data-toc-modified-id=\"Формулировка-и-проверка-гипотез¶-6\"><span class=\"toc-item-num\">6&nbsp;&nbsp;</span>Формулировка и проверка гипотез¶</a></span><ul class=\"toc-item\"><li><span><a href=\"#Сформулируем-гипотезы:\" data-toc-modified-id=\"Сформулируем-гипотезы:-6.1\"><span class=\"toc-item-num\">6.1&nbsp;&nbsp;</span>Сформулируем гипотезы:</a></span></li><li><span><a href=\"#Отранжируем-гипотезы.\" data-toc-modified-id=\"Отранжируем-гипотезы.-6.2\"><span class=\"toc-item-num\">6.2&nbsp;&nbsp;</span>Отранжируем гипотезы.</a></span></li><li><span><a href=\"#Тестирование-гипотез,-выбор-экспериментов.\" data-toc-modified-id=\"Тестирование-гипотез,-выбор-экспериментов.-6.3\"><span class=\"toc-item-num\">6.3&nbsp;&nbsp;</span>Тестирование гипотез, выбор экспериментов.</a></span></li></ul></li><li><span><a href=\"#Основные-выводы-по-проекту.\" data-toc-modified-id=\"Основные-выводы-по-проекту.-7\"><span class=\"toc-item-num\">7&nbsp;&nbsp;</span>Основные выводы по проекту.</a></span></li></ul></div>"
   ]
  },
  {
   "cell_type": "markdown",
   "id": "3c2a7810",
   "metadata": {},
   "source": [
    "## Материалы для проекта:\n",
    "\n",
    "Дашборд: https://public.tableau.com/app/profile/helena5026/viz/_16659304011560/Dashboard2?publish=yes\n",
    "\n",
    "Презентация: https://drive.google.com/file/d/1Lg5-X2cE_8MjrnzdCsoDYb5fpmNaF6oU/view?usp=sharing"
   ]
  },
  {
   "cell_type": "markdown",
   "id": "aee7380b",
   "metadata": {},
   "source": [
    "Описание данных:\n",
    "\n",
    "Датасет содержит данные о покупках в магазине строительных материалов «Строили, строили и наконец построили». Все покупатели могут получить доступ в магазин с использованием персональных карт. За 200 рублей в месяц они могут стать участниками программы лояльности. В программу включены скидки, специальные предложения, подарки.\n"
   ]
  },
  {
   "cell_type": "markdown",
   "id": "ee9bb473",
   "metadata": {},
   "source": [
    "Ключевая задача: анализ системы лояльности.\n",
    "\n",
    "Исследование будет проводиться по следующим этапам: \n",
    "1. Обзор данных; \n",
    "2. Предобработка данных;\n",
    "3. Исследовательский анализ;\n",
    "4. Формулировка и тестирование гипотез;\n",
    "5. Выводы по результатам исследования. "
   ]
  },
  {
   "cell_type": "markdown",
   "id": "18e12e09",
   "metadata": {},
   "source": [
    "## Обзор данных"
   ]
  },
  {
   "cell_type": "code",
   "execution_count": 1,
   "id": "da9be730",
   "metadata": {},
   "outputs": [],
   "source": [
    "# Загрузим библиотеки, которые понадобятся для реализации проекта.\n",
    "\n",
    "import pandas as pd\n",
    "import numpy as np\n",
    "import matplotlib.pyplot as plt\n",
    "import seaborn as sns\n",
    "from scipy import stats as st"
   ]
  },
  {
   "cell_type": "code",
   "execution_count": 2,
   "id": "91299922",
   "metadata": {},
   "outputs": [
    {
     "data": {
      "text/html": [
       "<div>\n",
       "<style scoped>\n",
       "    .dataframe tbody tr th:only-of-type {\n",
       "        vertical-align: middle;\n",
       "    }\n",
       "\n",
       "    .dataframe tbody tr th {\n",
       "        vertical-align: top;\n",
       "    }\n",
       "\n",
       "    .dataframe thead th {\n",
       "        text-align: right;\n",
       "    }\n",
       "</style>\n",
       "<table border=\"1\" class=\"dataframe\">\n",
       "  <thead>\n",
       "    <tr style=\"text-align: right;\">\n",
       "      <th></th>\n",
       "      <th>purchaseid</th>\n",
       "      <th>item_ID</th>\n",
       "      <th>Quantity</th>\n",
       "      <th>purchasedate</th>\n",
       "      <th>CustomerID</th>\n",
       "      <th>ShopID</th>\n",
       "      <th>loyalty_program</th>\n",
       "    </tr>\n",
       "  </thead>\n",
       "  <tbody>\n",
       "    <tr>\n",
       "      <th>0</th>\n",
       "      <td>538280</td>\n",
       "      <td>21873</td>\n",
       "      <td>11</td>\n",
       "      <td>2016-12-10 12:50:00</td>\n",
       "      <td>18427.0</td>\n",
       "      <td>Shop 0</td>\n",
       "      <td>0.0</td>\n",
       "    </tr>\n",
       "    <tr>\n",
       "      <th>1</th>\n",
       "      <td>538862</td>\n",
       "      <td>22195</td>\n",
       "      <td>0</td>\n",
       "      <td>2016-12-14 14:11:00</td>\n",
       "      <td>22389.0</td>\n",
       "      <td>Shop 0</td>\n",
       "      <td>1.0</td>\n",
       "    </tr>\n",
       "    <tr>\n",
       "      <th>2</th>\n",
       "      <td>538855</td>\n",
       "      <td>21239</td>\n",
       "      <td>7</td>\n",
       "      <td>2016-12-14 13:50:00</td>\n",
       "      <td>22182.0</td>\n",
       "      <td>Shop 0</td>\n",
       "      <td>1.0</td>\n",
       "    </tr>\n",
       "    <tr>\n",
       "      <th>3</th>\n",
       "      <td>543543</td>\n",
       "      <td>22271</td>\n",
       "      <td>0</td>\n",
       "      <td>2017-02-09 15:33:00</td>\n",
       "      <td>23522.0</td>\n",
       "      <td>Shop 0</td>\n",
       "      <td>1.0</td>\n",
       "    </tr>\n",
       "    <tr>\n",
       "      <th>4</th>\n",
       "      <td>543812</td>\n",
       "      <td>79321</td>\n",
       "      <td>0</td>\n",
       "      <td>2017-02-13 14:40:00</td>\n",
       "      <td>23151.0</td>\n",
       "      <td>Shop 0</td>\n",
       "      <td>1.0</td>\n",
       "    </tr>\n",
       "  </tbody>\n",
       "</table>\n",
       "</div>"
      ],
      "text/plain": [
       "  purchaseid item_ID  Quantity         purchasedate  CustomerID  ShopID  \\\n",
       "0     538280   21873        11  2016-12-10 12:50:00     18427.0  Shop 0   \n",
       "1     538862   22195         0  2016-12-14 14:11:00     22389.0  Shop 0   \n",
       "2     538855   21239         7  2016-12-14 13:50:00     22182.0  Shop 0   \n",
       "3     543543   22271         0  2017-02-09 15:33:00     23522.0  Shop 0   \n",
       "4     543812   79321         0  2017-02-13 14:40:00     23151.0  Shop 0   \n",
       "\n",
       "   loyalty_program  \n",
       "0              0.0  \n",
       "1              1.0  \n",
       "2              1.0  \n",
       "3              1.0  \n",
       "4              1.0  "
      ]
     },
     "execution_count": 2,
     "metadata": {},
     "output_type": "execute_result"
    }
   ],
   "source": [
    "# Прочитаем датасеты. \n",
    "\n",
    "try:\n",
    "    data = pd.read_csv('C:\\\\Users\\\\1325165\\\\Desktop\\\\итоговый проект\\\\retail_dataset.csv')\n",
    "\n",
    "except: \n",
    "    data = pd.read_csv('https://code.s3.yandex.net/datasets/retail_dataset.csv')\n",
    "    \n",
    "data.head()"
   ]
  },
  {
   "cell_type": "code",
   "execution_count": 3,
   "id": "3d953d6a",
   "metadata": {},
   "outputs": [
    {
     "data": {
      "text/html": [
       "<div>\n",
       "<style scoped>\n",
       "    .dataframe tbody tr th:only-of-type {\n",
       "        vertical-align: middle;\n",
       "    }\n",
       "\n",
       "    .dataframe tbody tr th {\n",
       "        vertical-align: top;\n",
       "    }\n",
       "\n",
       "    .dataframe thead th {\n",
       "        text-align: right;\n",
       "    }\n",
       "</style>\n",
       "<table border=\"1\" class=\"dataframe\">\n",
       "  <thead>\n",
       "    <tr style=\"text-align: right;\">\n",
       "      <th></th>\n",
       "      <th>productID</th>\n",
       "      <th>price_per_one</th>\n",
       "    </tr>\n",
       "  </thead>\n",
       "  <tbody>\n",
       "    <tr>\n",
       "      <th>0</th>\n",
       "      <td>85123A</td>\n",
       "      <td>2.55</td>\n",
       "    </tr>\n",
       "    <tr>\n",
       "      <th>1</th>\n",
       "      <td>71053</td>\n",
       "      <td>3.39</td>\n",
       "    </tr>\n",
       "    <tr>\n",
       "      <th>2</th>\n",
       "      <td>84406B</td>\n",
       "      <td>2.75</td>\n",
       "    </tr>\n",
       "    <tr>\n",
       "      <th>3</th>\n",
       "      <td>84029G</td>\n",
       "      <td>3.39</td>\n",
       "    </tr>\n",
       "    <tr>\n",
       "      <th>4</th>\n",
       "      <td>84029E</td>\n",
       "      <td>3.39</td>\n",
       "    </tr>\n",
       "  </tbody>\n",
       "</table>\n",
       "</div>"
      ],
      "text/plain": [
       "  productID  price_per_one\n",
       "0    85123A           2.55\n",
       "1     71053           3.39\n",
       "2    84406B           2.75\n",
       "3    84029G           3.39\n",
       "4    84029E           3.39"
      ]
     },
     "execution_count": 3,
     "metadata": {},
     "output_type": "execute_result"
    }
   ],
   "source": [
    "try: \n",
    "    price = pd.read_csv('C:\\\\Users\\\\1325165\\\\Desktop\\\\итоговый проект\\\\product_codes.csv')\n",
    "    \n",
    "except:\n",
    "    price = pd.read_csv('https://code.s3.yandex.net/datasets/product_codes.csv')\n",
    "    \n",
    "        \n",
    "price.head(5)"
   ]
  },
  {
   "cell_type": "code",
   "execution_count": 4,
   "id": "bc443d19",
   "metadata": {},
   "outputs": [
    {
     "name": "stdout",
     "output_type": "stream",
     "text": [
      "<class 'pandas.core.frame.DataFrame'>\n",
      "RangeIndex: 105335 entries, 0 to 105334\n",
      "Data columns (total 7 columns):\n",
      " #   Column           Non-Null Count   Dtype  \n",
      "---  ------           --------------   -----  \n",
      " 0   purchaseid       105335 non-null  object \n",
      " 1   item_ID          105335 non-null  object \n",
      " 2   Quantity         105335 non-null  int64  \n",
      " 3   purchasedate     105335 non-null  object \n",
      " 4   CustomerID       69125 non-null   float64\n",
      " 5   ShopID           105335 non-null  object \n",
      " 6   loyalty_program  105335 non-null  float64\n",
      "dtypes: float64(2), int64(1), object(4)\n",
      "memory usage: 5.6+ MB\n"
     ]
    }
   ],
   "source": [
    "# Посмотрим общую информацию о таблице с продажами.\n",
    "\n",
    "data.info()"
   ]
  },
  {
   "cell_type": "markdown",
   "id": "44c6b5a6",
   "metadata": {},
   "source": [
    "Файл retail_dataset.csv:\n",
    "\n",
    "•\tpurchaseId — id чека;\n",
    "\n",
    "•\titem_ID — id товара;\n",
    "\n",
    "•\tpurchasedate — дата покупки;\n",
    "\n",
    "•\tQuantity — количество товара;\n",
    "\n",
    "•\tCustomerID — id покупателя;\n",
    "\n",
    "•\tShopID — id магазина;\n",
    "\n",
    "•\tloyalty_program — участвует ли покупатель в программе лояльности;\n"
   ]
  },
  {
   "cell_type": "code",
   "execution_count": 5,
   "id": "d76d4a14",
   "metadata": {},
   "outputs": [
    {
     "name": "stdout",
     "output_type": "stream",
     "text": [
      "<class 'pandas.core.frame.DataFrame'>\n",
      "RangeIndex: 9969 entries, 0 to 9968\n",
      "Data columns (total 2 columns):\n",
      " #   Column         Non-Null Count  Dtype  \n",
      "---  ------         --------------  -----  \n",
      " 0   productID      9969 non-null   object \n",
      " 1   price_per_one  9969 non-null   float64\n",
      "dtypes: float64(1), object(1)\n",
      "memory usage: 155.9+ KB\n"
     ]
    }
   ],
   "source": [
    "# Посмотрим общую информацию о таблице с ценами.\n",
    "\n",
    "price.info()"
   ]
  },
  {
   "cell_type": "markdown",
   "id": "b5c5e428",
   "metadata": {},
   "source": [
    "Файл product_codes.csv:\n",
    "\n",
    "•\tproductID — id товара;\n",
    "\n",
    "•\tprice_per_one — стоимость одной единицы товара.\n"
   ]
  },
  {
   "cell_type": "markdown",
   "id": "f8d3c2fa",
   "metadata": {},
   "source": [
    "Для анализа у нас имеются данные о продажах 105355 товаров, с датами продаж, количеством единиц товаров, id магазинов и пользователей, отметкой об участии в программе лояльности. Датасет с ценами содержит 9969 позиций. "
   ]
  },
  {
   "cell_type": "markdown",
   "id": "94cb619a",
   "metadata": {},
   "source": [
    "## Предобработка"
   ]
  },
  {
   "cell_type": "markdown",
   "id": "f965ab95",
   "metadata": {},
   "source": [
    "### Обработаем названия столбцов."
   ]
  },
  {
   "cell_type": "code",
   "execution_count": 6,
   "id": "34d8b0e1",
   "metadata": {},
   "outputs": [
    {
     "data": {
      "text/plain": [
       "Index(['purchaseid', 'item_ID', 'Quantity', 'purchasedate', 'CustomerID',\n",
       "       'ShopID', 'loyalty_program'],\n",
       "      dtype='object')"
      ]
     },
     "execution_count": 6,
     "metadata": {},
     "output_type": "execute_result"
    }
   ],
   "source": [
    "# Посмотрим наименования столбцов.\n",
    "\n",
    "data.columns"
   ]
  },
  {
   "cell_type": "code",
   "execution_count": 7,
   "id": "d3aad2f4",
   "metadata": {},
   "outputs": [
    {
     "data": {
      "text/plain": [
       "Index(['productID', 'price_per_one'], dtype='object')"
      ]
     },
     "execution_count": 7,
     "metadata": {},
     "output_type": "execute_result"
    }
   ],
   "source": [
    "price.columns"
   ]
  },
  {
   "cell_type": "code",
   "execution_count": 8,
   "id": "e2437a7e",
   "metadata": {},
   "outputs": [],
   "source": [
    "# Переименуем названия столбцов на нижний регистр.\n",
    "\n",
    "data.columns = [x.lower() for x in data.columns]\n",
    "price.columns = [x.lower() for x in price.columns]"
   ]
  },
  {
   "cell_type": "code",
   "execution_count": 9,
   "id": "ec63511e",
   "metadata": {},
   "outputs": [],
   "source": [
    "# Приведем названия столбцов к змеиному регистру. \n",
    "\n",
    "data = data.rename(columns={'purchaseid': 'purchase_id', 'customerid': 'customer_id', 'shopid': 'shop_id'})\n",
    "price = price.rename(columns = {'productid': 'item_id'})"
   ]
  },
  {
   "cell_type": "markdown",
   "id": "6f721aa8",
   "metadata": {},
   "source": [
    "### Приведем типы данных к нужному виду."
   ]
  },
  {
   "cell_type": "code",
   "execution_count": 10,
   "id": "460d68e4",
   "metadata": {},
   "outputs": [
    {
     "data": {
      "text/plain": [
       "purchase_id         object\n",
       "item_id             object\n",
       "quantity             int64\n",
       "purchasedate        object\n",
       "customer_id        float64\n",
       "shop_id             object\n",
       "loyalty_program    float64\n",
       "dtype: object"
      ]
     },
     "execution_count": 10,
     "metadata": {},
     "output_type": "execute_result"
    }
   ],
   "source": [
    "# Посмотрим типы данных, представленных в таблицах.\n",
    "\n",
    "data.dtypes"
   ]
  },
  {
   "cell_type": "code",
   "execution_count": 11,
   "id": "d1b6bc77",
   "metadata": {},
   "outputs": [
    {
     "data": {
      "text/plain": [
       "item_id           object\n",
       "price_per_one    float64\n",
       "dtype: object"
      ]
     },
     "execution_count": 11,
     "metadata": {},
     "output_type": "execute_result"
    }
   ],
   "source": [
    "price.dtypes"
   ]
  },
  {
   "cell_type": "markdown",
   "id": "4095cc9e",
   "metadata": {},
   "source": [
    "Заменим некорректные типы данных на корректные. \n",
    "\n",
    "Поменяем тип данных для столбца с датой."
   ]
  },
  {
   "cell_type": "code",
   "execution_count": 12,
   "id": "c2b3a827",
   "metadata": {},
   "outputs": [],
   "source": [
    "data['purchasedate'] = pd.to_datetime(data['purchasedate'], format = '%Y-%m-%dT%H:%M:%S') "
   ]
  },
  {
   "cell_type": "markdown",
   "id": "bab84832",
   "metadata": {},
   "source": [
    "Проверим, что замена прошла успешно."
   ]
  },
  {
   "cell_type": "code",
   "execution_count": 13,
   "id": "cc2bb019",
   "metadata": {},
   "outputs": [
    {
     "data": {
      "text/plain": [
       "dtype('<M8[ns]')"
      ]
     },
     "execution_count": 13,
     "metadata": {},
     "output_type": "execute_result"
    }
   ],
   "source": [
    "data['purchasedate'].dtype"
   ]
  },
  {
   "cell_type": "markdown",
   "id": "2c3567e0",
   "metadata": {},
   "source": [
    "Заменим тип данных в столбце loyalty_program с булевым значением, обозначающим участие и не участие в программе лояльности, на целочисленный тип данных. "
   ]
  },
  {
   "cell_type": "code",
   "execution_count": 14,
   "id": "a135aeea",
   "metadata": {},
   "outputs": [],
   "source": [
    "data['loyalty_program'] = data['loyalty_program'].astype('int64')"
   ]
  },
  {
   "cell_type": "markdown",
   "id": "020def45",
   "metadata": {},
   "source": [
    "Также поменяем тип данных в столбце cusromer_id на целочисленный. "
   ]
  },
  {
   "cell_type": "code",
   "execution_count": 15,
   "id": "a8bf09b5",
   "metadata": {
    "scrolled": true
   },
   "outputs": [],
   "source": [
    "#data['customer_id'] = data['customer_id'].astype('Int64')"
   ]
  },
  {
   "cell_type": "markdown",
   "id": "03469c58",
   "metadata": {},
   "source": [
    "Округлим цены в датасете price до 2 знаков после запятой."
   ]
  },
  {
   "cell_type": "code",
   "execution_count": 16,
   "id": "7ec29059",
   "metadata": {
    "scrolled": false
   },
   "outputs": [
    {
     "data": {
      "text/plain": [
       "0         2.55\n",
       "1         3.39\n",
       "2         2.75\n",
       "3         3.39\n",
       "4         3.39\n",
       "         ...  \n",
       "9964      8.29\n",
       "9965      4.15\n",
       "9966      2.46\n",
       "9967    172.62\n",
       "9968      0.00\n",
       "Name: price_per_one, Length: 9969, dtype: float64"
      ]
     },
     "execution_count": 16,
     "metadata": {},
     "output_type": "execute_result"
    }
   ],
   "source": [
    "round(price['price_per_one'], 2)"
   ]
  },
  {
   "cell_type": "markdown",
   "id": "c94e6b14",
   "metadata": {},
   "source": [
    "### Определим период исследования."
   ]
  },
  {
   "cell_type": "markdown",
   "id": "6cf9da39",
   "metadata": {},
   "source": [
    "Посмотрим какой период попал в наше исследование. "
   ]
  },
  {
   "cell_type": "code",
   "execution_count": 17,
   "id": "fecbcda3",
   "metadata": {},
   "outputs": [
    {
     "name": "stdout",
     "output_type": "stream",
     "text": [
      "Минимальная дата совершения покупки 2016-12-01 08:26:00\n"
     ]
    }
   ],
   "source": [
    "print('Минимальная дата совершения покупки', data['purchasedate'].min())"
   ]
  },
  {
   "cell_type": "code",
   "execution_count": 18,
   "id": "fd393243",
   "metadata": {
    "scrolled": true
   },
   "outputs": [
    {
     "name": "stdout",
     "output_type": "stream",
     "text": [
      "Максимальная дата совершения покупки 2017-02-28 17:04:00\n"
     ]
    }
   ],
   "source": [
    "print('Максимальная дата совершения покупки', data['purchasedate'].max())"
   ]
  },
  {
   "cell_type": "markdown",
   "id": "75a2d94a",
   "metadata": {},
   "source": [
    "Период, который представлен для анализа: с 1 декабря 2016 года до 28 февраля 2017 года. \n",
    "\n",
    "Исходя из этого для дальнейшего анализа выделим месяц покупки в отдельный столбец purchasemonth. "
   ]
  },
  {
   "cell_type": "code",
   "execution_count": 19,
   "id": "078f5ee9",
   "metadata": {},
   "outputs": [],
   "source": [
    "data['purchasemonth'] = pd.to_datetime(data['purchasedate']).dt.month"
   ]
  },
  {
   "cell_type": "markdown",
   "id": "a1d5190a",
   "metadata": {},
   "source": [
    "### Обработаем пропуски в данных."
   ]
  },
  {
   "cell_type": "markdown",
   "id": "d7d2dd59",
   "metadata": {},
   "source": [
    "Проверим наличие пропусков в данных. "
   ]
  },
  {
   "cell_type": "code",
   "execution_count": 20,
   "id": "c25e8233",
   "metadata": {
    "scrolled": true
   },
   "outputs": [
    {
     "data": {
      "text/plain": [
       "purchase_id            0\n",
       "item_id                0\n",
       "quantity               0\n",
       "purchasedate           0\n",
       "customer_id        36210\n",
       "shop_id                0\n",
       "loyalty_program        0\n",
       "purchasemonth          0\n",
       "dtype: int64"
      ]
     },
     "execution_count": 20,
     "metadata": {},
     "output_type": "execute_result"
    }
   ],
   "source": [
    "data.isna().sum()"
   ]
  },
  {
   "cell_type": "markdown",
   "id": "ac0c5b86",
   "metadata": {},
   "source": [
    "Пропуски в данных есть в одном столбце customer_id. \n",
    "\n",
    "Построим срез данных с пропусками в столбце customer_id."
   ]
  },
  {
   "cell_type": "code",
   "execution_count": 21,
   "id": "b677b7bc",
   "metadata": {
    "scrolled": true
   },
   "outputs": [
    {
     "data": {
      "text/html": [
       "<div>\n",
       "<style scoped>\n",
       "    .dataframe tbody tr th:only-of-type {\n",
       "        vertical-align: middle;\n",
       "    }\n",
       "\n",
       "    .dataframe tbody tr th {\n",
       "        vertical-align: top;\n",
       "    }\n",
       "\n",
       "    .dataframe thead th {\n",
       "        text-align: right;\n",
       "    }\n",
       "</style>\n",
       "<table border=\"1\" class=\"dataframe\">\n",
       "  <thead>\n",
       "    <tr style=\"text-align: right;\">\n",
       "      <th></th>\n",
       "      <th>purchase_id</th>\n",
       "      <th>item_id</th>\n",
       "      <th>quantity</th>\n",
       "      <th>purchasedate</th>\n",
       "      <th>customer_id</th>\n",
       "      <th>shop_id</th>\n",
       "      <th>loyalty_program</th>\n",
       "      <th>purchasemonth</th>\n",
       "    </tr>\n",
       "  </thead>\n",
       "  <tbody>\n",
       "    <tr>\n",
       "      <th>6</th>\n",
       "      <td>540468</td>\n",
       "      <td>22189</td>\n",
       "      <td>0</td>\n",
       "      <td>2017-01-07 13:55:00</td>\n",
       "      <td>NaN</td>\n",
       "      <td>Shop 0</td>\n",
       "      <td>0</td>\n",
       "      <td>1</td>\n",
       "    </tr>\n",
       "    <tr>\n",
       "      <th>7</th>\n",
       "      <td>541424</td>\n",
       "      <td>79321</td>\n",
       "      <td>1</td>\n",
       "      <td>2017-01-17 17:57:00</td>\n",
       "      <td>NaN</td>\n",
       "      <td>Shop 0</td>\n",
       "      <td>0</td>\n",
       "      <td>1</td>\n",
       "    </tr>\n",
       "    <tr>\n",
       "      <th>8</th>\n",
       "      <td>538883</td>\n",
       "      <td>22891</td>\n",
       "      <td>0</td>\n",
       "      <td>2016-12-14 15:56:00</td>\n",
       "      <td>NaN</td>\n",
       "      <td>Shop 0</td>\n",
       "      <td>0</td>\n",
       "      <td>12</td>\n",
       "    </tr>\n",
       "    <tr>\n",
       "      <th>11</th>\n",
       "      <td>541696</td>\n",
       "      <td>22197</td>\n",
       "      <td>4</td>\n",
       "      <td>2017-01-20 18:08:00</td>\n",
       "      <td>NaN</td>\n",
       "      <td>Shop 0</td>\n",
       "      <td>0</td>\n",
       "      <td>1</td>\n",
       "    </tr>\n",
       "    <tr>\n",
       "      <th>16</th>\n",
       "      <td>539744</td>\n",
       "      <td>22300</td>\n",
       "      <td>5</td>\n",
       "      <td>2016-12-21 15:21:00</td>\n",
       "      <td>NaN</td>\n",
       "      <td>Shop 0</td>\n",
       "      <td>0</td>\n",
       "      <td>12</td>\n",
       "    </tr>\n",
       "    <tr>\n",
       "      <th>...</th>\n",
       "      <td>...</td>\n",
       "      <td>...</td>\n",
       "      <td>...</td>\n",
       "      <td>...</td>\n",
       "      <td>...</td>\n",
       "      <td>...</td>\n",
       "      <td>...</td>\n",
       "      <td>...</td>\n",
       "    </tr>\n",
       "    <tr>\n",
       "      <th>105325</th>\n",
       "      <td>536982</td>\n",
       "      <td>20719</td>\n",
       "      <td>69</td>\n",
       "      <td>2016-12-03 14:27:00</td>\n",
       "      <td>NaN</td>\n",
       "      <td>Shop 0</td>\n",
       "      <td>0</td>\n",
       "      <td>12</td>\n",
       "    </tr>\n",
       "    <tr>\n",
       "      <th>105326</th>\n",
       "      <td>540681</td>\n",
       "      <td>22227</td>\n",
       "      <td>1</td>\n",
       "      <td>2017-01-10 16:25:00</td>\n",
       "      <td>NaN</td>\n",
       "      <td>Shop 0</td>\n",
       "      <td>0</td>\n",
       "      <td>1</td>\n",
       "    </tr>\n",
       "    <tr>\n",
       "      <th>105327</th>\n",
       "      <td>538349</td>\n",
       "      <td>22625</td>\n",
       "      <td>0</td>\n",
       "      <td>2016-12-10 14:59:00</td>\n",
       "      <td>NaN</td>\n",
       "      <td>Shop 0</td>\n",
       "      <td>0</td>\n",
       "      <td>12</td>\n",
       "    </tr>\n",
       "    <tr>\n",
       "      <th>105329</th>\n",
       "      <td>540154</td>\n",
       "      <td>22134</td>\n",
       "      <td>3</td>\n",
       "      <td>2017-01-05 11:30:00</td>\n",
       "      <td>NaN</td>\n",
       "      <td>Shop 0</td>\n",
       "      <td>0</td>\n",
       "      <td>1</td>\n",
       "    </tr>\n",
       "    <tr>\n",
       "      <th>105330</th>\n",
       "      <td>538566</td>\n",
       "      <td>21826</td>\n",
       "      <td>1</td>\n",
       "      <td>2016-12-13 11:21:00</td>\n",
       "      <td>NaN</td>\n",
       "      <td>Shop 0</td>\n",
       "      <td>0</td>\n",
       "      <td>12</td>\n",
       "    </tr>\n",
       "  </tbody>\n",
       "</table>\n",
       "<p>36210 rows × 8 columns</p>\n",
       "</div>"
      ],
      "text/plain": [
       "       purchase_id item_id  quantity        purchasedate  customer_id shop_id  \\\n",
       "6           540468   22189         0 2017-01-07 13:55:00          NaN  Shop 0   \n",
       "7           541424   79321         1 2017-01-17 17:57:00          NaN  Shop 0   \n",
       "8           538883   22891         0 2016-12-14 15:56:00          NaN  Shop 0   \n",
       "11          541696   22197         4 2017-01-20 18:08:00          NaN  Shop 0   \n",
       "16          539744   22300         5 2016-12-21 15:21:00          NaN  Shop 0   \n",
       "...            ...     ...       ...                 ...          ...     ...   \n",
       "105325      536982   20719        69 2016-12-03 14:27:00          NaN  Shop 0   \n",
       "105326      540681   22227         1 2017-01-10 16:25:00          NaN  Shop 0   \n",
       "105327      538349   22625         0 2016-12-10 14:59:00          NaN  Shop 0   \n",
       "105329      540154   22134         3 2017-01-05 11:30:00          NaN  Shop 0   \n",
       "105330      538566   21826         1 2016-12-13 11:21:00          NaN  Shop 0   \n",
       "\n",
       "        loyalty_program  purchasemonth  \n",
       "6                     0              1  \n",
       "7                     0              1  \n",
       "8                     0             12  \n",
       "11                    0              1  \n",
       "16                    0             12  \n",
       "...                 ...            ...  \n",
       "105325                0             12  \n",
       "105326                0              1  \n",
       "105327                0             12  \n",
       "105329                0              1  \n",
       "105330                0             12  \n",
       "\n",
       "[36210 rows x 8 columns]"
      ]
     },
     "execution_count": 21,
     "metadata": {},
     "output_type": "execute_result"
    }
   ],
   "source": [
    "customer_id_isnull = data[data['customer_id'].isnull()]\n",
    "customer_id_isnull"
   ]
  },
  {
   "cell_type": "markdown",
   "id": "35b2856b",
   "metadata": {},
   "source": [
    "Сгруппируем срез по Shop_id, чтобы выяснить в каких магазинах покупатели совершают покупки без авторизации."
   ]
  },
  {
   "cell_type": "code",
   "execution_count": 22,
   "id": "37976ef8",
   "metadata": {
    "scrolled": true
   },
   "outputs": [
    {
     "data": {
      "text/plain": [
       "shop_id\n",
       "Shop 0     36009\n",
       "Shop 21       14\n",
       "Shop 23        2\n",
       "Shop 25       57\n",
       "Shop 6       128\n",
       "Name: purchase_id, dtype: int64"
      ]
     },
     "execution_count": 22,
     "metadata": {},
     "output_type": "execute_result"
    }
   ],
   "source": [
    "customer_id_isnull.groupby('shop_id')['purchase_id'].count()"
   ]
  },
  {
   "cell_type": "markdown",
   "id": "33a61e50",
   "metadata": {},
   "source": [
    "В 5 магазинах пользователи совершали покупки без авторизации. И больше 95 % в магазине - Shop 0.\n",
    "\n",
    "Посмотрим относятся ли данные покупатели к покупателям использующим программу лояльности."
   ]
  },
  {
   "cell_type": "code",
   "execution_count": 23,
   "id": "52f60da0",
   "metadata": {},
   "outputs": [
    {
     "data": {
      "text/plain": [
       "loyalty_program\n",
       "0    36210\n",
       "Name: purchase_id, dtype: int64"
      ]
     },
     "execution_count": 23,
     "metadata": {},
     "output_type": "execute_result"
    }
   ],
   "source": [
    "# Группируем по группам: лояльные, нелояльные, считаем количество покупок для групп.\n",
    "\n",
    "customer_id_isnull.groupby('loyalty_program')['purchase_id'].count()"
   ]
  },
  {
   "cell_type": "markdown",
   "id": "ebb2e0b0",
   "metadata": {},
   "source": [
    "Логично, что неавторизованные пользователи не входят в число участников программы лояльности. "
   ]
  },
  {
   "cell_type": "markdown",
   "id": "ac720ceb",
   "metadata": {},
   "source": [
    "Большая часть отсутствующих значений в id покупателя относится к одной точке продаж - Shop 0 и не участвуют в программе лояльности. Предположу, что это интернет-магазин, в котором покупатели не авторизуются и не используют карту лояльности. "
   ]
  },
  {
   "cell_type": "markdown",
   "id": "d01c96dd",
   "metadata": {},
   "source": [
    "Чтобы при необходимости более корректно использовать данные с пропусками заменим их на число 0."
   ]
  },
  {
   "cell_type": "code",
   "execution_count": 24,
   "id": "949caa50",
   "metadata": {},
   "outputs": [],
   "source": [
    "# Производим замену отсутствующих значений на 0.\n",
    "\n",
    "data['customer_id'] = data['customer_id'].replace(np.NaN, '0')"
   ]
  },
  {
   "cell_type": "markdown",
   "id": "b4e2e9fc",
   "metadata": {},
   "source": [
    "Посмотрим наличие пропусков в датасете с ценами. "
   ]
  },
  {
   "cell_type": "code",
   "execution_count": 25,
   "id": "98480b19",
   "metadata": {},
   "outputs": [
    {
     "data": {
      "text/plain": [
       "item_id          0\n",
       "price_per_one    0\n",
       "dtype: int64"
      ]
     },
     "execution_count": 25,
     "metadata": {},
     "output_type": "execute_result"
    }
   ],
   "source": [
    "price.isna().sum()"
   ]
  },
  {
   "cell_type": "markdown",
   "id": "e2aee155",
   "metadata": {},
   "source": [
    "Пропусков в данных нет.\n"
   ]
  },
  {
   "cell_type": "markdown",
   "id": "3cb33a5e",
   "metadata": {},
   "source": [
    "### Проверим датасеты на наличие явных дубликатов."
   ]
  },
  {
   "cell_type": "code",
   "execution_count": 26,
   "id": "cff84316",
   "metadata": {},
   "outputs": [
    {
     "data": {
      "text/plain": [
       "1033"
      ]
     },
     "execution_count": 26,
     "metadata": {},
     "output_type": "execute_result"
    }
   ],
   "source": [
    "data.duplicated().sum()"
   ]
  },
  {
   "cell_type": "code",
   "execution_count": 27,
   "id": "066f7d97",
   "metadata": {},
   "outputs": [
    {
     "data": {
      "text/plain": [
       "0"
      ]
     },
     "execution_count": 27,
     "metadata": {},
     "output_type": "execute_result"
    }
   ],
   "source": [
    "price.duplicated().sum()"
   ]
  },
  {
   "cell_type": "markdown",
   "id": "1edd9144",
   "metadata": {},
   "source": [
    "В таблице с продажами 1 % полных дубликатов. Удалим их. \n",
    "\n",
    "В таблице с ценами явных дубликатов не обнаружено."
   ]
  },
  {
   "cell_type": "code",
   "execution_count": 28,
   "id": "8b71805a",
   "metadata": {},
   "outputs": [],
   "source": [
    "# Удаление дубликатов из таблицы с продажами.\n",
    "\n",
    "data = data.drop_duplicates()"
   ]
  },
  {
   "cell_type": "markdown",
   "id": "09fc6071",
   "metadata": {},
   "source": [
    "### Поиск аномалий в данных."
   ]
  },
  {
   "cell_type": "markdown",
   "id": "8e258016",
   "metadata": {},
   "source": [
    "Посмотрим уникальные значения в представленных данных. Начнем со столбца с количеством товаров."
   ]
  },
  {
   "cell_type": "code",
   "execution_count": 29,
   "id": "acf35ae7",
   "metadata": {},
   "outputs": [
    {
     "data": {
      "text/plain": [
       "array([-74216,  -9361,  -2601,  -1431,  -1401,   -991,   -940,   -742,\n",
       "         -724,   -601,   -501,   -401,   -391,   -321,   -311,   -301,\n",
       "         -291,   -241,   -235,   -231,   -224,   -218,   -208,   -207,\n",
       "         -202,   -201,   -193,   -178,   -174,   -163,   -151,   -146,\n",
       "         -145,   -141,   -131,   -121,   -115,   -107,   -101,   -100,\n",
       "          -97,    -95,    -93,    -89,    -85,    -81,    -78,    -77,\n",
       "          -73,    -71,    -70,    -65,    -62,    -61,    -60,    -58,\n",
       "          -55,    -54,    -53,    -51,    -49,    -48,    -46,    -45,\n",
       "          -44,    -43,    -42,    -41,    -39,    -37,    -36,    -34,\n",
       "          -33,    -32,    -31,    -30,    -29,    -26,    -25,    -24,\n",
       "          -23,    -22,    -21,    -20,    -19,    -18,    -17,    -16,\n",
       "          -15,    -14,    -13,    -12,    -11,    -10,     -9,     -8,\n",
       "           -7,     -6,     -5,     -4,     -3,     -2,      0,      1,\n",
       "            2,      3,      4,      5,      6,      7,      8,      9,\n",
       "           10,     11,     12,     13,     14,     15,     16,     17,\n",
       "           18,     19,     20,     21,     22,     23,     24,     25,\n",
       "           26,     27,     28,     29,     30,     31,     32,     33,\n",
       "           34,     35,     36,     37,     38,     39,     40,     41,\n",
       "           42,     43,     44,     45,     46,     47,     48,     49,\n",
       "           50,     51,     52,     53,     54,     55,     56,     57,\n",
       "           58,     59,     60,     61,     63,     64,     65,     66,\n",
       "           67,     68,     69,     70,     71,     72,     74,     75,\n",
       "           77,     78,     79,     81,     83,     88,     89,     93,\n",
       "           94,     95,     96,     97,     98,     99,    100,    101,\n",
       "          103,    105,    107,    109,    110,    111,    112,    113,\n",
       "          114,    115,    117,    119,    122,    123,    127,    128,\n",
       "          129,    134,    135,    137,    140,    143,    146,    149,\n",
       "          155,    159,    167,    171,    175,    179,    185,    191,\n",
       "          196,    197,    199,    203,    207,    209,    210,    212,\n",
       "          214,    215,    239,    249,    251,    255,    257,    266,\n",
       "          269,    271,    279,    287,    299,    319,    323,    359,\n",
       "          377,    383,    399,    401,    406,    407,    419,    431,\n",
       "          455,    459,    479,    499,    503,    575,    599,    647,\n",
       "          669,    719,    751,    799,    859,    863,    899,    959,\n",
       "          971,    999,   1007,   1009,   1055,   1151,   1199,   1283,\n",
       "         1286,   1295,   1299,   1355,   1393,   1399,   1439,   1487,\n",
       "         1499,   1727,   1823,   1929,   1999,   2399,   2559,   2591,\n",
       "         2879,   3113,   3905,   5567,  74214], dtype=int64)"
      ]
     },
     "execution_count": 29,
     "metadata": {},
     "output_type": "execute_result"
    }
   ],
   "source": [
    "data['quantity'].sort_values().unique()"
   ]
  },
  {
   "cell_type": "markdown",
   "id": "caf8b088",
   "metadata": {},
   "source": [
    "Есть минусовые значения количества товара в покупках, скорее всего это возвраты. Есть нулевые значения, посмотрим на них подробнее. А также на заказы с 74214 позиции и возврат 74216 позиций. \n",
    "\n",
    "Также есть большое значение с минусом 9361, но нет подобного значения с плюсом, возможно данный заказ был оформлен до момента снятия данных, поэтому логично будет его удалить, чтобы избежать лишнего перекоса данных в сторону возвратов. "
   ]
  },
  {
   "cell_type": "code",
   "execution_count": 30,
   "id": "0ebeda5e",
   "metadata": {
    "scrolled": true
   },
   "outputs": [
    {
     "data": {
      "text/html": [
       "<div>\n",
       "<style scoped>\n",
       "    .dataframe tbody tr th:only-of-type {\n",
       "        vertical-align: middle;\n",
       "    }\n",
       "\n",
       "    .dataframe tbody tr th {\n",
       "        vertical-align: top;\n",
       "    }\n",
       "\n",
       "    .dataframe thead th {\n",
       "        text-align: right;\n",
       "    }\n",
       "</style>\n",
       "<table border=\"1\" class=\"dataframe\">\n",
       "  <thead>\n",
       "    <tr style=\"text-align: right;\">\n",
       "      <th></th>\n",
       "      <th>purchase_id</th>\n",
       "      <th>item_id</th>\n",
       "      <th>quantity</th>\n",
       "      <th>purchasedate</th>\n",
       "      <th>customer_id</th>\n",
       "      <th>shop_id</th>\n",
       "      <th>loyalty_program</th>\n",
       "      <th>purchasemonth</th>\n",
       "    </tr>\n",
       "  </thead>\n",
       "  <tbody>\n",
       "    <tr>\n",
       "      <th>49411</th>\n",
       "      <td>C541433</td>\n",
       "      <td>23166</td>\n",
       "      <td>-74216</td>\n",
       "      <td>2017-01-18 10:17:00</td>\n",
       "      <td>18025.0</td>\n",
       "      <td>Shop 0</td>\n",
       "      <td>0</td>\n",
       "      <td>1</td>\n",
       "    </tr>\n",
       "    <tr>\n",
       "      <th>69074</th>\n",
       "      <td>541431</td>\n",
       "      <td>23166</td>\n",
       "      <td>74214</td>\n",
       "      <td>2017-01-18 10:01:00</td>\n",
       "      <td>18025.0</td>\n",
       "      <td>Shop 0</td>\n",
       "      <td>0</td>\n",
       "      <td>1</td>\n",
       "    </tr>\n",
       "  </tbody>\n",
       "</table>\n",
       "</div>"
      ],
      "text/plain": [
       "      purchase_id item_id  quantity        purchasedate customer_id shop_id  \\\n",
       "49411     C541433   23166    -74216 2017-01-18 10:17:00     18025.0  Shop 0   \n",
       "69074      541431   23166     74214 2017-01-18 10:01:00     18025.0  Shop 0   \n",
       "\n",
       "       loyalty_program  purchasemonth  \n",
       "49411                0              1  \n",
       "69074                0              1  "
      ]
     },
     "execution_count": 30,
     "metadata": {},
     "output_type": "execute_result"
    }
   ],
   "source": [
    "# Строим срез по заказам с 74214 позиций и -74216 позиций.\n",
    "\n",
    "data.query('quantity == 74214 | quantity == -74216')"
   ]
  },
  {
   "cell_type": "markdown",
   "id": "8c6d8a8f",
   "metadata": {},
   "source": [
    "Исходя из данных можно предположить, что данная покупка была сделана и возвращена одним днем, с разницей во времени 16 минут. Возможно это была тестовая покупка или ошибочно составленный заказ. Она будет оказывать значительное влияние при дальнейшем анализе, поэтому удалим ее и возврат по ней из данных. "
   ]
  },
  {
   "cell_type": "code",
   "execution_count": 31,
   "id": "4d30529b",
   "metadata": {},
   "outputs": [
    {
     "data": {
      "text/html": [
       "<div>\n",
       "<style scoped>\n",
       "    .dataframe tbody tr th:only-of-type {\n",
       "        vertical-align: middle;\n",
       "    }\n",
       "\n",
       "    .dataframe tbody tr th {\n",
       "        vertical-align: top;\n",
       "    }\n",
       "\n",
       "    .dataframe thead th {\n",
       "        text-align: right;\n",
       "    }\n",
       "</style>\n",
       "<table border=\"1\" class=\"dataframe\">\n",
       "  <thead>\n",
       "    <tr style=\"text-align: right;\">\n",
       "      <th></th>\n",
       "      <th>purchase_id</th>\n",
       "      <th>item_id</th>\n",
       "      <th>quantity</th>\n",
       "      <th>purchasedate</th>\n",
       "      <th>customer_id</th>\n",
       "      <th>shop_id</th>\n",
       "      <th>loyalty_program</th>\n",
       "      <th>purchasemonth</th>\n",
       "    </tr>\n",
       "  </thead>\n",
       "  <tbody>\n",
       "    <tr>\n",
       "      <th>39345</th>\n",
       "      <td>C536757</td>\n",
       "      <td>84347</td>\n",
       "      <td>-9361</td>\n",
       "      <td>2016-12-02 14:23:00</td>\n",
       "      <td>21517.0</td>\n",
       "      <td>Shop 0</td>\n",
       "      <td>0</td>\n",
       "      <td>12</td>\n",
       "    </tr>\n",
       "  </tbody>\n",
       "</table>\n",
       "</div>"
      ],
      "text/plain": [
       "      purchase_id item_id  quantity        purchasedate customer_id shop_id  \\\n",
       "39345     C536757   84347     -9361 2016-12-02 14:23:00     21517.0  Shop 0   \n",
       "\n",
       "       loyalty_program  purchasemonth  \n",
       "39345                0             12  "
      ]
     },
     "execution_count": 31,
     "metadata": {},
     "output_type": "execute_result"
    }
   ],
   "source": [
    "# Строим срез по заказу с -9361 позиций.\n",
    "\n",
    "data.query('quantity == -9361')"
   ]
  },
  {
   "cell_type": "markdown",
   "id": "ef3bfe7c",
   "metadata": {},
   "source": [
    "Возврат совершен 2 декабря, возможно, что сама покупка была совершена ранее 1 декабря, поэтому она не попала в датасет. \n",
    "\n",
    "Удалим данный возврат из датасета, постараемся минимизировать погрешности исследования."
   ]
  },
  {
   "cell_type": "code",
   "execution_count": 32,
   "id": "bb35a94c",
   "metadata": {},
   "outputs": [],
   "source": [
    "# Удаляем строки датасета с самыми крупными взовратами и заказом на 74214.\n",
    "\n",
    "data = data.query('quantity != 74214 and quantity != -74216 and quantity != -9361')"
   ]
  },
  {
   "cell_type": "markdown",
   "id": "5c88e602",
   "metadata": {},
   "source": [
    "Также среди уникальных значений мы увидели, что есть заказы с количеством товаров 0. \n",
    "Рассмотрим появление нулевых значений в количестве товаров в заказе.\n",
    "\n",
    "Построим срез. Сохраним его в переменную."
   ]
  },
  {
   "cell_type": "code",
   "execution_count": 33,
   "id": "b104d17f",
   "metadata": {
    "scrolled": false
   },
   "outputs": [
    {
     "data": {
      "text/html": [
       "<div>\n",
       "<style scoped>\n",
       "    .dataframe tbody tr th:only-of-type {\n",
       "        vertical-align: middle;\n",
       "    }\n",
       "\n",
       "    .dataframe tbody tr th {\n",
       "        vertical-align: top;\n",
       "    }\n",
       "\n",
       "    .dataframe thead th {\n",
       "        text-align: right;\n",
       "    }\n",
       "</style>\n",
       "<table border=\"1\" class=\"dataframe\">\n",
       "  <thead>\n",
       "    <tr style=\"text-align: right;\">\n",
       "      <th></th>\n",
       "      <th>purchase_id</th>\n",
       "      <th>item_id</th>\n",
       "      <th>quantity</th>\n",
       "      <th>purchasedate</th>\n",
       "      <th>customer_id</th>\n",
       "      <th>shop_id</th>\n",
       "      <th>loyalty_program</th>\n",
       "      <th>purchasemonth</th>\n",
       "    </tr>\n",
       "  </thead>\n",
       "  <tbody>\n",
       "    <tr>\n",
       "      <th>1</th>\n",
       "      <td>538862</td>\n",
       "      <td>22195</td>\n",
       "      <td>0</td>\n",
       "      <td>2016-12-14 14:11:00</td>\n",
       "      <td>22389.0</td>\n",
       "      <td>Shop 0</td>\n",
       "      <td>1</td>\n",
       "      <td>12</td>\n",
       "    </tr>\n",
       "    <tr>\n",
       "      <th>3</th>\n",
       "      <td>543543</td>\n",
       "      <td>22271</td>\n",
       "      <td>0</td>\n",
       "      <td>2017-02-09 15:33:00</td>\n",
       "      <td>23522.0</td>\n",
       "      <td>Shop 0</td>\n",
       "      <td>1</td>\n",
       "      <td>2</td>\n",
       "    </tr>\n",
       "    <tr>\n",
       "      <th>4</th>\n",
       "      <td>543812</td>\n",
       "      <td>79321</td>\n",
       "      <td>0</td>\n",
       "      <td>2017-02-13 14:40:00</td>\n",
       "      <td>23151.0</td>\n",
       "      <td>Shop 0</td>\n",
       "      <td>1</td>\n",
       "      <td>2</td>\n",
       "    </tr>\n",
       "    <tr>\n",
       "      <th>5</th>\n",
       "      <td>538379</td>\n",
       "      <td>22965</td>\n",
       "      <td>0</td>\n",
       "      <td>2016-12-12 11:26:00</td>\n",
       "      <td>22805.0</td>\n",
       "      <td>Shop 0</td>\n",
       "      <td>1</td>\n",
       "      <td>12</td>\n",
       "    </tr>\n",
       "    <tr>\n",
       "      <th>6</th>\n",
       "      <td>540468</td>\n",
       "      <td>22189</td>\n",
       "      <td>0</td>\n",
       "      <td>2017-01-07 13:55:00</td>\n",
       "      <td>0</td>\n",
       "      <td>Shop 0</td>\n",
       "      <td>0</td>\n",
       "      <td>1</td>\n",
       "    </tr>\n",
       "    <tr>\n",
       "      <th>...</th>\n",
       "      <td>...</td>\n",
       "      <td>...</td>\n",
       "      <td>...</td>\n",
       "      <td>...</td>\n",
       "      <td>...</td>\n",
       "      <td>...</td>\n",
       "      <td>...</td>\n",
       "      <td>...</td>\n",
       "    </tr>\n",
       "    <tr>\n",
       "      <th>105314</th>\n",
       "      <td>538073</td>\n",
       "      <td>22439</td>\n",
       "      <td>0</td>\n",
       "      <td>2016-12-09 14:10:00</td>\n",
       "      <td>23495.0</td>\n",
       "      <td>Shop 0</td>\n",
       "      <td>1</td>\n",
       "      <td>12</td>\n",
       "    </tr>\n",
       "    <tr>\n",
       "      <th>105315</th>\n",
       "      <td>543306</td>\n",
       "      <td>22898</td>\n",
       "      <td>0</td>\n",
       "      <td>2017-02-07 11:56:00</td>\n",
       "      <td>22365.0</td>\n",
       "      <td>Shop 0</td>\n",
       "      <td>1</td>\n",
       "      <td>2</td>\n",
       "    </tr>\n",
       "    <tr>\n",
       "      <th>105316</th>\n",
       "      <td>543013</td>\n",
       "      <td>22266</td>\n",
       "      <td>0</td>\n",
       "      <td>2017-02-02 13:35:00</td>\n",
       "      <td>0</td>\n",
       "      <td>Shop 0</td>\n",
       "      <td>0</td>\n",
       "      <td>2</td>\n",
       "    </tr>\n",
       "    <tr>\n",
       "      <th>105327</th>\n",
       "      <td>538349</td>\n",
       "      <td>22625</td>\n",
       "      <td>0</td>\n",
       "      <td>2016-12-10 14:59:00</td>\n",
       "      <td>0</td>\n",
       "      <td>Shop 0</td>\n",
       "      <td>0</td>\n",
       "      <td>12</td>\n",
       "    </tr>\n",
       "    <tr>\n",
       "      <th>105331</th>\n",
       "      <td>540247</td>\n",
       "      <td>21742</td>\n",
       "      <td>0</td>\n",
       "      <td>2017-01-05 15:56:00</td>\n",
       "      <td>21143.0</td>\n",
       "      <td>Shop 0</td>\n",
       "      <td>0</td>\n",
       "      <td>1</td>\n",
       "    </tr>\n",
       "  </tbody>\n",
       "</table>\n",
       "<p>32362 rows × 8 columns</p>\n",
       "</div>"
      ],
      "text/plain": [
       "       purchase_id item_id  quantity        purchasedate customer_id shop_id  \\\n",
       "1           538862   22195         0 2016-12-14 14:11:00     22389.0  Shop 0   \n",
       "3           543543   22271         0 2017-02-09 15:33:00     23522.0  Shop 0   \n",
       "4           543812   79321         0 2017-02-13 14:40:00     23151.0  Shop 0   \n",
       "5           538379   22965         0 2016-12-12 11:26:00     22805.0  Shop 0   \n",
       "6           540468   22189         0 2017-01-07 13:55:00           0  Shop 0   \n",
       "...            ...     ...       ...                 ...         ...     ...   \n",
       "105314      538073   22439         0 2016-12-09 14:10:00     23495.0  Shop 0   \n",
       "105315      543306   22898         0 2017-02-07 11:56:00     22365.0  Shop 0   \n",
       "105316      543013   22266         0 2017-02-02 13:35:00           0  Shop 0   \n",
       "105327      538349   22625         0 2016-12-10 14:59:00           0  Shop 0   \n",
       "105331      540247   21742         0 2017-01-05 15:56:00     21143.0  Shop 0   \n",
       "\n",
       "        loyalty_program  purchasemonth  \n",
       "1                     1             12  \n",
       "3                     1              2  \n",
       "4                     1              2  \n",
       "5                     1             12  \n",
       "6                     0              1  \n",
       "...                 ...            ...  \n",
       "105314                1             12  \n",
       "105315                1              2  \n",
       "105316                0              2  \n",
       "105327                0             12  \n",
       "105331                0              1  \n",
       "\n",
       "[32362 rows x 8 columns]"
      ]
     },
     "execution_count": 33,
     "metadata": {},
     "output_type": "execute_result"
    }
   ],
   "source": [
    "quantity = data.query('quantity == 0')\n",
    "\n",
    "quantity"
   ]
  },
  {
   "cell_type": "markdown",
   "id": "e3381772",
   "metadata": {},
   "source": [
    "33055 строк с нулевым количеством товаров в заказе, т.е. что-то пробито, но этого 0, а значит покупатели за это не заплатили."
   ]
  },
  {
   "cell_type": "code",
   "execution_count": 34,
   "id": "094ef713",
   "metadata": {},
   "outputs": [
    {
     "data": {
      "text/plain": [
       "purchase_id\n",
       "540862      1\n",
       "539461      1\n",
       "543821      1\n",
       "539473      1\n",
       "539482      1\n",
       "         ... \n",
       "537638    327\n",
       "536592    336\n",
       "537434    344\n",
       "538071    345\n",
       "538349    350\n",
       "Name: item_id, Length: 1739, dtype: int64"
      ]
     },
     "execution_count": 34,
     "metadata": {},
     "output_type": "execute_result"
    }
   ],
   "source": [
    "# Сгруппируем данные среза по покупкам и посчитаем количество id товаров. \n",
    "\n",
    "quantity.groupby('purchase_id')['item_id'].count().sort_values()"
   ]
  },
  {
   "cell_type": "markdown",
   "id": "7d526a32",
   "metadata": {},
   "source": [
    "Получается, что в одной и той же покупке может быть от 1 до 356 товаров с нулями, скорее всего это товары-бонусы, или товары идущие по акции 1+1, или 2+1. \n",
    "\n",
    "Возьмем произвольный заказ с нулевыми товарами в чеке - 536381 (с 13 нулевыми товарами), в котором посчитаем число уникальных id товаров и общее число id товаров."
   ]
  },
  {
   "cell_type": "code",
   "execution_count": 35,
   "id": "67703a55",
   "metadata": {},
   "outputs": [
    {
     "data": {
      "text/html": [
       "<div>\n",
       "<style scoped>\n",
       "    .dataframe tbody tr th:only-of-type {\n",
       "        vertical-align: middle;\n",
       "    }\n",
       "\n",
       "    .dataframe tbody tr th {\n",
       "        vertical-align: top;\n",
       "    }\n",
       "\n",
       "    .dataframe thead th {\n",
       "        text-align: right;\n",
       "    }\n",
       "</style>\n",
       "<table border=\"1\" class=\"dataframe\">\n",
       "  <thead>\n",
       "    <tr style=\"text-align: right;\">\n",
       "      <th></th>\n",
       "      <th>purchase_id</th>\n",
       "      <th>item_id</th>\n",
       "      <th>quantity</th>\n",
       "      <th>purchasedate</th>\n",
       "      <th>customer_id</th>\n",
       "      <th>shop_id</th>\n",
       "      <th>loyalty_program</th>\n",
       "      <th>purchasemonth</th>\n",
       "    </tr>\n",
       "  </thead>\n",
       "  <tbody>\n",
       "    <tr>\n",
       "      <th>3846</th>\n",
       "      <td>536381</td>\n",
       "      <td>22176</td>\n",
       "      <td>0</td>\n",
       "      <td>2016-12-01 09:41:00</td>\n",
       "      <td>20990.0</td>\n",
       "      <td>Shop 0</td>\n",
       "      <td>0</td>\n",
       "      <td>12</td>\n",
       "    </tr>\n",
       "    <tr>\n",
       "      <th>6244</th>\n",
       "      <td>536381</td>\n",
       "      <td>22438</td>\n",
       "      <td>0</td>\n",
       "      <td>2016-12-01 09:41:00</td>\n",
       "      <td>20990.0</td>\n",
       "      <td>Shop 0</td>\n",
       "      <td>0</td>\n",
       "      <td>12</td>\n",
       "    </tr>\n",
       "    <tr>\n",
       "      <th>7374</th>\n",
       "      <td>536381</td>\n",
       "      <td>37444C</td>\n",
       "      <td>0</td>\n",
       "      <td>2016-12-01 09:41:00</td>\n",
       "      <td>20990.0</td>\n",
       "      <td>Shop 0</td>\n",
       "      <td>0</td>\n",
       "      <td>12</td>\n",
       "    </tr>\n",
       "    <tr>\n",
       "      <th>16675</th>\n",
       "      <td>536381</td>\n",
       "      <td>21166</td>\n",
       "      <td>0</td>\n",
       "      <td>2016-12-01 09:41:00</td>\n",
       "      <td>20990.0</td>\n",
       "      <td>Shop 0</td>\n",
       "      <td>0</td>\n",
       "      <td>12</td>\n",
       "    </tr>\n",
       "    <tr>\n",
       "      <th>21083</th>\n",
       "      <td>536381</td>\n",
       "      <td>84832</td>\n",
       "      <td>0</td>\n",
       "      <td>2016-12-01 09:41:00</td>\n",
       "      <td>20990.0</td>\n",
       "      <td>Shop 0</td>\n",
       "      <td>0</td>\n",
       "      <td>12</td>\n",
       "    </tr>\n",
       "    <tr>\n",
       "      <th>51914</th>\n",
       "      <td>536381</td>\n",
       "      <td>22637</td>\n",
       "      <td>0</td>\n",
       "      <td>2016-12-01 09:41:00</td>\n",
       "      <td>20990.0</td>\n",
       "      <td>Shop 0</td>\n",
       "      <td>0</td>\n",
       "      <td>12</td>\n",
       "    </tr>\n",
       "    <tr>\n",
       "      <th>57894</th>\n",
       "      <td>536381</td>\n",
       "      <td>22261</td>\n",
       "      <td>0</td>\n",
       "      <td>2016-12-01 09:41:00</td>\n",
       "      <td>20990.0</td>\n",
       "      <td>Shop 0</td>\n",
       "      <td>0</td>\n",
       "      <td>12</td>\n",
       "    </tr>\n",
       "    <tr>\n",
       "      <th>58510</th>\n",
       "      <td>536381</td>\n",
       "      <td>22644</td>\n",
       "      <td>0</td>\n",
       "      <td>2016-12-01 09:41:00</td>\n",
       "      <td>20990.0</td>\n",
       "      <td>Shop 0</td>\n",
       "      <td>0</td>\n",
       "      <td>12</td>\n",
       "    </tr>\n",
       "    <tr>\n",
       "      <th>65553</th>\n",
       "      <td>536381</td>\n",
       "      <td>21533</td>\n",
       "      <td>0</td>\n",
       "      <td>2016-12-01 09:41:00</td>\n",
       "      <td>20990.0</td>\n",
       "      <td>Shop 0</td>\n",
       "      <td>0</td>\n",
       "      <td>12</td>\n",
       "    </tr>\n",
       "    <tr>\n",
       "      <th>88892</th>\n",
       "      <td>536381</td>\n",
       "      <td>71270</td>\n",
       "      <td>0</td>\n",
       "      <td>2016-12-01 09:41:00</td>\n",
       "      <td>20990.0</td>\n",
       "      <td>Shop 0</td>\n",
       "      <td>0</td>\n",
       "      <td>12</td>\n",
       "    </tr>\n",
       "    <tr>\n",
       "      <th>89981</th>\n",
       "      <td>536381</td>\n",
       "      <td>22262</td>\n",
       "      <td>0</td>\n",
       "      <td>2016-12-01 09:41:00</td>\n",
       "      <td>20990.0</td>\n",
       "      <td>Shop 0</td>\n",
       "      <td>0</td>\n",
       "      <td>12</td>\n",
       "    </tr>\n",
       "    <tr>\n",
       "      <th>97639</th>\n",
       "      <td>536381</td>\n",
       "      <td>22083</td>\n",
       "      <td>0</td>\n",
       "      <td>2016-12-01 09:41:00</td>\n",
       "      <td>20990.0</td>\n",
       "      <td>Shop 0</td>\n",
       "      <td>0</td>\n",
       "      <td>12</td>\n",
       "    </tr>\n",
       "    <tr>\n",
       "      <th>100695</th>\n",
       "      <td>536381</td>\n",
       "      <td>37444A</td>\n",
       "      <td>0</td>\n",
       "      <td>2016-12-01 09:41:00</td>\n",
       "      <td>20990.0</td>\n",
       "      <td>Shop 0</td>\n",
       "      <td>0</td>\n",
       "      <td>12</td>\n",
       "    </tr>\n",
       "  </tbody>\n",
       "</table>\n",
       "</div>"
      ],
      "text/plain": [
       "       purchase_id item_id  quantity        purchasedate customer_id shop_id  \\\n",
       "3846        536381   22176         0 2016-12-01 09:41:00     20990.0  Shop 0   \n",
       "6244        536381   22438         0 2016-12-01 09:41:00     20990.0  Shop 0   \n",
       "7374        536381  37444C         0 2016-12-01 09:41:00     20990.0  Shop 0   \n",
       "16675       536381   21166         0 2016-12-01 09:41:00     20990.0  Shop 0   \n",
       "21083       536381   84832         0 2016-12-01 09:41:00     20990.0  Shop 0   \n",
       "51914       536381   22637         0 2016-12-01 09:41:00     20990.0  Shop 0   \n",
       "57894       536381   22261         0 2016-12-01 09:41:00     20990.0  Shop 0   \n",
       "58510       536381   22644         0 2016-12-01 09:41:00     20990.0  Shop 0   \n",
       "65553       536381   21533         0 2016-12-01 09:41:00     20990.0  Shop 0   \n",
       "88892       536381   71270         0 2016-12-01 09:41:00     20990.0  Shop 0   \n",
       "89981       536381   22262         0 2016-12-01 09:41:00     20990.0  Shop 0   \n",
       "97639       536381   22083         0 2016-12-01 09:41:00     20990.0  Shop 0   \n",
       "100695      536381  37444A         0 2016-12-01 09:41:00     20990.0  Shop 0   \n",
       "\n",
       "        loyalty_program  purchasemonth  \n",
       "3846                  0             12  \n",
       "6244                  0             12  \n",
       "7374                  0             12  \n",
       "16675                 0             12  \n",
       "21083                 0             12  \n",
       "51914                 0             12  \n",
       "57894                 0             12  \n",
       "58510                 0             12  \n",
       "65553                 0             12  \n",
       "88892                 0             12  \n",
       "89981                 0             12  \n",
       "97639                 0             12  \n",
       "100695                0             12  "
      ]
     },
     "execution_count": 35,
     "metadata": {},
     "output_type": "execute_result"
    }
   ],
   "source": [
    "# Выведем все нулевые позиции из заказа 536381.\n",
    "\n",
    "quantity.query('purchase_id == \"536381\"')"
   ]
  },
  {
   "cell_type": "code",
   "execution_count": 36,
   "id": "ca170b1c",
   "metadata": {},
   "outputs": [
    {
     "data": {
      "text/plain": [
       "35"
      ]
     },
     "execution_count": 36,
     "metadata": {},
     "output_type": "execute_result"
    }
   ],
   "source": [
    "# Считаем общее количество товаров в данном заказе. \n",
    "\n",
    "df = data.query('purchase_id == \"536381\"')\n",
    "len(df['item_id'])"
   ]
  },
  {
   "cell_type": "code",
   "execution_count": 37,
   "id": "7823a405",
   "metadata": {},
   "outputs": [
    {
     "data": {
      "text/plain": [
       "34"
      ]
     },
     "execution_count": 37,
     "metadata": {},
     "output_type": "execute_result"
    }
   ],
   "source": [
    "# Считаем количество уникальных товаров в данном заказе.\n",
    "\n",
    "len(df['item_id'].unique())"
   ]
  },
  {
   "cell_type": "markdown",
   "id": "32007045",
   "metadata": {},
   "source": [
    "Всего в рассмотренном заказе 35 позиций, 34 из них имеют уникальные id, а значит, что кто-то купил 22 товара и 13 получил к ним бонусом. Если это действие программы лояльности, то на сколько это рентабельно пока остается вопросом.\n",
    "\n",
    "Нулевые значения в столбце с количеством товаров удалять мы не будем. "
   ]
  },
  {
   "cell_type": "markdown",
   "id": "025b4f8c",
   "metadata": {},
   "source": [
    "Посмотрим уникальные значения в столбце с purchase_id."
   ]
  },
  {
   "cell_type": "code",
   "execution_count": 38,
   "id": "a3d44ea3",
   "metadata": {},
   "outputs": [
    {
     "data": {
      "text/plain": [
       "array(['538280', '538862', '538855', ..., '540564', '542572', 'C541650'],\n",
       "      dtype=object)"
      ]
     },
     "execution_count": 38,
     "metadata": {},
     "output_type": "execute_result"
    }
   ],
   "source": [
    "data['purchase_id'].unique()"
   ]
  },
  {
   "cell_type": "code",
   "execution_count": 39,
   "id": "2c473571",
   "metadata": {},
   "outputs": [
    {
     "data": {
      "text/plain": [
       "4891"
      ]
     },
     "execution_count": 39,
     "metadata": {},
     "output_type": "execute_result"
    }
   ],
   "source": [
    "# Считаем уникальные значения в столбце purchase_id.\n",
    "\n",
    "len(data['purchase_id'].unique())"
   ]
  },
  {
   "cell_type": "markdown",
   "id": "3043cc00",
   "metadata": {},
   "source": [
    "Всего у нас 4891 покупка, из которых есть возвраты с маркером C перед номером заказа. Посчитаем количество возратов."
   ]
  },
  {
   "cell_type": "code",
   "execution_count": 40,
   "id": "206592f8",
   "metadata": {},
   "outputs": [
    {
     "data": {
      "text/plain": [
       "1017"
      ]
     },
     "execution_count": 40,
     "metadata": {},
     "output_type": "execute_result"
    }
   ],
   "source": [
    "# Считаем возвраты: строим срез, сохраняем в переменную, считаем количество уникальных id покупок.\n",
    "\n",
    "refund = data.query('quantity < 0')\n",
    "len(refund['purchase_id'].unique())"
   ]
  },
  {
   "cell_type": "code",
   "execution_count": 41,
   "id": "85c38fa6",
   "metadata": {},
   "outputs": [
    {
     "data": {
      "text/plain": [
       "20.79329380494786"
      ]
     },
     "execution_count": 41,
     "metadata": {},
     "output_type": "execute_result"
    }
   ],
   "source": [
    "# Считаем % возвратов.\n",
    "\n",
    "len(refund['purchase_id'].unique()) / len(data['purchase_id'].unique()) * 100"
   ]
  },
  {
   "cell_type": "markdown",
   "id": "a87845a1",
   "metadata": {},
   "source": [
    "На 4891 покупку приходится 1017 возвратов (20 %). Достаточно много, но для строительного магазина скорее всего это более-менее нормально, особенно если разрешен частичный возврат неиспользованных строительных материалов."
   ]
  },
  {
   "cell_type": "markdown",
   "id": "136d5e32",
   "metadata": {},
   "source": [
    "Посмотрим по каким товарам было больше всего возвратов.  "
   ]
  },
  {
   "cell_type": "code",
   "execution_count": 42,
   "id": "342aa5b6",
   "metadata": {},
   "outputs": [
    {
     "data": {
      "text/plain": [
       "item_id\n",
       "22423    55\n",
       "M        28\n",
       "22960    22\n",
       "POST     18\n",
       "21843    16\n",
       "         ..\n",
       "22348     1\n",
       "22351     1\n",
       "22353     1\n",
       "22359     1\n",
       "22593     1\n",
       "Name: purchase_id, Length: 949, dtype: int64"
      ]
     },
     "execution_count": 42,
     "metadata": {},
     "output_type": "execute_result"
    }
   ],
   "source": [
    "# Группируем возвраты по id и считаем количество покупок.\n",
    "\n",
    "refund.groupby('item_id')['purchase_id'].count().sort_values(ascending=False)"
   ]
  },
  {
   "cell_type": "markdown",
   "id": "a770cd76",
   "metadata": {},
   "source": [
    "Посчитаем количество покупок одного и того же товара. "
   ]
  },
  {
   "cell_type": "code",
   "execution_count": 43,
   "id": "f2ae539d",
   "metadata": {},
   "outputs": [
    {
     "data": {
      "text/plain": [
       "item_id\n",
       "85123A    561\n",
       "22423     497\n",
       "22469     412\n",
       "22720     375\n",
       "85099B    372\n",
       "22961     337\n",
       "22470     319\n",
       "22457     314\n",
       "22960     313\n",
       "20725     288\n",
       "21212     286\n",
       "22197     282\n",
       "22666     260\n",
       "22722     255\n",
       "84879     251\n",
       "21181     251\n",
       "84378     243\n",
       "22111     241\n",
       "21733     239\n",
       "22834     231\n",
       "Name: purchase_id, dtype: int64"
      ]
     },
     "execution_count": 43,
     "metadata": {},
     "output_type": "execute_result"
    }
   ],
   "source": [
    "# Группируем основной датасет по товарам и считаем количество покупок.\n",
    "\n",
    "data.groupby('item_id')['purchase_id'].count().sort_values(ascending=False).head(20)"
   ]
  },
  {
   "cell_type": "markdown",
   "id": "5b4ae6ec",
   "metadata": {},
   "source": [
    "Первый в топе по возвратам товар с id 22423, он же на втором месте по покупкам. % возврата по нему составляет 11%, в принципе не критично много. \n",
    "\n",
    "Дать какие-то определенные рекомендации по работе с возвратами без понимания какой это товар сложно, поэтому ограничимся тем, что количество возвратов не критичное. "
   ]
  },
  {
   "cell_type": "markdown",
   "id": "c42417da",
   "metadata": {},
   "source": [
    "Посмотрим сколько у нас уникальных id товаров в обеих таблицах. "
   ]
  },
  {
   "cell_type": "code",
   "execution_count": 44,
   "id": "5a0c9f14",
   "metadata": {},
   "outputs": [
    {
     "data": {
      "text/plain": [
       "3158"
      ]
     },
     "execution_count": 44,
     "metadata": {},
     "output_type": "execute_result"
    }
   ],
   "source": [
    "len(data['item_id'].unique())"
   ]
  },
  {
   "cell_type": "code",
   "execution_count": 45,
   "id": "8c0e2188",
   "metadata": {},
   "outputs": [
    {
     "data": {
      "text/plain": [
       "3159"
      ]
     },
     "execution_count": 45,
     "metadata": {},
     "output_type": "execute_result"
    }
   ],
   "source": [
    "len(price['item_id'].unique())"
   ]
  },
  {
   "cell_type": "markdown",
   "id": "f16d5e13",
   "metadata": {},
   "source": [
    "Количество id товаров в двух таблицах примерно равно. Скорее всего в таблице с ценами присутствует один товар, который не был ни разу продан, поэтому отсутствует в таблице с продажами. "
   ]
  },
  {
   "cell_type": "markdown",
   "id": "6ffc72a7",
   "metadata": {},
   "source": [
    "Посмотрим на уникальные значения item_id. "
   ]
  },
  {
   "cell_type": "code",
   "execution_count": 46,
   "id": "64a814d6",
   "metadata": {},
   "outputs": [
    {
     "data": {
      "text/plain": [
       "array(['m', 'gift_0001_50', 'gift_0001_40', 'gift_0001_30',\n",
       "       'gift_0001_20', 'S', 'POST', 'M', 'DOT', 'DCGSSGIRL', 'DCGSSBOY',\n",
       "       'DCGS0076', 'DCGS0074', 'DCGS0072', 'DCGS0070', 'DCGS0069',\n",
       "       'DCGS0057', 'DCGS0055', 'DCGS0003', 'D', 'C2', 'BANK CHARGES',\n",
       "       'AMAZONFEE', '90214Z', '90214Y', '90214W', '90214V', '90214T',\n",
       "       '90214S', '90214R', '90214P', '90214O', '90214N', '90214M',\n",
       "       '90214L', '90214K', '90214J', '90214I', '90214H', '90214G',\n",
       "       '90214F', '90214E', '90214D', '90214C', '90214B', '90214A',\n",
       "       '90212C', '90212B', '90211B', '90211A', '90210D', '90210C',\n",
       "       '90210B', '90210A', '90209C', '90209B', '90208', '90206C',\n",
       "       '90206A', '90205C', '90205A', '90204', '90202D', '90202C',\n",
       "       '90202B', '90202A', '90201D', '90201C', '90201B', '90201A',\n",
       "       '90200E', '90200D', '90200C', '90200B', '90200A', '90199D',\n",
       "       '90199C', '90199B', '90199A', '90198B', '90198A', '90197B',\n",
       "       '90196B', '90196A', '90195B', '90195A', '90194', '90192', '90191',\n",
       "       '90190C', '90190B', '90190A', '90188', '90187B', '90187A',\n",
       "       '90186B', '90186A', '90185D', '90185C', '90185B', '90185A',\n",
       "       '90184C', '90184B', '90184A', '90183C', '90183B', '90183A',\n",
       "       '90182C', '90181B', '90181A', '90180B', '90180A', '90179C',\n",
       "       '90179A', '90178B', '90178A', '90177E', '90177D', '90177C',\n",
       "       '90177B', '90177A', '90176C', '90176B', '90176A', '90175D',\n",
       "       '90175C', '90175B', '90175A', '90174', '90173', '90170', '90169',\n",
       "       '90168', '90167', '90166', '90165B', '90165A', '90164B', '90164A',\n",
       "       '90163B', '90163A', '90162D', '90162C', '90162B', '90161D',\n",
       "       '90161C', '90161B', '90161A', '90160D', '90160C', '90160B',\n",
       "       '90160A', '90158', '90157', '90156', '90155', '90154', '90152C',\n",
       "       '90152B', '90152A', '90151', '90148', '90147', '90146', '90145',\n",
       "       '90144', '90143', '90142D', '90142A', '90141D', '90141C', '90141B',\n",
       "       '90141A', '90140', '90138', '90137', '90136', '90135', '90134',\n",
       "       '90133', '90132', '90130D', '90130C', '90130B', '90129F', '90129E',\n",
       "       '90129D', '90129C', '90129B', '90129A', '90128D', '90128C',\n",
       "       '90128B', '90128A', '90126A', '90125E', '90125D', '90125C',\n",
       "       '90125B', '90125A', '90124B', '90124A', '90123D', '90123C',\n",
       "       '90123B', '90123A', '90122C', '90122B', '90122A', '90120D',\n",
       "       '90120C', '90120B', '90120A', '90119', '90118', '90116', '90115',\n",
       "       '90114', '90112', '90108', '90104', '90103', '90101', '90100',\n",
       "       '90099', '90098', '90096', '90095', '90094', '90093', '90092',\n",
       "       '90091', '90089', '90087', '90086', '90085', '90082D', '90082B',\n",
       "       '90082A', '90081C', '90081A', '90079', '90078', '90077', '90076',\n",
       "       '90074', '90073', '90072', '90071', '90070', '90067A', '90065A',\n",
       "       '90064B', '90064A', '90063B', '90063A', '90062', '90060F',\n",
       "       '90060D', '90060B', '90059F', '90059E', '90059D', '90059C',\n",
       "       '90059B', '90059A', '90058B', '90057', '90056', '90055', '90054',\n",
       "       '90053', '90051', '90050', '90042C', '90042B', '90042A', '90041',\n",
       "       '90040C', '90040B', '90040A', '90039D', '90039C', '90039B',\n",
       "       '90039A', '90038B', '90038A', '90037C', '90037B', '90037A',\n",
       "       '90036F', '90036E', '90036D', '90035A', '90034', '90033', '90032',\n",
       "       '90031', '90030C', '90030B', '90029', '90028', '90027D', '90027C',\n",
       "       '90027B', '90027A', '90026D', '90026C', '90026B', '90024F',\n",
       "       '90024E', '90024C', '90024B', '90023', '90022', '90019C', '90019B',\n",
       "       '90019A', '90018B', '90018A', '90016B', '90016A', '90014B',\n",
       "       '90014A', '90013D', '90013C', '90013B', '90013A', '90012B',\n",
       "       '90012A', '90011E', '90011D', '90011B', '90011A', '90010E',\n",
       "       '90010B', '90010A', '90005A', '90003E', '90003D', '90003C',\n",
       "       '90003B', '90002D', '90001D', '90001C', '90001A', '90000D',\n",
       "       '90000C', '90000B', '90000A', '85232D', '85232B', '85232A',\n",
       "       '85231g', '85231b', '85231G', '85231B', '85230G', '85230F',\n",
       "       '85230E', '85230B', '85230A', '85227', '85226A', '85216', '85215',\n",
       "       '85214', '85213', '85212', '85211', '85208', '85206B', '85206A',\n",
       "       '85205B', '85204', '85203', '85202', '85200', '85199S', '85199L',\n",
       "       '85198', '85197', '85195', '85194S', '85194L', '85189', '85188B',\n",
       "       '85188A', '85187', '85186C', '85186A', '85185D', '85185B',\n",
       "       '85184C', '85183B', '85183A', '85180B', '85180A', '85179C',\n",
       "       '85179B', '85179A', '85178', '85177', '85176', '85175', '85174',\n",
       "       '85173', '85172', '85170D', '85170C', '85170B', '85170A', '85169D',\n",
       "       '85169C', '85169B', '85169A', '85168B', '85167B', '85163B',\n",
       "       '85163A', '85161', '85160a', '85160B', '85160A', '85159B',\n",
       "       '85159A', '85152', '85150', '85146', '85144', '85141', '85136C',\n",
       "       '85136B', '85136A', '85135C', '85135B', '85135A', '85132a',\n",
       "       '85132C', '85132B', '85132A', '85131D', '85131C', '85131B',\n",
       "       '85131A', '85130D', '85130C', '85130B', '85130A', '85129D',\n",
       "       '85129C', '85129B', '85127', '85126', '85125', '85124C', '85124B',\n",
       "       '85123a', '85123A', '85119', '85118', '85116', '85114c', '85114b',\n",
       "       '85114a', '85114C', '85114B', '85114A', '85111', '85110', '85109',\n",
       "       '85107', '85106', '85104', '85103', '85099f', '85099F', '85099C',\n",
       "       '85099B', '85096', '85095', '85094', '85093', '85092', '85089',\n",
       "       '85088', '85087', '85086A', '85084', '85078', '85071D', '85071C',\n",
       "       '85071B', '85071A', '85068', '85067', '85066', '85065', '85064',\n",
       "       '85063', '85062', '85061W', '85059', '85055', '85054', '85053',\n",
       "       '85049g', '85049e', '85049a', '85049H', '85049G', '85049F',\n",
       "       '85049E', '85049D', '85049C', '85049B', '85049A', '85048', '85047',\n",
       "       '85045', '85044', '85042', '85040a', '85040B', '85040A', '85039a',\n",
       "       '85039C', '85039B', '85039A', '85038', '85036b', '85036C',\n",
       "       '85036B', '85036A', '85035c', '85035b', '85035a', '85035C',\n",
       "       '85035B', '85035A', '85034C', '85034B', '85034A', '85032D',\n",
       "       '85032C', '85032B', '85032A', '85031C', '85031B', '85031A',\n",
       "       '85028S', '85028L', '85027L', '85026B', '85025C', '85025B',\n",
       "       '85024C', '85024B', '85023C', '85023B', '85020', '85019C',\n",
       "       '85019B', '85019A', '85018D', '85018C', '85017C', '85017B',\n",
       "       '85017A', '85016', '85015', '85014b', '85014a', '85014B', '85014A',\n",
       "       '85008', '85006', '84997d', '84997c', '84997b', '84997a', '84997D',\n",
       "       '84997C', '84997B', '84997A', '84993a', '84993B', '84993A',\n",
       "       '84992', '84991', '84989a', '84989A', '84988', '84987', '84985A',\n",
       "       '84978', '84977', '84976', '84975', '84974', '84971S', '84970s',\n",
       "       '84970l', '84970S', '84970L', '84969', '84968f', '84968e',\n",
       "       '84968d', '84968a', '84968F', '84968E', '84968D', '84968C',\n",
       "       '84968B', '84968A', '84967B', '84967A', '84966B', '84966A',\n",
       "       '84964B', '84963A', '84952C', '84952B', '84952A', '84951B',\n",
       "       '84951A', '84950', '84949', '84947', '84946', '84945', '84944',\n",
       "       '84931B', '84931A', '84929', '84927F', '84927E', '84927D',\n",
       "       '84927A', '84926F', '84926E', '84926D', '84926A', '84925F',\n",
       "       '84925D', '84924A', '84923', '84922', '84921', '84920', '84919',\n",
       "       '84917', '84916', '84915', '84913B', '84913A', '84912B', '84912A',\n",
       "       '84910A', '84907', '84906', '84905', '84898F', '84884a', '84884A',\n",
       "       '84882', '84881', '84880', '84879', '84877D', '84877B', '84876D',\n",
       "       '84876B', '84875B', '84874B', '84872a', '84872A', '84870C',\n",
       "       '84870B', '84865', '84859C', '84859A', '84858C', '84857C',\n",
       "       '84856L', '84854', '84849D', '84849B', '84849A', '84847', '84846A',\n",
       "       '84843', '84840', '84836', '84832', '84828', '84827', '84826',\n",
       "       '84823', '84821', '84820', '84819', '84818', '84817', '84816',\n",
       "       '84813', '84809B', '84809A', '84806B', '84806A', '84805A',\n",
       "       '84804A', '84803A', '84802A', '84801B', '84801A', '84800S',\n",
       "       '84800M', '84800L', '84799', '84798B', '84798A', '84796a',\n",
       "       '84796B', '84796A', '84795b', '84795C', '84795B', '84792', '84789',\n",
       "       '84773', '84766', '84763', '84760S', '84755', '84754', '84751B',\n",
       "       '84750B', '84748', '84745B', '84745A', '84744', '84741C', '84725',\n",
       "       '84723', '84715', '84712B', '84711B', '84711A', '84709B', '84708B',\n",
       "       '84707B', '84707A', '84706D', '84692', '84691', '84689', '84688',\n",
       "       '84687', '84685', '84683', '84678', '84675', '84674', '84673B',\n",
       "       '84673A', '84670', '84666', '84665', '84664', '84663A', '84661C',\n",
       "       '84661B', '84661A', '84660c', '84660b', '84660C', '84660B',\n",
       "       '84660A', '84659A', '84658', '84638', '84637', '84632', '84631',\n",
       "       '84625C', '84625A', '84620', '84617', '84616', '84614A', '84613C',\n",
       "       '84613A', '84612B', '84611B', '84609', '84600', '84598', '84597C',\n",
       "       '84597B', '84596g', '84596f', '84596e', '84596b', '84596L',\n",
       "       '84596J', '84596G', '84596F', '84596E', '84596B', '84595E',\n",
       "       '84592', '84584', '84581', '84580', '84575A', '84569D', '84569B',\n",
       "       '84569A', '84568', '84563B', '84563A', '84562A', '84559b',\n",
       "       '84559a', '84559B', '84559A', '84558a', '84558A', '84546', '84539',\n",
       "       '84536b', '84536a', '84536B', '84536A', '84535B', '84534b',\n",
       "       '84534B', '84531B', '84531A', '84527', '84526', '84522', '84520B',\n",
       "       '84519B', '84519A', '84510c', '84510a', '84510E', '84510C',\n",
       "       '84510A', '84509c', '84509b', '84509a', '84509G', '84509F',\n",
       "       '84509E', '84509C', '84509B', '84509A', '84508C', '84508B',\n",
       "       '84508A', '84507C', '84507B', '84499', '84497', '84466', '84465',\n",
       "       '84462', '84461', '84459B', '84459A', '84457', '84455', '84452',\n",
       "       '84429A', '84424A', '84422', '84415B', '84406B', '84388', '84380',\n",
       "       '84378', '84375', '84360', '84358', '84356', '84352', '84347',\n",
       "       '84341B', '84313C', '84313B', '84306', '84279P', '84279B', '84270',\n",
       "       '84251G', '84251C', '84251B', '84249A', '84247N', '84247L',\n",
       "       '84247K', '84247G', '84247E', '84247C', '84231', '84228', '84227',\n",
       "       '84226', '84218', '84212', '84199', '84192', '84086C', '84078A',\n",
       "       '84077', '84051', '84050', '84033', '84032B', '84032A', '84031B',\n",
       "       '84031A', '84030e', '84030E', '84029G', '84029E', '84012', '84006',\n",
       "       '82616C', '82616B', '82615', '82613c', '82613b', '82613D',\n",
       "       '82613C', '82613B', '82613A', '82605', '82600', '82599', '82583',\n",
       "       '82582', '82581', '82580', '82578', '82567', '82552', '82551',\n",
       "       '82494l', '82494L', '82486', '82484', '82483', '82482', '82095',\n",
       "       '82011C', '82011B', '82011A', '82001s', '82001S', '81950V',\n",
       "       '79406', '79403', '79337', '79331', '79329', '79323W', '79323P',\n",
       "       '79323B', '79321', '79320', '79302M', '79192A', '79191D', '79191C',\n",
       "       '79191B', '79190D', '79190B', '79190A', '79164', '79163', '79160',\n",
       "       '79151B', '79149B', '79144C', '79144B', '79071B', '79067',\n",
       "       '79066k', '79066K', '79063D', '79063C', '79062D', '79051A',\n",
       "       '79030G', '79030D', '79000', '78124', '78034B', '77101A', '75178',\n",
       "       '75172', '75131', '75049L', '75013B', '75011', '72821', '72819',\n",
       "       '72818', '72817', '72816', '72815', '72814', '72812', '72807b',\n",
       "       '72807a', '72807C', '72807B', '72807A', '72803b', '72803B',\n",
       "       '72803A', '72802C', '72802B', '72802A', '72801d', '72801c',\n",
       "       '72801G', '72801D', '72801C', '72800E', '72800D', '72800C',\n",
       "       '72800B', '72799F', '72799E', '72799C', '72798C', '72780',\n",
       "       '72760B', '72741', '72709', '72598', '72586', '72369A', '72351a',\n",
       "       '72351B', '72351A', '72349b', '72349B', '72232', '72225C',\n",
       "       '72140E', '72134', '72133', '72132', '72131', '72130', '72128',\n",
       "       '72127', '72122', '72051S', '72038P', '71510', '71496B', '71496A',\n",
       "       '71495B', '71495A', '71477', '71459', '71406C', '71403', '71279',\n",
       "       '71270', '71215', '71143', '71101E', '71053', '71050', '71038',\n",
       "       '70007', '70006', '62096A', '62095B', '62094B', '62086A', '62074B',\n",
       "       '62018', '51020B', '51020A', '51014L', '51014C', '51014A', '51008',\n",
       "       '48194', '48189', '48188', '48187', '48185', '48184', '48173c',\n",
       "       '48173C', '48138', '48129', '48116', '48111', '47599B', '47599A',\n",
       "       '47594B', '47594A', '47593B', '47593A', '47591d', '47591D',\n",
       "       '47591B', '47590b', '47590B', '47590A', '47589', '47586A',\n",
       "       '47585A', '47580', '47579', '47578A', '47574A', '47570b', '47570B',\n",
       "       '47567B', '47566b', '47566B', '47566', '47563A', '47559b',\n",
       "       '47559B', '47556B', '47518f', '47518F', '47504K', '47504H',\n",
       "       '47503J', '47503H', '47503A', '47481', '47480', '47471', '47469',\n",
       "       '47422', '47421', '47420', '47369B', '47369A', '47367B', '47351B',\n",
       "       '47348A', '47343A', '47341A', '47310M', '47021G', '46776F',\n",
       "       '46776E', '46776D', '46776C', '46776B', '46776A', '46775D',\n",
       "       '46138B', '46118', '46115B', '46000U', '46000S', '46000R',\n",
       "       '46000P', '46000M', '45013', '44265', '44236', '44235', '44234',\n",
       "       '44228', '44092C', '44092B', '44091A', '44089C', '44089A',\n",
       "       '40046A', '40016', '40005B', '40003', '40001', '37509', '37503',\n",
       "       '37501', '37500', '37495', '37491D', '37491A', '37489D', '37489C',\n",
       "       '37489B', '37489A', '37482P', '37479P', '37479B', '37476', '37475',\n",
       "       '37474', '37468', '37467', '37464', '37462E', '37461', '37450',\n",
       "       '37449', '37448', '37447', '37446', '37444C', '37444B', '37444A',\n",
       "       '37413', '37379A', '37370', '37351', '37343', '37342', '37340',\n",
       "       '37333', '37327', '35991', '35972', '35971', '35970', '35969',\n",
       "       '35968', '35967', '35965', '35964', '35961', '35958', '35957',\n",
       "       '35954', '35953', '35951', '35933', '35924', '35923', '35922',\n",
       "       '35921', '35920', '35916C', '35916B', '35916A', '35915C', '35915B',\n",
       "       '35914', '35913B', '35912B', '35911B', '35911A', '35910A',\n",
       "       '35909B', '35909A', '35833P', '35833G', '35832', '35819B',\n",
       "       '35818P', '35817P', '35815P', '35810B', '35810A', '35809a',\n",
       "       '35809A', '35653', '35651', '35648', '35647', '35646', '35645',\n",
       "       '35644', '35638A', '35637C', '35637A', '35610C', '35610B',\n",
       "       '35610A', '35609A', '35607A', '35599D', '35599B', '35598D',\n",
       "       '35598B', '35597B', '35597A', '35591T', '35471D', '35443', '35400',\n",
       "       '35271S', '35265', '35241', '35095B', '35095A', '35004P', '35004G',\n",
       "       '35004C', '35004B', '35001W', '35001G', '23233', '23232', '23231',\n",
       "       '23230', '23006', '23005', '23004', '23003', '23002', '23000',\n",
       "       '22999', '22998', '22997', '22996', '22995', '22994', '22993',\n",
       "       '22992', '22991', '22990', '22989', '22988', '22986', '22985',\n",
       "       '22984', '22983', '22980', '22978', '22977', '22976', '22975',\n",
       "       '22974', '22973', '22972', '22971', '22970', '22969', '22968',\n",
       "       '22967', '22966', '22965', '22964', '22963', '22962', '22961',\n",
       "       '22960', '22959', '22957', '22956', '22955', '22954', '22953',\n",
       "       '22952', '22951', '22949', '22948', '22947', '22946', '22945',\n",
       "       '22944', '22943', '22942', '22941', '22940', '22939', '22938',\n",
       "       '22937', '22936', '22935', '22934', '22933', '22932', '22931',\n",
       "       '22930', '22929', '22928', '22927', '22926', '22925', '22924',\n",
       "       '22923', '22922', '22921', '22920', '22919', '22918', '22917',\n",
       "       '22916', '22915', '22914', '22913', '22912', '22911', '22910',\n",
       "       '22909', '22908', '22907', '22906', '22905', '22904', '22903',\n",
       "       '22902', '22900', '22899', '22898', '22897', '22896', '22895',\n",
       "       '22894', '22893', '22892', '22891', '22890', '22889', '22888',\n",
       "       '22887', '22886', '22885', '22884', '22883', '22882', '22881',\n",
       "       '22880', '22879', '22878', '22877', '22876', '22875', '22874',\n",
       "       '22873', '22872', '22871', '22870', '22869', '22868', '22867',\n",
       "       '22866', '22865', '22863', '22862', '22861', '22860', '22859',\n",
       "       '22858', '22857', '22856', '22855', '22854', '22853', '22852',\n",
       "       '22851', '22849', '22848', '22847', '22846', '22845', '22844',\n",
       "       '22843', '22842', '22841', '22840', '22839', '22838', '22837',\n",
       "       '22835', '22834', '22833', '22832', '22831', '22830', '22829',\n",
       "       '22828', '22827', '22826', '22825', '22824', '22823', '22822',\n",
       "       '22821', '22820', '22819', '22818', '22817', '22816', '22815',\n",
       "       '22814', '22813', '22812', '22811', '22810', '22809', '22808',\n",
       "       '22807', '22806', '22805', '22804', '22803', '22802', '22801',\n",
       "       '22800', '22799', '22798', '22797', '22796', '22795', '22794',\n",
       "       '22792', '22791', '22789', '22788', '22786', '22785', '22784',\n",
       "       '22783', '22782', '22781', '22780', '22779', '22778', '22777',\n",
       "       '22776', '22775', '22774', '22773', '22772', '22771', '22770',\n",
       "       '22769', '22768', '22767', '22766', '22765', '22764', '22763',\n",
       "       '22762', '22761', '22760', '22759', '22758', '22757', '22756',\n",
       "       '22755', '22754', '22753', '22752', '22751', '22750', '22749',\n",
       "       '22748', '22747', '22746', '22745', '22744', '22743', '22742',\n",
       "       '22741', '22740', '22739', '22738', '22737', '22736', '22735',\n",
       "       '22734', '22733', '22732', '22731', '22730', '22729', '22728',\n",
       "       '22727', '22726', '22725', '22723', '22722', '22721', '22720',\n",
       "       '22719', '22718', '22717', '22716', '22715', '22714', '22713',\n",
       "       '22712', '22711', '22710', '22709', '22708', '22707', '22706',\n",
       "       '22705', '22704', '22703', '22702', '22701', '22700', '22699',\n",
       "       '22698', '22697', '22696', '22695', '22694', '22693', '22692',\n",
       "       '22691', '22690', '22689', '22688', '22686', '22685', '22684',\n",
       "       '22683', '22682', '22681', '22680', '22679', '22678', '22677',\n",
       "       '22676', '22675', '22674', '22673', '22672', '22671', '22670',\n",
       "       '22669', '22668', '22667', '22666', '22665', '22664', '22663',\n",
       "       '22662', '22661', '22660', '22659', '22656', '22655', '22654',\n",
       "       '22653', '22652', '22651', '22650', '22649', '22647', '22646',\n",
       "       '22645', '22644', '22643', '22642', '22641', '22640', '22639',\n",
       "       '22638', '22637', '22636', '22635', '22634', '22633', '22632',\n",
       "       '22631', '22630', '22629', '22628', '22627', '22626', '22625',\n",
       "       '22624', '22623', '22622', '22621', '22620', '22619', '22618',\n",
       "       '22617', '22616', '22615', '22614', '22613', '22611', '22610',\n",
       "       '22609', '22608', '22607', '22606', '22605', '22604', '22603',\n",
       "       '22602', '22601', '22600', '22599', '22598', '22597', '22596',\n",
       "       '22595', '22594', '22593', '22592', '22591', '22589', '22588',\n",
       "       '22587', '22586', '22585', '22584', '22583', '22582', '22581',\n",
       "       '22580', '22579', '22578', '22577', '22576', '22575', '22574',\n",
       "       '22573', '22572', '22571', '22570', '22569', '22568', '22567',\n",
       "       '22566', '22565', '22564', '22563', '22562', '22561', '22560',\n",
       "       '22559', '22558', '22557', '22556', '22555', '22554', '22553',\n",
       "       '22551', '22550', '22549', '22548', '22547', '22546', '22545',\n",
       "       '22544', '22543', '22541', '22540', '22539', '22538', '22537',\n",
       "       '22536', '22535', '22534', '22533', '22532', '22531', '22530',\n",
       "       '22529', '22528', '22526', '22525', '22524', '22523', '22522',\n",
       "       '22521', '22520', '22519', '22518', '22517', '22516', '22515',\n",
       "       '22514', '22513', '22512', '22511', '22510', '22509', '22508',\n",
       "       '22507', '22505', '22504', '22503', '22502', '22501', '22500',\n",
       "       '22499', '22498', '22497', '22496', '22495', '22494', '22493',\n",
       "       '22492', '22491', '22489', '22488', '22487', '22486', '22485',\n",
       "       '22483', '22482', '22481', '22480', '22479', '22478', '22477',\n",
       "       '22476', '22475', '22474', '22473', '22472', '22471', '22470',\n",
       "       '22469', '22468', '22467', '22466', '22465', '22464', '22461',\n",
       "       '22460', '22459', '22458', '22457', '22456', '22454', '22453',\n",
       "       '22452', '22451', '22450', '22449', '22448', '22447', '22446',\n",
       "       '22445', '22444', '22443', '22442', '22441', '22440', '22439',\n",
       "       '22438', '22437', '22436', '22435', '22434', '22433', '22432',\n",
       "       '22431', '22430', '22429', '22428', '22427', '22426', '22425',\n",
       "       '22424', '22423', '22422', '22421', '22420', '22419', '22418',\n",
       "       '22417', '22416', '22415', '22414', '22413', '22412', '22411',\n",
       "       '22410', '22409', '22408', '22407', '22406', '22405', '22403',\n",
       "       '22402', '22400', '22399', '22398', '22396', '22395', '22394',\n",
       "       '22393', '22391', '22390', '22389', '22386', '22385', '22384',\n",
       "       '22383', '22382', '22381', '22380', '22379', '22378', '22377',\n",
       "       '22376', '22375', '22374', '22372', '22371', '22367', '22366',\n",
       "       '22365', '22364', '22363', '22362', '22361', '22360', '22359',\n",
       "       '22358', '22357', '22356', '22355', '22354', '22353', '22352',\n",
       "       '22351', '22350', '22349', '22348', '22346', '22345', '22344',\n",
       "       '22343', '22342', '22341', '22340', '22339', '22338', '22337',\n",
       "       '22336', '22335', '22334', '22333', '22332', '22331', '22329',\n",
       "       '22328', '22327', '22326', '22325', '22324', '22323', '22322',\n",
       "       '22321', '22320', '22319', '22318', '22317', '22316', '22315',\n",
       "       '22314', '22313', '22312', '22311', '22310', '22309', '22308',\n",
       "       '22307', '22306', '22305', '22304', '22303', '22302', '22301',\n",
       "       '22300', '22299', '22297', '22296', '22295', '22294', '22293',\n",
       "       '22292', '22291', '22289', '22288', '22287', '22286', '22285',\n",
       "       '22284', '22283', '22282', '22281', '22280', '22279', '22278',\n",
       "       '22277', '22276', '22275', '22274', '22273', '22272', '22271',\n",
       "       '22270', '22269', '22268', '22267', '22266', '22265', '22264',\n",
       "       '22263', '22262', '22261', '22260', '22259', '22258', '22257',\n",
       "       '22256', '22255', '22254', '22252', '22251', '22250', '22249',\n",
       "       '22248', '22247', '22246', '22245', '22244', '22243', '22242',\n",
       "       '22241', '22236', '22233', '22232', '22231', '22230', '22229',\n",
       "       '22228', '22227', '22224', '22223', '22222', '22221', '22220',\n",
       "       '22219', '22218', '22217', '22216', '22215', '22214', '22212',\n",
       "       '22211', '22210', '22209', '22208', '22207', '22206', '22204',\n",
       "       '22203', '22202', '22201', '22200', '22199', '22198', '22197',\n",
       "       '22196', '22195', '22194', '22193', '22192', '22191', '22190',\n",
       "       '22189', '22188', '22187', '22186', '22185', '22184', '22183',\n",
       "       '22182', '22181', '22180', '22179', '22178', '22176', '22175',\n",
       "       '22174', '22173', '22171', '22170', '22169', '22168', '22167',\n",
       "       '22166', '22165', '22164', '22163', '22162', '22161', '22158',\n",
       "       '22157', '22156', '22155', '22154', '22153', '22152', '22151',\n",
       "       '22150', '22149', '22148', '22147', '22146', '22145', '22144',\n",
       "       '22143', '22142', '22141', '22139', '22138', '22137', '22136',\n",
       "       '22135', '22134', '22133', '22132', '22131', '22130', '22129',\n",
       "       '22128', '22127', '22125', '22124', '22123', '22121', '22120',\n",
       "       '22119', '22118', '22117', '22116', '22115', '22114', '22113',\n",
       "       '22112', '22111', '22110', '22109', '22108', '22107', '22106',\n",
       "       '22105', '22104', '22103', '22102', '22101', '22100', '22099',\n",
       "       '22098', '22097', '22096', '22095', '22094', '22093', '22092',\n",
       "       '22091', '22090', '22089', '22088', '22087', '22086', '22085',\n",
       "       '22084', '22083', '22082', '22081', '22080', '22079', '22078',\n",
       "       '22077', '22076', '22075', '22074', '22073', '22072', '22071',\n",
       "       '22070', '22069', '22068', '22067', '22066', '22065', '22064',\n",
       "       '22063', '22062', '22061', '22060', '22059', '22057', '22055',\n",
       "       '22053', '22052', '22051', '22050', '22049', '22048', '22047',\n",
       "       '22046', '22045', '22044', '22043', '22042', '22041', '22040',\n",
       "       '22038', '22037', '22035', '22034', '22033', '22032', '22031',\n",
       "       '22030', '22029', '22028', '22027', '22026', '22025', '22024',\n",
       "       '22023', '22021', '21993', '21992', '21991', '21990', '21989',\n",
       "       '21988', '21987', '21986', '21985', '21984', '21983', '21982',\n",
       "       '21981', '21980', '21977', '21976', '21975', '21974', '21973',\n",
       "       '21972', '21967', '21955', '21949', '21948', '21947', '21946',\n",
       "       '21945', '21944', '21943', '21942', '21937', '21936', '21935',\n",
       "       '21934', '21933', '21932', '21931', '21930', '21929', '21928',\n",
       "       '21927', '21926', '21925', '21922', '21918', '21917', '21916',\n",
       "       '21915', '21914', '21913', '21912', '21911', '21910', '21908',\n",
       "       '21907', '21906', '21905', '21904', '21903', '21902', '21901',\n",
       "       '21900', '21899', '21898', '21897', '21896', '21895', '21894',\n",
       "       '21892', '21891', '21890', '21889', '21888', '21884', '21883',\n",
       "       '21882', '21881', '21880', '21879', '21878', '21877', '21876',\n",
       "       '21875', '21874', '21873', '21872', '21871', '21870', '21868',\n",
       "       '21867', '21866', '21865', '21864', '21851', '21850', '21849',\n",
       "       '21847', '21846', '21845', '21844', '21843', '21841', '21836',\n",
       "       '21833', '21832', '21830', '21829', '21828', '21827', '21826',\n",
       "       '21824', '21823', '21822', '21821', '21820', '21819', '21818',\n",
       "       '21817', '21816', '21815', '21814', '21813', '21812', '21811',\n",
       "       '21810', '21809', '21808', '21807', '21805', '21804', '21803',\n",
       "       '21802', '21801', '21794', '21793', '21792', '21791', '21790',\n",
       "       '21789', '21788', '21787', '21786', '21785', '21784', '21781',\n",
       "       '21777', '21775', '21774', '21773', '21769', '21763', '21761',\n",
       "       '21758', '21757', '21756', '21755', '21754', '21750', '21749',\n",
       "       '21747', '21746', '21745', '21744', '21743', '21742', '21741',\n",
       "       '21739', '21738', '21736', '21735', '21733', '21731', '21730',\n",
       "       '21726', '21725', '21724', '21723', '21722', '21721', '21720',\n",
       "       '21719', '21718', '21717', '21716', '21715', '21714', '21713',\n",
       "       '21711', '21710', '21709', '21708', '21707', '21706', '21705',\n",
       "       '21704', '21703', '21700', '21698', '21696', '21695', '21694',\n",
       "       '21693', '21692', '21690', '21689', '21688', '21686', '21684',\n",
       "       '21683', '21682', '21681', '21680', '21679', '21678', '21677',\n",
       "       '21676', '21675', '21673', '21672', '21671', '21670', '21669',\n",
       "       '21668', '21667', '21666', '21664', '21662', '21661', '21658',\n",
       "       '21657', '21656', '21655', '21654', '21653', '21651', '21650',\n",
       "       '21648', '21647', '21645', '21644', '21643', '21642', '21641',\n",
       "       '21640', '21638', '21636', '21635', '21634', '21633', '21632',\n",
       "       '21631', '21630', '21629', '21628', '21627', '21626', '21625',\n",
       "       '21624', '21623', '21622', '21621', '21620', '21619', '21618',\n",
       "       '21617', '21616', '21615', '21613', '21609', '21595', '21594',\n",
       "       '21592', '21591', '21589', '21588', '21587', '21586', '21584',\n",
       "       '21581', '21580', '21579', '21578', '21577', '21576', '21564',\n",
       "       '21563', '21562', '21561', '21559', '21558', '21557', '21556',\n",
       "       '21555', '21547', '21544', '21539', '21538', '21537', '21535',\n",
       "       '21534', '21533', '21531', '21530', '21528', '21527', '21524',\n",
       "       '21523', '21520', '21519', '21518', '21509', '21508', '21507',\n",
       "       '21506', '21504', '21503', '21500', '21499', '21498', '21497',\n",
       "       '21495', '21494', '21491', '21488', '21486', '21485', '21484',\n",
       "       '21481', '21479', '21476', '21473', '21472', '21471', '21470',\n",
       "       '21469', '21468', '21467', '21466', '21465', '21464', '21463',\n",
       "       '21462', '21461', '21460', '21459', '21458', '21457', '21456',\n",
       "       '21455', '21454', '21452', '21448', '21447', '21446', '21445',\n",
       "       '21442', '21441', '21439', '21431', '21430', '21429', '21428',\n",
       "       '21427', '21426', '21425', '21424', '21422', '21421', '21420',\n",
       "       '21418', '21417', '21416', '21415', '21414', '21413', '21412',\n",
       "       '21411', '21410', '21408', '21407', '21403', '21402', '21401',\n",
       "       '21400', '21399', '21398', '21397', '21394', '21393', '21392',\n",
       "       '21391', '21390', '21389', '21386', '21385', '21383', '21382',\n",
       "       '21381', '21380', '21379', '21378', '21377', '21376', '21375',\n",
       "       '21374', '21372', '21371', '21370', '21369', '21368', '21367',\n",
       "       '21366', '21365', '21364', '21363', '21361', '21360', '21359',\n",
       "       '21358', '21357', '21356', '21355', '21354', '21352', '21351',\n",
       "       '21349', '21348', '21344', '21340', '21336', '21333', '21332',\n",
       "       '21331', '21329', '21328', '21327', '21326', '21324', '21320',\n",
       "       '21319', '21318', '21317', '21316', '21314', '21313', '21311',\n",
       "       '21307', '21306', '21294', '21293', '21292', '21291', '21289',\n",
       "       '21288', '21287', '21286', '21285', '21284', '21282', '21281',\n",
       "       '21280', '21279', '21278', '21277', '21275', '21272', '21270',\n",
       "       '21269', '21268', '21265', '21264', '21263', '21262', '21261',\n",
       "       '21260', '21259', '21258', '21257', '21253', '21251', '21250',\n",
       "       '21249', '21248', '21246', '21245', '21244', '21243', '21242',\n",
       "       '21240', '21239', '21238', '21232', '21231', '21228', '21226',\n",
       "       '21224', '21222', '21221', '21220', '21219', '21218', '21217',\n",
       "       '21216', '21215', '21213', '21212', '21211', '21210', '21209',\n",
       "       '21208', '21207', '21206', '21205', '21204', '21202', '21201',\n",
       "       '21200', '21199', '21198', '21197', '21196', '21195', '21194',\n",
       "       '21192', '21191', '21190', '21189', '21188', '21187', '21186',\n",
       "       '21181', '21179', '21175', '21174', '21172', '21171', '21169',\n",
       "       '21167', '21166', '21165', '21164', '21163', '21162', '21161',\n",
       "       '21160', '21159', '21158', '21157', '21156', '21155', '21154',\n",
       "       '21147', '21145', '21144', '21143', '21137', '21136', '21135',\n",
       "       '21134', '21132', '21131', '21129', '21128', '21126', '21125',\n",
       "       '21124', '21123', '21122', '21121', '21120', '21117', '21116',\n",
       "       '21115', '21114', '21112', '21111', '21110', '21109', '21108',\n",
       "       '21107', '21106', '21100', '21098', '21096', '21095', '21094',\n",
       "       '21090', '21089', '21088', '21087', '21086', '21084', '21082',\n",
       "       '21080', '21078', '21071', '21070', '21069', '21068', '21067',\n",
       "       '21066', '21065', '21064', '21063', '21062', '21061', '21060',\n",
       "       '21059', '21058', '21056', '21055', '21054', '21051', '21043',\n",
       "       '21042', '21041', '21040', '21039', '21038', '21035', '21034',\n",
       "       '21033', '21032', '21031', '21030', '21028', '21027', '21026',\n",
       "       '21025', '21018', '21015', '21014', '21012', '21011', '21009',\n",
       "       '21003', '21002', '21001', '21000', '20998', '20996', '20992',\n",
       "       '20986', '20985', '20984', '20983', '20982', '20981', '20980',\n",
       "       '20979', '20978', '20977', '20975', '20974', '20973', '20972',\n",
       "       '20971', '20970', '20969', '20967', '20966', '20963', '20961',\n",
       "       '20960', '20957', '20956', '20954', '20950', '20941', '20936',\n",
       "       '20934', '20933', '20932', '20931', '20914', '20910', '20906',\n",
       "       '20903', '20902', '20898', '20897', '20894', '20893', '20892',\n",
       "       '20886', '20878', '20871', '20869', '20868', '20867', '20866',\n",
       "       '20864', '20861', '20860', '20857', '20856', '20854', '20851',\n",
       "       '20849', '20848', '20847', '20846', '20845', '20840', '20839',\n",
       "       '20837', '20835', '20832', '20831', '20830', '20829', '20828',\n",
       "       '20826', '20820', '20819', '20818', '20803', '20802', '20801',\n",
       "       '20798', '20795', '20794', '20793', '20785', '20782', '20781',\n",
       "       '20780', '20778', '20777', '20775', '20774', '20773', '20772',\n",
       "       '20771', '20770', '20769', '20768', '20767', '20766', '20765',\n",
       "       '20764', '20763', '20762', '20761', '20760', '20759', '20758',\n",
       "       '20757', '20756', '20755', '20754', '20752', '20751', '20750',\n",
       "       '20749', '20748', '20738', '20735', '20734', '20733', '20731',\n",
       "       '20728', '20727', '20726', '20725', '20724', '20723', '20719',\n",
       "       '20718', '20717', '20716', '20713', '20712', '20711', '20707',\n",
       "       '20705', '20704', '20703', '20702', '20701', '20700', '20699',\n",
       "       '20698', '20697', '20696', '20695', '20694', '20686', '20685',\n",
       "       '20684', '20682', '20681', '20679', '20677', '20676', '20675',\n",
       "       '20674', '20671', '20670', '20669', '20668', '20666', '20665',\n",
       "       '20664', '20663', '20662', '20661', '20659', '20658', '20657',\n",
       "       '20655', '20654', '20653', '20652', '20622', '20619', '20618',\n",
       "       '20617', '20616', '20615', '18098c', '18098C', '18097C', '18097A',\n",
       "       '18094C', '18007', '17174', '17165D', '17164B', '17136A', '17129F',\n",
       "       '17109D', '17107D', '17096', '17091J', '17091A', '17090D',\n",
       "       '17090A', '17084R', '17084P', '17084N', '17084J', '17084A',\n",
       "       '17038', '17028J', '17021', '17014A', '17013D', '17012F', '17012E',\n",
       "       '17012D', '17012C', '17012B', '17012A', '17011F', '17011A',\n",
       "       '17007B', '17003', '17001', '16258A', '16238', '16237', '16236',\n",
       "       '16235', '16225', '16219', '16218', '16216', '16207B', '16207A',\n",
       "       '16206B', '16202E', '16169P', '16169N', '16169M', '16169K',\n",
       "       '16168M', '16162L', '16161U', '16161P', '16161M', '16156S',\n",
       "       '16156L', '16054', '16052', '16048', '16046', '16045', '16033',\n",
       "       '16016', '16015', '16014', '16012', '16011', '16010', '16008',\n",
       "       '15060B', '15058C', '15058B', '15058A', '15056p', '15056n',\n",
       "       '15056bl', '15056P', '15056N', '15056BL', '15044D', '15044C',\n",
       "       '15044B', '15044A', '15039', '15036', '15034', '11001', '10135',\n",
       "       '10133', '10125', '10124G', '10124A', '10123C', '10120', '10080',\n",
       "       '10002'], dtype=object)"
      ]
     },
     "execution_count": 46,
     "metadata": {},
     "output_type": "execute_result"
    }
   ],
   "source": [
    "np.set_printoptions(threshold=9999)\n",
    "\n",
    "data['item_id'].sort_values(ascending=False).unique()"
   ]
  },
  {
   "cell_type": "code",
   "execution_count": 47,
   "id": "20c02ba0",
   "metadata": {
    "scrolled": true
   },
   "outputs": [
    {
     "data": {
      "text/plain": [
       "array(['m', 'gift_0001_50', 'gift_0001_40', 'gift_0001_30',\n",
       "       'gift_0001_20', 'S', 'POST', 'M', 'DOT', 'DCGSSGIRL', 'DCGSSBOY',\n",
       "       'DCGS0076', 'DCGS0074', 'DCGS0072', 'DCGS0070', 'DCGS0069',\n",
       "       'DCGS0057', 'DCGS0055', 'DCGS0003', 'D', 'C2', 'BANK CHARGES',\n",
       "       'AMAZONFEE', '90214Z', '90214Y', '90214W', '90214V', '90214T',\n",
       "       '90214S', '90214R', '90214P', '90214O', '90214N', '90214M',\n",
       "       '90214L', '90214K', '90214J', '90214I', '90214H', '90214G',\n",
       "       '90214F', '90214E', '90214D', '90214C', '90214B', '90214A',\n",
       "       '90212C', '90212B', '90211B', '90211A', '90210D', '90210C',\n",
       "       '90210B', '90210A', '90209C', '90209B', '90208', '90206C',\n",
       "       '90206A', '90205C', '90205A', '90204', '90202D', '90202C',\n",
       "       '90202B', '90202A', '90201D', '90201C', '90201B', '90201A',\n",
       "       '90200E', '90200D', '90200C', '90200B', '90200A', '90199D',\n",
       "       '90199C', '90199B', '90199A', '90198B', '90198A', '90197B',\n",
       "       '90196B', '90196A', '90195B', '90195A', '90194', '90192', '90191',\n",
       "       '90190C', '90190B', '90190A', '90188', '90187B', '90187A',\n",
       "       '90186B', '90186A', '90185D', '90185C', '90185B', '90185A',\n",
       "       '90184C', '90184B', '90184A', '90183C', '90183B', '90183A',\n",
       "       '90182C', '90181B', '90181A', '90180B', '90180A', '90179C',\n",
       "       '90179A', '90178B', '90178A', '90177E', '90177D', '90177C',\n",
       "       '90177B', '90177A', '90176C', '90176B', '90176A', '90175D',\n",
       "       '90175C', '90175B', '90175A', '90174', '90173', '90170', '90169',\n",
       "       '90168', '90167', '90166', '90165B', '90165A', '90164B', '90164A',\n",
       "       '90163B', '90163A', '90162D', '90162C', '90162B', '90161D',\n",
       "       '90161C', '90161B', '90161A', '90160D', '90160C', '90160B',\n",
       "       '90160A', '90158', '90157', '90156', '90155', '90154', '90152C',\n",
       "       '90152B', '90152A', '90151', '90148', '90147', '90146', '90145',\n",
       "       '90144', '90143', '90142D', '90142A', '90141D', '90141C', '90141B',\n",
       "       '90141A', '90140', '90138', '90137', '90136', '90135', '90134',\n",
       "       '90133', '90132', '90130D', '90130C', '90130B', '90129F', '90129E',\n",
       "       '90129D', '90129C', '90129B', '90129A', '90128D', '90128C',\n",
       "       '90128B', '90128A', '90126A', '90125E', '90125D', '90125C',\n",
       "       '90125B', '90125A', '90124B', '90124A', '90123D', '90123C',\n",
       "       '90123B', '90123A', '90122C', '90122B', '90122A', '90120D',\n",
       "       '90120C', '90120B', '90120A', '90119', '90118', '90116', '90115',\n",
       "       '90114', '90112', '90108', '90104', '90103', '90101', '90100',\n",
       "       '90099', '90098', '90096', '90095', '90094', '90093', '90092',\n",
       "       '90091', '90089', '90087', '90086', '90085', '90082D', '90082B',\n",
       "       '90082A', '90081C', '90081A', '90079', '90078', '90077', '90076',\n",
       "       '90074', '90073', '90072', '90071', '90070', '90067A', '90065A',\n",
       "       '90064B', '90064A', '90063B', '90063A', '90062', '90060F',\n",
       "       '90060D', '90060B', '90059F', '90059E', '90059D', '90059C',\n",
       "       '90059B', '90059A', '90058B', '90057', '90056', '90055', '90054',\n",
       "       '90053', '90051', '90050', '90042C', '90042B', '90042A', '90041',\n",
       "       '90040C', '90040B', '90040A', '90039D', '90039C', '90039B',\n",
       "       '90039A', '90038B', '90038A', '90037C', '90037B', '90037A',\n",
       "       '90036F', '90036E', '90036D', '90035A', '90034', '90033', '90032',\n",
       "       '90031', '90030C', '90030B', '90029', '90028', '90027D', '90027C',\n",
       "       '90027B', '90027A', '90026D', '90026C', '90026B', '90024F',\n",
       "       '90024E', '90024C', '90024B', '90023', '90022', '90019C', '90019B',\n",
       "       '90019A', '90018B', '90018A', '90016B', '90016A', '90014B',\n",
       "       '90014A', '90013D', '90013C', '90013B', '90013A', '90012B',\n",
       "       '90012A', '90011E', '90011D', '90011B', '90011A', '90010E',\n",
       "       '90010B', '90010A', '90005A', '90003E', '90003D', '90003C',\n",
       "       '90003B', '90002D', '90001D', '90001C', '90001A', '90000D',\n",
       "       '90000C', '90000B', '90000A', '85232D', '85232B', '85232A',\n",
       "       '85231g', '85231b', '85231G', '85231B', '85230G', '85230F',\n",
       "       '85230E', '85230B', '85230A', '85227', '85226A', '85216', '85215',\n",
       "       '85214', '85213', '85212', '85211', '85208', '85206B', '85206A',\n",
       "       '85205B', '85204', '85203', '85202', '85200', '85199S', '85199L',\n",
       "       '85198', '85197', '85195', '85194S', '85194L', '85189', '85188B',\n",
       "       '85188A', '85187', '85186C', '85186A', '85185D', '85185B',\n",
       "       '85184C', '85183B', '85183A', '85180B', '85180A', '85179C',\n",
       "       '85179B', '85179A', '85178', '85177', '85176', '85175', '85174',\n",
       "       '85173', '85172', '85170D', '85170C', '85170B', '85170A', '85169D',\n",
       "       '85169C', '85169B', '85169A', '85168B', '85167B', '85163B',\n",
       "       '85163A', '85161', '85160a', '85160B', '85160A', '85159B',\n",
       "       '85159A', '85152', '85150', '85146', '85144', '85141', '85136C',\n",
       "       '85136B', '85136A', '85135C', '85135B', '85135A', '85132a',\n",
       "       '85132C', '85132B', '85132A', '85131D', '85131C', '85131B',\n",
       "       '85131A', '85130D', '85130C', '85130B', '85130A', '85129D',\n",
       "       '85129C', '85129B', '85127', '85126', '85125', '85124C', '85124B',\n",
       "       '85123a', '85123A', '85119', '85118', '85116', '85114c', '85114b',\n",
       "       '85114a', '85114C', '85114B', '85114A', '85111', '85110', '85109',\n",
       "       '85107', '85106', '85104', '85103', '85099f', '85099F', '85099C',\n",
       "       '85099B', '85096', '85095', '85094', '85093', '85092', '85089',\n",
       "       '85088', '85087', '85086A', '85084', '85078', '85071D', '85071C',\n",
       "       '85071B', '85071A', '85068', '85067', '85066', '85065', '85064',\n",
       "       '85063', '85062', '85061W', '85059', '85055', '85054', '85053',\n",
       "       '85049g', '85049e', '85049a', '85049H', '85049G', '85049F',\n",
       "       '85049E', '85049D', '85049C', '85049B', '85049A', '85048', '85047',\n",
       "       '85045', '85044', '85042', '85040a', '85040B', '85040A', '85039a',\n",
       "       '85039C', '85039B', '85039A', '85038', '85036b', '85036C',\n",
       "       '85036B', '85036A', '85035c', '85035b', '85035a', '85035C',\n",
       "       '85035B', '85035A', '85034C', '85034B', '85034A', '85032D',\n",
       "       '85032C', '85032B', '85032A', '85031C', '85031B', '85031A',\n",
       "       '85028S', '85028L', '85027L', '85026B', '85025C', '85025B',\n",
       "       '85024C', '85024B', '85023C', '85023B', '85020', '85019C',\n",
       "       '85019B', '85019A', '85018D', '85018C', '85017C', '85017B',\n",
       "       '85017A', '85016', '85015', '85014b', '85014a', '85014B', '85014A',\n",
       "       '85008', '85006', '84997d', '84997c', '84997b', '84997a', '84997D',\n",
       "       '84997C', '84997B', '84997A', '84993a', '84993B', '84993A',\n",
       "       '84992', '84991', '84989a', '84989A', '84988', '84987', '84985A',\n",
       "       '84978', '84977', '84976', '84975', '84974', '84971S', '84970s',\n",
       "       '84970l', '84970S', '84970L', '84969', '84968f', '84968e',\n",
       "       '84968d', '84968a', '84968F', '84968E', '84968D', '84968C',\n",
       "       '84968B', '84968A', '84967B', '84967A', '84966B', '84966A',\n",
       "       '84964B', '84963A', '84952C', '84952B', '84952A', '84951B',\n",
       "       '84951A', '84950', '84949', '84947', '84946', '84945', '84944',\n",
       "       '84931B', '84931A', '84929', '84927F', '84927E', '84927D',\n",
       "       '84927A', '84926F', '84926E', '84926D', '84926A', '84925F',\n",
       "       '84925D', '84924A', '84923', '84922', '84921', '84920', '84919',\n",
       "       '84917', '84916', '84915', '84913B', '84913A', '84912B', '84912A',\n",
       "       '84910A', '84907', '84906', '84905', '84898F', '84884a', '84884A',\n",
       "       '84882', '84881', '84880', '84879', '84877D', '84877B', '84876D',\n",
       "       '84876B', '84875B', '84874B', '84872a', '84872A', '84870C',\n",
       "       '84870B', '84865', '84859C', '84859A', '84858C', '84857C',\n",
       "       '84856L', '84854', '84849D', '84849B', '84849A', '84847', '84846A',\n",
       "       '84843', '84840', '84836', '84832', '84828', '84827', '84826',\n",
       "       '84823', '84821', '84820', '84819', '84818', '84817', '84816',\n",
       "       '84813', '84809B', '84809A', '84806B', '84806A', '84805A',\n",
       "       '84804A', '84803A', '84802A', '84801B', '84801A', '84800S',\n",
       "       '84800M', '84800L', '84799', '84798B', '84798A', '84796a',\n",
       "       '84796B', '84796A', '84795b', '84795C', '84795B', '84792', '84789',\n",
       "       '84773', '84766', '84763', '84760S', '84755', '84754', '84751B',\n",
       "       '84750B', '84748', '84745B', '84745A', '84744', '84741C', '84725',\n",
       "       '84723', '84715', '84712B', '84711B', '84711A', '84709B', '84708B',\n",
       "       '84707B', '84707A', '84706D', '84692', '84691', '84689', '84688',\n",
       "       '84687', '84685', '84683', '84678', '84675', '84674', '84673B',\n",
       "       '84673A', '84670', '84666', '84665', '84664', '84663A', '84661C',\n",
       "       '84661B', '84661A', '84660c', '84660b', '84660C', '84660B',\n",
       "       '84660A', '84659A', '84658', '84638', '84637', '84632', '84631',\n",
       "       '84625C', '84625A', '84620', '84617', '84616', '84614A', '84613C',\n",
       "       '84613A', '84612B', '84611B', '84609', '84600', '84598', '84597C',\n",
       "       '84597B', '84596g', '84596f', '84596e', '84596b', '84596L',\n",
       "       '84596J', '84596G', '84596F', '84596E', '84596B', '84595E',\n",
       "       '84592', '84584', '84581', '84580', '84575A', '84569D', '84569B',\n",
       "       '84569A', '84568', '84563B', '84563A', '84562A', '84559b',\n",
       "       '84559a', '84559B', '84559A', '84558a', '84558A', '84546', '84539',\n",
       "       '84536b', '84536a', '84536B', '84536A', '84535B', '84534b',\n",
       "       '84534B', '84531B', '84531A', '84527', '84526', '84522', '84520B',\n",
       "       '84519B', '84519A', '84510c', '84510a', '84510E', '84510C',\n",
       "       '84510A', '84509c', '84509b', '84509a', '84509G', '84509F',\n",
       "       '84509E', '84509C', '84509B', '84509A', '84508C', '84508B',\n",
       "       '84508A', '84507C', '84507B', '84499', '84497', '84466', '84465',\n",
       "       '84462', '84461', '84459B', '84459A', '84457', '84455', '84452',\n",
       "       '84429A', '84424A', '84422', '84415B', '84406B', '84388', '84380',\n",
       "       '84378', '84375', '84360', '84358', '84356', '84352', '84347',\n",
       "       '84341B', '84313C', '84313B', '84306', '84279P', '84279B', '84270',\n",
       "       '84251G', '84251C', '84251B', '84249A', '84247N', '84247L',\n",
       "       '84247K', '84247G', '84247E', '84247C', '84231', '84228', '84227',\n",
       "       '84226', '84218', '84212', '84199', '84192', '84086C', '84078A',\n",
       "       '84077', '84051', '84050', '84033', '84032B', '84032A', '84031B',\n",
       "       '84031A', '84030e', '84030E', '84029G', '84029E', '84012', '84006',\n",
       "       '82616C', '82616B', '82615', '82613c', '82613b', '82613D',\n",
       "       '82613C', '82613B', '82613A', '82605', '82600', '82599', '82583',\n",
       "       '82582', '82581', '82580', '82578', '82567', '82552', '82551',\n",
       "       '82494l', '82494L', '82486', '82484', '82483', '82482', '82095',\n",
       "       '82011C', '82011B', '82011A', '82001s', '82001S', '81950V',\n",
       "       '79406', '79403', '79337', '79331', '79329', '79323W', '79323P',\n",
       "       '79323B', '79321', '79320', '79302M', '79192A', '79191D', '79191C',\n",
       "       '79191B', '79190D', '79190B', '79190A', '79164', '79163', '79160',\n",
       "       '79151B', '79149B', '79144C', '79144B', '79071B', '79067',\n",
       "       '79066k', '79066K', '79063D', '79063C', '79062D', '79051A',\n",
       "       '79030G', '79030D', '79000', '78124', '78034B', '77101A', '75178',\n",
       "       '75172', '75131', '75049L', '75013B', '75011', '72821', '72819',\n",
       "       '72818', '72817', '72816', '72815', '72814', '72812', '72807b',\n",
       "       '72807a', '72807C', '72807B', '72807A', '72803b', '72803B',\n",
       "       '72803A', '72802C', '72802B', '72802A', '72801d', '72801c',\n",
       "       '72801G', '72801D', '72801C', '72800E', '72800D', '72800C',\n",
       "       '72800B', '72799F', '72799E', '72799C', '72798C', '72780',\n",
       "       '72760B', '72741', '72709', '72598', '72586', '72369A', '72351a',\n",
       "       '72351B', '72351A', '72349b', '72349B', '72232', '72225C',\n",
       "       '72140E', '72134', '72133', '72132', '72131', '72130', '72128',\n",
       "       '72127', '72122', '72051S', '72038P', '71510', '71496B', '71496A',\n",
       "       '71495B', '71495A', '71477', '71459', '71406C', '71403', '71279',\n",
       "       '71270', '71215', '71143', '71101E', '71053', '71050', '71038',\n",
       "       '70007', '70006', '62096A', '62095B', '62094B', '62086A', '62074B',\n",
       "       '62018', '51020B', '51020A', '51014L', '51014C', '51014A', '51008',\n",
       "       '48194', '48189', '48188', '48187', '48185', '48184', '48173c',\n",
       "       '48173C', '48138', '48129', '48116', '48111', '47599B', '47599A',\n",
       "       '47594B', '47594A', '47593B', '47593A', '47591d', '47591D',\n",
       "       '47591B', '47590b', '47590B', '47590A', '47589', '47586A',\n",
       "       '47585A', '47580', '47579', '47578A', '47574A', '47570b', '47570B',\n",
       "       '47567B', '47566b', '47566B', '47566', '47563A', '47559b',\n",
       "       '47559B', '47556B', '47518f', '47518F', '47504K', '47504H',\n",
       "       '47503J', '47503H', '47503A', '47481', '47480', '47471', '47469',\n",
       "       '47422', '47421', '47420', '47369B', '47369A', '47367B', '47351B',\n",
       "       '47348A', '47343A', '47341A', '47310M', '47021G', '46776F',\n",
       "       '46776E', '46776D', '46776C', '46776B', '46776A', '46775D',\n",
       "       '46138B', '46118', '46115B', '46000U', '46000S', '46000R',\n",
       "       '46000P', '46000M', '45013', '44265', '44236', '44235', '44234',\n",
       "       '44228', '44092C', '44092B', '44091A', '44089C', '44089A',\n",
       "       '40046A', '40016', '40005B', '40003', '40001', '37509', '37503',\n",
       "       '37501', '37500', '37495', '37491D', '37491A', '37489D', '37489C',\n",
       "       '37489B', '37489A', '37482P', '37479P', '37479B', '37476', '37475',\n",
       "       '37474', '37468', '37467', '37464', '37462E', '37461', '37450',\n",
       "       '37449', '37448', '37447', '37446', '37444C', '37444B', '37444A',\n",
       "       '37413', '37379A', '37370', '37351', '37343', '37342', '37340',\n",
       "       '37333', '37327', '35991', '35972', '35971', '35970', '35969',\n",
       "       '35968', '35967', '35965', '35964', '35961', '35958', '35957',\n",
       "       '35954', '35953', '35951', '35933', '35924', '35923', '35922',\n",
       "       '35921', '35920', '35916C', '35916B', '35916A', '35915C', '35915B',\n",
       "       '35914', '35913B', '35912B', '35911B', '35911A', '35910A',\n",
       "       '35909B', '35909A', '35833P', '35833G', '35832', '35819B',\n",
       "       '35818P', '35817P', '35815P', '35810B', '35810A', '35809a',\n",
       "       '35809A', '35653', '35651', '35648', '35647', '35646', '35645',\n",
       "       '35644', '35638A', '35637C', '35637A', '35610C', '35610B',\n",
       "       '35610A', '35609A', '35607A', '35599D', '35599B', '35598D',\n",
       "       '35598B', '35597B', '35597A', '35591T', '35471D', '35443', '35400',\n",
       "       '35271S', '35265', '35241', '35095B', '35095A', '35004P', '35004G',\n",
       "       '35004C', '35004B', '35001W', '35001G', '23233', '23232', '23231',\n",
       "       '23230', '23166', '23006', '23005', '23004', '23003', '23002',\n",
       "       '23000', '22999', '22998', '22997', '22996', '22995', '22994',\n",
       "       '22993', '22992', '22991', '22990', '22989', '22988', '22986',\n",
       "       '22985', '22984', '22983', '22980', '22978', '22977', '22976',\n",
       "       '22975', '22974', '22973', '22972', '22971', '22970', '22969',\n",
       "       '22968', '22967', '22966', '22965', '22964', '22963', '22962',\n",
       "       '22961', '22960', '22959', '22957', '22956', '22955', '22954',\n",
       "       '22953', '22952', '22951', '22949', '22948', '22947', '22946',\n",
       "       '22945', '22944', '22943', '22942', '22941', '22940', '22939',\n",
       "       '22938', '22937', '22936', '22935', '22934', '22933', '22932',\n",
       "       '22931', '22930', '22929', '22928', '22927', '22926', '22925',\n",
       "       '22924', '22923', '22922', '22921', '22920', '22919', '22918',\n",
       "       '22917', '22916', '22915', '22914', '22913', '22912', '22911',\n",
       "       '22910', '22909', '22908', '22907', '22906', '22905', '22904',\n",
       "       '22903', '22902', '22900', '22899', '22898', '22897', '22896',\n",
       "       '22895', '22894', '22893', '22892', '22891', '22890', '22889',\n",
       "       '22888', '22887', '22886', '22885', '22884', '22883', '22882',\n",
       "       '22881', '22880', '22879', '22878', '22877', '22876', '22875',\n",
       "       '22874', '22873', '22872', '22871', '22870', '22869', '22868',\n",
       "       '22867', '22866', '22865', '22863', '22862', '22861', '22860',\n",
       "       '22859', '22858', '22857', '22856', '22855', '22854', '22853',\n",
       "       '22852', '22851', '22849', '22848', '22847', '22846', '22845',\n",
       "       '22844', '22843', '22842', '22841', '22840', '22839', '22838',\n",
       "       '22837', '22835', '22834', '22833', '22832', '22831', '22830',\n",
       "       '22829', '22828', '22827', '22826', '22825', '22824', '22823',\n",
       "       '22822', '22821', '22820', '22819', '22818', '22817', '22816',\n",
       "       '22815', '22814', '22813', '22812', '22811', '22810', '22809',\n",
       "       '22808', '22807', '22806', '22805', '22804', '22803', '22802',\n",
       "       '22801', '22800', '22799', '22798', '22797', '22796', '22795',\n",
       "       '22794', '22792', '22791', '22789', '22788', '22786', '22785',\n",
       "       '22784', '22783', '22782', '22781', '22780', '22779', '22778',\n",
       "       '22777', '22776', '22775', '22774', '22773', '22772', '22771',\n",
       "       '22770', '22769', '22768', '22767', '22766', '22765', '22764',\n",
       "       '22763', '22762', '22761', '22760', '22759', '22758', '22757',\n",
       "       '22756', '22755', '22754', '22753', '22752', '22751', '22750',\n",
       "       '22749', '22748', '22747', '22746', '22745', '22744', '22743',\n",
       "       '22742', '22741', '22740', '22739', '22738', '22737', '22736',\n",
       "       '22735', '22734', '22733', '22732', '22731', '22730', '22729',\n",
       "       '22728', '22727', '22726', '22725', '22723', '22722', '22721',\n",
       "       '22720', '22719', '22718', '22717', '22716', '22715', '22714',\n",
       "       '22713', '22712', '22711', '22710', '22709', '22708', '22707',\n",
       "       '22706', '22705', '22704', '22703', '22702', '22701', '22700',\n",
       "       '22699', '22698', '22697', '22696', '22695', '22694', '22693',\n",
       "       '22692', '22691', '22690', '22689', '22688', '22686', '22685',\n",
       "       '22684', '22683', '22682', '22681', '22680', '22679', '22678',\n",
       "       '22677', '22676', '22675', '22674', '22673', '22672', '22671',\n",
       "       '22670', '22669', '22668', '22667', '22666', '22665', '22664',\n",
       "       '22663', '22662', '22661', '22660', '22659', '22656', '22655',\n",
       "       '22654', '22653', '22652', '22651', '22650', '22649', '22647',\n",
       "       '22646', '22645', '22644', '22643', '22642', '22641', '22640',\n",
       "       '22639', '22638', '22637', '22636', '22635', '22634', '22633',\n",
       "       '22632', '22631', '22630', '22629', '22628', '22627', '22626',\n",
       "       '22625', '22624', '22623', '22622', '22621', '22620', '22619',\n",
       "       '22618', '22617', '22616', '22615', '22614', '22613', '22611',\n",
       "       '22610', '22609', '22608', '22607', '22606', '22605', '22604',\n",
       "       '22603', '22602', '22601', '22600', '22599', '22598', '22597',\n",
       "       '22596', '22595', '22594', '22593', '22592', '22591', '22589',\n",
       "       '22588', '22587', '22586', '22585', '22584', '22583', '22582',\n",
       "       '22581', '22580', '22579', '22578', '22577', '22576', '22575',\n",
       "       '22574', '22573', '22572', '22571', '22570', '22569', '22568',\n",
       "       '22567', '22566', '22565', '22564', '22563', '22562', '22561',\n",
       "       '22560', '22559', '22558', '22557', '22556', '22555', '22554',\n",
       "       '22553', '22551', '22550', '22549', '22548', '22547', '22546',\n",
       "       '22545', '22544', '22543', '22541', '22540', '22539', '22538',\n",
       "       '22537', '22536', '22535', '22534', '22533', '22532', '22531',\n",
       "       '22530', '22529', '22528', '22526', '22525', '22524', '22523',\n",
       "       '22522', '22521', '22520', '22519', '22518', '22517', '22516',\n",
       "       '22515', '22514', '22513', '22512', '22511', '22510', '22509',\n",
       "       '22508', '22507', '22505', '22504', '22503', '22502', '22501',\n",
       "       '22500', '22499', '22498', '22497', '22496', '22495', '22494',\n",
       "       '22493', '22492', '22491', '22489', '22488', '22487', '22486',\n",
       "       '22485', '22483', '22482', '22481', '22480', '22479', '22478',\n",
       "       '22477', '22476', '22475', '22474', '22473', '22472', '22471',\n",
       "       '22470', '22469', '22468', '22467', '22466', '22465', '22464',\n",
       "       '22461', '22460', '22459', '22458', '22457', '22456', '22454',\n",
       "       '22453', '22452', '22451', '22450', '22449', '22448', '22447',\n",
       "       '22446', '22445', '22444', '22443', '22442', '22441', '22440',\n",
       "       '22439', '22438', '22437', '22436', '22435', '22434', '22433',\n",
       "       '22432', '22431', '22430', '22429', '22428', '22427', '22426',\n",
       "       '22425', '22424', '22423', '22422', '22421', '22420', '22419',\n",
       "       '22418', '22417', '22416', '22415', '22414', '22413', '22412',\n",
       "       '22411', '22410', '22409', '22408', '22407', '22406', '22405',\n",
       "       '22403', '22402', '22400', '22399', '22398', '22396', '22395',\n",
       "       '22394', '22393', '22391', '22390', '22389', '22386', '22385',\n",
       "       '22384', '22383', '22382', '22381', '22380', '22379', '22378',\n",
       "       '22377', '22376', '22375', '22374', '22372', '22371', '22367',\n",
       "       '22366', '22365', '22364', '22363', '22362', '22361', '22360',\n",
       "       '22359', '22358', '22357', '22356', '22355', '22354', '22353',\n",
       "       '22352', '22351', '22350', '22349', '22348', '22346', '22345',\n",
       "       '22344', '22343', '22342', '22341', '22340', '22339', '22338',\n",
       "       '22337', '22336', '22335', '22334', '22333', '22332', '22331',\n",
       "       '22329', '22328', '22327', '22326', '22325', '22324', '22323',\n",
       "       '22322', '22321', '22320', '22319', '22318', '22317', '22316',\n",
       "       '22315', '22314', '22313', '22312', '22311', '22310', '22309',\n",
       "       '22308', '22307', '22306', '22305', '22304', '22303', '22302',\n",
       "       '22301', '22300', '22299', '22297', '22296', '22295', '22294',\n",
       "       '22293', '22292', '22291', '22289', '22288', '22287', '22286',\n",
       "       '22285', '22284', '22283', '22282', '22281', '22280', '22279',\n",
       "       '22278', '22277', '22276', '22275', '22274', '22273', '22272',\n",
       "       '22271', '22270', '22269', '22268', '22267', '22266', '22265',\n",
       "       '22264', '22263', '22262', '22261', '22260', '22259', '22258',\n",
       "       '22257', '22256', '22255', '22254', '22252', '22251', '22250',\n",
       "       '22249', '22248', '22247', '22246', '22245', '22244', '22243',\n",
       "       '22242', '22241', '22236', '22233', '22232', '22231', '22230',\n",
       "       '22229', '22228', '22227', '22224', '22223', '22222', '22221',\n",
       "       '22220', '22219', '22218', '22217', '22216', '22215', '22214',\n",
       "       '22212', '22211', '22210', '22209', '22208', '22207', '22206',\n",
       "       '22204', '22203', '22202', '22201', '22200', '22199', '22198',\n",
       "       '22197', '22196', '22195', '22194', '22193', '22192', '22191',\n",
       "       '22190', '22189', '22188', '22187', '22186', '22185', '22184',\n",
       "       '22183', '22182', '22181', '22180', '22179', '22178', '22176',\n",
       "       '22175', '22174', '22173', '22171', '22170', '22169', '22168',\n",
       "       '22167', '22166', '22165', '22164', '22163', '22162', '22161',\n",
       "       '22158', '22157', '22156', '22155', '22154', '22153', '22152',\n",
       "       '22151', '22150', '22149', '22148', '22147', '22146', '22145',\n",
       "       '22144', '22143', '22142', '22141', '22139', '22138', '22137',\n",
       "       '22136', '22135', '22134', '22133', '22132', '22131', '22130',\n",
       "       '22129', '22128', '22127', '22125', '22124', '22123', '22121',\n",
       "       '22120', '22119', '22118', '22117', '22116', '22115', '22114',\n",
       "       '22113', '22112', '22111', '22110', '22109', '22108', '22107',\n",
       "       '22106', '22105', '22104', '22103', '22102', '22101', '22100',\n",
       "       '22099', '22098', '22097', '22096', '22095', '22094', '22093',\n",
       "       '22092', '22091', '22090', '22089', '22088', '22087', '22086',\n",
       "       '22085', '22084', '22083', '22082', '22081', '22080', '22079',\n",
       "       '22078', '22077', '22076', '22075', '22074', '22073', '22072',\n",
       "       '22071', '22070', '22069', '22068', '22067', '22066', '22065',\n",
       "       '22064', '22063', '22062', '22061', '22060', '22059', '22057',\n",
       "       '22055', '22053', '22052', '22051', '22050', '22049', '22048',\n",
       "       '22047', '22046', '22045', '22044', '22043', '22042', '22041',\n",
       "       '22040', '22038', '22037', '22035', '22034', '22033', '22032',\n",
       "       '22031', '22030', '22029', '22028', '22027', '22026', '22025',\n",
       "       '22024', '22023', '22021', '21993', '21992', '21991', '21990',\n",
       "       '21989', '21988', '21987', '21986', '21985', '21984', '21983',\n",
       "       '21982', '21981', '21980', '21977', '21976', '21975', '21974',\n",
       "       '21973', '21972', '21967', '21955', '21949', '21948', '21947',\n",
       "       '21946', '21945', '21944', '21943', '21942', '21937', '21936',\n",
       "       '21935', '21934', '21933', '21932', '21931', '21930', '21929',\n",
       "       '21928', '21927', '21926', '21925', '21922', '21918', '21917',\n",
       "       '21916', '21915', '21914', '21913', '21912', '21911', '21910',\n",
       "       '21908', '21907', '21906', '21905', '21904', '21903', '21902',\n",
       "       '21901', '21900', '21899', '21898', '21897', '21896', '21895',\n",
       "       '21894', '21892', '21891', '21890', '21889', '21888', '21884',\n",
       "       '21883', '21882', '21881', '21880', '21879', '21878', '21877',\n",
       "       '21876', '21875', '21874', '21873', '21872', '21871', '21870',\n",
       "       '21868', '21867', '21866', '21865', '21864', '21851', '21850',\n",
       "       '21849', '21847', '21846', '21845', '21844', '21843', '21841',\n",
       "       '21836', '21833', '21832', '21830', '21829', '21828', '21827',\n",
       "       '21826', '21824', '21823', '21822', '21821', '21820', '21819',\n",
       "       '21818', '21817', '21816', '21815', '21814', '21813', '21812',\n",
       "       '21811', '21810', '21809', '21808', '21807', '21805', '21804',\n",
       "       '21803', '21802', '21801', '21794', '21793', '21792', '21791',\n",
       "       '21790', '21789', '21788', '21787', '21786', '21785', '21784',\n",
       "       '21781', '21777', '21775', '21774', '21773', '21769', '21763',\n",
       "       '21761', '21758', '21757', '21756', '21755', '21754', '21750',\n",
       "       '21749', '21747', '21746', '21745', '21744', '21743', '21742',\n",
       "       '21741', '21739', '21738', '21736', '21735', '21733', '21731',\n",
       "       '21730', '21726', '21725', '21724', '21723', '21722', '21721',\n",
       "       '21720', '21719', '21718', '21717', '21716', '21715', '21714',\n",
       "       '21713', '21711', '21710', '21709', '21708', '21707', '21706',\n",
       "       '21705', '21704', '21703', '21700', '21698', '21696', '21695',\n",
       "       '21694', '21693', '21692', '21690', '21689', '21688', '21686',\n",
       "       '21684', '21683', '21682', '21681', '21680', '21679', '21678',\n",
       "       '21677', '21676', '21675', '21673', '21672', '21671', '21670',\n",
       "       '21669', '21668', '21667', '21666', '21664', '21662', '21661',\n",
       "       '21658', '21657', '21656', '21655', '21654', '21653', '21651',\n",
       "       '21650', '21648', '21647', '21645', '21644', '21643', '21642',\n",
       "       '21641', '21640', '21638', '21636', '21635', '21634', '21633',\n",
       "       '21632', '21631', '21630', '21629', '21628', '21627', '21626',\n",
       "       '21625', '21624', '21623', '21622', '21621', '21620', '21619',\n",
       "       '21618', '21617', '21616', '21615', '21613', '21609', '21595',\n",
       "       '21594', '21592', '21591', '21589', '21588', '21587', '21586',\n",
       "       '21584', '21581', '21580', '21579', '21578', '21577', '21576',\n",
       "       '21564', '21563', '21562', '21561', '21559', '21558', '21557',\n",
       "       '21556', '21555', '21547', '21544', '21539', '21538', '21537',\n",
       "       '21535', '21534', '21533', '21531', '21530', '21528', '21527',\n",
       "       '21524', '21523', '21520', '21519', '21518', '21509', '21508',\n",
       "       '21507', '21506', '21504', '21503', '21500', '21499', '21498',\n",
       "       '21497', '21495', '21494', '21491', '21488', '21486', '21485',\n",
       "       '21484', '21481', '21479', '21476', '21473', '21472', '21471',\n",
       "       '21470', '21469', '21468', '21467', '21466', '21465', '21464',\n",
       "       '21463', '21462', '21461', '21460', '21459', '21458', '21457',\n",
       "       '21456', '21455', '21454', '21452', '21448', '21447', '21446',\n",
       "       '21445', '21442', '21441', '21439', '21431', '21430', '21429',\n",
       "       '21428', '21427', '21426', '21425', '21424', '21422', '21421',\n",
       "       '21420', '21418', '21417', '21416', '21415', '21414', '21413',\n",
       "       '21412', '21411', '21410', '21408', '21407', '21403', '21402',\n",
       "       '21401', '21400', '21399', '21398', '21397', '21394', '21393',\n",
       "       '21392', '21391', '21390', '21389', '21386', '21385', '21383',\n",
       "       '21382', '21381', '21380', '21379', '21378', '21377', '21376',\n",
       "       '21375', '21374', '21372', '21371', '21370', '21369', '21368',\n",
       "       '21367', '21366', '21365', '21364', '21363', '21361', '21360',\n",
       "       '21359', '21358', '21357', '21356', '21355', '21354', '21352',\n",
       "       '21351', '21349', '21348', '21344', '21340', '21336', '21333',\n",
       "       '21332', '21331', '21329', '21328', '21327', '21326', '21324',\n",
       "       '21320', '21319', '21318', '21317', '21316', '21314', '21313',\n",
       "       '21311', '21307', '21306', '21294', '21293', '21292', '21291',\n",
       "       '21289', '21288', '21287', '21286', '21285', '21284', '21282',\n",
       "       '21281', '21280', '21279', '21278', '21277', '21275', '21272',\n",
       "       '21270', '21269', '21268', '21265', '21264', '21263', '21262',\n",
       "       '21261', '21260', '21259', '21258', '21257', '21253', '21251',\n",
       "       '21250', '21249', '21248', '21246', '21245', '21244', '21243',\n",
       "       '21242', '21240', '21239', '21238', '21232', '21231', '21228',\n",
       "       '21226', '21224', '21222', '21221', '21220', '21219', '21218',\n",
       "       '21217', '21216', '21215', '21213', '21212', '21211', '21210',\n",
       "       '21209', '21208', '21207', '21206', '21205', '21204', '21202',\n",
       "       '21201', '21200', '21199', '21198', '21197', '21196', '21195',\n",
       "       '21194', '21192', '21191', '21190', '21189', '21188', '21187',\n",
       "       '21186', '21181', '21179', '21175', '21174', '21172', '21171',\n",
       "       '21169', '21167', '21166', '21165', '21164', '21163', '21162',\n",
       "       '21161', '21160', '21159', '21158', '21157', '21156', '21155',\n",
       "       '21154', '21147', '21145', '21144', '21143', '21137', '21136',\n",
       "       '21135', '21134', '21132', '21131', '21129', '21128', '21126',\n",
       "       '21125', '21124', '21123', '21122', '21121', '21120', '21117',\n",
       "       '21116', '21115', '21114', '21112', '21111', '21110', '21109',\n",
       "       '21108', '21107', '21106', '21100', '21098', '21096', '21095',\n",
       "       '21094', '21090', '21089', '21088', '21087', '21086', '21084',\n",
       "       '21082', '21080', '21078', '21071', '21070', '21069', '21068',\n",
       "       '21067', '21066', '21065', '21064', '21063', '21062', '21061',\n",
       "       '21060', '21059', '21058', '21056', '21055', '21054', '21051',\n",
       "       '21043', '21042', '21041', '21040', '21039', '21038', '21035',\n",
       "       '21034', '21033', '21032', '21031', '21030', '21028', '21027',\n",
       "       '21026', '21025', '21018', '21015', '21014', '21012', '21011',\n",
       "       '21009', '21003', '21002', '21001', '21000', '20998', '20996',\n",
       "       '20992', '20986', '20985', '20984', '20983', '20982', '20981',\n",
       "       '20980', '20979', '20978', '20977', '20975', '20974', '20973',\n",
       "       '20972', '20971', '20970', '20969', '20967', '20966', '20963',\n",
       "       '20961', '20960', '20957', '20956', '20954', '20950', '20941',\n",
       "       '20936', '20934', '20933', '20932', '20931', '20914', '20910',\n",
       "       '20906', '20903', '20902', '20898', '20897', '20894', '20893',\n",
       "       '20892', '20886', '20878', '20871', '20869', '20868', '20867',\n",
       "       '20866', '20864', '20861', '20860', '20857', '20856', '20854',\n",
       "       '20851', '20849', '20848', '20847', '20846', '20845', '20840',\n",
       "       '20839', '20837', '20835', '20832', '20831', '20830', '20829',\n",
       "       '20828', '20826', '20820', '20819', '20818', '20803', '20802',\n",
       "       '20801', '20798', '20795', '20794', '20793', '20785', '20782',\n",
       "       '20781', '20780', '20778', '20777', '20775', '20774', '20773',\n",
       "       '20772', '20771', '20770', '20769', '20768', '20767', '20766',\n",
       "       '20765', '20764', '20763', '20762', '20761', '20760', '20759',\n",
       "       '20758', '20757', '20756', '20755', '20754', '20752', '20751',\n",
       "       '20750', '20749', '20748', '20738', '20735', '20734', '20733',\n",
       "       '20731', '20728', '20727', '20726', '20725', '20724', '20723',\n",
       "       '20719', '20718', '20717', '20716', '20713', '20712', '20711',\n",
       "       '20707', '20705', '20704', '20703', '20702', '20701', '20700',\n",
       "       '20699', '20698', '20697', '20696', '20695', '20694', '20686',\n",
       "       '20685', '20684', '20682', '20681', '20679', '20677', '20676',\n",
       "       '20675', '20674', '20671', '20670', '20669', '20668', '20666',\n",
       "       '20665', '20664', '20663', '20662', '20661', '20659', '20658',\n",
       "       '20657', '20655', '20654', '20653', '20652', '20622', '20619',\n",
       "       '20618', '20617', '20616', '20615', '18098c', '18098C', '18097C',\n",
       "       '18097A', '18094C', '18007', '17174', '17165D', '17164B', '17136A',\n",
       "       '17129F', '17109D', '17107D', '17096', '17091J', '17091A',\n",
       "       '17090D', '17090A', '17084R', '17084P', '17084N', '17084J',\n",
       "       '17084A', '17038', '17028J', '17021', '17014A', '17013D', '17012F',\n",
       "       '17012E', '17012D', '17012C', '17012B', '17012A', '17011F',\n",
       "       '17011A', '17007B', '17003', '17001', '16258A', '16238', '16237',\n",
       "       '16236', '16235', '16225', '16219', '16218', '16216', '16207B',\n",
       "       '16207A', '16206B', '16202E', '16169P', '16169N', '16169M',\n",
       "       '16169K', '16168M', '16162L', '16161U', '16161P', '16161M',\n",
       "       '16156S', '16156L', '16054', '16052', '16048', '16046', '16045',\n",
       "       '16033', '16016', '16015', '16014', '16012', '16011', '16010',\n",
       "       '16008', '15060B', '15058C', '15058B', '15058A', '15056p',\n",
       "       '15056n', '15056bl', '15056P', '15056N', '15056BL', '15044D',\n",
       "       '15044C', '15044B', '15044A', '15039', '15036', '15034', '11001',\n",
       "       '10135', '10133', '10125', '10124G', '10124A', '10123C', '10120',\n",
       "       '10080', '10002'], dtype=object)"
      ]
     },
     "execution_count": 47,
     "metadata": {},
     "output_type": "execute_result"
    }
   ],
   "source": [
    "np.set_printoptions(threshold=9999)\n",
    "\n",
    "price['item_id'].sort_values(ascending=False).unique()"
   ]
  },
  {
   "cell_type": "markdown",
   "id": "5fd07b53",
   "metadata": {},
   "source": [
    "Значения id выглядят нормально. Скорее всего неявных дубликатов нет.\n",
    "\n",
    "Удалим из датасетов данные о таких \"товарах\", как AMAZONFEE и BANK CHARGES, скорее всего это некая комиссия за услуги компаний и банков. "
   ]
  },
  {
   "cell_type": "code",
   "execution_count": 48,
   "id": "120dec3c",
   "metadata": {},
   "outputs": [],
   "source": [
    "data = data.query('item_id != \"AMAZONFEE\" and item_id != \"BANK CHARGES\"')"
   ]
  },
  {
   "cell_type": "code",
   "execution_count": 49,
   "id": "b103b192",
   "metadata": {},
   "outputs": [],
   "source": [
    "price = price.query('item_id != \"AMAZONFEE\" and item_id != \"BANK CHARGES\"')"
   ]
  },
  {
   "cell_type": "markdown",
   "id": "7a2ea52d",
   "metadata": {},
   "source": [
    "Выведем уникальные значения Shop_id."
   ]
  },
  {
   "cell_type": "code",
   "execution_count": 50,
   "id": "290fdec6",
   "metadata": {
    "scrolled": true
   },
   "outputs": [
    {
     "data": {
      "text/plain": [
       "array(['Shop 0', 'Shop 1', 'Shop 10', 'Shop 11', 'Shop 12', 'Shop 13',\n",
       "       'Shop 14', 'Shop 15', 'Shop 16', 'Shop 17', 'Shop 18', 'Shop 19',\n",
       "       'Shop 2', 'Shop 20', 'Shop 21', 'Shop 22', 'Shop 23', 'Shop 24',\n",
       "       'Shop 25', 'Shop 26', 'Shop 27', 'Shop 28', 'Shop 29', 'Shop 3',\n",
       "       'Shop 30', 'Shop 4', 'Shop 5', 'Shop 6', 'Shop 7', 'Shop 8',\n",
       "       'Shop 9'], dtype=object)"
      ]
     },
     "execution_count": 50,
     "metadata": {},
     "output_type": "execute_result"
    }
   ],
   "source": [
    "data['shop_id'].sort_values().unique()"
   ]
  },
  {
   "cell_type": "markdown",
   "id": "ab2366e0",
   "metadata": {},
   "source": [
    "В наших данных представлен 31 магазин. \n",
    "\n",
    "Посмотрим как обозначен признак участия в программе лояльности."
   ]
  },
  {
   "cell_type": "code",
   "execution_count": 51,
   "id": "3eadac7a",
   "metadata": {},
   "outputs": [
    {
     "data": {
      "text/plain": [
       "array([0, 1], dtype=int64)"
      ]
     },
     "execution_count": 51,
     "metadata": {},
     "output_type": "execute_result"
    }
   ],
   "source": [
    "data['loyalty_program'].unique()"
   ]
  },
  {
   "cell_type": "markdown",
   "id": "fd3687e2",
   "metadata": {},
   "source": [
    "Участие в программе лояльности обозначено булевыми значениями: 0 и 1. \n",
    "\n",
    "Посчитаем сколько среди покупателей было участников программы.  "
   ]
  },
  {
   "cell_type": "code",
   "execution_count": 52,
   "id": "97bc48d9",
   "metadata": {
    "scrolled": true
   },
   "outputs": [
    {
     "data": {
      "text/html": [
       "<div>\n",
       "<style scoped>\n",
       "    .dataframe tbody tr th:only-of-type {\n",
       "        vertical-align: middle;\n",
       "    }\n",
       "\n",
       "    .dataframe tbody tr th {\n",
       "        vertical-align: top;\n",
       "    }\n",
       "\n",
       "    .dataframe thead th {\n",
       "        text-align: right;\n",
       "    }\n",
       "</style>\n",
       "<table border=\"1\" class=\"dataframe\">\n",
       "  <thead>\n",
       "    <tr style=\"text-align: right;\">\n",
       "      <th></th>\n",
       "      <th></th>\n",
       "      <th>purchasemonth</th>\n",
       "      <th>quantity</th>\n",
       "    </tr>\n",
       "    <tr>\n",
       "      <th>customer_id</th>\n",
       "      <th>loyalty_program</th>\n",
       "      <th></th>\n",
       "      <th></th>\n",
       "    </tr>\n",
       "  </thead>\n",
       "  <tbody>\n",
       "    <tr>\n",
       "      <th>18026.0</th>\n",
       "      <th>0</th>\n",
       "      <td>6.683333</td>\n",
       "      <td>9.566667</td>\n",
       "    </tr>\n",
       "    <tr>\n",
       "      <th>18027.0</th>\n",
       "      <th>0</th>\n",
       "      <td>9.130435</td>\n",
       "      <td>79.652174</td>\n",
       "    </tr>\n",
       "    <tr>\n",
       "      <th>18029.0</th>\n",
       "      <th>0</th>\n",
       "      <td>2.000000</td>\n",
       "      <td>10.588235</td>\n",
       "    </tr>\n",
       "    <tr>\n",
       "      <th>18031.0</th>\n",
       "      <th>0</th>\n",
       "      <td>2.000000</td>\n",
       "      <td>5.533333</td>\n",
       "    </tr>\n",
       "    <tr>\n",
       "      <th>18035.0</th>\n",
       "      <th>0</th>\n",
       "      <td>1.000000</td>\n",
       "      <td>32.777778</td>\n",
       "    </tr>\n",
       "    <tr>\n",
       "      <th>...</th>\n",
       "      <th>...</th>\n",
       "      <td>...</td>\n",
       "      <td>...</td>\n",
       "    </tr>\n",
       "    <tr>\n",
       "      <th>23939.0</th>\n",
       "      <th>1</th>\n",
       "      <td>4.025000</td>\n",
       "      <td>11.025000</td>\n",
       "    </tr>\n",
       "    <tr>\n",
       "      <th>23948.0</th>\n",
       "      <th>1</th>\n",
       "      <td>12.000000</td>\n",
       "      <td>7.750000</td>\n",
       "    </tr>\n",
       "    <tr>\n",
       "      <th>23956.0</th>\n",
       "      <th>1</th>\n",
       "      <td>1.000000</td>\n",
       "      <td>-2.000000</td>\n",
       "    </tr>\n",
       "    <tr>\n",
       "      <th>23962.0</th>\n",
       "      <th>1</th>\n",
       "      <td>1.223077</td>\n",
       "      <td>0.423077</td>\n",
       "    </tr>\n",
       "    <tr>\n",
       "      <th>0</th>\n",
       "      <th>0</th>\n",
       "      <td>5.951232</td>\n",
       "      <td>1.781954</td>\n",
       "    </tr>\n",
       "  </tbody>\n",
       "</table>\n",
       "<p>1749 rows × 2 columns</p>\n",
       "</div>"
      ],
      "text/plain": [
       "                             purchasemonth   quantity\n",
       "customer_id loyalty_program                          \n",
       "18026.0     0                     6.683333   9.566667\n",
       "18027.0     0                     9.130435  79.652174\n",
       "18029.0     0                     2.000000  10.588235\n",
       "18031.0     0                     2.000000   5.533333\n",
       "18035.0     0                     1.000000  32.777778\n",
       "...                                    ...        ...\n",
       "23939.0     1                     4.025000  11.025000\n",
       "23948.0     1                    12.000000   7.750000\n",
       "23956.0     1                     1.000000  -2.000000\n",
       "23962.0     1                     1.223077   0.423077\n",
       "0           0                     5.951232   1.781954\n",
       "\n",
       "[1749 rows x 2 columns]"
      ]
     },
     "execution_count": 52,
     "metadata": {},
     "output_type": "execute_result"
    }
   ],
   "source": [
    "# Построим сводную таблицу по уникальным customer_id с разбивкой на участник-неучастник программы лояльности.\n",
    "\n",
    "loyalty_program = data.pivot_table(index=['customer_id', 'loyalty_program'])\n",
    "loyalty_program"
   ]
  },
  {
   "cell_type": "markdown",
   "id": "ebc47be4",
   "metadata": {},
   "source": [
    "Всего у нас 1749 покупателей. Посчитаем сколько среди них участников программы."
   ]
  },
  {
   "cell_type": "code",
   "execution_count": 53,
   "id": "05c8dd38",
   "metadata": {
    "scrolled": true
   },
   "outputs": [
    {
     "data": {
      "text/plain": [
       "587"
      ]
     },
     "execution_count": 53,
     "metadata": {},
     "output_type": "execute_result"
    }
   ],
   "source": [
    "len(loyalty_program.query('loyalty_program == 1'))"
   ]
  },
  {
   "cell_type": "markdown",
   "id": "38a734cb",
   "metadata": {},
   "source": [
    "Участников программы лояльности 587, не участников 1162. \n",
    "\n",
    "Проверим нет ли покупателей, которые попали и в участников программы лояльности и в неучастников. "
   ]
  },
  {
   "cell_type": "code",
   "execution_count": 54,
   "id": "fbbaec44",
   "metadata": {},
   "outputs": [
    {
     "data": {
      "text/html": [
       "<div>\n",
       "<style scoped>\n",
       "    .dataframe tbody tr th:only-of-type {\n",
       "        vertical-align: middle;\n",
       "    }\n",
       "\n",
       "    .dataframe tbody tr th {\n",
       "        vertical-align: top;\n",
       "    }\n",
       "\n",
       "    .dataframe thead th {\n",
       "        text-align: right;\n",
       "    }\n",
       "</style>\n",
       "<table border=\"1\" class=\"dataframe\">\n",
       "  <thead>\n",
       "    <tr style=\"text-align: right;\">\n",
       "      <th></th>\n",
       "      <th>purchase_id</th>\n",
       "      <th>item_id</th>\n",
       "      <th>quantity</th>\n",
       "      <th>purchasedate</th>\n",
       "      <th>customer_id</th>\n",
       "      <th>shop_id</th>\n",
       "      <th>loyalty_program</th>\n",
       "      <th>purchasemonth</th>\n",
       "    </tr>\n",
       "  </thead>\n",
       "  <tbody>\n",
       "  </tbody>\n",
       "</table>\n",
       "</div>"
      ],
      "text/plain": [
       "Empty DataFrame\n",
       "Columns: [purchase_id, item_id, quantity, purchasedate, customer_id, shop_id, loyalty_program, purchasemonth]\n",
       "Index: []"
      ]
     },
     "execution_count": 54,
     "metadata": {},
     "output_type": "execute_result"
    }
   ],
   "source": [
    "data.query('loyalty_program == 0 and loyalty_program == 1')"
   ]
  },
  {
   "cell_type": "markdown",
   "id": "c44f4663",
   "metadata": {},
   "source": [
    "Нет, покупателей попавших в обе категории нет."
   ]
  },
  {
   "cell_type": "markdown",
   "id": "02346ae0",
   "metadata": {},
   "source": [
    "*Тут мы вспоминаем, что у нас 36210 товаров куплено без авторизации, т.е. у нас нет для них id пользователя и на данный момент мы все эти товары посчитали так как-будто их купил один покупатель, который не участник программы лояльности. \n",
    "\n",
    "Можно посчитать среднее число покупок для каждого нелояльного покупателя, посчитать среднее число товаров в покупке для них, а потом прикинуть сколько примерно покупателей могли купить эти 36210 товаров."
   ]
  },
  {
   "cell_type": "code",
   "execution_count": 55,
   "id": "0aa76127",
   "metadata": {},
   "outputs": [
    {
     "data": {
      "text/html": [
       "<div>\n",
       "<style scoped>\n",
       "    .dataframe tbody tr th:only-of-type {\n",
       "        vertical-align: middle;\n",
       "    }\n",
       "\n",
       "    .dataframe tbody tr th {\n",
       "        vertical-align: top;\n",
       "    }\n",
       "\n",
       "    .dataframe thead th {\n",
       "        text-align: right;\n",
       "    }\n",
       "</style>\n",
       "<table border=\"1\" class=\"dataframe\">\n",
       "  <thead>\n",
       "    <tr style=\"text-align: right;\">\n",
       "      <th></th>\n",
       "      <th>purchase_id</th>\n",
       "      <th>customer_id</th>\n",
       "      <th>item_id</th>\n",
       "    </tr>\n",
       "  </thead>\n",
       "  <tbody>\n",
       "    <tr>\n",
       "      <th>0</th>\n",
       "      <td>538280</td>\n",
       "      <td>18427.0</td>\n",
       "      <td>21873</td>\n",
       "    </tr>\n",
       "    <tr>\n",
       "      <th>6</th>\n",
       "      <td>540468</td>\n",
       "      <td>0</td>\n",
       "      <td>22189</td>\n",
       "    </tr>\n",
       "    <tr>\n",
       "      <th>7</th>\n",
       "      <td>541424</td>\n",
       "      <td>0</td>\n",
       "      <td>79321</td>\n",
       "    </tr>\n",
       "    <tr>\n",
       "      <th>8</th>\n",
       "      <td>538883</td>\n",
       "      <td>0</td>\n",
       "      <td>22891</td>\n",
       "    </tr>\n",
       "    <tr>\n",
       "      <th>11</th>\n",
       "      <td>541696</td>\n",
       "      <td>0</td>\n",
       "      <td>22197</td>\n",
       "    </tr>\n",
       "    <tr>\n",
       "      <th>...</th>\n",
       "      <td>...</td>\n",
       "      <td>...</td>\n",
       "      <td>...</td>\n",
       "    </tr>\n",
       "    <tr>\n",
       "      <th>105329</th>\n",
       "      <td>540154</td>\n",
       "      <td>0</td>\n",
       "      <td>22134</td>\n",
       "    </tr>\n",
       "    <tr>\n",
       "      <th>105330</th>\n",
       "      <td>538566</td>\n",
       "      <td>0</td>\n",
       "      <td>21826</td>\n",
       "    </tr>\n",
       "    <tr>\n",
       "      <th>105331</th>\n",
       "      <td>540247</td>\n",
       "      <td>21143.0</td>\n",
       "      <td>21742</td>\n",
       "    </tr>\n",
       "    <tr>\n",
       "      <th>105333</th>\n",
       "      <td>538207</td>\n",
       "      <td>18427.0</td>\n",
       "      <td>22818</td>\n",
       "    </tr>\n",
       "    <tr>\n",
       "      <th>105334</th>\n",
       "      <td>543977</td>\n",
       "      <td>21294.0</td>\n",
       "      <td>22384</td>\n",
       "    </tr>\n",
       "  </tbody>\n",
       "</table>\n",
       "<p>80867 rows × 3 columns</p>\n",
       "</div>"
      ],
      "text/plain": [
       "       purchase_id customer_id item_id\n",
       "0           538280     18427.0   21873\n",
       "6           540468           0   22189\n",
       "7           541424           0   79321\n",
       "8           538883           0   22891\n",
       "11          541696           0   22197\n",
       "...            ...         ...     ...\n",
       "105329      540154           0   22134\n",
       "105330      538566           0   21826\n",
       "105331      540247     21143.0   21742\n",
       "105333      538207     18427.0   22818\n",
       "105334      543977     21294.0   22384\n",
       "\n",
       "[80867 rows x 3 columns]"
      ]
     },
     "execution_count": 55,
     "metadata": {},
     "output_type": "execute_result"
    }
   ],
   "source": [
    "# Рассчеты для примерного понимания сколько клиентов могли купить товары с пропущенными customer_id.\n",
    "\n",
    "\n",
    "# Делаем срез по неучастникам программы, у которых нет пропущеныч значений в столбце customer_id.\n",
    "\n",
    "customers = data.query('loyalty_program == 0 and customer_id !=0')\n",
    "\n",
    "customers = customers[['purchase_id', 'customer_id', 'item_id']]\n",
    "\n",
    "customers"
   ]
  },
  {
   "cell_type": "code",
   "execution_count": 56,
   "id": "d49a27e3",
   "metadata": {},
   "outputs": [
    {
     "data": {
      "text/plain": [
       "3527"
      ]
     },
     "execution_count": 56,
     "metadata": {},
     "output_type": "execute_result"
    }
   ],
   "source": [
    "# Считаем количество уникальных покупок.\n",
    "\n",
    "len(customers['purchase_id'].unique())"
   ]
  },
  {
   "cell_type": "code",
   "execution_count": 57,
   "id": "d1ec9ffe",
   "metadata": {},
   "outputs": [
    {
     "data": {
      "text/plain": [
       "1162"
      ]
     },
     "execution_count": 57,
     "metadata": {},
     "output_type": "execute_result"
    }
   ],
   "source": [
    "# Считаем количество уникальных покупателей.\n",
    "\n",
    "len(customers['customer_id'].unique())"
   ]
  },
  {
   "cell_type": "code",
   "execution_count": 58,
   "id": "8c83f7aa",
   "metadata": {},
   "outputs": [
    {
     "data": {
      "text/plain": [
       "3.0352839931153186"
      ]
     },
     "execution_count": 58,
     "metadata": {},
     "output_type": "execute_result"
    }
   ],
   "source": [
    "# Считаем сколько покупок приходится в среднем на одного покупателя.\n",
    "\n",
    "len(customers['purchase_id'].unique()) / len(customers['customer_id'].unique())"
   ]
  },
  {
   "cell_type": "code",
   "execution_count": 59,
   "id": "54d83c20",
   "metadata": {},
   "outputs": [
    {
     "data": {
      "text/plain": [
       "12.838106039126737"
      ]
     },
     "execution_count": 59,
     "metadata": {},
     "output_type": "execute_result"
    }
   ],
   "source": [
    "# Считаем сколько товаров в среднем в одном заказе.\n",
    "\n",
    "45280 / len(customers['purchase_id'].unique())"
   ]
  },
  {
   "cell_type": "code",
   "execution_count": 60,
   "id": "ea7fa258",
   "metadata": {},
   "outputs": [
    {
     "data": {
      "text/plain": [
       "2820.509496466431"
      ]
     },
     "execution_count": 60,
     "metadata": {},
     "output_type": "execute_result"
    }
   ],
   "source": [
    "# Считаем за сколько покупок примерно могли купить 36210 товаров.\n",
    "\n",
    "(36210 / (45280 / len(customers['purchase_id'].unique())))"
   ]
  },
  {
   "cell_type": "code",
   "execution_count": 61,
   "id": "1d408cab",
   "metadata": {},
   "outputs": [
    {
     "data": {
      "text/plain": [
       "929.2407243816253"
      ]
     },
     "execution_count": 61,
     "metadata": {},
     "output_type": "execute_result"
    }
   ],
   "source": [
    "# Считаем примерное количество покупателей, которые могли купить 36210 товаров.\n",
    "\n",
    "(36210 / (45280 / len(customers['purchase_id'].unique()))) / (len(customers['purchase_id'].unique()) / len(customers['customer_id'].unique()))"
   ]
  },
  {
   "cell_type": "markdown",
   "id": "4fe67ab8",
   "metadata": {},
   "source": [
    "Подсчет показал, что это 929 покупателей. Но на сколько это число близко к реальности нам остается только гадать. "
   ]
  },
  {
   "cell_type": "markdown",
   "id": "1d692332",
   "metadata": {},
   "source": [
    "Итого у нас получается 2091 покупателей-неучастников программы и 587 покупателей-участников."
   ]
  },
  {
   "cell_type": "markdown",
   "id": "b1b80a47",
   "metadata": {},
   "source": [
    "Посчитаем количество товаров купленное по программе лояльности и без. "
   ]
  },
  {
   "cell_type": "code",
   "execution_count": 62,
   "id": "b47088aa",
   "metadata": {},
   "outputs": [
    {
     "data": {
      "text/plain": [
       "loyalty_program\n",
       "0    602917\n",
       "1    228693\n",
       "Name: quantity, dtype: int64"
      ]
     },
     "execution_count": 62,
     "metadata": {},
     "output_type": "execute_result"
    }
   ],
   "source": [
    "data.groupby('loyalty_program')['quantity'].sum()"
   ]
  },
  {
   "cell_type": "code",
   "execution_count": 63,
   "id": "66daf9d5",
   "metadata": {},
   "outputs": [
    {
     "data": {
      "text/plain": [
       "831610"
      ]
     },
     "execution_count": 63,
     "metadata": {},
     "output_type": "execute_result"
    }
   ],
   "source": [
    "data['quantity'].sum()"
   ]
  },
  {
   "cell_type": "markdown",
   "id": "aff1a1c9",
   "metadata": {},
   "source": [
    "По программе лояльности куплено в 3 раза меньшее количество товаров, чем без нее."
   ]
  },
  {
   "cell_type": "markdown",
   "id": "146fffb0",
   "metadata": {},
   "source": [
    "Посмотрим что у нас с ценами. "
   ]
  },
  {
   "cell_type": "code",
   "execution_count": 64,
   "id": "5bb27d96",
   "metadata": {},
   "outputs": [
    {
     "data": {
      "text/plain": [
       "1.25      504\n",
       "0.85      493\n",
       "0.00      382\n",
       "2.51      371\n",
       "2.46      329\n",
       "         ... \n",
       "324.43      1\n",
       "549.79      1\n",
       "514.00      1\n",
       "337.23      1\n",
       "172.62      1\n",
       "Name: price_per_one, Length: 571, dtype: int64"
      ]
     },
     "execution_count": 64,
     "metadata": {},
     "output_type": "execute_result"
    }
   ],
   "source": [
    "# Выведем цену и частоту с которой она встречается в датасете.\n",
    "\n",
    "price['price_per_one'].value_counts()"
   ]
  },
  {
   "cell_type": "markdown",
   "id": "fc1d7fc2",
   "metadata": {},
   "source": [
    "Самая часто встречающаяся цена - 1,25. Есть товары с нулевыми ценами, возможно это товары-бонусы, или товары, которым не присвоили цену на момент выгрузки данных. "
   ]
  },
  {
   "cell_type": "code",
   "execution_count": 65,
   "id": "1c8f07c4",
   "metadata": {},
   "outputs": [
    {
     "data": {
      "text/plain": [
       "1715.85"
      ]
     },
     "execution_count": 65,
     "metadata": {},
     "output_type": "execute_result"
    }
   ],
   "source": [
    "price['price_per_one'].max()"
   ]
  },
  {
   "cell_type": "code",
   "execution_count": 66,
   "id": "2d4c8a74",
   "metadata": {},
   "outputs": [
    {
     "data": {
      "text/plain": [
       "0.0"
      ]
     },
     "execution_count": 66,
     "metadata": {},
     "output_type": "execute_result"
    }
   ],
   "source": [
    "price['price_per_one'].min()"
   ]
  },
  {
   "cell_type": "markdown",
   "id": "a4cd46f9",
   "metadata": {},
   "source": [
    "Цен с минусом нет, максимальная цена 1715,85, посмотрим на id этой цены.  "
   ]
  },
  {
   "cell_type": "code",
   "execution_count": 67,
   "id": "1d982994",
   "metadata": {},
   "outputs": [
    {
     "data": {
      "text/html": [
       "<div>\n",
       "<style scoped>\n",
       "    .dataframe tbody tr th:only-of-type {\n",
       "        vertical-align: middle;\n",
       "    }\n",
       "\n",
       "    .dataframe tbody tr th {\n",
       "        vertical-align: top;\n",
       "    }\n",
       "\n",
       "    .dataframe thead th {\n",
       "        text-align: right;\n",
       "    }\n",
       "</style>\n",
       "<table border=\"1\" class=\"dataframe\">\n",
       "  <thead>\n",
       "    <tr style=\"text-align: right;\">\n",
       "      <th></th>\n",
       "      <th>item_id</th>\n",
       "      <th>price_per_one</th>\n",
       "    </tr>\n",
       "  </thead>\n",
       "  <tbody>\n",
       "    <tr>\n",
       "      <th>8729</th>\n",
       "      <td>M</td>\n",
       "      <td>1715.85</td>\n",
       "    </tr>\n",
       "  </tbody>\n",
       "</table>\n",
       "</div>"
      ],
      "text/plain": [
       "     item_id  price_per_one\n",
       "8729       M        1715.85"
      ]
     },
     "execution_count": 67,
     "metadata": {},
     "output_type": "execute_result"
    }
   ],
   "source": [
    "price.query('price_per_one == 1715.85')"
   ]
  },
  {
   "cell_type": "markdown",
   "id": "e073d54d",
   "metadata": {},
   "source": [
    "Id товара - М, возможно это тоже некое обозначение комиссии, но тут мы можем только гадать об этом, официальных параметров с таким обозначением нет, если это некоторое обозначение принятое внутри компании, в будущем им стоит передавать информацию о подобных позициях вместе с данными."
   ]
  },
  {
   "cell_type": "markdown",
   "id": "e76f5559",
   "metadata": {},
   "source": [
    "Посчитаем для каких товаров, есть большое число разных цен."
   ]
  },
  {
   "cell_type": "code",
   "execution_count": 68,
   "id": "0776148e",
   "metadata": {},
   "outputs": [
    {
     "data": {
      "text/plain": [
       "item_id\n",
       "DOT       174\n",
       "M          59\n",
       "S          29\n",
       "POST       15\n",
       "D          13\n",
       "         ... \n",
       "47369B      1\n",
       "85017A      1\n",
       "85017C      1\n",
       "85018C      1\n",
       "m           1\n",
       "Name: price_per_one, Length: 3157, dtype: int64"
      ]
     },
     "execution_count": 68,
     "metadata": {},
     "output_type": "execute_result"
    }
   ],
   "source": [
    "# Группируем датасет по id товара и считаем сколько цен для каждого уникального товара.\n",
    "\n",
    "price.groupby('item_id')['price_per_one'].count().sort_values(ascending=False)"
   ]
  },
  {
   "cell_type": "markdown",
   "id": "06158d2b",
   "metadata": {},
   "source": [
    "174 цены для некоего товара DOT, дальше чуть лучше, в основном у нас более-менее приемлемое количество цен для одного товара. Больше 10 цен всего у 5 товаров."
   ]
  },
  {
   "cell_type": "markdown",
   "id": "dae55bb0",
   "metadata": {},
   "source": [
    "### Подсчет цен."
   ]
  },
  {
   "cell_type": "markdown",
   "id": "947ead64",
   "metadata": {},
   "source": [
    "Для дальнейшего анлиза нам необходимо присоеднить к данным о продажах данные о ценах, мы уже знаем, что для одного и того же товара может быть несколько цен, поэтому необходимо выбрать по какой цене мы будем считать выручку. \n",
    "\n",
    "Посмотрим визуально на разброс цен."
   ]
  },
  {
   "cell_type": "code",
   "execution_count": 69,
   "id": "1e34835d",
   "metadata": {
    "scrolled": true
   },
   "outputs": [
    {
     "data": {
      "text/plain": [
       "item_id\n",
       "10002                        [0.85, 1.66, 1.63]\n",
       "10080                                    [0.85]\n",
       "10120                                    [0.21]\n",
       "10123C                                   [0.65]\n",
       "10124A                                   [0.42]\n",
       "10124G                                   [0.42]\n",
       "10125            [0.85, 1.66, 0.42, 0.81, 0.79]\n",
       "10133      [0.85, 1.66, 0.42, 0.81, 0.79, 1.63]\n",
       "10135      [2.51, 1.25, 0.42, 1.28, 2.46, 1.06]\n",
       "11001                        [3.36, 1.69, 3.29]\n",
       "15034                        [0.14, 0.85, 0.83]\n",
       "15036      [0.75, 1.28, 1.25, 0.65, 0.53, 1.63]\n",
       "15039                        [0.85, 1.66, 1.63]\n",
       "15044A                             [2.95, 5.79]\n",
       "15044B                       [2.95, 5.91, 5.79]\n",
       "15044C                       [5.91, 2.95, 5.79]\n",
       "15044D                       [5.91, 2.95, 5.79]\n",
       "15056BL              [5.95, 4.95, 12.72, 12.46]\n",
       "15056N         [5.95, 4.25, 12.72, 12.46, 4.95]\n",
       "15056P          [4.6, 5.95, 12.72, 12.46, 4.65]\n",
       "Name: price_per_one, dtype: object"
      ]
     },
     "execution_count": 69,
     "metadata": {},
     "output_type": "execute_result"
    }
   ],
   "source": [
    "price.groupby('item_id')['price_per_one'].unique().head(20)"
   ]
  },
  {
   "cell_type": "markdown",
   "id": "baba35e9",
   "metadata": {},
   "source": [
    "Разброс цен не слишком большой, посчитаем среднее и медиану цен для каждого товара."
   ]
  },
  {
   "cell_type": "code",
   "execution_count": 70,
   "id": "b71ed972",
   "metadata": {},
   "outputs": [
    {
     "data": {
      "text/html": [
       "<div>\n",
       "<style scoped>\n",
       "    .dataframe tbody tr th:only-of-type {\n",
       "        vertical-align: middle;\n",
       "    }\n",
       "\n",
       "    .dataframe tbody tr th {\n",
       "        vertical-align: top;\n",
       "    }\n",
       "\n",
       "    .dataframe thead tr th {\n",
       "        text-align: left;\n",
       "    }\n",
       "\n",
       "    .dataframe thead tr:last-of-type th {\n",
       "        text-align: right;\n",
       "    }\n",
       "</style>\n",
       "<table border=\"1\" class=\"dataframe\">\n",
       "  <thead>\n",
       "    <tr>\n",
       "      <th></th>\n",
       "      <th>median</th>\n",
       "      <th>mean</th>\n",
       "    </tr>\n",
       "    <tr>\n",
       "      <th></th>\n",
       "      <th>price_per_one</th>\n",
       "      <th>price_per_one</th>\n",
       "    </tr>\n",
       "    <tr>\n",
       "      <th>item_id</th>\n",
       "      <th></th>\n",
       "      <th></th>\n",
       "    </tr>\n",
       "  </thead>\n",
       "  <tbody>\n",
       "    <tr>\n",
       "      <th>10002</th>\n",
       "      <td>1.630</td>\n",
       "      <td>1.380000</td>\n",
       "    </tr>\n",
       "    <tr>\n",
       "      <th>10080</th>\n",
       "      <td>0.850</td>\n",
       "      <td>0.850000</td>\n",
       "    </tr>\n",
       "    <tr>\n",
       "      <th>10120</th>\n",
       "      <td>0.210</td>\n",
       "      <td>0.210000</td>\n",
       "    </tr>\n",
       "    <tr>\n",
       "      <th>10123C</th>\n",
       "      <td>0.650</td>\n",
       "      <td>0.650000</td>\n",
       "    </tr>\n",
       "    <tr>\n",
       "      <th>10124A</th>\n",
       "      <td>0.420</td>\n",
       "      <td>0.420000</td>\n",
       "    </tr>\n",
       "    <tr>\n",
       "      <th>10124G</th>\n",
       "      <td>0.420</td>\n",
       "      <td>0.420000</td>\n",
       "    </tr>\n",
       "    <tr>\n",
       "      <th>10125</th>\n",
       "      <td>0.810</td>\n",
       "      <td>0.906000</td>\n",
       "    </tr>\n",
       "    <tr>\n",
       "      <th>10133</th>\n",
       "      <td>0.830</td>\n",
       "      <td>1.026667</td>\n",
       "    </tr>\n",
       "    <tr>\n",
       "      <th>10135</th>\n",
       "      <td>1.265</td>\n",
       "      <td>1.496667</td>\n",
       "    </tr>\n",
       "    <tr>\n",
       "      <th>11001</th>\n",
       "      <td>3.290</td>\n",
       "      <td>2.780000</td>\n",
       "    </tr>\n",
       "    <tr>\n",
       "      <th>15034</th>\n",
       "      <td>0.830</td>\n",
       "      <td>0.606667</td>\n",
       "    </tr>\n",
       "    <tr>\n",
       "      <th>15036</th>\n",
       "      <td>1.000</td>\n",
       "      <td>1.015000</td>\n",
       "    </tr>\n",
       "    <tr>\n",
       "      <th>15039</th>\n",
       "      <td>1.630</td>\n",
       "      <td>1.380000</td>\n",
       "    </tr>\n",
       "    <tr>\n",
       "      <th>15044A</th>\n",
       "      <td>4.370</td>\n",
       "      <td>4.370000</td>\n",
       "    </tr>\n",
       "    <tr>\n",
       "      <th>15044B</th>\n",
       "      <td>5.790</td>\n",
       "      <td>4.883333</td>\n",
       "    </tr>\n",
       "    <tr>\n",
       "      <th>15044C</th>\n",
       "      <td>5.790</td>\n",
       "      <td>4.883333</td>\n",
       "    </tr>\n",
       "    <tr>\n",
       "      <th>15044D</th>\n",
       "      <td>5.790</td>\n",
       "      <td>4.883333</td>\n",
       "    </tr>\n",
       "    <tr>\n",
       "      <th>15056BL</th>\n",
       "      <td>9.205</td>\n",
       "      <td>9.020000</td>\n",
       "    </tr>\n",
       "    <tr>\n",
       "      <th>15056N</th>\n",
       "      <td>5.950</td>\n",
       "      <td>8.066000</td>\n",
       "    </tr>\n",
       "    <tr>\n",
       "      <th>15056P</th>\n",
       "      <td>5.950</td>\n",
       "      <td>8.076000</td>\n",
       "    </tr>\n",
       "  </tbody>\n",
       "</table>\n",
       "</div>"
      ],
      "text/plain": [
       "               median          mean\n",
       "        price_per_one price_per_one\n",
       "item_id                            \n",
       "10002           1.630      1.380000\n",
       "10080           0.850      0.850000\n",
       "10120           0.210      0.210000\n",
       "10123C          0.650      0.650000\n",
       "10124A          0.420      0.420000\n",
       "10124G          0.420      0.420000\n",
       "10125           0.810      0.906000\n",
       "10133           0.830      1.026667\n",
       "10135           1.265      1.496667\n",
       "11001           3.290      2.780000\n",
       "15034           0.830      0.606667\n",
       "15036           1.000      1.015000\n",
       "15039           1.630      1.380000\n",
       "15044A          4.370      4.370000\n",
       "15044B          5.790      4.883333\n",
       "15044C          5.790      4.883333\n",
       "15044D          5.790      4.883333\n",
       "15056BL         9.205      9.020000\n",
       "15056N          5.950      8.066000\n",
       "15056P          5.950      8.076000"
      ]
     },
     "execution_count": 70,
     "metadata": {},
     "output_type": "execute_result"
    }
   ],
   "source": [
    "# Делаем сводную таблицу: id товара, медианная цена, средняя цена.\n",
    "\n",
    "price_pivot = price.pivot_table(index=['item_id'], values='price_per_one', aggfunc=['median', 'mean'])\n",
    "price_pivot.head(20)"
   ]
  },
  {
   "cell_type": "markdown",
   "id": "864deb57",
   "metadata": {},
   "source": [
    "Выведем описательные статистики для средней и медианной цен."
   ]
  },
  {
   "cell_type": "code",
   "execution_count": 71,
   "id": "febd5346",
   "metadata": {},
   "outputs": [
    {
     "data": {
      "text/html": [
       "<div>\n",
       "<style scoped>\n",
       "    .dataframe tbody tr th:only-of-type {\n",
       "        vertical-align: middle;\n",
       "    }\n",
       "\n",
       "    .dataframe tbody tr th {\n",
       "        vertical-align: top;\n",
       "    }\n",
       "\n",
       "    .dataframe thead tr th {\n",
       "        text-align: left;\n",
       "    }\n",
       "</style>\n",
       "<table border=\"1\" class=\"dataframe\">\n",
       "  <thead>\n",
       "    <tr>\n",
       "      <th></th>\n",
       "      <th>median</th>\n",
       "      <th>mean</th>\n",
       "    </tr>\n",
       "    <tr>\n",
       "      <th></th>\n",
       "      <th>price_per_one</th>\n",
       "      <th>price_per_one</th>\n",
       "    </tr>\n",
       "  </thead>\n",
       "  <tbody>\n",
       "    <tr>\n",
       "      <th>count</th>\n",
       "      <td>3157.000000</td>\n",
       "      <td>3157.000000</td>\n",
       "    </tr>\n",
       "    <tr>\n",
       "      <th>mean</th>\n",
       "      <td>4.543583</td>\n",
       "      <td>4.651066</td>\n",
       "    </tr>\n",
       "    <tr>\n",
       "      <th>std</th>\n",
       "      <td>9.669887</td>\n",
       "      <td>11.008636</td>\n",
       "    </tr>\n",
       "    <tr>\n",
       "      <th>min</th>\n",
       "      <td>0.000000</td>\n",
       "      <td>0.000000</td>\n",
       "    </tr>\n",
       "    <tr>\n",
       "      <th>25%</th>\n",
       "      <td>1.475000</td>\n",
       "      <td>1.380000</td>\n",
       "    </tr>\n",
       "    <tr>\n",
       "      <th>50%</th>\n",
       "      <td>2.690000</td>\n",
       "      <td>2.767143</td>\n",
       "    </tr>\n",
       "    <tr>\n",
       "      <th>75%</th>\n",
       "      <td>4.980000</td>\n",
       "      <td>4.980000</td>\n",
       "    </tr>\n",
       "    <tr>\n",
       "      <th>max</th>\n",
       "      <td>265.500000</td>\n",
       "      <td>278.734425</td>\n",
       "    </tr>\n",
       "  </tbody>\n",
       "</table>\n",
       "</div>"
      ],
      "text/plain": [
       "             median          mean\n",
       "      price_per_one price_per_one\n",
       "count   3157.000000   3157.000000\n",
       "mean       4.543583      4.651066\n",
       "std        9.669887     11.008636\n",
       "min        0.000000      0.000000\n",
       "25%        1.475000      1.380000\n",
       "50%        2.690000      2.767143\n",
       "75%        4.980000      4.980000\n",
       "max      265.500000    278.734425"
      ]
     },
     "execution_count": 71,
     "metadata": {},
     "output_type": "execute_result"
    }
   ],
   "source": [
    "price_pivot.describe()"
   ]
  },
  {
   "cell_type": "markdown",
   "id": "73f3cc5c",
   "metadata": {},
   "source": [
    "В принципе разница не велика, но для нашей выборки и учитывая разброс цен для дальнейшего анализа к основному датасету мы будем присоединять данные с медианной ценой."
   ]
  },
  {
   "cell_type": "code",
   "execution_count": 72,
   "id": "a4d308dc",
   "metadata": {
    "scrolled": true
   },
   "outputs": [
    {
     "data": {
      "text/html": [
       "<div>\n",
       "<style scoped>\n",
       "    .dataframe tbody tr th:only-of-type {\n",
       "        vertical-align: middle;\n",
       "    }\n",
       "\n",
       "    .dataframe tbody tr th {\n",
       "        vertical-align: top;\n",
       "    }\n",
       "\n",
       "    .dataframe thead th {\n",
       "        text-align: right;\n",
       "    }\n",
       "</style>\n",
       "<table border=\"1\" class=\"dataframe\">\n",
       "  <thead>\n",
       "    <tr style=\"text-align: right;\">\n",
       "      <th></th>\n",
       "      <th>item_id</th>\n",
       "      <th>median_price</th>\n",
       "    </tr>\n",
       "  </thead>\n",
       "  <tbody>\n",
       "    <tr>\n",
       "      <th>0</th>\n",
       "      <td>10002</td>\n",
       "      <td>1.630</td>\n",
       "    </tr>\n",
       "    <tr>\n",
       "      <th>1</th>\n",
       "      <td>10080</td>\n",
       "      <td>0.850</td>\n",
       "    </tr>\n",
       "    <tr>\n",
       "      <th>2</th>\n",
       "      <td>10120</td>\n",
       "      <td>0.210</td>\n",
       "    </tr>\n",
       "    <tr>\n",
       "      <th>3</th>\n",
       "      <td>10123C</td>\n",
       "      <td>0.650</td>\n",
       "    </tr>\n",
       "    <tr>\n",
       "      <th>4</th>\n",
       "      <td>10124A</td>\n",
       "      <td>0.420</td>\n",
       "    </tr>\n",
       "    <tr>\n",
       "      <th>...</th>\n",
       "      <td>...</td>\n",
       "      <td>...</td>\n",
       "    </tr>\n",
       "    <tr>\n",
       "      <th>3152</th>\n",
       "      <td>gift_0001_20</td>\n",
       "      <td>16.845</td>\n",
       "    </tr>\n",
       "    <tr>\n",
       "      <th>3153</th>\n",
       "      <td>gift_0001_30</td>\n",
       "      <td>25.265</td>\n",
       "    </tr>\n",
       "    <tr>\n",
       "      <th>3154</th>\n",
       "      <td>gift_0001_40</td>\n",
       "      <td>34.040</td>\n",
       "    </tr>\n",
       "    <tr>\n",
       "      <th>3155</th>\n",
       "      <td>gift_0001_50</td>\n",
       "      <td>42.550</td>\n",
       "    </tr>\n",
       "    <tr>\n",
       "      <th>3156</th>\n",
       "      <td>m</td>\n",
       "      <td>2.550</td>\n",
       "    </tr>\n",
       "  </tbody>\n",
       "</table>\n",
       "<p>3157 rows × 2 columns</p>\n",
       "</div>"
      ],
      "text/plain": [
       "           item_id  median_price\n",
       "0            10002         1.630\n",
       "1            10080         0.850\n",
       "2            10120         0.210\n",
       "3           10123C         0.650\n",
       "4           10124A         0.420\n",
       "...            ...           ...\n",
       "3152  gift_0001_20        16.845\n",
       "3153  gift_0001_30        25.265\n",
       "3154  gift_0001_40        34.040\n",
       "3155  gift_0001_50        42.550\n",
       "3156             m         2.550\n",
       "\n",
       "[3157 rows x 2 columns]"
      ]
     },
     "execution_count": 72,
     "metadata": {},
     "output_type": "execute_result"
    }
   ],
   "source": [
    "# Сохраняем в переменную данные о медианной цене для каждого id товара.\n",
    "\n",
    "price_pivot = price.pivot_table(index=['item_id'], values=['price_per_one'], aggfunc=['median']).reset_index()\n",
    "price_pivot.columns = ['item_id', 'median_price']\n",
    "price_pivot"
   ]
  },
  {
   "cell_type": "markdown",
   "id": "852032ca",
   "metadata": {},
   "source": [
    "В результате предобработки мы привели данные в корректным типам данных. Выделили из даты месяц в отдельный столбец. \n",
    "\n",
    "Определили период, за который представлены данные: с 1 декабря 2016 года по 28 февраля 2017 года (3 месяца).\n",
    "    \n",
    "Обработали пропуски в данных. Удалили дубликаты. Удалили ряд аномальных значений: \n",
    "    - большие покупки и возвраты;\n",
    "    - возврат покупки, которая была совершена ранее 1 декабря;\n",
    "    - \"товары\", которые на самом деле являются комиссией компаниям и банкам. \n",
    "При этом потеря в данных составила - 1%.\n",
    "\n",
    "Общая картина в данных такова:\n",
    "\n",
    "- Всего уникальных покупок - 4871, из них возвратов - 1000;\n",
    "\n",
    "- % возратов - 20,79;\n",
    "\n",
    "- Уникальных товаров 3156; \n",
    "\n",
    "- 31 магазин; \n",
    "\n",
    "- 831610 товаров было куплено всего, 602917 - купили неучастники программы, 228693 - участники;\n",
    "\n",
    "- 1749 покупателей совершали покупки в этот период (+ ~ 929 покупателей, которые совершили покупки без авторизации), из них 587 - участники программы, 1162 (+ ~ 929) - неучастники.    "
   ]
  },
  {
   "cell_type": "markdown",
   "id": "2d669cb3",
   "metadata": {},
   "source": [
    "## Исследовательский анализ."
   ]
  },
  {
   "cell_type": "markdown",
   "id": "6635a3be",
   "metadata": {},
   "source": [
    "### Присоединение данных о ценах к основному датасету."
   ]
  },
  {
   "cell_type": "markdown",
   "id": "bf86f2af",
   "metadata": {},
   "source": [
    "Прежде чем приступим к исследовательскому анализу присоединим к основному датасету data полученные медианные цены на товары из датасета price. "
   ]
  },
  {
   "cell_type": "code",
   "execution_count": 73,
   "id": "9925f36a",
   "metadata": {
    "scrolled": false
   },
   "outputs": [
    {
     "data": {
      "text/html": [
       "<div>\n",
       "<style scoped>\n",
       "    .dataframe tbody tr th:only-of-type {\n",
       "        vertical-align: middle;\n",
       "    }\n",
       "\n",
       "    .dataframe tbody tr th {\n",
       "        vertical-align: top;\n",
       "    }\n",
       "\n",
       "    .dataframe thead th {\n",
       "        text-align: right;\n",
       "    }\n",
       "</style>\n",
       "<table border=\"1\" class=\"dataframe\">\n",
       "  <thead>\n",
       "    <tr style=\"text-align: right;\">\n",
       "      <th></th>\n",
       "      <th>purchase_id</th>\n",
       "      <th>item_id</th>\n",
       "      <th>quantity</th>\n",
       "      <th>purchasedate</th>\n",
       "      <th>customer_id</th>\n",
       "      <th>shop_id</th>\n",
       "      <th>loyalty_program</th>\n",
       "      <th>purchasemonth</th>\n",
       "      <th>median_price</th>\n",
       "    </tr>\n",
       "  </thead>\n",
       "  <tbody>\n",
       "    <tr>\n",
       "      <th>0</th>\n",
       "      <td>538280</td>\n",
       "      <td>21873</td>\n",
       "      <td>11</td>\n",
       "      <td>2016-12-10 12:50:00</td>\n",
       "      <td>18427.0</td>\n",
       "      <td>Shop 0</td>\n",
       "      <td>0</td>\n",
       "      <td>12</td>\n",
       "      <td>1.630</td>\n",
       "    </tr>\n",
       "    <tr>\n",
       "      <th>1</th>\n",
       "      <td>538862</td>\n",
       "      <td>22195</td>\n",
       "      <td>0</td>\n",
       "      <td>2016-12-14 14:11:00</td>\n",
       "      <td>22389.0</td>\n",
       "      <td>Shop 0</td>\n",
       "      <td>1</td>\n",
       "      <td>12</td>\n",
       "      <td>3.290</td>\n",
       "    </tr>\n",
       "    <tr>\n",
       "      <th>2</th>\n",
       "      <td>538855</td>\n",
       "      <td>21239</td>\n",
       "      <td>7</td>\n",
       "      <td>2016-12-14 13:50:00</td>\n",
       "      <td>22182.0</td>\n",
       "      <td>Shop 0</td>\n",
       "      <td>1</td>\n",
       "      <td>12</td>\n",
       "      <td>1.630</td>\n",
       "    </tr>\n",
       "    <tr>\n",
       "      <th>3</th>\n",
       "      <td>543543</td>\n",
       "      <td>22271</td>\n",
       "      <td>0</td>\n",
       "      <td>2017-02-09 15:33:00</td>\n",
       "      <td>23522.0</td>\n",
       "      <td>Shop 0</td>\n",
       "      <td>1</td>\n",
       "      <td>2</td>\n",
       "      <td>4.370</td>\n",
       "    </tr>\n",
       "    <tr>\n",
       "      <th>4</th>\n",
       "      <td>543812</td>\n",
       "      <td>79321</td>\n",
       "      <td>0</td>\n",
       "      <td>2017-02-13 14:40:00</td>\n",
       "      <td>23151.0</td>\n",
       "      <td>Shop 0</td>\n",
       "      <td>1</td>\n",
       "      <td>2</td>\n",
       "      <td>5.750</td>\n",
       "    </tr>\n",
       "    <tr>\n",
       "      <th>...</th>\n",
       "      <td>...</td>\n",
       "      <td>...</td>\n",
       "      <td>...</td>\n",
       "      <td>...</td>\n",
       "      <td>...</td>\n",
       "      <td>...</td>\n",
       "      <td>...</td>\n",
       "      <td>...</td>\n",
       "      <td>...</td>\n",
       "    </tr>\n",
       "    <tr>\n",
       "      <th>104274</th>\n",
       "      <td>538566</td>\n",
       "      <td>21826</td>\n",
       "      <td>1</td>\n",
       "      <td>2016-12-13 11:21:00</td>\n",
       "      <td>0</td>\n",
       "      <td>Shop 0</td>\n",
       "      <td>0</td>\n",
       "      <td>12</td>\n",
       "      <td>2.460</td>\n",
       "    </tr>\n",
       "    <tr>\n",
       "      <th>104275</th>\n",
       "      <td>540247</td>\n",
       "      <td>21742</td>\n",
       "      <td>0</td>\n",
       "      <td>2017-01-05 15:56:00</td>\n",
       "      <td>21143.0</td>\n",
       "      <td>Shop 0</td>\n",
       "      <td>0</td>\n",
       "      <td>1</td>\n",
       "      <td>9.335</td>\n",
       "    </tr>\n",
       "    <tr>\n",
       "      <th>104276</th>\n",
       "      <td>538068</td>\n",
       "      <td>85048</td>\n",
       "      <td>1</td>\n",
       "      <td>2016-12-09 14:05:00</td>\n",
       "      <td>23657.0</td>\n",
       "      <td>Shop 0</td>\n",
       "      <td>1</td>\n",
       "      <td>12</td>\n",
       "      <td>8.330</td>\n",
       "    </tr>\n",
       "    <tr>\n",
       "      <th>104277</th>\n",
       "      <td>538207</td>\n",
       "      <td>22818</td>\n",
       "      <td>11</td>\n",
       "      <td>2016-12-10 11:33:00</td>\n",
       "      <td>18427.0</td>\n",
       "      <td>Shop 0</td>\n",
       "      <td>0</td>\n",
       "      <td>12</td>\n",
       "      <td>0.830</td>\n",
       "    </tr>\n",
       "    <tr>\n",
       "      <th>104278</th>\n",
       "      <td>543977</td>\n",
       "      <td>22384</td>\n",
       "      <td>9</td>\n",
       "      <td>2017-02-14 15:35:00</td>\n",
       "      <td>21294.0</td>\n",
       "      <td>Shop 0</td>\n",
       "      <td>0</td>\n",
       "      <td>2</td>\n",
       "      <td>4.130</td>\n",
       "    </tr>\n",
       "  </tbody>\n",
       "</table>\n",
       "<p>104279 rows × 9 columns</p>\n",
       "</div>"
      ],
      "text/plain": [
       "       purchase_id item_id  quantity        purchasedate customer_id shop_id  \\\n",
       "0           538280   21873        11 2016-12-10 12:50:00     18427.0  Shop 0   \n",
       "1           538862   22195         0 2016-12-14 14:11:00     22389.0  Shop 0   \n",
       "2           538855   21239         7 2016-12-14 13:50:00     22182.0  Shop 0   \n",
       "3           543543   22271         0 2017-02-09 15:33:00     23522.0  Shop 0   \n",
       "4           543812   79321         0 2017-02-13 14:40:00     23151.0  Shop 0   \n",
       "...            ...     ...       ...                 ...         ...     ...   \n",
       "104274      538566   21826         1 2016-12-13 11:21:00           0  Shop 0   \n",
       "104275      540247   21742         0 2017-01-05 15:56:00     21143.0  Shop 0   \n",
       "104276      538068   85048         1 2016-12-09 14:05:00     23657.0  Shop 0   \n",
       "104277      538207   22818        11 2016-12-10 11:33:00     18427.0  Shop 0   \n",
       "104278      543977   22384         9 2017-02-14 15:35:00     21294.0  Shop 0   \n",
       "\n",
       "        loyalty_program  purchasemonth  median_price  \n",
       "0                     0             12         1.630  \n",
       "1                     1             12         3.290  \n",
       "2                     1             12         1.630  \n",
       "3                     1              2         4.370  \n",
       "4                     1              2         5.750  \n",
       "...                 ...            ...           ...  \n",
       "104274                0             12         2.460  \n",
       "104275                0              1         9.335  \n",
       "104276                1             12         8.330  \n",
       "104277                0             12         0.830  \n",
       "104278                0              2         4.130  \n",
       "\n",
       "[104279 rows x 9 columns]"
      ]
     },
     "execution_count": 73,
     "metadata": {},
     "output_type": "execute_result"
    }
   ],
   "source": [
    "# Проводим присоединение таблицы price_pivot к data по столбцу с id товара методом merge.\n",
    "\n",
    "data_price = data.merge(price_pivot, how='left', on=None, left_on='item_id', right_on='item_id')\n",
    "data_price"
   ]
  },
  {
   "cell_type": "code",
   "execution_count": 74,
   "id": "dbc6aa4d",
   "metadata": {},
   "outputs": [
    {
     "name": "stdout",
     "output_type": "stream",
     "text": [
      "<class 'pandas.core.frame.DataFrame'>\n",
      "Int64Index: 104279 entries, 0 to 104278\n",
      "Data columns (total 9 columns):\n",
      " #   Column           Non-Null Count   Dtype         \n",
      "---  ------           --------------   -----         \n",
      " 0   purchase_id      104279 non-null  object        \n",
      " 1   item_id          104279 non-null  object        \n",
      " 2   quantity         104279 non-null  int64         \n",
      " 3   purchasedate     104279 non-null  datetime64[ns]\n",
      " 4   customer_id      104279 non-null  object        \n",
      " 5   shop_id          104279 non-null  object        \n",
      " 6   loyalty_program  104279 non-null  int64         \n",
      " 7   purchasemonth    104279 non-null  int64         \n",
      " 8   median_price     104279 non-null  float64       \n",
      "dtypes: datetime64[ns](1), float64(1), int64(3), object(4)\n",
      "memory usage: 8.0+ MB\n"
     ]
    }
   ],
   "source": [
    "data_price.info()"
   ]
  },
  {
   "cell_type": "markdown",
   "id": "b37437d6",
   "metadata": {},
   "source": [
    "Просоеднинения прошло корректно. "
   ]
  },
  {
   "cell_type": "markdown",
   "id": "5c885762",
   "metadata": {},
   "source": [
    "### Описательные статистики для столбца с количеством товаров."
   ]
  },
  {
   "cell_type": "markdown",
   "id": "cfeb8ac4",
   "metadata": {},
   "source": [
    "Начнем со столбца с количеством товаров."
   ]
  },
  {
   "cell_type": "code",
   "execution_count": 75,
   "id": "c09a5eac",
   "metadata": {
    "scrolled": true
   },
   "outputs": [
    {
     "data": {
      "text/plain": [
       "count    104279.00\n",
       "mean          7.97\n",
       "std          46.45\n",
       "min       -2601.00\n",
       "25%           0.00\n",
       "50%           2.00\n",
       "75%           7.00\n",
       "max        5567.00\n",
       "Name: quantity, dtype: float64"
      ]
     },
     "execution_count": 75,
     "metadata": {},
     "output_type": "execute_result"
    }
   ],
   "source": [
    "# Округлим значения в нем до 2 знаков после запятой.\n",
    "\n",
    "round(data_price['quantity'].describe(), 2)"
   ]
  },
  {
   "cell_type": "markdown",
   "id": "8952a2d4",
   "metadata": {},
   "source": [
    "Сохраним значения min и max в переменные. "
   ]
  },
  {
   "cell_type": "code",
   "execution_count": 76,
   "id": "89efd820",
   "metadata": {},
   "outputs": [
    {
     "data": {
      "text/plain": [
       "(-2601, 5567)"
      ]
     },
     "execution_count": 76,
     "metadata": {},
     "output_type": "execute_result"
    }
   ],
   "source": [
    "quantity_min = min(data.quantity)\n",
    "quantity_max = max(data.quantity)\n",
    "\n",
    "quantity_min, quantity_max"
   ]
  },
  {
   "cell_type": "markdown",
   "id": "437546e1",
   "metadata": {},
   "source": [
    "Построим гистограмму распределения величин для столбца quantity. "
   ]
  },
  {
   "cell_type": "code",
   "execution_count": 77,
   "id": "2100e868",
   "metadata": {},
   "outputs": [
    {
     "data": {
      "text/plain": [
       "<AxesSubplot:>"
      ]
     },
     "execution_count": 77,
     "metadata": {},
     "output_type": "execute_result"
    },
    {
     "data": {
      "image/png": "[encoded data removed]",
      "text/plain": [
       "<Figure size 432x288 with 1 Axes>"
      ]
     },
     "metadata": {
      "needs_background": "light"
     },
     "output_type": "display_data"
    }
   ],
   "source": [
    "data_price['quantity'].hist(bins=50, range=(-50, 0))"
   ]
  },
  {
   "cell_type": "code",
   "execution_count": 78,
   "id": "69d5f5d7",
   "metadata": {
    "scrolled": true
   },
   "outputs": [
    {
     "data": {
      "text/plain": [
       "<AxesSubplot:>"
      ]
     },
     "execution_count": 78,
     "metadata": {},
     "output_type": "execute_result"
    },
    {
     "data": {
      "image/png": "[encoded data removed]",
      "text/plain": [
       "<Figure size 432x288 with 1 Axes>"
      ]
     },
     "metadata": {
      "needs_background": "light"
     },
     "output_type": "display_data"
    }
   ],
   "source": [
    "data_price['quantity'].hist(bins=50, range=(0, 500))"
   ]
  },
  {
   "cell_type": "code",
   "execution_count": 79,
   "id": "022afd73",
   "metadata": {},
   "outputs": [
    {
     "data": {
      "text/plain": [
       "<AxesSubplot:>"
      ]
     },
     "execution_count": 79,
     "metadata": {},
     "output_type": "execute_result"
    },
    {
     "data": {
      "image/png": "[encoded data removed]",
      "text/plain": [
       "<Figure size 432x288 with 1 Axes>"
      ]
     },
     "metadata": {
      "needs_background": "light"
     },
     "output_type": "display_data"
    }
   ],
   "source": [
    "data_price['quantity'].hist(bins=50, range=(500, 5600))"
   ]
  },
  {
   "cell_type": "markdown",
   "id": "01c5c5ab",
   "metadata": {},
   "source": [
    "Основная масса значений располагается в диапазоне от - 10 до 100, т.е. количетсво единиц покупки/возврата колеблется от -10 до 100. Остальные значения встречаются редко."
   ]
  },
  {
   "cell_type": "markdown",
   "id": "21746703",
   "metadata": {},
   "source": [
    "Определим какие значения могут являться выбросами."
   ]
  },
  {
   "cell_type": "code",
   "execution_count": 80,
   "id": "e8e2793b",
   "metadata": {},
   "outputs": [
    {
     "name": "stdout",
     "output_type": "stream",
     "text": [
      "-10.5 17.5\n"
     ]
    }
   ],
   "source": [
    "q1 = data_price.quantity.quantile(0.25)\n",
    "q3 = data_price.quantity.quantile(0.75)\n",
    "\n",
    "iqr = q3 - q1\n",
    "\n",
    "min_quantity = max(quantity_min, q1 - 1.5 * iqr)\n",
    "max_quantity = min(quantity_max, q3 + 1.5 * iqr)\n",
    "\n",
    "print(min_quantity, max_quantity)"
   ]
  },
  {
   "cell_type": "markdown",
   "id": "3ac4e434",
   "metadata": {},
   "source": [
    "Наиболее типичными покупками являются покупки до 17 единиц товаров в одном заказе, возвраты до 10 единиц товара. "
   ]
  },
  {
   "cell_type": "code",
   "execution_count": 81,
   "id": "3abaeca0",
   "metadata": {},
   "outputs": [
    {
     "data": {
      "text/plain": [
       "<AxesSubplot:>"
      ]
     },
     "execution_count": 81,
     "metadata": {},
     "output_type": "execute_result"
    },
    {
     "data": {
      "image/png": "[encoded data removed]",
      "text/plain": [
       "<Figure size 432x288 with 1 Axes>"
      ]
     },
     "metadata": {
      "needs_background": "light"
     },
     "output_type": "display_data"
    }
   ],
   "source": [
    "boxplot, quantity_stat = data_price.boxplot('quantity', return_type='both')\n",
    "boxplot"
   ]
  },
  {
   "cell_type": "code",
   "execution_count": 82,
   "id": "42641cc2",
   "metadata": {},
   "outputs": [
    {
     "name": "stdout",
     "output_type": "stream",
     "text": [
      "whiskers [array([  0., -10.]), array([ 7., 17.])]\n",
      "caps [array([-10., -10.]), array([17., 17.])]\n",
      "boxes [array([0., 0., 7., 7., 0.])]\n",
      "medians [array([2., 2.])]\n",
      "fliers [array([-25, -11, -25, ..., 23, 20, 69], dtype=object)]\n",
      "means []\n"
     ]
    }
   ],
   "source": [
    "for key, values_list in quantity_stat.items():\n",
    "    print(key, [x.get_ydata() for x in values_list])"
   ]
  },
  {
   "cell_type": "markdown",
   "id": "1a8e1ace",
   "metadata": {},
   "source": [
    "Боксплот и сводные данные по нему подтверждают данные полученные при подсчете и построении диаграммы. "
   ]
  },
  {
   "cell_type": "code",
   "execution_count": 83,
   "id": "e1bef8cd",
   "metadata": {
    "scrolled": true
   },
   "outputs": [
    {
     "data": {
      "text/plain": [
       "104279"
      ]
     },
     "execution_count": 83,
     "metadata": {},
     "output_type": "execute_result"
    }
   ],
   "source": [
    "len(data_price)"
   ]
  },
  {
   "cell_type": "code",
   "execution_count": 84,
   "id": "ce6cee54",
   "metadata": {
    "scrolled": false
   },
   "outputs": [
    {
     "data": {
      "text/plain": [
       "93202"
      ]
     },
     "execution_count": 84,
     "metadata": {},
     "output_type": "execute_result"
    }
   ],
   "source": [
    "len(data_price.query('@max_quantity > quantity > @min_quantity'))"
   ]
  },
  {
   "cell_type": "markdown",
   "id": "c129f3ae",
   "metadata": {},
   "source": [
    "Т.е. около 10 % данных можно отнести к разряду выбросов. Мы уже удалили из датасета данные, которые были сомнительными, поэтому сейчас не будем проводить дополнительное удаление.\n",
    "\n",
    "Посмотрим сколько строк со значениями более 2000 штук одного товара содержит в себе датасет. Мы уже увидели по гистограмме, что таких значений небольшое количество. "
   ]
  },
  {
   "cell_type": "code",
   "execution_count": 85,
   "id": "49083436",
   "metadata": {},
   "outputs": [
    {
     "data": {
      "text/plain": [
       "purchase_id        9\n",
       "item_id            9\n",
       "quantity           9\n",
       "purchasedate       9\n",
       "customer_id        9\n",
       "shop_id            9\n",
       "loyalty_program    9\n",
       "purchasemonth      9\n",
       "median_price       9\n",
       "dtype: int64"
      ]
     },
     "execution_count": 85,
     "metadata": {},
     "output_type": "execute_result"
    }
   ],
   "source": [
    "data_price.query('quantity > 2000').count()"
   ]
  },
  {
   "cell_type": "markdown",
   "id": "2cf55360",
   "metadata": {},
   "source": [
    "Всего 9 значений. Отфильтруем датасет от них. Это число составляет менее 1% всех значений. "
   ]
  },
  {
   "cell_type": "code",
   "execution_count": 86,
   "id": "f3cfccb6",
   "metadata": {},
   "outputs": [],
   "source": [
    "data_price = data_price.query('quantity < 2000')"
   ]
  },
  {
   "cell_type": "markdown",
   "id": "167857b4",
   "metadata": {},
   "source": [
    "### Описательные статистики для столбца с ценами."
   ]
  },
  {
   "cell_type": "code",
   "execution_count": 87,
   "id": "f654372f",
   "metadata": {
    "scrolled": true
   },
   "outputs": [
    {
     "data": {
      "text/plain": [
       "count    104270.000000\n",
       "mean          4.581226\n",
       "std           9.935967\n",
       "min           0.000000\n",
       "25%           1.650000\n",
       "50%           2.975000\n",
       "75%           5.205000\n",
       "max         265.500000\n",
       "Name: median_price, dtype: float64"
      ]
     },
     "execution_count": 87,
     "metadata": {},
     "output_type": "execute_result"
    }
   ],
   "source": [
    "data_price['median_price'].describe()"
   ]
  },
  {
   "cell_type": "markdown",
   "id": "9014129c",
   "metadata": {},
   "source": [
    "Медиана по нашим медианным ценам равна 3, max - 265.5, min - 0.\n",
    "\n",
    "Построим гистограмму распределения значений."
   ]
  },
  {
   "cell_type": "code",
   "execution_count": 88,
   "id": "64b3ebb7",
   "metadata": {
    "scrolled": false
   },
   "outputs": [
    {
     "data": {
      "text/plain": [
       "<AxesSubplot:>"
      ]
     },
     "execution_count": 88,
     "metadata": {},
     "output_type": "execute_result"
    },
    {
     "data": {
      "image/png": "[encoded data removed]",
      "text/plain": [
       "<Figure size 720x360 with 1 Axes>"
      ]
     },
     "metadata": {
      "needs_background": "light"
     },
     "output_type": "display_data"
    }
   ],
   "source": [
    "# Строим гистограмму с ранжированием, выбрала от 1 до 60, чтобы более подробно увидеть картину.\n",
    "\n",
    "data_price['median_price'].hist(bins=50, figsize=(10,5), alpha=1, range = (1, 60))"
   ]
  },
  {
   "cell_type": "code",
   "execution_count": 89,
   "id": "6d483032",
   "metadata": {},
   "outputs": [
    {
     "data": {
      "text/plain": [
       "<AxesSubplot:>"
      ]
     },
     "execution_count": 89,
     "metadata": {},
     "output_type": "execute_result"
    },
    {
     "data": {
      "image/png": "[encoded data removed]",
      "text/plain": [
       "<Figure size 720x360 with 1 Axes>"
      ]
     },
     "metadata": {
      "needs_background": "light"
     },
     "output_type": "display_data"
    }
   ],
   "source": [
    "# Строим гистограмму с ранжированием, выбрала от 60 до 250, чтобы более подробно увидеть картину.\n",
    "\n",
    "data_price['median_price'].hist(bins=50, figsize=(10,5), alpha=1, range = (60, 250))"
   ]
  },
  {
   "cell_type": "markdown",
   "id": "254755ac",
   "metadata": {},
   "source": [
    "Большая часть цен находится в промежутке между чуть больше 1 до 10, от 10 до 20 располагает около 10 % цен, далее уже идут единичные товары. Естественно это только модель, которую мы стараемся приблизить к реальности. "
   ]
  },
  {
   "cell_type": "markdown",
   "id": "26411615",
   "metadata": {},
   "source": [
    "Построим боксплот для столбца с ценами."
   ]
  },
  {
   "cell_type": "code",
   "execution_count": 90,
   "id": "3d7b4d77",
   "metadata": {
    "scrolled": false
   },
   "outputs": [
    {
     "data": {
      "text/plain": [
       "<AxesSubplot:>"
      ]
     },
     "execution_count": 90,
     "metadata": {},
     "output_type": "execute_result"
    },
    {
     "data": {
      "image/png": "[encoded data removed]",
      "text/plain": [
       "<Figure size 432x288 with 1 Axes>"
      ]
     },
     "metadata": {
      "needs_background": "light"
     },
     "output_type": "display_data"
    }
   ],
   "source": [
    "boxplot, price_stat = data_price.boxplot('median_price', return_type='both')\n",
    "boxplot"
   ]
  },
  {
   "cell_type": "markdown",
   "id": "aa31ca3d",
   "metadata": {},
   "source": [
    "Выведем числовые значения для боксплота."
   ]
  },
  {
   "cell_type": "code",
   "execution_count": 91,
   "id": "45d4c12a",
   "metadata": {
    "scrolled": true
   },
   "outputs": [
    {
     "name": "stdout",
     "output_type": "stream",
     "text": [
      "whiskers [array([1.65, 0.  ]), array([ 5.205, 10.44 ])]\n",
      "caps [array([0., 0.]), array([10.44, 10.44])]\n",
      "boxes [array([1.65 , 1.65 , 5.205, 5.205, 1.65 ])]\n",
      "medians [array([2.975, 2.975])]\n",
      "fliers [array([22.060000000000002, 12.29, 25.119999999999997, 14.955, 11.87,\n",
      "       13.29, 18.855, 14.280000000000001, 10.79, 12.75, 21.95, 10.95,\n",
      "       198.19, 11.85, 29.17, 14.955, 14.280000000000001,\n",
      "       14.280000000000001, 18.45, 25.475, 11.040000000000001, 16.95,\n",
      "       11.040000000000001, 11.87, 12.99, 33.29, 15.37, 11.040000000000001,\n",
      "       10.540000000000001, 12.565, 14.955, 13.29, 10.79, 12.735,\n",
      "       10.540000000000001, 11.87, 14.955, 22.060000000000002, 14.13,\n",
      "       12.99, 18.855, 12.565, 11.85, 22.04, 13.425, 12.735, 10.665,\n",
      "       14.280000000000001, 12.735, 11.040000000000001, 11.87,\n",
      "       11.040000000000001, 19.96, 10.79, 10.79, 12.46, 15.37, 11.885,\n",
      "       14.955, 11.040000000000001, 12.565, 11.63, 19.96, 14.955, 15.87,\n",
      "       12.615, 198.19, 14.280000000000001, 12.565, 12.99, 10.79,\n",
      "       11.040000000000001, 12.565, 12.46, 14.13, 11.87,\n",
      "       11.040000000000001, 14.955, 12.29, 12.565, 11.87, 15.37, 14.13,\n",
      "       15.37, 13.29, 14.280000000000001, 11.040000000000001,\n",
      "       11.040000000000001, 12.75, 10.540000000000001, 18.855, 12.565,\n",
      "       12.565, 14.43, 15.79, 29.17, 18.855, 12.565, 57.455, 14.43,\n",
      "       25.119999999999997, 12.565, 14.955, 12.46, 12.565, 12.59, 11.75,\n",
      "       11.040000000000001, 11.040000000000001, 10.79, 12.735, 12.565,\n",
      "       29.17, 18.855, 10.79, 10.79, 24.619999999999997, 12.46,\n",
      "       25.119999999999997, 24.96, 14.280000000000001, 11.040000000000001,\n",
      "       12.735, 18.855, 12.75, 11.87, 22.04, 198.19, 11.040000000000001,\n",
      "       12.565, 11.305, 21.95, 25.119999999999997, 12.75, 12.565, 155.0,\n",
      "       24.96, 12.735, 12.99, 12.75, 14.13, 14.955, 14.955,\n",
      "       11.040000000000001, 11.305, 18.855, 11.885, 12.99, 15.37, 11.75,\n",
      "       12.75, 12.565, 15.37, 12.565, 11.040000000000001, 16.95, 10.665,\n",
      "       11.040000000000001, 15.37, 22.060000000000002, 11.040000000000001,\n",
      "       10.79, 12.735, 11.040000000000001, 198.19, 22.04, 198.19, 18.45,\n",
      "       12.565, 12.75, 15.37, 11.040000000000001, 15.37, 25.225, 12.99,\n",
      "       25.119999999999997, 14.280000000000001, 11.040000000000001, 13.29,\n",
      "       12.565, 29.17, 10.69, 11.63, 14.955, 12.75, 29.17, 12.75, 11.87,\n",
      "       14.13, 29.17, 35.75, 11.040000000000001, 13.29, 25.119999999999997,\n",
      "       12.75, 19.96, 14.280000000000001, 16.95, 14.280000000000001, 10.61,\n",
      "       12.75, 12.29, 18.855, 12.29, 11.040000000000001, 14.955, 12.735,\n",
      "       25.119999999999997, 12.75, 14.280000000000001, 198.19, 15.87,\n",
      "       12.29, 11.040000000000001, 11.885, 22.060000000000002, 12.735,\n",
      "       25.119999999999997, 12.735, 12.99, 14.955, 12.99, 10.79, 12.46,\n",
      "       12.75, 14.280000000000001, 14.280000000000001, 198.19,\n",
      "       14.280000000000001, 15.87, 29.17, 12.75, 14.955, 12.95, 12.565,\n",
      "       12.46, 25.119999999999997, 11.87, 14.280000000000001, 11.87, 12.99,\n",
      "       12.75, 14.955, 11.040000000000001, 10.79, 14.13, 57.455,\n",
      "       11.040000000000001, 12.29, 11.040000000000001, 12.75, 25.49, 35.75,\n",
      "       10.79, 14.280000000000001, 12.29, 10.69, 15.719999999999999,\n",
      "       12.735, 11.040000000000001, 12.735, 11.040000000000001, 11.87,\n",
      "       50.0, 14.955, 14.955, 11.040000000000001, 12.565, 33.29, 14.955,\n",
      "       11.85, 14.280000000000001, 10.665, 14.13, 13.29, 14.955, 12.565,\n",
      "       13.29, 12.565, 10.79, 11.75, 12.735, 14.955, 198.19, 12.565, 18.45,\n",
      "       15.87, 14.95, 12.565, 18.855, 14.12, 18.855, 12.75, 14.13, 12.735,\n",
      "       18.855, 12.59, 198.19, 25.119999999999997, 11.63, 16.805, 15.37,\n",
      "       12.565, 25.225, 10.79, 15.37, 14.280000000000001, 12.735, 14.955,\n",
      "       15.79, 12.565, 11.87, 11.040000000000001, 12.735, 29.17, 10.79,\n",
      "       12.75, 12.565, 15.37, 12.735, 12.735, 12.04, 12.29, 12.565, 12.75,\n",
      "       12.565, 198.19, 11.040000000000001, 11.040000000000001, 12.735,\n",
      "       198.19, 11.040000000000001, 12.735, 14.13, 12.75, 12.29, 24.96,\n",
      "       11.040000000000001, 12.04, 10.665, 29.17, 14.13, 11.85,\n",
      "       10.540000000000001, 12.46, 12.565, 12.46, 10.79, 12.735, 198.19,\n",
      "       11.040000000000001, 13.59, 18.45, 14.280000000000001, 12.565,\n",
      "       14.280000000000001, 12.74, 10.79, 12.735, 198.19,\n",
      "       11.040000000000001, 15.37, 15.87, 10.665, 14.955, 15.79, 15.87,\n",
      "       15.37, 14.43, 198.19, 14.955, 12.04, 12.95, 10.665, 12.735,\n",
      "       11.040000000000001, 12.99, 12.46, 12.735, 12.75, 14.955, 12.565,\n",
      "       12.735, 12.565, 10.665, 11.040000000000001, 11.040000000000001,\n",
      "       15.87, 15.37, 12.565, 11.040000000000001, 12.735, 14.955,\n",
      "       10.540000000000001, 25.119999999999997, 12.75, 10.665,\n",
      "       14.280000000000001, 14.955, 15.37, 10.79, 12.99, 12.565, 15.87,\n",
      "       29.17, 18.855, 11.87, 11.87, 10.665, 16.95, 14.280000000000001,\n",
      "       12.04, 13.29, 12.29, 12.735, 10.79, 12.99, 12.75, 12.565, 12.735,\n",
      "       11.87, 18.855, 12.29, 12.565, 12.99, 12.29, 11.040000000000001,\n",
      "       12.735, 14.43, 12.46, 11.63, 12.42, 13.59, 10.79, 14.955, 12.735,\n",
      "       11.040000000000001, 12.99, 12.46, 18.855, 11.75, 11.85, 18.45,\n",
      "       12.735, 198.19, 10.61, 10.79, 15.37, 14.955, 12.565, 18.45,\n",
      "       11.040000000000001, 10.79, 13.425, 11.040000000000001, 14.955,\n",
      "       10.905, 14.280000000000001, 11.040000000000001, 10.79, 18.855,\n",
      "       14.955, 25.119999999999997, 18.855, 10.79, 11.85, 12.735, 13.425,\n",
      "       15.87, 13.425, 15.719999999999999, 14.280000000000001, 15.37,\n",
      "       12.735, 11.040000000000001, 12.735, 13.29, 18.855, 12.75,\n",
      "       11.040000000000001, 12.565, 11.75, 12.735, 23.45, 13.425, 12.735,\n",
      "       18.855, 11.87, 11.040000000000001, 10.79, 12.75, 13.29, 11.85,\n",
      "       11.040000000000001, 12.735, 12.565, 12.29, 22.060000000000002,\n",
      "       12.565, 12.75, 11.63, 24.96, 12.565, 11.040000000000001, 12.75,\n",
      "       12.29, 12.565, 14.43, 19.96, 150.0, 12.735, 19.96, 12.565,\n",
      "       14.280000000000001, 18.855, 14.280000000000001, 10.79, 14.955,\n",
      "       10.79, 12.99, 15.37, 12.735, 10.79, 14.43, 10.79, 11.85, 12.46,\n",
      "       22.060000000000002, 14.955, 12.29, 11.87, 12.735,\n",
      "       25.119999999999997, 198.19, 11.305, 18.855, 11.87, 11.63, 14.955,\n",
      "       15.87, 12.99, 12.46, 15.37, 29.17, 11.040000000000001,\n",
      "       25.119999999999997, 12.59, 10.69, 12.565, 29.95, 12.29, 12.75,\n",
      "       10.95, 22.060000000000002, 11.040000000000001, 13.59, 29.17, 10.79,\n",
      "       15.79, 12.99, 11.040000000000001, 10.79, 12.29, 25.119999999999997,\n",
      "       11.040000000000001, 18.45, 10.540000000000001, 11.87, 12.42, 14.13,\n",
      "       11.040000000000001, 12.735, 14.95, 11.85, 25.119999999999997,\n",
      "       25.119999999999997, 14.955, 12.75, 11.85, 11.75, 12.565, 14.955,\n",
      "       12.735, 11.75, 10.79, 12.735, 12.29, 11.75, 11.75,\n",
      "       11.040000000000001, 13.425, 12.565, 12.735, 14.95, 14.955, 10.79,\n",
      "       16.95, 15.37, 11.63, 12.735, 198.19, 12.565, 22.060000000000002,\n",
      "       12.565, 14.955, 15.79, 18.855, 12.735, 11.85, 12.46, 12.735, 12.99,\n",
      "       15.37, 12.75, 11.040000000000001, 12.99, 10.79, 11.305, 11.885,\n",
      "       66.36, 12.99, 14.43, 11.305, 25.225, 12.75, 13.425, 12.735,\n",
      "       14.280000000000001, 11.040000000000001, 11.040000000000001,\n",
      "       14.280000000000001, 15.37, 12.565, 18.855, 11.63, 12.99,\n",
      "       25.119999999999997, 10.79, 11.87, 15.37, 198.19, 18.855, 15.87,\n",
      "       11.040000000000001, 11.040000000000001, 25.119999999999997, 13.425,\n",
      "       12.29, 12.735, 14.43, 13.59, 12.99, 12.99, 12.565, 12.29,\n",
      "       11.040000000000001, 14.95, 11.02, 12.04, 11.040000000000001, 12.04,\n",
      "       12.735, 15.37, 57.455, 12.735, 10.79, 11.87, 14.280000000000001,\n",
      "       12.565, 12.565, 11.75, 12.565, 22.060000000000002,\n",
      "       11.040000000000001, 12.735, 12.565, 14.280000000000001,\n",
      "       11.040000000000001, 150.0, 14.43, 18.855, 10.79, 13.59, 21.23,\n",
      "       14.955, 198.19, 12.59, 12.735, 14.955, 14.43, 33.29, 11.87, 14.955,\n",
      "       11.040000000000001, 11.040000000000001, 15.37, 12.565,\n",
      "       11.040000000000001, 12.59, 16.95, 12.29, 16.95, 14.13,\n",
      "       14.280000000000001, 29.95, 14.955, 25.119999999999997, 13.59,\n",
      "       14.43, 15.37, 12.99, 10.79, 10.79, 25.225, 13.29, 198.19,\n",
      "       25.119999999999997, 12.565, 11.75, 11.040000000000001, 13.29,\n",
      "       10.79, 155.0, 10.69, 12.46, 265.5, 12.565, 12.565, 198.19, 15.87,\n",
      "       14.280000000000001, 11.040000000000001, 12.615, 12.565, 29.17,\n",
      "       12.75, 198.19, 14.280000000000001, 25.119999999999997,\n",
      "       11.040000000000001, 25.119999999999997, 11.75, 13.59, 11.87, 10.79,\n",
      "       11.87, 14.13, 12.29, 33.29, 57.455, 10.79, 18.855, 14.955, 21.95,\n",
      "       198.19, 10.665, 11.040000000000001, 12.29, 16.95, 50.0, 12.95,\n",
      "       11.040000000000001, 11.040000000000001, 29.17, 14.955, 16.95,\n",
      "       12.565, 12.735, 11.305, 12.735, 12.735, 15.79, 12.46, 10.79, 12.75,\n",
      "       13.425, 198.19, 12.565, 12.75, 10.540000000000001, 14.95, 12.04,\n",
      "       12.565, 12.735, 14.955, 33.29, 14.955, 14.280000000000001,\n",
      "       14.280000000000001, 14.955, 12.75, 12.46, 11.040000000000001,\n",
      "       11.040000000000001, 12.59, 11.040000000000001, 11.75, 11.63, 12.46,\n",
      "       10.79, 10.61, 15.37, 13.425, 11.040000000000001, 14.955, 12.565,\n",
      "       14.955, 11.040000000000001, 10.665, 11.305, 15.37, 15.37,\n",
      "       11.040000000000001, 18.855, 11.040000000000001, 14.955,\n",
      "       22.060000000000002, 10.79, 11.040000000000001, 198.19, 12.565,\n",
      "       14.13, 14.955, 14.43, 18.855, 15.87, 11.040000000000001, 12.735,\n",
      "       14.955, 12.565, 10.79, 12.99, 14.955, 21.95, 14.280000000000001,\n",
      "       12.75, 16.95, 33.29, 12.565, 10.79, 12.29, 12.565, 12.46, 15.87,\n",
      "       18.45, 15.37, 25.119999999999997, 18.29, 14.43, 12.75, 12.565,\n",
      "       11.040000000000001, 14.955, 11.040000000000001, 12.565, 11.87,\n",
      "       22.060000000000002, 12.74, 10.665, 10.540000000000001, 14.955,\n",
      "       14.955, 13.59, 12.75, 11.02, 12.75, 12.46, 12.565,\n",
      "       25.119999999999997, 15.37, 12.565, 25.119999999999997,\n",
      "       11.040000000000001, 14.95, 29.95, 11.87, 18.45, 29.17, 10.665,\n",
      "       13.29, 12.565, 11.87, 11.87, 14.280000000000001, 12.565, 14.43,\n",
      "       24.96, 19.84, 10.665, 16.95, 25.225, 24.96, 12.735, 12.735, 10.79,\n",
      "       14.280000000000001, 12.29, 12.735, 12.735, 10.665, 12.735,\n",
      "       14.280000000000001, 12.99, 21.95, 12.75, 12.565, 12.565, 11.885,\n",
      "       11.87, 12.29, 11.040000000000001, 25.119999999999997,\n",
      "       15.719999999999999, 13.425, 29.17, 10.905, 11.85, 12.735, 11.85,\n",
      "       15.79, 12.565, 25.119999999999997, 12.565, 12.565, 29.17, 11.87,\n",
      "       13.29, 15.87, 13.29, 18.855, 12.46, 18.855, 11.87, 14.955,\n",
      "       14.280000000000001, 25.14, 11.040000000000001, 14.955, 12.565,\n",
      "       14.43, 14.43, 12.29, 18.855, 33.29, 12.565, 11.305, 12.735, 15.87,\n",
      "       13.29, 25.119999999999997, 16.95, 12.735, 13.29, 19.84, 14.13,\n",
      "       14.280000000000001, 11.885, 14.13, 12.59, 12.565, 13.59, 14.95,\n",
      "       11.85, 11.040000000000001, 15.59, 13.29, 11.305, 10.79, 29.17,\n",
      "       15.87, 13.425, 12.735, 198.19, 12.565, 25.225, 12.29, 14.955,\n",
      "       18.45, 11.305, 12.565, 10.79, 10.79, 198.19, 18.855,\n",
      "       25.119999999999997, 13.59, 14.43, 13.425, 11.040000000000001,\n",
      "       14.280000000000001, 12.565, 12.75, 10.665, 14.280000000000001,\n",
      "       16.845, 12.29, 12.29, 11.63, 25.119999999999997, 15.37,\n",
      "       25.119999999999997, 12.735, 11.040000000000001, 25.225, 10.79,\n",
      "       15.37, 12.565, 11.040000000000001, 11.87, 11.040000000000001,\n",
      "       15.719999999999999, 14.955, 12.04, 12.565, 12.735, 18.45,\n",
      "       11.040000000000001, 11.040000000000001, 13.29, 11.040000000000001,\n",
      "       13.425, 16.805, 18.855, 13.425, 24.96, 12.75, 15.37, 265.5, 14.955,\n",
      "       12.565, 14.955, 13.59, 11.040000000000001, 41.32, 12.75, 12.735,\n",
      "       15.719999999999999, 12.565, 15.37, 13.425, 10.665, 14.955, 12.46,\n",
      "       12.46, 12.565, 11.040000000000001, 25.119999999999997, 12.565,\n",
      "       14.955, 11.040000000000001, 11.305, 57.455, 12.565,\n",
      "       11.040000000000001, 12.735, 12.565, 12.735, 14.280000000000001,\n",
      "       14.955, 14.43, 10.79, 12.75, 11.040000000000001, 198.19, 14.955,\n",
      "       14.955, 11.040000000000001, 22.060000000000002, 50.0, 14.955,\n",
      "       15.77, 14.280000000000001, 11.040000000000001, 11.75, 14.955,\n",
      "       12.99, 12.565, 14.955, 13.425, 15.37, 14.955, 11.75, 14.955,\n",
      "       14.955, 14.955, 25.119999999999997, 265.5, 14.955,\n",
      "       15.719999999999999, 12.75, 15.79, 10.540000000000001, 11.87, 16.95,\n",
      "       12.735, 15.37, 14.280000000000001, 12.565, 14.13, 12.29, 13.59,\n",
      "       14.955, 12.735, 29.17, 22.060000000000002, 12.735, 12.565, 12.565,\n",
      "       11.75, 33.29, 14.955, 13.59, 11.63, 14.955, 13.29, 12.99, 12.565,\n",
      "       14.95, 12.565, 12.565, 12.735, 18.45, 15.37, 12.75, 10.79, 11.87,\n",
      "       11.040000000000001, 10.79, 14.13, 18.855, 22.04,\n",
      "       11.040000000000001, 12.565, 12.565, 13.425, 12.565, 11.85, 10.79,\n",
      "       12.735, 18.855, 13.59, 18.855, 19.96, 12.565, 12.75, 16.95, 10.665,\n",
      "       14.280000000000001, 22.060000000000002, 11.040000000000001, 11.85,\n",
      "       25.14, 11.040000000000001, 24.96, 12.75, 12.75, 61.475, 11.75,\n",
      "       13.425, 10.79, 11.85, 10.61, 11.75, 11.85, 11.63, 14.13, 12.75,\n",
      "       11.040000000000001, 21.95, 12.59, 12.46, 12.565,\n",
      "       11.040000000000001, 15.87, 19.95, 12.29, 11.040000000000001,\n",
      "       12.735, 13.425, 14.955, 12.735, 10.665, 14.955, 12.565, 11.85,\n",
      "       10.79, 12.565, 12.735, 11.85, 12.735, 25.119999999999997, 198.19,\n",
      "       10.540000000000001, 117.5, 15.87, 14.280000000000001, 12.565,\n",
      "       12.735, 10.79, 12.565, 12.735, 25.119999999999997,\n",
      "       11.040000000000001, 13.59, 12.75, 14.280000000000001, 12.59,\n",
      "       25.119999999999997, 11.85, 24.619999999999997, 18.855,\n",
      "       24.619999999999997, 14.280000000000001, 25.119999999999997, 25.225,\n",
      "       14.43, 18.855, 12.59, 12.565, 12.615, 13.29, 18.855, 12.285, 12.75,\n",
      "       13.425, 11.040000000000001, 12.565, 12.735, 10.79, 14.95,\n",
      "       11.040000000000001, 25.14, 12.565, 25.14, 12.735, 14.955, 12.565,\n",
      "       11.87, 12.735, 14.280000000000001, 12.59, 14.95, 19.96, 10.95,\n",
      "       11.85, 12.46, 13.425, 11.040000000000001, 12.565, 12.565, 12.565,\n",
      "       12.565, 12.75, 25.265, 12.29, 24.96, 12.565, 10.665,\n",
      "       11.040000000000001, 11.63, 14.955, 198.19, 18.855,\n",
      "       11.040000000000001, 14.280000000000001, 14.955, 14.280000000000001,\n",
      "       11.040000000000001, 10.79, 18.45, 13.29, 11.040000000000001,\n",
      "       11.040000000000001, 14.955, 10.79, 11.040000000000001, 12.04,\n",
      "       12.29, 10.79, 14.280000000000001, 13.425, 21.95, 14.955, 15.87,\n",
      "       14.280000000000001, 11.85, 15.37, 14.95, 12.565, 23.45, 18.855,\n",
      "       10.79, 11.63, 12.565, 18.855, 11.85, 11.87, 15.77, 12.46, 13.29,\n",
      "       18.855, 25.225, 12.75, 12.99, 14.955, 14.955, 15.37,\n",
      "       10.540000000000001, 12.735, 12.75, 11.63, 11.040000000000001,\n",
      "       11.040000000000001, 14.955, 11.75, 15.87, 12.735, 198.19, 13.29,\n",
      "       11.040000000000001, 265.5, 14.43, 19.119999999999997, 11.87, 11.87,\n",
      "       12.735, 15.37, 12.735, 16.95, 15.37, 50.0, 61.475, 16.95, 12.565,\n",
      "       19.96, 12.565, 19.96, 14.13, 12.735, 14.280000000000001, 12.99,\n",
      "       11.040000000000001, 15.87, 11.040000000000001, 11.95,\n",
      "       25.119999999999997, 14.43, 12.99, 15.37, 11.885,\n",
      "       14.280000000000001, 14.280000000000001, 12.59, 12.565,\n",
      "       11.040000000000001, 22.04, 12.735, 18.855, 11.040000000000001,\n",
      "       14.955, 12.565, 198.19, 11.040000000000001, 22.060000000000002,\n",
      "       11.87, 11.040000000000001, 18.855, 15.37, 12.29, 11.85, 12.565,\n",
      "       16.95, 12.565, 12.99, 18.855, 12.565, 18.855, 198.19, 14.955,\n",
      "       10.540000000000001, 14.95, 22.060000000000002, 10.665, 14.955,\n",
      "       14.280000000000001, 16.805, 61.475, 14.955, 10.79, 14.955,\n",
      "       11.040000000000001, 12.565, 11.305, 12.735, 12.74, 15.87, 12.735,\n",
      "       10.79, 11.040000000000001, 15.37, 12.29, 12.29, 15.37,\n",
      "       11.040000000000001, 14.280000000000001, 42.5, 13.59,\n",
      "       14.280000000000001, 11.040000000000001, 11.040000000000001,\n",
      "       11.040000000000001, 14.280000000000001, 12.04, 14.12,\n",
      "       14.280000000000001, 14.13, 14.955, 11.75, 10.79, 12.735, 14.955,\n",
      "       25.119999999999997, 10.79, 14.280000000000001, 12.565,\n",
      "       11.040000000000001, 11.040000000000001, 11.885, 13.425, 22.04,\n",
      "       12.46, 12.735, 25.14, 39.95, 11.63, 18.855, 13.29, 11.87, 18.45,\n",
      "       10.79, 11.040000000000001, 29.17, 15.77, 13.425,\n",
      "       11.040000000000001, 12.46, 15.37, 11.305, 12.565, 198.19, 15.87,\n",
      "       18.855, 12.735, 42.5, 14.280000000000001, 10.665, 11.63, 10.79,\n",
      "       10.79, 14.955, 11.63, 11.040000000000001, 18.855, 14.43, 15.37,\n",
      "       18.855, 18.855, 12.04, 10.665, 10.79, 14.95, 14.955, 12.75, 12.565,\n",
      "       14.280000000000001, 11.85, 12.99, 25.119999999999997, 18.855,\n",
      "       13.425, 12.735, 11.305, 21.95, 14.13, 13.59, 11.87, 25.225,\n",
      "       25.119999999999997, 14.280000000000001, 12.565, 12.735,\n",
      "       24.619999999999997, 12.75, 12.735, 265.5, 15.37, 14.955, 13.425,\n",
      "       10.79, 14.955, 12.565, 15.37, 11.040000000000001, 12.735, 14.955,\n",
      "       10.540000000000001, 15.87, 14.955, 14.955, 12.29, 12.75,\n",
      "       14.280000000000001, 14.43, 12.565, 12.04, 12.735, 12.46, 12.565,\n",
      "       13.29, 15.87, 11.85, 11.040000000000001, 12.735, 12.59, 12.99,\n",
      "       265.5, 12.735, 11.85, 14.280000000000001, 12.565, 14.95,\n",
      "       11.040000000000001, 10.540000000000001, 12.29, 13.29, 12.565,\n",
      "       12.565, 12.565, 15.37, 11.87, 15.87, 24.619999999999997, 13.425,\n",
      "       14.955, 12.565, 15.87, 12.735, 10.95, 14.95, 14.13, 18.855,\n",
      "       25.119999999999997, 12.565, 13.425, 14.280000000000001, 11.87,\n",
      "       22.060000000000002, 10.540000000000001, 14.280000000000001, 12.735,\n",
      "       12.565, 12.75, 10.79, 13.425, 13.29, 14.280000000000001,\n",
      "       24.619999999999997, 12.735, 12.75, 12.735, 14.955, 10.79, 14.955,\n",
      "       22.060000000000002, 25.119999999999997, 11.87, 198.19, 11.75,\n",
      "       23.45, 14.955, 29.17, 14.43, 12.75, 11.040000000000001, 10.79,\n",
      "       198.19, 12.735, 11.040000000000001, 10.79, 11.040000000000001,\n",
      "       12.735, 14.13, 12.565, 18.855, 11.305, 35.75, 11.85, 12.75,\n",
      "       25.119999999999997, 11.040000000000001, 14.280000000000001, 12.29,\n",
      "       11.040000000000001, 15.719999999999999, 11.87, 11.040000000000001,\n",
      "       12.99, 12.565, 13.425, 12.565, 11.87, 24.96, 11.040000000000001,\n",
      "       16.805, 14.955, 13.59, 18.855, 15.79, 12.565, 15.37, 12.565, 13.29,\n",
      "       12.75, 12.99, 12.565, 12.99, 18.855, 14.280000000000001, 12.99,\n",
      "       12.735, 12.565, 14.280000000000001, 10.79, 14.280000000000001,\n",
      "       198.19, 10.79, 11.040000000000001, 12.735, 12.46, 12.565, 12.735,\n",
      "       14.955, 18.855, 13.425, 11.040000000000001, 10.69, 19.96, 12.75,\n",
      "       22.04, 12.75, 14.955, 12.565, 25.225, 12.75, 14.280000000000001,\n",
      "       11.87, 18.855, 25.475, 14.43, 11.63, 12.46, 11.87, 12.75,\n",
      "       14.280000000000001, 14.280000000000001, 14.955, 12.75, 10.79,\n",
      "       12.565, 14.13, 14.280000000000001, 11.040000000000001, 14.13,\n",
      "       10.540000000000001, 11.040000000000001, 12.565, 11.85, 11.75,\n",
      "       14.955, 14.13, 14.280000000000001, 22.060000000000002, 11.85,\n",
      "       14.280000000000001, 11.040000000000001, 11.87, 12.99, 12.59,\n",
      "       12.565, 14.280000000000001, 12.565, 15.59, 12.29,\n",
      "       11.040000000000001, 13.425, 10.684999999999999, 12.735, 18.855,\n",
      "       11.85, 12.46, 12.565, 12.75, 12.29, 25.475, 11.040000000000001,\n",
      "       10.665, 14.955, 18.855, 11.040000000000001, 14.955, 12.735, 12.565,\n",
      "       19.96, 22.04, 14.955, 11.85, 22.060000000000002, 10.665, 13.59,\n",
      "       25.119999999999997, 10.79, 15.79, 10.69, 14.280000000000001, 12.75,\n",
      "       12.99, 12.565, 10.665, 11.63, 11.87, 14.95, 12.565, 10.665,\n",
      "       14.280000000000001, 18.45, 23.45, 11.305, 18.855, 10.79, 11.63,\n",
      "       11.040000000000001, 12.46, 11.63, 12.565, 11.75,\n",
      "       11.040000000000001, 10.79, 12.735, 10.665, 14.955, 14.955, 14.13,\n",
      "       12.565, 12.565, 25.119999999999997, 12.75, 11.040000000000001,\n",
      "       16.95, 11.63, 15.87, 12.565, 13.29, 15.87, 10.79, 29.17,\n",
      "       14.280000000000001, 14.955, 11.040000000000001, 14.955,\n",
      "       14.280000000000001, 11.87, 11.040000000000001, 13.59, 10.79, 11.63,\n",
      "       13.29, 12.735, 18.855, 11.040000000000001, 10.61, 14.95, 57.455,\n",
      "       10.69, 10.61, 12.735, 12.75, 12.565, 10.79, 12.75, 10.79, 14.13,\n",
      "       12.46, 13.29, 12.565, 11.85, 12.565, 13.425, 10.79,\n",
      "       11.040000000000001, 18.855, 12.29, 11.040000000000001, 13.425,\n",
      "       10.540000000000001, 11.87, 14.955, 15.37, 10.79,\n",
      "       11.040000000000001, 11.040000000000001, 12.99, 14.955, 15.37,\n",
      "       14.955, 15.37, 14.955, 12.565, 11.87, 15.87, 11.63, 18.855,\n",
      "       22.060000000000002, 10.79, 12.29, 18.855, 14.955,\n",
      "       14.280000000000001, 13.425, 12.99, 14.43, 11.87, 13.425,\n",
      "       14.280000000000001, 12.99, 12.99, 13.59, 11.040000000000001, 50.0,\n",
      "       12.75, 11.040000000000001, 11.040000000000001, 12.735, 12.99,\n",
      "       10.61, 14.955, 16.95, 16.95, 12.29, 12.565, 12.735, 14.955,\n",
      "       14.280000000000001, 10.61, 15.87, 11.85, 10.79, 12.735, 12.565,\n",
      "       12.735, 15.87, 11.040000000000001, 198.19, 18.855,\n",
      "       11.040000000000001, 13.425, 12.75, 198.19, 12.29, 14.955,\n",
      "       22.060000000000002, 14.13, 12.75, 11.040000000000001, 198.19,\n",
      "       11.63, 11.75, 12.46, 14.955, 10.665, 12.75, 13.29,\n",
      "       11.040000000000001, 12.565, 12.565, 155.0, 13.29, 10.665,\n",
      "       11.040000000000001, 11.040000000000001, 11.040000000000001, 16.95,\n",
      "       10.79, 12.565, 12.29, 12.565, 11.040000000000001, 15.37, 13.425,\n",
      "       11.040000000000001, 18.855, 14.955, 11.87, 12.565, 12.735, 10.79,\n",
      "       14.280000000000001, 12.565, 14.955, 14.13, 12.735, 11.87, 12.46,\n",
      "       12.565, 11.885, 13.425, 12.75, 12.75, 12.565, 12.565, 14.955,\n",
      "       11.040000000000001, 11.040000000000001, 12.565, 12.735, 10.79,\n",
      "       13.425, 11.040000000000001, 14.955, 14.955, 14.13, 10.61, 14.43,\n",
      "       35.75, 18.855, 14.955, 10.79, 24.96, 12.75, 10.79, 12.75, 12.75,\n",
      "       11.040000000000001, 14.955, 12.565, 22.060000000000002, 18.855,\n",
      "       12.04, 12.59, 12.735, 15.87, 11.87, 14.13, 14.280000000000001,\n",
      "       15.37, 50.0, 11.040000000000001, 14.955, 12.565, 15.87, 10.79,\n",
      "       12.99, 12.565, 14.95, 11.85, 11.040000000000001,\n",
      "       10.540000000000001, 10.665, 35.75, 11.040000000000001, 11.85,\n",
      "       13.59, 11.040000000000001, 11.040000000000001, 18.855,\n",
      "       11.040000000000001, 15.87, 14.280000000000001, 12.735, 12.285,\n",
      "       10.79, 14.955, 12.29, 16.63, 12.565, 11.040000000000001, 12.565,\n",
      "       15.37, 14.280000000000001, 12.565, 10.79, 12.29, 14.955, 10.665,\n",
      "       18.855, 15.87, 12.735, 15.37, 14.280000000000001,\n",
      "       15.719999999999999, 25.119999999999997, 14.43, 12.95, 11.85, 10.79,\n",
      "       12.735, 18.45, 25.225, 22.060000000000002, 12.565, 11.85, 10.79,\n",
      "       12.565, 12.75, 15.37, 15.87, 12.565, 11.305, 12.75,\n",
      "       11.040000000000001, 15.87, 11.040000000000001, 12.99, 12.565,\n",
      "       11.040000000000001, 18.29, 22.04, 11.040000000000001, 12.75,\n",
      "       12.565, 13.425, 11.040000000000001, 12.75, 12.29, 198.19, 13.29,\n",
      "       12.46, 10.79, 22.060000000000002, 10.905, 12.735, 13.425, 12.29,\n",
      "       16.95, 12.59, 12.735, 16.95, 12.565, 14.13, 12.735, 14.955, 13.29,\n",
      "       12.565, 12.99, 14.955, 12.75, 16.95, 15.37, 15.87, 11.87,\n",
      "       11.040000000000001, 15.37, 12.565, 12.565, 11.02, 12.285, 12.565,\n",
      "       11.040000000000001, 12.565, 11.85, 10.79, 198.19, 14.955, 15.37,\n",
      "       11.040000000000001, 12.565, 198.19, 19.96, 12.46, 13.59, 12.46,\n",
      "       12.99, 12.735, 16.95, 10.665, 14.43, 12.565, 13.425,\n",
      "       11.040000000000001, 18.855, 11.885, 22.060000000000002, 12.75,\n",
      "       12.735, 12.565, 12.565, 12.29, 12.565, 12.04, 13.29, 18.855,\n",
      "       12.565, 10.540000000000001, 14.280000000000001, 16.455000000000002,\n",
      "       14.280000000000001, 14.955, 15.87, 13.425, 12.29,\n",
      "       11.040000000000001, 10.540000000000001, 11.040000000000001, 12.565,\n",
      "       12.565, 11.040000000000001, 18.855, 12.75, 10.79,\n",
      "       14.280000000000001, 12.75, 22.060000000000002, 14.13, 13.29, 12.29,\n",
      "       10.79, 11.75, 13.59, 11.75, 10.95, 12.565, 10.79, 12.565, 18.855,\n",
      "       12.565, 15.87, 11.040000000000001, 11.040000000000001, 12.99,\n",
      "       11.75, 11.645, 12.735, 10.79, 14.955, 12.75, 14.955, 10.61, 12.565,\n",
      "       14.955, 11.040000000000001, 11.63, 11.75, 11.040000000000001,\n",
      "       11.040000000000001, 12.565, 11.87, 15.37, 10.79, 14.955,\n",
      "       11.040000000000001, 11.87, 18.855, 10.79, 14.43, 33.29, 21.95,\n",
      "       18.45, 14.955, 10.79, 21.95, 14.280000000000001,\n",
      "       22.060000000000002, 15.37, 12.75, 14.955, 12.99, 16.95, 13.59,\n",
      "       11.87, 12.735, 12.565, 35.75, 12.99, 12.29, 13.29, 15.37, 11.75,\n",
      "       10.665, 15.37, 14.955, 14.280000000000001, 14.955, 11.85, 12.735,\n",
      "       198.19, 18.45, 12.29, 15.37, 50.0, 15.87, 18.45, 198.19, 25.225,\n",
      "       10.79, 14.955, 14.43, 10.79, 11.75, 15.79, 35.95, 12.735,\n",
      "       11.040000000000001, 11.040000000000001, 18.855, 15.37, 18.29,\n",
      "       12.59, 11.87, 14.955, 12.735, 14.280000000000001, 10.79, 15.87,\n",
      "       11.040000000000001, 12.565, 12.99, 12.565, 15.77, 12.565,\n",
      "       14.280000000000001, 18.855, 11.040000000000001, 13.29, 14.95,\n",
      "       12.735, 13.425, 22.060000000000002, 10.79, 13.29, 12.75, 12.735,\n",
      "       25.225, 10.665, 25.225, 14.955, 14.955, 12.75, 15.719999999999999,\n",
      "       15.37, 12.615, 11.87, 10.79, 12.75, 14.280000000000001, 198.19,\n",
      "       14.955, 14.955, 10.79, 14.955, 11.87, 13.59, 13.59, 12.735, 11.63,\n",
      "       12.565, 23.45, 12.04, 18.855, 14.280000000000001, 12.735,\n",
      "       14.280000000000001, 24.96, 12.565, 13.29, 11.75, 14.955, 14.13,\n",
      "       14.955, 10.79, 14.955, 12.04, 10.79, 24.96, 25.225, 12.565, 11.85,\n",
      "       12.29, 25.225, 10.79, 12.565, 14.280000000000001, 10.79, 12.735,\n",
      "       14.955, 14.955, 14.280000000000001, 14.955, 19.96,\n",
      "       11.040000000000001, 12.565, 14.280000000000001, 12.735, 10.665,\n",
      "       14.955, 15.37, 15.79, 11.85, 15.37, 14.955, 12.46, 12.565, 12.735,\n",
      "       15.37, 22.04, 12.29, 14.13, 12.565, 15.37, 10.95, 10.665, 15.37,\n",
      "       12.735, 12.565, 11.85, 14.280000000000001, 22.060000000000002,\n",
      "       14.955, 10.79, 15.37, 25.225, 12.735, 16.95, 29.17, 14.955, 10.79,\n",
      "       21.95, 10.665, 11.040000000000001, 11.040000000000001,\n",
      "       11.040000000000001, 11.87, 12.29, 14.955, 15.87,\n",
      "       14.280000000000001, 12.75, 14.955, 10.79, 14.280000000000001,\n",
      "       14.43, 12.735, 12.565, 11.040000000000001, 12.565, 22.04, 16.95,\n",
      "       10.665, 12.29, 14.955, 18.855, 10.79, 12.565, 14.280000000000001,\n",
      "       12.565, 12.46, 12.735, 14.280000000000001, 13.425, 15.37, 19.84,\n",
      "       15.87, 12.735, 11.75, 14.955, 13.59, 14.955, 12.565, 12.29, 22.04,\n",
      "       11.040000000000001, 12.46, 10.79, 13.59, 12.735, 198.19, 12.735,\n",
      "       11.040000000000001, 18.855, 25.119999999999997, 12.04, 12.75,\n",
      "       29.17, 13.425, 11.75, 11.040000000000001, 12.46, 18.855, 16.95,\n",
      "       12.735, 11.040000000000001, 13.29, 12.04, 12.75, 14.955, 10.69,\n",
      "       33.29, 12.565, 12.46, 34.04, 24.96, 18.855, 14.955, 18.45, 22.04,\n",
      "       12.29, 11.040000000000001, 14.95, 11.85, 14.280000000000001,\n",
      "       12.735, 12.29, 14.955, 12.565, 25.119999999999997, 14.955, 15.87,\n",
      "       18.855, 11.85, 14.280000000000001, 13.29, 12.46, 18.855,\n",
      "       14.280000000000001, 12.735, 18.855, 155.0, 14.280000000000001,\n",
      "       14.43, 14.13, 12.99, 18.855, 10.79, 11.75, 11.040000000000001,\n",
      "       10.79, 11.87, 11.040000000000001, 12.75, 12.565,\n",
      "       25.119999999999997, 10.79, 14.955, 11.040000000000001, 150.0,\n",
      "       22.060000000000002, 11.75, 11.040000000000001, 12.565, 12.565,\n",
      "       14.43, 13.29, 11.040000000000001, 14.955, 12.565, 24.96,\n",
      "       11.040000000000001, 11.040000000000001, 12.29, 57.455, 14.955,\n",
      "       12.99, 25.119999999999997, 22.04, 12.95, 12.565,\n",
      "       14.280000000000001, 15.79, 14.280000000000001, 198.19, 11.305,\n",
      "       42.95, 12.565, 14.280000000000001, 14.95, 14.95, 14.955,\n",
      "       14.280000000000001, 14.280000000000001, 10.79, 19.96,\n",
      "       10.540000000000001, 25.225, 11.85, 14.280000000000001, 15.87,\n",
      "       14.13, 19.96, 18.45, 12.75, 12.75, 14.955, 18.855,\n",
      "       11.040000000000001, 14.43, 12.565, 11.040000000000001, 14.43,\n",
      "       25.119999999999997, 14.955, 11.305, 14.955, 13.29, 10.79, 13.59,\n",
      "       12.735, 15.37, 24.96, 14.955, 198.19, 14.955, 11.040000000000001,\n",
      "       12.99, 14.955, 14.955, 18.855, 12.735, 12.565, 11.040000000000001,\n",
      "       10.665, 16.95, 12.54, 12.99, 10.540000000000001, 12.735, 10.79,\n",
      "       10.79, 10.665, 14.955, 14.43, 12.735, 24.619999999999997, 12.735,\n",
      "       11.85, 11.85, 12.565, 10.665, 11.75, 11.87, 10.665, 12.75, 12.75,\n",
      "       25.119999999999997, 12.29, 24.619999999999997, 15.79, 14.95,\n",
      "       57.455, 12.565, 25.475, 11.63, 19.96, 11.040000000000001, 12.29,\n",
      "       12.565, 12.735, 12.735, 25.14, 11.040000000000001,\n",
      "       11.040000000000001, 18.855, 11.305, 15.37, 11.040000000000001,\n",
      "       15.37, 12.565, 14.13, 10.905, 29.17, 10.95, 11.040000000000001,\n",
      "       11.040000000000001, 11.75, 15.79, 12.29, 11.85, 25.119999999999997,\n",
      "       10.79, 14.955, 11.040000000000001, 12.75, 12.735, 14.955, 14.955,\n",
      "       11.040000000000001, 19.96, 19.96, 12.735, 11.040000000000001,\n",
      "       11.85, 13.425, 12.565, 15.87, 14.13, 198.19, 10.540000000000001,\n",
      "       11.885, 14.955, 12.735, 14.955, 12.04, 12.565, 10.665,\n",
      "       14.280000000000001, 16.63, 15.87, 15.37, 18.855, 12.565, 23.45,\n",
      "       14.280000000000001, 12.99, 10.61, 25.119999999999997, 12.75,\n",
      "       14.955, 14.43, 12.29, 42.5, 11.87, 198.19, 10.79,\n",
      "       14.280000000000001, 14.280000000000001, 14.280000000000001, 11.63,\n",
      "       16.95, 12.565, 22.060000000000002, 14.955, 198.19, 11.75, 15.59,\n",
      "       14.280000000000001, 14.280000000000001, 19.96, 15.37, 14.955,\n",
      "       25.14, 11.040000000000001, 16.95, 12.565, 25.119999999999997,\n",
      "       15.87, 13.29, 11.040000000000001, 12.46, 13.425, 12.75, 18.855,\n",
      "       13.425, 14.955, 12.46, 11.040000000000001, 14.955,\n",
      "       11.040000000000001, 13.425, 14.280000000000001, 198.19, 198.19,\n",
      "       15.37, 12.99, 12.735, 11.040000000000001, 11.75, 14.955, 198.19,\n",
      "       11.75, 15.87, 11.040000000000001, 12.565, 15.37, 15.37, 10.95,\n",
      "       14.280000000000001, 198.19, 14.95, 11.040000000000001, 12.04,\n",
      "       18.855, 14.280000000000001, 14.955, 12.74, 11.645, 12.735,\n",
      "       10.540000000000001, 12.75, 12.75, 15.87, 18.45, 12.615, 12.565,\n",
      "       14.955, 12.565, 35.95, 11.040000000000001, 10.665, 14.955, 14.955,\n",
      "       12.565, 14.955, 11.75, 15.719999999999999, 10.540000000000001,\n",
      "       25.119999999999997, 14.955, 25.14, 14.955, 11.040000000000001,\n",
      "       16.95, 11.75, 16.95, 12.75, 11.040000000000001, 10.79, 12.75,\n",
      "       11.87, 11.87, 14.955, 11.87, 15.87, 13.425, 25.119999999999997,\n",
      "       15.37, 22.04, 12.735, 12.46, 12.75, 13.59, 11.040000000000001,\n",
      "       11.040000000000001, 14.955, 12.565, 18.855, 11.75, 18.855, 10.61,\n",
      "       11.87, 12.75, 12.565, 12.04, 12.46, 11.040000000000001, 57.455,\n",
      "       13.59, 12.735, 10.79, 16.95, 15.77, 12.99, 15.79,\n",
      "       10.540000000000001, 12.59, 15.37, 117.5, 12.46, 24.96,\n",
      "       11.040000000000001, 14.955, 10.540000000000001, 12.99, 10.79,\n",
      "       12.75, 22.060000000000002, 12.99, 14.280000000000001, 12.735,\n",
      "       14.955, 16.455000000000002, 13.425, 12.29, 11.75, 10.79, 12.735,\n",
      "       10.79, 10.79, 15.37, 24.619999999999997, 10.69, 10.79,\n",
      "       11.040000000000001, 14.280000000000001, 10.540000000000001,\n",
      "       11.040000000000001, 12.735, 12.04, 14.955, 14.280000000000001,\n",
      "       50.0, 13.29, 22.060000000000002, 11.305, 14.955, 13.29, 25.49,\n",
      "       14.280000000000001, 14.13, 29.17, 14.955, 11.85, 15.37, 12.565,\n",
      "       11.040000000000001, 11.75, 11.040000000000001, 13.425, 198.19,\n",
      "       12.46, 11.040000000000001, 12.735, 14.955, 18.855,\n",
      "       11.040000000000001, 11.040000000000001, 11.040000000000001, 11.645,\n",
      "       11.85, 14.280000000000001, 12.735, 11.85, 13.29, 12.46, 12.29,\n",
      "       14.955, 10.79, 12.735, 10.540000000000001, 25.119999999999997,\n",
      "       15.37, 18.855, 12.04, 12.99, 12.565, 14.280000000000001, 11.87,\n",
      "       14.280000000000001, 10.540000000000001, 18.45, 12.735, 12.565,\n",
      "       14.955, 22.060000000000002, 15.37, 21.95, 14.280000000000001,\n",
      "       12.735, 12.565, 12.29, 12.75, 11.040000000000001, 13.425, 10.79,\n",
      "       14.280000000000001, 11.87, 22.060000000000002, 12.565, 12.565,\n",
      "       15.87, 12.99, 16.95, 12.59, 12.29, 10.79, 10.665, 12.735, 15.37,\n",
      "       11.85, 11.040000000000001, 15.37, 11.040000000000001,\n",
      "       11.040000000000001, 12.565, 25.119999999999997, 11.85, 12.565,\n",
      "       12.735, 14.955, 12.735, 10.79, 15.87, 14.280000000000001, 12.46,\n",
      "       12.29, 12.615, 11.63, 11.040000000000001, 11.85, 12.29, 265.5,\n",
      "       265.5, 12.04, 12.735, 198.19, 12.565, 12.99, 13.425,\n",
      "       11.040000000000001, 14.955, 22.060000000000002, 14.280000000000001,\n",
      "       12.46, 11.63, 29.95, 15.719999999999999, 10.665,\n",
      "       14.280000000000001, 12.99, 12.565, 11.87, 14.280000000000001,\n",
      "       12.565, 11.9, 12.75, 12.565, 198.19, 12.565, 14.955, 10.79, 14.43,\n",
      "       22.04, 14.13, 23.45, 14.43, 12.99, 11.040000000000001, 12.565,\n",
      "       15.37, 14.955, 13.29, 11.87, 29.17, 16.95, 12.565, 15.87, 16.95,\n",
      "       14.13, 15.77, 11.63, 12.735, 12.75, 10.69, 11.040000000000001,\n",
      "       12.99, 11.040000000000001, 50.0, 12.285, 10.79, 12.75, 12.735,\n",
      "       11.040000000000001, 12.29, 16.95, 13.425, 12.735,\n",
      "       11.040000000000001, 12.735, 11.040000000000001, 12.735,\n",
      "       11.040000000000001, 12.565, 13.29, 12.99, 42.5, 14.280000000000001,\n",
      "       12.75, 12.565, 13.425, 13.59, 25.119999999999997, 50.0, 14.43,\n",
      "       14.13, 11.63, 11.040000000000001, 12.565, 15.87, 13.425, 15.37,\n",
      "       11.040000000000001, 22.04, 10.79, 12.99, 14.280000000000001, 16.95,\n",
      "       14.955, 16.95, 15.37, 11.87, 16.805, 15.37, 18.855, 12.735, 24.96,\n",
      "       198.19, 15.719999999999999, 11.885, 14.95, 15.87, 14.955, 33.29,\n",
      "       12.59, 12.75, 14.43, 14.955, 15.87, 11.645, 13.59, 14.955, 15.37,\n",
      "       24.619999999999997, 14.13, 16.95, 12.565, 14.280000000000001,\n",
      "       11.040000000000001, 14.280000000000001, 19.96, 22.04,\n",
      "       24.619999999999997, 13.425, 11.040000000000001, 12.565, 13.29,\n",
      "       12.29, 14.280000000000001, 11.87, 29.17, 11.87, 11.040000000000001,\n",
      "       14.955, 11.040000000000001, 12.735, 15.37, 13.425,\n",
      "       11.040000000000001, 11.040000000000001, 13.59, 12.565,\n",
      "       14.280000000000001, 14.43, 25.119999999999997, 11.040000000000001,\n",
      "       14.280000000000001, 12.99, 11.040000000000001, 12.735,\n",
      "       10.540000000000001, 14.280000000000001, 14.280000000000001,\n",
      "       11.040000000000001, 12.565, 11.040000000000001, 14.280000000000001,\n",
      "       22.060000000000002, 25.119999999999997, 10.79, 12.75,\n",
      "       14.280000000000001, 22.060000000000002, 18.855, 14.280000000000001,\n",
      "       12.99, 11.87, 14.955, 15.79, 11.885, 198.19, 12.46, 12.29, 10.665,\n",
      "       14.13, 10.79, 14.955, 12.735, 25.475, 15.87, 14.955, 14.955,\n",
      "       12.735, 15.87, 16.95, 12.46, 12.04, 198.19, 14.955, 10.665, 12.75,\n",
      "       25.225, 10.79, 198.19, 12.75, 11.85, 25.14, 12.735, 12.75, 12.04,\n",
      "       12.29, 14.955, 12.75, 12.565, 11.040000000000001, 18.45, 11.87,\n",
      "       12.75, 12.565, 13.29, 12.735, 11.040000000000001,\n",
      "       14.280000000000001, 12.735, 11.040000000000001, 25.225, 12.46,\n",
      "       11.040000000000001, 11.040000000000001, 12.565, 16.95, 14.12,\n",
      "       25.119999999999997, 10.79, 12.735, 11.87, 23.45, 12.99, 14.955,\n",
      "       10.665, 22.060000000000002, 14.13, 11.040000000000001, 14.955,\n",
      "       18.29, 11.040000000000001, 11.87, 50.0, 13.29, 12.565, 12.735,\n",
      "       13.425, 10.540000000000001, 10.95, 12.565, 12.99, 10.61, 12.04,\n",
      "       14.280000000000001, 14.955, 12.565, 14.280000000000001, 10.665,\n",
      "       10.79, 22.060000000000002, 13.425, 12.565, 15.87, 11.87,\n",
      "       11.040000000000001, 10.79, 12.75, 10.79, 12.735,\n",
      "       14.280000000000001, 15.87, 14.955, 12.615, 24.96, 12.99, 12.735,\n",
      "       10.665, 11.63, 25.14, 12.565, 14.280000000000001,\n",
      "       25.119999999999997, 12.565, 22.060000000000002, 11.040000000000001,\n",
      "       11.305, 10.665, 12.46, 13.59, 12.59, 29.17, 12.735, 10.61, 198.19,\n",
      "       12.285, 14.955, 12.99, 14.13, 12.565, 15.77, 10.79,\n",
      "       25.119999999999997, 10.79, 12.46, 25.119999999999997,\n",
      "       25.119999999999997, 12.285, 18.855, 10.79, 15.37, 18.45, 11.63,\n",
      "       12.59, 10.79, 11.85, 12.75, 11.040000000000001, 14.280000000000001,\n",
      "       12.75, 11.040000000000001, 14.955, 16.95, 11.040000000000001,\n",
      "       11.040000000000001, 11.885, 11.040000000000001, 11.87, 11.305,\n",
      "       18.29, 11.040000000000001, 11.85, 14.955, 15.37, 12.75, 14.955,\n",
      "       12.29, 21.95, 42.5, 14.955, 11.040000000000001, 15.37,\n",
      "       11.040000000000001, 15.87, 155.0, 11.87, 12.565, 11.85, 12.29,\n",
      "       11.040000000000001, 14.955, 20.79, 12.75, 198.19,\n",
      "       11.040000000000001, 14.955, 15.37, 14.955, 10.79, 18.855,\n",
      "       11.040000000000001, 11.040000000000001, 12.615, 11.87, 10.79,\n",
      "       57.455, 14.955, 14.280000000000001, 12.735, 12.565, 11.63, 29.17,\n",
      "       22.060000000000002, 12.735, 11.040000000000001, 14.43, 11.75,\n",
      "       12.565, 10.79, 12.735, 14.13, 11.040000000000001, 13.29, 12.04,\n",
      "       12.04, 11.87, 10.79, 14.955, 12.75, 14.955, 10.79, 24.96, 13.425,\n",
      "       11.040000000000001, 14.43, 15.79, 12.565, 155.0, 12.75, 12.565,\n",
      "       14.955, 29.17, 198.19, 18.45, 12.735, 16.95, 12.735,\n",
      "       11.040000000000001, 10.79, 11.040000000000001, 11.040000000000001,\n",
      "       12.29, 11.040000000000001, 15.79, 14.280000000000001, 12.565,\n",
      "       11.040000000000001, 15.87, 18.855, 14.43, 14.955, 12.565,\n",
      "       22.060000000000002, 12.75, 12.29, 14.955, 16.805, 11.63, 12.735,\n",
      "       14.13, 14.955, 21.95, 15.37, 12.565, 13.425, 57.455,\n",
      "       11.040000000000001, 13.59, 12.29, 12.565, 12.735,\n",
      "       11.040000000000001, 11.040000000000001, 12.99, 12.735, 12.735,\n",
      "       12.565, 12.735, 11.040000000000001, 10.79, 12.565, 10.61,\n",
      "       14.280000000000001, 10.665, 11.85, 12.75, 22.04,\n",
      "       10.540000000000001, 10.540000000000001, 11.040000000000001, 22.04,\n",
      "       14.955, 14.955, 12.99, 14.955, 18.855, 18.855, 12.75, 23.45,\n",
      "       11.040000000000001, 14.13, 14.280000000000001, 14.955, 10.79,\n",
      "       15.37, 15.37, 33.29, 12.29, 12.565, 14.955, 12.46, 10.79, 16.95,\n",
      "       12.565, 14.955, 12.735, 18.855, 21.23, 198.19, 14.95, 12.565,\n",
      "       15.87, 29.17, 12.565, 21.95, 22.060000000000002, 12.735, 13.59,\n",
      "       15.37, 12.565, 11.85, 12.04, 11.040000000000001, 12.75, 29.17,\n",
      "       12.29, 12.565, 14.955, 15.37, 22.060000000000002, 14.955, 18.855,\n",
      "       198.19, 12.735, 10.665, 12.75, 12.735, 14.280000000000001, 12.59,\n",
      "       14.280000000000001, 14.955, 14.280000000000001, 13.425,\n",
      "       11.040000000000001, 198.19, 12.75, 11.040000000000001, 12.735,\n",
      "       16.95, 10.540000000000001, 11.85, 12.565, 22.060000000000002,\n",
      "       14.280000000000001, 25.119999999999997, 12.75, 12.75, 12.99,\n",
      "       14.280000000000001, 10.665, 18.855, 21.95, 15.59, 12.29, 12.75,\n",
      "       14.955, 14.280000000000001, 13.59, 18.855, 16.95, 42.5,\n",
      "       14.280000000000001, 24.96, 18.855, 13.425, 11.040000000000001,\n",
      "       10.665, 12.99, 10.61, 10.79, 14.955, 198.19, 12.29, 13.425, 15.59,\n",
      "       16.95, 11.040000000000001, 13.29, 11.85, 15.37, 12.565, 13.425,\n",
      "       10.79, 11.040000000000001, 12.735, 11.75, 14.955,\n",
      "       14.280000000000001, 12.74, 35.75, 19.96, 12.75, 12.99,\n",
      "       25.119999999999997, 15.87, 57.455, 10.665, 12.99, 15.87, 12.59,\n",
      "       14.955, 15.87, 10.540000000000001, 11.040000000000001, 12.735,\n",
      "       11.040000000000001, 10.95, 13.59, 11.87, 12.565,\n",
      "       14.280000000000001, 11.040000000000001, 18.855, 14.43,\n",
      "       11.040000000000001, 25.14, 12.735, 15.37, 18.855, 15.37, 12.735,\n",
      "       12.59, 13.29, 12.75, 10.79, 14.955, 11.040000000000001, 14.955,\n",
      "       13.425, 11.885, 14.95, 14.955, 35.75, 23.45, 14.955, 14.955,\n",
      "       12.735, 10.79, 12.565, 11.040000000000001, 12.565, 12.29,\n",
      "       14.280000000000001, 29.17, 12.735, 11.87, 14.13, 12.615, 13.59,\n",
      "       12.75, 12.59, 11.040000000000001, 18.45, 11.040000000000001, 12.59,\n",
      "       14.955, 11.85, 11.040000000000001, 12.565, 12.735,\n",
      "       11.040000000000001, 14.955, 11.87, 19.96, 13.425, 12.565, 15.37,\n",
      "       11.040000000000001, 12.29, 12.75, 12.29, 14.955, 11.87, 25.225,\n",
      "       12.75, 11.87, 11.85, 11.87, 24.96, 12.59, 24.96, 12.99,\n",
      "       11.040000000000001, 11.63, 14.280000000000001, 24.96, 13.29, 11.85,\n",
      "       14.955, 14.955, 14.280000000000001, 14.280000000000001, 16.95,\n",
      "       14.955, 14.955, 10.79, 12.565, 12.565, 11.040000000000001,\n",
      "       22.060000000000002, 11.040000000000001, 50.0, 22.060000000000002,\n",
      "       11.040000000000001, 14.280000000000001, 11.85, 11.040000000000001,\n",
      "       57.455, 12.99, 12.565, 12.735, 12.735, 14.280000000000001, 14.955,\n",
      "       198.19, 12.59, 11.885, 25.119999999999997, 12.75, 11.75,\n",
      "       14.280000000000001, 155.0, 14.955, 12.75, 14.955, 24.96,\n",
      "       11.040000000000001, 12.565, 19.96, 14.955, 15.79, 11.63, 12.59,\n",
      "       12.29, 11.75, 12.285, 12.735, 15.37, 12.29, 11.305, 12.74, 12.59,\n",
      "       11.040000000000001, 12.46, 14.955, 14.13, 12.99,\n",
      "       14.280000000000001, 15.87, 13.425, 11.040000000000001, 12.565,\n",
      "       16.805, 12.735, 10.61, 12.735, 14.955, 15.37, 14.280000000000001,\n",
      "       12.735, 13.29, 12.735, 12.75, 10.79, 25.14, 12.565, 10.79,\n",
      "       14.280000000000001, 12.46, 15.37, 11.87, 15.87, 22.060000000000002,\n",
      "       15.37, 12.735, 16.95, 12.615, 11.305, 10.79, 16.805, 12.735, 15.77,\n",
      "       12.565, 15.37, 12.565, 12.735, 14.13, 12.565, 14.280000000000001,\n",
      "       14.13, 14.280000000000001, 23.45, 14.280000000000001, 11.02,\n",
      "       12.735, 10.665, 14.280000000000001, 10.540000000000001, 14.955,\n",
      "       12.735, 15.37, 19.84, 12.99, 14.955, 11.040000000000001, 12.04,\n",
      "       14.280000000000001, 14.280000000000001, 12.565, 11.040000000000001,\n",
      "       11.885, 16.95, 10.79, 11.75, 11.040000000000001, 14.43, 16.95,\n",
      "       33.29, 12.565, 10.665, 14.43, 11.040000000000001,\n",
      "       11.040000000000001, 10.79, 11.040000000000001, 12.735, 10.79,\n",
      "       14.280000000000001, 10.79, 13.425, 14.955, 14.955,\n",
      "       11.040000000000001, 12.74, 10.79, 16.95, 14.955, 15.37, 12.735,\n",
      "       15.37, 12.46, 29.17, 10.79, 13.59, 10.79, 12.565, 12.04, 14.43,\n",
      "       13.425, 35.95, 35.95, 12.565, 11.305, 15.37, 15.87,\n",
      "       14.280000000000001, 198.19, 14.955, 11.040000000000001, 11.87,\n",
      "       29.17, 11.040000000000001, 11.87, 12.04, 10.79, 11.040000000000001,\n",
      "       16.805, 13.425, 14.13, 11.87, 24.96, 10.79, 15.87, 12.735,\n",
      "       11.040000000000001, 50.0, 12.565, 11.85, 24.96, 22.04, 12.75,\n",
      "       10.69, 12.565, 12.29, 11.040000000000001, 14.13, 12.99,\n",
      "       11.040000000000001, 12.04, 14.13, 12.565, 12.735, 198.19, 13.425,\n",
      "       11.040000000000001, 15.37, 11.040000000000001, 14.955,\n",
      "       11.040000000000001, 11.040000000000001, 14.13, 14.13, 12.735,\n",
      "       14.955, 25.119999999999997, 12.29, 10.79, 14.955, 12.72, 14.955,\n",
      "       25.119999999999997, 18.45, 12.735, 11.040000000000001, 10.79,\n",
      "       57.455, 11.87, 10.665, 12.46, 11.040000000000001, 13.425, 12.75,\n",
      "       12.735, 10.61, 11.63, 12.99, 18.855, 12.46, 11.305, 57.455, 12.565,\n",
      "       18.45, 12.565, 10.665, 21.95, 25.119999999999997, 14.955, 14.13,\n",
      "       11.885, 12.735, 12.565, 12.735, 15.37, 11.040000000000001, 15.37,\n",
      "       11.63, 10.79, 12.735, 11.87, 10.540000000000001, 12.29, 12.735,\n",
      "       12.735, 29.17, 12.565, 11.305, 12.46, 11.85, 12.565,\n",
      "       11.040000000000001, 13.425, 10.79, 15.37, 10.540000000000001,\n",
      "       11.305, 12.565, 15.59, 12.735, 50.0, 15.37, 14.43, 21.95, 14.955,\n",
      "       14.280000000000001, 15.79, 11.040000000000001, 12.735, 14.955,\n",
      "       10.79, 25.119999999999997, 15.87, 14.13, 11.040000000000001, 10.79,\n",
      "       11.040000000000001, 18.855, 25.225, 11.85, 14.955,\n",
      "       22.060000000000002, 29.17, 11.040000000000001, 11.85, 21.95,\n",
      "       12.735, 12.99, 39.95, 57.455, 12.565, 12.735, 11.040000000000001,\n",
      "       12.75, 21.95, 25.119999999999997, 29.17, 15.37, 25.119999999999997,\n",
      "       12.565, 14.43, 12.565, 13.59, 57.455, 12.04, 22.060000000000002,\n",
      "       29.17, 11.040000000000001, 29.17, 13.59, 11.85, 12.99, 14.43,\n",
      "       12.735, 12.59, 10.79, 14.955, 14.955, 10.79, 10.79, 11.75,\n",
      "       11.040000000000001, 10.79, 14.280000000000001, 13.29, 12.565,\n",
      "       10.61, 12.29, 15.87, 14.955, 11.040000000000001, 12.735, 12.735,\n",
      "       22.060000000000002, 12.565, 25.119999999999997, 15.87, 39.95,\n",
      "       11.87, 11.040000000000001, 14.280000000000001, 12.46,\n",
      "       11.040000000000001, 12.42, 15.77, 12.99, 35.95, 14.955, 15.87,\n",
      "       12.75, 11.040000000000001, 19.96, 24.619999999999997, 14.955,\n",
      "       12.735, 11.040000000000001, 12.75, 15.37, 11.040000000000001,\n",
      "       12.75, 11.040000000000001, 12.735, 10.79, 198.19, 11.85, 25.225,\n",
      "       11.040000000000001, 25.119999999999997, 12.75, 18.45, 12.46,\n",
      "       198.19, 11.040000000000001, 14.280000000000001, 12.565, 12.565,\n",
      "       14.955, 25.119999999999997, 18.855, 13.29, 11.63, 11.87, 15.37,\n",
      "       12.615, 25.119999999999997, 15.37, 12.46, 22.060000000000002,\n",
      "       18.855, 12.735, 18.855, 14.955, 25.119999999999997, 12.46, 15.87,\n",
      "       14.13, 11.040000000000001, 10.79, 14.280000000000001, 22.04, 12.99,\n",
      "       25.119999999999997, 10.95, 18.855, 15.37, 11.040000000000001,\n",
      "       10.905, 12.99, 12.565, 12.735, 14.955, 11.85, 12.735,\n",
      "       14.280000000000001, 25.265, 14.13, 12.735, 265.5, 265.5, 35.75,\n",
      "       12.735, 198.19, 19.96, 14.955, 14.955, 12.565, 16.95, 12.565,\n",
      "       14.280000000000001, 25.119999999999997, 14.280000000000001, 19.96,\n",
      "       14.280000000000001, 14.95, 10.665, 12.735, 14.955, 14.43, 198.19,\n",
      "       12.565, 16.95, 18.855, 12.565, 12.565, 11.040000000000001,\n",
      "       14.280000000000001, 198.19, 13.425, 14.955, 14.955, 14.13, 10.79,\n",
      "       12.565, 12.565, 12.565, 11.040000000000001, 12.75, 13.29,\n",
      "       25.119999999999997, 14.955, 14.13, 12.565, 11.85, 11.87,\n",
      "       14.280000000000001, 265.5, 18.29, 25.119999999999997, 24.96, 12.29,\n",
      "       14.955, 11.040000000000001, 11.040000000000001, 11.85, 13.425,\n",
      "       11.040000000000001, 15.87, 11.63, 15.87, 12.615, 11.63, 10.79,\n",
      "       11.75, 18.855, 12.75, 15.79, 12.735, 15.37, 23.45, 10.665, 12.75,\n",
      "       12.735, 15.37, 18.855, 14.13, 12.565, 12.565, 12.75,\n",
      "       21.009999999999998, 12.04, 12.75, 12.46, 12.46, 42.5, 10.665,\n",
      "       14.955, 15.37, 12.75, 12.565, 12.75, 25.475, 11.040000000000001,\n",
      "       14.955, 14.955, 12.75, 13.425, 12.75, 10.665, 14.280000000000001,\n",
      "       13.425, 18.855, 12.46, 11.305, 12.735, 10.905, 12.565, 175.0,\n",
      "       14.43, 12.565, 11.040000000000001, 12.565, 11.040000000000001,\n",
      "       13.59, 18.855, 12.46, 14.13, 11.75, 12.75, 12.99, 14.955, 11.85,\n",
      "       11.885, 12.99, 15.37, 14.955, 10.665, 12.565, 12.735, 12.565,\n",
      "       16.805, 14.13, 10.905, 14.280000000000001, 12.99, 15.87, 14.955,\n",
      "       11.85, 155.0, 14.95, 12.735, 13.29, 198.19, 11.85, 33.29, 198.19,\n",
      "       10.69, 12.735, 11.040000000000001, 14.280000000000001, 10.665,\n",
      "       14.955, 12.75, 14.955, 13.425, 11.75, 13.29, 12.735,\n",
      "       14.280000000000001, 15.37, 15.79, 12.99, 14.280000000000001,\n",
      "       18.855, 18.855, 15.37, 14.280000000000001, 14.955, 12.75, 14.955,\n",
      "       14.280000000000001, 12.75, 14.95, 15.79, 14.43, 12.565, 29.17,\n",
      "       11.87, 14.955, 11.87, 13.425, 16.63, 11.040000000000001,\n",
      "       14.280000000000001, 25.225, 15.37, 15.87, 14.13, 13.29,\n",
      "       11.040000000000001, 11.040000000000001, 12.735, 12.565, 11.87,\n",
      "       11.75, 11.040000000000001, 14.280000000000001, 14.280000000000001,\n",
      "       11.040000000000001, 12.735, 15.87, 11.040000000000001,\n",
      "       25.119999999999997, 12.735, 10.79, 11.040000000000001, 12.735,\n",
      "       13.59, 12.565, 12.735, 33.29, 12.565, 11.87, 11.885, 12.735, 12.99,\n",
      "       12.75, 15.87, 10.61, 11.85, 11.040000000000001, 198.19,\n",
      "       22.060000000000002, 18.855, 10.665, 16.63, 10.79, 10.95, 10.665,\n",
      "       12.735, 22.060000000000002, 12.565, 14.955, 11.885,\n",
      "       14.280000000000001, 25.119999999999997, 29.17, 11.040000000000001,\n",
      "       12.735, 11.040000000000001, 13.425, 18.855, 19.96, 11.87, 12.29,\n",
      "       14.955, 12.565, 11.040000000000001, 11.305, 14.13,\n",
      "       11.040000000000001, 12.565, 12.565, 13.425, 13.425, 13.425,\n",
      "       14.280000000000001, 198.19, 19.119999999999997, 11.040000000000001,\n",
      "       18.855, 12.565, 12.735, 11.040000000000001, 13.425,\n",
      "       11.040000000000001, 18.855, 14.13, 12.29, 13.29,\n",
      "       14.280000000000001, 21.95, 18.855, 12.565, 16.63, 12.735,\n",
      "       11.040000000000001, 14.43, 14.280000000000001, 13.59, 14.955,\n",
      "       12.99, 12.46, 12.735, 15.37, 18.855, 11.9, 12.735, 11.85, 13.425,\n",
      "       12.735, 57.455, 11.885, 18.855, 12.735, 12.99, 14.13, 12.75,\n",
      "       12.735, 12.99, 14.955, 11.63, 12.565, 11.75, 15.87, 19.96, 35.95,\n",
      "       14.955, 10.61, 12.59, 14.955, 12.565, 14.955, 14.955, 12.29, 12.75,\n",
      "       14.43, 15.37, 13.29, 11.040000000000001, 13.425, 12.735, 12.615,\n",
      "       11.63, 13.425, 11.040000000000001, 13.59, 198.19, 12.59,\n",
      "       14.280000000000001, 22.060000000000002, 11.63, 25.119999999999997,\n",
      "       11.85, 12.735, 12.565, 39.95, 18.855, 14.955, 12.565, 15.37,\n",
      "       12.565, 18.855, 11.87, 12.735, 11.040000000000001, 18.855, 10.665,\n",
      "       13.29, 12.46, 14.13, 12.99, 14.955, 15.37, 12.565, 12.75, 21.95,\n",
      "       10.61, 14.280000000000001, 10.79, 29.17, 13.29, 12.735, 14.955,\n",
      "       12.75, 15.37, 18.855, 13.29, 11.645, 14.95, 14.280000000000001,\n",
      "       24.96, 12.565, 10.905, 12.735, 19.96, 14.955, 18.855, 10.665,\n",
      "       35.75, 11.040000000000001, 12.565, 12.735, 14.13,\n",
      "       11.040000000000001, 12.735, 12.75, 12.46, 11.040000000000001,\n",
      "       14.280000000000001, 14.955, 10.540000000000001, 15.79, 12.735,\n",
      "       11.040000000000001, 13.29, 11.75, 12.565, 11.040000000000001,\n",
      "       14.95, 12.29, 11.63, 12.99, 14.955, 12.99, 12.735, 11.63, 12.75,\n",
      "       12.75, 10.69, 12.46, 15.37, 14.955, 29.17, 12.565,\n",
      "       11.040000000000001, 13.29, 14.955, 12.29, 15.37, 12.735, 12.565,\n",
      "       14.13, 25.119999999999997, 14.955, 22.04, 14.280000000000001,\n",
      "       12.75, 22.060000000000002, 22.060000000000002, 12.29, 18.855,\n",
      "       10.69, 15.87, 14.280000000000001, 12.565, 13.29, 12.565,\n",
      "       24.619999999999997, 14.955, 14.95, 12.565, 16.95, 11.87, 11.87,\n",
      "       11.040000000000001, 23.45, 12.29, 12.29, 12.99, 14.955, 10.665,\n",
      "       12.565, 12.565, 18.855, 12.99, 15.87, 12.99, 13.425, 15.37, 198.19,\n",
      "       12.735, 11.040000000000001, 33.29, 12.735, 14.955, 18.855, 11.75,\n",
      "       15.37, 15.37, 11.040000000000001, 11.040000000000001, 198.19,\n",
      "       12.99, 11.040000000000001, 16.95, 12.565, 12.615, 12.565, 12.565,\n",
      "       12.46, 12.75, 16.95, 10.79, 13.425, 14.955, 25.119999999999997,\n",
      "       12.46, 22.060000000000002, 11.040000000000001, 150.0, 21.95,\n",
      "       14.280000000000001, 12.565, 11.885, 11.75, 14.43, 12.565, 10.79,\n",
      "       12.565, 11.85, 12.75, 14.13, 14.955, 12.565, 18.855, 18.855,\n",
      "       10.665, 12.99, 11.040000000000001, 12.29, 11.040000000000001,\n",
      "       12.29, 12.29, 11.040000000000001, 29.17, 12.99, 14.955, 14.955,\n",
      "       12.565, 12.735, 14.955, 14.955, 12.565, 11.87, 10.95, 13.29, 13.59,\n",
      "       11.040000000000001, 15.87, 11.040000000000001, 14.955, 24.96,\n",
      "       12.46, 12.565, 15.87, 12.29, 24.96, 13.425, 14.955, 10.79, 12.615,\n",
      "       11.040000000000001, 14.280000000000001, 11.305, 12.565,\n",
      "       14.280000000000001, 11.305, 14.95, 12.565, 12.565, 12.99, 10.79,\n",
      "       10.665, 12.735, 15.79, 13.29, 14.43, 15.37, 13.425, 12.46, 29.17,\n",
      "       61.475, 198.19, 10.79, 12.565, 12.99, 10.61, 10.79, 12.565, 14.955,\n",
      "       13.59, 11.87, 15.87, 16.805, 12.565, 117.5, 12.29, 10.79, 13.425,\n",
      "       12.75, 29.17, 12.04, 10.79, 14.955, 11.85, 11.040000000000001,\n",
      "       12.99, 14.43, 14.13, 12.735, 13.29, 18.855, 12.99, 13.29, 10.79,\n",
      "       10.665, 14.280000000000001, 14.955, 13.425, 12.735, 12.565, 12.735,\n",
      "       57.455, 12.565, 12.99, 12.735, 12.615, 11.85, 12.735, 10.79,\n",
      "       12.565, 18.855, 11.040000000000001, 14.955, 10.79, 12.565, 22.04,\n",
      "       15.37, 11.040000000000001, 11.040000000000001, 12.565, 12.565,\n",
      "       10.69, 12.75, 12.75, 14.955, 12.735, 22.04, 12.565, 12.735, 12.565,\n",
      "       25.225, 15.87, 12.75, 14.280000000000001, 12.735, 12.735, 24.96,\n",
      "       11.87, 12.735, 25.119999999999997, 10.79, 12.735, 13.425,\n",
      "       11.040000000000001, 10.79, 12.75, 12.75, 12.99, 14.955, 12.735,\n",
      "       10.540000000000001, 14.43, 12.565, 11.040000000000001, 10.79,\n",
      "       12.565, 14.955, 198.19, 16.95, 12.46, 14.13, 13.59, 11.85, 14.955,\n",
      "       15.37, 10.79, 10.665, 25.119999999999997, 10.540000000000001,\n",
      "       12.29, 15.79, 15.87, 15.37, 10.665, 10.540000000000001, 14.43,\n",
      "       12.29, 11.040000000000001, 12.99, 12.565, 12.565, 12.99, 12.735,\n",
      "       12.735, 14.280000000000001, 14.13, 11.040000000000001, 10.665,\n",
      "       18.855, 13.425, 39.95, 11.040000000000001, 198.19, 12.99,\n",
      "       11.040000000000001, 14.955, 11.040000000000001, 15.79, 15.79,\n",
      "       14.955, 12.59, 12.75, 15.37, 25.119999999999997, 12.565, 15.37,\n",
      "       11.040000000000001, 35.95, 18.855, 12.46, 11.040000000000001,\n",
      "       15.37, 10.79, 14.955, 14.13, 12.565, 15.77, 11.040000000000001,\n",
      "       18.855, 12.59, 14.955, 10.79, 12.565, 10.79, 12.59, 12.565, 14.43,\n",
      "       11.040000000000001, 15.37, 14.955, 11.040000000000001, 12.46,\n",
      "       198.19, 25.119999999999997, 11.040000000000001, 12.99,\n",
      "       11.040000000000001, 14.955, 19.96, 25.475, 12.565, 10.665, 10.665,\n",
      "       14.280000000000001, 14.280000000000001, 14.280000000000001, 14.955,\n",
      "       11.040000000000001, 12.59, 198.19, 13.29, 14.280000000000001,\n",
      "       12.565, 11.85, 18.855, 12.75, 25.119999999999997, 11.87,\n",
      "       15.719999999999999, 11.040000000000001, 12.735, 18.855, 13.425,\n",
      "       198.19, 12.735, 14.43, 18.855, 14.280000000000001, 13.29,\n",
      "       11.040000000000001, 14.955, 12.735, 13.29, 22.060000000000002,\n",
      "       12.75, 13.425, 14.955, 12.29, 15.77, 15.79, 12.735, 12.565, 14.955,\n",
      "       14.13, 24.96, 14.955, 11.040000000000001, 14.43, 13.29, 14.955,\n",
      "       11.040000000000001, 11.85, 12.565, 10.79, 16.13, 13.425,\n",
      "       11.040000000000001, 13.29, 198.19, 12.565, 14.95, 15.37, 12.565,\n",
      "       12.565, 15.79, 18.855, 15.87, 14.13, 12.75, 22.060000000000002,\n",
      "       16.95, 12.735, 11.040000000000001, 10.665, 11.040000000000001,\n",
      "       12.565, 10.79, 13.29, 11.885, 23.45, 15.87, 12.565, 12.565,\n",
      "       11.040000000000001, 13.425, 11.87, 24.96, 12.46, 15.37,\n",
      "       10.540000000000001, 13.425, 155.0, 29.17, 14.955,\n",
      "       11.040000000000001, 11.040000000000001, 198.19, 13.29, 12.72,\n",
      "       12.46, 16.95, 18.855, 14.43, 14.43, 13.425, 24.96, 11.87,\n",
      "       14.280000000000001, 12.735, 19.96, 22.060000000000002, 10.79,\n",
      "       10.79, 10.79, 12.735, 11.02, 198.19, 15.87, 12.99, 19.95, 12.04,\n",
      "       14.955, 12.99, 14.13, 12.735, 14.955, 14.280000000000001, 12.735,\n",
      "       11.040000000000001, 14.955, 21.95, 13.425, 11.040000000000001,\n",
      "       24.96, 14.955, 12.565, 14.43, 12.735, 12.565, 14.955, 12.75, 13.29,\n",
      "       14.955, 10.79, 25.14, 12.565, 15.37, 12.75, 12.42,\n",
      "       11.040000000000001, 12.565, 11.63, 11.75, 15.87, 14.13, 12.29,\n",
      "       14.955, 14.955, 14.280000000000001, 14.280000000000001, 15.87,\n",
      "       10.665, 12.615, 12.74, 14.280000000000001, 12.72, 10.665, 12.735,\n",
      "       15.37, 14.280000000000001, 15.37, 12.99, 12.29, 15.37, 12.565,\n",
      "       12.59, 11.87, 15.37, 11.87, 33.29, 15.77, 15.79, 10.79, 13.425,\n",
      "       10.540000000000001, 14.280000000000001, 15.37, 14.13, 11.05, 11.75,\n",
      "       22.060000000000002, 12.99, 12.565, 22.060000000000002, 13.425,\n",
      "       12.735, 12.735, 14.280000000000001, 10.69, 13.59, 12.99, 14.955,\n",
      "       14.955, 12.99, 14.280000000000001, 13.425, 14.955, 16.95, 14.43,\n",
      "       18.855, 12.565, 12.565, 21.95, 198.19, 11.040000000000001, 15.37,\n",
      "       14.955, 25.225, 10.79, 12.29, 14.13, 12.735, 14.13,\n",
      "       11.040000000000001, 13.29, 13.29, 14.280000000000001,\n",
      "       11.040000000000001, 10.79, 11.040000000000001, 12.75, 13.29,\n",
      "       18.855, 13.29, 14.955, 14.955, 14.13, 14.13, 12.75, 42.55,\n",
      "       14.280000000000001, 198.19, 11.040000000000001, 10.540000000000001,\n",
      "       12.75, 16.95, 12.565, 14.280000000000001, 39.95, 12.75, 10.79,\n",
      "       12.735, 12.735, 10.79, 10.79, 11.040000000000001, 11.885, 18.855,\n",
      "       11.040000000000001, 25.119999999999997, 13.59, 10.665, 10.79,\n",
      "       11.040000000000001, 12.735, 12.735, 25.119999999999997, 12.565,\n",
      "       11.87, 10.665, 10.79, 11.87, 12.75, 12.75, 14.280000000000001,\n",
      "       15.87, 10.61, 10.69, 14.280000000000001, 12.99, 15.79, 13.425,\n",
      "       12.565, 10.79, 12.29, 12.565, 24.96, 18.855, 14.955, 12.42, 12.46,\n",
      "       12.99, 12.565, 12.565, 14.955, 12.99, 11.87, 12.735, 12.99, 14.13,\n",
      "       11.87, 13.59, 11.63, 13.29, 12.735, 18.855, 10.61, 12.75,\n",
      "       14.280000000000001, 14.43, 25.119999999999997, 12.565, 11.75,\n",
      "       12.735, 12.565, 12.615, 12.565, 13.59, 14.280000000000001, 14.13,\n",
      "       11.040000000000001, 13.29, 10.540000000000001, 11.87, 15.79, 12.46,\n",
      "       25.119999999999997, 10.79, 12.29, 10.79, 24.96, 15.37, 198.19,\n",
      "       12.75, 12.735, 12.735, 11.040000000000001, 11.040000000000001,\n",
      "       10.79, 11.040000000000001, 16.95, 12.285, 12.46,\n",
      "       25.119999999999997, 12.46, 10.79, 11.040000000000001,\n",
      "       22.060000000000002, 23.45, 14.955, 11.040000000000001, 15.37,\n",
      "       14.955, 10.79, 14.955, 11.305, 12.565, 12.75, 11.040000000000001,\n",
      "       12.75, 10.540000000000001, 14.13, 24.96, 13.59, 12.735, 18.855,\n",
      "       11.040000000000001, 14.43, 19.96, 15.87, 22.04, 10.79, 15.87,\n",
      "       198.19, 10.69, 14.13, 10.79, 14.955, 10.540000000000001, 14.955,\n",
      "       14.280000000000001, 10.79, 14.955, 14.280000000000001, 16.805,\n",
      "       25.225, 12.29, 24.96, 13.425, 12.565, 12.59, 12.565, 15.87, 12.735,\n",
      "       13.59, 12.565, 10.79, 12.565, 10.79, 12.99, 10.79, 12.75, 12.46,\n",
      "       16.95, 16.455000000000002, 12.735, 13.425, 18.855,\n",
      "       11.040000000000001, 14.13, 10.79, 12.29, 12.46, 14.280000000000001,\n",
      "       25.119999999999997, 14.13, 25.119999999999997, 12.565, 11.85,\n",
      "       12.75, 15.87, 12.565, 10.79, 11.75, 25.119999999999997, 14.43,\n",
      "       25.225, 12.565, 18.45, 14.280000000000001, 14.280000000000001,\n",
      "       12.59, 24.619999999999997, 12.99, 19.96, 15.37, 12.75, 16.13,\n",
      "       13.29, 21.95, 22.060000000000002, 12.565, 25.119999999999997,\n",
      "       12.735, 10.79, 11.040000000000001, 12.75, 12.75, 10.79, 12.735,\n",
      "       11.85, 11.87, 25.119999999999997, 14.955, 11.87, 14.43, 12.46,\n",
      "       18.855, 12.735, 10.665, 11.305, 12.735, 11.040000000000001, 12.565,\n",
      "       11.040000000000001, 12.565, 14.955, 19.96, 14.955, 10.69, 12.565,\n",
      "       11.63, 14.955, 11.040000000000001, 12.04, 14.955, 12.565,\n",
      "       11.040000000000001, 25.119999999999997, 12.59, 11.75, 12.75,\n",
      "       12.565, 11.040000000000001, 11.85, 12.99, 11.040000000000001,\n",
      "       10.79, 198.19, 12.29, 12.46, 12.565, 11.040000000000001, 18.855,\n",
      "       13.425, 14.280000000000001, 22.060000000000002, 10.540000000000001,\n",
      "       18.855, 12.565, 14.955, 11.85, 49.96, 11.305, 14.955, 11.87, 11.87,\n",
      "       12.735, 14.280000000000001, 14.955, 12.565, 13.425, 12.735,\n",
      "       22.060000000000002, 11.040000000000001, 14.13, 198.19,\n",
      "       14.280000000000001, 12.565, 12.735, 14.280000000000001, 14.955,\n",
      "       10.79, 15.37, 13.425, 25.119999999999997, 10.95,\n",
      "       11.040000000000001, 12.75, 12.565, 33.29, 19.96, 12.565,\n",
      "       14.280000000000001, 14.43, 11.040000000000001, 12.75, 10.79,\n",
      "       12.565, 10.540000000000001, 13.29, 11.040000000000001,\n",
      "       25.119999999999997, 12.735, 12.735, 12.565, 12.59,\n",
      "       10.540000000000001, 13.425, 12.735, 25.119999999999997, 11.305,\n",
      "       24.96, 19.96, 11.040000000000001, 16.95, 18.855, 12.735, 12.29,\n",
      "       12.565, 12.735, 22.060000000000002, 12.29, 14.280000000000001,\n",
      "       11.040000000000001, 12.565, 11.63, 11.040000000000001,\n",
      "       14.280000000000001, 15.37, 12.565, 12.565, 10.540000000000001,\n",
      "       11.040000000000001, 12.565, 29.17, 35.75, 15.37, 12.46, 12.75,\n",
      "       16.95, 198.19, 12.75, 12.04, 22.060000000000002, 13.425,\n",
      "       10.540000000000001, 12.75, 11.85, 25.119999999999997, 11.87, 12.29,\n",
      "       11.040000000000001, 12.735, 13.59, 18.45, 12.75, 10.79, 18.855,\n",
      "       14.280000000000001, 12.46, 11.040000000000001, 25.119999999999997,\n",
      "       12.735, 14.13, 14.13, 15.79, 12.75, 12.565, 14.95, 12.46, 25.225,\n",
      "       18.45, 198.19, 10.79, 11.040000000000001, 12.735, 18.855, 13.59,\n",
      "       14.955, 11.040000000000001, 11.040000000000001, 18.855, 12.75,\n",
      "       11.63, 12.46, 12.75, 22.060000000000002, 15.87, 13.425, 15.59,\n",
      "       18.855, 11.85, 10.69, 15.87, 13.425, 15.77, 15.87, 12.75, 12.735,\n",
      "       13.29, 12.99, 12.565, 14.13, 25.475, 13.59, 18.855, 198.19, 11.75,\n",
      "       14.43, 22.04, 14.955, 11.040000000000001, 12.735,\n",
      "       14.280000000000001, 12.565, 15.37, 29.17, 11.63,\n",
      "       25.119999999999997, 15.79, 12.615, 14.12, 13.59, 11.75, 15.87,\n",
      "       15.87, 12.565, 13.29, 19.96, 10.540000000000001, 13.425, 13.59,\n",
      "       21.95, 12.565, 12.565, 14.955, 10.79, 33.29, 12.75,\n",
      "       11.040000000000001, 18.855, 11.87, 13.425, 12.75, 12.99, 14.955,\n",
      "       14.955, 14.280000000000001, 42.5, 12.565, 12.99,\n",
      "       11.040000000000001, 11.85, 22.04, 25.119999999999997,\n",
      "       25.119999999999997, 11.85, 11.040000000000001, 12.99,\n",
      "       14.280000000000001, 13.59, 11.645, 14.280000000000001,\n",
      "       25.119999999999997, 14.955, 10.79, 10.665, 10.79, 12.99, 18.855,\n",
      "       14.280000000000001, 12.735, 18.855, 11.885, 14.13, 12.565, 15.77,\n",
      "       14.280000000000001, 10.79, 11.040000000000001, 14.955,\n",
      "       25.119999999999997, 11.040000000000001, 13.425, 12.565, 16.95,\n",
      "       61.475, 12.565, 13.425, 13.29, 15.87, 12.565, 15.77, 18.855, 11.85,\n",
      "       13.425, 14.13, 12.565, 18.855, 11.040000000000001, 12.735, 13.29,\n",
      "       12.735, 18.855, 11.85, 14.43, 14.280000000000001, 14.955, 10.79,\n",
      "       11.87, 12.735, 12.99, 10.79, 10.665, 11.040000000000001, 12.565,\n",
      "       12.04, 10.540000000000001, 12.735, 12.565, 12.565,\n",
      "       14.280000000000001, 11.040000000000001, 11.040000000000001, 198.19,\n",
      "       57.455, 18.855, 22.060000000000002, 12.99, 14.43, 14.955, 12.99,\n",
      "       11.85, 10.69, 12.99, 12.99, 22.060000000000002, 12.565,\n",
      "       11.040000000000001, 12.565, 11.040000000000001, 11.87,\n",
      "       11.040000000000001, 11.040000000000001, 14.955, 12.735, 13.425,\n",
      "       12.75, 33.29, 14.955, 10.79, 10.79, 11.040000000000001,\n",
      "       11.040000000000001, 12.46, 12.735, 12.735, 11.040000000000001,\n",
      "       12.29, 12.04, 10.79, 15.37, 24.96, 10.79, 14.43, 12.565,\n",
      "       11.040000000000001, 12.75, 14.280000000000001, 12.75,\n",
      "       11.040000000000001, 10.684999999999999, 13.425, 10.79, 12.565,\n",
      "       198.19, 10.69, 11.63, 11.305, 15.37, 21.95, 16.805, 11.305, 12.99,\n",
      "       14.280000000000001, 12.735, 12.735, 19.96, 11.85, 16.95, 12.75,\n",
      "       11.040000000000001, 12.565, 41.32, 12.99, 12.735, 35.75,\n",
      "       25.119999999999997, 13.59, 12.565, 12.565, 198.19, 12.615, 11.87,\n",
      "       198.19, 14.43, 15.37, 41.32, 14.280000000000001, 14.13, 11.87,\n",
      "       13.425, 12.99, 13.29, 14.955, 15.79, 29.17, 12.99, 12.565, 13.59,\n",
      "       11.040000000000001, 12.735, 198.19, 41.32, 18.45, 12.565, 16.95,\n",
      "       12.59, 14.280000000000001, 13.29, 10.540000000000001, 12.565,\n",
      "       12.565, 18.29, 12.75, 14.43, 15.79, 12.565, 12.46, 22.04,\n",
      "       11.040000000000001, 14.12, 12.735, 18.45, 15.37, 13.425, 11.87,\n",
      "       14.280000000000001, 12.59, 14.280000000000001, 11.75,\n",
      "       14.280000000000001, 10.79, 198.19, 18.855, 13.425, 12.29,\n",
      "       11.040000000000001, 13.425, 198.19, 24.96, 10.79, 11.9, 13.425,\n",
      "       11.75, 12.29, 12.29, 14.13, 14.955, 15.37, 18.855, 12.59, 12.04,\n",
      "       14.955, 29.17, 12.735, 11.040000000000001, 25.119999999999997,\n",
      "       10.665, 18.855, 14.955, 14.955, 12.565, 10.79, 14.280000000000001,\n",
      "       12.99, 12.565, 10.79, 11.040000000000001, 11.040000000000001,\n",
      "       11.040000000000001, 16.95, 15.87, 14.955, 12.75, 198.19, 11.85,\n",
      "       11.87, 11.040000000000001, 18.855, 12.565, 11.87, 16.95, 61.475,\n",
      "       12.75, 10.540000000000001, 11.040000000000001, 10.540000000000001,\n",
      "       16.63, 25.14, 11.885, 12.99, 14.280000000000001, 12.74, 18.855,\n",
      "       12.735, 18.855, 10.665, 14.280000000000001, 50.0, 16.95,\n",
      "       14.280000000000001, 16.95, 12.565, 42.5, 11.040000000000001, 10.61,\n",
      "       12.29, 11.87, 15.37, 12.285, 10.665, 18.855, 10.79,\n",
      "       11.040000000000001, 12.46, 22.060000000000002, 11.040000000000001,\n",
      "       14.280000000000001, 11.040000000000001, 14.13, 10.79, 12.75, 15.37,\n",
      "       22.060000000000002, 11.63, 12.565, 10.69, 14.955, 11.885, 14.13,\n",
      "       16.95, 12.99, 11.040000000000001, 13.29, 14.13, 12.74, 12.735,\n",
      "       12.99, 11.040000000000001, 12.735, 14.280000000000001, 10.665,\n",
      "       11.63, 12.75, 14.955, 12.285, 12.46, 18.855, 19.96, 12.735, 13.59,\n",
      "       12.99, 10.95, 12.735, 15.37, 14.43, 15.37, 10.540000000000001,\n",
      "       11.040000000000001, 15.37, 14.955, 14.955, 11.040000000000001,\n",
      "       11.75, 12.46, 12.75, 11.85, 16.95, 12.565, 13.29,\n",
      "       11.040000000000001, 21.95, 12.735, 14.13, 15.719999999999999,\n",
      "       12.75, 24.619999999999997, 15.37, 12.735, 24.619999999999997,\n",
      "       12.565, 13.29, 11.040000000000001, 12.46, 12.46,\n",
      "       10.540000000000001, 18.855, 18.45, 24.619999999999997,\n",
      "       10.540000000000001, 14.955, 12.565, 29.17, 14.955,\n",
      "       10.540000000000001, 14.955, 25.119999999999997, 24.96,\n",
      "       22.060000000000002, 12.75, 11.87, 11.040000000000001, 13.29,\n",
      "       11.040000000000001, 14.280000000000001, 13.59, 15.37, 12.565,\n",
      "       10.79, 12.565, 12.99, 12.565, 12.75, 12.29, 12.75, 16.845, 11.305,\n",
      "       12.565, 11.040000000000001, 12.75, 25.475, 12.565, 12.565,\n",
      "       25.119999999999997, 13.29, 11.85, 15.87, 12.565, 14.43, 12.46,\n",
      "       12.565, 11.040000000000001, 11.87, 12.29, 10.79, 12.565, 10.79,\n",
      "       18.45, 11.040000000000001, 12.46, 18.45, 12.735, 14.95, 16.95,\n",
      "       13.29, 11.87, 12.75, 13.425, 12.75, 11.040000000000001,\n",
      "       11.040000000000001, 12.565, 10.79, 12.29, 18.855,\n",
      "       11.040000000000001, 14.280000000000001, 14.280000000000001,\n",
      "       11.040000000000001, 14.95, 18.45, 14.95, 18.855, 12.735, 14.13,\n",
      "       198.19, 14.955, 18.855, 12.735, 12.75, 41.32, 10.79, 15.37, 12.75,\n",
      "       14.280000000000001, 12.46, 10.665, 12.75, 12.04, 11.305, 18.855,\n",
      "       11.040000000000001, 12.565, 57.455, 11.040000000000001, 13.59,\n",
      "       12.29, 41.32, 13.29, 14.13, 14.43, 14.955, 11.75, 10.79, 12.99,\n",
      "       25.225, 10.95, 14.955, 12.99, 14.280000000000001, 10.79, 12.29,\n",
      "       12.735, 14.955, 11.040000000000001, 155.0, 12.75, 14.13, 18.855,\n",
      "       13.425, 22.060000000000002, 14.955, 14.955, 22.060000000000002,\n",
      "       25.119999999999997, 11.305, 25.119999999999997, 15.87, 14.955,\n",
      "       11.75, 12.735, 25.119999999999997, 13.425, 12.75, 12.735, 10.79,\n",
      "       12.29, 10.79, 15.87, 15.37, 14.955, 14.13, 12.46, 11.87, 12.99,\n",
      "       12.75, 14.13, 22.060000000000002, 15.77, 18.855,\n",
      "       14.280000000000001, 11.87, 15.37, 11.85, 12.46, 12.75, 13.425,\n",
      "       12.46, 12.565, 12.565, 10.665, 198.19, 10.79, 15.87, 13.29,\n",
      "       14.280000000000001, 11.040000000000001, 16.95, 12.565, 12.735,\n",
      "       12.42, 11.040000000000001, 18.45, 11.040000000000001, 12.75,\n",
      "       25.119999999999997, 14.280000000000001, 14.955, 12.99, 14.955,\n",
      "       14.955, 14.955, 12.565, 12.59, 12.735, 12.565, 11.85, 12.75,\n",
      "       25.119999999999997, 14.955, 14.955, 10.665, 13.59,\n",
      "       11.040000000000001, 14.280000000000001, 21.95, 15.77, 11.75, 12.99,\n",
      "       12.75, 12.565, 14.280000000000001, 14.280000000000001, 11.87,\n",
      "       21.95, 11.040000000000001, 14.280000000000001, 15.37, 15.37, 12.29,\n",
      "       25.225, 12.565, 10.540000000000001, 14.955, 29.17, 12.735, 10.79,\n",
      "       13.29, 14.280000000000001, 12.565, 13.59, 11.040000000000001,\n",
      "       12.75, 13.425, 11.63, 11.63, 12.565, 14.280000000000001,\n",
      "       10.540000000000001, 12.565, 14.955, 10.61, 12.04, 12.59, 15.87,\n",
      "       14.13, 11.040000000000001, 12.99, 14.955, 12.565, 14.955, 16.95,\n",
      "       13.29, 14.955, 15.87, 14.280000000000001, 11.040000000000001,\n",
      "       25.119999999999997, 23.45, 12.99, 12.735, 10.79,\n",
      "       25.119999999999997, 14.43, 12.29, 12.735, 24.96, 12.29,\n",
      "       11.040000000000001, 10.79, 15.37, 11.040000000000001, 12.735,\n",
      "       57.455, 57.455, 12.75, 21.95, 12.46, 25.119999999999997,\n",
      "       11.040000000000001, 18.855, 14.955, 10.61, 11.040000000000001,\n",
      "       11.040000000000001, 14.955, 11.885, 14.13, 14.280000000000001,\n",
      "       13.59, 11.63, 25.119999999999997, 14.280000000000001, 14.13,\n",
      "       12.565, 198.19, 15.77, 11.87, 11.040000000000001, 12.565, 10.79,\n",
      "       12.46, 12.565, 11.040000000000001, 18.855, 10.665, 22.04, 12.565,\n",
      "       198.19, 11.040000000000001, 11.87, 14.43, 11.85,\n",
      "       11.040000000000001, 12.75, 12.75, 14.955, 11.040000000000001,\n",
      "       12.29, 12.29, 14.955, 12.565, 11.87, 10.79, 12.59, 18.855,\n",
      "       25.119999999999997, 14.95, 14.955, 10.61, 24.619999999999997,\n",
      "       11.040000000000001, 15.77, 11.63, 29.17, 12.565, 13.29, 11.85,\n",
      "       14.955, 14.280000000000001, 12.59, 12.99, 11.040000000000001,\n",
      "       11.040000000000001, 18.855, 14.13, 22.04, 12.565, 15.37, 12.99,\n",
      "       13.59, 12.735, 14.955, 14.43, 14.280000000000001, 15.37, 12.735,\n",
      "       12.99, 13.29, 12.735, 12.59, 14.280000000000001, 13.29,\n",
      "       25.119999999999997, 10.79, 12.46, 13.425, 12.75, 18.45, 15.87,\n",
      "       12.29, 11.040000000000001, 11.85, 12.29, 15.87, 11.040000000000001,\n",
      "       12.46, 12.99, 12.59, 198.19, 14.955, 12.735, 10.79, 10.79,\n",
      "       11.040000000000001, 18.855, 25.225, 14.43, 12.735, 22.04, 18.855,\n",
      "       11.040000000000001, 13.29, 19.84, 14.955, 14.955,\n",
      "       11.040000000000001, 16.95, 10.665, 12.99, 10.79,\n",
      "       11.040000000000001, 11.75, 13.29, 14.280000000000001,\n",
      "       22.060000000000002, 21.95, 12.565, 12.75, 12.565, 12.29, 14.955,\n",
      "       25.119999999999997, 10.79, 11.85, 25.119999999999997, 10.79,\n",
      "       25.225, 15.87, 12.565, 10.665, 10.79, 24.96, 12.735, 12.735, 12.99,\n",
      "       11.040000000000001, 11.040000000000001, 18.29, 10.61,\n",
      "       14.280000000000001, 12.565, 18.855, 11.75, 198.19, 10.79, 14.955,\n",
      "       12.735, 29.17, 12.59, 18.855, 13.425, 12.75, 198.19, 11.75, 198.19,\n",
      "       11.040000000000001, 10.79, 14.280000000000001, 12.565,\n",
      "       14.280000000000001, 11.75, 11.040000000000001, 198.19, 10.79,\n",
      "       12.565, 12.565, 11.63, 14.955, 12.565, 13.29, 12.59, 12.75, 12.735,\n",
      "       11.040000000000001, 11.63, 14.280000000000001, 11.305, 198.19,\n",
      "       18.855, 11.040000000000001, 13.425, 14.280000000000001,\n",
      "       25.119999999999997, 14.280000000000001, 15.719999999999999, 15.87,\n",
      "       11.85, 14.43, 265.5, 10.95, 12.75, 14.280000000000001, 29.17,\n",
      "       12.565, 11.87, 25.119999999999997, 12.735, 12.75, 10.79, 12.735,\n",
      "       18.29, 12.285, 15.37, 265.5, 12.565, 12.565, 13.59, 12.29,\n",
      "       14.280000000000001, 12.99, 12.565, 14.955, 14.13, 14.955,\n",
      "       14.280000000000001, 12.565, 12.565, 12.735, 12.615, 35.75, 15.79,\n",
      "       10.79, 18.855, 12.565, 12.565, 15.87, 12.735, 11.040000000000001,\n",
      "       12.59, 29.17, 18.855, 10.69, 14.955, 11.040000000000001, 12.99,\n",
      "       13.425, 12.29, 11.85, 12.29, 11.040000000000001, 13.425, 14.955,\n",
      "       11.040000000000001, 18.855, 10.79, 14.955, 18.855, 12.99, 10.79,\n",
      "       12.04, 10.69, 10.540000000000001, 10.665, 12.565, 15.87, 12.565,\n",
      "       14.955, 12.565, 12.735, 14.280000000000001, 25.119999999999997,\n",
      "       14.43, 24.619999999999997, 12.75, 25.119999999999997, 11.63,\n",
      "       14.955, 18.855, 14.280000000000001, 14.280000000000001, 12.59,\n",
      "       10.665, 14.955, 14.280000000000001, 10.665, 14.280000000000001,\n",
      "       14.280000000000001, 25.119999999999997, 12.75, 12.735, 10.79,\n",
      "       14.13, 12.565, 13.425, 13.59, 15.37, 10.79, 14.280000000000001,\n",
      "       11.87, 22.060000000000002, 10.540000000000001, 12.29, 12.75,\n",
      "       14.280000000000001, 10.79, 11.305, 24.96, 12.46, 12.565, 12.75,\n",
      "       12.735, 14.955, 18.855, 15.37, 198.19, 12.29, 10.69,\n",
      "       11.040000000000001, 12.75, 11.040000000000001, 13.425, 18.855,\n",
      "       12.565, 10.61, 11.87, 198.19, 11.040000000000001,\n",
      "       14.280000000000001, 14.280000000000001, 22.060000000000002, 12.565,\n",
      "       13.29, 12.565, 18.855, 16.95, 12.565, 12.735, 12.59,\n",
      "       11.040000000000001, 14.280000000000001, 15.37, 15.87, 12.565,\n",
      "       13.29, 12.04, 10.79, 24.96, 11.87, 11.040000000000001, 12.99,\n",
      "       15.37, 25.475, 12.735, 12.46, 12.99, 11.040000000000001, 11.63,\n",
      "       14.955, 13.59, 14.280000000000001, 12.75, 29.17, 10.665, 12.565,\n",
      "       13.425, 12.735, 25.14, 11.040000000000001, 14.280000000000001,\n",
      "       150.0, 12.565, 10.905, 14.955, 11.63, 14.955, 14.95,\n",
      "       11.040000000000001, 12.75, 10.540000000000001, 198.19, 12.29,\n",
      "       11.040000000000001, 12.75, 11.040000000000001, 14.280000000000001,\n",
      "       11.87, 25.225, 16.95, 10.79, 18.855, 15.87, 11.040000000000001,\n",
      "       11.87, 22.04, 14.955, 18.855, 11.040000000000001, 198.19, 15.37,\n",
      "       14.955, 18.45, 12.735, 198.19, 11.040000000000001, 16.63, 11.85,\n",
      "       10.79, 25.119999999999997, 12.29, 15.77, 25.119999999999997,\n",
      "       11.040000000000001, 14.955, 24.96, 14.955, 12.565, 18.45, 11.63,\n",
      "       12.75, 11.040000000000001, 25.225, 13.59, 10.79, 10.95,\n",
      "       25.119999999999997, 12.565, 12.75, 10.79, 12.615, 12.29, 16.95,\n",
      "       41.32, 12.735, 12.75, 12.46, 10.79, 12.46, 10.79, 12.04, 12.99,\n",
      "       14.955, 11.87, 11.040000000000001, 12.04, 14.13, 12.46, 10.79,\n",
      "       10.905, 11.040000000000001, 198.19, 12.565, 16.13, 12.29,\n",
      "       11.040000000000001, 13.425, 14.955, 12.615, 14.955,\n",
      "       25.119999999999997, 16.805, 14.13, 11.87, 10.79, 198.19, 11.87,\n",
      "       10.79, 14.955, 15.79, 11.85, 10.79, 10.79, 10.79, 12.59, 14.43,\n",
      "       12.99, 10.665, 11.040000000000001, 25.119999999999997,\n",
      "       11.040000000000001, 15.87, 11.040000000000001, 25.475, 198.19,\n",
      "       15.37, 14.43, 12.735, 10.79, 11.75, 10.61, 12.735,\n",
      "       25.119999999999997, 15.37, 12.565, 13.425, 18.855, 14.13, 12.75,\n",
      "       11.85, 13.425, 12.29, 11.040000000000001, 198.19, 12.565,\n",
      "       11.040000000000001, 12.735, 11.85, 14.280000000000001, 14.955,\n",
      "       12.59, 11.87, 12.99, 12.565, 12.565, 12.75, 14.280000000000001,\n",
      "       14.955, 13.29, 10.665, 12.04, 10.79, 14.955, 18.855,\n",
      "       14.280000000000001, 13.425, 18.855, 12.735, 13.29, 21.95,\n",
      "       14.280000000000001, 11.75, 10.79, 11.885, 11.75,\n",
      "       11.040000000000001, 12.565, 21.95, 10.79, 15.37, 15.37, 198.19,\n",
      "       15.37, 10.665, 14.280000000000001, 22.04, 13.425, 12.565, 14.13,\n",
      "       18.855, 11.040000000000001, 10.665, 12.99, 10.540000000000001,\n",
      "       15.37, 12.99, 11.040000000000001, 22.060000000000002,\n",
      "       25.119999999999997, 11.75, 11.85, 11.040000000000001, 10.79,\n",
      "       14.955, 12.99, 25.119999999999997, 11.040000000000001, 14.955,\n",
      "       22.060000000000002, 29.17, 14.280000000000001, 10.665, 14.955,\n",
      "       14.280000000000001, 15.37, 12.99, 16.95, 10.79, 14.95,\n",
      "       14.280000000000001, 198.19, 35.75, 198.19, 198.19, 24.96, 12.75,\n",
      "       25.119999999999997, 12.565, 12.75, 14.280000000000001, 14.43,\n",
      "       12.735, 12.75, 12.565, 155.0, 12.99, 22.04, 14.280000000000001,\n",
      "       14.280000000000001, 12.565, 12.565, 14.280000000000001, 14.955,\n",
      "       16.95, 15.37, 12.75, 12.735, 12.99, 265.5, 12.565, 18.45, 59.95,\n",
      "       14.280000000000001, 12.565, 12.565, 11.87, 15.79, 12.735,\n",
      "       14.280000000000001, 18.855, 11.63, 10.75, 12.75, 50.0, 23.45,\n",
      "       15.37, 11.040000000000001, 11.040000000000001, 11.87, 14.955,\n",
      "       18.855, 12.99, 10.79, 18.29, 12.565, 10.79, 14.955, 12.565, 15.37,\n",
      "       10.540000000000001, 12.565, 10.905, 10.79, 15.87, 15.37, 13.425,\n",
      "       13.59, 11.040000000000001, 12.565, 12.75, 12.565, 11.87,\n",
      "       11.040000000000001, 12.75, 12.46, 11.85, 18.855,\n",
      "       14.280000000000001, 18.855, 14.955, 198.19, 12.565, 13.59, 13.425,\n",
      "       16.95, 14.280000000000001, 14.13, 14.280000000000001, 10.79,\n",
      "       18.855, 12.75, 14.280000000000001, 10.540000000000001, 10.79,\n",
      "       15.37, 14.280000000000001, 11.040000000000001, 13.425,\n",
      "       14.280000000000001, 14.280000000000001, 11.040000000000001, 14.43,\n",
      "       11.885, 15.37, 10.61, 10.79, 12.565, 14.955, 198.19, 13.425,\n",
      "       12.735, 14.955, 11.63, 265.5, 13.59, 10.79, 13.425, 10.79, 12.565,\n",
      "       15.87, 198.19, 13.425, 13.29, 11.040000000000001, 12.565, 14.955,\n",
      "       12.75, 198.19, 10.540000000000001, 14.280000000000001, 16.805,\n",
      "       12.565, 29.95, 15.87, 33.29, 15.37, 13.29, 11.040000000000001,\n",
      "       12.565, 11.87, 14.280000000000001, 15.77, 10.665,\n",
      "       11.040000000000001, 15.87, 13.29, 14.280000000000001, 15.37, 12.99,\n",
      "       15.77, 22.060000000000002, 12.75, 12.565, 15.37, 14.955, 15.87,\n",
      "       11.040000000000001, 15.87, 10.540000000000001, 15.87, 12.29,\n",
      "       14.280000000000001, 11.85, 15.37, 10.540000000000001,\n",
      "       25.119999999999997, 12.565, 14.955, 15.37, 14.955, 198.19, 18.855,\n",
      "       18.855, 10.79, 12.285, 14.280000000000001, 10.665, 12.59,\n",
      "       11.040000000000001, 14.955, 14.955, 12.29, 18.855, 11.75,\n",
      "       25.119999999999997, 12.565, 14.955, 11.885, 25.225, 13.29, 155.0,\n",
      "       13.29, 14.13, 11.040000000000001, 15.37, 12.74, 11.885, 18.855,\n",
      "       11.040000000000001, 10.61, 12.565, 12.75, 12.46, 12.565, 24.96,\n",
      "       15.87, 14.280000000000001, 11.87, 35.75, 13.29, 11.87, 10.69,\n",
      "       13.425, 12.735, 14.280000000000001, 25.225, 12.75, 14.955, 14.955,\n",
      "       15.79, 10.79, 198.19, 18.855, 10.665, 10.79, 10.61, 12.565, 13.425,\n",
      "       10.61, 12.735, 10.79, 12.29, 12.565, 11.040000000000001, 12.735,\n",
      "       16.98, 13.59, 25.14, 12.46, 11.75, 35.75, 12.29, 13.425, 15.79,\n",
      "       11.63, 12.99, 12.04, 12.29, 14.43, 24.96, 12.46,\n",
      "       14.280000000000001, 10.79, 11.85, 10.79, 12.99, 16.95, 15.37,\n",
      "       12.565, 50.0, 11.040000000000001, 14.280000000000001, 11.87, 10.61,\n",
      "       15.37, 11.305, 14.955, 11.040000000000001, 11.85, 16.95, 14.95,\n",
      "       12.735, 198.19, 10.79, 12.735, 11.85, 13.59, 15.87, 11.885, 12.565,\n",
      "       18.855, 12.29, 25.119999999999997, 12.59, 13.29, 11.87,\n",
      "       11.040000000000001, 10.79, 12.29, 12.735, 265.5, 61.475, 14.955,\n",
      "       16.95, 11.040000000000001, 10.540000000000001, 12.75, 11.87,\n",
      "       10.665, 14.13, 11.040000000000001, 29.17, 10.61, 14.955, 14.955,\n",
      "       12.565, 14.955, 12.59, 11.040000000000001, 11.040000000000001,\n",
      "       11.040000000000001, 12.565, 12.565, 14.955, 23.45, 12.565, 12.75,\n",
      "       12.29, 13.29, 16.95, 11.040000000000001, 25.119999999999997, 15.37,\n",
      "       11.85, 10.540000000000001, 11.885, 10.665, 11.040000000000001,\n",
      "       12.735, 12.735, 12.29, 22.04, 12.46, 11.85, 12.46,\n",
      "       11.040000000000001, 12.565, 18.855, 18.855, 11.040000000000001,\n",
      "       15.37, 16.95, 265.5, 13.59, 15.37, 12.46, 265.5, 23.45, 10.665,\n",
      "       18.855, 15.79, 12.75, 14.13, 12.99, 14.43, 12.29, 18.855, 11.75,\n",
      "       12.99, 11.87, 15.87, 11.305, 11.040000000000001, 13.425, 13.59,\n",
      "       10.69, 13.425, 12.99, 14.13, 198.19, 15.77, 22.060000000000002,\n",
      "       12.29, 12.46, 12.46, 10.79, 198.19, 14.280000000000001,\n",
      "       11.040000000000001, 12.565, 11.040000000000001, 21.95, 14.955,\n",
      "       14.13, 15.87, 14.43, 14.955, 11.85, 12.565, 10.540000000000001,\n",
      "       10.540000000000001, 12.75, 10.61, 15.87, 12.565, 15.37, 13.425,\n",
      "       10.61, 11.75, 15.37, 25.119999999999997, 12.735, 198.19, 11.305,\n",
      "       11.645, 10.79, 11.040000000000001, 11.040000000000001, 10.79,\n",
      "       12.565, 29.17, 11.040000000000001, 12.565, 18.855, 12.565, 14.955,\n",
      "       12.565, 14.280000000000001, 10.665, 15.87, 12.565, 198.19, 14.955,\n",
      "       12.59, 14.955, 24.619999999999997, 13.425, 12.735, 15.37, 198.19,\n",
      "       12.99, 10.665, 12.735, 25.475, 14.955, 11.75, 12.75, 11.87, 12.565,\n",
      "       12.565, 14.95, 14.280000000000001, 12.565, 14.280000000000001,\n",
      "       14.280000000000001, 12.735, 12.46, 11.040000000000001, 13.29,\n",
      "       12.565, 12.75, 18.29, 12.565, 10.540000000000001, 15.37, 11.87,\n",
      "       14.280000000000001, 11.040000000000001, 12.735, 11.87, 12.735,\n",
      "       14.955, 13.425, 14.955, 12.04, 18.855, 29.17, 14.280000000000001,\n",
      "       14.955, 21.009999999999998, 12.75, 13.425, 14.280000000000001,\n",
      "       16.95, 25.119999999999997, 11.040000000000001, 14.955,\n",
      "       14.280000000000001, 11.040000000000001, 25.119999999999997, 12.735,\n",
      "       25.119999999999997, 14.955, 12.29, 198.19, 198.19, 11.85, 14.43,\n",
      "       14.955, 12.735, 11.040000000000001, 25.225, 22.060000000000002,\n",
      "       11.040000000000001, 11.63, 12.04, 14.280000000000001,\n",
      "       11.040000000000001, 16.95, 14.13, 14.955, 16.95, 12.565, 12.565,\n",
      "       11.040000000000001, 16.95, 22.04, 12.46, 12.565, 12.735, 18.45,\n",
      "       11.040000000000001, 14.955, 10.79, 12.565, 10.79, 15.37, 15.87,\n",
      "       11.75, 14.280000000000001, 14.280000000000001, 12.99, 16.95, 12.29,\n",
      "       25.119999999999997, 12.565, 10.540000000000001, 14.955, 11.87,\n",
      "       14.955, 15.87, 10.79, 11.040000000000001, 15.37, 10.79,\n",
      "       22.060000000000002, 11.040000000000001, 12.04, 14.955,\n",
      "       14.280000000000001, 11.305, 14.955, 14.955, 15.719999999999999,\n",
      "       39.95, 22.060000000000002, 11.75, 15.37, 11.040000000000001, 10.95,\n",
      "       16.805, 25.119999999999997, 198.19, 12.565, 12.99, 35.95, 13.59,\n",
      "       14.13, 11.85, 15.37, 14.955, 15.87, 14.955, 57.455, 13.59, 12.59,\n",
      "       11.75, 15.37, 12.565, 18.855, 12.565, 198.19, 25.475, 12.99,\n",
      "       12.565, 12.99, 11.040000000000001, 14.13, 24.619999999999997,\n",
      "       12.615, 14.955, 11.040000000000001, 13.425, 14.280000000000001,\n",
      "       12.735, 19.84, 18.855, 11.040000000000001, 13.29, 12.46, 12.735,\n",
      "       12.59, 11.040000000000001, 11.02, 12.565, 39.95, 12.735, 10.79,\n",
      "       15.37, 22.060000000000002, 12.75, 13.425, 10.79, 15.37, 10.79,\n",
      "       11.87, 10.665, 12.735, 14.280000000000001, 11.040000000000001,\n",
      "       12.565, 14.955, 11.040000000000001, 12.04, 198.19, 12.565, 18.855,\n",
      "       12.565, 11.040000000000001, 15.37, 198.19, 11.87, 12.99, 13.425,\n",
      "       14.280000000000001, 35.75, 15.37, 25.119999999999997, 18.855,\n",
      "       14.955, 14.280000000000001, 12.565, 14.955, 15.37, 13.29,\n",
      "       11.040000000000001, 15.37, 24.96, 12.75, 14.955, 12.735, 12.735,\n",
      "       15.37, 12.29, 12.29, 10.79, 12.29, 16.95, 12.72, 29.17, 14.955,\n",
      "       12.99, 11.885, 25.119999999999997, 198.19, 12.75, 198.19, 12.565,\n",
      "       11.040000000000001, 12.565, 12.735, 14.280000000000001, 11.87,\n",
      "       14.955, 12.565, 12.29, 13.29, 14.280000000000001, 12.04, 12.46,\n",
      "       14.280000000000001, 14.43, 11.63, 12.59, 19.96, 15.79, 14.955,\n",
      "       15.37, 16.95, 12.46, 25.119999999999997, 14.13, 11.87, 12.735,\n",
      "       10.665, 22.04, 12.565, 13.425, 15.37, 10.95, 12.75, 12.565, 11.305,\n",
      "       22.04, 18.855, 12.46, 14.280000000000001, 14.13, 12.735, 10.79,\n",
      "       12.75, 11.040000000000001, 50.0, 35.75, 12.46, 12.565, 16.95,\n",
      "       11.75, 198.19, 18.855, 11.85, 42.5, 22.060000000000002, 12.46,\n",
      "       11.040000000000001, 14.955, 11.040000000000001, 12.99,\n",
      "       11.040000000000001, 14.955, 12.735, 11.040000000000001, 12.735,\n",
      "       12.75, 12.565, 15.87, 15.37, 11.040000000000001, 14.955, 10.79,\n",
      "       198.19, 12.565, 14.13, 12.46, 15.87, 10.79, 14.13, 18.45, 12.46,\n",
      "       12.735, 12.565, 29.17, 11.040000000000001, 10.79, 14.13,\n",
      "       14.280000000000001, 11.9, 198.19, 22.060000000000002, 12.75, 12.99,\n",
      "       10.69, 10.540000000000001, 12.99, 16.845, 18.855,\n",
      "       14.280000000000001, 11.040000000000001, 14.955, 12.46, 12.565,\n",
      "       35.95, 18.855, 13.425, 11.85, 11.040000000000001, 14.955, 18.855,\n",
      "       14.13, 13.59, 24.96, 18.45, 25.119999999999997, 12.74, 10.79,\n",
      "       10.79, 12.565, 14.955, 11.85, 22.060000000000002, 15.37, 10.61,\n",
      "       12.04, 11.85, 10.540000000000001, 24.96, 22.04, 11.040000000000001,\n",
      "       25.119999999999997, 12.75, 11.87, 14.43, 14.955, 12.46, 12.565,\n",
      "       11.040000000000001, 11.63, 14.280000000000001, 12.75, 150.0, 12.75,\n",
      "       13.29, 25.119999999999997, 14.280000000000001, 14.280000000000001,\n",
      "       22.060000000000002, 14.280000000000001, 12.99, 12.29, 39.95,\n",
      "       15.719999999999999, 11.040000000000001, 14.13, 12.565, 12.46,\n",
      "       19.96, 12.735, 11.040000000000001, 14.955, 29.17, 198.19, 12.565,\n",
      "       13.425, 29.17, 11.63, 11.040000000000001, 25.119999999999997, 50.0,\n",
      "       25.119999999999997, 14.43, 12.75, 12.59, 14.280000000000001,\n",
      "       12.735, 11.040000000000001, 18.855, 198.19, 14.955, 15.79, 11.87,\n",
      "       14.280000000000001, 12.46, 12.565, 12.565, 11.040000000000001,\n",
      "       15.79, 14.43, 22.060000000000002, 11.87, 14.13, 12.46, 10.79,\n",
      "       12.735, 11.87, 18.855, 12.735, 13.425, 198.19, 11.040000000000001,\n",
      "       11.87, 19.96, 13.59, 14.955, 25.119999999999997, 15.59, 12.565,\n",
      "       14.955, 12.29, 24.96, 12.04, 10.79, 12.29, 14.955, 15.37, 14.43,\n",
      "       15.87, 12.46, 12.46, 12.735, 12.99, 19.96, 11.75, 11.85, 12.46,\n",
      "       12.565, 14.955, 10.79, 11.75, 12.29, 15.37, 12.565, 10.61, 11.85,\n",
      "       13.425, 14.955, 11.040000000000001, 11.85, 12.46, 12.75,\n",
      "       11.040000000000001, 11.040000000000001, 15.37, 29.17, 12.565,\n",
      "       12.29, 14.955, 14.955, 22.04, 25.119999999999997, 12.46, 15.37,\n",
      "       24.619999999999997, 18.855, 12.565, 14.955, 12.735, 13.425, 19.84,\n",
      "       12.565, 25.225, 13.59, 22.060000000000002, 25.475,\n",
      "       24.619999999999997, 14.280000000000001, 12.75, 11.87, 117.5,\n",
      "       11.040000000000001, 12.75, 11.87, 198.19, 12.615,\n",
      "       25.119999999999997, 11.85, 10.61, 198.19, 11.87, 11.87,\n",
      "       11.040000000000001, 11.040000000000001, 10.79, 11.040000000000001,\n",
      "       18.855, 11.040000000000001, 12.29, 14.955, 15.79, 19.96, 12.29,\n",
      "       25.119999999999997, 12.46, 11.87, 14.955, 12.565, 12.99, 12.99,\n",
      "       12.99, 12.59, 15.37, 13.29, 198.19, 11.040000000000001,\n",
      "       22.060000000000002, 14.975, 198.19, 15.87, 16.95, 12.565,\n",
      "       14.280000000000001, 12.565, 11.040000000000001, 14.280000000000001,\n",
      "       10.665, 12.735, 11.87, 22.04, 29.17, 14.280000000000001, 13.29,\n",
      "       11.040000000000001, 13.59, 35.75, 13.425, 13.425, 12.565,\n",
      "       14.280000000000001, 12.565, 12.29, 12.99, 14.975, 10.79, 15.87,\n",
      "       11.87, 25.119999999999997, 25.119999999999997, 265.5, 10.665,\n",
      "       11.87, 14.43, 11.63, 12.735, 14.955, 11.85, 11.87, 13.59, 10.79,\n",
      "       13.425, 25.225, 11.040000000000001, 12.735, 14.955,\n",
      "       25.119999999999997, 10.540000000000001, 29.17, 12.565, 10.79,\n",
      "       12.29, 18.855, 15.37, 13.59, 15.87, 12.735, 12.565, 12.29, 12.46,\n",
      "       12.75, 14.13, 22.04, 14.280000000000001, 14.955, 11.305, 25.49,\n",
      "       10.79, 12.735, 14.280000000000001, 14.955, 11.040000000000001,\n",
      "       14.280000000000001, 12.75, 13.425, 12.565, 11.885,\n",
      "       11.040000000000001, 14.955, 12.565, 12.99, 11.040000000000001,\n",
      "       11.040000000000001, 12.75, 10.79, 10.79, 12.565,\n",
      "       25.119999999999997, 12.735, 10.79, 13.29, 33.29, 57.455, 14.43,\n",
      "       14.955, 14.955, 10.79, 14.955, 14.955, 10.540000000000001, 12.735,\n",
      "       13.425, 11.040000000000001, 198.19, 11.63, 29.17, 12.29,\n",
      "       11.040000000000001, 15.37, 12.565, 12.46, 11.040000000000001,\n",
      "       198.19, 14.280000000000001, 12.735, 22.04, 11.87, 12.735, 19.96,\n",
      "       19.96, 10.79, 13.29, 14.955, 12.565, 150.0, 11.040000000000001,\n",
      "       14.955, 11.75, 13.29, 14.13, 12.565, 15.87, 12.735, 12.99, 10.79,\n",
      "       15.719999999999999, 15.37, 12.99, 14.95, 11.85, 10.540000000000001,\n",
      "       12.565, 12.75, 15.87, 12.565, 14.280000000000001, 12.75, 12.565,\n",
      "       14.13, 10.79, 14.955, 12.735, 12.565, 12.565, 14.280000000000001,\n",
      "       12.565, 11.85, 29.17, 15.87, 11.040000000000001, 13.425, 12.29,\n",
      "       14.955, 25.225, 11.63, 11.040000000000001, 13.29,\n",
      "       11.040000000000001, 12.75, 12.29, 12.565, 12.99, 12.565, 18.855,\n",
      "       18.855, 10.95, 14.955, 14.955, 12.46, 11.040000000000001, 12.565,\n",
      "       10.79, 14.13, 13.59, 19.96, 14.955, 11.040000000000001, 15.87,\n",
      "       10.665, 12.565, 11.85, 15.37, 11.87, 11.305, 14.955, 10.665,\n",
      "       11.885, 14.280000000000001, 12.565, 10.79, 13.425,\n",
      "       14.280000000000001, 12.735, 12.99, 11.040000000000001, 15.37,\n",
      "       11.63, 12.99, 14.43, 29.17, 11.63, 14.280000000000001,\n",
      "       22.060000000000002, 14.955, 12.735, 12.29, 12.29, 12.75, 12.565,\n",
      "       12.29, 14.955, 11.040000000000001, 14.43, 11.040000000000001,\n",
      "       12.565, 12.735, 14.955, 15.37, 11.02, 10.665, 25.119999999999997,\n",
      "       18.855, 14.280000000000001, 14.43, 12.735, 14.955, 18.855, 23.45,\n",
      "       12.46, 12.29, 14.280000000000001, 23.45, 12.75, 13.425, 12.735,\n",
      "       11.040000000000001, 15.37, 18.45, 15.37, 14.12, 265.5, 23.45,\n",
      "       10.540000000000001, 11.87, 24.619999999999997, 29.17,\n",
      "       11.040000000000001, 29.17, 12.04, 12.735, 14.280000000000001,\n",
      "       11.040000000000001, 25.119999999999997, 12.29, 12.29, 12.565,\n",
      "       29.17, 14.13, 12.99, 11.040000000000001, 11.040000000000001, 10.79,\n",
      "       12.565, 11.040000000000001, 24.619999999999997, 22.060000000000002,\n",
      "       11.040000000000001, 14.280000000000001, 12.565, 14.955, 16.95,\n",
      "       14.13, 14.955, 11.885, 11.040000000000001, 14.280000000000001,\n",
      "       11.040000000000001, 14.955, 11.87, 12.75, 12.46, 12.565, 12.75,\n",
      "       11.040000000000001, 198.19, 12.565, 11.645, 14.955, 10.69,\n",
      "       25.119999999999997, 25.119999999999997, 14.955, 12.75, 18.855,\n",
      "       15.719999999999999, 11.9, 12.565, 25.119999999999997, 16.805,\n",
      "       15.37, 15.37, 24.96, 15.37, 22.060000000000002, 15.87, 15.87,\n",
      "       12.735, 10.665, 12.565, 14.95, 15.37, 14.955, 13.59, 10.79, 12.75,\n",
      "       12.99, 14.43, 15.87, 14.280000000000001, 14.955, 14.955, 15.77,\n",
      "       66.36, 18.855, 14.280000000000001, 11.040000000000001, 18.855,\n",
      "       12.29, 12.735, 14.13, 12.565, 14.280000000000001, 15.87, 12.735,\n",
      "       12.29, 12.46, 11.040000000000001, 11.85, 14.955, 12.75, 12.565,\n",
      "       11.040000000000001, 10.61, 11.85, 14.280000000000001, 12.565,\n",
      "       13.59, 14.43, 12.54, 13.425, 12.29, 14.280000000000001, 198.19,\n",
      "       12.735, 12.75, 12.735, 12.565, 12.99, 10.665, 12.75, 18.855,\n",
      "       13.425, 18.855, 13.425, 16.95, 12.565, 12.46, 198.19, 14.43, 11.75,\n",
      "       15.37, 12.29, 11.040000000000001, 11.87, 12.565, 12.735, 12.75,\n",
      "       11.040000000000001, 14.280000000000001, 12.565, 12.565, 11.75,\n",
      "       13.59, 14.955, 14.955, 14.280000000000001, 12.75, 12.99, 12.29,\n",
      "       12.565, 12.75, 12.99, 50.0, 14.955, 10.540000000000001, 14.13,\n",
      "       18.855, 14.955, 12.565, 12.29, 12.565, 25.265, 14.280000000000001,\n",
      "       11.63, 14.43, 11.040000000000001, 13.59, 12.75, 12.75, 12.735,\n",
      "       15.37, 11.040000000000001, 14.280000000000001, 11.75, 14.955,\n",
      "       25.119999999999997, 11.040000000000001, 11.63, 11.9, 12.75, 12.565,\n",
      "       10.665, 12.565, 42.5, 11.040000000000001, 42.5, 25.119999999999997,\n",
      "       11.040000000000001, 10.79, 14.13, 10.79, 15.37, 14.955, 198.19,\n",
      "       12.565, 10.665, 15.37, 11.85, 10.69, 12.565, 11.040000000000001,\n",
      "       24.96, 265.5, 11.87, 198.19, 14.43, 11.040000000000001, 12.735,\n",
      "       18.45, 14.955, 13.425, 12.735, 11.87, 22.060000000000002, 12.29,\n",
      "       11.305, 14.95, 12.565, 12.75, 12.99, 12.735, 15.37, 14.43, 14.955,\n",
      "       24.96, 14.280000000000001, 11.63, 11.85, 15.37, 25.119999999999997,\n",
      "       14.955, 14.955, 12.565, 11.040000000000001, 10.79, 12.75,\n",
      "       10.540000000000001, 10.79, 15.37, 10.79, 12.04, 12.59, 12.565,\n",
      "       12.75, 265.5, 14.280000000000001, 13.425, 11.040000000000001,\n",
      "       13.29, 14.955, 11.040000000000001, 12.565, 198.19, 11.75,\n",
      "       11.040000000000001, 12.735, 22.04, 18.45, 13.425, 150.0, 18.855,\n",
      "       11.040000000000001, 15.87, 10.61, 14.280000000000001, 10.79,\n",
      "       12.565, 12.565, 11.85, 18.855, 13.29, 19.96, 10.540000000000001,\n",
      "       11.85, 11.040000000000001, 12.46, 12.46, 12.75, 22.060000000000002,\n",
      "       25.119999999999997, 12.29, 12.75, 15.87, 18.855, 15.37, 12.75,\n",
      "       24.96, 15.37, 14.280000000000001, 12.735, 18.855, 12.735, 11.85,\n",
      "       13.425, 14.955, 14.955, 14.13, 22.060000000000002, 57.455, 15.79,\n",
      "       11.040000000000001, 12.46, 12.735, 11.040000000000001, 15.87,\n",
      "       15.37, 13.425, 18.855, 10.79, 11.040000000000001, 10.79, 198.19,\n",
      "       29.17, 11.85, 198.19, 14.955, 25.14, 11.75, 14.955, 14.955, 10.79,\n",
      "       11.040000000000001, 198.19, 14.955, 14.955, 14.280000000000001,\n",
      "       12.565, 12.285, 24.619999999999997, 14.955, 11.040000000000001,\n",
      "       11.040000000000001, 12.735, 10.61, 14.13, 10.79, 14.955, 15.87,\n",
      "       29.17, 15.37, 14.280000000000001, 11.02, 11.85, 12.565, 12.99,\n",
      "       14.280000000000001, 18.855, 12.565, 12.735, 25.119999999999997,\n",
      "       15.87, 14.955, 12.565, 13.425, 25.119999999999997,\n",
      "       14.280000000000001, 10.79, 14.280000000000001, 11.040000000000001,\n",
      "       12.565, 12.565, 12.565, 11.040000000000001, 12.565, 14.955, 12.565,\n",
      "       25.119999999999997, 12.735, 14.280000000000001, 12.75, 12.565,\n",
      "       18.855, 12.735, 10.665, 21.95, 11.040000000000001, 12.565,\n",
      "       14.280000000000001, 14.955, 33.29, 12.565, 18.855, 18.855, 15.37,\n",
      "       13.29, 12.46, 12.735, 12.565, 10.665, 12.735, 14.955, 12.735,\n",
      "       12.565, 18.855, 10.540000000000001, 12.735, 12.59, 12.735,\n",
      "       14.280000000000001, 25.119999999999997, 12.75, 12.75, 12.29,\n",
      "       14.280000000000001, 12.565, 11.040000000000001, 14.955,\n",
      "       15.719999999999999, 12.735, 13.29, 19.96, 12.99,\n",
      "       14.280000000000001, 12.565, 14.955, 12.565, 15.37, 13.59,\n",
      "       11.040000000000001, 12.735, 25.119999999999997, 15.87, 14.13,\n",
      "       14.13, 13.425, 19.84, 14.280000000000001, 29.17, 10.79, 13.425,\n",
      "       12.565, 12.565, 10.79, 12.565, 14.955, 12.565, 10.665, 12.565,\n",
      "       12.29, 12.565, 12.735, 14.43, 12.565, 14.43, 13.425, 14.955, 24.96,\n",
      "       15.37, 12.29, 22.060000000000002, 11.040000000000001, 12.735,\n",
      "       12.46, 11.87, 11.85, 12.75, 11.85, 11.85, 12.565,\n",
      "       14.280000000000001, 12.46, 11.040000000000001, 14.955, 13.425,\n",
      "       12.04, 12.75, 10.79, 15.37, 11.75, 15.37, 11.040000000000001,\n",
      "       10.79, 12.46, 22.04, 18.855, 12.75, 22.060000000000002, 14.43,\n",
      "       12.735, 10.540000000000001, 14.280000000000001, 12.735, 12.565,\n",
      "       13.425, 12.565, 14.280000000000001, 11.87], dtype=object)]\n",
      "means []\n"
     ]
    }
   ],
   "source": [
    "for key, values_list in price_stat.items():\n",
    "    print(key, [x.get_ydata() for x in values_list])"
   ]
  },
  {
   "cell_type": "markdown",
   "id": "4abadb45",
   "metadata": {},
   "source": [
    "Как мы уже заметили по гистограмме, наибольшее числ оцен располагается в диапазоне от чуть большее 1 до 10, все остальное можно считать выбросами. \n",
    "\n",
    "По гистограмме с ранжированием от 60 до 250 мы видим, что таких значений совсем не много, посчитаем сколько таких значений содержится в нашем датасете. "
   ]
  },
  {
   "cell_type": "code",
   "execution_count": 92,
   "id": "2428bc25",
   "metadata": {},
   "outputs": [
    {
     "data": {
      "text/plain": [
       "purchase_id        231\n",
       "item_id            231\n",
       "quantity           231\n",
       "purchasedate       231\n",
       "customer_id        231\n",
       "shop_id            231\n",
       "loyalty_program    231\n",
       "purchasemonth      231\n",
       "median_price       231\n",
       "dtype: int64"
      ]
     },
     "execution_count": 92,
     "metadata": {},
     "output_type": "execute_result"
    }
   ],
   "source": [
    "# Cчитаем количество значений. \n",
    "\n",
    "data_price.query('median_price > 60').count()"
   ]
  },
  {
   "cell_type": "markdown",
   "id": "ff418809",
   "metadata": {},
   "source": [
    "В данных содержится всего 231 строка со значениями больше 60, это менее 1 %, отфильтруем эти данные из датасета, снизим вероятность возможно искажения и влияние на средний чек. "
   ]
  },
  {
   "cell_type": "code",
   "execution_count": 93,
   "id": "964f5c9a",
   "metadata": {},
   "outputs": [],
   "source": [
    "# Сохраняем датасет с фильтром по медианной цене ниже 60.\n",
    "\n",
    "data_price = data_price.query('median_price < 60')"
   ]
  },
  {
   "cell_type": "markdown",
   "id": "ae4d54fc",
   "metadata": {},
   "source": [
    "### Определение лидеров по продажам."
   ]
  },
  {
   "cell_type": "markdown",
   "id": "ca45f2df",
   "metadata": {},
   "source": [
    "Посчитаем сумму выручки для каждого товара.  "
   ]
  },
  {
   "cell_type": "code",
   "execution_count": 94,
   "id": "4221403d",
   "metadata": {
    "scrolled": false
   },
   "outputs": [
    {
     "data": {
      "text/html": [
       "<div>\n",
       "<style scoped>\n",
       "    .dataframe tbody tr th:only-of-type {\n",
       "        vertical-align: middle;\n",
       "    }\n",
       "\n",
       "    .dataframe tbody tr th {\n",
       "        vertical-align: top;\n",
       "    }\n",
       "\n",
       "    .dataframe thead th {\n",
       "        text-align: right;\n",
       "    }\n",
       "</style>\n",
       "<table border=\"1\" class=\"dataframe\">\n",
       "  <thead>\n",
       "    <tr style=\"text-align: right;\">\n",
       "      <th></th>\n",
       "      <th>purchase_id</th>\n",
       "      <th>item_id</th>\n",
       "      <th>quantity</th>\n",
       "      <th>purchasedate</th>\n",
       "      <th>customer_id</th>\n",
       "      <th>shop_id</th>\n",
       "      <th>loyalty_program</th>\n",
       "      <th>purchasemonth</th>\n",
       "      <th>median_price</th>\n",
       "      <th>total_sales</th>\n",
       "    </tr>\n",
       "  </thead>\n",
       "  <tbody>\n",
       "    <tr>\n",
       "      <th>0</th>\n",
       "      <td>538280</td>\n",
       "      <td>21873</td>\n",
       "      <td>11</td>\n",
       "      <td>2016-12-10 12:50:00</td>\n",
       "      <td>18427.0</td>\n",
       "      <td>Shop 0</td>\n",
       "      <td>0</td>\n",
       "      <td>12</td>\n",
       "      <td>1.630</td>\n",
       "      <td>17.93</td>\n",
       "    </tr>\n",
       "    <tr>\n",
       "      <th>1</th>\n",
       "      <td>538862</td>\n",
       "      <td>22195</td>\n",
       "      <td>0</td>\n",
       "      <td>2016-12-14 14:11:00</td>\n",
       "      <td>22389.0</td>\n",
       "      <td>Shop 0</td>\n",
       "      <td>1</td>\n",
       "      <td>12</td>\n",
       "      <td>3.290</td>\n",
       "      <td>0.00</td>\n",
       "    </tr>\n",
       "    <tr>\n",
       "      <th>2</th>\n",
       "      <td>538855</td>\n",
       "      <td>21239</td>\n",
       "      <td>7</td>\n",
       "      <td>2016-12-14 13:50:00</td>\n",
       "      <td>22182.0</td>\n",
       "      <td>Shop 0</td>\n",
       "      <td>1</td>\n",
       "      <td>12</td>\n",
       "      <td>1.630</td>\n",
       "      <td>11.41</td>\n",
       "    </tr>\n",
       "    <tr>\n",
       "      <th>3</th>\n",
       "      <td>543543</td>\n",
       "      <td>22271</td>\n",
       "      <td>0</td>\n",
       "      <td>2017-02-09 15:33:00</td>\n",
       "      <td>23522.0</td>\n",
       "      <td>Shop 0</td>\n",
       "      <td>1</td>\n",
       "      <td>2</td>\n",
       "      <td>4.370</td>\n",
       "      <td>0.00</td>\n",
       "    </tr>\n",
       "    <tr>\n",
       "      <th>4</th>\n",
       "      <td>543812</td>\n",
       "      <td>79321</td>\n",
       "      <td>0</td>\n",
       "      <td>2017-02-13 14:40:00</td>\n",
       "      <td>23151.0</td>\n",
       "      <td>Shop 0</td>\n",
       "      <td>1</td>\n",
       "      <td>2</td>\n",
       "      <td>5.750</td>\n",
       "      <td>0.00</td>\n",
       "    </tr>\n",
       "    <tr>\n",
       "      <th>...</th>\n",
       "      <td>...</td>\n",
       "      <td>...</td>\n",
       "      <td>...</td>\n",
       "      <td>...</td>\n",
       "      <td>...</td>\n",
       "      <td>...</td>\n",
       "      <td>...</td>\n",
       "      <td>...</td>\n",
       "      <td>...</td>\n",
       "      <td>...</td>\n",
       "    </tr>\n",
       "    <tr>\n",
       "      <th>104274</th>\n",
       "      <td>538566</td>\n",
       "      <td>21826</td>\n",
       "      <td>1</td>\n",
       "      <td>2016-12-13 11:21:00</td>\n",
       "      <td>0</td>\n",
       "      <td>Shop 0</td>\n",
       "      <td>0</td>\n",
       "      <td>12</td>\n",
       "      <td>2.460</td>\n",
       "      <td>2.46</td>\n",
       "    </tr>\n",
       "    <tr>\n",
       "      <th>104275</th>\n",
       "      <td>540247</td>\n",
       "      <td>21742</td>\n",
       "      <td>0</td>\n",
       "      <td>2017-01-05 15:56:00</td>\n",
       "      <td>21143.0</td>\n",
       "      <td>Shop 0</td>\n",
       "      <td>0</td>\n",
       "      <td>1</td>\n",
       "      <td>9.335</td>\n",
       "      <td>0.00</td>\n",
       "    </tr>\n",
       "    <tr>\n",
       "      <th>104276</th>\n",
       "      <td>538068</td>\n",
       "      <td>85048</td>\n",
       "      <td>1</td>\n",
       "      <td>2016-12-09 14:05:00</td>\n",
       "      <td>23657.0</td>\n",
       "      <td>Shop 0</td>\n",
       "      <td>1</td>\n",
       "      <td>12</td>\n",
       "      <td>8.330</td>\n",
       "      <td>8.33</td>\n",
       "    </tr>\n",
       "    <tr>\n",
       "      <th>104277</th>\n",
       "      <td>538207</td>\n",
       "      <td>22818</td>\n",
       "      <td>11</td>\n",
       "      <td>2016-12-10 11:33:00</td>\n",
       "      <td>18427.0</td>\n",
       "      <td>Shop 0</td>\n",
       "      <td>0</td>\n",
       "      <td>12</td>\n",
       "      <td>0.830</td>\n",
       "      <td>9.13</td>\n",
       "    </tr>\n",
       "    <tr>\n",
       "      <th>104278</th>\n",
       "      <td>543977</td>\n",
       "      <td>22384</td>\n",
       "      <td>9</td>\n",
       "      <td>2017-02-14 15:35:00</td>\n",
       "      <td>21294.0</td>\n",
       "      <td>Shop 0</td>\n",
       "      <td>0</td>\n",
       "      <td>2</td>\n",
       "      <td>4.130</td>\n",
       "      <td>37.17</td>\n",
       "    </tr>\n",
       "  </tbody>\n",
       "</table>\n",
       "<p>104039 rows × 10 columns</p>\n",
       "</div>"
      ],
      "text/plain": [
       "       purchase_id item_id  quantity        purchasedate customer_id shop_id  \\\n",
       "0           538280   21873        11 2016-12-10 12:50:00     18427.0  Shop 0   \n",
       "1           538862   22195         0 2016-12-14 14:11:00     22389.0  Shop 0   \n",
       "2           538855   21239         7 2016-12-14 13:50:00     22182.0  Shop 0   \n",
       "3           543543   22271         0 2017-02-09 15:33:00     23522.0  Shop 0   \n",
       "4           543812   79321         0 2017-02-13 14:40:00     23151.0  Shop 0   \n",
       "...            ...     ...       ...                 ...         ...     ...   \n",
       "104274      538566   21826         1 2016-12-13 11:21:00           0  Shop 0   \n",
       "104275      540247   21742         0 2017-01-05 15:56:00     21143.0  Shop 0   \n",
       "104276      538068   85048         1 2016-12-09 14:05:00     23657.0  Shop 0   \n",
       "104277      538207   22818        11 2016-12-10 11:33:00     18427.0  Shop 0   \n",
       "104278      543977   22384         9 2017-02-14 15:35:00     21294.0  Shop 0   \n",
       "\n",
       "        loyalty_program  purchasemonth  median_price  total_sales  \n",
       "0                     0             12         1.630        17.93  \n",
       "1                     1             12         3.290         0.00  \n",
       "2                     1             12         1.630        11.41  \n",
       "3                     1              2         4.370         0.00  \n",
       "4                     1              2         5.750         0.00  \n",
       "...                 ...            ...           ...          ...  \n",
       "104274                0             12         2.460         2.46  \n",
       "104275                0              1         9.335         0.00  \n",
       "104276                1             12         8.330         8.33  \n",
       "104277                0             12         0.830         9.13  \n",
       "104278                0              2         4.130        37.17  \n",
       "\n",
       "[104039 rows x 10 columns]"
      ]
     },
     "execution_count": 94,
     "metadata": {},
     "output_type": "execute_result"
    }
   ],
   "source": [
    "# Считаем сумму выруки по каждому товару и сохраняем в отдельный столбец - total_sales.\n",
    "\n",
    "data_price['total_sales'] = data_price['median_price'] * data_price['quantity']\n",
    "\n",
    "data_price"
   ]
  },
  {
   "cell_type": "markdown",
   "id": "4a26fe0a",
   "metadata": {},
   "source": [
    "Посчитаем распределение сумм выручки, количество чеков, количество товаров, количество покупателей в разбивке по магазинам."
   ]
  },
  {
   "cell_type": "code",
   "execution_count": 95,
   "id": "9804b2e1",
   "metadata": {
    "scrolled": false
   },
   "outputs": [
    {
     "data": {
      "text/html": [
       "<div>\n",
       "<style scoped>\n",
       "    .dataframe tbody tr th:only-of-type {\n",
       "        vertical-align: middle;\n",
       "    }\n",
       "\n",
       "    .dataframe tbody tr th {\n",
       "        vertical-align: top;\n",
       "    }\n",
       "\n",
       "    .dataframe thead th {\n",
       "        text-align: right;\n",
       "    }\n",
       "</style>\n",
       "<table border=\"1\" class=\"dataframe\">\n",
       "  <thead>\n",
       "    <tr style=\"text-align: right;\">\n",
       "      <th></th>\n",
       "      <th>customer_id</th>\n",
       "      <th>purchase_id</th>\n",
       "      <th>quantity</th>\n",
       "      <th>total_sales</th>\n",
       "    </tr>\n",
       "    <tr>\n",
       "      <th>shop_id</th>\n",
       "      <th></th>\n",
       "      <th></th>\n",
       "      <th></th>\n",
       "      <th></th>\n",
       "    </tr>\n",
       "  </thead>\n",
       "  <tbody>\n",
       "    <tr>\n",
       "      <th>Shop 0</th>\n",
       "      <td>1506</td>\n",
       "      <td>3527</td>\n",
       "      <td>677053</td>\n",
       "      <td>1855918.860</td>\n",
       "    </tr>\n",
       "    <tr>\n",
       "      <th>Shop 1</th>\n",
       "      <td>38</td>\n",
       "      <td>71</td>\n",
       "      <td>18015</td>\n",
       "      <td>48615.330</td>\n",
       "    </tr>\n",
       "    <tr>\n",
       "      <th>Shop 10</th>\n",
       "      <td>8</td>\n",
       "      <td>12</td>\n",
       "      <td>3345</td>\n",
       "      <td>10140.660</td>\n",
       "    </tr>\n",
       "    <tr>\n",
       "      <th>Shop 11</th>\n",
       "      <td>5</td>\n",
       "      <td>6</td>\n",
       "      <td>1366</td>\n",
       "      <td>4146.200</td>\n",
       "    </tr>\n",
       "    <tr>\n",
       "      <th>Shop 12</th>\n",
       "      <td>10</td>\n",
       "      <td>16</td>\n",
       "      <td>3379</td>\n",
       "      <td>6945.110</td>\n",
       "    </tr>\n",
       "    <tr>\n",
       "      <th>Shop 13</th>\n",
       "      <td>1</td>\n",
       "      <td>4</td>\n",
       "      <td>617</td>\n",
       "      <td>2410.330</td>\n",
       "    </tr>\n",
       "    <tr>\n",
       "      <th>Shop 14</th>\n",
       "      <td>4</td>\n",
       "      <td>5</td>\n",
       "      <td>6942</td>\n",
       "      <td>22346.055</td>\n",
       "    </tr>\n",
       "    <tr>\n",
       "      <th>Shop 15</th>\n",
       "      <td>1</td>\n",
       "      <td>2</td>\n",
       "      <td>574</td>\n",
       "      <td>1736.520</td>\n",
       "    </tr>\n",
       "    <tr>\n",
       "      <th>Shop 16</th>\n",
       "      <td>3</td>\n",
       "      <td>3</td>\n",
       "      <td>1217</td>\n",
       "      <td>3896.055</td>\n",
       "    </tr>\n",
       "    <tr>\n",
       "      <th>Shop 17</th>\n",
       "      <td>2</td>\n",
       "      <td>2</td>\n",
       "      <td>638</td>\n",
       "      <td>2236.450</td>\n",
       "    </tr>\n",
       "    <tr>\n",
       "      <th>Shop 18</th>\n",
       "      <td>5</td>\n",
       "      <td>8</td>\n",
       "      <td>2996</td>\n",
       "      <td>6501.665</td>\n",
       "    </tr>\n",
       "    <tr>\n",
       "      <th>Shop 19</th>\n",
       "      <td>3</td>\n",
       "      <td>5</td>\n",
       "      <td>7229</td>\n",
       "      <td>11299.830</td>\n",
       "    </tr>\n",
       "    <tr>\n",
       "      <th>Shop 2</th>\n",
       "      <td>7</td>\n",
       "      <td>17</td>\n",
       "      <td>14534</td>\n",
       "      <td>39523.415</td>\n",
       "    </tr>\n",
       "    <tr>\n",
       "      <th>Shop 20</th>\n",
       "      <td>3</td>\n",
       "      <td>3</td>\n",
       "      <td>364</td>\n",
       "      <td>1020.060</td>\n",
       "    </tr>\n",
       "    <tr>\n",
       "      <th>Shop 21</th>\n",
       "      <td>2</td>\n",
       "      <td>2</td>\n",
       "      <td>356</td>\n",
       "      <td>1629.600</td>\n",
       "    </tr>\n",
       "    <tr>\n",
       "      <th>Shop 22</th>\n",
       "      <td>3</td>\n",
       "      <td>4</td>\n",
       "      <td>2120</td>\n",
       "      <td>3003.470</td>\n",
       "    </tr>\n",
       "    <tr>\n",
       "      <th>Shop 23</th>\n",
       "      <td>1</td>\n",
       "      <td>1</td>\n",
       "      <td>53</td>\n",
       "      <td>225.250</td>\n",
       "    </tr>\n",
       "    <tr>\n",
       "      <th>Shop 24</th>\n",
       "      <td>1</td>\n",
       "      <td>1</td>\n",
       "      <td>494</td>\n",
       "      <td>3984.625</td>\n",
       "    </tr>\n",
       "    <tr>\n",
       "      <th>Shop 25</th>\n",
       "      <td>1</td>\n",
       "      <td>1</td>\n",
       "      <td>1008</td>\n",
       "      <td>3234.265</td>\n",
       "    </tr>\n",
       "    <tr>\n",
       "      <th>Shop 26</th>\n",
       "      <td>1</td>\n",
       "      <td>1</td>\n",
       "      <td>1034</td>\n",
       "      <td>2510.090</td>\n",
       "    </tr>\n",
       "    <tr>\n",
       "      <th>Shop 27</th>\n",
       "      <td>1</td>\n",
       "      <td>1</td>\n",
       "      <td>341</td>\n",
       "      <td>2095.470</td>\n",
       "    </tr>\n",
       "    <tr>\n",
       "      <th>Shop 28</th>\n",
       "      <td>1</td>\n",
       "      <td>1</td>\n",
       "      <td>466</td>\n",
       "      <td>1621.895</td>\n",
       "    </tr>\n",
       "    <tr>\n",
       "      <th>Shop 29</th>\n",
       "      <td>1</td>\n",
       "      <td>1</td>\n",
       "      <td>71</td>\n",
       "      <td>207.715</td>\n",
       "    </tr>\n",
       "    <tr>\n",
       "      <th>Shop 3</th>\n",
       "      <td>4</td>\n",
       "      <td>13</td>\n",
       "      <td>43125</td>\n",
       "      <td>102070.050</td>\n",
       "    </tr>\n",
       "    <tr>\n",
       "      <th>Shop 30</th>\n",
       "      <td>1</td>\n",
       "      <td>1</td>\n",
       "      <td>331</td>\n",
       "      <td>743.530</td>\n",
       "    </tr>\n",
       "    <tr>\n",
       "      <th>Shop 4</th>\n",
       "      <td>41</td>\n",
       "      <td>80</td>\n",
       "      <td>18579</td>\n",
       "      <td>53748.865</td>\n",
       "    </tr>\n",
       "    <tr>\n",
       "      <th>Shop 5</th>\n",
       "      <td>3</td>\n",
       "      <td>4</td>\n",
       "      <td>3698</td>\n",
       "      <td>6202.610</td>\n",
       "    </tr>\n",
       "    <tr>\n",
       "      <th>Shop 6</th>\n",
       "      <td>4</td>\n",
       "      <td>37</td>\n",
       "      <td>19565</td>\n",
       "      <td>62409.140</td>\n",
       "    </tr>\n",
       "    <tr>\n",
       "      <th>Shop 7</th>\n",
       "      <td>7</td>\n",
       "      <td>10</td>\n",
       "      <td>4504</td>\n",
       "      <td>11271.100</td>\n",
       "    </tr>\n",
       "    <tr>\n",
       "      <th>Shop 8</th>\n",
       "      <td>11</td>\n",
       "      <td>16</td>\n",
       "      <td>5029</td>\n",
       "      <td>17188.245</td>\n",
       "    </tr>\n",
       "    <tr>\n",
       "      <th>Shop 9</th>\n",
       "      <td>2</td>\n",
       "      <td>4</td>\n",
       "      <td>664</td>\n",
       "      <td>2415.115</td>\n",
       "    </tr>\n",
       "  </tbody>\n",
       "</table>\n",
       "</div>"
      ],
      "text/plain": [
       "         customer_id  purchase_id  quantity  total_sales\n",
       "shop_id                                                 \n",
       "Shop 0          1506         3527    677053  1855918.860\n",
       "Shop 1            38           71     18015    48615.330\n",
       "Shop 10            8           12      3345    10140.660\n",
       "Shop 11            5            6      1366     4146.200\n",
       "Shop 12           10           16      3379     6945.110\n",
       "Shop 13            1            4       617     2410.330\n",
       "Shop 14            4            5      6942    22346.055\n",
       "Shop 15            1            2       574     1736.520\n",
       "Shop 16            3            3      1217     3896.055\n",
       "Shop 17            2            2       638     2236.450\n",
       "Shop 18            5            8      2996     6501.665\n",
       "Shop 19            3            5      7229    11299.830\n",
       "Shop 2             7           17     14534    39523.415\n",
       "Shop 20            3            3       364     1020.060\n",
       "Shop 21            2            2       356     1629.600\n",
       "Shop 22            3            4      2120     3003.470\n",
       "Shop 23            1            1        53      225.250\n",
       "Shop 24            1            1       494     3984.625\n",
       "Shop 25            1            1      1008     3234.265\n",
       "Shop 26            1            1      1034     2510.090\n",
       "Shop 27            1            1       341     2095.470\n",
       "Shop 28            1            1       466     1621.895\n",
       "Shop 29            1            1        71      207.715\n",
       "Shop 3             4           13     43125   102070.050\n",
       "Shop 30            1            1       331      743.530\n",
       "Shop 4            41           80     18579    53748.865\n",
       "Shop 5             3            4      3698     6202.610\n",
       "Shop 6             4           37     19565    62409.140\n",
       "Shop 7             7           10      4504    11271.100\n",
       "Shop 8            11           16      5029    17188.245\n",
       "Shop 9             2            4       664     2415.115"
      ]
     },
     "execution_count": 95,
     "metadata": {},
     "output_type": "execute_result"
    }
   ],
   "source": [
    "# Формируем срез данных о покупках.\n",
    "\n",
    "data_price_sales = data_price.query('quantity >= 0')\n",
    "\n",
    "# Строим сводную таблицу с подсчетом количества покупателей, чеков, количества товаров и выручки.\n",
    "\n",
    "data_price_sales_pivot = data_price_sales.pivot_table(index='shop_id', \n",
    "                             values=['customer_id', 'purchase_id', 'total_sales', 'item_id', 'quantity'], \n",
    "                             aggfunc={'customer_id': 'nunique', 'purchase_id': 'nunique', 'total_sales': 'sum', 'quantity': 'sum'})\n",
    "\n",
    "data_price_sales_pivot"
   ]
  },
  {
   "cell_type": "markdown",
   "id": "7cfd03eb",
   "metadata": {},
   "source": [
    "Лидером по продажам является магазин Shop 0 с суммой продаж - 1886814.69, на 2 месте Shop 3 - 102070.050, на 3 месте - Shop 6 - 62409.14. \n",
    "\n",
    "Shop 0 скорее всего является флагманом сети. \n",
    "\n",
    "По остальным магазинам трудно сказать, что-то конкретно, возможно какие-то из них только открывались или наоборот закрывались, либо с них не осуществлялась выгрузка за весь период, а в выборку попали только отдельные месяца. "
   ]
  },
  {
   "cell_type": "code",
   "execution_count": 96,
   "id": "6cec8750",
   "metadata": {
    "scrolled": false
   },
   "outputs": [
    {
     "data": {
      "text/html": [
       "<div>\n",
       "<style scoped>\n",
       "    .dataframe tbody tr th:only-of-type {\n",
       "        vertical-align: middle;\n",
       "    }\n",
       "\n",
       "    .dataframe tbody tr th {\n",
       "        vertical-align: top;\n",
       "    }\n",
       "\n",
       "    .dataframe thead th {\n",
       "        text-align: right;\n",
       "    }\n",
       "</style>\n",
       "<table border=\"1\" class=\"dataframe\">\n",
       "  <thead>\n",
       "    <tr style=\"text-align: right;\">\n",
       "      <th></th>\n",
       "      <th></th>\n",
       "      <th>total_sales</th>\n",
       "    </tr>\n",
       "    <tr>\n",
       "      <th>shop_id</th>\n",
       "      <th>purchasemonth</th>\n",
       "      <th></th>\n",
       "    </tr>\n",
       "  </thead>\n",
       "  <tbody>\n",
       "    <tr>\n",
       "      <th rowspan=\"3\" valign=\"top\">Shop 9</th>\n",
       "      <th>12</th>\n",
       "      <td>478.170</td>\n",
       "    </tr>\n",
       "    <tr>\n",
       "      <th>2</th>\n",
       "      <td>835.025</td>\n",
       "    </tr>\n",
       "    <tr>\n",
       "      <th>1</th>\n",
       "      <td>1101.920</td>\n",
       "    </tr>\n",
       "    <tr>\n",
       "      <th rowspan=\"3\" valign=\"top\">Shop 8</th>\n",
       "      <th>12</th>\n",
       "      <td>2942.155</td>\n",
       "    </tr>\n",
       "    <tr>\n",
       "      <th>2</th>\n",
       "      <td>2177.390</td>\n",
       "    </tr>\n",
       "    <tr>\n",
       "      <th>1</th>\n",
       "      <td>12068.700</td>\n",
       "    </tr>\n",
       "    <tr>\n",
       "      <th rowspan=\"3\" valign=\"top\">Shop 7</th>\n",
       "      <th>12</th>\n",
       "      <td>1738.625</td>\n",
       "    </tr>\n",
       "    <tr>\n",
       "      <th>2</th>\n",
       "      <td>3062.260</td>\n",
       "    </tr>\n",
       "    <tr>\n",
       "      <th>1</th>\n",
       "      <td>6470.215</td>\n",
       "    </tr>\n",
       "    <tr>\n",
       "      <th rowspan=\"3\" valign=\"top\">Shop 6</th>\n",
       "      <th>12</th>\n",
       "      <td>12831.180</td>\n",
       "    </tr>\n",
       "    <tr>\n",
       "      <th>2</th>\n",
       "      <td>16137.575</td>\n",
       "    </tr>\n",
       "    <tr>\n",
       "      <th>1</th>\n",
       "      <td>33440.385</td>\n",
       "    </tr>\n",
       "    <tr>\n",
       "      <th rowspan=\"2\" valign=\"top\">Shop 5</th>\n",
       "      <th>12</th>\n",
       "      <td>5426.260</td>\n",
       "    </tr>\n",
       "    <tr>\n",
       "      <th>2</th>\n",
       "      <td>776.350</td>\n",
       "    </tr>\n",
       "    <tr>\n",
       "      <th rowspan=\"3\" valign=\"top\">Shop 4</th>\n",
       "      <th>2</th>\n",
       "      <td>11941.525</td>\n",
       "    </tr>\n",
       "    <tr>\n",
       "      <th>1</th>\n",
       "      <td>21326.315</td>\n",
       "    </tr>\n",
       "    <tr>\n",
       "      <th>12</th>\n",
       "      <td>20481.025</td>\n",
       "    </tr>\n",
       "    <tr>\n",
       "      <th>Shop 30</th>\n",
       "      <th>2</th>\n",
       "      <td>743.530</td>\n",
       "    </tr>\n",
       "    <tr>\n",
       "      <th rowspan=\"3\" valign=\"top\">Shop 3</th>\n",
       "      <th>12</th>\n",
       "      <td>16878.110</td>\n",
       "    </tr>\n",
       "    <tr>\n",
       "      <th>2</th>\n",
       "      <td>38321.640</td>\n",
       "    </tr>\n",
       "    <tr>\n",
       "      <th>1</th>\n",
       "      <td>46870.300</td>\n",
       "    </tr>\n",
       "    <tr>\n",
       "      <th>Shop 29</th>\n",
       "      <th>2</th>\n",
       "      <td>207.715</td>\n",
       "    </tr>\n",
       "    <tr>\n",
       "      <th>Shop 28</th>\n",
       "      <th>2</th>\n",
       "      <td>1621.895</td>\n",
       "    </tr>\n",
       "    <tr>\n",
       "      <th>Shop 27</th>\n",
       "      <th>1</th>\n",
       "      <td>2095.470</td>\n",
       "    </tr>\n",
       "    <tr>\n",
       "      <th>Shop 26</th>\n",
       "      <th>1</th>\n",
       "      <td>2510.090</td>\n",
       "    </tr>\n",
       "    <tr>\n",
       "      <th>Shop 25</th>\n",
       "      <th>1</th>\n",
       "      <td>3234.265</td>\n",
       "    </tr>\n",
       "    <tr>\n",
       "      <th>Shop 24</th>\n",
       "      <th>1</th>\n",
       "      <td>3984.625</td>\n",
       "    </tr>\n",
       "    <tr>\n",
       "      <th>Shop 23</th>\n",
       "      <th>12</th>\n",
       "      <td>225.250</td>\n",
       "    </tr>\n",
       "    <tr>\n",
       "      <th rowspan=\"3\" valign=\"top\">Shop 22</th>\n",
       "      <th>12</th>\n",
       "      <td>1544.910</td>\n",
       "    </tr>\n",
       "    <tr>\n",
       "      <th>2</th>\n",
       "      <td>231.870</td>\n",
       "    </tr>\n",
       "    <tr>\n",
       "      <th>1</th>\n",
       "      <td>1226.690</td>\n",
       "    </tr>\n",
       "    <tr>\n",
       "      <th rowspan=\"2\" valign=\"top\">Shop 21</th>\n",
       "      <th>2</th>\n",
       "      <td>1129.205</td>\n",
       "    </tr>\n",
       "    <tr>\n",
       "      <th>1</th>\n",
       "      <td>500.395</td>\n",
       "    </tr>\n",
       "    <tr>\n",
       "      <th rowspan=\"2\" valign=\"top\">Shop 20</th>\n",
       "      <th>12</th>\n",
       "      <td>225.790</td>\n",
       "    </tr>\n",
       "    <tr>\n",
       "      <th>2</th>\n",
       "      <td>794.270</td>\n",
       "    </tr>\n",
       "    <tr>\n",
       "      <th rowspan=\"3\" valign=\"top\">Shop 2</th>\n",
       "      <th>2</th>\n",
       "      <td>23198.715</td>\n",
       "    </tr>\n",
       "    <tr>\n",
       "      <th>1</th>\n",
       "      <td>14764.155</td>\n",
       "    </tr>\n",
       "    <tr>\n",
       "      <th>12</th>\n",
       "      <td>1560.545</td>\n",
       "    </tr>\n",
       "    <tr>\n",
       "      <th rowspan=\"2\" valign=\"top\">Shop 19</th>\n",
       "      <th>12</th>\n",
       "      <td>5560.775</td>\n",
       "    </tr>\n",
       "    <tr>\n",
       "      <th>2</th>\n",
       "      <td>660.130</td>\n",
       "    </tr>\n",
       "  </tbody>\n",
       "</table>\n",
       "</div>"
      ],
      "text/plain": [
       "                       total_sales\n",
       "shop_id purchasemonth             \n",
       "Shop 9  12                 478.170\n",
       "        2                  835.025\n",
       "        1                 1101.920\n",
       "Shop 8  12                2942.155\n",
       "        2                 2177.390\n",
       "        1                12068.700\n",
       "Shop 7  12                1738.625\n",
       "        2                 3062.260\n",
       "        1                 6470.215\n",
       "Shop 6  12               12831.180\n",
       "        2                16137.575\n",
       "        1                33440.385\n",
       "Shop 5  12                5426.260\n",
       "        2                  776.350\n",
       "Shop 4  2                11941.525\n",
       "        1                21326.315\n",
       "        12               20481.025\n",
       "Shop 30 2                  743.530\n",
       "Shop 3  12               16878.110\n",
       "        2                38321.640\n",
       "        1                46870.300\n",
       "Shop 29 2                  207.715\n",
       "Shop 28 2                 1621.895\n",
       "Shop 27 1                 2095.470\n",
       "Shop 26 1                 2510.090\n",
       "Shop 25 1                 3234.265\n",
       "Shop 24 1                 3984.625\n",
       "Shop 23 12                 225.250\n",
       "Shop 22 12                1544.910\n",
       "        2                  231.870\n",
       "        1                 1226.690\n",
       "Shop 21 2                 1129.205\n",
       "        1                  500.395\n",
       "Shop 20 12                 225.790\n",
       "        2                  794.270\n",
       "Shop 2  2                23198.715\n",
       "        1                14764.155\n",
       "        12                1560.545\n",
       "Shop 19 12                5560.775\n",
       "        2                  660.130"
      ]
     },
     "execution_count": 96,
     "metadata": {},
     "output_type": "execute_result"
    }
   ],
   "source": [
    "# Посмотрим распределение выручки по месяцам.\n",
    "\n",
    "data_price_sales.pivot_table(index=['shop_id', 'purchasemonth'], \n",
    "                             values='total_sales', \n",
    "                             aggfunc={'total_sales':'sum'}).sort_values(by='shop_id', ascending=False).head(40)\n"
   ]
  },
  {
   "cell_type": "code",
   "execution_count": 97,
   "id": "a3867237",
   "metadata": {
    "scrolled": false
   },
   "outputs": [
    {
     "data": {
      "text/html": [
       "<div>\n",
       "<style scoped>\n",
       "    .dataframe tbody tr th:only-of-type {\n",
       "        vertical-align: middle;\n",
       "    }\n",
       "\n",
       "    .dataframe tbody tr th {\n",
       "        vertical-align: top;\n",
       "    }\n",
       "\n",
       "    .dataframe thead th {\n",
       "        text-align: right;\n",
       "    }\n",
       "</style>\n",
       "<table border=\"1\" class=\"dataframe\">\n",
       "  <thead>\n",
       "    <tr style=\"text-align: right;\">\n",
       "      <th></th>\n",
       "      <th></th>\n",
       "      <th>total_sales</th>\n",
       "    </tr>\n",
       "    <tr>\n",
       "      <th>shop_id</th>\n",
       "      <th>purchasemonth</th>\n",
       "      <th></th>\n",
       "    </tr>\n",
       "  </thead>\n",
       "  <tbody>\n",
       "    <tr>\n",
       "      <th rowspan=\"3\" valign=\"top\">Shop 18</th>\n",
       "      <th>2</th>\n",
       "      <td>4147.335</td>\n",
       "    </tr>\n",
       "    <tr>\n",
       "      <th>12</th>\n",
       "      <td>1914.335</td>\n",
       "    </tr>\n",
       "    <tr>\n",
       "      <th>1</th>\n",
       "      <td>439.995</td>\n",
       "    </tr>\n",
       "    <tr>\n",
       "      <th rowspan=\"2\" valign=\"top\">Shop 17</th>\n",
       "      <th>12</th>\n",
       "      <td>1729.460</td>\n",
       "    </tr>\n",
       "    <tr>\n",
       "      <th>2</th>\n",
       "      <td>506.990</td>\n",
       "    </tr>\n",
       "    <tr>\n",
       "      <th rowspan=\"3\" valign=\"top\">Shop 16</th>\n",
       "      <th>12</th>\n",
       "      <td>279.825</td>\n",
       "    </tr>\n",
       "    <tr>\n",
       "      <th>2</th>\n",
       "      <td>2965.210</td>\n",
       "    </tr>\n",
       "    <tr>\n",
       "      <th>1</th>\n",
       "      <td>651.020</td>\n",
       "    </tr>\n",
       "    <tr>\n",
       "      <th rowspan=\"2\" valign=\"top\">Shop 15</th>\n",
       "      <th>12</th>\n",
       "      <td>955.350</td>\n",
       "    </tr>\n",
       "    <tr>\n",
       "      <th>1</th>\n",
       "      <td>781.170</td>\n",
       "    </tr>\n",
       "    <tr>\n",
       "      <th rowspan=\"2\" valign=\"top\">Shop 14</th>\n",
       "      <th>2</th>\n",
       "      <td>9969.210</td>\n",
       "    </tr>\n",
       "    <tr>\n",
       "      <th>12</th>\n",
       "      <td>12376.845</td>\n",
       "    </tr>\n",
       "    <tr>\n",
       "      <th>Shop 13</th>\n",
       "      <th>12</th>\n",
       "      <td>2410.330</td>\n",
       "    </tr>\n",
       "    <tr>\n",
       "      <th rowspan=\"3\" valign=\"top\">Shop 12</th>\n",
       "      <th>12</th>\n",
       "      <td>2848.930</td>\n",
       "    </tr>\n",
       "    <tr>\n",
       "      <th>2</th>\n",
       "      <td>2609.185</td>\n",
       "    </tr>\n",
       "    <tr>\n",
       "      <th>1</th>\n",
       "      <td>1486.995</td>\n",
       "    </tr>\n",
       "    <tr>\n",
       "      <th rowspan=\"3\" valign=\"top\">Shop 11</th>\n",
       "      <th>12</th>\n",
       "      <td>756.160</td>\n",
       "    </tr>\n",
       "    <tr>\n",
       "      <th>2</th>\n",
       "      <td>357.585</td>\n",
       "    </tr>\n",
       "    <tr>\n",
       "      <th>1</th>\n",
       "      <td>3032.455</td>\n",
       "    </tr>\n",
       "    <tr>\n",
       "      <th rowspan=\"3\" valign=\"top\">Shop 10</th>\n",
       "      <th>12</th>\n",
       "      <td>2914.575</td>\n",
       "    </tr>\n",
       "    <tr>\n",
       "      <th>2</th>\n",
       "      <td>1310.415</td>\n",
       "    </tr>\n",
       "    <tr>\n",
       "      <th>1</th>\n",
       "      <td>5915.670</td>\n",
       "    </tr>\n",
       "    <tr>\n",
       "      <th rowspan=\"3\" valign=\"top\">Shop 1</th>\n",
       "      <th>12</th>\n",
       "      <td>12748.850</td>\n",
       "    </tr>\n",
       "    <tr>\n",
       "      <th>2</th>\n",
       "      <td>11235.415</td>\n",
       "    </tr>\n",
       "    <tr>\n",
       "      <th>1</th>\n",
       "      <td>24631.065</td>\n",
       "    </tr>\n",
       "    <tr>\n",
       "      <th rowspan=\"3\" valign=\"top\">Shop 0</th>\n",
       "      <th>12</th>\n",
       "      <td>792674.205</td>\n",
       "    </tr>\n",
       "    <tr>\n",
       "      <th>2</th>\n",
       "      <td>496749.575</td>\n",
       "    </tr>\n",
       "    <tr>\n",
       "      <th>1</th>\n",
       "      <td>566495.080</td>\n",
       "    </tr>\n",
       "  </tbody>\n",
       "</table>\n",
       "</div>"
      ],
      "text/plain": [
       "                       total_sales\n",
       "shop_id purchasemonth             \n",
       "Shop 18 2                 4147.335\n",
       "        12                1914.335\n",
       "        1                  439.995\n",
       "Shop 17 12                1729.460\n",
       "        2                  506.990\n",
       "Shop 16 12                 279.825\n",
       "        2                 2965.210\n",
       "        1                  651.020\n",
       "Shop 15 12                 955.350\n",
       "        1                  781.170\n",
       "Shop 14 2                 9969.210\n",
       "        12               12376.845\n",
       "Shop 13 12                2410.330\n",
       "Shop 12 12                2848.930\n",
       "        2                 2609.185\n",
       "        1                 1486.995\n",
       "Shop 11 12                 756.160\n",
       "        2                  357.585\n",
       "        1                 3032.455\n",
       "Shop 10 12                2914.575\n",
       "        2                 1310.415\n",
       "        1                 5915.670\n",
       "Shop 1  12               12748.850\n",
       "        2                11235.415\n",
       "        1                24631.065\n",
       "Shop 0  12              792674.205\n",
       "        2               496749.575\n",
       "        1               566495.080"
      ]
     },
     "execution_count": 97,
     "metadata": {},
     "output_type": "execute_result"
    }
   ],
   "source": [
    "data_price_sales.pivot_table(index=['shop_id', 'purchasemonth'], \n",
    "                             values='total_sales', \n",
    "                             aggfunc={'total_sales':'sum'}).sort_values(by='shop_id', ascending=False).tail(28)"
   ]
  },
  {
   "cell_type": "code",
   "execution_count": 98,
   "id": "2cbd648e",
   "metadata": {
    "scrolled": true
   },
   "outputs": [
    {
     "data": {
      "image/png": "[encoded data removed]",
      "text/plain": [
       "<Figure size 2160x504 with 1 Axes>"
      ]
     },
     "metadata": {
      "needs_background": "light"
     },
     "output_type": "display_data"
    }
   ],
   "source": [
    "fig, ax = plt.subplots(figsize=(30, 7))\n",
    "ax = data_price_sales.groupby(['shop_id', 'purchasemonth'])['total_sales'].sum().plot(kind='bar')\n",
    "plt.title(f'Распределение объемов продаж по магазинам по месяцам')\n",
    "plt.xlabel(\"Магазины/месяца\")\n",
    "plt.ylabel(\"Количество покупок\")\n",
    "ax.set_ylim([0, 5000])\n",
    "plt.show()"
   ]
  },
  {
   "cell_type": "markdown",
   "id": "39b730c7",
   "metadata": {},
   "source": [
    "Судя по распределению выручки по месяцам по магазинам, стабильно работали не все из них, либо выгрузка данных была проведена некорректно. В любом случае самым прибыльным месяцем был декабрь. Какого-то тренда на увеличение выручки с декабря по февраль не наблюдается."
   ]
  },
  {
   "cell_type": "markdown",
   "id": "475bfe9f",
   "metadata": {},
   "source": [
    "Посчитаем распределение возвратов, их суммы, количество уникальных, количество возвращенных товаров."
   ]
  },
  {
   "cell_type": "code",
   "execution_count": 99,
   "id": "5c9c964a",
   "metadata": {
    "scrolled": false
   },
   "outputs": [
    {
     "data": {
      "text/html": [
       "<div>\n",
       "<style scoped>\n",
       "    .dataframe tbody tr th:only-of-type {\n",
       "        vertical-align: middle;\n",
       "    }\n",
       "\n",
       "    .dataframe tbody tr th {\n",
       "        vertical-align: top;\n",
       "    }\n",
       "\n",
       "    .dataframe thead th {\n",
       "        text-align: right;\n",
       "    }\n",
       "</style>\n",
       "<table border=\"1\" class=\"dataframe\">\n",
       "  <thead>\n",
       "    <tr style=\"text-align: right;\">\n",
       "      <th></th>\n",
       "      <th>customer_id</th>\n",
       "      <th>purchase_id</th>\n",
       "      <th>quantity</th>\n",
       "      <th>total_sales</th>\n",
       "    </tr>\n",
       "    <tr>\n",
       "      <th>shop_id</th>\n",
       "      <th></th>\n",
       "      <th></th>\n",
       "      <th></th>\n",
       "      <th></th>\n",
       "    </tr>\n",
       "  </thead>\n",
       "  <tbody>\n",
       "    <tr>\n",
       "      <th>Shop 0</th>\n",
       "      <td>458</td>\n",
       "      <td>903</td>\n",
       "      <td>-33256</td>\n",
       "      <td>-107041.740</td>\n",
       "    </tr>\n",
       "    <tr>\n",
       "      <th>Shop 1</th>\n",
       "      <td>12</td>\n",
       "      <td>19</td>\n",
       "      <td>-121</td>\n",
       "      <td>-584.425</td>\n",
       "    </tr>\n",
       "    <tr>\n",
       "      <th>Shop 10</th>\n",
       "      <td>2</td>\n",
       "      <td>3</td>\n",
       "      <td>-63</td>\n",
       "      <td>-191.280</td>\n",
       "    </tr>\n",
       "    <tr>\n",
       "      <th>Shop 11</th>\n",
       "      <td>3</td>\n",
       "      <td>4</td>\n",
       "      <td>-36</td>\n",
       "      <td>-122.790</td>\n",
       "    </tr>\n",
       "    <tr>\n",
       "      <th>Shop 12</th>\n",
       "      <td>4</td>\n",
       "      <td>5</td>\n",
       "      <td>-22</td>\n",
       "      <td>-131.180</td>\n",
       "    </tr>\n",
       "    <tr>\n",
       "      <th>Shop 14</th>\n",
       "      <td>1</td>\n",
       "      <td>1</td>\n",
       "      <td>-49</td>\n",
       "      <td>-192.730</td>\n",
       "    </tr>\n",
       "    <tr>\n",
       "      <th>Shop 16</th>\n",
       "      <td>1</td>\n",
       "      <td>1</td>\n",
       "      <td>-6</td>\n",
       "      <td>-67.755</td>\n",
       "    </tr>\n",
       "    <tr>\n",
       "      <th>Shop 18</th>\n",
       "      <td>1</td>\n",
       "      <td>1</td>\n",
       "      <td>-2</td>\n",
       "      <td>-25.500</td>\n",
       "    </tr>\n",
       "    <tr>\n",
       "      <th>Shop 19</th>\n",
       "      <td>2</td>\n",
       "      <td>2</td>\n",
       "      <td>-243</td>\n",
       "      <td>-1050.230</td>\n",
       "    </tr>\n",
       "    <tr>\n",
       "      <th>Shop 2</th>\n",
       "      <td>2</td>\n",
       "      <td>2</td>\n",
       "      <td>-39</td>\n",
       "      <td>-166.690</td>\n",
       "    </tr>\n",
       "    <tr>\n",
       "      <th>Shop 20</th>\n",
       "      <td>1</td>\n",
       "      <td>1</td>\n",
       "      <td>-49</td>\n",
       "      <td>-31.115</td>\n",
       "    </tr>\n",
       "    <tr>\n",
       "      <th>Shop 21</th>\n",
       "      <td>1</td>\n",
       "      <td>1</td>\n",
       "      <td>-58</td>\n",
       "      <td>-280.350</td>\n",
       "    </tr>\n",
       "    <tr>\n",
       "      <th>Shop 23</th>\n",
       "      <td>1</td>\n",
       "      <td>1</td>\n",
       "      <td>-55</td>\n",
       "      <td>-233.750</td>\n",
       "    </tr>\n",
       "    <tr>\n",
       "      <th>Shop 3</th>\n",
       "      <td>2</td>\n",
       "      <td>2</td>\n",
       "      <td>-29</td>\n",
       "      <td>-106.585</td>\n",
       "    </tr>\n",
       "    <tr>\n",
       "      <th>Shop 4</th>\n",
       "      <td>20</td>\n",
       "      <td>34</td>\n",
       "      <td>-642</td>\n",
       "      <td>-3215.830</td>\n",
       "    </tr>\n",
       "    <tr>\n",
       "      <th>Shop 6</th>\n",
       "      <td>3</td>\n",
       "      <td>9</td>\n",
       "      <td>-1234</td>\n",
       "      <td>-6531.375</td>\n",
       "    </tr>\n",
       "    <tr>\n",
       "      <th>Shop 7</th>\n",
       "      <td>1</td>\n",
       "      <td>1</td>\n",
       "      <td>-4</td>\n",
       "      <td>-37.170</td>\n",
       "    </tr>\n",
       "    <tr>\n",
       "      <th>Shop 8</th>\n",
       "      <td>4</td>\n",
       "      <td>4</td>\n",
       "      <td>-19</td>\n",
       "      <td>-217.220</td>\n",
       "    </tr>\n",
       "  </tbody>\n",
       "</table>\n",
       "</div>"
      ],
      "text/plain": [
       "         customer_id  purchase_id  quantity  total_sales\n",
       "shop_id                                                 \n",
       "Shop 0           458          903    -33256  -107041.740\n",
       "Shop 1            12           19      -121     -584.425\n",
       "Shop 10            2            3       -63     -191.280\n",
       "Shop 11            3            4       -36     -122.790\n",
       "Shop 12            4            5       -22     -131.180\n",
       "Shop 14            1            1       -49     -192.730\n",
       "Shop 16            1            1        -6      -67.755\n",
       "Shop 18            1            1        -2      -25.500\n",
       "Shop 19            2            2      -243    -1050.230\n",
       "Shop 2             2            2       -39     -166.690\n",
       "Shop 20            1            1       -49      -31.115\n",
       "Shop 21            1            1       -58     -280.350\n",
       "Shop 23            1            1       -55     -233.750\n",
       "Shop 3             2            2       -29     -106.585\n",
       "Shop 4            20           34      -642    -3215.830\n",
       "Shop 6             3            9     -1234    -6531.375\n",
       "Shop 7             1            1        -4      -37.170\n",
       "Shop 8             4            4       -19     -217.220"
      ]
     },
     "execution_count": 99,
     "metadata": {},
     "output_type": "execute_result"
    }
   ],
   "source": [
    "# Строим срез. \n",
    "\n",
    "data_price_return = data_price.query('quantity < 0')\n",
    "\n",
    "# Группируем, считаем показатели: число возвратов, количество покупателей, количество возвращенных товаров, сумма возврата.\n",
    "\n",
    "data_price_return_pivot = data_price_return.pivot_table(index='shop_id', \n",
    "                              values=['customer_id', 'purchase_id', 'total_sales', 'item_id', 'quantity'], \n",
    "                              aggfunc={'customer_id': 'nunique', 'purchase_id': 'nunique', 'total_sales': 'sum', 'quantity': 'sum'})\n",
    "\n",
    "data_price_return_pivot"
   ]
  },
  {
   "cell_type": "code",
   "execution_count": 100,
   "id": "78492221",
   "metadata": {
    "scrolled": true
   },
   "outputs": [
    {
     "data": {
      "image/png": "[encoded data removed]",
      "text/plain": [
       "<Figure size 432x288 with 1 Axes>"
      ]
     },
     "metadata": {
      "needs_background": "light"
     },
     "output_type": "display_data"
    }
   ],
   "source": [
    "data_price_return.groupby(['shop_id'])['total_sales'].sum().sort_values(ascending=False).plot(kind='bar')\n",
    "plt.title(f'Распределение объемов возвратов по магазинам по месяцам')\n",
    "plt.xlabel(\"Магазины/месяца\")\n",
    "plt.ylabel(\"Количество возвратов\")\n",
    "plt.show()"
   ]
  },
  {
   "cell_type": "markdown",
   "id": "13751e5f",
   "metadata": {},
   "source": [
    "Самый большой объем возвратов в Shop 0 - 110312, около 10% от продаж, а вот Shop 3, который на втром месте по продажам по возвратам не вошел в топ, там сумма возвратов - около 100. Shop 6 - 3 место по продажам - 2 место по возвратам. "
   ]
  },
  {
   "cell_type": "markdown",
   "id": "0ff51ad7",
   "metadata": {},
   "source": [
    "### Определим лучшие месяцы по продажам. "
   ]
  },
  {
   "cell_type": "code",
   "execution_count": 101,
   "id": "08ef332d",
   "metadata": {
    "scrolled": true
   },
   "outputs": [
    {
     "data": {
      "text/plain": [
       "purchasemonth\n",
       "1     1112\n",
       "2     1122\n",
       "12    1625\n",
       "Name: purchase_id, dtype: int64"
      ]
     },
     "execution_count": 101,
     "metadata": {},
     "output_type": "execute_result"
    }
   ],
   "source": [
    "data_price_sales.groupby('purchasemonth')['purchase_id'].nunique()\n"
   ]
  },
  {
   "cell_type": "markdown",
   "id": "db444b56",
   "metadata": {},
   "source": [
    "Наибольшее количество чеков было в декабре, тренда на увеличение количества чеков за представленный период нет."
   ]
  },
  {
   "cell_type": "markdown",
   "id": "d0176ec1",
   "metadata": {},
   "source": [
    "### Определим лучшие месяцы по возратам."
   ]
  },
  {
   "cell_type": "code",
   "execution_count": 102,
   "id": "4a789df6",
   "metadata": {
    "scrolled": true
   },
   "outputs": [
    {
     "data": {
      "text/plain": [
       "purchasemonth\n",
       "1     349\n",
       "2     260\n",
       "12    385\n",
       "Name: purchase_id, dtype: int64"
      ]
     },
     "execution_count": 102,
     "metadata": {},
     "output_type": "execute_result"
    }
   ],
   "source": [
    "data_price_return.groupby('purchasemonth')['purchase_id'].nunique()\n"
   ]
  },
  {
   "cell_type": "markdown",
   "id": "b618161b",
   "metadata": {},
   "source": [
    "Наибольшее количество возвратов было в декабре, тенденции на снижение возвратов нет, скорее можно отметить некоторое увеличение количества возвратов."
   ]
  },
  {
   "cell_type": "markdown",
   "id": "620895b7",
   "metadata": {},
   "source": [
    "### Считаем средний чек по магазинам."
   ]
  },
  {
   "cell_type": "code",
   "execution_count": 103,
   "id": "33970da4",
   "metadata": {
    "scrolled": false
   },
   "outputs": [
    {
     "data": {
      "text/html": [
       "<div>\n",
       "<style scoped>\n",
       "    .dataframe tbody tr th:only-of-type {\n",
       "        vertical-align: middle;\n",
       "    }\n",
       "\n",
       "    .dataframe tbody tr th {\n",
       "        vertical-align: top;\n",
       "    }\n",
       "\n",
       "    .dataframe thead th {\n",
       "        text-align: right;\n",
       "    }\n",
       "</style>\n",
       "<table border=\"1\" class=\"dataframe\">\n",
       "  <thead>\n",
       "    <tr style=\"text-align: right;\">\n",
       "      <th></th>\n",
       "      <th>shop_id</th>\n",
       "      <th>customer_id</th>\n",
       "      <th>purchase_id</th>\n",
       "      <th>quantity</th>\n",
       "      <th>total_sales</th>\n",
       "      <th>avg_cheque</th>\n",
       "    </tr>\n",
       "  </thead>\n",
       "  <tbody>\n",
       "    <tr>\n",
       "      <th>23</th>\n",
       "      <td>Shop 3</td>\n",
       "      <td>4</td>\n",
       "      <td>13</td>\n",
       "      <td>43125</td>\n",
       "      <td>102070.050</td>\n",
       "      <td>7851.542308</td>\n",
       "    </tr>\n",
       "    <tr>\n",
       "      <th>6</th>\n",
       "      <td>Shop 14</td>\n",
       "      <td>4</td>\n",
       "      <td>5</td>\n",
       "      <td>6942</td>\n",
       "      <td>22346.055</td>\n",
       "      <td>4469.211000</td>\n",
       "    </tr>\n",
       "    <tr>\n",
       "      <th>12</th>\n",
       "      <td>Shop 2</td>\n",
       "      <td>7</td>\n",
       "      <td>17</td>\n",
       "      <td>14534</td>\n",
       "      <td>39523.415</td>\n",
       "      <td>2324.906765</td>\n",
       "    </tr>\n",
       "    <tr>\n",
       "      <th>11</th>\n",
       "      <td>Shop 19</td>\n",
       "      <td>3</td>\n",
       "      <td>5</td>\n",
       "      <td>7229</td>\n",
       "      <td>11299.830</td>\n",
       "      <td>2259.966000</td>\n",
       "    </tr>\n",
       "    <tr>\n",
       "      <th>27</th>\n",
       "      <td>Shop 6</td>\n",
       "      <td>4</td>\n",
       "      <td>37</td>\n",
       "      <td>19565</td>\n",
       "      <td>62409.140</td>\n",
       "      <td>1686.733514</td>\n",
       "    </tr>\n",
       "    <tr>\n",
       "      <th>26</th>\n",
       "      <td>Shop 5</td>\n",
       "      <td>3</td>\n",
       "      <td>4</td>\n",
       "      <td>3698</td>\n",
       "      <td>6202.610</td>\n",
       "      <td>1550.652500</td>\n",
       "    </tr>\n",
       "    <tr>\n",
       "      <th>8</th>\n",
       "      <td>Shop 16</td>\n",
       "      <td>3</td>\n",
       "      <td>3</td>\n",
       "      <td>1217</td>\n",
       "      <td>3896.055</td>\n",
       "      <td>1298.685000</td>\n",
       "    </tr>\n",
       "    <tr>\n",
       "      <th>28</th>\n",
       "      <td>Shop 7</td>\n",
       "      <td>7</td>\n",
       "      <td>10</td>\n",
       "      <td>4504</td>\n",
       "      <td>11271.100</td>\n",
       "      <td>1127.110000</td>\n",
       "    </tr>\n",
       "    <tr>\n",
       "      <th>9</th>\n",
       "      <td>Shop 17</td>\n",
       "      <td>2</td>\n",
       "      <td>2</td>\n",
       "      <td>638</td>\n",
       "      <td>2236.450</td>\n",
       "      <td>1118.225000</td>\n",
       "    </tr>\n",
       "    <tr>\n",
       "      <th>29</th>\n",
       "      <td>Shop 8</td>\n",
       "      <td>11</td>\n",
       "      <td>16</td>\n",
       "      <td>5029</td>\n",
       "      <td>17188.245</td>\n",
       "      <td>1074.265312</td>\n",
       "    </tr>\n",
       "    <tr>\n",
       "      <th>7</th>\n",
       "      <td>Shop 15</td>\n",
       "      <td>1</td>\n",
       "      <td>2</td>\n",
       "      <td>574</td>\n",
       "      <td>1736.520</td>\n",
       "      <td>868.260000</td>\n",
       "    </tr>\n",
       "    <tr>\n",
       "      <th>2</th>\n",
       "      <td>Shop 10</td>\n",
       "      <td>8</td>\n",
       "      <td>12</td>\n",
       "      <td>3345</td>\n",
       "      <td>10140.660</td>\n",
       "      <td>845.055000</td>\n",
       "    </tr>\n",
       "    <tr>\n",
       "      <th>14</th>\n",
       "      <td>Shop 21</td>\n",
       "      <td>2</td>\n",
       "      <td>2</td>\n",
       "      <td>356</td>\n",
       "      <td>1629.600</td>\n",
       "      <td>814.800000</td>\n",
       "    </tr>\n",
       "    <tr>\n",
       "      <th>10</th>\n",
       "      <td>Shop 18</td>\n",
       "      <td>5</td>\n",
       "      <td>8</td>\n",
       "      <td>2996</td>\n",
       "      <td>6501.665</td>\n",
       "      <td>812.708125</td>\n",
       "    </tr>\n",
       "    <tr>\n",
       "      <th>15</th>\n",
       "      <td>Shop 22</td>\n",
       "      <td>3</td>\n",
       "      <td>4</td>\n",
       "      <td>2120</td>\n",
       "      <td>3003.470</td>\n",
       "      <td>750.867500</td>\n",
       "    </tr>\n",
       "    <tr>\n",
       "      <th>3</th>\n",
       "      <td>Shop 11</td>\n",
       "      <td>5</td>\n",
       "      <td>6</td>\n",
       "      <td>1366</td>\n",
       "      <td>4146.200</td>\n",
       "      <td>691.033333</td>\n",
       "    </tr>\n",
       "    <tr>\n",
       "      <th>1</th>\n",
       "      <td>Shop 1</td>\n",
       "      <td>38</td>\n",
       "      <td>71</td>\n",
       "      <td>18015</td>\n",
       "      <td>48615.330</td>\n",
       "      <td>684.722958</td>\n",
       "    </tr>\n",
       "    <tr>\n",
       "      <th>25</th>\n",
       "      <td>Shop 4</td>\n",
       "      <td>41</td>\n",
       "      <td>80</td>\n",
       "      <td>18579</td>\n",
       "      <td>53748.865</td>\n",
       "      <td>671.860812</td>\n",
       "    </tr>\n",
       "    <tr>\n",
       "      <th>30</th>\n",
       "      <td>Shop 9</td>\n",
       "      <td>2</td>\n",
       "      <td>4</td>\n",
       "      <td>664</td>\n",
       "      <td>2415.115</td>\n",
       "      <td>603.778750</td>\n",
       "    </tr>\n",
       "    <tr>\n",
       "      <th>5</th>\n",
       "      <td>Shop 13</td>\n",
       "      <td>1</td>\n",
       "      <td>4</td>\n",
       "      <td>617</td>\n",
       "      <td>2410.330</td>\n",
       "      <td>602.582500</td>\n",
       "    </tr>\n",
       "    <tr>\n",
       "      <th>0</th>\n",
       "      <td>Shop 0</td>\n",
       "      <td>1506</td>\n",
       "      <td>3527</td>\n",
       "      <td>677053</td>\n",
       "      <td>1855918.860</td>\n",
       "      <td>526.203249</td>\n",
       "    </tr>\n",
       "    <tr>\n",
       "      <th>4</th>\n",
       "      <td>Shop 12</td>\n",
       "      <td>10</td>\n",
       "      <td>16</td>\n",
       "      <td>3379</td>\n",
       "      <td>6945.110</td>\n",
       "      <td>434.069375</td>\n",
       "    </tr>\n",
       "    <tr>\n",
       "      <th>13</th>\n",
       "      <td>Shop 20</td>\n",
       "      <td>3</td>\n",
       "      <td>3</td>\n",
       "      <td>364</td>\n",
       "      <td>1020.060</td>\n",
       "      <td>340.020000</td>\n",
       "    </tr>\n",
       "  </tbody>\n",
       "</table>\n",
       "</div>"
      ],
      "text/plain": [
       "    shop_id  customer_id  purchase_id  quantity  total_sales   avg_cheque\n",
       "23   Shop 3            4           13     43125   102070.050  7851.542308\n",
       "6   Shop 14            4            5      6942    22346.055  4469.211000\n",
       "12   Shop 2            7           17     14534    39523.415  2324.906765\n",
       "11  Shop 19            3            5      7229    11299.830  2259.966000\n",
       "27   Shop 6            4           37     19565    62409.140  1686.733514\n",
       "26   Shop 5            3            4      3698     6202.610  1550.652500\n",
       "8   Shop 16            3            3      1217     3896.055  1298.685000\n",
       "28   Shop 7            7           10      4504    11271.100  1127.110000\n",
       "9   Shop 17            2            2       638     2236.450  1118.225000\n",
       "29   Shop 8           11           16      5029    17188.245  1074.265312\n",
       "7   Shop 15            1            2       574     1736.520   868.260000\n",
       "2   Shop 10            8           12      3345    10140.660   845.055000\n",
       "14  Shop 21            2            2       356     1629.600   814.800000\n",
       "10  Shop 18            5            8      2996     6501.665   812.708125\n",
       "15  Shop 22            3            4      2120     3003.470   750.867500\n",
       "3   Shop 11            5            6      1366     4146.200   691.033333\n",
       "1    Shop 1           38           71     18015    48615.330   684.722958\n",
       "25   Shop 4           41           80     18579    53748.865   671.860812\n",
       "30   Shop 9            2            4       664     2415.115   603.778750\n",
       "5   Shop 13            1            4       617     2410.330   602.582500\n",
       "0    Shop 0         1506         3527    677053  1855918.860   526.203249\n",
       "4   Shop 12           10           16      3379     6945.110   434.069375\n",
       "13  Shop 20            3            3       364     1020.060   340.020000"
      ]
     },
     "execution_count": 103,
     "metadata": {},
     "output_type": "execute_result"
    }
   ],
   "source": [
    "# Рассчет среднего чека.\n",
    "\n",
    "data_price_sales_pivot['avg_cheque']  = data_price_sales_pivot['total_sales'] / data_price_sales_pivot['purchase_id']\n",
    "\n",
    "# Сортировка таблицы.\n",
    "\n",
    "data_price_sales_pivot = data_price_sales_pivot.reset_index().sort_values(by='avg_cheque', ascending=False)\n",
    "\n",
    "# Отфильтруем магазины, в которых была только одна продажа за период.\n",
    "\n",
    "data_price_sales_pivot = data_price_sales_pivot.query('purchase_id > 1')\n",
    "\n",
    "data_price_sales_pivot"
   ]
  },
  {
   "cell_type": "markdown",
   "id": "212f3192",
   "metadata": {},
   "source": [
    "Считаем средний чек по всем магазинам."
   ]
  },
  {
   "cell_type": "code",
   "execution_count": 104,
   "id": "5d0a82a7",
   "metadata": {},
   "outputs": [
    {
     "data": {
      "text/plain": [
       "1452.489521791818"
      ]
     },
     "execution_count": 104,
     "metadata": {},
     "output_type": "execute_result"
    }
   ],
   "source": [
    "data_price_sales_pivot['avg_cheque'].mean()"
   ]
  },
  {
   "cell_type": "code",
   "execution_count": 105,
   "id": "5fa10e0f",
   "metadata": {
    "scrolled": true
   },
   "outputs": [
    {
     "data": {
      "image/png": "[encoded data removed]",
      "text/plain": [
       "<Figure size 2160x504 with 1 Axes>"
      ]
     },
     "metadata": {
      "needs_background": "light"
     },
     "output_type": "display_data"
    }
   ],
   "source": [
    "# Строим столбчатую диаграмму.\n",
    "\n",
    "fig, data = plt.subplots(figsize=(30, 7))\n",
    "\n",
    "sns.barplot(data=data_price_sales_pivot, x='shop_id', y='avg_cheque')\n",
    "\n",
    "plt.xlabel('Магазины')\n",
    "plt.title('Сумма среднего чека по магазинам')\n",
    "plt.show()"
   ]
  },
  {
   "cell_type": "markdown",
   "id": "c6fecb93",
   "metadata": {},
   "source": [
    "Большое влияние на средний чек оказывают магазины с единичными продажами. Средний чек по всем магазинам - 1558.77, это достаточно много.  \n",
    "\n",
    "Лидер по среднему чеку магазин Shop 3, второе место у Shop 14 - 4469.21, третье место Shop 24 - 3984.62. \n",
    "\n",
    "Флагман - Shop 0 - средний чек 533.14. Занимает место близко к концу, хотя возможно он и ближе всех к реальности. "
   ]
  },
  {
   "cell_type": "markdown",
   "id": "8d6cf422",
   "metadata": {},
   "source": [
    "Считаем среднюю сумму по возвратам. "
   ]
  },
  {
   "cell_type": "code",
   "execution_count": 106,
   "id": "5a627e0d",
   "metadata": {
    "scrolled": false
   },
   "outputs": [
    {
     "data": {
      "text/html": [
       "<div>\n",
       "<style scoped>\n",
       "    .dataframe tbody tr th:only-of-type {\n",
       "        vertical-align: middle;\n",
       "    }\n",
       "\n",
       "    .dataframe tbody tr th {\n",
       "        vertical-align: top;\n",
       "    }\n",
       "\n",
       "    .dataframe thead th {\n",
       "        text-align: right;\n",
       "    }\n",
       "</style>\n",
       "<table border=\"1\" class=\"dataframe\">\n",
       "  <thead>\n",
       "    <tr style=\"text-align: right;\">\n",
       "      <th></th>\n",
       "      <th>shop_id</th>\n",
       "      <th>customer_id</th>\n",
       "      <th>purchase_id</th>\n",
       "      <th>quantity</th>\n",
       "      <th>total_sales</th>\n",
       "      <th>avg_cheque</th>\n",
       "    </tr>\n",
       "  </thead>\n",
       "  <tbody>\n",
       "    <tr>\n",
       "      <th>7</th>\n",
       "      <td>Shop 18</td>\n",
       "      <td>1</td>\n",
       "      <td>1</td>\n",
       "      <td>-2</td>\n",
       "      <td>-25.500</td>\n",
       "      <td>-25.500000</td>\n",
       "    </tr>\n",
       "    <tr>\n",
       "      <th>10</th>\n",
       "      <td>Shop 20</td>\n",
       "      <td>1</td>\n",
       "      <td>1</td>\n",
       "      <td>-49</td>\n",
       "      <td>-31.115</td>\n",
       "      <td>-31.115000</td>\n",
       "    </tr>\n",
       "    <tr>\n",
       "      <th>16</th>\n",
       "      <td>Shop 7</td>\n",
       "      <td>1</td>\n",
       "      <td>1</td>\n",
       "      <td>-4</td>\n",
       "      <td>-37.170</td>\n",
       "      <td>-37.170000</td>\n",
       "    </tr>\n",
       "    <tr>\n",
       "      <th>6</th>\n",
       "      <td>Shop 16</td>\n",
       "      <td>1</td>\n",
       "      <td>1</td>\n",
       "      <td>-6</td>\n",
       "      <td>-67.755</td>\n",
       "      <td>-67.755000</td>\n",
       "    </tr>\n",
       "    <tr>\n",
       "      <th>13</th>\n",
       "      <td>Shop 3</td>\n",
       "      <td>2</td>\n",
       "      <td>2</td>\n",
       "      <td>-29</td>\n",
       "      <td>-106.585</td>\n",
       "      <td>-53.292500</td>\n",
       "    </tr>\n",
       "    <tr>\n",
       "      <th>3</th>\n",
       "      <td>Shop 11</td>\n",
       "      <td>3</td>\n",
       "      <td>4</td>\n",
       "      <td>-36</td>\n",
       "      <td>-122.790</td>\n",
       "      <td>-30.697500</td>\n",
       "    </tr>\n",
       "    <tr>\n",
       "      <th>4</th>\n",
       "      <td>Shop 12</td>\n",
       "      <td>4</td>\n",
       "      <td>5</td>\n",
       "      <td>-22</td>\n",
       "      <td>-131.180</td>\n",
       "      <td>-26.236000</td>\n",
       "    </tr>\n",
       "    <tr>\n",
       "      <th>9</th>\n",
       "      <td>Shop 2</td>\n",
       "      <td>2</td>\n",
       "      <td>2</td>\n",
       "      <td>-39</td>\n",
       "      <td>-166.690</td>\n",
       "      <td>-83.345000</td>\n",
       "    </tr>\n",
       "    <tr>\n",
       "      <th>2</th>\n",
       "      <td>Shop 10</td>\n",
       "      <td>2</td>\n",
       "      <td>3</td>\n",
       "      <td>-63</td>\n",
       "      <td>-191.280</td>\n",
       "      <td>-63.760000</td>\n",
       "    </tr>\n",
       "    <tr>\n",
       "      <th>5</th>\n",
       "      <td>Shop 14</td>\n",
       "      <td>1</td>\n",
       "      <td>1</td>\n",
       "      <td>-49</td>\n",
       "      <td>-192.730</td>\n",
       "      <td>-192.730000</td>\n",
       "    </tr>\n",
       "    <tr>\n",
       "      <th>17</th>\n",
       "      <td>Shop 8</td>\n",
       "      <td>4</td>\n",
       "      <td>4</td>\n",
       "      <td>-19</td>\n",
       "      <td>-217.220</td>\n",
       "      <td>-54.305000</td>\n",
       "    </tr>\n",
       "    <tr>\n",
       "      <th>12</th>\n",
       "      <td>Shop 23</td>\n",
       "      <td>1</td>\n",
       "      <td>1</td>\n",
       "      <td>-55</td>\n",
       "      <td>-233.750</td>\n",
       "      <td>-233.750000</td>\n",
       "    </tr>\n",
       "    <tr>\n",
       "      <th>11</th>\n",
       "      <td>Shop 21</td>\n",
       "      <td>1</td>\n",
       "      <td>1</td>\n",
       "      <td>-58</td>\n",
       "      <td>-280.350</td>\n",
       "      <td>-280.350000</td>\n",
       "    </tr>\n",
       "    <tr>\n",
       "      <th>1</th>\n",
       "      <td>Shop 1</td>\n",
       "      <td>12</td>\n",
       "      <td>19</td>\n",
       "      <td>-121</td>\n",
       "      <td>-584.425</td>\n",
       "      <td>-30.759211</td>\n",
       "    </tr>\n",
       "    <tr>\n",
       "      <th>8</th>\n",
       "      <td>Shop 19</td>\n",
       "      <td>2</td>\n",
       "      <td>2</td>\n",
       "      <td>-243</td>\n",
       "      <td>-1050.230</td>\n",
       "      <td>-525.115000</td>\n",
       "    </tr>\n",
       "    <tr>\n",
       "      <th>14</th>\n",
       "      <td>Shop 4</td>\n",
       "      <td>20</td>\n",
       "      <td>34</td>\n",
       "      <td>-642</td>\n",
       "      <td>-3215.830</td>\n",
       "      <td>-94.583235</td>\n",
       "    </tr>\n",
       "    <tr>\n",
       "      <th>15</th>\n",
       "      <td>Shop 6</td>\n",
       "      <td>3</td>\n",
       "      <td>9</td>\n",
       "      <td>-1234</td>\n",
       "      <td>-6531.375</td>\n",
       "      <td>-725.708333</td>\n",
       "    </tr>\n",
       "    <tr>\n",
       "      <th>0</th>\n",
       "      <td>Shop 0</td>\n",
       "      <td>458</td>\n",
       "      <td>903</td>\n",
       "      <td>-33256</td>\n",
       "      <td>-107041.740</td>\n",
       "      <td>-118.540133</td>\n",
       "    </tr>\n",
       "  </tbody>\n",
       "</table>\n",
       "</div>"
      ],
      "text/plain": [
       "    shop_id  customer_id  purchase_id  quantity  total_sales  avg_cheque\n",
       "7   Shop 18            1            1        -2      -25.500  -25.500000\n",
       "10  Shop 20            1            1       -49      -31.115  -31.115000\n",
       "16   Shop 7            1            1        -4      -37.170  -37.170000\n",
       "6   Shop 16            1            1        -6      -67.755  -67.755000\n",
       "13   Shop 3            2            2       -29     -106.585  -53.292500\n",
       "3   Shop 11            3            4       -36     -122.790  -30.697500\n",
       "4   Shop 12            4            5       -22     -131.180  -26.236000\n",
       "9    Shop 2            2            2       -39     -166.690  -83.345000\n",
       "2   Shop 10            2            3       -63     -191.280  -63.760000\n",
       "5   Shop 14            1            1       -49     -192.730 -192.730000\n",
       "17   Shop 8            4            4       -19     -217.220  -54.305000\n",
       "12  Shop 23            1            1       -55     -233.750 -233.750000\n",
       "11  Shop 21            1            1       -58     -280.350 -280.350000\n",
       "1    Shop 1           12           19      -121     -584.425  -30.759211\n",
       "8   Shop 19            2            2      -243    -1050.230 -525.115000\n",
       "14   Shop 4           20           34      -642    -3215.830  -94.583235\n",
       "15   Shop 6            3            9     -1234    -6531.375 -725.708333\n",
       "0    Shop 0          458          903    -33256  -107041.740 -118.540133"
      ]
     },
     "execution_count": 106,
     "metadata": {},
     "output_type": "execute_result"
    }
   ],
   "source": [
    "# Считаем среднюю сумму возвратов.\n",
    "\n",
    "data_price_return_pivot['avg_cheque'] = data_price_return_pivot['total_sales'] / data_price_return_pivot['purchase_id']\n",
    "\n",
    "# Сортируем, сбрасываем индексы.\n",
    "\n",
    "data_price_return_pivot = data_price_return_pivot.reset_index().sort_values(by='total_sales', ascending=False)\n",
    "\n",
    "data_price_return_pivot"
   ]
  },
  {
   "cell_type": "markdown",
   "id": "b5c47f57",
   "metadata": {},
   "source": [
    "Посчитаем средний чек возврата по всем магазинам."
   ]
  },
  {
   "cell_type": "code",
   "execution_count": 107,
   "id": "094a410d",
   "metadata": {},
   "outputs": [
    {
     "data": {
      "text/plain": [
       "-148.595106224674"
      ]
     },
     "execution_count": 107,
     "metadata": {},
     "output_type": "execute_result"
    }
   ],
   "source": [
    "data_price_return_pivot['avg_cheque'].mean()"
   ]
  },
  {
   "cell_type": "code",
   "execution_count": 108,
   "id": "0f7191d6",
   "metadata": {
    "scrolled": false
   },
   "outputs": [
    {
     "data": {
      "image/png": "[encoded data removed]",
      "text/plain": [
       "<Figure size 2160x504 with 1 Axes>"
      ]
     },
     "metadata": {
      "needs_background": "light"
     },
     "output_type": "display_data"
    }
   ],
   "source": [
    "# Строим столбчатую диаграмму.\n",
    "\n",
    "fig, data = plt.subplots(figsize=(30, 7))\n",
    "\n",
    "sns.barplot(data=data_price_return_pivot, x='shop_id', y='avg_cheque')\n",
    "\n",
    "plt.show()"
   ]
  },
  {
   "cell_type": "markdown",
   "id": "ee365307",
   "metadata": {},
   "source": [
    "Средняя сумма возвратов - 148.75, лидер по среднему чеку возврата Shop 6 - 725.70, скорее всего это попал единичный возврат в выборку, но не попали покупки их этого магазина. \n",
    "\n",
    "Флагман - Shop 0 - средняя сумма возрата - 121.35.\n",
    "\n",
    "У большей части магазинов возвраты составляют менее 100."
   ]
  },
  {
   "cell_type": "markdown",
   "id": "17035d29",
   "metadata": {},
   "source": [
    "В результате исследовательского анализа мы выяснили, что:\n",
    "\n",
    "Лидером по продажам является магазин Shop 0 с суммой продаж - 1886814.69, средний чек - 533.14, на порядок ниже, чем у других магазинов сети, хотя возможно по остальным магазинам мы не видим реальную картину в представленных данных, а видим только единичный выбросы, которые и влияют на искажение результатов. Самый большой объем возвратов также оказался в Shop 0 - 110312, около 10% от продаж. Средний чек возрата - 121.35.\n",
    "\n",
    "На 2 месте по выручке Shop 3 - 102070.050, он же лидер по среднему чеку. Возвраты в данном магазине оформлялись редко сумма возвратов около 100.\n",
    "\n",
    "На 3 месте по продажам - Shop 6 - 62409.14, он же на 2 месте по возвратам - средний чек возврата - 725.70.\n",
    "\n",
    "Судя по распределению выручки по месяцам по магазинам, стабильно работали не все из них, либо выгрузка данных была проведена некорректно. В любом случае самым прибыльным месяцем был декабрь. Какого-то тренда на увеличение выручки, количества чеков и покупателей, и снижение возвратов с декабря по февраль не наблюдается.\n",
    "\n",
    "Средний чек возврата - 148.75. У большей части магазинов возвраты составляют менее 100.\n",
    "\n",
    "Средний чек покупки по всем магазинам - 1558.77, это достаточно много. Единичные выбросы в отдельных магазинах сказываются на общей цифре возвратов. Лидер по среднему чеку магазин Shop 3, второе место у Shop 14 - 4469.21, третье место Shop 24 - 3984.62."
   ]
  },
  {
   "cell_type": "markdown",
   "id": "f1ae8558",
   "metadata": {},
   "source": [
    "## Анализ действия программы лояльности."
   ]
  },
  {
   "cell_type": "markdown",
   "id": "c22d2698",
   "metadata": {},
   "source": [
    "### Поделим покупателей на группы: участники программы лояльности и те, кто не участвует в программе."
   ]
  },
  {
   "cell_type": "code",
   "execution_count": 109,
   "id": "4f7d6f6e",
   "metadata": {},
   "outputs": [],
   "source": [
    "loyalty = data_price.query('loyalty_program == 1')\n",
    "\n",
    "not_loyalty = data_price.query('loyalty_program == 0')"
   ]
  },
  {
   "cell_type": "markdown",
   "id": "83c48052",
   "metadata": {},
   "source": [
    "### Сравним поведение в двух группах: средний чек, количество участников-неучастников, сумма и количество выручки/возвратов, количество товаров."
   ]
  },
  {
   "cell_type": "markdown",
   "id": "b952bbe8",
   "metadata": {},
   "source": [
    "Посчитаем количество участников-неучастников, количество покупок для каждой группы - участник-неучастник, сумму выручки, количество товаров."
   ]
  },
  {
   "cell_type": "code",
   "execution_count": 110,
   "id": "7d2f13e7",
   "metadata": {
    "scrolled": true
   },
   "outputs": [
    {
     "data": {
      "text/html": [
       "<div>\n",
       "<style scoped>\n",
       "    .dataframe tbody tr th:only-of-type {\n",
       "        vertical-align: middle;\n",
       "    }\n",
       "\n",
       "    .dataframe tbody tr th {\n",
       "        vertical-align: top;\n",
       "    }\n",
       "\n",
       "    .dataframe thead th {\n",
       "        text-align: right;\n",
       "    }\n",
       "</style>\n",
       "<table border=\"1\" class=\"dataframe\">\n",
       "  <thead>\n",
       "    <tr style=\"text-align: right;\">\n",
       "      <th></th>\n",
       "      <th>customer_id</th>\n",
       "      <th>purchase_id</th>\n",
       "      <th>quantity</th>\n",
       "      <th>total_sales</th>\n",
       "    </tr>\n",
       "    <tr>\n",
       "      <th>loyalty_program</th>\n",
       "      <th></th>\n",
       "      <th></th>\n",
       "      <th></th>\n",
       "      <th></th>\n",
       "    </tr>\n",
       "  </thead>\n",
       "  <tbody>\n",
       "    <tr>\n",
       "      <th>0</th>\n",
       "      <td>1113</td>\n",
       "      <td>2731</td>\n",
       "      <td>615754</td>\n",
       "      <td>1707957.110</td>\n",
       "    </tr>\n",
       "    <tr>\n",
       "      <th>1</th>\n",
       "      <td>562</td>\n",
       "      <td>1128</td>\n",
       "      <td>223953</td>\n",
       "      <td>583340.465</td>\n",
       "    </tr>\n",
       "  </tbody>\n",
       "</table>\n",
       "</div>"
      ],
      "text/plain": [
       "                 customer_id  purchase_id  quantity  total_sales\n",
       "loyalty_program                                                 \n",
       "0                       1113         2731    615754  1707957.110\n",
       "1                        562         1128    223953   583340.465"
      ]
     },
     "execution_count": 110,
     "metadata": {},
     "output_type": "execute_result"
    }
   ],
   "source": [
    "data_price_sales_pivot_2 = data_price_sales.pivot_table(index='loyalty_program', \n",
    "                       values=['customer_id', 'purchase_id', 'total_sales', 'quantity'], \n",
    "                       aggfunc={'customer_id': 'nunique', 'purchase_id': 'nunique', 'total_sales': 'sum', 'quantity': 'sum'})\n",
    "\n",
    "data_price_sales_pivot_2"
   ]
  },
  {
   "cell_type": "markdown",
   "id": "b2ddd210",
   "metadata": {},
   "source": [
    "Посчитаем средний чек покупки. "
   ]
  },
  {
   "cell_type": "code",
   "execution_count": 111,
   "id": "df506a1f",
   "metadata": {},
   "outputs": [
    {
     "data": {
      "text/html": [
       "<div>\n",
       "<style scoped>\n",
       "    .dataframe tbody tr th:only-of-type {\n",
       "        vertical-align: middle;\n",
       "    }\n",
       "\n",
       "    .dataframe tbody tr th {\n",
       "        vertical-align: top;\n",
       "    }\n",
       "\n",
       "    .dataframe thead th {\n",
       "        text-align: right;\n",
       "    }\n",
       "</style>\n",
       "<table border=\"1\" class=\"dataframe\">\n",
       "  <thead>\n",
       "    <tr style=\"text-align: right;\">\n",
       "      <th></th>\n",
       "      <th>customer_id</th>\n",
       "      <th>purchase_id</th>\n",
       "      <th>quantity</th>\n",
       "      <th>total_sales</th>\n",
       "      <th>avg_cheque</th>\n",
       "    </tr>\n",
       "    <tr>\n",
       "      <th>loyalty_program</th>\n",
       "      <th></th>\n",
       "      <th></th>\n",
       "      <th></th>\n",
       "      <th></th>\n",
       "      <th></th>\n",
       "    </tr>\n",
       "  </thead>\n",
       "  <tbody>\n",
       "    <tr>\n",
       "      <th>0</th>\n",
       "      <td>1113</td>\n",
       "      <td>2731</td>\n",
       "      <td>615754</td>\n",
       "      <td>1707957.110</td>\n",
       "      <td>625.396232</td>\n",
       "    </tr>\n",
       "    <tr>\n",
       "      <th>1</th>\n",
       "      <td>562</td>\n",
       "      <td>1128</td>\n",
       "      <td>223953</td>\n",
       "      <td>583340.465</td>\n",
       "      <td>517.145802</td>\n",
       "    </tr>\n",
       "  </tbody>\n",
       "</table>\n",
       "</div>"
      ],
      "text/plain": [
       "                 customer_id  purchase_id  quantity  total_sales  avg_cheque\n",
       "loyalty_program                                                             \n",
       "0                       1113         2731    615754  1707957.110  625.396232\n",
       "1                        562         1128    223953   583340.465  517.145802"
      ]
     },
     "execution_count": 111,
     "metadata": {},
     "output_type": "execute_result"
    }
   ],
   "source": [
    "data_price_sales_pivot_2['avg_cheque'] = data_price_sales_pivot_2['total_sales'] / data_price_sales_pivot_2['purchase_id']\n",
    "\n",
    "data_price_sales_pivot_2"
   ]
  },
  {
   "cell_type": "markdown",
   "id": "0796929c",
   "metadata": {},
   "source": [
    "Итого покупки в магазинах сети совершили 1116 покупателей - неучастников программы лояльности и 565 участников программы. \n",
    "\n",
    "Неучастники программы совершили 2738 покупок, участники - 1133. \n",
    "\n",
    "Количество покупателей можно оценить примерно отношением 1:2, также соотносятся и совершенные ими покупки.\n",
    "\n",
    "Общая сумма выручки от неучастников - 1731193.23, от участников - 591420.68.\n",
    "\n",
    "Средний чек: неучастники - 632.28, участники - 521.99.    "
   ]
  },
  {
   "cell_type": "markdown",
   "id": "a0c81cb9",
   "metadata": {},
   "source": [
    "Посчитаем количество возвратов приходящихся на участников-неучастников, количество участников-неучастников, сумму возвратов, количество товаров."
   ]
  },
  {
   "cell_type": "code",
   "execution_count": 112,
   "id": "cf11ad0e",
   "metadata": {
    "scrolled": true
   },
   "outputs": [
    {
     "data": {
      "text/html": [
       "<div>\n",
       "<style scoped>\n",
       "    .dataframe tbody tr th:only-of-type {\n",
       "        vertical-align: middle;\n",
       "    }\n",
       "\n",
       "    .dataframe tbody tr th {\n",
       "        vertical-align: top;\n",
       "    }\n",
       "\n",
       "    .dataframe thead th {\n",
       "        text-align: right;\n",
       "    }\n",
       "</style>\n",
       "<table border=\"1\" class=\"dataframe\">\n",
       "  <thead>\n",
       "    <tr style=\"text-align: right;\">\n",
       "      <th></th>\n",
       "      <th>customer_id</th>\n",
       "      <th>purchase_id</th>\n",
       "      <th>quantity</th>\n",
       "      <th>total_sales</th>\n",
       "    </tr>\n",
       "    <tr>\n",
       "      <th>loyalty_program</th>\n",
       "      <th></th>\n",
       "      <th></th>\n",
       "      <th></th>\n",
       "      <th></th>\n",
       "    </tr>\n",
       "  </thead>\n",
       "  <tbody>\n",
       "    <tr>\n",
       "      <th>0</th>\n",
       "      <td>361</td>\n",
       "      <td>787</td>\n",
       "      <td>-31283</td>\n",
       "      <td>-103994.060</td>\n",
       "    </tr>\n",
       "    <tr>\n",
       "      <th>1</th>\n",
       "      <td>156</td>\n",
       "      <td>207</td>\n",
       "      <td>-4644</td>\n",
       "      <td>-16233.655</td>\n",
       "    </tr>\n",
       "  </tbody>\n",
       "</table>\n",
       "</div>"
      ],
      "text/plain": [
       "                 customer_id  purchase_id  quantity  total_sales\n",
       "loyalty_program                                                 \n",
       "0                        361          787    -31283  -103994.060\n",
       "1                        156          207     -4644   -16233.655"
      ]
     },
     "execution_count": 112,
     "metadata": {},
     "output_type": "execute_result"
    }
   ],
   "source": [
    "data_price_return_pivot_2 = data_price_return.pivot_table(index='loyalty_program', \n",
    "                       values=['customer_id', 'purchase_id', 'total_sales', 'quantity'], \n",
    "                       aggfunc={'customer_id': 'nunique', 'purchase_id': 'nunique', 'total_sales': 'sum', 'quantity': 'sum'})\n",
    "\n",
    "data_price_return_pivot_2"
   ]
  },
  {
   "cell_type": "markdown",
   "id": "114e16fd",
   "metadata": {},
   "source": [
    "Посчитаем среднюю стоимость возврата."
   ]
  },
  {
   "cell_type": "code",
   "execution_count": 113,
   "id": "b664cd81",
   "metadata": {
    "scrolled": true
   },
   "outputs": [
    {
     "data": {
      "text/html": [
       "<div>\n",
       "<style scoped>\n",
       "    .dataframe tbody tr th:only-of-type {\n",
       "        vertical-align: middle;\n",
       "    }\n",
       "\n",
       "    .dataframe tbody tr th {\n",
       "        vertical-align: top;\n",
       "    }\n",
       "\n",
       "    .dataframe thead th {\n",
       "        text-align: right;\n",
       "    }\n",
       "</style>\n",
       "<table border=\"1\" class=\"dataframe\">\n",
       "  <thead>\n",
       "    <tr style=\"text-align: right;\">\n",
       "      <th></th>\n",
       "      <th>customer_id</th>\n",
       "      <th>purchase_id</th>\n",
       "      <th>quantity</th>\n",
       "      <th>total_sales</th>\n",
       "      <th>avg_cheque</th>\n",
       "    </tr>\n",
       "    <tr>\n",
       "      <th>loyalty_program</th>\n",
       "      <th></th>\n",
       "      <th></th>\n",
       "      <th></th>\n",
       "      <th></th>\n",
       "      <th></th>\n",
       "    </tr>\n",
       "  </thead>\n",
       "  <tbody>\n",
       "    <tr>\n",
       "      <th>0</th>\n",
       "      <td>361</td>\n",
       "      <td>787</td>\n",
       "      <td>-31283</td>\n",
       "      <td>-103994.060</td>\n",
       "      <td>-132.139848</td>\n",
       "    </tr>\n",
       "    <tr>\n",
       "      <th>1</th>\n",
       "      <td>156</td>\n",
       "      <td>207</td>\n",
       "      <td>-4644</td>\n",
       "      <td>-16233.655</td>\n",
       "      <td>-78.423454</td>\n",
       "    </tr>\n",
       "  </tbody>\n",
       "</table>\n",
       "</div>"
      ],
      "text/plain": [
       "                 customer_id  purchase_id  quantity  total_sales  avg_cheque\n",
       "loyalty_program                                                             \n",
       "0                        361          787    -31283  -103994.060 -132.139848\n",
       "1                        156          207     -4644   -16233.655  -78.423454"
      ]
     },
     "execution_count": 113,
     "metadata": {},
     "output_type": "execute_result"
    }
   ],
   "source": [
    "data_price_return_pivot_2['avg_cheque'] = data_price_return_pivot_2['total_sales'] / data_price_return_pivot_2['purchase_id']\n",
    "\n",
    "data_price_return_pivot_2"
   ]
  },
  {
   "cell_type": "markdown",
   "id": "856c678d",
   "metadata": {},
   "source": [
    "Возвращали товары: \n",
    " - неучастники - 362, вернули 789 покупок;\n",
    " - участники - 159, вернули 211 покупок.  \n",
    " \n",
    "Общая сумма возвратов у неучастников - 105105.86, у участников - 18392.15. \n",
    "\n",
    "Средняя сумма возврата у неучастников - 133.21, у участников - 87.16."
   ]
  },
  {
   "cell_type": "markdown",
   "id": "ef1ed554",
   "metadata": {},
   "source": [
    "Посмотрим на распределение количества товаров в чеках покупок для участников/неучастников. "
   ]
  },
  {
   "cell_type": "code",
   "execution_count": 114,
   "id": "29da7108",
   "metadata": {},
   "outputs": [
    {
     "data": {
      "image/png": "[encoded data removed]",
      "text/plain": [
       "<Figure size 432x288 with 1 Axes>"
      ]
     },
     "metadata": {
      "needs_background": "light"
     },
     "output_type": "display_data"
    }
   ],
   "source": [
    "loyalty.query('quantity >= 0').groupby('purchase_id')['quantity'].sum().hist(bins=50, alpha=0.5, range=(0, 2000))\n",
    "\n",
    "not_loyalty.query('quantity >= 0').groupby('purchase_id')['quantity'].sum().hist(bins=50, alpha=0.25, range=(0,2000))\n",
    "\n",
    "legend = ['orange - not_loyalty, blue - loyalty']\n",
    "\n",
    "plt.xlabel('Количество товаров')\n",
    "plt.ylabel('Количество покупателей')\n",
    "plt.title('Распределение количества товаров в покупках участников/неучастников программы лояльности')\n",
    "plt.legend(legend)\n",
    "\n",
    "plt.show()"
   ]
  },
  {
   "cell_type": "markdown",
   "id": "ec26c42e",
   "metadata": {},
   "source": [
    "Посмотрим на распределение количества товарных единиц товаров в чеке покупки для участников/неучастников."
   ]
  },
  {
   "cell_type": "code",
   "execution_count": 115,
   "id": "3efa22fe",
   "metadata": {},
   "outputs": [
    {
     "data": {
      "image/png": "[encoded data removed]",
      "text/plain": [
       "<Figure size 432x288 with 1 Axes>"
      ]
     },
     "metadata": {
      "needs_background": "light"
     },
     "output_type": "display_data"
    }
   ],
   "source": [
    "loyalty.query('quantity >= 0').groupby('purchase_id')['item_id'].count().hist(bins=50, alpha=0.5, range=(0, 100), label=loyalty)\n",
    "\n",
    "not_loyalty.query('quantity >= 0').groupby('purchase_id')['item_id'].count().hist(bins=50, alpha=0.25, range=(0,100), label=not_loyalty)\n",
    "\n",
    "legend = ['orange - not_loyalty, blue - loyalty']\n",
    "\n",
    "plt.xlabel('Количество товарных единиц')\n",
    "plt.ylabel('Количество покупателей')\n",
    "plt.title('Распределение количества товарных единиц в покупках участников/неучастников программы лояльности')\n",
    "plt.legend(legend)\n",
    "\n",
    "\n",
    "plt.show()"
   ]
  },
  {
   "cell_type": "markdown",
   "id": "c1975f18",
   "metadata": {},
   "source": [
    "Визуализируем распределение сумм покупок и возвратов в разбивке участники-неучастники."
   ]
  },
  {
   "cell_type": "code",
   "execution_count": 116,
   "id": "da845ca3",
   "metadata": {
    "scrolled": false
   },
   "outputs": [
    {
     "data": {
      "image/png": "[encoded data removed]",
      "text/plain": [
       "<Figure size 432x432 with 1 Axes>"
      ]
     },
     "metadata": {
      "needs_background": "light"
     },
     "output_type": "display_data"
    }
   ],
   "source": [
    "x_values = pd.Series(range(0,len(loyalty['purchase_id'].unique())))\n",
    "y_values = pd.Series(range(0,len(not_loyalty['purchase_id'].unique())))\n",
    "plt.figure(figsize=(6, 6))\n",
    "\n",
    "plt.scatter(x_values, loyalty.groupby('purchase_id')['total_sales'].sum(), alpha = 0.5)\n",
    "plt.scatter(y_values, not_loyalty.groupby('purchase_id')['total_sales'].sum(), alpha = 0.15)\n",
    "\n",
    "plt.xlabel('Число покупателей')\n",
    "plt.ylabel('Сумма покупки/возврата')\n",
    "plt.title('Диаграмма распределения сумм покупок/возвратов, приходящихся на одного пользователя')\n",
    "plt.legend([\"Loyalty\" , \"Not loyalty\"], loc= 'upper right')\n",
    "plt.show()"
   ]
  },
  {
   "cell_type": "markdown",
   "id": "3967d5ad",
   "metadata": {},
   "source": [
    "По графику можно увидеть, что неучастники программы совершали покупки на большие суммы, чем участники программы. Да, у неучастников были более крупные возвраты, но их число примерно соотносится с числом возвратов у участников."
   ]
  },
  {
   "cell_type": "markdown",
   "id": "c20e983a",
   "metadata": {},
   "source": [
    "Визуализируем распределение количества товаров в покупках и возвратах в разбивке участники-неучастники."
   ]
  },
  {
   "cell_type": "code",
   "execution_count": 117,
   "id": "a0a4c7c7",
   "metadata": {
    "scrolled": false
   },
   "outputs": [
    {
     "data": {
      "image/png": "[encoded data removed]",
      "text/plain": [
       "<Figure size 432x432 with 1 Axes>"
      ]
     },
     "metadata": {
      "needs_background": "light"
     },
     "output_type": "display_data"
    }
   ],
   "source": [
    "x_values = pd.Series(range(0,len(loyalty['purchase_id'].unique())))\n",
    "y_values = pd.Series(range(0,len(not_loyalty['purchase_id'].unique())))\n",
    "plt.figure(figsize=(6, 6))\n",
    "\n",
    "plt.scatter(x_values, loyalty.groupby('purchase_id')['quantity'].sum(), alpha = 0.5)\n",
    "plt.scatter(y_values, not_loyalty.groupby('purchase_id')['quantity'].sum(), alpha = 0.15)\n",
    "\n",
    "plt.xlabel('Число покупателей')\n",
    "plt.ylabel('Количество товаров в покупке/возврате')\n",
    "plt.title('Диаграмма распределения количества товаров в покупке/возврате, приходящихся на одного пользователя')\n",
    "plt.legend([\"Loyalty\" , \"Not loyalty\"], loc= 'upper right')\n",
    "plt.show()"
   ]
  },
  {
   "cell_type": "markdown",
   "id": "69535424",
   "metadata": {},
   "source": [
    "По графику можно увидеть, что неучастники покупали примерно такое же число товаров, что и неучастники. Также неучастниками было совершено ряд самых крупных покупок.  "
   ]
  },
  {
   "cell_type": "markdown",
   "id": "3090e723",
   "metadata": {},
   "source": [
    "Также посмотрим распределение покупок приходящихся на участников и не участников программы."
   ]
  },
  {
   "cell_type": "code",
   "execution_count": 118,
   "id": "dca52247",
   "metadata": {},
   "outputs": [
    {
     "data": {
      "image/png": "[encoded data removed]",
      "text/plain": [
       "<Figure size 432x432 with 1 Axes>"
      ]
     },
     "metadata": {
      "needs_background": "light"
     },
     "output_type": "display_data"
    }
   ],
   "source": [
    "x_values = pd.Series(range(0,len(loyalty['customer_id'].unique())))\n",
    "y_values = pd.Series(range(0,len(not_loyalty['customer_id'].unique())))\n",
    "plt.figure(figsize=(6, 6))\n",
    "\n",
    "plt.scatter(x_values, loyalty.groupby('customer_id')['purchase_id'].count(), alpha = 0.5)\n",
    "plt.scatter(y_values, not_loyalty.groupby('customer_id')['purchase_id'].count(), alpha = 0.15)\n",
    "\n",
    "plt.xlabel('Число покупателей')\n",
    "plt.ylabel('Количество товаров в покупке/возврате')\n",
    "plt.title('Диаграмма распределения количества покупок, приходящихся на одного пользователя')\n",
    "plt.legend([\"Loyalty\" , \"Not loyalty\"], loc= 'upper right')\n",
    "\n",
    "plt.show()"
   ]
  },
  {
   "cell_type": "markdown",
   "id": "9b732fde",
   "metadata": {},
   "source": [
    "Судя по графику можно сделать вывод, что участники программы лояльности не совершают большее количество покупок, чем не участники программы. "
   ]
  },
  {
   "cell_type": "markdown",
   "id": "73728aa3",
   "metadata": {},
   "source": [
    "### Посчитаем количество покупок в месяц для участников-неучастников."
   ]
  },
  {
   "cell_type": "code",
   "execution_count": 119,
   "id": "2b9f9963",
   "metadata": {},
   "outputs": [
    {
     "data": {
      "text/html": [
       "<div>\n",
       "<style scoped>\n",
       "    .dataframe tbody tr th:only-of-type {\n",
       "        vertical-align: middle;\n",
       "    }\n",
       "\n",
       "    .dataframe tbody tr th {\n",
       "        vertical-align: top;\n",
       "    }\n",
       "\n",
       "    .dataframe thead th {\n",
       "        text-align: right;\n",
       "    }\n",
       "</style>\n",
       "<table border=\"1\" class=\"dataframe\">\n",
       "  <thead>\n",
       "    <tr style=\"text-align: right;\">\n",
       "      <th></th>\n",
       "      <th>purchasemonth</th>\n",
       "      <th>customer_id</th>\n",
       "    </tr>\n",
       "  </thead>\n",
       "  <tbody>\n",
       "    <tr>\n",
       "      <th>2</th>\n",
       "      <td>12</td>\n",
       "      <td>9762</td>\n",
       "    </tr>\n",
       "    <tr>\n",
       "      <th>1</th>\n",
       "      <td>2</td>\n",
       "      <td>7004</td>\n",
       "    </tr>\n",
       "    <tr>\n",
       "      <th>0</th>\n",
       "      <td>1</td>\n",
       "      <td>6623</td>\n",
       "    </tr>\n",
       "  </tbody>\n",
       "</table>\n",
       "</div>"
      ],
      "text/plain": [
       "   purchasemonth  customer_id\n",
       "2             12         9762\n",
       "1              2         7004\n",
       "0              1         6623"
      ]
     },
     "execution_count": 119,
     "metadata": {},
     "output_type": "execute_result"
    }
   ],
   "source": [
    "# Количество покупок помесячно для участников.\n",
    "\n",
    "y = loyalty.groupby('purchasemonth')['customer_id'].count().to_frame().reset_index().sort_values(by=['purchasemonth'], ascending=False)\n",
    "y"
   ]
  },
  {
   "cell_type": "code",
   "execution_count": 120,
   "id": "43e9e434",
   "metadata": {},
   "outputs": [
    {
     "data": {
      "text/html": [
       "<div>\n",
       "<style scoped>\n",
       "    .dataframe tbody tr th:only-of-type {\n",
       "        vertical-align: middle;\n",
       "    }\n",
       "\n",
       "    .dataframe tbody tr th {\n",
       "        vertical-align: top;\n",
       "    }\n",
       "\n",
       "    .dataframe thead th {\n",
       "        text-align: right;\n",
       "    }\n",
       "</style>\n",
       "<table border=\"1\" class=\"dataframe\">\n",
       "  <thead>\n",
       "    <tr style=\"text-align: right;\">\n",
       "      <th></th>\n",
       "      <th>purchasemonth</th>\n",
       "      <th>customer_id</th>\n",
       "    </tr>\n",
       "  </thead>\n",
       "  <tbody>\n",
       "    <tr>\n",
       "      <th>2</th>\n",
       "      <td>12</td>\n",
       "      <td>32105</td>\n",
       "    </tr>\n",
       "    <tr>\n",
       "      <th>1</th>\n",
       "      <td>2</td>\n",
       "      <td>20365</td>\n",
       "    </tr>\n",
       "    <tr>\n",
       "      <th>0</th>\n",
       "      <td>1</td>\n",
       "      <td>28180</td>\n",
       "    </tr>\n",
       "  </tbody>\n",
       "</table>\n",
       "</div>"
      ],
      "text/plain": [
       "   purchasemonth  customer_id\n",
       "2             12        32105\n",
       "1              2        20365\n",
       "0              1        28180"
      ]
     },
     "execution_count": 120,
     "metadata": {},
     "output_type": "execute_result"
    }
   ],
   "source": [
    "# Количество покупок помесячно для неучастников.\n",
    "\n",
    "x = not_loyalty.groupby('purchasemonth')['customer_id'].count().to_frame().reset_index().sort_values(by=['purchasemonth'], ascending=False)\n",
    "x"
   ]
  },
  {
   "cell_type": "markdown",
   "id": "7de985d9",
   "metadata": {},
   "source": [
    "Визуализируем данные о количестве покупок для участников/неучастников в разбивке по месяцам."
   ]
  },
  {
   "cell_type": "code",
   "execution_count": 121,
   "id": "dfa595b3",
   "metadata": {},
   "outputs": [],
   "source": [
    "df = data_price.groupby(['purchasemonth', 'loyalty_program'])['customer_id'].count().reset_index()"
   ]
  },
  {
   "cell_type": "code",
   "execution_count": 122,
   "id": "3dd2d722",
   "metadata": {
    "scrolled": true
   },
   "outputs": [
    {
     "data": {
      "image/png": "[encoded data removed]",
      "text/plain": [
       "<Figure size 432x288 with 1 Axes>"
      ]
     },
     "metadata": {
      "needs_background": "light"
     },
     "output_type": "display_data"
    }
   ],
   "source": [
    "fig, ax = plt.subplots()\n",
    "ax = sns.barplot(data=df, x='purchasemonth', y=\"customer_id\", hue=\"loyalty_program\", order=[12, 1, 2])\n",
    "\n",
    "plt.xlabel('Месяц')\n",
    "plt.ylabel('Количество покупателей')\n",
    "plt.title('Диаграмма распределения количества покупателей по месяцам')\n",
    "plt.show()\n"
   ]
  },
  {
   "cell_type": "markdown",
   "id": "7f2808e4",
   "metadata": {},
   "source": [
    "В графике разбивки покупок по месяцам не прослеживается тренда на увеличение числа покупок как у неучастников, так и у участников. Есть лишь незначительное увеличение числа покупок участниками в феврале. "
   ]
  },
  {
   "cell_type": "markdown",
   "id": "de9f6a4c",
   "metadata": {},
   "source": [
    "Дополнительно посмотрим количество уникальных покупателей ежемесячно - участники-неучастники."
   ]
  },
  {
   "cell_type": "code",
   "execution_count": 123,
   "id": "0a905971",
   "metadata": {
    "scrolled": true
   },
   "outputs": [
    {
     "data": {
      "text/html": [
       "<div>\n",
       "<style scoped>\n",
       "    .dataframe tbody tr th:only-of-type {\n",
       "        vertical-align: middle;\n",
       "    }\n",
       "\n",
       "    .dataframe tbody tr th {\n",
       "        vertical-align: top;\n",
       "    }\n",
       "\n",
       "    .dataframe thead th {\n",
       "        text-align: right;\n",
       "    }\n",
       "</style>\n",
       "<table border=\"1\" class=\"dataframe\">\n",
       "  <thead>\n",
       "    <tr style=\"text-align: right;\">\n",
       "      <th></th>\n",
       "      <th>purchasemonth</th>\n",
       "      <th>customer_id</th>\n",
       "    </tr>\n",
       "  </thead>\n",
       "  <tbody>\n",
       "    <tr>\n",
       "      <th>0</th>\n",
       "      <td>1</td>\n",
       "      <td>237</td>\n",
       "    </tr>\n",
       "    <tr>\n",
       "      <th>1</th>\n",
       "      <td>2</td>\n",
       "      <td>270</td>\n",
       "    </tr>\n",
       "    <tr>\n",
       "      <th>2</th>\n",
       "      <td>12</td>\n",
       "      <td>344</td>\n",
       "    </tr>\n",
       "  </tbody>\n",
       "</table>\n",
       "</div>"
      ],
      "text/plain": [
       "   purchasemonth  customer_id\n",
       "0              1          237\n",
       "1              2          270\n",
       "2             12          344"
      ]
     },
     "execution_count": 123,
     "metadata": {},
     "output_type": "execute_result"
    }
   ],
   "source": [
    "loyal_uniq = loyalty.groupby('purchasemonth')['customer_id'].nunique().to_frame().reset_index()\n",
    "loyal_uniq"
   ]
  },
  {
   "cell_type": "code",
   "execution_count": 124,
   "id": "bbb82c6d",
   "metadata": {},
   "outputs": [
    {
     "data": {
      "text/html": [
       "<div>\n",
       "<style scoped>\n",
       "    .dataframe tbody tr th:only-of-type {\n",
       "        vertical-align: middle;\n",
       "    }\n",
       "\n",
       "    .dataframe tbody tr th {\n",
       "        vertical-align: top;\n",
       "    }\n",
       "\n",
       "    .dataframe thead th {\n",
       "        text-align: right;\n",
       "    }\n",
       "</style>\n",
       "<table border=\"1\" class=\"dataframe\">\n",
       "  <thead>\n",
       "    <tr style=\"text-align: right;\">\n",
       "      <th></th>\n",
       "      <th>purchasemonth</th>\n",
       "      <th>customer_id</th>\n",
       "    </tr>\n",
       "  </thead>\n",
       "  <tbody>\n",
       "    <tr>\n",
       "      <th>0</th>\n",
       "      <td>1</td>\n",
       "      <td>543</td>\n",
       "    </tr>\n",
       "    <tr>\n",
       "      <th>1</th>\n",
       "      <td>2</td>\n",
       "      <td>527</td>\n",
       "    </tr>\n",
       "    <tr>\n",
       "      <th>2</th>\n",
       "      <td>12</td>\n",
       "      <td>603</td>\n",
       "    </tr>\n",
       "  </tbody>\n",
       "</table>\n",
       "</div>"
      ],
      "text/plain": [
       "   purchasemonth  customer_id\n",
       "0              1          543\n",
       "1              2          527\n",
       "2             12          603"
      ]
     },
     "execution_count": 124,
     "metadata": {},
     "output_type": "execute_result"
    }
   ],
   "source": [
    "not_loyal_uniq = not_loyalty.groupby('purchasemonth')['customer_id'].nunique().to_frame().reset_index()\n",
    "not_loyal_uniq"
   ]
  },
  {
   "cell_type": "code",
   "execution_count": 125,
   "id": "4b15a434",
   "metadata": {},
   "outputs": [],
   "source": [
    "df2 = data_price.groupby(['purchasemonth', 'loyalty_program'])['customer_id'].nunique().reset_index()"
   ]
  },
  {
   "cell_type": "code",
   "execution_count": 126,
   "id": "22e9ffcd",
   "metadata": {},
   "outputs": [
    {
     "data": {
      "image/png": "[encoded data removed]",
      "text/plain": [
       "<Figure size 432x288 with 1 Axes>"
      ]
     },
     "metadata": {
      "needs_background": "light"
     },
     "output_type": "display_data"
    }
   ],
   "source": [
    "fig, ax = plt.subplots()\n",
    "ax = sns.barplot(data=df2, x='purchasemonth', y=\"customer_id\", hue=\"loyalty_program\", order=[12, 1, 2])\n",
    "\n",
    "plt.xlabel('Месяц')\n",
    "plt.ylabel('Количество уникальных покупателей')\n",
    "plt.title('Диаграмма распределения количества уникальных покупателей по месяцам')\n",
    "\n",
    "plt.show()"
   ]
  },
  {
   "cell_type": "markdown",
   "id": "341c8d66",
   "metadata": {},
   "source": [
    "В графике количества уникальных покупателей ежемесячно также нет тренда на увеличение числа уникальных покупателей, как участников, так и неучастников. Есть незначительное увеличение в феврале по отношению к январю уникальных участников программы, совершивших покупки."
   ]
  },
  {
   "cell_type": "markdown",
   "id": "a32bd7cf",
   "metadata": {},
   "source": [
    "Также посмотрим распределение покупателей по месяцам по магазин сети. "
   ]
  },
  {
   "cell_type": "code",
   "execution_count": 127,
   "id": "e57780e6",
   "metadata": {},
   "outputs": [
    {
     "data": {
      "text/html": [
       "<div>\n",
       "<style scoped>\n",
       "    .dataframe tbody tr th:only-of-type {\n",
       "        vertical-align: middle;\n",
       "    }\n",
       "\n",
       "    .dataframe tbody tr th {\n",
       "        vertical-align: top;\n",
       "    }\n",
       "\n",
       "    .dataframe thead th {\n",
       "        text-align: right;\n",
       "    }\n",
       "</style>\n",
       "<table border=\"1\" class=\"dataframe\">\n",
       "  <thead>\n",
       "    <tr style=\"text-align: right;\">\n",
       "      <th></th>\n",
       "      <th>shop_id</th>\n",
       "      <th>purchasemonth</th>\n",
       "      <th>customer_id</th>\n",
       "    </tr>\n",
       "  </thead>\n",
       "  <tbody>\n",
       "    <tr>\n",
       "      <th>0</th>\n",
       "      <td>Shop 0</td>\n",
       "      <td>1</td>\n",
       "      <td>446</td>\n",
       "    </tr>\n",
       "    <tr>\n",
       "      <th>1</th>\n",
       "      <td>Shop 0</td>\n",
       "      <td>2</td>\n",
       "      <td>444</td>\n",
       "    </tr>\n",
       "    <tr>\n",
       "      <th>2</th>\n",
       "      <td>Shop 0</td>\n",
       "      <td>12</td>\n",
       "      <td>528</td>\n",
       "    </tr>\n",
       "    <tr>\n",
       "      <th>3</th>\n",
       "      <td>Shop 1</td>\n",
       "      <td>1</td>\n",
       "      <td>25</td>\n",
       "    </tr>\n",
       "    <tr>\n",
       "      <th>4</th>\n",
       "      <td>Shop 1</td>\n",
       "      <td>2</td>\n",
       "      <td>17</td>\n",
       "    </tr>\n",
       "    <tr>\n",
       "      <th>5</th>\n",
       "      <td>Shop 1</td>\n",
       "      <td>12</td>\n",
       "      <td>15</td>\n",
       "    </tr>\n",
       "    <tr>\n",
       "      <th>6</th>\n",
       "      <td>Shop 10</td>\n",
       "      <td>1</td>\n",
       "      <td>4</td>\n",
       "    </tr>\n",
       "    <tr>\n",
       "      <th>7</th>\n",
       "      <td>Shop 10</td>\n",
       "      <td>2</td>\n",
       "      <td>2</td>\n",
       "    </tr>\n",
       "    <tr>\n",
       "      <th>8</th>\n",
       "      <td>Shop 10</td>\n",
       "      <td>12</td>\n",
       "      <td>6</td>\n",
       "    </tr>\n",
       "    <tr>\n",
       "      <th>9</th>\n",
       "      <td>Shop 11</td>\n",
       "      <td>1</td>\n",
       "      <td>3</td>\n",
       "    </tr>\n",
       "    <tr>\n",
       "      <th>10</th>\n",
       "      <td>Shop 11</td>\n",
       "      <td>2</td>\n",
       "      <td>2</td>\n",
       "    </tr>\n",
       "    <tr>\n",
       "      <th>11</th>\n",
       "      <td>Shop 11</td>\n",
       "      <td>12</td>\n",
       "      <td>3</td>\n",
       "    </tr>\n",
       "    <tr>\n",
       "      <th>12</th>\n",
       "      <td>Shop 12</td>\n",
       "      <td>1</td>\n",
       "      <td>4</td>\n",
       "    </tr>\n",
       "    <tr>\n",
       "      <th>13</th>\n",
       "      <td>Shop 12</td>\n",
       "      <td>2</td>\n",
       "      <td>7</td>\n",
       "    </tr>\n",
       "    <tr>\n",
       "      <th>14</th>\n",
       "      <td>Shop 12</td>\n",
       "      <td>12</td>\n",
       "      <td>4</td>\n",
       "    </tr>\n",
       "    <tr>\n",
       "      <th>15</th>\n",
       "      <td>Shop 13</td>\n",
       "      <td>12</td>\n",
       "      <td>1</td>\n",
       "    </tr>\n",
       "    <tr>\n",
       "      <th>16</th>\n",
       "      <td>Shop 14</td>\n",
       "      <td>1</td>\n",
       "      <td>1</td>\n",
       "    </tr>\n",
       "    <tr>\n",
       "      <th>17</th>\n",
       "      <td>Shop 14</td>\n",
       "      <td>2</td>\n",
       "      <td>2</td>\n",
       "    </tr>\n",
       "    <tr>\n",
       "      <th>18</th>\n",
       "      <td>Shop 14</td>\n",
       "      <td>12</td>\n",
       "      <td>3</td>\n",
       "    </tr>\n",
       "    <tr>\n",
       "      <th>19</th>\n",
       "      <td>Shop 15</td>\n",
       "      <td>1</td>\n",
       "      <td>1</td>\n",
       "    </tr>\n",
       "    <tr>\n",
       "      <th>20</th>\n",
       "      <td>Shop 15</td>\n",
       "      <td>12</td>\n",
       "      <td>1</td>\n",
       "    </tr>\n",
       "    <tr>\n",
       "      <th>21</th>\n",
       "      <td>Shop 16</td>\n",
       "      <td>1</td>\n",
       "      <td>1</td>\n",
       "    </tr>\n",
       "    <tr>\n",
       "      <th>22</th>\n",
       "      <td>Shop 16</td>\n",
       "      <td>2</td>\n",
       "      <td>1</td>\n",
       "    </tr>\n",
       "    <tr>\n",
       "      <th>23</th>\n",
       "      <td>Shop 16</td>\n",
       "      <td>12</td>\n",
       "      <td>1</td>\n",
       "    </tr>\n",
       "    <tr>\n",
       "      <th>24</th>\n",
       "      <td>Shop 17</td>\n",
       "      <td>2</td>\n",
       "      <td>1</td>\n",
       "    </tr>\n",
       "    <tr>\n",
       "      <th>25</th>\n",
       "      <td>Shop 17</td>\n",
       "      <td>12</td>\n",
       "      <td>1</td>\n",
       "    </tr>\n",
       "    <tr>\n",
       "      <th>26</th>\n",
       "      <td>Shop 18</td>\n",
       "      <td>1</td>\n",
       "      <td>1</td>\n",
       "    </tr>\n",
       "    <tr>\n",
       "      <th>27</th>\n",
       "      <td>Shop 18</td>\n",
       "      <td>2</td>\n",
       "      <td>4</td>\n",
       "    </tr>\n",
       "    <tr>\n",
       "      <th>28</th>\n",
       "      <td>Shop 18</td>\n",
       "      <td>12</td>\n",
       "      <td>1</td>\n",
       "    </tr>\n",
       "    <tr>\n",
       "      <th>29</th>\n",
       "      <td>Shop 19</td>\n",
       "      <td>1</td>\n",
       "      <td>1</td>\n",
       "    </tr>\n",
       "  </tbody>\n",
       "</table>\n",
       "</div>"
      ],
      "text/plain": [
       "    shop_id  purchasemonth  customer_id\n",
       "0    Shop 0              1          446\n",
       "1    Shop 0              2          444\n",
       "2    Shop 0             12          528\n",
       "3    Shop 1              1           25\n",
       "4    Shop 1              2           17\n",
       "5    Shop 1             12           15\n",
       "6   Shop 10              1            4\n",
       "7   Shop 10              2            2\n",
       "8   Shop 10             12            6\n",
       "9   Shop 11              1            3\n",
       "10  Shop 11              2            2\n",
       "11  Shop 11             12            3\n",
       "12  Shop 12              1            4\n",
       "13  Shop 12              2            7\n",
       "14  Shop 12             12            4\n",
       "15  Shop 13             12            1\n",
       "16  Shop 14              1            1\n",
       "17  Shop 14              2            2\n",
       "18  Shop 14             12            3\n",
       "19  Shop 15              1            1\n",
       "20  Shop 15             12            1\n",
       "21  Shop 16              1            1\n",
       "22  Shop 16              2            1\n",
       "23  Shop 16             12            1\n",
       "24  Shop 17              2            1\n",
       "25  Shop 17             12            1\n",
       "26  Shop 18              1            1\n",
       "27  Shop 18              2            4\n",
       "28  Shop 18             12            1\n",
       "29  Shop 19              1            1"
      ]
     },
     "execution_count": 127,
     "metadata": {},
     "output_type": "execute_result"
    }
   ],
   "source": [
    "# Количество покупателей-неучастников по магазинам помесячно.\n",
    "\n",
    "not_loyalty.groupby(['shop_id', 'purchasemonth'])['customer_id'].nunique().to_frame().reset_index().head(30)"
   ]
  },
  {
   "cell_type": "markdown",
   "id": "e7a7a2b1",
   "metadata": {},
   "source": [
    "Видим, что не все магазины работали все 3 месяца, скорее всего поэтому мы и не можем выявить наличие какой-либо динамики в количестве покупателей. "
   ]
  },
  {
   "cell_type": "code",
   "execution_count": 128,
   "id": "792236f4",
   "metadata": {
    "scrolled": true
   },
   "outputs": [
    {
     "data": {
      "text/html": [
       "<div>\n",
       "<style scoped>\n",
       "    .dataframe tbody tr th:only-of-type {\n",
       "        vertical-align: middle;\n",
       "    }\n",
       "\n",
       "    .dataframe tbody tr th {\n",
       "        vertical-align: top;\n",
       "    }\n",
       "\n",
       "    .dataframe thead th {\n",
       "        text-align: right;\n",
       "    }\n",
       "</style>\n",
       "<table border=\"1\" class=\"dataframe\">\n",
       "  <thead>\n",
       "    <tr style=\"text-align: right;\">\n",
       "      <th></th>\n",
       "      <th>shop_id</th>\n",
       "      <th>purchasemonth</th>\n",
       "      <th>customer_id</th>\n",
       "    </tr>\n",
       "  </thead>\n",
       "  <tbody>\n",
       "    <tr>\n",
       "      <th>0</th>\n",
       "      <td>Shop 0</td>\n",
       "      <td>1</td>\n",
       "      <td>235</td>\n",
       "    </tr>\n",
       "    <tr>\n",
       "      <th>1</th>\n",
       "      <td>Shop 0</td>\n",
       "      <td>2</td>\n",
       "      <td>269</td>\n",
       "    </tr>\n",
       "    <tr>\n",
       "      <th>2</th>\n",
       "      <td>Shop 0</td>\n",
       "      <td>12</td>\n",
       "      <td>342</td>\n",
       "    </tr>\n",
       "    <tr>\n",
       "      <th>3</th>\n",
       "      <td>Shop 19</td>\n",
       "      <td>1</td>\n",
       "      <td>1</td>\n",
       "    </tr>\n",
       "    <tr>\n",
       "      <th>4</th>\n",
       "      <td>Shop 19</td>\n",
       "      <td>12</td>\n",
       "      <td>1</td>\n",
       "    </tr>\n",
       "    <tr>\n",
       "      <th>5</th>\n",
       "      <td>Shop 28</td>\n",
       "      <td>2</td>\n",
       "      <td>1</td>\n",
       "    </tr>\n",
       "    <tr>\n",
       "      <th>6</th>\n",
       "      <td>Shop 8</td>\n",
       "      <td>1</td>\n",
       "      <td>1</td>\n",
       "    </tr>\n",
       "    <tr>\n",
       "      <th>7</th>\n",
       "      <td>Shop 8</td>\n",
       "      <td>12</td>\n",
       "      <td>1</td>\n",
       "    </tr>\n",
       "  </tbody>\n",
       "</table>\n",
       "</div>"
      ],
      "text/plain": [
       "   shop_id  purchasemonth  customer_id\n",
       "0   Shop 0              1          235\n",
       "1   Shop 0              2          269\n",
       "2   Shop 0             12          342\n",
       "3  Shop 19              1            1\n",
       "4  Shop 19             12            1\n",
       "5  Shop 28              2            1\n",
       "6   Shop 8              1            1\n",
       "7   Shop 8             12            1"
      ]
     },
     "execution_count": 128,
     "metadata": {},
     "output_type": "execute_result"
    }
   ],
   "source": [
    "# Количество покупателей-участников по магазинам помесячно.\n",
    "\n",
    "loyalty.groupby(['shop_id', 'purchasemonth'])['customer_id'].nunique().to_frame().reset_index()"
   ]
  },
  {
   "cell_type": "markdown",
   "id": "8d409b81",
   "metadata": {},
   "source": [
    "Покупатели-участники программы лояльности посещали только 4 магазина сети, и в три из них приходили всего по 1 покупателю ежемесячно. И только один из этих магазинов работал все 3 месяца, остальные либо только открывались, либо наоборот закрывались, сложно составить на основании данных из этих магазинов четкое представление о динамике продаж и посещений. "
   ]
  },
  {
   "cell_type": "markdown",
   "id": "8cd9db56",
   "metadata": {},
   "source": [
    "### Считаем количество покупателей участников в распределении по магазинам, количество чеков, сумму выручки, количество товарных единиц и позиций в чеке. "
   ]
  },
  {
   "cell_type": "code",
   "execution_count": 129,
   "id": "181e18ad",
   "metadata": {
    "scrolled": false
   },
   "outputs": [
    {
     "data": {
      "text/html": [
       "<div>\n",
       "<style scoped>\n",
       "    .dataframe tbody tr th:only-of-type {\n",
       "        vertical-align: middle;\n",
       "    }\n",
       "\n",
       "    .dataframe tbody tr th {\n",
       "        vertical-align: top;\n",
       "    }\n",
       "\n",
       "    .dataframe thead th {\n",
       "        text-align: right;\n",
       "    }\n",
       "</style>\n",
       "<table border=\"1\" class=\"dataframe\">\n",
       "  <thead>\n",
       "    <tr style=\"text-align: right;\">\n",
       "      <th></th>\n",
       "      <th>customer_id</th>\n",
       "      <th>item_id</th>\n",
       "      <th>purchase_id</th>\n",
       "      <th>quantity</th>\n",
       "      <th>total_sales</th>\n",
       "      <th>avg_cheque</th>\n",
       "    </tr>\n",
       "    <tr>\n",
       "      <th>shop_id</th>\n",
       "      <th></th>\n",
       "      <th></th>\n",
       "      <th></th>\n",
       "      <th></th>\n",
       "      <th></th>\n",
       "      <th></th>\n",
       "    </tr>\n",
       "  </thead>\n",
       "  <tbody>\n",
       "    <tr>\n",
       "      <th>Shop 0</th>\n",
       "      <td>582</td>\n",
       "      <td>23248</td>\n",
       "      <td>1328</td>\n",
       "      <td>212321</td>\n",
       "      <td>556228.395</td>\n",
       "      <td>418.846683</td>\n",
       "    </tr>\n",
       "    <tr>\n",
       "      <th>Shop 19</th>\n",
       "      <td>1</td>\n",
       "      <td>48</td>\n",
       "      <td>4</td>\n",
       "      <td>6470</td>\n",
       "      <td>9001.465</td>\n",
       "      <td>2250.366250</td>\n",
       "    </tr>\n",
       "    <tr>\n",
       "      <th>Shop 28</th>\n",
       "      <td>1</td>\n",
       "      <td>30</td>\n",
       "      <td>1</td>\n",
       "      <td>466</td>\n",
       "      <td>1621.895</td>\n",
       "      <td>1621.895000</td>\n",
       "    </tr>\n",
       "    <tr>\n",
       "      <th>Shop 8</th>\n",
       "      <td>1</td>\n",
       "      <td>63</td>\n",
       "      <td>2</td>\n",
       "      <td>52</td>\n",
       "      <td>255.055</td>\n",
       "      <td>127.527500</td>\n",
       "    </tr>\n",
       "  </tbody>\n",
       "</table>\n",
       "</div>"
      ],
      "text/plain": [
       "         customer_id  item_id  purchase_id  quantity  total_sales   avg_cheque\n",
       "shop_id                                                                       \n",
       "Shop 0           582    23248         1328    212321   556228.395   418.846683\n",
       "Shop 19            1       48            4      6470     9001.465  2250.366250\n",
       "Shop 28            1       30            1       466     1621.895  1621.895000\n",
       "Shop 8             1       63            2        52      255.055   127.527500"
      ]
     },
     "execution_count": 129,
     "metadata": {},
     "output_type": "execute_result"
    }
   ],
   "source": [
    "shop_loyal = loyalty.pivot_table(index='shop_id', values=['customer_id', 'purchase_id', 'total_sales', 'item_id', 'quantity'],\n",
    "                    aggfunc={'customer_id': 'nunique', 'purchase_id': 'nunique', 'total_sales': 'sum', 'item_id': 'count', 'quantity': 'sum'})\n",
    "\n",
    "# Считаем средний чек. \n",
    "\n",
    "shop_loyal['avg_cheque'] = shop_loyal['total_sales'] / shop_loyal['purchase_id'] \n",
    "\n",
    "shop_loyal"
   ]
  },
  {
   "cell_type": "markdown",
   "id": "54dcbfa1",
   "metadata": {},
   "source": [
    "Всего в 4 магазинах совершали покупки покупатели- участники программы лояльности. И за исключением 3 клиентов, все остальные участники совершали покупки в Shop 0, что еще раз подтверждает то, что магазин является флагманом сети.\n",
    "\n",
    "В Shop 0 совершали покупки 584 покупателя, купили - 1337 раз, 23271 единиц товара, 221705 - количество товаров, сумма выручки - 562150.  "
   ]
  },
  {
   "cell_type": "markdown",
   "id": "c39035b7",
   "metadata": {},
   "source": [
    "### Считаем количество неучастников программы в распределении по магазинам, количество чеков, сумму выручки, количество товарных единиц и позиций в чеке. "
   ]
  },
  {
   "cell_type": "code",
   "execution_count": 130,
   "id": "1ba3663e",
   "metadata": {
    "scrolled": false
   },
   "outputs": [
    {
     "data": {
      "text/html": [
       "<div>\n",
       "<style scoped>\n",
       "    .dataframe tbody tr th:only-of-type {\n",
       "        vertical-align: middle;\n",
       "    }\n",
       "\n",
       "    .dataframe tbody tr th {\n",
       "        vertical-align: top;\n",
       "    }\n",
       "\n",
       "    .dataframe thead th {\n",
       "        text-align: right;\n",
       "    }\n",
       "</style>\n",
       "<table border=\"1\" class=\"dataframe\">\n",
       "  <thead>\n",
       "    <tr style=\"text-align: right;\">\n",
       "      <th></th>\n",
       "      <th>customer_id</th>\n",
       "      <th>item_id</th>\n",
       "      <th>purchase_id</th>\n",
       "      <th>quantity</th>\n",
       "      <th>total_sales</th>\n",
       "      <th>avg_cheque</th>\n",
       "    </tr>\n",
       "    <tr>\n",
       "      <th>shop_id</th>\n",
       "      <th></th>\n",
       "      <th></th>\n",
       "      <th></th>\n",
       "      <th></th>\n",
       "      <th></th>\n",
       "      <th></th>\n",
       "    </tr>\n",
       "  </thead>\n",
       "  <tbody>\n",
       "    <tr>\n",
       "      <th>Shop 0</th>\n",
       "      <td>985</td>\n",
       "      <td>72866</td>\n",
       "      <td>3102</td>\n",
       "      <td>431476</td>\n",
       "      <td>1192648.725</td>\n",
       "      <td>384.477345</td>\n",
       "    </tr>\n",
       "    <tr>\n",
       "      <th>Shop 1</th>\n",
       "      <td>38</td>\n",
       "      <td>1540</td>\n",
       "      <td>90</td>\n",
       "      <td>17894</td>\n",
       "      <td>48030.905</td>\n",
       "      <td>533.676722</td>\n",
       "    </tr>\n",
       "    <tr>\n",
       "      <th>Shop 10</th>\n",
       "      <td>8</td>\n",
       "      <td>299</td>\n",
       "      <td>15</td>\n",
       "      <td>3282</td>\n",
       "      <td>9949.380</td>\n",
       "      <td>663.292000</td>\n",
       "    </tr>\n",
       "    <tr>\n",
       "      <th>Shop 11</th>\n",
       "      <td>7</td>\n",
       "      <td>169</td>\n",
       "      <td>10</td>\n",
       "      <td>1330</td>\n",
       "      <td>4023.410</td>\n",
       "      <td>402.341000</td>\n",
       "    </tr>\n",
       "    <tr>\n",
       "      <th>Shop 12</th>\n",
       "      <td>10</td>\n",
       "      <td>278</td>\n",
       "      <td>21</td>\n",
       "      <td>3357</td>\n",
       "      <td>6813.930</td>\n",
       "      <td>324.472857</td>\n",
       "    </tr>\n",
       "    <tr>\n",
       "      <th>Shop 13</th>\n",
       "      <td>1</td>\n",
       "      <td>35</td>\n",
       "      <td>4</td>\n",
       "      <td>617</td>\n",
       "      <td>2410.330</td>\n",
       "      <td>602.582500</td>\n",
       "    </tr>\n",
       "    <tr>\n",
       "      <th>Shop 14</th>\n",
       "      <td>4</td>\n",
       "      <td>154</td>\n",
       "      <td>6</td>\n",
       "      <td>6893</td>\n",
       "      <td>22153.325</td>\n",
       "      <td>3692.220833</td>\n",
       "    </tr>\n",
       "    <tr>\n",
       "      <th>Shop 15</th>\n",
       "      <td>1</td>\n",
       "      <td>60</td>\n",
       "      <td>2</td>\n",
       "      <td>574</td>\n",
       "      <td>1736.520</td>\n",
       "      <td>868.260000</td>\n",
       "    </tr>\n",
       "    <tr>\n",
       "      <th>Shop 16</th>\n",
       "      <td>3</td>\n",
       "      <td>59</td>\n",
       "      <td>4</td>\n",
       "      <td>1211</td>\n",
       "      <td>3828.300</td>\n",
       "      <td>957.075000</td>\n",
       "    </tr>\n",
       "    <tr>\n",
       "      <th>Shop 17</th>\n",
       "      <td>2</td>\n",
       "      <td>40</td>\n",
       "      <td>2</td>\n",
       "      <td>638</td>\n",
       "      <td>2236.450</td>\n",
       "      <td>1118.225000</td>\n",
       "    </tr>\n",
       "    <tr>\n",
       "      <th>Shop 18</th>\n",
       "      <td>5</td>\n",
       "      <td>250</td>\n",
       "      <td>9</td>\n",
       "      <td>2994</td>\n",
       "      <td>6476.165</td>\n",
       "      <td>719.573889</td>\n",
       "    </tr>\n",
       "    <tr>\n",
       "      <th>Shop 19</th>\n",
       "      <td>2</td>\n",
       "      <td>26</td>\n",
       "      <td>3</td>\n",
       "      <td>516</td>\n",
       "      <td>1248.135</td>\n",
       "      <td>416.045000</td>\n",
       "    </tr>\n",
       "    <tr>\n",
       "      <th>Shop 2</th>\n",
       "      <td>8</td>\n",
       "      <td>252</td>\n",
       "      <td>19</td>\n",
       "      <td>14495</td>\n",
       "      <td>39356.725</td>\n",
       "      <td>2071.406579</td>\n",
       "    </tr>\n",
       "    <tr>\n",
       "      <th>Shop 20</th>\n",
       "      <td>4</td>\n",
       "      <td>30</td>\n",
       "      <td>4</td>\n",
       "      <td>315</td>\n",
       "      <td>988.945</td>\n",
       "      <td>247.236250</td>\n",
       "    </tr>\n",
       "    <tr>\n",
       "      <th>Shop 21</th>\n",
       "      <td>3</td>\n",
       "      <td>32</td>\n",
       "      <td>3</td>\n",
       "      <td>298</td>\n",
       "      <td>1349.250</td>\n",
       "      <td>449.750000</td>\n",
       "    </tr>\n",
       "    <tr>\n",
       "      <th>Shop 22</th>\n",
       "      <td>3</td>\n",
       "      <td>40</td>\n",
       "      <td>4</td>\n",
       "      <td>2120</td>\n",
       "      <td>3003.470</td>\n",
       "      <td>750.867500</td>\n",
       "    </tr>\n",
       "    <tr>\n",
       "      <th>Shop 23</th>\n",
       "      <td>1</td>\n",
       "      <td>2</td>\n",
       "      <td>2</td>\n",
       "      <td>-2</td>\n",
       "      <td>-8.500</td>\n",
       "      <td>-4.250000</td>\n",
       "    </tr>\n",
       "    <tr>\n",
       "      <th>Shop 24</th>\n",
       "      <td>1</td>\n",
       "      <td>32</td>\n",
       "      <td>1</td>\n",
       "      <td>494</td>\n",
       "      <td>3984.625</td>\n",
       "      <td>3984.625000</td>\n",
       "    </tr>\n",
       "    <tr>\n",
       "      <th>Shop 25</th>\n",
       "      <td>1</td>\n",
       "      <td>53</td>\n",
       "      <td>1</td>\n",
       "      <td>1008</td>\n",
       "      <td>3234.265</td>\n",
       "      <td>3234.265000</td>\n",
       "    </tr>\n",
       "    <tr>\n",
       "      <th>Shop 26</th>\n",
       "      <td>1</td>\n",
       "      <td>55</td>\n",
       "      <td>1</td>\n",
       "      <td>1034</td>\n",
       "      <td>2510.090</td>\n",
       "      <td>2510.090000</td>\n",
       "    </tr>\n",
       "    <tr>\n",
       "      <th>Shop 27</th>\n",
       "      <td>1</td>\n",
       "      <td>45</td>\n",
       "      <td>1</td>\n",
       "      <td>341</td>\n",
       "      <td>2095.470</td>\n",
       "      <td>2095.470000</td>\n",
       "    </tr>\n",
       "    <tr>\n",
       "      <th>Shop 29</th>\n",
       "      <td>1</td>\n",
       "      <td>9</td>\n",
       "      <td>1</td>\n",
       "      <td>71</td>\n",
       "      <td>207.715</td>\n",
       "      <td>207.715000</td>\n",
       "    </tr>\n",
       "    <tr>\n",
       "      <th>Shop 3</th>\n",
       "      <td>4</td>\n",
       "      <td>492</td>\n",
       "      <td>15</td>\n",
       "      <td>43096</td>\n",
       "      <td>101963.465</td>\n",
       "      <td>6797.564333</td>\n",
       "    </tr>\n",
       "    <tr>\n",
       "      <th>Shop 30</th>\n",
       "      <td>1</td>\n",
       "      <td>15</td>\n",
       "      <td>1</td>\n",
       "      <td>331</td>\n",
       "      <td>743.530</td>\n",
       "      <td>743.530000</td>\n",
       "    </tr>\n",
       "    <tr>\n",
       "      <th>Shop 4</th>\n",
       "      <td>43</td>\n",
       "      <td>1739</td>\n",
       "      <td>114</td>\n",
       "      <td>17937</td>\n",
       "      <td>50533.035</td>\n",
       "      <td>443.272237</td>\n",
       "    </tr>\n",
       "    <tr>\n",
       "      <th>Shop 5</th>\n",
       "      <td>3</td>\n",
       "      <td>179</td>\n",
       "      <td>4</td>\n",
       "      <td>3698</td>\n",
       "      <td>6202.610</td>\n",
       "      <td>1550.652500</td>\n",
       "    </tr>\n",
       "    <tr>\n",
       "      <th>Shop 6</th>\n",
       "      <td>4</td>\n",
       "      <td>1029</td>\n",
       "      <td>46</td>\n",
       "      <td>18331</td>\n",
       "      <td>55877.765</td>\n",
       "      <td>1214.734022</td>\n",
       "    </tr>\n",
       "    <tr>\n",
       "      <th>Shop 7</th>\n",
       "      <td>7</td>\n",
       "      <td>312</td>\n",
       "      <td>11</td>\n",
       "      <td>4500</td>\n",
       "      <td>11233.930</td>\n",
       "      <td>1021.266364</td>\n",
       "    </tr>\n",
       "    <tr>\n",
       "      <th>Shop 8</th>\n",
       "      <td>11</td>\n",
       "      <td>497</td>\n",
       "      <td>18</td>\n",
       "      <td>4958</td>\n",
       "      <td>16715.970</td>\n",
       "      <td>928.665000</td>\n",
       "    </tr>\n",
       "    <tr>\n",
       "      <th>Shop 9</th>\n",
       "      <td>2</td>\n",
       "      <td>61</td>\n",
       "      <td>4</td>\n",
       "      <td>664</td>\n",
       "      <td>2415.115</td>\n",
       "      <td>603.778750</td>\n",
       "    </tr>\n",
       "  </tbody>\n",
       "</table>\n",
       "</div>"
      ],
      "text/plain": [
       "         customer_id  item_id  purchase_id  quantity  total_sales   avg_cheque\n",
       "shop_id                                                                       \n",
       "Shop 0           985    72866         3102    431476  1192648.725   384.477345\n",
       "Shop 1            38     1540           90     17894    48030.905   533.676722\n",
       "Shop 10            8      299           15      3282     9949.380   663.292000\n",
       "Shop 11            7      169           10      1330     4023.410   402.341000\n",
       "Shop 12           10      278           21      3357     6813.930   324.472857\n",
       "Shop 13            1       35            4       617     2410.330   602.582500\n",
       "Shop 14            4      154            6      6893    22153.325  3692.220833\n",
       "Shop 15            1       60            2       574     1736.520   868.260000\n",
       "Shop 16            3       59            4      1211     3828.300   957.075000\n",
       "Shop 17            2       40            2       638     2236.450  1118.225000\n",
       "Shop 18            5      250            9      2994     6476.165   719.573889\n",
       "Shop 19            2       26            3       516     1248.135   416.045000\n",
       "Shop 2             8      252           19     14495    39356.725  2071.406579\n",
       "Shop 20            4       30            4       315      988.945   247.236250\n",
       "Shop 21            3       32            3       298     1349.250   449.750000\n",
       "Shop 22            3       40            4      2120     3003.470   750.867500\n",
       "Shop 23            1        2            2        -2       -8.500    -4.250000\n",
       "Shop 24            1       32            1       494     3984.625  3984.625000\n",
       "Shop 25            1       53            1      1008     3234.265  3234.265000\n",
       "Shop 26            1       55            1      1034     2510.090  2510.090000\n",
       "Shop 27            1       45            1       341     2095.470  2095.470000\n",
       "Shop 29            1        9            1        71      207.715   207.715000\n",
       "Shop 3             4      492           15     43096   101963.465  6797.564333\n",
       "Shop 30            1       15            1       331      743.530   743.530000\n",
       "Shop 4            43     1739          114     17937    50533.035   443.272237\n",
       "Shop 5             3      179            4      3698     6202.610  1550.652500\n",
       "Shop 6             4     1029           46     18331    55877.765  1214.734022\n",
       "Shop 7             7      312           11      4500    11233.930  1021.266364\n",
       "Shop 8            11      497           18      4958    16715.970   928.665000\n",
       "Shop 9             2       61            4       664     2415.115   603.778750"
      ]
     },
     "execution_count": 130,
     "metadata": {},
     "output_type": "execute_result"
    }
   ],
   "source": [
    "shop_not_loyal = not_loyalty.pivot_table(index='shop_id', \n",
    "                        values=['customer_id', 'purchase_id', 'total_sales', 'item_id', 'quantity'], \n",
    "                        aggfunc={'customer_id': 'nunique', 'purchase_id': 'nunique', 'total_sales': 'sum', 'item_id': 'count', 'quantity': 'sum'})\n",
    "# Считаем средний чек. \n",
    "\n",
    "shop_not_loyal['avg_cheque'] = shop_not_loyal['total_sales'] / shop_not_loyal['purchase_id'] \n",
    "\n",
    "shop_not_loyal"
   ]
  },
  {
   "cell_type": "markdown",
   "id": "c10362f0",
   "metadata": {},
   "source": [
    "Среди магазинов, в которых совершали покупки неучастники программы на первом месте по посещаемости и выручке также Shop 0. \n",
    "\n",
    "Также выделяется по продажам Shop 3 и Shop 6, которые мы уже отмечали ранее. "
   ]
  },
  {
   "cell_type": "markdown",
   "id": "4568c7c1",
   "metadata": {},
   "source": [
    "Посчитаем процентное соотношение покупателей-участников программы и неучастников программы лояльности. "
   ]
  },
  {
   "cell_type": "code",
   "execution_count": 131,
   "id": "b5c261e3",
   "metadata": {},
   "outputs": [],
   "source": [
    "# Посчитаем всех покупателей в разбивке по магазинам.\n",
    "\n",
    "all_customers = data_price.pivot_table(index=['shop_id'], values='customer_id', \n",
    "                                   aggfunc={'customer_id': 'nunique'}).reset_index()"
   ]
  },
  {
   "cell_type": "code",
   "execution_count": 132,
   "id": "4612c325",
   "metadata": {
    "scrolled": false
   },
   "outputs": [
    {
     "data": {
      "text/html": [
       "<div>\n",
       "<style scoped>\n",
       "    .dataframe tbody tr th:only-of-type {\n",
       "        vertical-align: middle;\n",
       "    }\n",
       "\n",
       "    .dataframe tbody tr th {\n",
       "        vertical-align: top;\n",
       "    }\n",
       "\n",
       "    .dataframe thead th {\n",
       "        text-align: right;\n",
       "    }\n",
       "</style>\n",
       "<table border=\"1\" class=\"dataframe\">\n",
       "  <thead>\n",
       "    <tr style=\"text-align: right;\">\n",
       "      <th></th>\n",
       "      <th>shop_id</th>\n",
       "      <th>loyalty_program</th>\n",
       "      <th>customer_id_x</th>\n",
       "      <th>customer_id_y</th>\n",
       "      <th>ratio_customer</th>\n",
       "    </tr>\n",
       "  </thead>\n",
       "  <tbody>\n",
       "    <tr>\n",
       "      <th>0</th>\n",
       "      <td>Shop 0</td>\n",
       "      <td>0</td>\n",
       "      <td>985</td>\n",
       "      <td>1567</td>\n",
       "      <td>62.858966</td>\n",
       "    </tr>\n",
       "    <tr>\n",
       "      <th>1</th>\n",
       "      <td>Shop 0</td>\n",
       "      <td>1</td>\n",
       "      <td>582</td>\n",
       "      <td>1567</td>\n",
       "      <td>37.141034</td>\n",
       "    </tr>\n",
       "    <tr>\n",
       "      <th>2</th>\n",
       "      <td>Shop 1</td>\n",
       "      <td>0</td>\n",
       "      <td>38</td>\n",
       "      <td>38</td>\n",
       "      <td>100.000000</td>\n",
       "    </tr>\n",
       "    <tr>\n",
       "      <th>3</th>\n",
       "      <td>Shop 10</td>\n",
       "      <td>0</td>\n",
       "      <td>8</td>\n",
       "      <td>8</td>\n",
       "      <td>100.000000</td>\n",
       "    </tr>\n",
       "    <tr>\n",
       "      <th>4</th>\n",
       "      <td>Shop 11</td>\n",
       "      <td>0</td>\n",
       "      <td>7</td>\n",
       "      <td>7</td>\n",
       "      <td>100.000000</td>\n",
       "    </tr>\n",
       "    <tr>\n",
       "      <th>5</th>\n",
       "      <td>Shop 12</td>\n",
       "      <td>0</td>\n",
       "      <td>10</td>\n",
       "      <td>10</td>\n",
       "      <td>100.000000</td>\n",
       "    </tr>\n",
       "    <tr>\n",
       "      <th>6</th>\n",
       "      <td>Shop 13</td>\n",
       "      <td>0</td>\n",
       "      <td>1</td>\n",
       "      <td>1</td>\n",
       "      <td>100.000000</td>\n",
       "    </tr>\n",
       "    <tr>\n",
       "      <th>7</th>\n",
       "      <td>Shop 14</td>\n",
       "      <td>0</td>\n",
       "      <td>4</td>\n",
       "      <td>4</td>\n",
       "      <td>100.000000</td>\n",
       "    </tr>\n",
       "    <tr>\n",
       "      <th>8</th>\n",
       "      <td>Shop 15</td>\n",
       "      <td>0</td>\n",
       "      <td>1</td>\n",
       "      <td>1</td>\n",
       "      <td>100.000000</td>\n",
       "    </tr>\n",
       "    <tr>\n",
       "      <th>9</th>\n",
       "      <td>Shop 16</td>\n",
       "      <td>0</td>\n",
       "      <td>3</td>\n",
       "      <td>3</td>\n",
       "      <td>100.000000</td>\n",
       "    </tr>\n",
       "    <tr>\n",
       "      <th>10</th>\n",
       "      <td>Shop 17</td>\n",
       "      <td>0</td>\n",
       "      <td>2</td>\n",
       "      <td>2</td>\n",
       "      <td>100.000000</td>\n",
       "    </tr>\n",
       "    <tr>\n",
       "      <th>11</th>\n",
       "      <td>Shop 18</td>\n",
       "      <td>0</td>\n",
       "      <td>5</td>\n",
       "      <td>5</td>\n",
       "      <td>100.000000</td>\n",
       "    </tr>\n",
       "    <tr>\n",
       "      <th>12</th>\n",
       "      <td>Shop 19</td>\n",
       "      <td>0</td>\n",
       "      <td>2</td>\n",
       "      <td>3</td>\n",
       "      <td>66.666667</td>\n",
       "    </tr>\n",
       "    <tr>\n",
       "      <th>13</th>\n",
       "      <td>Shop 19</td>\n",
       "      <td>1</td>\n",
       "      <td>1</td>\n",
       "      <td>3</td>\n",
       "      <td>33.333333</td>\n",
       "    </tr>\n",
       "    <tr>\n",
       "      <th>14</th>\n",
       "      <td>Shop 2</td>\n",
       "      <td>0</td>\n",
       "      <td>8</td>\n",
       "      <td>8</td>\n",
       "      <td>100.000000</td>\n",
       "    </tr>\n",
       "    <tr>\n",
       "      <th>15</th>\n",
       "      <td>Shop 20</td>\n",
       "      <td>0</td>\n",
       "      <td>4</td>\n",
       "      <td>4</td>\n",
       "      <td>100.000000</td>\n",
       "    </tr>\n",
       "    <tr>\n",
       "      <th>16</th>\n",
       "      <td>Shop 21</td>\n",
       "      <td>0</td>\n",
       "      <td>3</td>\n",
       "      <td>3</td>\n",
       "      <td>100.000000</td>\n",
       "    </tr>\n",
       "    <tr>\n",
       "      <th>17</th>\n",
       "      <td>Shop 22</td>\n",
       "      <td>0</td>\n",
       "      <td>3</td>\n",
       "      <td>3</td>\n",
       "      <td>100.000000</td>\n",
       "    </tr>\n",
       "    <tr>\n",
       "      <th>18</th>\n",
       "      <td>Shop 23</td>\n",
       "      <td>0</td>\n",
       "      <td>1</td>\n",
       "      <td>1</td>\n",
       "      <td>100.000000</td>\n",
       "    </tr>\n",
       "    <tr>\n",
       "      <th>19</th>\n",
       "      <td>Shop 24</td>\n",
       "      <td>0</td>\n",
       "      <td>1</td>\n",
       "      <td>1</td>\n",
       "      <td>100.000000</td>\n",
       "    </tr>\n",
       "    <tr>\n",
       "      <th>20</th>\n",
       "      <td>Shop 25</td>\n",
       "      <td>0</td>\n",
       "      <td>1</td>\n",
       "      <td>1</td>\n",
       "      <td>100.000000</td>\n",
       "    </tr>\n",
       "    <tr>\n",
       "      <th>21</th>\n",
       "      <td>Shop 26</td>\n",
       "      <td>0</td>\n",
       "      <td>1</td>\n",
       "      <td>1</td>\n",
       "      <td>100.000000</td>\n",
       "    </tr>\n",
       "    <tr>\n",
       "      <th>22</th>\n",
       "      <td>Shop 27</td>\n",
       "      <td>0</td>\n",
       "      <td>1</td>\n",
       "      <td>1</td>\n",
       "      <td>100.000000</td>\n",
       "    </tr>\n",
       "    <tr>\n",
       "      <th>23</th>\n",
       "      <td>Shop 28</td>\n",
       "      <td>1</td>\n",
       "      <td>1</td>\n",
       "      <td>1</td>\n",
       "      <td>100.000000</td>\n",
       "    </tr>\n",
       "    <tr>\n",
       "      <th>24</th>\n",
       "      <td>Shop 29</td>\n",
       "      <td>0</td>\n",
       "      <td>1</td>\n",
       "      <td>1</td>\n",
       "      <td>100.000000</td>\n",
       "    </tr>\n",
       "    <tr>\n",
       "      <th>25</th>\n",
       "      <td>Shop 3</td>\n",
       "      <td>0</td>\n",
       "      <td>4</td>\n",
       "      <td>4</td>\n",
       "      <td>100.000000</td>\n",
       "    </tr>\n",
       "    <tr>\n",
       "      <th>26</th>\n",
       "      <td>Shop 30</td>\n",
       "      <td>0</td>\n",
       "      <td>1</td>\n",
       "      <td>1</td>\n",
       "      <td>100.000000</td>\n",
       "    </tr>\n",
       "    <tr>\n",
       "      <th>27</th>\n",
       "      <td>Shop 4</td>\n",
       "      <td>0</td>\n",
       "      <td>43</td>\n",
       "      <td>43</td>\n",
       "      <td>100.000000</td>\n",
       "    </tr>\n",
       "    <tr>\n",
       "      <th>28</th>\n",
       "      <td>Shop 5</td>\n",
       "      <td>0</td>\n",
       "      <td>3</td>\n",
       "      <td>3</td>\n",
       "      <td>100.000000</td>\n",
       "    </tr>\n",
       "    <tr>\n",
       "      <th>29</th>\n",
       "      <td>Shop 6</td>\n",
       "      <td>0</td>\n",
       "      <td>4</td>\n",
       "      <td>4</td>\n",
       "      <td>100.000000</td>\n",
       "    </tr>\n",
       "    <tr>\n",
       "      <th>30</th>\n",
       "      <td>Shop 7</td>\n",
       "      <td>0</td>\n",
       "      <td>7</td>\n",
       "      <td>7</td>\n",
       "      <td>100.000000</td>\n",
       "    </tr>\n",
       "    <tr>\n",
       "      <th>31</th>\n",
       "      <td>Shop 8</td>\n",
       "      <td>0</td>\n",
       "      <td>11</td>\n",
       "      <td>12</td>\n",
       "      <td>91.666667</td>\n",
       "    </tr>\n",
       "    <tr>\n",
       "      <th>32</th>\n",
       "      <td>Shop 8</td>\n",
       "      <td>1</td>\n",
       "      <td>1</td>\n",
       "      <td>12</td>\n",
       "      <td>8.333333</td>\n",
       "    </tr>\n",
       "    <tr>\n",
       "      <th>33</th>\n",
       "      <td>Shop 9</td>\n",
       "      <td>0</td>\n",
       "      <td>2</td>\n",
       "      <td>2</td>\n",
       "      <td>100.000000</td>\n",
       "    </tr>\n",
       "  </tbody>\n",
       "</table>\n",
       "</div>"
      ],
      "text/plain": [
       "    shop_id  loyalty_program  customer_id_x  customer_id_y  ratio_customer\n",
       "0    Shop 0                0            985           1567       62.858966\n",
       "1    Shop 0                1            582           1567       37.141034\n",
       "2    Shop 1                0             38             38      100.000000\n",
       "3   Shop 10                0              8              8      100.000000\n",
       "4   Shop 11                0              7              7      100.000000\n",
       "5   Shop 12                0             10             10      100.000000\n",
       "6   Shop 13                0              1              1      100.000000\n",
       "7   Shop 14                0              4              4      100.000000\n",
       "8   Shop 15                0              1              1      100.000000\n",
       "9   Shop 16                0              3              3      100.000000\n",
       "10  Shop 17                0              2              2      100.000000\n",
       "11  Shop 18                0              5              5      100.000000\n",
       "12  Shop 19                0              2              3       66.666667\n",
       "13  Shop 19                1              1              3       33.333333\n",
       "14   Shop 2                0              8              8      100.000000\n",
       "15  Shop 20                0              4              4      100.000000\n",
       "16  Shop 21                0              3              3      100.000000\n",
       "17  Shop 22                0              3              3      100.000000\n",
       "18  Shop 23                0              1              1      100.000000\n",
       "19  Shop 24                0              1              1      100.000000\n",
       "20  Shop 25                0              1              1      100.000000\n",
       "21  Shop 26                0              1              1      100.000000\n",
       "22  Shop 27                0              1              1      100.000000\n",
       "23  Shop 28                1              1              1      100.000000\n",
       "24  Shop 29                0              1              1      100.000000\n",
       "25   Shop 3                0              4              4      100.000000\n",
       "26  Shop 30                0              1              1      100.000000\n",
       "27   Shop 4                0             43             43      100.000000\n",
       "28   Shop 5                0              3              3      100.000000\n",
       "29   Shop 6                0              4              4      100.000000\n",
       "30   Shop 7                0              7              7      100.000000\n",
       "31   Shop 8                0             11             12       91.666667\n",
       "32   Shop 8                1              1             12        8.333333\n",
       "33   Shop 9                0              2              2      100.000000"
      ]
     },
     "execution_count": 132,
     "metadata": {},
     "output_type": "execute_result"
    }
   ],
   "source": [
    "# Присоединяем общее число покупателей по магазинам. \n",
    "\n",
    "customers = data_price.pivot_table(index=['shop_id', 'loyalty_program'], values='customer_id', \n",
    "                                   aggfunc={'customer_id': 'nunique'}).reset_index().merge(all_customers, \n",
    "                                                                                           how='left', on=None, left_on='shop_id', right_on='shop_id')\n",
    "# Считаем % участников-неучастников.\n",
    "\n",
    "customers['ratio_customer'] = customers['customer_id_x'] / customers['customer_id_y'] * 100\n",
    "\n",
    "customers"
   ]
  },
  {
   "cell_type": "markdown",
   "id": "598b2019",
   "metadata": {},
   "source": [
    "Распределение числа покупателей для наших 4-ех магазинов, в которых совершали покупки участники программы лояльности:\n",
    "- Shop 0 - 37% участники 62% - неучастники;\n",
    "- Shop 19 - 33% участники, 66% - неучастники;\n",
    "- Shop 28 - 100% покупок совершили участники - 1 покупку, которая попала в нашу выборку;\n",
    "- Shop 8 - 8 % участники, 91% - неучастники.\n",
    "    "
   ]
  },
  {
   "cell_type": "markdown",
   "id": "d4562233",
   "metadata": {},
   "source": [
    "### Определим долю от совокупного объема продаж/возвратов для каждого магазина, которую принесли ему покупатели-участники программы лояльности."
   ]
  },
  {
   "cell_type": "code",
   "execution_count": 133,
   "id": "19ce701e",
   "metadata": {},
   "outputs": [
    {
     "data": {
      "text/html": [
       "<div>\n",
       "<style scoped>\n",
       "    .dataframe tbody tr th:only-of-type {\n",
       "        vertical-align: middle;\n",
       "    }\n",
       "\n",
       "    .dataframe tbody tr th {\n",
       "        vertical-align: top;\n",
       "    }\n",
       "\n",
       "    .dataframe thead th {\n",
       "        text-align: right;\n",
       "    }\n",
       "</style>\n",
       "<table border=\"1\" class=\"dataframe\">\n",
       "  <thead>\n",
       "    <tr style=\"text-align: right;\">\n",
       "      <th></th>\n",
       "      <th>shop_id</th>\n",
       "      <th>total_sales</th>\n",
       "    </tr>\n",
       "  </thead>\n",
       "  <tbody>\n",
       "    <tr>\n",
       "      <th>0</th>\n",
       "      <td>Shop 0</td>\n",
       "      <td>1855918.860</td>\n",
       "    </tr>\n",
       "    <tr>\n",
       "      <th>1</th>\n",
       "      <td>Shop 1</td>\n",
       "      <td>48615.330</td>\n",
       "    </tr>\n",
       "    <tr>\n",
       "      <th>2</th>\n",
       "      <td>Shop 10</td>\n",
       "      <td>10140.660</td>\n",
       "    </tr>\n",
       "    <tr>\n",
       "      <th>3</th>\n",
       "      <td>Shop 11</td>\n",
       "      <td>4146.200</td>\n",
       "    </tr>\n",
       "    <tr>\n",
       "      <th>4</th>\n",
       "      <td>Shop 12</td>\n",
       "      <td>6945.110</td>\n",
       "    </tr>\n",
       "    <tr>\n",
       "      <th>5</th>\n",
       "      <td>Shop 13</td>\n",
       "      <td>2410.330</td>\n",
       "    </tr>\n",
       "    <tr>\n",
       "      <th>6</th>\n",
       "      <td>Shop 14</td>\n",
       "      <td>22346.055</td>\n",
       "    </tr>\n",
       "    <tr>\n",
       "      <th>7</th>\n",
       "      <td>Shop 15</td>\n",
       "      <td>1736.520</td>\n",
       "    </tr>\n",
       "    <tr>\n",
       "      <th>8</th>\n",
       "      <td>Shop 16</td>\n",
       "      <td>3896.055</td>\n",
       "    </tr>\n",
       "    <tr>\n",
       "      <th>9</th>\n",
       "      <td>Shop 17</td>\n",
       "      <td>2236.450</td>\n",
       "    </tr>\n",
       "    <tr>\n",
       "      <th>10</th>\n",
       "      <td>Shop 18</td>\n",
       "      <td>6501.665</td>\n",
       "    </tr>\n",
       "    <tr>\n",
       "      <th>11</th>\n",
       "      <td>Shop 19</td>\n",
       "      <td>11299.830</td>\n",
       "    </tr>\n",
       "    <tr>\n",
       "      <th>12</th>\n",
       "      <td>Shop 2</td>\n",
       "      <td>39523.415</td>\n",
       "    </tr>\n",
       "    <tr>\n",
       "      <th>13</th>\n",
       "      <td>Shop 20</td>\n",
       "      <td>1020.060</td>\n",
       "    </tr>\n",
       "    <tr>\n",
       "      <th>14</th>\n",
       "      <td>Shop 21</td>\n",
       "      <td>1629.600</td>\n",
       "    </tr>\n",
       "    <tr>\n",
       "      <th>15</th>\n",
       "      <td>Shop 22</td>\n",
       "      <td>3003.470</td>\n",
       "    </tr>\n",
       "    <tr>\n",
       "      <th>16</th>\n",
       "      <td>Shop 23</td>\n",
       "      <td>225.250</td>\n",
       "    </tr>\n",
       "    <tr>\n",
       "      <th>17</th>\n",
       "      <td>Shop 24</td>\n",
       "      <td>3984.625</td>\n",
       "    </tr>\n",
       "    <tr>\n",
       "      <th>18</th>\n",
       "      <td>Shop 25</td>\n",
       "      <td>3234.265</td>\n",
       "    </tr>\n",
       "    <tr>\n",
       "      <th>19</th>\n",
       "      <td>Shop 26</td>\n",
       "      <td>2510.090</td>\n",
       "    </tr>\n",
       "    <tr>\n",
       "      <th>20</th>\n",
       "      <td>Shop 27</td>\n",
       "      <td>2095.470</td>\n",
       "    </tr>\n",
       "    <tr>\n",
       "      <th>21</th>\n",
       "      <td>Shop 28</td>\n",
       "      <td>1621.895</td>\n",
       "    </tr>\n",
       "    <tr>\n",
       "      <th>22</th>\n",
       "      <td>Shop 29</td>\n",
       "      <td>207.715</td>\n",
       "    </tr>\n",
       "    <tr>\n",
       "      <th>23</th>\n",
       "      <td>Shop 3</td>\n",
       "      <td>102070.050</td>\n",
       "    </tr>\n",
       "    <tr>\n",
       "      <th>24</th>\n",
       "      <td>Shop 30</td>\n",
       "      <td>743.530</td>\n",
       "    </tr>\n",
       "    <tr>\n",
       "      <th>25</th>\n",
       "      <td>Shop 4</td>\n",
       "      <td>53748.865</td>\n",
       "    </tr>\n",
       "    <tr>\n",
       "      <th>26</th>\n",
       "      <td>Shop 5</td>\n",
       "      <td>6202.610</td>\n",
       "    </tr>\n",
       "    <tr>\n",
       "      <th>27</th>\n",
       "      <td>Shop 6</td>\n",
       "      <td>62409.140</td>\n",
       "    </tr>\n",
       "    <tr>\n",
       "      <th>28</th>\n",
       "      <td>Shop 7</td>\n",
       "      <td>11271.100</td>\n",
       "    </tr>\n",
       "    <tr>\n",
       "      <th>29</th>\n",
       "      <td>Shop 8</td>\n",
       "      <td>17188.245</td>\n",
       "    </tr>\n",
       "    <tr>\n",
       "      <th>30</th>\n",
       "      <td>Shop 9</td>\n",
       "      <td>2415.115</td>\n",
       "    </tr>\n",
       "  </tbody>\n",
       "</table>\n",
       "</div>"
      ],
      "text/plain": [
       "    shop_id  total_sales\n",
       "0    Shop 0  1855918.860\n",
       "1    Shop 1    48615.330\n",
       "2   Shop 10    10140.660\n",
       "3   Shop 11     4146.200\n",
       "4   Shop 12     6945.110\n",
       "5   Shop 13     2410.330\n",
       "6   Shop 14    22346.055\n",
       "7   Shop 15     1736.520\n",
       "8   Shop 16     3896.055\n",
       "9   Shop 17     2236.450\n",
       "10  Shop 18     6501.665\n",
       "11  Shop 19    11299.830\n",
       "12   Shop 2    39523.415\n",
       "13  Shop 20     1020.060\n",
       "14  Shop 21     1629.600\n",
       "15  Shop 22     3003.470\n",
       "16  Shop 23      225.250\n",
       "17  Shop 24     3984.625\n",
       "18  Shop 25     3234.265\n",
       "19  Shop 26     2510.090\n",
       "20  Shop 27     2095.470\n",
       "21  Shop 28     1621.895\n",
       "22  Shop 29      207.715\n",
       "23   Shop 3   102070.050\n",
       "24  Shop 30      743.530\n",
       "25   Shop 4    53748.865\n",
       "26   Shop 5     6202.610\n",
       "27   Shop 6    62409.140\n",
       "28   Shop 7    11271.100\n",
       "29   Shop 8    17188.245\n",
       "30   Shop 9     2415.115"
      ]
     },
     "execution_count": 133,
     "metadata": {},
     "output_type": "execute_result"
    }
   ],
   "source": [
    "# Считаем сумму выручки для каждого магазина.\n",
    "\n",
    "all_sales = data_price_sales.groupby(['shop_id'])['total_sales'].sum().to_frame().reset_index()\n",
    "all_sales"
   ]
  },
  {
   "cell_type": "code",
   "execution_count": 134,
   "id": "a60739f6",
   "metadata": {
    "scrolled": false
   },
   "outputs": [
    {
     "data": {
      "text/html": [
       "<div>\n",
       "<style scoped>\n",
       "    .dataframe tbody tr th:only-of-type {\n",
       "        vertical-align: middle;\n",
       "    }\n",
       "\n",
       "    .dataframe tbody tr th {\n",
       "        vertical-align: top;\n",
       "    }\n",
       "\n",
       "    .dataframe thead th {\n",
       "        text-align: right;\n",
       "    }\n",
       "</style>\n",
       "<table border=\"1\" class=\"dataframe\">\n",
       "  <thead>\n",
       "    <tr style=\"text-align: right;\">\n",
       "      <th></th>\n",
       "      <th>shop_id</th>\n",
       "      <th>loyalty_program</th>\n",
       "      <th>total_sales_x</th>\n",
       "      <th>total_sales_y</th>\n",
       "      <th>ratio</th>\n",
       "    </tr>\n",
       "  </thead>\n",
       "  <tbody>\n",
       "    <tr>\n",
       "      <th>0</th>\n",
       "      <td>Shop 0</td>\n",
       "      <td>0</td>\n",
       "      <td>1284481.060</td>\n",
       "      <td>1855918.860</td>\n",
       "      <td>69.209979</td>\n",
       "    </tr>\n",
       "    <tr>\n",
       "      <th>1</th>\n",
       "      <td>Shop 0</td>\n",
       "      <td>1</td>\n",
       "      <td>571437.800</td>\n",
       "      <td>1855918.860</td>\n",
       "      <td>30.790021</td>\n",
       "    </tr>\n",
       "    <tr>\n",
       "      <th>2</th>\n",
       "      <td>Shop 1</td>\n",
       "      <td>0</td>\n",
       "      <td>48615.330</td>\n",
       "      <td>48615.330</td>\n",
       "      <td>100.000000</td>\n",
       "    </tr>\n",
       "    <tr>\n",
       "      <th>3</th>\n",
       "      <td>Shop 10</td>\n",
       "      <td>0</td>\n",
       "      <td>10140.660</td>\n",
       "      <td>10140.660</td>\n",
       "      <td>100.000000</td>\n",
       "    </tr>\n",
       "    <tr>\n",
       "      <th>4</th>\n",
       "      <td>Shop 11</td>\n",
       "      <td>0</td>\n",
       "      <td>4146.200</td>\n",
       "      <td>4146.200</td>\n",
       "      <td>100.000000</td>\n",
       "    </tr>\n",
       "    <tr>\n",
       "      <th>5</th>\n",
       "      <td>Shop 12</td>\n",
       "      <td>0</td>\n",
       "      <td>6945.110</td>\n",
       "      <td>6945.110</td>\n",
       "      <td>100.000000</td>\n",
       "    </tr>\n",
       "    <tr>\n",
       "      <th>6</th>\n",
       "      <td>Shop 13</td>\n",
       "      <td>0</td>\n",
       "      <td>2410.330</td>\n",
       "      <td>2410.330</td>\n",
       "      <td>100.000000</td>\n",
       "    </tr>\n",
       "    <tr>\n",
       "      <th>7</th>\n",
       "      <td>Shop 14</td>\n",
       "      <td>0</td>\n",
       "      <td>22346.055</td>\n",
       "      <td>22346.055</td>\n",
       "      <td>100.000000</td>\n",
       "    </tr>\n",
       "    <tr>\n",
       "      <th>8</th>\n",
       "      <td>Shop 15</td>\n",
       "      <td>0</td>\n",
       "      <td>1736.520</td>\n",
       "      <td>1736.520</td>\n",
       "      <td>100.000000</td>\n",
       "    </tr>\n",
       "    <tr>\n",
       "      <th>9</th>\n",
       "      <td>Shop 16</td>\n",
       "      <td>0</td>\n",
       "      <td>3896.055</td>\n",
       "      <td>3896.055</td>\n",
       "      <td>100.000000</td>\n",
       "    </tr>\n",
       "    <tr>\n",
       "      <th>10</th>\n",
       "      <td>Shop 17</td>\n",
       "      <td>0</td>\n",
       "      <td>2236.450</td>\n",
       "      <td>2236.450</td>\n",
       "      <td>100.000000</td>\n",
       "    </tr>\n",
       "    <tr>\n",
       "      <th>11</th>\n",
       "      <td>Shop 18</td>\n",
       "      <td>0</td>\n",
       "      <td>6501.665</td>\n",
       "      <td>6501.665</td>\n",
       "      <td>100.000000</td>\n",
       "    </tr>\n",
       "    <tr>\n",
       "      <th>12</th>\n",
       "      <td>Shop 19</td>\n",
       "      <td>0</td>\n",
       "      <td>1274.115</td>\n",
       "      <td>11299.830</td>\n",
       "      <td>11.275524</td>\n",
       "    </tr>\n",
       "    <tr>\n",
       "      <th>13</th>\n",
       "      <td>Shop 19</td>\n",
       "      <td>1</td>\n",
       "      <td>10025.715</td>\n",
       "      <td>11299.830</td>\n",
       "      <td>88.724476</td>\n",
       "    </tr>\n",
       "    <tr>\n",
       "      <th>14</th>\n",
       "      <td>Shop 2</td>\n",
       "      <td>0</td>\n",
       "      <td>39523.415</td>\n",
       "      <td>39523.415</td>\n",
       "      <td>100.000000</td>\n",
       "    </tr>\n",
       "    <tr>\n",
       "      <th>15</th>\n",
       "      <td>Shop 20</td>\n",
       "      <td>0</td>\n",
       "      <td>1020.060</td>\n",
       "      <td>1020.060</td>\n",
       "      <td>100.000000</td>\n",
       "    </tr>\n",
       "    <tr>\n",
       "      <th>16</th>\n",
       "      <td>Shop 21</td>\n",
       "      <td>0</td>\n",
       "      <td>1629.600</td>\n",
       "      <td>1629.600</td>\n",
       "      <td>100.000000</td>\n",
       "    </tr>\n",
       "    <tr>\n",
       "      <th>17</th>\n",
       "      <td>Shop 22</td>\n",
       "      <td>0</td>\n",
       "      <td>3003.470</td>\n",
       "      <td>3003.470</td>\n",
       "      <td>100.000000</td>\n",
       "    </tr>\n",
       "    <tr>\n",
       "      <th>18</th>\n",
       "      <td>Shop 23</td>\n",
       "      <td>0</td>\n",
       "      <td>225.250</td>\n",
       "      <td>225.250</td>\n",
       "      <td>100.000000</td>\n",
       "    </tr>\n",
       "    <tr>\n",
       "      <th>19</th>\n",
       "      <td>Shop 24</td>\n",
       "      <td>0</td>\n",
       "      <td>3984.625</td>\n",
       "      <td>3984.625</td>\n",
       "      <td>100.000000</td>\n",
       "    </tr>\n",
       "    <tr>\n",
       "      <th>20</th>\n",
       "      <td>Shop 25</td>\n",
       "      <td>0</td>\n",
       "      <td>3234.265</td>\n",
       "      <td>3234.265</td>\n",
       "      <td>100.000000</td>\n",
       "    </tr>\n",
       "    <tr>\n",
       "      <th>21</th>\n",
       "      <td>Shop 26</td>\n",
       "      <td>0</td>\n",
       "      <td>2510.090</td>\n",
       "      <td>2510.090</td>\n",
       "      <td>100.000000</td>\n",
       "    </tr>\n",
       "    <tr>\n",
       "      <th>22</th>\n",
       "      <td>Shop 27</td>\n",
       "      <td>0</td>\n",
       "      <td>2095.470</td>\n",
       "      <td>2095.470</td>\n",
       "      <td>100.000000</td>\n",
       "    </tr>\n",
       "    <tr>\n",
       "      <th>23</th>\n",
       "      <td>Shop 28</td>\n",
       "      <td>1</td>\n",
       "      <td>1621.895</td>\n",
       "      <td>1621.895</td>\n",
       "      <td>100.000000</td>\n",
       "    </tr>\n",
       "    <tr>\n",
       "      <th>24</th>\n",
       "      <td>Shop 29</td>\n",
       "      <td>0</td>\n",
       "      <td>207.715</td>\n",
       "      <td>207.715</td>\n",
       "      <td>100.000000</td>\n",
       "    </tr>\n",
       "    <tr>\n",
       "      <th>25</th>\n",
       "      <td>Shop 3</td>\n",
       "      <td>0</td>\n",
       "      <td>102070.050</td>\n",
       "      <td>102070.050</td>\n",
       "      <td>100.000000</td>\n",
       "    </tr>\n",
       "    <tr>\n",
       "      <th>26</th>\n",
       "      <td>Shop 30</td>\n",
       "      <td>0</td>\n",
       "      <td>743.530</td>\n",
       "      <td>743.530</td>\n",
       "      <td>100.000000</td>\n",
       "    </tr>\n",
       "    <tr>\n",
       "      <th>27</th>\n",
       "      <td>Shop 4</td>\n",
       "      <td>0</td>\n",
       "      <td>53748.865</td>\n",
       "      <td>53748.865</td>\n",
       "      <td>100.000000</td>\n",
       "    </tr>\n",
       "    <tr>\n",
       "      <th>28</th>\n",
       "      <td>Shop 5</td>\n",
       "      <td>0</td>\n",
       "      <td>6202.610</td>\n",
       "      <td>6202.610</td>\n",
       "      <td>100.000000</td>\n",
       "    </tr>\n",
       "    <tr>\n",
       "      <th>29</th>\n",
       "      <td>Shop 6</td>\n",
       "      <td>0</td>\n",
       "      <td>62409.140</td>\n",
       "      <td>62409.140</td>\n",
       "      <td>100.000000</td>\n",
       "    </tr>\n",
       "    <tr>\n",
       "      <th>30</th>\n",
       "      <td>Shop 7</td>\n",
       "      <td>0</td>\n",
       "      <td>11271.100</td>\n",
       "      <td>11271.100</td>\n",
       "      <td>100.000000</td>\n",
       "    </tr>\n",
       "    <tr>\n",
       "      <th>31</th>\n",
       "      <td>Shop 8</td>\n",
       "      <td>0</td>\n",
       "      <td>16933.190</td>\n",
       "      <td>17188.245</td>\n",
       "      <td>98.516108</td>\n",
       "    </tr>\n",
       "    <tr>\n",
       "      <th>32</th>\n",
       "      <td>Shop 8</td>\n",
       "      <td>1</td>\n",
       "      <td>255.055</td>\n",
       "      <td>17188.245</td>\n",
       "      <td>1.483892</td>\n",
       "    </tr>\n",
       "    <tr>\n",
       "      <th>33</th>\n",
       "      <td>Shop 9</td>\n",
       "      <td>0</td>\n",
       "      <td>2415.115</td>\n",
       "      <td>2415.115</td>\n",
       "      <td>100.000000</td>\n",
       "    </tr>\n",
       "  </tbody>\n",
       "</table>\n",
       "</div>"
      ],
      "text/plain": [
       "    shop_id  loyalty_program  total_sales_x  total_sales_y       ratio\n",
       "0    Shop 0                0    1284481.060    1855918.860   69.209979\n",
       "1    Shop 0                1     571437.800    1855918.860   30.790021\n",
       "2    Shop 1                0      48615.330      48615.330  100.000000\n",
       "3   Shop 10                0      10140.660      10140.660  100.000000\n",
       "4   Shop 11                0       4146.200       4146.200  100.000000\n",
       "5   Shop 12                0       6945.110       6945.110  100.000000\n",
       "6   Shop 13                0       2410.330       2410.330  100.000000\n",
       "7   Shop 14                0      22346.055      22346.055  100.000000\n",
       "8   Shop 15                0       1736.520       1736.520  100.000000\n",
       "9   Shop 16                0       3896.055       3896.055  100.000000\n",
       "10  Shop 17                0       2236.450       2236.450  100.000000\n",
       "11  Shop 18                0       6501.665       6501.665  100.000000\n",
       "12  Shop 19                0       1274.115      11299.830   11.275524\n",
       "13  Shop 19                1      10025.715      11299.830   88.724476\n",
       "14   Shop 2                0      39523.415      39523.415  100.000000\n",
       "15  Shop 20                0       1020.060       1020.060  100.000000\n",
       "16  Shop 21                0       1629.600       1629.600  100.000000\n",
       "17  Shop 22                0       3003.470       3003.470  100.000000\n",
       "18  Shop 23                0        225.250        225.250  100.000000\n",
       "19  Shop 24                0       3984.625       3984.625  100.000000\n",
       "20  Shop 25                0       3234.265       3234.265  100.000000\n",
       "21  Shop 26                0       2510.090       2510.090  100.000000\n",
       "22  Shop 27                0       2095.470       2095.470  100.000000\n",
       "23  Shop 28                1       1621.895       1621.895  100.000000\n",
       "24  Shop 29                0        207.715        207.715  100.000000\n",
       "25   Shop 3                0     102070.050     102070.050  100.000000\n",
       "26  Shop 30                0        743.530        743.530  100.000000\n",
       "27   Shop 4                0      53748.865      53748.865  100.000000\n",
       "28   Shop 5                0       6202.610       6202.610  100.000000\n",
       "29   Shop 6                0      62409.140      62409.140  100.000000\n",
       "30   Shop 7                0      11271.100      11271.100  100.000000\n",
       "31   Shop 8                0      16933.190      17188.245   98.516108\n",
       "32   Shop 8                1        255.055      17188.245    1.483892\n",
       "33   Shop 9                0       2415.115       2415.115  100.000000"
      ]
     },
     "execution_count": 134,
     "metadata": {},
     "output_type": "execute_result"
    }
   ],
   "source": [
    "# Считаем % выручки, которую принесли участники-неучастники программы.\n",
    "\n",
    "part_sales = data_price_sales.pivot_table(index=['shop_id', 'loyalty_program'], \n",
    "                                          values=['total_sales'], aggfunc={'total_sales': 'sum'}).reset_index()\n",
    "part_sales = part_sales.merge(all_sales, how='left', on=None, left_on='shop_id', right_on='shop_id')\n",
    "\n",
    "part_sales['ratio'] = part_sales['total_sales_x'] / part_sales['total_sales_y'] * 100\n",
    "\n",
    "part_sales\n"
   ]
  },
  {
   "cell_type": "markdown",
   "id": "76c9865e",
   "metadata": {},
   "source": [
    "Shop 19 - участники программы принесли вклад в виде 88 % выручки, но эти покупки совершал один клиент, всего 4 покупки.\n",
    "\n",
    "Shop 8 - участники программы купили на 1 %, это также был один покупатель, который совершил 2 покупки.\n",
    "\n",
    "Shop 28 - всю сумму выручки принесли покупатели - участники программы, но это выглядит очень странно, т.к. всего 1 покупатель и 1 покупка. \n",
    "\n",
    "Судя по этим трем магазинам складывается впечатление, что либо они работали какое-то короткое время, открывались-закрывались или были некорректно выгружены данные по ним.\n",
    "\n",
    "Shop 0 - 30% выручки принесли покупатели-участники программы, 70 % - неучастники. Это при том, что 62% покупателей в данном магазине не являются участниками программы лояльности, а 37% - являются. Т.е. нет никаких оснований полагать, что программа лояльности приносит прибыль или хотя бы окупается. "
   ]
  },
  {
   "cell_type": "code",
   "execution_count": 135,
   "id": "271c73e6",
   "metadata": {},
   "outputs": [],
   "source": [
    "# Считаем сумму возвратов для каждого магазина.\n",
    "\n",
    "all_return = data_price_return.groupby(['shop_id'])['total_sales'].sum().to_frame().reset_index()"
   ]
  },
  {
   "cell_type": "code",
   "execution_count": 136,
   "id": "05afa356",
   "metadata": {
    "scrolled": false
   },
   "outputs": [
    {
     "data": {
      "text/html": [
       "<div>\n",
       "<style scoped>\n",
       "    .dataframe tbody tr th:only-of-type {\n",
       "        vertical-align: middle;\n",
       "    }\n",
       "\n",
       "    .dataframe tbody tr th {\n",
       "        vertical-align: top;\n",
       "    }\n",
       "\n",
       "    .dataframe thead th {\n",
       "        text-align: right;\n",
       "    }\n",
       "</style>\n",
       "<table border=\"1\" class=\"dataframe\">\n",
       "  <thead>\n",
       "    <tr style=\"text-align: right;\">\n",
       "      <th></th>\n",
       "      <th>shop_id</th>\n",
       "      <th>loyalty_program</th>\n",
       "      <th>total_sales_x</th>\n",
       "      <th>total_sales_y</th>\n",
       "      <th>ratio</th>\n",
       "    </tr>\n",
       "  </thead>\n",
       "  <tbody>\n",
       "    <tr>\n",
       "      <th>0</th>\n",
       "      <td>Shop 0</td>\n",
       "      <td>0</td>\n",
       "      <td>-91832.335</td>\n",
       "      <td>-107041.740</td>\n",
       "      <td>85.791146</td>\n",
       "    </tr>\n",
       "    <tr>\n",
       "      <th>1</th>\n",
       "      <td>Shop 0</td>\n",
       "      <td>1</td>\n",
       "      <td>-15209.405</td>\n",
       "      <td>-107041.740</td>\n",
       "      <td>14.208854</td>\n",
       "    </tr>\n",
       "    <tr>\n",
       "      <th>2</th>\n",
       "      <td>Shop 1</td>\n",
       "      <td>0</td>\n",
       "      <td>-584.425</td>\n",
       "      <td>-584.425</td>\n",
       "      <td>100.000000</td>\n",
       "    </tr>\n",
       "    <tr>\n",
       "      <th>3</th>\n",
       "      <td>Shop 10</td>\n",
       "      <td>0</td>\n",
       "      <td>-191.280</td>\n",
       "      <td>-191.280</td>\n",
       "      <td>100.000000</td>\n",
       "    </tr>\n",
       "    <tr>\n",
       "      <th>4</th>\n",
       "      <td>Shop 11</td>\n",
       "      <td>0</td>\n",
       "      <td>-122.790</td>\n",
       "      <td>-122.790</td>\n",
       "      <td>100.000000</td>\n",
       "    </tr>\n",
       "    <tr>\n",
       "      <th>5</th>\n",
       "      <td>Shop 12</td>\n",
       "      <td>0</td>\n",
       "      <td>-131.180</td>\n",
       "      <td>-131.180</td>\n",
       "      <td>100.000000</td>\n",
       "    </tr>\n",
       "    <tr>\n",
       "      <th>6</th>\n",
       "      <td>Shop 14</td>\n",
       "      <td>0</td>\n",
       "      <td>-192.730</td>\n",
       "      <td>-192.730</td>\n",
       "      <td>100.000000</td>\n",
       "    </tr>\n",
       "    <tr>\n",
       "      <th>7</th>\n",
       "      <td>Shop 16</td>\n",
       "      <td>0</td>\n",
       "      <td>-67.755</td>\n",
       "      <td>-67.755</td>\n",
       "      <td>100.000000</td>\n",
       "    </tr>\n",
       "    <tr>\n",
       "      <th>8</th>\n",
       "      <td>Shop 18</td>\n",
       "      <td>0</td>\n",
       "      <td>-25.500</td>\n",
       "      <td>-25.500</td>\n",
       "      <td>100.000000</td>\n",
       "    </tr>\n",
       "    <tr>\n",
       "      <th>9</th>\n",
       "      <td>Shop 19</td>\n",
       "      <td>0</td>\n",
       "      <td>-25.980</td>\n",
       "      <td>-1050.230</td>\n",
       "      <td>2.473744</td>\n",
       "    </tr>\n",
       "    <tr>\n",
       "      <th>10</th>\n",
       "      <td>Shop 19</td>\n",
       "      <td>1</td>\n",
       "      <td>-1024.250</td>\n",
       "      <td>-1050.230</td>\n",
       "      <td>97.526256</td>\n",
       "    </tr>\n",
       "    <tr>\n",
       "      <th>11</th>\n",
       "      <td>Shop 2</td>\n",
       "      <td>0</td>\n",
       "      <td>-166.690</td>\n",
       "      <td>-166.690</td>\n",
       "      <td>100.000000</td>\n",
       "    </tr>\n",
       "    <tr>\n",
       "      <th>12</th>\n",
       "      <td>Shop 20</td>\n",
       "      <td>0</td>\n",
       "      <td>-31.115</td>\n",
       "      <td>-31.115</td>\n",
       "      <td>100.000000</td>\n",
       "    </tr>\n",
       "    <tr>\n",
       "      <th>13</th>\n",
       "      <td>Shop 21</td>\n",
       "      <td>0</td>\n",
       "      <td>-280.350</td>\n",
       "      <td>-280.350</td>\n",
       "      <td>100.000000</td>\n",
       "    </tr>\n",
       "    <tr>\n",
       "      <th>14</th>\n",
       "      <td>Shop 23</td>\n",
       "      <td>0</td>\n",
       "      <td>-233.750</td>\n",
       "      <td>-233.750</td>\n",
       "      <td>100.000000</td>\n",
       "    </tr>\n",
       "    <tr>\n",
       "      <th>15</th>\n",
       "      <td>Shop 3</td>\n",
       "      <td>0</td>\n",
       "      <td>-106.585</td>\n",
       "      <td>-106.585</td>\n",
       "      <td>100.000000</td>\n",
       "    </tr>\n",
       "    <tr>\n",
       "      <th>16</th>\n",
       "      <td>Shop 4</td>\n",
       "      <td>0</td>\n",
       "      <td>-3215.830</td>\n",
       "      <td>-3215.830</td>\n",
       "      <td>100.000000</td>\n",
       "    </tr>\n",
       "    <tr>\n",
       "      <th>17</th>\n",
       "      <td>Shop 6</td>\n",
       "      <td>0</td>\n",
       "      <td>-6531.375</td>\n",
       "      <td>-6531.375</td>\n",
       "      <td>100.000000</td>\n",
       "    </tr>\n",
       "    <tr>\n",
       "      <th>18</th>\n",
       "      <td>Shop 7</td>\n",
       "      <td>0</td>\n",
       "      <td>-37.170</td>\n",
       "      <td>-37.170</td>\n",
       "      <td>100.000000</td>\n",
       "    </tr>\n",
       "    <tr>\n",
       "      <th>19</th>\n",
       "      <td>Shop 8</td>\n",
       "      <td>0</td>\n",
       "      <td>-217.220</td>\n",
       "      <td>-217.220</td>\n",
       "      <td>100.000000</td>\n",
       "    </tr>\n",
       "  </tbody>\n",
       "</table>\n",
       "</div>"
      ],
      "text/plain": [
       "    shop_id  loyalty_program  total_sales_x  total_sales_y       ratio\n",
       "0    Shop 0                0     -91832.335    -107041.740   85.791146\n",
       "1    Shop 0                1     -15209.405    -107041.740   14.208854\n",
       "2    Shop 1                0       -584.425       -584.425  100.000000\n",
       "3   Shop 10                0       -191.280       -191.280  100.000000\n",
       "4   Shop 11                0       -122.790       -122.790  100.000000\n",
       "5   Shop 12                0       -131.180       -131.180  100.000000\n",
       "6   Shop 14                0       -192.730       -192.730  100.000000\n",
       "7   Shop 16                0        -67.755        -67.755  100.000000\n",
       "8   Shop 18                0        -25.500        -25.500  100.000000\n",
       "9   Shop 19                0        -25.980      -1050.230    2.473744\n",
       "10  Shop 19                1      -1024.250      -1050.230   97.526256\n",
       "11   Shop 2                0       -166.690       -166.690  100.000000\n",
       "12  Shop 20                0        -31.115        -31.115  100.000000\n",
       "13  Shop 21                0       -280.350       -280.350  100.000000\n",
       "14  Shop 23                0       -233.750       -233.750  100.000000\n",
       "15   Shop 3                0       -106.585       -106.585  100.000000\n",
       "16   Shop 4                0      -3215.830      -3215.830  100.000000\n",
       "17   Shop 6                0      -6531.375      -6531.375  100.000000\n",
       "18   Shop 7                0        -37.170        -37.170  100.000000\n",
       "19   Shop 8                0       -217.220       -217.220  100.000000"
      ]
     },
     "execution_count": 136,
     "metadata": {},
     "output_type": "execute_result"
    }
   ],
   "source": [
    "# Считаем % возвратов по магазинам.\n",
    "\n",
    "part_return = data_price_return.pivot_table(index=['shop_id', 'loyalty_program'], \n",
    "                                          values=['total_sales'], aggfunc={'total_sales': 'sum'}).reset_index()\n",
    "part_return = part_return.merge(all_return, how='left', on=None, left_on='shop_id', right_on='shop_id')\n",
    "\n",
    "part_return['ratio'] = part_return['total_sales_x'] / part_return['total_sales_y'] * 100\n",
    "\n",
    "part_return"
   ]
  },
  {
   "cell_type": "markdown",
   "id": "221018d8",
   "metadata": {},
   "source": [
    "% возвратов по магазинам распределились следущим образом:\n",
    " - Shop 0 - 15% вернули участники, 84% - неучастники;\n",
    " - Shop 19 - 97 % вернули участники программы (1 покупка);\n",
    "\n",
    "В остальных магазинах не было возвратов от участников программы. "
   ]
  },
  {
   "cell_type": "markdown",
   "id": "910efbf1",
   "metadata": {},
   "source": [
    "### Проверим наличие корреляции между признаками."
   ]
  },
  {
   "cell_type": "code",
   "execution_count": 137,
   "id": "ba748ba9",
   "metadata": {},
   "outputs": [
    {
     "data": {
      "text/plain": [
       "<AxesSubplot:title={'center':'Матрица корреляций'}>"
      ]
     },
     "execution_count": 137,
     "metadata": {},
     "output_type": "execute_result"
    },
    {
     "data": {
      "image/png": "[encoded data removed]",
      "text/plain": [
       "<Figure size 1080x720 with 2 Axes>"
      ]
     },
     "metadata": {},
     "output_type": "display_data"
    }
   ],
   "source": [
    "corr = data_price.corr().round(3)\n",
    " \n",
    "sns.set(rc = {'figure.figsize':(15,10)}) \n",
    "plt.title('Матрица корреляций')\n",
    "sns.heatmap(corr, annot=True, square=True)"
   ]
  },
  {
   "cell_type": "markdown",
   "id": "c4d212b9",
   "metadata": {},
   "source": [
    "Линейная зависимость в представленных данных определяется только у двух признаков: количество товаров в чеке и стоимость покупки, что естественно. \n",
    "\n",
    "Для остальных признаков линейная зависимость не наблюдается."
   ]
  },
  {
   "cell_type": "markdown",
   "id": "794b1708",
   "metadata": {},
   "source": [
    "По итогам анализа программы лояльности можно сказать следующее:\n",
    "\n",
    "1. Итого покупки в магазинах сети совершили 1116 покупателей - неучастников программы лояльности и 565 участников программы. Неучастники программы совершили 2738 покупок, участники - 1133. \n",
    "\n",
    "2. Общая сумма выручки от неучастников - 1731193.23, от участников - 591420.68. Средний чек: неучастники - 632.28, участники - 521.99. \n",
    "\n",
    "3. Возвращали товары:\n",
    "- неучастники - 362, вернули 789 покупок;\n",
    "- участники - 159, вернули 211 покупок.\n",
    "\n",
    "4. Общая сумма возвратов у неучастников - 105105.86, у участников - 18392.15. Средняя сумма возврата у неучастников - 133.21, у участников - 87.16.\n",
    "\n",
    "5. Диаграммы рассеяния для количества товаров в покупках/возвратах и суммы покупок/возвратов показали, что неучастники программы совершали покупки на большие суммы, чем участники программы. Да, у неучастников были более крупные возвраты, но их число примерно соотносится с числом возвратов у участников, а также, что неучастники покупали примерно такое же число товаров, что и неучастники. Также неучастниками было совершено ряд самых крупных покупок.\n",
    "\n",
    "6. График разбивки покупок по месяцам не показал наличие тренда на увеличение числа покупок как у неучастников, так и у участников. Есть лишь незначительное увеличение числа покупок участниками в феврале. Также число покупок участников программы не превышает число покупок не участников программы.\n",
    "\n",
    "7. График количества уникальных покупателей ежемесячно также нет тренда на увеличение числа уникальных покупателей, как участников, так и неучастников. Есть незначительное увеличение в феврале по отношению к январю уникальных участников программы, совершивших покупки.\n",
    "\n",
    "8. Большая часть магазинов представленных в данных работали не все 3 месяца, скорее всего поэтому мы и не можем выявить наличие какой-либо динамики в количестве покупателей.\n",
    "\n",
    "9. Линейная зависимость в представленных данных определяется только у двух признаков: количество товаров в чеке и стоимость покупки, что естественно. Для остальных признаков линейная зависимость не наблюдается.\n",
    "\n",
    "Анализ программы лояльности в разрезе по магазинам показал, что:\n",
    "\n",
    "1. Покупки участниками программы лояльности совершались лишь в 4 магазинах сети. И за исключением 3 клиентов, все остальные участники совершали покупки в Shop 0, что еще раз подтверждает то, что магазин является флагманом сети. Только один из этих магазинов работал все 3 месяца, остальные либо только открывались, либо наоборот закрывались, сложно составить на основании данных из этих магазинов четкое представление о динамике продаж и посещений.\n",
    "\n",
    "2. В Shop 0 совершали покупки 584 покупателя-участника и 988 покупателя-неучастника;\n",
    "- участники купили - 1337 раз, 23271 единиц товара, 221705 - количество товаров, сумма выручки - 562150;\n",
    "- неучастники купили 3111 раз, 73076\tединиц товара,\t449920 - количество товаров, сумма выручки -1214352.54.\n",
    "\n",
    "3. Анализ соотношения выручки полученной от участников и неучастников программы лояльности показал следующее: \n",
    "\n",
    "- Shop 19 - участники программы принесли вклад в виде 88 % выручки, но эти покупки совершал один клиент, всего 4 покупки.\n",
    "\n",
    "- Shop 8 - участники программы купили на 1 %, это также был один покупатель, который совершил 2 покупки.\n",
    "\n",
    "- Shop 28 - всю сумму выручки принесли покупатели - участники программы, но это выглядит очень странно, т.к. всего 1 покупатель и 1 покупка.\n",
    "\n",
    "- Shop 0 - 30% выручки принесли покупатели-участники программы, 70 % - неучастники. Это при том, что 62% покупателей в данном магазине не являются участниками программы лояльности, а 37% - являются. \n",
    "\n",
    "4. Распределение числа покупателей для наших 4-ех магазинов, в которых совершали покупки участники программы лояльности:\n",
    "\n",
    "- Shop 0 - 37% участники 62% - неучастники;\n",
    "- Shop 19 - 33% участники, 66% - неучастники;\n",
    "- Shop 28 - 100% покупок совершили участники - 1 покупку, которая попала в нашу выборку;\n",
    "- Shop 8 - 8 % участники, 91% - неучастники.\n",
    "\n",
    "5. % возвратов по магазинам распределились следущим образом:\n",
    "\n",
    "- Shop 0 - 15% вернули участники, 84% - неучастники;\n",
    "- Shop 19 - 97 % вернули участники программы (1 покупка);\n",
    "- В остальных магазинах не было возвратов от участников программы."
   ]
  },
  {
   "cell_type": "markdown",
   "id": "e2551adc",
   "metadata": {},
   "source": [
    "## Формулировка и проверка гипотез¶"
   ]
  },
  {
   "cell_type": "markdown",
   "id": "8a3424bf",
   "metadata": {},
   "source": [
    "### Сформулируем гипотезы:\n",
    "\n",
    "1. Средний чек покупателей-участников программы лояльности равен среднему чеку не-участников.\n",
    "\n",
    "2. Среднее количество товаров в чеках покупателей-участников программы лояльности равно среднему количеству товаров в чеке не-участников.\n",
    "\n",
    "3. Частота покупок покупателей-участников программы лояльности выще, чем частота покупок не-участников.\n",
    "\n",
    "4. Объем продаж в магазинах с наибольшим количеством покупателей-участников программы лояльности выше, чем в магазинах с меньшим количеством покупателей не-участников.\n",
    "\n",
    "5. Доля объема продаж участникам программы лояльности выше, чем доля объема продаж не-участникам программы лояльности.\n"
   ]
  },
  {
   "cell_type": "markdown",
   "id": "fec7c35f",
   "metadata": {},
   "source": [
    "### Отранжируем гипотезы.\n",
    "\n",
    "Среди сформулированных гипотез можно выделить две ключевые: \n",
    "\n",
    "1. Средний чек покупателей-участников программы лояльности равен среднему чеку не-участников.\n",
    "\n",
    "2. Среднее количество товаров в чеках покупателей-участников программы лояльности равно среднему количеству товаров в чеке не-участников.\n",
    "\n",
    "Эти два показателя являются самыми явными признаками работы программы лояльности и их проще всего отследить, поэтому тестировать будем эти две гипотезы. "
   ]
  },
  {
   "cell_type": "markdown",
   "id": "b01d039a",
   "metadata": {},
   "source": [
    "### Тестирование гипотез, выбор экспериментов."
   ]
  },
  {
   "cell_type": "markdown",
   "id": "8b1baa5c",
   "metadata": {},
   "source": [
    "Рассмотрим первую гипотезу.\n",
    "__________________________________________________________________________________________________________________\n",
    "\n",
    "Первая гипотеза будет о равенстве средних для двух совокупностей, поэтому будем использовать тест для гипотезы о равенстве средних двух генеральных совокупностей. \n",
    "\n",
    "Н0: Средний чек покупателей-участников =  Среднему чеку покупателей-неучастников программы лояльности.\n",
    "\n",
    "Н1: Средний чек покупателей-участников !=  Среднему чеку покупателей-неучастников программы лояльности."
   ]
  },
  {
   "cell_type": "markdown",
   "id": "a5bbea40",
   "metadata": {},
   "source": [
    "Критерии выбора метода:\n",
    "\n",
    "совокупности не зависят друг от друга;\n",
    "выборочные средние нормально распределены;\n",
    "дисперсии рассматриваемых совокупностей равны.\n",
    "Действительно наши совокупности не зависят друг от друга, выборочные средние нормально распределены, посмотрим равны ли дисперсии.\n",
    "\n",
    "Для этого построим срезы для групп участник-неучастник и найдем для них дисперсии и средние."
   ]
  },
  {
   "cell_type": "code",
   "execution_count": 138,
   "id": "b6c76f19",
   "metadata": {},
   "outputs": [
    {
     "data": {
      "text/html": [
       "<div>\n",
       "<style scoped>\n",
       "    .dataframe tbody tr th:only-of-type {\n",
       "        vertical-align: middle;\n",
       "    }\n",
       "\n",
       "    .dataframe tbody tr th {\n",
       "        vertical-align: top;\n",
       "    }\n",
       "\n",
       "    .dataframe thead th {\n",
       "        text-align: right;\n",
       "    }\n",
       "</style>\n",
       "<table border=\"1\" class=\"dataframe\">\n",
       "  <thead>\n",
       "    <tr style=\"text-align: right;\">\n",
       "      <th></th>\n",
       "      <th>purchase_id</th>\n",
       "      <th>total_sales</th>\n",
       "    </tr>\n",
       "  </thead>\n",
       "  <tbody>\n",
       "    <tr>\n",
       "      <th>0</th>\n",
       "      <td>536365</td>\n",
       "      <td>186.515</td>\n",
       "    </tr>\n",
       "    <tr>\n",
       "      <th>1</th>\n",
       "      <td>536366</td>\n",
       "      <td>19.750</td>\n",
       "    </tr>\n",
       "    <tr>\n",
       "      <th>2</th>\n",
       "      <td>536372</td>\n",
       "      <td>19.750</td>\n",
       "    </tr>\n",
       "    <tr>\n",
       "      <th>3</th>\n",
       "      <td>536373</td>\n",
       "      <td>367.365</td>\n",
       "    </tr>\n",
       "    <tr>\n",
       "      <th>4</th>\n",
       "      <td>536375</td>\n",
       "      <td>367.365</td>\n",
       "    </tr>\n",
       "    <tr>\n",
       "      <th>...</th>\n",
       "      <td>...</td>\n",
       "      <td>...</td>\n",
       "    </tr>\n",
       "    <tr>\n",
       "      <th>1330</th>\n",
       "      <td>C544829</td>\n",
       "      <td>-7.930</td>\n",
       "    </tr>\n",
       "    <tr>\n",
       "      <th>1331</th>\n",
       "      <td>C544840</td>\n",
       "      <td>-38.870</td>\n",
       "    </tr>\n",
       "    <tr>\n",
       "      <th>1332</th>\n",
       "      <td>C544897</td>\n",
       "      <td>-16.940</td>\n",
       "    </tr>\n",
       "    <tr>\n",
       "      <th>1333</th>\n",
       "      <td>C545003</td>\n",
       "      <td>-32.455</td>\n",
       "    </tr>\n",
       "    <tr>\n",
       "      <th>1334</th>\n",
       "      <td>C545189</td>\n",
       "      <td>-3.610</td>\n",
       "    </tr>\n",
       "  </tbody>\n",
       "</table>\n",
       "<p>1335 rows × 2 columns</p>\n",
       "</div>"
      ],
      "text/plain": [
       "     purchase_id  total_sales\n",
       "0         536365      186.515\n",
       "1         536366       19.750\n",
       "2         536372       19.750\n",
       "3         536373      367.365\n",
       "4         536375      367.365\n",
       "...          ...          ...\n",
       "1330     C544829       -7.930\n",
       "1331     C544840      -38.870\n",
       "1332     C544897      -16.940\n",
       "1333     C545003      -32.455\n",
       "1334     C545189       -3.610\n",
       "\n",
       "[1335 rows x 2 columns]"
      ]
     },
     "execution_count": 138,
     "metadata": {},
     "output_type": "execute_result"
    }
   ],
   "source": [
    "# Срез для группы участников программы.\n",
    "\n",
    "loyalty_avg = loyalty.groupby('purchase_id')['total_sales'].sum().to_frame().reset_index()\n",
    "loyalty_avg"
   ]
  },
  {
   "cell_type": "code",
   "execution_count": 139,
   "id": "5ec3e361",
   "metadata": {},
   "outputs": [],
   "source": [
    "# Зададим функцию для подсчета дисперсии.\n",
    "\n",
    "def var(row):\n",
    "    return(np.var(row))"
   ]
  },
  {
   "cell_type": "code",
   "execution_count": 140,
   "id": "13868817",
   "metadata": {},
   "outputs": [
    {
     "data": {
      "text/plain": [
       "1221261.9753474833"
      ]
     },
     "execution_count": 140,
     "metadata": {},
     "output_type": "execute_result"
    }
   ],
   "source": [
    "# Считаем дисперсию для лояльных.\n",
    "\n",
    "var(loyalty_avg['total_sales']) "
   ]
  },
  {
   "cell_type": "code",
   "execution_count": 141,
   "id": "d2f6f0f8",
   "metadata": {},
   "outputs": [
    {
     "data": {
      "text/html": [
       "<div>\n",
       "<style scoped>\n",
       "    .dataframe tbody tr th:only-of-type {\n",
       "        vertical-align: middle;\n",
       "    }\n",
       "\n",
       "    .dataframe tbody tr th {\n",
       "        vertical-align: top;\n",
       "    }\n",
       "\n",
       "    .dataframe thead th {\n",
       "        text-align: right;\n",
       "    }\n",
       "</style>\n",
       "<table border=\"1\" class=\"dataframe\">\n",
       "  <thead>\n",
       "    <tr style=\"text-align: right;\">\n",
       "      <th></th>\n",
       "      <th>purchase_id</th>\n",
       "      <th>total_sales</th>\n",
       "    </tr>\n",
       "  </thead>\n",
       "  <tbody>\n",
       "    <tr>\n",
       "      <th>0</th>\n",
       "      <td>536367</td>\n",
       "      <td>285.395</td>\n",
       "    </tr>\n",
       "    <tr>\n",
       "      <th>1</th>\n",
       "      <td>536368</td>\n",
       "      <td>96.090</td>\n",
       "    </tr>\n",
       "    <tr>\n",
       "      <th>2</th>\n",
       "      <td>536369</td>\n",
       "      <td>13.200</td>\n",
       "    </tr>\n",
       "    <tr>\n",
       "      <th>3</th>\n",
       "      <td>536370</td>\n",
       "      <td>1261.270</td>\n",
       "    </tr>\n",
       "    <tr>\n",
       "      <th>4</th>\n",
       "      <td>536371</td>\n",
       "      <td>462.150</td>\n",
       "    </tr>\n",
       "    <tr>\n",
       "      <th>...</th>\n",
       "      <td>...</td>\n",
       "      <td>...</td>\n",
       "    </tr>\n",
       "    <tr>\n",
       "      <th>3513</th>\n",
       "      <td>C544901</td>\n",
       "      <td>-77.125</td>\n",
       "    </tr>\n",
       "    <tr>\n",
       "      <th>3514</th>\n",
       "      <td>C544902</td>\n",
       "      <td>-13.710</td>\n",
       "    </tr>\n",
       "    <tr>\n",
       "      <th>3515</th>\n",
       "      <td>C545033</td>\n",
       "      <td>-4497.495</td>\n",
       "    </tr>\n",
       "    <tr>\n",
       "      <th>3516</th>\n",
       "      <td>C545040</td>\n",
       "      <td>-11.820</td>\n",
       "    </tr>\n",
       "    <tr>\n",
       "      <th>3517</th>\n",
       "      <td>C545068</td>\n",
       "      <td>-35.400</td>\n",
       "    </tr>\n",
       "  </tbody>\n",
       "</table>\n",
       "<p>3518 rows × 2 columns</p>\n",
       "</div>"
      ],
      "text/plain": [
       "     purchase_id  total_sales\n",
       "0         536367      285.395\n",
       "1         536368       96.090\n",
       "2         536369       13.200\n",
       "3         536370     1261.270\n",
       "4         536371      462.150\n",
       "...          ...          ...\n",
       "3513     C544901      -77.125\n",
       "3514     C544902      -13.710\n",
       "3515     C545033    -4497.495\n",
       "3516     C545040      -11.820\n",
       "3517     C545068      -35.400\n",
       "\n",
       "[3518 rows x 2 columns]"
      ]
     },
     "execution_count": 141,
     "metadata": {},
     "output_type": "execute_result"
    }
   ],
   "source": [
    "# Срез для группы неучастников программы.\n",
    "\n",
    "not_loyalty_avg = not_loyalty.groupby('purchase_id')['total_sales'].sum().to_frame().reset_index()\n",
    "not_loyalty_avg"
   ]
  },
  {
   "cell_type": "code",
   "execution_count": 142,
   "id": "b117011c",
   "metadata": {},
   "outputs": [
    {
     "data": {
      "text/plain": [
       "1643566.1101613827"
      ]
     },
     "execution_count": 142,
     "metadata": {},
     "output_type": "execute_result"
    }
   ],
   "source": [
    "# Считаем дисперсию для нелояльных. \n",
    "\n",
    "var(not_loyalty_avg['total_sales'])"
   ]
  },
  {
   "cell_type": "markdown",
   "id": "62babacd",
   "metadata": {},
   "source": [
    "Дисперсии наших выборок не равны, поэтому применим параметр equal_var=False.\n",
    "\n",
    "Посчитаем средние выборок. "
   ]
  },
  {
   "cell_type": "code",
   "execution_count": 143,
   "id": "dccea4d1",
   "metadata": {},
   "outputs": [
    {
     "data": {
      "text/plain": [
       "455.93037237066534"
      ]
     },
     "execution_count": 143,
     "metadata": {},
     "output_type": "execute_result"
    }
   ],
   "source": [
    "# Средний чек для неучастников.\n",
    "\n",
    "not_loyalty_avg['total_sales'].mean()"
   ]
  },
  {
   "cell_type": "code",
   "execution_count": 144,
   "id": "45711f3d",
   "metadata": {},
   "outputs": [
    {
     "data": {
      "text/plain": [
       "424.79910861423235"
      ]
     },
     "execution_count": 144,
     "metadata": {},
     "output_type": "execute_result"
    }
   ],
   "source": [
    "# Средний чек для участников.\n",
    "\n",
    "loyalty_avg['total_sales'].mean()"
   ]
  },
  {
   "cell_type": "markdown",
   "id": "4c99cbcc",
   "metadata": {},
   "source": [
    "Средние выборок не равны. "
   ]
  },
  {
   "cell_type": "code",
   "execution_count": 145,
   "id": "ed2142a0",
   "metadata": {},
   "outputs": [
    {
     "name": "stdout",
     "output_type": "stream",
     "text": [
      "p-значение: 0.4025671190673239\n",
      "Не получилось отвергнуть нулевую гипотезу\n"
     ]
    }
   ],
   "source": [
    "alpha = .05\n",
    "\n",
    "results = st.ttest_ind(loyalty_avg['total_sales'], not_loyalty_avg['total_sales'], equal_var=False)\n",
    "\n",
    "print('p-значение:', results.pvalue)\n",
    "\n",
    "if results.pvalue < alpha: \n",
    "    print(f'Отвергаем нулевую гипотезу')\n",
    "else: \n",
    "    print(f'Не получилось отвергнуть нулевую гипотезу')"
   ]
  },
  {
   "cell_type": "markdown",
   "id": "6e9bd5a9",
   "metadata": {},
   "source": [
    "В результате тестирования гипотезы не удалось доказать неравенство двух выборок, т.е. средний чек участников программы равен среднему чеку неучастников программы. \n",
    "\n",
    "Конечно, мы видим по цифрам, что средние чеки не равны, но при этом мы видим, что у участников программы средний чек ниже, чем у покупателей-неучастников."
   ]
  },
  {
   "cell_type": "markdown",
   "id": "b2d9c8f9",
   "metadata": {},
   "source": [
    "Рассмотрим вторую гипотезу. \n",
    "___________________________________________________________________________________________\n",
    "\n",
    "Среднее количество товаров в чеках покупателей-участников программы лояльности выше, чем среднее количество товаров в чеке не-участников.\n",
    "\n",
    "\n",
    "Н0: Среднее количество товаров в чеке покупателей-участников = Среднее количество товаров в чеке покупателей-неучастников.\n",
    "\n",
    "Н1: Среднее количество товаров в чеке покупателей-участников != Среднее количество товаров в чеке покупателей-неучастников.\n",
    "\n",
    "Вторая гипотеза также будет равенстве средних для двух совокупностей, поэтому будем использовать тест для гипотезы о равенстве средних двух генеральных совокупностей.\n",
    "\n",
    "Критерии выбора метода:\n",
    "\n",
    "- совокупности не зависят друг от друга;\n",
    "\n",
    "- выборочные средние нормально распределены;\n",
    "\n",
    "- дисперсии рассматриваемых совокупностей равны.\n",
    "\n",
    "Действительно наши совокупности не зависят друг от друга, выборочные средние нормально распределены, посмотрим на значения дисперсий наших выборок."
   ]
  },
  {
   "cell_type": "code",
   "execution_count": 146,
   "id": "79c75ecc",
   "metadata": {
    "scrolled": true
   },
   "outputs": [
    {
     "data": {
      "text/html": [
       "<div>\n",
       "<style scoped>\n",
       "    .dataframe tbody tr th:only-of-type {\n",
       "        vertical-align: middle;\n",
       "    }\n",
       "\n",
       "    .dataframe tbody tr th {\n",
       "        vertical-align: top;\n",
       "    }\n",
       "\n",
       "    .dataframe thead th {\n",
       "        text-align: right;\n",
       "    }\n",
       "</style>\n",
       "<table border=\"1\" class=\"dataframe\">\n",
       "  <thead>\n",
       "    <tr style=\"text-align: right;\">\n",
       "      <th></th>\n",
       "      <th>item_id</th>\n",
       "      <th>quantity</th>\n",
       "    </tr>\n",
       "  </thead>\n",
       "  <tbody>\n",
       "    <tr>\n",
       "      <th>0</th>\n",
       "      <td>10002</td>\n",
       "      <td>89</td>\n",
       "    </tr>\n",
       "    <tr>\n",
       "      <th>1</th>\n",
       "      <td>10120</td>\n",
       "      <td>30</td>\n",
       "    </tr>\n",
       "    <tr>\n",
       "      <th>2</th>\n",
       "      <td>10123C</td>\n",
       "      <td>0</td>\n",
       "    </tr>\n",
       "    <tr>\n",
       "      <th>3</th>\n",
       "      <td>10124A</td>\n",
       "      <td>5</td>\n",
       "    </tr>\n",
       "    <tr>\n",
       "      <th>4</th>\n",
       "      <td>10124G</td>\n",
       "      <td>4</td>\n",
       "    </tr>\n",
       "    <tr>\n",
       "      <th>...</th>\n",
       "      <td>...</td>\n",
       "      <td>...</td>\n",
       "    </tr>\n",
       "    <tr>\n",
       "      <th>2400</th>\n",
       "      <td>90212B</td>\n",
       "      <td>2</td>\n",
       "    </tr>\n",
       "    <tr>\n",
       "      <th>2401</th>\n",
       "      <td>90212C</td>\n",
       "      <td>2</td>\n",
       "    </tr>\n",
       "    <tr>\n",
       "      <th>2402</th>\n",
       "      <td>D</td>\n",
       "      <td>-6</td>\n",
       "    </tr>\n",
       "    <tr>\n",
       "      <th>2403</th>\n",
       "      <td>M</td>\n",
       "      <td>132</td>\n",
       "    </tr>\n",
       "    <tr>\n",
       "      <th>2404</th>\n",
       "      <td>POST</td>\n",
       "      <td>-2</td>\n",
       "    </tr>\n",
       "  </tbody>\n",
       "</table>\n",
       "<p>2405 rows × 2 columns</p>\n",
       "</div>"
      ],
      "text/plain": [
       "     item_id  quantity\n",
       "0      10002        89\n",
       "1      10120        30\n",
       "2     10123C         0\n",
       "3     10124A         5\n",
       "4     10124G         4\n",
       "...      ...       ...\n",
       "2400  90212B         2\n",
       "2401  90212C         2\n",
       "2402       D        -6\n",
       "2403       M       132\n",
       "2404    POST        -2\n",
       "\n",
       "[2405 rows x 2 columns]"
      ]
     },
     "execution_count": 146,
     "metadata": {},
     "output_type": "execute_result"
    }
   ],
   "source": [
    "# Срез для участников программы.\n",
    "\n",
    "loyalty_item = loyalty.groupby('item_id')['quantity'].sum().to_frame().reset_index()\n",
    "loyalty_item"
   ]
  },
  {
   "cell_type": "code",
   "execution_count": 147,
   "id": "2729fefb",
   "metadata": {
    "scrolled": true
   },
   "outputs": [
    {
     "data": {
      "text/html": [
       "<div>\n",
       "<style scoped>\n",
       "    .dataframe tbody tr th:only-of-type {\n",
       "        vertical-align: middle;\n",
       "    }\n",
       "\n",
       "    .dataframe tbody tr th {\n",
       "        vertical-align: top;\n",
       "    }\n",
       "\n",
       "    .dataframe thead th {\n",
       "        text-align: right;\n",
       "    }\n",
       "</style>\n",
       "<table border=\"1\" class=\"dataframe\">\n",
       "  <thead>\n",
       "    <tr style=\"text-align: right;\">\n",
       "      <th></th>\n",
       "      <th>item_id</th>\n",
       "      <th>quantity</th>\n",
       "    </tr>\n",
       "  </thead>\n",
       "  <tbody>\n",
       "    <tr>\n",
       "      <th>0</th>\n",
       "      <td>10002</td>\n",
       "      <td>496</td>\n",
       "    </tr>\n",
       "    <tr>\n",
       "      <th>1</th>\n",
       "      <td>10080</td>\n",
       "      <td>1</td>\n",
       "    </tr>\n",
       "    <tr>\n",
       "      <th>2</th>\n",
       "      <td>10120</td>\n",
       "      <td>11</td>\n",
       "    </tr>\n",
       "    <tr>\n",
       "      <th>3</th>\n",
       "      <td>10125</td>\n",
       "      <td>191</td>\n",
       "    </tr>\n",
       "    <tr>\n",
       "      <th>4</th>\n",
       "      <td>10133</td>\n",
       "      <td>218</td>\n",
       "    </tr>\n",
       "    <tr>\n",
       "      <th>...</th>\n",
       "      <td>...</td>\n",
       "      <td>...</td>\n",
       "    </tr>\n",
       "    <tr>\n",
       "      <th>3064</th>\n",
       "      <td>gift_0001_20</td>\n",
       "      <td>0</td>\n",
       "    </tr>\n",
       "    <tr>\n",
       "      <th>3065</th>\n",
       "      <td>gift_0001_30</td>\n",
       "      <td>0</td>\n",
       "    </tr>\n",
       "    <tr>\n",
       "      <th>3066</th>\n",
       "      <td>gift_0001_40</td>\n",
       "      <td>0</td>\n",
       "    </tr>\n",
       "    <tr>\n",
       "      <th>3067</th>\n",
       "      <td>gift_0001_50</td>\n",
       "      <td>0</td>\n",
       "    </tr>\n",
       "    <tr>\n",
       "      <th>3068</th>\n",
       "      <td>m</td>\n",
       "      <td>0</td>\n",
       "    </tr>\n",
       "  </tbody>\n",
       "</table>\n",
       "<p>3069 rows × 2 columns</p>\n",
       "</div>"
      ],
      "text/plain": [
       "           item_id  quantity\n",
       "0            10002       496\n",
       "1            10080         1\n",
       "2            10120        11\n",
       "3            10125       191\n",
       "4            10133       218\n",
       "...            ...       ...\n",
       "3064  gift_0001_20         0\n",
       "3065  gift_0001_30         0\n",
       "3066  gift_0001_40         0\n",
       "3067  gift_0001_50         0\n",
       "3068             m         0\n",
       "\n",
       "[3069 rows x 2 columns]"
      ]
     },
     "execution_count": 147,
     "metadata": {},
     "output_type": "execute_result"
    }
   ],
   "source": [
    "# Cрез для неучастников программы.\n",
    "\n",
    "not_loyalty_item = not_loyalty.groupby('item_id')['quantity'].sum().to_frame().reset_index()\n",
    "not_loyalty_item"
   ]
  },
  {
   "cell_type": "code",
   "execution_count": 148,
   "id": "2626f409",
   "metadata": {},
   "outputs": [
    {
     "data": {
      "text/plain": [
       "64484.53151637514"
      ]
     },
     "execution_count": 148,
     "metadata": {},
     "output_type": "execute_result"
    }
   ],
   "source": [
    "# Считаем дисперсию для участников.\n",
    "\n",
    "var(loyalty_item['quantity'])"
   ]
  },
  {
   "cell_type": "code",
   "execution_count": 149,
   "id": "6a87b0a9",
   "metadata": {},
   "outputs": [
    {
     "data": {
      "text/plain": [
       "201348.77987667668"
      ]
     },
     "execution_count": 149,
     "metadata": {},
     "output_type": "execute_result"
    }
   ],
   "source": [
    "# Считаем дисперсию для неучастникам.\n",
    "\n",
    "var(not_loyalty_item['quantity'])"
   ]
  },
  {
   "cell_type": "code",
   "execution_count": 150,
   "id": "12d2ea55",
   "metadata": {},
   "outputs": [
    {
     "data": {
      "text/plain": [
       "91.18877338877338"
      ]
     },
     "execution_count": 150,
     "metadata": {},
     "output_type": "execute_result"
    }
   ],
   "source": [
    "# Считаем среднее количество товаров в чеке участников.\n",
    "\n",
    "loyalty_item['quantity'].mean()"
   ]
  },
  {
   "cell_type": "code",
   "execution_count": 151,
   "id": "7f3cebf2",
   "metadata": {},
   "outputs": [
    {
     "data": {
      "text/plain": [
       "190.4434669273379"
      ]
     },
     "execution_count": 151,
     "metadata": {},
     "output_type": "execute_result"
    }
   ],
   "source": [
    "# Считаем среднее количество товаров в чеке неучастников.\n",
    "\n",
    "not_loyalty_item['quantity'].mean()"
   ]
  },
  {
   "cell_type": "markdown",
   "id": "c4fbbdbf",
   "metadata": {},
   "source": [
    "Средние не равны. "
   ]
  },
  {
   "cell_type": "code",
   "execution_count": 152,
   "id": "efb9da88",
   "metadata": {
    "scrolled": true
   },
   "outputs": [
    {
     "name": "stdout",
     "output_type": "stream",
     "text": [
      "p-значение: 9.824330055786353e-25\n",
      "Отвергаем нулевую гипотезу\n"
     ]
    }
   ],
   "source": [
    "alpha = .05\n",
    "\n",
    "results = st.ttest_ind(loyalty_item['quantity'], not_loyalty_item['quantity'], equal_var=False)\n",
    "\n",
    "print('p-значение:', results.pvalue)\n",
    "\n",
    "if results.pvalue < alpha: \n",
    "    print(f'Отвергаем нулевую гипотезу')\n",
    "else: \n",
    "    print(f'Не получилось отвергнуть нулевую гипотезу')"
   ]
  },
  {
   "cell_type": "markdown",
   "id": "b871b111",
   "metadata": {},
   "source": [
    "В результате тестирования мы пришли к выводу, что нулевая гипотеза о том, что среднее количество товаров в чеке участников программы лояльности равно среднему количеству товаров в чеке неучастника программы не верна. \n",
    "\n",
    "Среднее число товаров в чеках участников не равно количеству товаров в чеках неучастников, в какую именно сторону они не равны мы можем предположить, а именно, что количество товаров в чеках неучастников выше. "
   ]
  },
  {
   "cell_type": "markdown",
   "id": "89746dda",
   "metadata": {},
   "source": [
    "## Основные выводы по проекту."
   ]
  },
  {
   "cell_type": "markdown",
   "id": "48ec81e5",
   "metadata": {},
   "source": [
    "Для анализа нам были представлены данные о продаже 105355 товаров, с датами продаж, количеством единиц товаров, id магазинов и пользователей, отметкой об участии в программе лояльности. Датасет с ценами содержал 9969 позиций.\n",
    "\n",
    "В результате предобработки мы привели данные в корректным типам данных. Выделили из даты месяц в отдельный столбец.\n",
    "\n",
    "Определили период, за который представлены данные: с 1 декабря 2016 года по 28 февраля 2017 года (3 месяца).\n",
    "\n",
    "Обработали пропуски в данных. Удалили дубликаты. Удалили ряд аномальных значений: \n",
    "- большие покупки и возвраты; \n",
    "- возврат покупки, которая была совершена ранее 1 декабря; \n",
    "- \"товары\", которые на самом деле являются комиссией компаниям и банкам. \n",
    "\n",
    "При этом потеря в данных составила - 1%.\n",
    "\n",
    "Общая картина в данных такова:\n",
    "\n",
    "Всего уникальных покупок - 4871, из них возвратов - 1000;\n",
    "\n",
    "% возратов - 20,79;\n",
    "\n",
    "Уникальных товаров 3156;\n",
    "\n",
    "31 магазин;\n",
    "\n",
    "831610 товаров было куплено всего, 602917 - купили неучастники программы, 228693 - участники;\n",
    "\n",
    "1749 покупателей совершали покупки в этот период (+ ~ 929 покупателей, которые совершили покупки без авторизации), из них 587 - участники программы, 1162 (+ ~ 929) - неучастники;\n",
    "\n",
    "В дальнейшем при анализе все подсчеты были проведены по фактически представленным данным и числе покупателей, т.е. не учитывались данные о покупателях с пропусками значений в столбце customer_id.\n",
    "\n",
    "Среди цен на товары есть нулевые значения и артикулы, которые сложно идентифийировать как товар, возможно это некие комиссии или сборы;\n",
    "\n",
    "Среди купленных товаров в позиции quantity - количество в чеке - есть большое количество товаров с нулевыми значениями, что это конкретно выяснить не удалось, возможно это товары-бонусы, или товары по акции 2 по цене 1, или какое-то похожее промо. "
   ]
  },
  {
   "cell_type": "markdown",
   "id": "f59475c0",
   "metadata": {},
   "source": [
    "В результате исследовательского анализа мы выяснили, что:\n",
    "\n",
    "1. Лидером по продажам является магазин Shop 0 с суммой продаж - 1886814.69, средний чек - 533.14, на порядок ниже, чем у других магазинов сети, хотя возможно по остальным магазинам мы не видим реальную картину в представленных данных, а видим только единичный выбросы, которые и влияют на искажение результатов. Самый большой объем возвратов также оказался в Shop 0 - 110312, около 10% от продаж. Средний чек возрата - 121.35.\n",
    "\n",
    "\n",
    "2. На 2 месте по выручке Shop 3 - 102070.050, он же лидер по среднему чеку. Возвраты в данном магазине оформлялись редко сумма возвратов около 100. \n",
    "\n",
    "\n",
    "3. На 3 месте по продажам - Shop 6 - 62409.14, он же на 2 месте по возвратам - средний чек возврата - 725.70.  \n",
    "\n",
    "\n",
    "4. Судя по распределению выручки по месяцам по магазинам, стабильно работали не все из них, либо выгрузка данных была проведена некорректно. В любом случае самым прибыльным месяцем был декабрь. Какого-то тренда на увеличение выручки, количества чеков и покупателей, и снижение возвратов с декабря по февраль не наблюдается.\n",
    "\n",
    "\n",
    "5. Средний чек возврата - 148.75. У большей части магазинов возвраты составляют менее 100.\n",
    "\n",
    "\n",
    "6. Средний чек покупки по всем магазинам - 1558.77, это достаточно много. Единичные выбросы в отдельных магазинах сказываются на общей цифре возвратов. Лидер по среднему чеку магазин Shop 3, второе место у Shop 14 - 4469.21, третье место Shop 24 - 3984.62. \n"
   ]
  },
  {
   "cell_type": "markdown",
   "id": "ed6151cf",
   "metadata": {},
   "source": [
    "По итогам анализа программы лояльности можно сказать следующее:\n",
    "\n",
    "1. Итого покупки в магазинах сети совершили 1116 покупателей - неучастников программы лояльности и 565 участников программы. Неучастники программы совершили 2738 покупок, участники - 1133. \n",
    "\n",
    "2. Общая сумма выручки от неучастников - 1731193.23, от участников - 591420.68. Средний чек: неучастники - 632.28, участники - 521.99. \n",
    "\n",
    "3. Возвращали товары:\n",
    "- неучастники - 362, вернули 789 покупок;\n",
    "- участники - 159, вернули 211 покупок.\n",
    "\n",
    "4. Общая сумма возвратов у неучастников - 105105.86, у участников - 18392.15. Средняя сумма возврата у неучастников - 133.21, у участников - 87.16.\n",
    "\n",
    "5. Диаграммы рассеяния для количества товаров в покупках/возвратах и суммы покупок/возвратов показали, что неучастники программы совершали покупки на большие суммы, чем участники программы. Да, у неучастников были более крупные возвраты, но их число примерно соотносится с числом возвратов у участников, а также, что неучастники покупали примерно такое же число товаров, что и неучастники. Также неучастниками было совершено ряд самых крупных покупок.\n",
    "\n",
    "6. График разбивки покупок по месяцам не показал наличие тренда на увеличение числа покупок как у неучастников, так и у участников. Есть лишь незначительное увеличение числа покупок участниками в феврале. Также число покупок участников программы не превышает число покупок не участников программы.\n",
    "\n",
    "7. График количества уникальных покупателей ежемесячно также нет тренда на увеличение числа уникальных покупателей, как участников, так и неучастников. Есть незначительное увеличение в феврале по отношению к январю уникальных участников программы, совершивших покупки.\n",
    "\n",
    "8. Большая часть магазинов представленных в данных работали не все 3 месяца, скорее всего поэтому мы и не можем выявить наличие какой-либо динамики в количестве покупателей.\n",
    "\n",
    "9. Линейная зависимость в представленных данных определяется только у двух признаков: количество товаров в чеке и стоимость покупки, что естественно. Для остальных признаков линейная зависимость не наблюдается.\n",
    "\n",
    "Анализ программы лояльности в разрезе по магазинам показал, что:\n",
    "\n",
    "1. Покупки участниками программы лояльности совершались лишь в 4 магазинах сети. И за исключением 3 клиентов, все остальные участники совершали покупки в Shop 0, что еще раз подтверждает то, что магазин является флагманом сети. Только один из этих магазинов работал все 3 месяца, остальные либо только открывались, либо наоборот закрывались, сложно составить на основании данных из этих магазинов четкое представление о динамике продаж и посещений.\n",
    "\n",
    "2. В Shop 0 совершали покупки 584 покупателя-участника и 988 покупателя-неучастника;\n",
    "- участники купили - 1337 раз, 23271 единиц товара, 221705 - количество товаров, сумма выручки - 562150;\n",
    "- неучастники купили 3111 раз, 73076\tединиц товара,\t449920 - количество товаров, сумма выручки -1214352.54.\n",
    "\n",
    "3. Анализ соотношения выручки полученной от участников и неучастников программы лояльности показал следующее: \n",
    "\n",
    "- Shop 19 - участники программы принесли вклад в виде 88 % выручки, но эти покупки совершал один клиент, всего 4 покупки.\n",
    "\n",
    "- Shop 8 - участники программы купили на 1 %, это также был один покупатель, который совершил 2 покупки.\n",
    "\n",
    "- Shop 28 - всю сумму выручки принесли покупатели - участники программы, но это выглядит очень странно, т.к. всего 1 покупатель и 1 покупка.\n",
    "\n",
    "- Shop 0 - 30% выручки принесли покупатели-участники программы, 70 % - неучастники. Это при том, что 62% покупателей в данном магазине не являются участниками программы лояльности, а 37% - являются. \n",
    "\n",
    "4. Распределение числа покупателей для наших 4-ех магазинов, в которых совершали покупки участники программы лояльности:\n",
    "\n",
    "- Shop 0 - 37% участники 62% - неучастники;\n",
    "- Shop 19 - 33% участники, 66% - неучастники;\n",
    "- Shop 28 - 100% покупок совершили участники - 1 покупку, которая попала в нашу выборку;\n",
    "- Shop 8 - 8 % участники, 91% - неучастники.\n",
    "\n",
    "5. % возвратов по магазинам распределились следущим образом:\n",
    "\n",
    "- Shop 0 - 15% вернули участники, 84% - неучастники;\n",
    "- Shop 19 - 97 % вернули участники программы (1 покупка);\n",
    "- В остальных магазинах не было возвратов от участников программы.\n",
    "\n",
    "Основным магазином сети по которому мы можем сделать более-менее корректные выводы о работе программы лояльности является магазин Shop 0. В данном магазине 30% выручки дали 37% покупателей, которые являются участниками, а 70% выручки дали 62 % покупателей, которые не являются участниками. Также мы выяснили, что 584 покупателя-участника в том же магазине Shop 0 купили в среднем в три раза меньше товаров и раз, на сумму в два раза меньше, чем неучастники программы лояльности. \n",
    "\n",
    "На основании изложенного выше можно сделать вывод, что программы лояльности не работает, а возможно и не окупается. \n",
    "\n",
    "Но для получения более достоверных сведений необходимо провести дополнителньое исследование по более корректным данным."
   ]
  },
  {
   "cell_type": "markdown",
   "id": "99e397de",
   "metadata": {},
   "source": [
    "Выводы по результатам тестирования гипотез:\n",
    "\n",
    "Тестировали 2 гипотезы: \n",
    "\n",
    "1. Средний чек покупателей-участников программы лояльности выше, чем средний чек не-участников.\n",
    "\n",
    "2. Среднее количество товаров в чеках покупателей-участников программы лояльности выше, чем среднее количество товаров в чеке не-участников.\n",
    "\n",
    "Обе гипотезы о равенстве средних для двух совокупностей, поэтому использовались тесты для гипотезы о равенстве средних двух генеральных совокупностей.\n",
    "\n",
    "Критерии выбора метода:\n",
    "\n",
    "совокупности не зависят друг от друга; \n",
    "выборочные средние нормально распределены; \n",
    "дисперсии рассматриваемых совокупностей равны. \n",
    "\n",
    "Действительно наши совокупности не зависят друг от друга, выборочные средние нормально распределены, посмотрим равны ли дисперсии.\n",
    "\n",
    "В результате тестирования первой гипотезы не удалось доказать неравенство двух выборок, т.е. средний чек участников программы равен среднему чеку неучастников программы, как минимум по самостоятельным досчетам мы видим, что он не выше среднего чека неучастников программы.\n",
    "\n",
    "В результате тестирования второй гипотезы мы пришли к выводу, что нулевая гипотеза о том, что среднее количество товаров в чеке участников программы лояльности равно среднему количеству товаров в чеке неучастника программы не верна. Среднее число товаров в чеках участников не равно количеству товаров в чеках неучастников, в какую именно сторону они не равны мы можем предположить, а именно, что количество товаров в чеках неучастников выше."
   ]
  },
  {
   "cell_type": "markdown",
   "id": "55c9d4d7",
   "metadata": {},
   "source": [
    "Рекомендации для дальнейшей работы с программой лояльности:\n",
    "\n",
    "1. Провести дополнительное исследование и анализ данных, но уже при наличии полных данных и комментариев к их содержанию, а именно:\n",
    "- данные по магазинам, которые работали весь период представленный для выгрузки;\n",
    "- данные по типу магазина (онлайн, или нет);\n",
    "- данные о ценах и товарах с комментариями, если товарная единица не относится к материальным товарам, а является комиссией или сбором;\n",
    "- данные о нулевых товарах и товарах-бонусах.\n",
    "\n",
    "2. Проверить обоснованность наличия такого большого количества нулевых товаров в чеках.\n",
    "\n",
    "3. Просчитать необходимость такого количества промо-активностей, если товары из пункта выше действительно выданы по промо-акциям.\n",
    "\n",
    "4. Проработать программу лояльности: пересчитать сумму скидок и предоставление других бонусов по карте лояльности.\n",
    "\n",
    "5. Проработать вопрос осведомленности клиентов о возможности получения/приобретения карты лояльности, если есть заинтересованность в дальнейшей работе по ней с корректировкой ее работы.\n",
    "    "
   ]
  },
  {
   "cell_type": "code",
   "execution_count": null,
   "id": "fe6fc64c",
   "metadata": {},
   "outputs": [],
   "source": []
  }
 ],
 "metadata": {
  "ExecuteTimeLog": [
   {
    "duration": 1316,
    "start_time": "2022-10-18T16:26:43.917Z"
   },
   {
    "duration": 319,
    "start_time": "2022-10-18T16:26:45.235Z"
   },
   {
    "duration": 104,
    "start_time": "2022-10-18T16:26:45.556Z"
   },
   {
    "duration": 29,
    "start_time": "2022-10-18T16:26:45.662Z"
   },
   {
    "duration": 11,
    "start_time": "2022-10-18T16:26:45.692Z"
   },
   {
    "duration": 11,
    "start_time": "2022-10-18T16:26:45.705Z"
   },
   {
    "duration": 8,
    "start_time": "2022-10-18T16:26:45.718Z"
   },
   {
    "duration": 11,
    "start_time": "2022-10-18T16:26:45.728Z"
   },
   {
    "duration": 12,
    "start_time": "2022-10-18T16:26:45.741Z"
   },
   {
    "duration": 5,
    "start_time": "2022-10-18T16:26:45.756Z"
   },
   {
    "duration": 6,
    "start_time": "2022-10-18T16:26:45.763Z"
   },
   {
    "duration": 27,
    "start_time": "2022-10-18T16:26:45.771Z"
   },
   {
    "duration": 4,
    "start_time": "2022-10-18T16:26:45.800Z"
   },
   {
    "duration": 4,
    "start_time": "2022-10-18T16:26:45.823Z"
   },
   {
    "duration": 5,
    "start_time": "2022-10-18T16:26:45.830Z"
   },
   {
    "duration": 11,
    "start_time": "2022-10-18T16:26:45.837Z"
   },
   {
    "duration": 6,
    "start_time": "2022-10-18T16:26:45.850Z"
   },
   {
    "duration": 6,
    "start_time": "2022-10-18T16:26:45.858Z"
   },
   {
    "duration": 58,
    "start_time": "2022-10-18T16:26:45.865Z"
   },
   {
    "duration": 18,
    "start_time": "2022-10-18T16:26:45.924Z"
   },
   {
    "duration": 21,
    "start_time": "2022-10-18T16:26:45.943Z"
   },
   {
    "duration": 10,
    "start_time": "2022-10-18T16:26:46.023Z"
   },
   {
    "duration": 10,
    "start_time": "2022-10-18T16:26:46.035Z"
   },
   {
    "duration": 21,
    "start_time": "2022-10-18T16:26:46.047Z"
   },
   {
    "duration": 57,
    "start_time": "2022-10-18T16:26:46.070Z"
   },
   {
    "duration": 96,
    "start_time": "2022-10-18T16:26:46.129Z"
   },
   {
    "duration": 6,
    "start_time": "2022-10-18T16:26:46.226Z"
   },
   {
    "duration": 103,
    "start_time": "2022-10-18T16:26:46.235Z"
   },
   {
    "duration": 10,
    "start_time": "2022-10-18T16:26:46.340Z"
   },
   {
    "duration": 14,
    "start_time": "2022-10-18T16:26:46.352Z"
   },
   {
    "duration": 11,
    "start_time": "2022-10-18T16:26:46.422Z"
   },
   {
    "duration": 16,
    "start_time": "2022-10-18T16:26:46.435Z"
   },
   {
    "duration": 69,
    "start_time": "2022-10-18T16:26:46.453Z"
   },
   {
    "duration": 10,
    "start_time": "2022-10-18T16:26:46.524Z"
   },
   {
    "duration": 13,
    "start_time": "2022-10-18T16:26:46.535Z"
   },
   {
    "duration": 12,
    "start_time": "2022-10-18T16:26:46.549Z"
   },
   {
    "duration": 61,
    "start_time": "2022-10-18T16:26:46.563Z"
   },
   {
    "duration": 14,
    "start_time": "2022-10-18T16:26:46.626Z"
   },
   {
    "duration": 14,
    "start_time": "2022-10-18T16:26:46.642Z"
   },
   {
    "duration": 66,
    "start_time": "2022-10-18T16:26:46.657Z"
   },
   {
    "duration": 10,
    "start_time": "2022-10-18T16:26:46.725Z"
   },
   {
    "duration": 9,
    "start_time": "2022-10-18T16:26:46.737Z"
   },
   {
    "duration": 17,
    "start_time": "2022-10-18T16:26:46.748Z"
   },
   {
    "duration": 63,
    "start_time": "2022-10-18T16:26:46.766Z"
   },
   {
    "duration": 15,
    "start_time": "2022-10-18T16:26:46.831Z"
   },
   {
    "duration": 123,
    "start_time": "2022-10-18T16:26:46.848Z"
   },
   {
    "duration": 23,
    "start_time": "2022-10-18T16:26:47.023Z"
   },
   {
    "duration": 74,
    "start_time": "2022-10-18T16:26:47.048Z"
   },
   {
    "duration": 15,
    "start_time": "2022-10-18T16:26:47.125Z"
   },
   {
    "duration": 127,
    "start_time": "2022-10-18T16:26:47.142Z"
   },
   {
    "duration": 56,
    "start_time": "2022-10-18T16:26:47.270Z"
   },
   {
    "duration": 103,
    "start_time": "2022-10-18T16:26:47.328Z"
   },
   {
    "duration": 6,
    "start_time": "2022-10-18T16:26:47.433Z"
   },
   {
    "duration": 12,
    "start_time": "2022-10-18T16:26:47.441Z"
   },
   {
    "duration": 83,
    "start_time": "2022-10-18T16:26:47.455Z"
   },
   {
    "duration": 12,
    "start_time": "2022-10-18T16:26:47.540Z"
   },
   {
    "duration": 68,
    "start_time": "2022-10-18T16:26:47.555Z"
   },
   {
    "duration": 20,
    "start_time": "2022-10-18T16:26:47.625Z"
   },
   {
    "duration": 11,
    "start_time": "2022-10-18T16:26:47.647Z"
   },
   {
    "duration": 70,
    "start_time": "2022-10-18T16:26:47.660Z"
   },
   {
    "duration": 27,
    "start_time": "2022-10-18T16:26:47.732Z"
   },
   {
    "duration": 61,
    "start_time": "2022-10-18T16:26:47.761Z"
   },
   {
    "duration": 11,
    "start_time": "2022-10-18T16:26:47.824Z"
   },
   {
    "duration": 14,
    "start_time": "2022-10-18T16:26:47.836Z"
   },
   {
    "duration": 6,
    "start_time": "2022-10-18T16:26:47.852Z"
   },
   {
    "duration": 6,
    "start_time": "2022-10-18T16:26:47.860Z"
   },
   {
    "duration": 60,
    "start_time": "2022-10-18T16:26:47.868Z"
   },
   {
    "duration": 8,
    "start_time": "2022-10-18T16:26:47.930Z"
   },
   {
    "duration": 350,
    "start_time": "2022-10-18T16:26:47.940Z"
   },
   {
    "duration": 59,
    "start_time": "2022-10-18T16:26:48.292Z"
   },
   {
    "duration": 22,
    "start_time": "2022-10-18T16:26:48.354Z"
   },
   {
    "duration": 23,
    "start_time": "2022-10-18T16:26:48.378Z"
   },
   {
    "duration": 77,
    "start_time": "2022-10-18T16:26:48.403Z"
   },
   {
    "duration": 42,
    "start_time": "2022-10-18T16:26:48.482Z"
   },
   {
    "duration": 10,
    "start_time": "2022-10-18T16:26:48.526Z"
   },
   {
    "duration": 43,
    "start_time": "2022-10-18T16:26:48.538Z"
   },
   {
    "duration": 189,
    "start_time": "2022-10-18T16:26:48.582Z"
   },
   {
    "duration": 238,
    "start_time": "2022-10-18T16:26:48.772Z"
   },
   {
    "duration": 17,
    "start_time": "2022-10-18T16:26:49.012Z"
   },
   {
    "duration": 238,
    "start_time": "2022-10-18T16:26:49.031Z"
   },
   {
    "duration": 7,
    "start_time": "2022-10-18T16:26:49.271Z"
   },
   {
    "duration": 5,
    "start_time": "2022-10-18T16:26:49.287Z"
   },
   {
    "duration": 50,
    "start_time": "2022-10-18T16:26:49.293Z"
   },
   {
    "duration": 14,
    "start_time": "2022-10-18T16:26:49.345Z"
   },
   {
    "duration": 215,
    "start_time": "2022-10-18T16:26:49.362Z"
   },
   {
    "duration": 182,
    "start_time": "2022-10-18T16:26:49.579Z"
   },
   {
    "duration": 52,
    "start_time": "2022-10-18T16:26:49.763Z"
   },
   {
    "duration": 21,
    "start_time": "2022-10-18T16:26:49.819Z"
   },
   {
    "duration": 70,
    "start_time": "2022-10-18T16:26:49.841Z"
   },
   {
    "duration": 106,
    "start_time": "2022-10-18T16:26:49.923Z"
   },
   {
    "duration": 26,
    "start_time": "2022-10-18T16:26:50.031Z"
   },
   {
    "duration": 1200,
    "start_time": "2022-10-18T16:26:50.058Z"
   },
   {
    "duration": 30,
    "start_time": "2022-10-18T16:26:51.261Z"
   },
   {
    "duration": 219,
    "start_time": "2022-10-18T16:26:51.293Z"
   },
   {
    "duration": 36,
    "start_time": "2022-10-18T16:26:51.514Z"
   },
   {
    "duration": 6,
    "start_time": "2022-10-18T16:26:51.553Z"
   },
   {
    "duration": 36,
    "start_time": "2022-10-18T16:26:51.561Z"
   },
   {
    "duration": 23,
    "start_time": "2022-10-18T16:26:51.600Z"
   },
   {
    "duration": 386,
    "start_time": "2022-10-18T16:26:51.625Z"
   },
   {
    "duration": 21,
    "start_time": "2022-10-18T16:26:52.013Z"
   },
   {
    "duration": 11,
    "start_time": "2022-10-18T16:26:52.036Z"
   },
   {
    "duration": 277,
    "start_time": "2022-10-18T16:26:52.049Z"
   },
   {
    "duration": 14,
    "start_time": "2022-10-18T16:26:52.328Z"
   },
   {
    "duration": 62,
    "start_time": "2022-10-18T16:26:52.343Z"
   },
   {
    "duration": 23,
    "start_time": "2022-10-18T16:26:52.407Z"
   },
   {
    "duration": 19,
    "start_time": "2022-10-18T16:26:52.432Z"
   },
   {
    "duration": 9,
    "start_time": "2022-10-18T16:26:52.452Z"
   },
   {
    "duration": 354,
    "start_time": "2022-10-18T16:26:52.463Z"
   },
   {
    "duration": 1393,
    "start_time": "2022-10-18T16:26:52.822Z"
   },
   {
    "duration": 214,
    "start_time": "2022-10-18T16:26:54.217Z"
   },
   {
    "duration": 215,
    "start_time": "2022-10-18T16:26:54.433Z"
   },
   {
    "duration": 195,
    "start_time": "2022-10-18T16:26:54.649Z"
   },
   {
    "duration": 12,
    "start_time": "2022-10-18T16:26:54.846Z"
   },
   {
    "duration": 15,
    "start_time": "2022-10-18T16:26:54.860Z"
   },
   {
    "duration": 172,
    "start_time": "2022-10-18T16:26:54.878Z"
   },
   {
    "duration": 18,
    "start_time": "2022-10-18T16:26:55.052Z"
   },
   {
    "duration": 50,
    "start_time": "2022-10-18T16:26:55.072Z"
   },
   {
    "duration": 127,
    "start_time": "2022-10-18T16:26:55.125Z"
   },
   {
    "duration": 32,
    "start_time": "2022-10-18T16:26:55.253Z"
   },
   {
    "duration": 42,
    "start_time": "2022-10-18T16:26:55.286Z"
   },
   {
    "duration": 43,
    "start_time": "2022-10-18T16:26:55.330Z"
   },
   {
    "duration": 67,
    "start_time": "2022-10-18T16:26:55.375Z"
   },
   {
    "duration": 31,
    "start_time": "2022-10-18T16:26:55.444Z"
   },
   {
    "duration": 68,
    "start_time": "2022-10-18T16:26:55.477Z"
   },
   {
    "duration": 16,
    "start_time": "2022-10-18T16:26:55.547Z"
   },
   {
    "duration": 32,
    "start_time": "2022-10-18T16:26:55.565Z"
   },
   {
    "duration": 28,
    "start_time": "2022-10-18T16:26:55.599Z"
   },
   {
    "duration": 27,
    "start_time": "2022-10-18T16:26:55.629Z"
   },
   {
    "duration": 482,
    "start_time": "2022-10-18T16:26:55.658Z"
   },
   {
    "duration": 18,
    "start_time": "2022-10-18T16:26:56.143Z"
   },
   {
    "duration": 4,
    "start_time": "2022-10-18T16:26:56.164Z"
   },
   {
    "duration": 21,
    "start_time": "2022-10-18T16:26:56.169Z"
   },
   {
    "duration": 32,
    "start_time": "2022-10-18T16:26:56.192Z"
   },
   {
    "duration": 9,
    "start_time": "2022-10-18T16:26:56.226Z"
   },
   {
    "duration": 5,
    "start_time": "2022-10-18T16:26:56.236Z"
   },
   {
    "duration": 6,
    "start_time": "2022-10-18T16:26:56.243Z"
   },
   {
    "duration": 21,
    "start_time": "2022-10-18T16:26:56.251Z"
   },
   {
    "duration": 51,
    "start_time": "2022-10-18T16:26:56.274Z"
   },
   {
    "duration": 5,
    "start_time": "2022-10-18T16:26:56.327Z"
   },
   {
    "duration": 10,
    "start_time": "2022-10-18T16:26:56.333Z"
   },
   {
    "duration": 12,
    "start_time": "2022-10-18T16:26:56.344Z"
   },
   {
    "duration": 8,
    "start_time": "2022-10-18T16:26:56.358Z"
   },
   {
    "duration": 9,
    "start_time": "2022-10-18T16:26:56.369Z"
   },
   {
    "duration": 129,
    "start_time": "2022-10-18T16:31:53.777Z"
   },
   {
    "duration": 11,
    "start_time": "2022-10-18T16:32:07.135Z"
   },
   {
    "duration": 6,
    "start_time": "2022-10-18T16:32:15.049Z"
   },
   {
    "duration": 4,
    "start_time": "2022-10-18T16:34:09.634Z"
   },
   {
    "duration": 1324,
    "start_time": "2022-10-18T17:34:10.741Z"
   },
   {
    "duration": 363,
    "start_time": "2022-10-18T17:34:12.067Z"
   },
   {
    "duration": 155,
    "start_time": "2022-10-18T17:34:12.432Z"
   },
   {
    "duration": 73,
    "start_time": "2022-10-18T17:34:12.588Z"
   },
   {
    "duration": 13,
    "start_time": "2022-10-18T17:34:12.663Z"
   },
   {
    "duration": 5,
    "start_time": "2022-10-18T17:34:12.678Z"
   },
   {
    "duration": 16,
    "start_time": "2022-10-18T17:34:12.685Z"
   },
   {
    "duration": 11,
    "start_time": "2022-10-18T17:34:12.702Z"
   },
   {
    "duration": 13,
    "start_time": "2022-10-18T17:34:12.715Z"
   },
   {
    "duration": 31,
    "start_time": "2022-10-18T17:34:12.730Z"
   },
   {
    "duration": 19,
    "start_time": "2022-10-18T17:34:12.765Z"
   },
   {
    "duration": 38,
    "start_time": "2022-10-18T17:34:12.786Z"
   },
   {
    "duration": 43,
    "start_time": "2022-10-18T17:34:12.825Z"
   },
   {
    "duration": 5,
    "start_time": "2022-10-18T17:34:12.924Z"
   },
   {
    "duration": 26,
    "start_time": "2022-10-18T17:34:12.931Z"
   },
   {
    "duration": 9,
    "start_time": "2022-10-18T17:34:12.960Z"
   },
   {
    "duration": 12,
    "start_time": "2022-10-18T17:34:12.971Z"
   },
   {
    "duration": 39,
    "start_time": "2022-10-18T17:34:12.985Z"
   },
   {
    "duration": 42,
    "start_time": "2022-10-18T17:34:13.026Z"
   },
   {
    "duration": 45,
    "start_time": "2022-10-18T17:34:13.070Z"
   },
   {
    "duration": 38,
    "start_time": "2022-10-18T17:34:13.117Z"
   },
   {
    "duration": 33,
    "start_time": "2022-10-18T17:34:13.157Z"
   },
   {
    "duration": 11,
    "start_time": "2022-10-18T17:34:13.191Z"
   },
   {
    "duration": 23,
    "start_time": "2022-10-18T17:34:13.205Z"
   },
   {
    "duration": 37,
    "start_time": "2022-10-18T17:34:13.230Z"
   },
   {
    "duration": 9,
    "start_time": "2022-10-18T17:34:13.270Z"
   },
   {
    "duration": 72,
    "start_time": "2022-10-18T17:34:13.281Z"
   },
   {
    "duration": 7,
    "start_time": "2022-10-18T17:34:13.355Z"
   },
   {
    "duration": 64,
    "start_time": "2022-10-18T17:34:13.364Z"
   },
   {
    "duration": 15,
    "start_time": "2022-10-18T17:34:13.430Z"
   },
   {
    "duration": 19,
    "start_time": "2022-10-18T17:34:13.447Z"
   },
   {
    "duration": 11,
    "start_time": "2022-10-18T17:34:13.468Z"
   },
   {
    "duration": 11,
    "start_time": "2022-10-18T17:34:13.480Z"
   },
   {
    "duration": 56,
    "start_time": "2022-10-18T17:34:13.493Z"
   },
   {
    "duration": 14,
    "start_time": "2022-10-18T17:34:13.552Z"
   },
   {
    "duration": 15,
    "start_time": "2022-10-18T17:34:13.567Z"
   },
   {
    "duration": 15,
    "start_time": "2022-10-18T17:34:13.584Z"
   },
   {
    "duration": 24,
    "start_time": "2022-10-18T17:34:13.601Z"
   },
   {
    "duration": 35,
    "start_time": "2022-10-18T17:34:13.627Z"
   },
   {
    "duration": 23,
    "start_time": "2022-10-18T17:34:13.663Z"
   },
   {
    "duration": 10,
    "start_time": "2022-10-18T17:34:13.694Z"
   },
   {
    "duration": 14,
    "start_time": "2022-10-18T17:34:13.706Z"
   },
   {
    "duration": 36,
    "start_time": "2022-10-18T17:34:13.722Z"
   },
   {
    "duration": 28,
    "start_time": "2022-10-18T17:34:13.760Z"
   },
   {
    "duration": 13,
    "start_time": "2022-10-18T17:34:13.790Z"
   },
   {
    "duration": 13,
    "start_time": "2022-10-18T17:34:13.808Z"
   },
   {
    "duration": 150,
    "start_time": "2022-10-18T17:34:13.823Z"
   },
   {
    "duration": 25,
    "start_time": "2022-10-18T17:34:13.975Z"
   },
   {
    "duration": 35,
    "start_time": "2022-10-18T17:34:14.002Z"
   },
   {
    "duration": 22,
    "start_time": "2022-10-18T17:34:14.039Z"
   },
   {
    "duration": 112,
    "start_time": "2022-10-18T17:34:14.064Z"
   },
   {
    "duration": 8,
    "start_time": "2022-10-18T17:34:14.178Z"
   },
   {
    "duration": 79,
    "start_time": "2022-10-18T17:34:14.188Z"
   },
   {
    "duration": 8,
    "start_time": "2022-10-18T17:34:14.269Z"
   },
   {
    "duration": 14,
    "start_time": "2022-10-18T17:34:14.279Z"
   },
   {
    "duration": 37,
    "start_time": "2022-10-18T17:34:14.295Z"
   },
   {
    "duration": 12,
    "start_time": "2022-10-18T17:34:14.334Z"
   },
   {
    "duration": 21,
    "start_time": "2022-10-18T17:34:14.349Z"
   },
   {
    "duration": 21,
    "start_time": "2022-10-18T17:34:14.372Z"
   },
   {
    "duration": 8,
    "start_time": "2022-10-18T17:34:14.394Z"
   },
   {
    "duration": 20,
    "start_time": "2022-10-18T17:34:14.403Z"
   },
   {
    "duration": 41,
    "start_time": "2022-10-18T17:34:14.424Z"
   },
   {
    "duration": 7,
    "start_time": "2022-10-18T17:34:14.466Z"
   },
   {
    "duration": 9,
    "start_time": "2022-10-18T17:34:14.475Z"
   },
   {
    "duration": 11,
    "start_time": "2022-10-18T17:34:14.486Z"
   },
   {
    "duration": 12,
    "start_time": "2022-10-18T17:34:14.499Z"
   },
   {
    "duration": 5,
    "start_time": "2022-10-18T17:34:14.513Z"
   },
   {
    "duration": 42,
    "start_time": "2022-10-18T17:34:14.520Z"
   },
   {
    "duration": 17,
    "start_time": "2022-10-18T17:34:14.564Z"
   },
   {
    "duration": 219,
    "start_time": "2022-10-18T17:34:14.583Z"
   },
   {
    "duration": 32,
    "start_time": "2022-10-18T17:34:14.804Z"
   },
   {
    "duration": 21,
    "start_time": "2022-10-18T17:34:14.837Z"
   },
   {
    "duration": 19,
    "start_time": "2022-10-18T17:34:14.860Z"
   },
   {
    "duration": 52,
    "start_time": "2022-10-18T17:34:14.881Z"
   },
   {
    "duration": 31,
    "start_time": "2022-10-18T17:34:14.935Z"
   },
   {
    "duration": 13,
    "start_time": "2022-10-18T17:34:14.968Z"
   },
   {
    "duration": 66,
    "start_time": "2022-10-18T17:34:14.983Z"
   },
   {
    "duration": 406,
    "start_time": "2022-10-18T17:34:15.051Z"
   },
   {
    "duration": 407,
    "start_time": "2022-10-18T17:34:15.459Z"
   },
   {
    "duration": 10,
    "start_time": "2022-10-18T17:34:15.868Z"
   },
   {
    "duration": 568,
    "start_time": "2022-10-18T17:34:15.880Z"
   },
   {
    "duration": 7,
    "start_time": "2022-10-18T17:34:16.449Z"
   },
   {
    "duration": 13,
    "start_time": "2022-10-18T17:34:16.458Z"
   },
   {
    "duration": 106,
    "start_time": "2022-10-18T17:34:16.473Z"
   },
   {
    "duration": 23,
    "start_time": "2022-10-18T17:34:16.622Z"
   },
   {
    "duration": 513,
    "start_time": "2022-10-18T17:34:16.646Z"
   },
   {
    "duration": 513,
    "start_time": "2022-10-18T17:34:17.160Z"
   },
   {
    "duration": 126,
    "start_time": "2022-10-18T17:34:17.675Z"
   },
   {
    "duration": 33,
    "start_time": "2022-10-18T17:34:17.825Z"
   },
   {
    "duration": 211,
    "start_time": "2022-10-18T17:34:17.861Z"
   },
   {
    "duration": 264,
    "start_time": "2022-10-18T17:34:18.073Z"
   },
   {
    "duration": 30,
    "start_time": "2022-10-18T17:34:18.339Z"
   },
   {
    "duration": 1505,
    "start_time": "2022-10-18T17:34:18.371Z"
   },
   {
    "duration": 26,
    "start_time": "2022-10-18T17:34:19.878Z"
   },
   {
    "duration": 236,
    "start_time": "2022-10-18T17:34:19.905Z"
   },
   {
    "duration": 25,
    "start_time": "2022-10-18T17:34:20.143Z"
   },
   {
    "duration": 8,
    "start_time": "2022-10-18T17:34:20.170Z"
   },
   {
    "duration": 44,
    "start_time": "2022-10-18T17:34:20.180Z"
   },
   {
    "duration": 29,
    "start_time": "2022-10-18T17:34:20.226Z"
   },
   {
    "duration": 425,
    "start_time": "2022-10-18T17:34:20.257Z"
   },
   {
    "duration": 13,
    "start_time": "2022-10-18T17:34:20.684Z"
   },
   {
    "duration": 18,
    "start_time": "2022-10-18T17:34:20.699Z"
   },
   {
    "duration": 340,
    "start_time": "2022-10-18T17:34:20.719Z"
   },
   {
    "duration": 18,
    "start_time": "2022-10-18T17:34:21.061Z"
   },
   {
    "duration": 78,
    "start_time": "2022-10-18T17:34:21.081Z"
   },
   {
    "duration": 9,
    "start_time": "2022-10-18T17:34:21.160Z"
   },
   {
    "duration": 21,
    "start_time": "2022-10-18T17:34:21.170Z"
   },
   {
    "duration": 9,
    "start_time": "2022-10-18T17:34:21.192Z"
   },
   {
    "duration": 478,
    "start_time": "2022-10-18T17:34:21.203Z"
   },
   {
    "duration": 1800,
    "start_time": "2022-10-18T17:34:21.684Z"
   },
   {
    "duration": 297,
    "start_time": "2022-10-18T17:34:23.487Z"
   },
   {
    "duration": 249,
    "start_time": "2022-10-18T17:34:23.786Z"
   },
   {
    "duration": 228,
    "start_time": "2022-10-18T17:34:24.038Z"
   },
   {
    "duration": 10,
    "start_time": "2022-10-18T17:34:24.268Z"
   },
   {
    "duration": 18,
    "start_time": "2022-10-18T17:34:24.280Z"
   },
   {
    "duration": 179,
    "start_time": "2022-10-18T17:34:24.301Z"
   },
   {
    "duration": 19,
    "start_time": "2022-10-18T17:34:24.482Z"
   },
   {
    "duration": 47,
    "start_time": "2022-10-18T17:34:24.503Z"
   },
   {
    "duration": 161,
    "start_time": "2022-10-18T17:34:24.552Z"
   },
   {
    "duration": 44,
    "start_time": "2022-10-18T17:34:24.717Z"
   },
   {
    "duration": 15,
    "start_time": "2022-10-18T17:34:24.764Z"
   },
   {
    "duration": 55,
    "start_time": "2022-10-18T17:34:24.786Z"
   },
   {
    "duration": 68,
    "start_time": "2022-10-18T17:34:24.843Z"
   },
   {
    "duration": 55,
    "start_time": "2022-10-18T17:34:24.913Z"
   },
   {
    "duration": 85,
    "start_time": "2022-10-18T17:34:24.970Z"
   },
   {
    "duration": 22,
    "start_time": "2022-10-18T17:34:25.057Z"
   },
   {
    "duration": 63,
    "start_time": "2022-10-18T17:34:25.081Z"
   },
   {
    "duration": 5,
    "start_time": "2022-10-18T17:34:25.146Z"
   },
   {
    "duration": 32,
    "start_time": "2022-10-18T17:34:25.152Z"
   },
   {
    "duration": 478,
    "start_time": "2022-10-18T17:34:25.187Z"
   },
   {
    "duration": 20,
    "start_time": "2022-10-18T17:34:25.667Z"
   },
   {
    "duration": 17,
    "start_time": "2022-10-18T17:34:25.689Z"
   },
   {
    "duration": 32,
    "start_time": "2022-10-18T17:34:25.708Z"
   },
   {
    "duration": 23,
    "start_time": "2022-10-18T17:34:25.741Z"
   },
   {
    "duration": 13,
    "start_time": "2022-10-18T17:34:25.768Z"
   },
   {
    "duration": 15,
    "start_time": "2022-10-18T17:34:25.783Z"
   },
   {
    "duration": 19,
    "start_time": "2022-10-18T17:34:25.800Z"
   },
   {
    "duration": 43,
    "start_time": "2022-10-18T17:34:25.820Z"
   },
   {
    "duration": 21,
    "start_time": "2022-10-18T17:34:25.865Z"
   },
   {
    "duration": 7,
    "start_time": "2022-10-18T17:34:25.888Z"
   },
   {
    "duration": 19,
    "start_time": "2022-10-18T17:34:25.896Z"
   },
   {
    "duration": 42,
    "start_time": "2022-10-18T17:34:25.917Z"
   },
   {
    "duration": 28,
    "start_time": "2022-10-18T17:34:25.961Z"
   },
   {
    "duration": 16,
    "start_time": "2022-10-18T17:34:25.991Z"
   },
   {
    "duration": 1317,
    "start_time": "2022-10-20T15:56:27.825Z"
   },
   {
    "duration": 324,
    "start_time": "2022-10-20T15:56:29.144Z"
   },
   {
    "duration": 172,
    "start_time": "2022-10-20T15:56:29.470Z"
   },
   {
    "duration": 25,
    "start_time": "2022-10-20T15:56:29.645Z"
   },
   {
    "duration": 10,
    "start_time": "2022-10-20T15:56:29.672Z"
   },
   {
    "duration": 8,
    "start_time": "2022-10-20T15:56:29.684Z"
   },
   {
    "duration": 8,
    "start_time": "2022-10-20T15:56:29.694Z"
   },
   {
    "duration": 9,
    "start_time": "2022-10-20T15:56:29.704Z"
   },
   {
    "duration": 13,
    "start_time": "2022-10-20T15:56:29.714Z"
   },
   {
    "duration": 5,
    "start_time": "2022-10-20T15:56:29.730Z"
   },
   {
    "duration": 5,
    "start_time": "2022-10-20T15:56:29.754Z"
   },
   {
    "duration": 11,
    "start_time": "2022-10-20T15:56:29.761Z"
   },
   {
    "duration": 27,
    "start_time": "2022-10-20T15:56:29.774Z"
   },
   {
    "duration": 5,
    "start_time": "2022-10-20T15:56:29.803Z"
   },
   {
    "duration": 5,
    "start_time": "2022-10-20T15:56:29.810Z"
   },
   {
    "duration": 4,
    "start_time": "2022-10-20T15:56:29.817Z"
   },
   {
    "duration": 32,
    "start_time": "2022-10-20T15:56:29.822Z"
   },
   {
    "duration": 4,
    "start_time": "2022-10-20T15:56:29.856Z"
   },
   {
    "duration": 7,
    "start_time": "2022-10-20T15:56:29.862Z"
   },
   {
    "duration": 26,
    "start_time": "2022-10-20T15:56:29.870Z"
   },
   {
    "duration": 20,
    "start_time": "2022-10-20T15:56:29.898Z"
   },
   {
    "duration": 54,
    "start_time": "2022-10-20T15:56:29.920Z"
   },
   {
    "duration": 9,
    "start_time": "2022-10-20T15:56:29.976Z"
   },
   {
    "duration": 11,
    "start_time": "2022-10-20T15:56:29.987Z"
   },
   {
    "duration": 14,
    "start_time": "2022-10-20T15:56:29.999Z"
   },
   {
    "duration": 8,
    "start_time": "2022-10-20T15:56:30.014Z"
   },
   {
    "duration": 80,
    "start_time": "2022-10-20T15:56:30.024Z"
   },
   {
    "duration": 7,
    "start_time": "2022-10-20T15:56:30.109Z"
   },
   {
    "duration": 79,
    "start_time": "2022-10-20T15:56:30.118Z"
   },
   {
    "duration": 12,
    "start_time": "2022-10-20T15:56:30.199Z"
   },
   {
    "duration": 28,
    "start_time": "2022-10-20T15:56:30.212Z"
   },
   {
    "duration": 25,
    "start_time": "2022-10-20T15:56:30.242Z"
   },
   {
    "duration": 28,
    "start_time": "2022-10-20T15:56:30.268Z"
   },
   {
    "duration": 31,
    "start_time": "2022-10-20T15:56:30.297Z"
   },
   {
    "duration": 20,
    "start_time": "2022-10-20T15:56:30.330Z"
   },
   {
    "duration": 35,
    "start_time": "2022-10-20T15:56:30.353Z"
   },
   {
    "duration": 29,
    "start_time": "2022-10-20T15:56:30.391Z"
   },
   {
    "duration": 15,
    "start_time": "2022-10-20T15:56:30.422Z"
   },
   {
    "duration": 35,
    "start_time": "2022-10-20T15:56:30.439Z"
   },
   {
    "duration": 40,
    "start_time": "2022-10-20T15:56:30.477Z"
   },
   {
    "duration": 36,
    "start_time": "2022-10-20T15:56:30.519Z"
   },
   {
    "duration": 60,
    "start_time": "2022-10-20T15:56:30.557Z"
   },
   {
    "duration": 26,
    "start_time": "2022-10-20T15:56:30.618Z"
   },
   {
    "duration": 43,
    "start_time": "2022-10-20T15:56:30.646Z"
   },
   {
    "duration": 33,
    "start_time": "2022-10-20T15:56:30.691Z"
   },
   {
    "duration": 52,
    "start_time": "2022-10-20T15:56:30.726Z"
   },
   {
    "duration": 107,
    "start_time": "2022-10-20T15:56:30.781Z"
   },
   {
    "duration": 17,
    "start_time": "2022-10-20T15:56:30.890Z"
   },
   {
    "duration": 38,
    "start_time": "2022-10-20T15:56:30.908Z"
   },
   {
    "duration": 11,
    "start_time": "2022-10-20T15:56:30.948Z"
   },
   {
    "duration": 74,
    "start_time": "2022-10-20T15:56:30.961Z"
   },
   {
    "duration": 5,
    "start_time": "2022-10-20T15:56:31.037Z"
   },
   {
    "duration": 61,
    "start_time": "2022-10-20T15:56:31.044Z"
   },
   {
    "duration": 7,
    "start_time": "2022-10-20T15:56:31.108Z"
   },
   {
    "duration": 17,
    "start_time": "2022-10-20T15:56:31.117Z"
   },
   {
    "duration": 36,
    "start_time": "2022-10-20T15:56:31.136Z"
   },
   {
    "duration": 8,
    "start_time": "2022-10-20T15:56:31.174Z"
   },
   {
    "duration": 21,
    "start_time": "2022-10-20T15:56:31.184Z"
   },
   {
    "duration": 26,
    "start_time": "2022-10-20T15:56:31.207Z"
   },
   {
    "duration": 30,
    "start_time": "2022-10-20T15:56:31.235Z"
   },
   {
    "duration": 44,
    "start_time": "2022-10-20T15:56:31.267Z"
   },
   {
    "duration": 28,
    "start_time": "2022-10-20T15:56:31.312Z"
   },
   {
    "duration": 12,
    "start_time": "2022-10-20T15:56:31.341Z"
   },
   {
    "duration": 23,
    "start_time": "2022-10-20T15:56:31.355Z"
   },
   {
    "duration": 42,
    "start_time": "2022-10-20T15:56:31.380Z"
   },
   {
    "duration": 55,
    "start_time": "2022-10-20T15:56:31.429Z"
   },
   {
    "duration": 35,
    "start_time": "2022-10-20T15:56:31.486Z"
   },
   {
    "duration": 26,
    "start_time": "2022-10-20T15:56:31.523Z"
   },
   {
    "duration": 21,
    "start_time": "2022-10-20T15:56:31.551Z"
   },
   {
    "duration": 285,
    "start_time": "2022-10-20T15:56:31.574Z"
   },
   {
    "duration": 25,
    "start_time": "2022-10-20T15:56:31.861Z"
   },
   {
    "duration": 20,
    "start_time": "2022-10-20T15:56:31.888Z"
   },
   {
    "duration": 46,
    "start_time": "2022-10-20T15:56:31.910Z"
   },
   {
    "duration": 60,
    "start_time": "2022-10-20T15:56:31.958Z"
   },
   {
    "duration": 44,
    "start_time": "2022-10-20T15:56:32.020Z"
   },
   {
    "duration": 11,
    "start_time": "2022-10-20T15:56:32.066Z"
   },
   {
    "duration": 18,
    "start_time": "2022-10-20T15:56:32.079Z"
   },
   {
    "duration": 231,
    "start_time": "2022-10-20T15:56:32.099Z"
   },
   {
    "duration": 221,
    "start_time": "2022-10-20T15:56:32.332Z"
   },
   {
    "duration": 184,
    "start_time": "2022-10-20T15:56:32.556Z"
   },
   {
    "duration": 15,
    "start_time": "2022-10-20T15:56:32.742Z"
   },
   {
    "duration": 202,
    "start_time": "2022-10-20T15:56:32.764Z"
   },
   {
    "duration": 5,
    "start_time": "2022-10-20T15:56:32.968Z"
   },
   {
    "duration": 10,
    "start_time": "2022-10-20T15:56:32.975Z"
   },
   {
    "duration": 30,
    "start_time": "2022-10-20T15:56:32.987Z"
   },
   {
    "duration": 10,
    "start_time": "2022-10-20T15:56:33.019Z"
   },
   {
    "duration": 11,
    "start_time": "2022-10-20T15:56:33.055Z"
   },
   {
    "duration": 12,
    "start_time": "2022-10-20T15:56:33.068Z"
   },
   {
    "duration": 217,
    "start_time": "2022-10-20T15:56:33.081Z"
   },
   {
    "duration": 299,
    "start_time": "2022-10-20T15:56:33.300Z"
   },
   {
    "duration": 188,
    "start_time": "2022-10-20T15:56:33.601Z"
   },
   {
    "duration": 23,
    "start_time": "2022-10-20T15:56:33.791Z"
   },
   {
    "duration": 10,
    "start_time": "2022-10-20T15:56:33.830Z"
   },
   {
    "duration": 24,
    "start_time": "2022-10-20T15:56:33.842Z"
   },
   {
    "duration": 18,
    "start_time": "2022-10-20T15:56:33.868Z"
   },
   {
    "duration": 90,
    "start_time": "2022-10-20T15:56:33.888Z"
   },
   {
    "duration": 28,
    "start_time": "2022-10-20T15:56:33.980Z"
   },
   {
    "duration": 45,
    "start_time": "2022-10-20T15:56:34.010Z"
   },
   {
    "duration": 1276,
    "start_time": "2022-10-20T15:56:34.057Z"
   },
   {
    "duration": 36,
    "start_time": "2022-10-20T15:56:35.335Z"
   },
   {
    "duration": 231,
    "start_time": "2022-10-20T15:56:35.373Z"
   },
   {
    "duration": 24,
    "start_time": "2022-10-20T15:56:35.606Z"
   },
   {
    "duration": 6,
    "start_time": "2022-10-20T15:56:35.632Z"
   },
   {
    "duration": 17,
    "start_time": "2022-10-20T15:56:35.654Z"
   },
   {
    "duration": 40,
    "start_time": "2022-10-20T15:56:35.673Z"
   },
   {
    "duration": 336,
    "start_time": "2022-10-20T15:56:35.714Z"
   },
   {
    "duration": 18,
    "start_time": "2022-10-20T15:56:36.052Z"
   },
   {
    "duration": 4,
    "start_time": "2022-10-20T15:56:36.072Z"
   },
   {
    "duration": 311,
    "start_time": "2022-10-20T15:56:36.078Z"
   },
   {
    "duration": 16,
    "start_time": "2022-10-20T15:56:36.391Z"
   },
   {
    "duration": 73,
    "start_time": "2022-10-20T15:56:36.409Z"
   },
   {
    "duration": 9,
    "start_time": "2022-10-20T15:56:36.484Z"
   },
   {
    "duration": 31,
    "start_time": "2022-10-20T15:56:36.495Z"
   },
   {
    "duration": 9,
    "start_time": "2022-10-20T15:56:36.528Z"
   },
   {
    "duration": 396,
    "start_time": "2022-10-20T15:56:36.553Z"
   },
   {
    "duration": 1514,
    "start_time": "2022-10-20T15:56:36.951Z"
   },
   {
    "duration": 257,
    "start_time": "2022-10-20T15:56:38.467Z"
   },
   {
    "duration": 250,
    "start_time": "2022-10-20T15:56:38.726Z"
   },
   {
    "duration": 243,
    "start_time": "2022-10-20T15:56:38.977Z"
   },
   {
    "duration": 10,
    "start_time": "2022-10-20T15:56:39.222Z"
   },
   {
    "duration": 29,
    "start_time": "2022-10-20T15:56:39.234Z"
   },
   {
    "duration": 168,
    "start_time": "2022-10-20T15:56:39.265Z"
   },
   {
    "duration": 21,
    "start_time": "2022-10-20T15:56:39.436Z"
   },
   {
    "duration": 168,
    "start_time": "2022-10-20T15:56:39.459Z"
   },
   {
    "duration": 25,
    "start_time": "2022-10-20T15:56:39.629Z"
   },
   {
    "duration": 24,
    "start_time": "2022-10-20T15:56:39.655Z"
   },
   {
    "duration": 134,
    "start_time": "2022-10-20T15:56:39.681Z"
   },
   {
    "duration": 37,
    "start_time": "2022-10-20T15:56:39.817Z"
   },
   {
    "duration": 198,
    "start_time": "2022-10-20T15:56:39.856Z"
   },
   {
    "duration": 32,
    "start_time": "2022-10-20T15:56:40.055Z"
   },
   {
    "duration": 16,
    "start_time": "2022-10-20T15:56:40.089Z"
   },
   {
    "duration": 53,
    "start_time": "2022-10-20T15:56:40.107Z"
   },
   {
    "duration": 61,
    "start_time": "2022-10-20T15:56:40.162Z"
   },
   {
    "duration": 47,
    "start_time": "2022-10-20T15:56:40.225Z"
   },
   {
    "duration": 48,
    "start_time": "2022-10-20T15:56:40.274Z"
   },
   {
    "duration": 39,
    "start_time": "2022-10-20T15:56:40.324Z"
   },
   {
    "duration": 35,
    "start_time": "2022-10-20T15:56:40.364Z"
   },
   {
    "duration": 5,
    "start_time": "2022-10-20T15:56:40.400Z"
   },
   {
    "duration": 28,
    "start_time": "2022-10-20T15:56:40.407Z"
   },
   {
    "duration": 421,
    "start_time": "2022-10-20T15:56:40.455Z"
   },
   {
    "duration": 14,
    "start_time": "2022-10-20T15:56:40.879Z"
   },
   {
    "duration": 14,
    "start_time": "2022-10-20T15:56:40.895Z"
   },
   {
    "duration": 8,
    "start_time": "2022-10-20T15:56:40.911Z"
   },
   {
    "duration": 35,
    "start_time": "2022-10-20T15:56:40.920Z"
   },
   {
    "duration": 5,
    "start_time": "2022-10-20T15:56:40.957Z"
   },
   {
    "duration": 11,
    "start_time": "2022-10-20T15:56:40.964Z"
   },
   {
    "duration": 14,
    "start_time": "2022-10-20T15:56:40.977Z"
   },
   {
    "duration": 8,
    "start_time": "2022-10-20T15:56:40.993Z"
   },
   {
    "duration": 21,
    "start_time": "2022-10-20T15:56:41.002Z"
   },
   {
    "duration": 35,
    "start_time": "2022-10-20T15:56:41.024Z"
   },
   {
    "duration": 4,
    "start_time": "2022-10-20T15:56:41.061Z"
   },
   {
    "duration": 8,
    "start_time": "2022-10-20T15:56:41.067Z"
   },
   {
    "duration": 6,
    "start_time": "2022-10-20T15:56:41.076Z"
   },
   {
    "duration": 10,
    "start_time": "2022-10-20T15:56:41.084Z"
   },
   {
    "duration": 10,
    "start_time": "2022-10-20T15:56:41.096Z"
   }
  ],
  "kernelspec": {
   "display_name": "Python 3 (ipykernel)",
   "language": "python",
   "name": "python3"
  },
  "language_info": {
   "codemirror_mode": {
    "name": "ipython",
    "version": 3
   },
   "file_extension": ".py",
   "mimetype": "text/x-python",
   "name": "python",
   "nbconvert_exporter": "python",
   "pygments_lexer": "ipython3",
   "version": "3.9.7"
  },
  "toc": {
   "base_numbering": 1,
   "nav_menu": {},
   "number_sections": true,
   "sideBar": true,
   "skip_h1_title": true,
   "title_cell": "Анализ системы лояльности магазина строительных материалов",
   "title_sidebar": "Анализ системы лояльности магазина строительных материалов",
   "toc_cell": true,
   "toc_position": {
    "height": "calc(100% - 180px)",
    "left": "10px",
    "top": "150px",
    "width": "220.55px"
   },
   "toc_section_display": true,
   "toc_window_display": true
  }
 },
 "nbformat": 4,
 "nbformat_minor": 5
}
